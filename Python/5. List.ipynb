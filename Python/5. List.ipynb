{
 "cells": [
  {
   "cell_type": "markdown",
   "id": "de54b65f",
   "metadata": {},
   "source": [
    "## Lists\n",
    "\n",
    "There are four collection data types in Python :\n",
    "\n",
    "- List: is a collection which is ordered and changeable(modifiable). Allows duplicate members.\n",
    "- Tuple: is a collection which is ordered and unchangeable or unmodifiable(immutable). Allows duplicate members.\n",
    "- Set: is a collection which is unordered, un-indexed and unmodifiable, but we can add new items to the set. Duplicate members are not allowed.\n",
    "- Dictionary: is a collection which is unordered, changeable(modifiable) and indexed. No duplicate members.\n",
    "\n",
    "A list is collection of different data types which is ordered and modifiable(mutable). A list can be empty or it may have different data type items.\n"
   ]
  },
  {
   "cell_type": "code",
   "execution_count": 2,
   "id": "3d483826",
   "metadata": {},
   "outputs": [
    {
     "name": "stdout",
     "output_type": "stream",
     "text": [
      "0\n"
     ]
    }
   ],
   "source": [
    "### How to Create a List\n",
    "\n",
    "# In Python we can create lists in two ways:\n",
    "\n",
    "# Using list built-in function\n",
    "\n",
    " \n",
    "# syntax\n",
    "lst = list()\n",
    " \n",
    "empty_list = list() # this is an empty list, no item in the list\n",
    "print(len(empty_list)) # 0\n",
    " "
   ]
  },
  {
   "cell_type": "code",
   "execution_count": 3,
   "id": "71b26cb3",
   "metadata": {},
   "outputs": [],
   "source": [
    "sett = {2,3,4,5,\"a\"}"
   ]
  },
  {
   "cell_type": "code",
   "execution_count": 4,
   "id": "369c0a70",
   "metadata": {},
   "outputs": [
    {
     "data": {
      "text/plain": [
       "set"
      ]
     },
     "execution_count": 4,
     "metadata": {},
     "output_type": "execute_result"
    }
   ],
   "source": [
    "type(sett)"
   ]
  },
  {
   "cell_type": "code",
   "execution_count": 5,
   "id": "a9954775",
   "metadata": {},
   "outputs": [
    {
     "data": {
      "text/plain": [
       "[2, 3, 4, 5, 'a']"
      ]
     },
     "execution_count": 5,
     "metadata": {},
     "output_type": "execute_result"
    }
   ],
   "source": [
    "list(sett)"
   ]
  },
  {
   "cell_type": "code",
   "execution_count": 6,
   "id": "78fb7fb3",
   "metadata": {},
   "outputs": [
    {
     "data": {
      "text/plain": [
       "5"
      ]
     },
     "execution_count": 6,
     "metadata": {},
     "output_type": "execute_result"
    }
   ],
   "source": [
    "len(sett)"
   ]
  },
  {
   "cell_type": "code",
   "execution_count": 7,
   "id": "20815db2",
   "metadata": {},
   "outputs": [
    {
     "data": {
      "text/plain": [
       "list"
      ]
     },
     "execution_count": 7,
     "metadata": {},
     "output_type": "execute_result"
    }
   ],
   "source": [
    "type(list(sett))"
   ]
  },
  {
   "cell_type": "code",
   "execution_count": 8,
   "id": "7965e4a5",
   "metadata": {},
   "outputs": [
    {
     "name": "stdout",
     "output_type": "stream",
     "text": [
      "0\n"
     ]
    }
   ],
   "source": [
    "# Using square brackets, []\n",
    "\n",
    "\n",
    "# syntax\n",
    "lst = []\n",
    " \n",
    "empty_list = [] # this is an empty list, no item in the list\n",
    "print(len(empty_list)) # 0\n",
    " "
   ]
  },
  {
   "cell_type": "code",
   "execution_count": 9,
   "id": "663b80a0",
   "metadata": {},
   "outputs": [],
   "source": [
    "# Lists with initial values. We use _len()_ to find the length of a list.\n",
    "\n",
    "\n",
    "fruits = ['banana', 'orange', 'mango', 'lemon']                     # list of fruits\n",
    "vegetables = ['Tomato', 'Potato', 'Cabbage','Onion', 'Carrot']      # list of vegetables\n",
    "animal_products = ['milk', 'meat', 'butter', 'yoghurt']             # list of animal products\n",
    "web_techs = ['HTML', 'CSS', 'JS', 'React','Redux', 'Node', 'MongDB'] # list of web technologies\n",
    "countries = ['Finland', 'Estonia', 'Denmark', 'Sweden', 'Norway']"
   ]
  },
  {
   "cell_type": "code",
   "execution_count": 10,
   "id": "108af7b3",
   "metadata": {},
   "outputs": [
    {
     "data": {
      "text/plain": [
       "['banana', 'orange', 'mango', 'lemon']"
      ]
     },
     "execution_count": 10,
     "metadata": {},
     "output_type": "execute_result"
    }
   ],
   "source": [
    "fruits"
   ]
  },
  {
   "cell_type": "code",
   "execution_count": 11,
   "id": "7e587692",
   "metadata": {},
   "outputs": [
    {
     "data": {
      "text/plain": [
       "['Tomato', 'Potato', 'Cabbage', 'Onion', 'Carrot']"
      ]
     },
     "execution_count": 11,
     "metadata": {},
     "output_type": "execute_result"
    }
   ],
   "source": [
    "vegetables"
   ]
  },
  {
   "cell_type": "code",
   "execution_count": 12,
   "id": "e1cd08ae",
   "metadata": {},
   "outputs": [
    {
     "data": {
      "text/plain": [
       "list"
      ]
     },
     "execution_count": 12,
     "metadata": {},
     "output_type": "execute_result"
    }
   ],
   "source": [
    "type(vegetables)"
   ]
  },
  {
   "cell_type": "code",
   "execution_count": 13,
   "id": "a22418cd",
   "metadata": {},
   "outputs": [
    {
     "name": "stdout",
     "output_type": "stream",
     "text": [
      "['banana', 'orange', 'mango', 'lemon']\n"
     ]
    }
   ],
   "source": [
    "print(fruits)"
   ]
  },
  {
   "cell_type": "code",
   "execution_count": 14,
   "id": "0288cd6a",
   "metadata": {},
   "outputs": [
    {
     "name": "stdout",
     "output_type": "stream",
     "text": [
      "Fruits: ['banana', 'orange', 'mango', 'lemon']\n"
     ]
    }
   ],
   "source": [
    "print('Fruits:', fruits)"
   ]
  },
  {
   "cell_type": "code",
   "execution_count": 15,
   "id": "e8c57750",
   "metadata": {},
   "outputs": [
    {
     "name": "stdout",
     "output_type": "stream",
     "text": [
      "Number of fruits: 4\n"
     ]
    }
   ],
   "source": [
    "print('Number of fruits:', len(fruits))"
   ]
  },
  {
   "cell_type": "code",
   "execution_count": 16,
   "id": "db8422f2",
   "metadata": {},
   "outputs": [
    {
     "name": "stdout",
     "output_type": "stream",
     "text": [
      "Fruits: ['banana', 'orange', 'mango', 'lemon']\n",
      "Number of fruits: 4\n",
      "Vegetables: ['Tomato', 'Potato', 'Cabbage', 'Onion', 'Carrot']\n",
      "Number of vegetables: 5\n",
      "Animal products: ['milk', 'meat', 'butter', 'yoghurt']\n",
      "Number of animal products: 4\n",
      "Web technologies: ['HTML', 'CSS', 'JS', 'React', 'Redux', 'Node', 'MongDB']\n",
      "Number of web technologies: 7\n",
      "Countries: ['Finland', 'Estonia', 'Denmark', 'Sweden', 'Norway']\n",
      "Number of countries: 5\n"
     ]
    }
   ],
   "source": [
    "# Print the lists and its length\n",
    "print('Fruits:', fruits)\n",
    "print('Number of fruits:', len(fruits))\n",
    "print('Vegetables:', vegetables)\n",
    "print('Number of vegetables:', len(vegetables))\n",
    "print('Animal products:',animal_products)\n",
    "print('Number of animal products:', len(animal_products))\n",
    "print('Web technologies:', web_techs)\n",
    "print('Number of web technologies:', len(web_techs))\n",
    "print('Countries:', countries)\n",
    "print('Number of countries:', len(countries))"
   ]
  },
  {
   "cell_type": "code",
   "execution_count": 17,
   "id": "9c288e11",
   "metadata": {},
   "outputs": [],
   "source": [
    "# Lists can have items of different data types\n",
    "\n",
    " \n",
    "lst = ['Asabeneh', 250, True, {'country':'Finland', 'city':'Helsinki'}] # list containing different data types"
   ]
  },
  {
   "cell_type": "code",
   "execution_count": 18,
   "id": "ce7bc684",
   "metadata": {},
   "outputs": [
    {
     "data": {
      "text/plain": [
       "['Asabeneh', 250, True, {'country': 'Finland', 'city': 'Helsinki'}]"
      ]
     },
     "execution_count": 18,
     "metadata": {},
     "output_type": "execute_result"
    }
   ],
   "source": [
    "lst"
   ]
  },
  {
   "cell_type": "code",
   "execution_count": 19,
   "id": "7855e56a",
   "metadata": {},
   "outputs": [
    {
     "data": {
      "text/plain": [
       "4"
      ]
     },
     "execution_count": 19,
     "metadata": {},
     "output_type": "execute_result"
    }
   ],
   "source": [
    "len(lst)"
   ]
  },
  {
   "cell_type": "code",
   "execution_count": null,
   "id": "28c52e7e",
   "metadata": {},
   "outputs": [],
   "source": [
    "### Accessing List Items Using Positive Indexing\n",
    "\n",
    "We access each item in a list using their index. A list index starts from 0. The picture below shows clearly where the index starts\n",
    "![List index](../images/list_index.png)\n",
    "\n",
    "```py\n",
    "fruits = ['banana', 'orange', 'mango', 'lemon']\n",
    "first_fruit = fruits[0] # we are accessing the first item using its index\n",
    "print(first_fruit)      # banana\n",
    "second_fruit = fruits[1]\n",
    "print(second_fruit)     # orange\n",
    "last_fruit = fruits[3]\n",
    "print(last_fruit) # lemon\n",
    "# Last index\n",
    "last_index = len(fruits) - 1\n",
    "last_fruit = fruits[last_index]"
   ]
  },
  {
   "cell_type": "code",
   "execution_count": 21,
   "id": "f55fa8ae",
   "metadata": {},
   "outputs": [
    {
     "data": {
      "text/plain": [
       "'Tomato'"
      ]
     },
     "execution_count": 21,
     "metadata": {},
     "output_type": "execute_result"
    }
   ],
   "source": [
    "vegetables[0]"
   ]
  },
  {
   "cell_type": "code",
   "execution_count": 22,
   "id": "935a8a08",
   "metadata": {},
   "outputs": [
    {
     "data": {
      "text/plain": [
       "'Onion'"
      ]
     },
     "execution_count": 22,
     "metadata": {},
     "output_type": "execute_result"
    }
   ],
   "source": [
    "vegetables[3]"
   ]
  },
  {
   "cell_type": "code",
   "execution_count": 23,
   "id": "b6cc7585",
   "metadata": {},
   "outputs": [
    {
     "data": {
      "text/plain": [
       "['Tomato', 'Potato', 'Cabbage', 'Onion', 'Carrot']"
      ]
     },
     "execution_count": 23,
     "metadata": {},
     "output_type": "execute_result"
    }
   ],
   "source": [
    "vegetables"
   ]
  },
  {
   "cell_type": "code",
   "execution_count": 24,
   "id": "43f05790",
   "metadata": {},
   "outputs": [
    {
     "data": {
      "text/plain": [
       "'Carrot'"
      ]
     },
     "execution_count": 24,
     "metadata": {},
     "output_type": "execute_result"
    }
   ],
   "source": [
    "vegetables[-1]"
   ]
  },
  {
   "cell_type": "code",
   "execution_count": 25,
   "id": "87ea8b55",
   "metadata": {},
   "outputs": [
    {
     "data": {
      "text/plain": [
       "'Cabbage'"
      ]
     },
     "execution_count": 25,
     "metadata": {},
     "output_type": "execute_result"
    }
   ],
   "source": [
    "vegetables[-3]"
   ]
  },
  {
   "cell_type": "code",
   "execution_count": 26,
   "id": "bcd6d4f9",
   "metadata": {},
   "outputs": [
    {
     "data": {
      "text/plain": [
       "5"
      ]
     },
     "execution_count": 26,
     "metadata": {},
     "output_type": "execute_result"
    }
   ],
   "source": [
    "len(vegetables)"
   ]
  },
  {
   "cell_type": "code",
   "execution_count": 29,
   "id": "e172ec62",
   "metadata": {},
   "outputs": [
    {
     "ename": "IndexError",
     "evalue": "list index out of range",
     "output_type": "error",
     "traceback": [
      "\u001b[1;31m---------------------------------------------------------------------------\u001b[0m",
      "\u001b[1;31mIndexError\u001b[0m                                Traceback (most recent call last)",
      "Cell \u001b[1;32mIn[29], line 1\u001b[0m\n\u001b[1;32m----> 1\u001b[0m vegetables[\u001b[38;5;241m5\u001b[39m]\n",
      "\u001b[1;31mIndexError\u001b[0m: list index out of range"
     ]
    }
   ],
   "source": [
    "vegetables[5]"
   ]
  },
  {
   "cell_type": "code",
   "execution_count": 30,
   "id": "dbcd3a71",
   "metadata": {},
   "outputs": [
    {
     "data": {
      "text/plain": [
       "4"
      ]
     },
     "execution_count": 30,
     "metadata": {},
     "output_type": "execute_result"
    }
   ],
   "source": [
    "len(vegetables)-1"
   ]
  },
  {
   "cell_type": "code",
   "execution_count": 32,
   "id": "0825dc23",
   "metadata": {},
   "outputs": [
    {
     "data": {
      "text/plain": [
       "3"
      ]
     },
     "execution_count": 32,
     "metadata": {},
     "output_type": "execute_result"
    }
   ],
   "source": [
    "len(fruits) - 1"
   ]
  },
  {
   "cell_type": "code",
   "execution_count": 34,
   "id": "ffc56931",
   "metadata": {},
   "outputs": [],
   "source": [
    "# slicing"
   ]
  },
  {
   "cell_type": "code",
   "execution_count": 35,
   "id": "e36a1580",
   "metadata": {},
   "outputs": [
    {
     "data": {
      "text/plain": [
       "['HTML', 'CSS', 'JS', 'React', 'Redux', 'Node', 'MongDB']"
      ]
     },
     "execution_count": 35,
     "metadata": {},
     "output_type": "execute_result"
    }
   ],
   "source": [
    "web_techs"
   ]
  },
  {
   "cell_type": "code",
   "execution_count": 37,
   "id": "6189569a",
   "metadata": {},
   "outputs": [
    {
     "data": {
      "text/plain": [
       "['HTML', 'CSS', 'JS', 'React', 'Redux', 'Node', 'MongDB']"
      ]
     },
     "execution_count": 37,
     "metadata": {},
     "output_type": "execute_result"
    }
   ],
   "source": [
    "web_techs[:]"
   ]
  },
  {
   "cell_type": "code",
   "execution_count": 38,
   "id": "4dbed92a",
   "metadata": {},
   "outputs": [
    {
     "data": {
      "text/plain": [
       "['React', 'Redux', 'Node', 'MongDB']"
      ]
     },
     "execution_count": 38,
     "metadata": {},
     "output_type": "execute_result"
    }
   ],
   "source": [
    "web_techs[3:]"
   ]
  },
  {
   "cell_type": "code",
   "execution_count": 40,
   "id": "04867aed",
   "metadata": {},
   "outputs": [
    {
     "data": {
      "text/plain": [
       "['HTML', 'CSS', 'JS', 'React', 'Redux']"
      ]
     },
     "execution_count": 40,
     "metadata": {},
     "output_type": "execute_result"
    }
   ],
   "source": [
    "web_techs[:5]"
   ]
  },
  {
   "cell_type": "code",
   "execution_count": 42,
   "id": "1f0c9f93",
   "metadata": {},
   "outputs": [
    {
     "data": {
      "text/plain": [
       "['CSS', 'JS', 'React', 'Redux', 'Node']"
      ]
     },
     "execution_count": 42,
     "metadata": {},
     "output_type": "execute_result"
    }
   ],
   "source": [
    "web_techs[1:6]"
   ]
  },
  {
   "cell_type": "code",
   "execution_count": 44,
   "id": "55a027e7",
   "metadata": {},
   "outputs": [
    {
     "data": {
      "text/plain": [
       "['HTML', 'CSS', 'JS', 'React']"
      ]
     },
     "execution_count": 44,
     "metadata": {},
     "output_type": "execute_result"
    }
   ],
   "source": [
    "web_techs[:4]"
   ]
  },
  {
   "cell_type": "code",
   "execution_count": 47,
   "id": "47954151",
   "metadata": {},
   "outputs": [
    {
     "data": {
      "text/plain": [
       "['HTML', 'JS', 'Redux', 'MongDB']"
      ]
     },
     "execution_count": 47,
     "metadata": {},
     "output_type": "execute_result"
    }
   ],
   "source": [
    "web_techs[0:7:2]"
   ]
  },
  {
   "cell_type": "code",
   "execution_count": 48,
   "id": "53124cc1",
   "metadata": {},
   "outputs": [
    {
     "data": {
      "text/plain": [
       "[]"
      ]
     },
     "execution_count": 48,
     "metadata": {},
     "output_type": "execute_result"
    }
   ],
   "source": [
    "web_techs[0:7:-2]"
   ]
  },
  {
   "cell_type": "code",
   "execution_count": 54,
   "id": "1e1ed92a",
   "metadata": {},
   "outputs": [
    {
     "data": {
      "text/plain": [
       "['MongDB', 'Redux', 'JS']"
      ]
     },
     "execution_count": 54,
     "metadata": {},
     "output_type": "execute_result"
    }
   ],
   "source": [
    "web_techs[7:0:-2]"
   ]
  },
  {
   "cell_type": "code",
   "execution_count": 50,
   "id": "6b1b0752",
   "metadata": {},
   "outputs": [
    {
     "data": {
      "text/plain": [
       "['MongDB', 'Redux', 'JS', 'HTML']"
      ]
     },
     "execution_count": 50,
     "metadata": {},
     "output_type": "execute_result"
    }
   ],
   "source": [
    "web_techs[::-2]"
   ]
  },
  {
   "cell_type": "code",
   "execution_count": 51,
   "id": "a9baf61b",
   "metadata": {},
   "outputs": [
    {
     "data": {
      "text/plain": [
       "['HTML', 'CSS', 'JS', 'React', 'Redux', 'Node', 'MongDB']"
      ]
     },
     "execution_count": 51,
     "metadata": {},
     "output_type": "execute_result"
    }
   ],
   "source": [
    "web_techs"
   ]
  },
  {
   "cell_type": "code",
   "execution_count": 55,
   "id": "92fd119f",
   "metadata": {},
   "outputs": [
    {
     "data": {
      "text/plain": [
       "['MongDB', 'Node', 'Redux', 'React', 'JS', 'CSS', 'HTML']"
      ]
     },
     "execution_count": 55,
     "metadata": {},
     "output_type": "execute_result"
    }
   ],
   "source": [
    "web_techs[::-1]"
   ]
  },
  {
   "cell_type": "code",
   "execution_count": 56,
   "id": "f2dbf687",
   "metadata": {},
   "outputs": [
    {
     "data": {
      "text/plain": [
       "['HTML', 'CSS', 'JS', 'React', 'Redux', 'Node', 'MongDB']"
      ]
     },
     "execution_count": 56,
     "metadata": {},
     "output_type": "execute_result"
    }
   ],
   "source": [
    "web_techs[::1]"
   ]
  },
  {
   "cell_type": "code",
   "execution_count": 58,
   "id": "c9c6ba60",
   "metadata": {},
   "outputs": [],
   "source": [
    "### Modifying Lists\n",
    "\n",
    "# List is a mutable or modifiable ordered collection of items. Lets modify the fruit list.\n",
    "\n",
    "fruits = ['banana', 'orange', 'mango', 'lemon']"
   ]
  },
  {
   "cell_type": "code",
   "execution_count": 60,
   "id": "4f8fb5c1",
   "metadata": {},
   "outputs": [],
   "source": [
    "fruits[1]= \"CHIKU\""
   ]
  },
  {
   "cell_type": "code",
   "execution_count": 62,
   "id": "a221ca5f",
   "metadata": {},
   "outputs": [
    {
     "ename": "IndexError",
     "evalue": "list assignment index out of range",
     "output_type": "error",
     "traceback": [
      "\u001b[1;31m---------------------------------------------------------------------------\u001b[0m",
      "\u001b[1;31mIndexError\u001b[0m                                Traceback (most recent call last)",
      "Cell \u001b[1;32mIn[62], line 1\u001b[0m\n\u001b[1;32m----> 1\u001b[0m fruits[\u001b[38;5;241m4\u001b[39m]\u001b[38;5;241m=\u001b[39m  \u001b[38;5;124m\"\u001b[39m\u001b[38;5;124morange\u001b[39m\u001b[38;5;124m\"\u001b[39m\n",
      "\u001b[1;31mIndexError\u001b[0m: list assignment index out of range"
     ]
    }
   ],
   "source": [
    "fruits[4]=  \"orange\""
   ]
  },
  {
   "cell_type": "code",
   "execution_count": 64,
   "id": "b715d543",
   "metadata": {},
   "outputs": [
    {
     "data": {
      "text/plain": [
       "['banana', 'CHIKU', 'mango', 'lemon']"
      ]
     },
     "execution_count": 64,
     "metadata": {},
     "output_type": "execute_result"
    }
   ],
   "source": [
    "fruits"
   ]
  },
  {
   "cell_type": "code",
   "execution_count": 66,
   "id": "41876e3b",
   "metadata": {},
   "outputs": [
    {
     "data": {
      "text/plain": [
       "['HTML', 'CSS', 'JS', 'React', 'Redux', 'Node', 'MongDB']"
      ]
     },
     "execution_count": 66,
     "metadata": {},
     "output_type": "execute_result"
    }
   ],
   "source": [
    "web_techs"
   ]
  },
  {
   "cell_type": "code",
   "execution_count": 68,
   "id": "408e7a55",
   "metadata": {},
   "outputs": [],
   "source": [
    "var  =fruits + web_techs"
   ]
  },
  {
   "cell_type": "code",
   "execution_count": 70,
   "id": "b56f74e8",
   "metadata": {},
   "outputs": [],
   "source": [
    "var[1] = \"orange\""
   ]
  },
  {
   "cell_type": "code",
   "execution_count": 71,
   "id": "f1e0f4f5",
   "metadata": {},
   "outputs": [
    {
     "data": {
      "text/plain": [
       "['banana',\n",
       " 'orange',\n",
       " 'mango',\n",
       " 'lemon',\n",
       " 'HTML',\n",
       " 'CSS',\n",
       " 'JS',\n",
       " 'React',\n",
       " 'Redux',\n",
       " 'Node',\n",
       " 'MongDB']"
      ]
     },
     "execution_count": 71,
     "metadata": {},
     "output_type": "execute_result"
    }
   ],
   "source": [
    "var"
   ]
  },
  {
   "cell_type": "code",
   "execution_count": 72,
   "id": "e4f80d1f",
   "metadata": {},
   "outputs": [
    {
     "data": {
      "text/plain": [
       "['banana',\n",
       " 'orange',\n",
       " 'mango',\n",
       " 'lemon',\n",
       " 'HTML',\n",
       " 'CSS',\n",
       " 'JS',\n",
       " 'React',\n",
       " 'Redux',\n",
       " 'Node',\n",
       " 'MongDB',\n",
       " 'banana',\n",
       " 'orange',\n",
       " 'mango',\n",
       " 'lemon',\n",
       " 'HTML',\n",
       " 'CSS',\n",
       " 'JS',\n",
       " 'React',\n",
       " 'Redux',\n",
       " 'Node',\n",
       " 'MongDB']"
      ]
     },
     "execution_count": 72,
     "metadata": {},
     "output_type": "execute_result"
    }
   ],
   "source": [
    "var*2"
   ]
  },
  {
   "cell_type": "code",
   "execution_count": null,
   "id": "0f434c96",
   "metadata": {},
   "outputs": [],
   "source": []
  }
 ],
 "metadata": {
  "kernelspec": {
   "display_name": "Python 3 (ipykernel)",
   "language": "python",
   "name": "python3"
  },
  "language_info": {
   "codemirror_mode": {
    "name": "ipython",
    "version": 3
   },
   "file_extension": ".py",
   "mimetype": "text/x-python",
   "name": "python",
   "nbconvert_exporter": "python",
   "pygments_lexer": "ipython3",
   "version": "3.11.5"
  }
 },
 "nbformat": 4,
 "nbformat_minor": 5
}
