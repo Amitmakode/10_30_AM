{
 "cells": [
  {
   "cell_type": "code",
   "execution_count": null,
   "id": "ae21ec45-a5ea-45f9-84ef-d08be5b408e8",
   "metadata": {},
   "outputs": [],
   "source": [
    "!pip install numpy"
   ]
  },
  {
   "cell_type": "code",
   "execution_count": 1,
   "id": "e24da4ae-4e6d-4c3e-8dd6-cea6c0f87489",
   "metadata": {},
   "outputs": [],
   "source": [
    "import numpy as np"
   ]
  },
  {
   "cell_type": "markdown",
   "id": "1abaea6d-2f9f-4785-8c58-c1f78d191b4e",
   "metadata": {},
   "source": [
    "### Numpy:Introduction\n",
    "\n",
    "- NumPy is a Open Source Python package. It stands for **Numerical Python**. It is a library consisting of multidimensional array objects and a collection of routines for processing of array.\n",
    "\n",
    "- NumPy is the fundamental package for scientific computing with Python , having following important functionalities: \n",
    "     - A powerful N-dimensional array object\n",
    "     - A sophisticated (broadcasting) functions\n",
    "     - Contains tools for integrating C/C++ and Fortran code\n",
    "     - Have  useful  linear algebra, Fourier transform, and random number capabilities"
   ]
  },
  {
   "cell_type": "markdown",
   "id": "a3ac46e2-ceee-4f91-8384-bde3a4d49058",
   "metadata": {},
   "source": [
    "### Why NuMpy?\n",
    "\n",
    "- Mathematical and logical operations on **arrays**.\n",
    "\n",
    "- Efficient storage and manipulation of **numerical arrays** is which is fundamental in  the process of  **data science**.\n",
    "\n",
    "- NumPy arrays form the core of nearly the entire **ecosystem** of **data science** tools in Python,"
   ]
  },
  {
   "cell_type": "code",
   "execution_count": 2,
   "id": "794207c0-43cf-4adf-ad4a-e883e9547286",
   "metadata": {},
   "outputs": [],
   "source": [
    "## Arrays are homogeneous (same data type)"
   ]
  },
  {
   "cell_type": "code",
   "execution_count": null,
   "id": "3790e5b1-e0f4-4322-b4af-9c28d5e55b67",
   "metadata": {},
   "outputs": [],
   "source": [
    "## It is a table of elements (typically numbers),all of the similar type, indexed by a tuple of positive integers"
   ]
  },
  {
   "cell_type": "code",
   "execution_count": 3,
   "id": "d1760023-f458-46fc-b328-ce054301c65e",
   "metadata": {},
   "outputs": [],
   "source": [
    "### NumPy's array class is know as ndarray.Even , it is known by the alias array"
   ]
  },
  {
   "cell_type": "code",
   "execution_count": 4,
   "id": "621ed2fa-027b-4056-865d-13f3e5035f0b",
   "metadata": {},
   "outputs": [
    {
     "name": "stdout",
     "output_type": "stream",
     "text": [
      "pure python version= 2.8661367893218994\n",
      "numpy = 0.033350229263305664\n"
     ]
    }
   ],
   "source": [
    "import time as tm\n",
    "\n",
    "size_1 = 10000000\n",
    "\n",
    "def pure_python_version():\n",
    "    start_time_pp =  tm.time() ## time of start of code execution\n",
    "    list1 = range(size_1)\n",
    "    list2 = range(size_1)\n",
    "    sum_list=[list1[i]+list2[i] for i in range(len(list1))]\n",
    "    end_time_pp =  tm.time()\n",
    "    return end_time_pp - start_time_pp ## end time for execution (difference)\n",
    "\n",
    "def numpy_version():\n",
    "    start_time_np = tm.time()\n",
    "    array1 = np.arange(size_1)\n",
    "    array2 =  np.arange(size_1)\n",
    "    sum_array = array1 + array2\n",
    "    end_time_np = tm.time()\n",
    "    return end_time_np - start_time_np ## end time for execution (difference)\n",
    "\n",
    "python_time = pure_python_version()\n",
    "numpy_time  = numpy_version()\n",
    "\n",
    "print(\"pure python version=\",python_time)\n",
    "print(\"numpy =\",numpy_time)"
   ]
  },
  {
   "cell_type": "code",
   "execution_count": null,
   "id": "0f0d8531-db24-4618-8f61-7993d0532235",
   "metadata": {},
   "outputs": [],
   "source": []
  },
  {
   "cell_type": "code",
   "execution_count": 5,
   "id": "2fc78daa-34c8-4a57-b3fb-b191a376159d",
   "metadata": {},
   "outputs": [
    {
     "name": "stdout",
     "output_type": "stream",
     "text": [
      "(1, 2, 3, 4, 5)\n"
     ]
    }
   ],
   "source": [
    "a =(1,2,3,4,5)\n",
    "\n",
    "print(a)"
   ]
  },
  {
   "cell_type": "code",
   "execution_count": 6,
   "id": "32448ab2-31e9-4a58-8a2a-95534edb75f4",
   "metadata": {},
   "outputs": [
    {
     "name": "stdout",
     "output_type": "stream",
     "text": [
      "[1 2 3 4 5]\n"
     ]
    }
   ],
   "source": [
    "b= np.array(a)\n",
    "print(b)"
   ]
  },
  {
   "cell_type": "code",
   "execution_count": 8,
   "id": "42bb5d1d-ec01-43a1-a9f5-589214d2e817",
   "metadata": {},
   "outputs": [
    {
     "data": {
      "text/plain": [
       "tuple"
      ]
     },
     "execution_count": 8,
     "metadata": {},
     "output_type": "execute_result"
    }
   ],
   "source": [
    "type(a)"
   ]
  },
  {
   "cell_type": "code",
   "execution_count": 9,
   "id": "bfd22d02-342a-40f7-85f4-26d18a648b29",
   "metadata": {},
   "outputs": [
    {
     "data": {
      "text/plain": [
       "numpy.ndarray"
      ]
     },
     "execution_count": 9,
     "metadata": {},
     "output_type": "execute_result"
    }
   ],
   "source": [
    "type(b)"
   ]
  },
  {
   "cell_type": "code",
   "execution_count": 10,
   "id": "a521af9e-2307-4bf9-9584-afaa451ea17f",
   "metadata": {},
   "outputs": [
    {
     "data": {
      "text/plain": [
       "(5,)"
      ]
     },
     "execution_count": 10,
     "metadata": {},
     "output_type": "execute_result"
    }
   ],
   "source": [
    "b.shape"
   ]
  },
  {
   "cell_type": "code",
   "execution_count": 11,
   "id": "6bb16e69-056b-4918-9ea6-d45ad6f2c8f8",
   "metadata": {},
   "outputs": [
    {
     "data": {
      "text/plain": [
       "5"
      ]
     },
     "execution_count": 11,
     "metadata": {},
     "output_type": "execute_result"
    }
   ],
   "source": [
    "b.size"
   ]
  },
  {
   "cell_type": "code",
   "execution_count": 12,
   "id": "29b3fab5-0602-43a7-91a8-ffbe14623420",
   "metadata": {},
   "outputs": [
    {
     "data": {
      "text/plain": [
       "1"
      ]
     },
     "execution_count": 12,
     "metadata": {},
     "output_type": "execute_result"
    }
   ],
   "source": [
    "b.ndim"
   ]
  },
  {
   "cell_type": "code",
   "execution_count": 73,
   "id": "4914bbe0-94ce-439e-994b-78995c037730",
   "metadata": {},
   "outputs": [
    {
     "name": "stdout",
     "output_type": "stream",
     "text": [
      "[[[[[[[[[[1 2 3 7 5 1]]]]]]]]]]\n"
     ]
    },
    {
     "data": {
      "text/plain": [
       "10"
      ]
     },
     "execution_count": 73,
     "metadata": {},
     "output_type": "execute_result"
    }
   ],
   "source": [
    "a10 = np.array([1, 2, 3, 7, 5, 1], ndmin = 10) \n",
    "print (a)\n",
    "np.ndim(a)"
   ]
  },
  {
   "cell_type": "code",
   "execution_count": 14,
   "id": "efd0f5eb-2a2e-4398-8475-a264ae1a2c76",
   "metadata": {},
   "outputs": [
    {
     "name": "stdout",
     "output_type": "stream",
     "text": [
      "[1.+0.j 2.+0.j 3.+0.j]\n"
     ]
    }
   ],
   "source": [
    "a = np.array([1, 2, 3], dtype = complex) \n",
    "print (a)"
   ]
  },
  {
   "cell_type": "code",
   "execution_count": 15,
   "id": "f8eb0411-4aa4-4a9a-8caf-cc69c26488a8",
   "metadata": {},
   "outputs": [
    {
     "data": {
      "text/plain": [
       "numpy.ndarray"
      ]
     },
     "execution_count": 15,
     "metadata": {},
     "output_type": "execute_result"
    }
   ],
   "source": [
    "array_2 = [[1,2,3],[4,5,6],[7,8,9]]\n",
    "array_3= np.array(array_2)\n",
    "array_3\n",
    "type(array_3)"
   ]
  },
  {
   "cell_type": "code",
   "execution_count": 16,
   "id": "a48af51d-2e9b-4aff-94f7-cd93c6978e5e",
   "metadata": {},
   "outputs": [
    {
     "data": {
      "text/plain": [
       "array([[1, 2, 3],\n",
       "       [4, 5, 6],\n",
       "       [7, 8, 9]])"
      ]
     },
     "execution_count": 16,
     "metadata": {},
     "output_type": "execute_result"
    }
   ],
   "source": [
    "array_3"
   ]
  },
  {
   "cell_type": "code",
   "execution_count": 17,
   "id": "337d77b3-d56c-4b79-990f-0adf42cae63c",
   "metadata": {},
   "outputs": [
    {
     "data": {
      "text/plain": [
       "(3, 3)"
      ]
     },
     "execution_count": 17,
     "metadata": {},
     "output_type": "execute_result"
    }
   ],
   "source": [
    "array_3.shape"
   ]
  },
  {
   "cell_type": "code",
   "execution_count": 18,
   "id": "e8a569e0-3a06-4927-8f99-da10a34c702b",
   "metadata": {},
   "outputs": [
    {
     "data": {
      "text/plain": [
       "9"
      ]
     },
     "execution_count": 18,
     "metadata": {},
     "output_type": "execute_result"
    }
   ],
   "source": [
    "array_3.size"
   ]
  },
  {
   "cell_type": "code",
   "execution_count": 19,
   "id": "d5993224-e92b-4ab4-9bbf-b2dcd3494b26",
   "metadata": {},
   "outputs": [
    {
     "data": {
      "text/plain": [
       "2"
      ]
     },
     "execution_count": 19,
     "metadata": {},
     "output_type": "execute_result"
    }
   ],
   "source": [
    "array_3.ndim"
   ]
  },
  {
   "cell_type": "code",
   "execution_count": 20,
   "id": "8fc081c1-3e5c-451e-9bae-a9800de61800",
   "metadata": {},
   "outputs": [
    {
     "data": {
      "text/plain": [
       "array([7, 8, 9])"
      ]
     },
     "execution_count": 20,
     "metadata": {},
     "output_type": "execute_result"
    }
   ],
   "source": [
    "array_3[2] "
   ]
  },
  {
   "cell_type": "code",
   "execution_count": 21,
   "id": "05fa79d3-9462-453f-85ac-046b7a8bb021",
   "metadata": {},
   "outputs": [
    {
     "data": {
      "text/plain": [
       "6"
      ]
     },
     "execution_count": 21,
     "metadata": {},
     "output_type": "execute_result"
    }
   ],
   "source": [
    "array_3[1, 2] "
   ]
  },
  {
   "cell_type": "code",
   "execution_count": 22,
   "id": "0901e448-c771-42f7-8704-5d1c47be8773",
   "metadata": {},
   "outputs": [
    {
     "data": {
      "text/plain": [
       "array([3, 6, 9])"
      ]
     },
     "execution_count": 22,
     "metadata": {},
     "output_type": "execute_result"
    }
   ],
   "source": [
    "array_3[:, 2] "
   ]
  },
  {
   "cell_type": "code",
   "execution_count": 23,
   "id": "03ad0a04-c56f-48f4-89f6-f92338188c21",
   "metadata": {},
   "outputs": [
    {
     "data": {
      "text/plain": [
       "array([2, 5, 8])"
      ]
     },
     "execution_count": 23,
     "metadata": {},
     "output_type": "execute_result"
    }
   ],
   "source": [
    "array_3[:, 1]"
   ]
  },
  {
   "cell_type": "code",
   "execution_count": 24,
   "id": "ef87e4a9-9c22-4a8e-aa3b-ef8d52cf2819",
   "metadata": {},
   "outputs": [
    {
     "data": {
      "text/plain": [
       "array([4, 5, 6])"
      ]
     },
     "execution_count": 24,
     "metadata": {},
     "output_type": "execute_result"
    }
   ],
   "source": [
    "array_3[1,:]"
   ]
  },
  {
   "cell_type": "code",
   "execution_count": null,
   "id": "6bc954ef-e68e-440b-ae6d-c4c3b139d4bc",
   "metadata": {},
   "outputs": [],
   "source": []
  },
  {
   "cell_type": "code",
   "execution_count": 25,
   "id": "0764fb73-a517-4cb9-97e3-b617f28ac687",
   "metadata": {},
   "outputs": [
    {
     "data": {
      "text/plain": [
       "array([1, 2, 3, 4, 5, 6, 7, 8, 9])"
      ]
     },
     "execution_count": 25,
     "metadata": {},
     "output_type": "execute_result"
    }
   ],
   "source": [
    "np.arange(1,10)"
   ]
  },
  {
   "cell_type": "code",
   "execution_count": 26,
   "id": "22bded30-c082-461a-8033-ee31551b30e6",
   "metadata": {},
   "outputs": [
    {
     "data": {
      "text/plain": [
       "array([10, 20, 30, 40, 50, 60, 70, 80, 90])"
      ]
     },
     "execution_count": 26,
     "metadata": {},
     "output_type": "execute_result"
    }
   ],
   "source": [
    "np.arange(10,100, 10)"
   ]
  },
  {
   "cell_type": "code",
   "execution_count": 27,
   "id": "d2ea390e-ad48-4dfb-8cf7-9f2b13703953",
   "metadata": {},
   "outputs": [
    {
     "data": {
      "text/plain": [
       "array([100,  90,  80,  70,  60,  50,  40,  30,  20])"
      ]
     },
     "execution_count": 27,
     "metadata": {},
     "output_type": "execute_result"
    }
   ],
   "source": [
    "np.arange(100, 10, -10)"
   ]
  },
  {
   "cell_type": "code",
   "execution_count": 28,
   "id": "4ff90054-58fe-4863-9765-3ece1cea6641",
   "metadata": {},
   "outputs": [
    {
     "data": {
      "text/plain": [
       "array([0, 0, 0])"
      ]
     },
     "execution_count": 28,
     "metadata": {},
     "output_type": "execute_result"
    }
   ],
   "source": [
    "np.zeros(3,dtype=int)"
   ]
  },
  {
   "cell_type": "code",
   "execution_count": 29,
   "id": "0240a533-1271-430c-b898-cc05929960a1",
   "metadata": {},
   "outputs": [
    {
     "data": {
      "text/plain": [
       "array([0, 0, 0, 0, 0, 0, 0, 0, 0])"
      ]
     },
     "execution_count": 29,
     "metadata": {},
     "output_type": "execute_result"
    }
   ],
   "source": [
    "np.zeros(9,dtype=int)"
   ]
  },
  {
   "cell_type": "code",
   "execution_count": 30,
   "id": "60917bea-7543-4190-8c70-fddb4cf2a9ba",
   "metadata": {},
   "outputs": [
    {
     "data": {
      "text/plain": [
       "array([[0, 0, 0],\n",
       "       [0, 0, 0],\n",
       "       [0, 0, 0]])"
      ]
     },
     "execution_count": 30,
     "metadata": {},
     "output_type": "execute_result"
    }
   ],
   "source": [
    "np.zeros((3,3),dtype=int)"
   ]
  },
  {
   "cell_type": "code",
   "execution_count": 32,
   "id": "6e65e0c6-3b3f-4c9b-acce-e21ba47a9360",
   "metadata": {},
   "outputs": [
    {
     "data": {
      "text/plain": [
       "array([[1, 1, 1],\n",
       "       [1, 1, 1],\n",
       "       [1, 1, 1]])"
      ]
     },
     "execution_count": 32,
     "metadata": {},
     "output_type": "execute_result"
    }
   ],
   "source": [
    "np.ones((3,3),dtype=int)"
   ]
  },
  {
   "cell_type": "code",
   "execution_count": 33,
   "id": "6b56358f-14fd-4f54-b60f-2edc2b33556b",
   "metadata": {},
   "outputs": [
    {
     "data": {
      "text/plain": [
       "array([[1, 1, 1, 1],\n",
       "       [1, 1, 1, 1],\n",
       "       [1, 1, 1, 1]])"
      ]
     },
     "execution_count": 33,
     "metadata": {},
     "output_type": "execute_result"
    }
   ],
   "source": [
    "np.ones((3,4),dtype=int)"
   ]
  },
  {
   "cell_type": "code",
   "execution_count": 34,
   "id": "665e8096-07aa-43f2-992f-5a6c98843695",
   "metadata": {},
   "outputs": [
    {
     "data": {
      "text/plain": [
       "array([[1., 0., 0.],\n",
       "       [0., 1., 0.],\n",
       "       [0., 0., 1.]])"
      ]
     },
     "execution_count": 34,
     "metadata": {},
     "output_type": "execute_result"
    }
   ],
   "source": [
    "np.eye(3,3) # Identity matrix"
   ]
  },
  {
   "cell_type": "code",
   "execution_count": 35,
   "id": "d2cae6cc-0cfd-47ee-b5e1-9e190ea935f4",
   "metadata": {},
   "outputs": [
    {
     "data": {
      "text/plain": [
       "array([[1., 0., 0., 0.],\n",
       "       [0., 1., 0., 0.],\n",
       "       [0., 0., 1., 0.]])"
      ]
     },
     "execution_count": 35,
     "metadata": {},
     "output_type": "execute_result"
    }
   ],
   "source": [
    "np.eye(3,4) # Identity matrix"
   ]
  },
  {
   "cell_type": "code",
   "execution_count": 37,
   "id": "958496d5-e349-48ca-a432-6286940f698a",
   "metadata": {},
   "outputs": [
    {
     "data": {
      "text/plain": [
       "array([0.        , 0.44444444, 0.88888889, 1.33333333, 1.77777778,\n",
       "       2.22222222, 2.66666667, 3.11111111, 3.55555556, 4.        ])"
      ]
     },
     "execution_count": 37,
     "metadata": {},
     "output_type": "execute_result"
    }
   ],
   "source": [
    "np.linspace(0,4,10) # (start,end,no of values)"
   ]
  },
  {
   "cell_type": "code",
   "execution_count": 38,
   "id": "76fc586e-0d65-43c4-ad9d-10a3a7162c30",
   "metadata": {},
   "outputs": [
    {
     "data": {
      "text/plain": [
       "array([1.23      , 1.61555556, 2.00111111, 2.38666667, 2.77222222,\n",
       "       3.15777778, 3.54333333, 3.92888889, 4.31444444, 4.7       ])"
      ]
     },
     "execution_count": 38,
     "metadata": {},
     "output_type": "execute_result"
    }
   ],
   "source": [
    "np.linspace(1.23,4.7,10)"
   ]
  },
  {
   "cell_type": "code",
   "execution_count": 39,
   "id": "3d96ebae-eb92-4dfb-8deb-a9152570a866",
   "metadata": {},
   "outputs": [
    {
     "data": {
      "text/plain": [
       "array([-2.        , -1.55555556, -1.11111111, -0.66666667, -0.22222222,\n",
       "        0.22222222,  0.66666667,  1.11111111,  1.55555556,  2.        ])"
      ]
     },
     "execution_count": 39,
     "metadata": {},
     "output_type": "execute_result"
    }
   ],
   "source": [
    "np.linspace(-2,2,10)"
   ]
  },
  {
   "cell_type": "code",
   "execution_count": 43,
   "id": "4f80dbb2-80c6-43eb-ba70-f459353dfcd0",
   "metadata": {},
   "outputs": [
    {
     "data": {
      "text/plain": [
       "array([0.02331116, 0.55952984, 0.24199043, 0.72675409, 0.12538699,\n",
       "       0.45062167, 0.51731814, 0.68054271, 0.94505862, 0.13650429,\n",
       "       0.34025016, 0.48122397, 0.91082328, 0.63791707, 0.06384056,\n",
       "       0.44886197, 0.7413382 , 0.51664682, 0.14879389, 0.46664379])"
      ]
     },
     "execution_count": 43,
     "metadata": {},
     "output_type": "execute_result"
    }
   ],
   "source": [
    "np.random.rand(20)"
   ]
  },
  {
   "cell_type": "code",
   "execution_count": 46,
   "id": "4d5f68c1-25da-4e74-a6cb-01a1b3539d4e",
   "metadata": {},
   "outputs": [
    {
     "data": {
      "text/plain": [
       "array([[0.5269133 , 0.79756094, 0.23652215, 0.47323781, 0.3205158 ],\n",
       "       [0.79170014, 0.25772925, 0.31201865, 0.28216979, 0.04150347]])"
      ]
     },
     "execution_count": 46,
     "metadata": {},
     "output_type": "execute_result"
    }
   ],
   "source": [
    "np.random.rand(2,5)"
   ]
  },
  {
   "cell_type": "code",
   "execution_count": 47,
   "id": "055af1b3-4c1e-4de7-8bd7-0142fa8a79a1",
   "metadata": {},
   "outputs": [
    {
     "data": {
      "text/plain": [
       "array([[1, 2, 3],\n",
       "       [4, 5, 6],\n",
       "       [7, 8, 9]])"
      ]
     },
     "execution_count": 47,
     "metadata": {},
     "output_type": "execute_result"
    }
   ],
   "source": [
    "array_3"
   ]
  },
  {
   "cell_type": "code",
   "execution_count": 48,
   "id": "dd287f90-4ebf-4815-88dc-dcef98781010",
   "metadata": {},
   "outputs": [
    {
     "data": {
      "text/plain": [
       "array([[1, 2, 3, 4, 5, 6, 7, 8, 9]])"
      ]
     },
     "execution_count": 48,
     "metadata": {},
     "output_type": "execute_result"
    }
   ],
   "source": [
    "array_3.reshape(1,9)"
   ]
  },
  {
   "cell_type": "code",
   "execution_count": 50,
   "id": "ed6c0235-caff-4756-8bdf-c88cce46e00c",
   "metadata": {},
   "outputs": [
    {
     "data": {
      "text/plain": [
       "array([[1],\n",
       "       [2],\n",
       "       [3],\n",
       "       [4],\n",
       "       [5],\n",
       "       [6],\n",
       "       [7],\n",
       "       [8],\n",
       "       [9]])"
      ]
     },
     "execution_count": 50,
     "metadata": {},
     "output_type": "execute_result"
    }
   ],
   "source": [
    "array_3.reshape(9,1)"
   ]
  },
  {
   "cell_type": "code",
   "execution_count": 51,
   "id": "4cf89ac6-6d39-4830-a8b5-5b375737e976",
   "metadata": {},
   "outputs": [
    {
     "data": {
      "text/plain": [
       "array([[ 1,  2,  3,  4],\n",
       "       [ 4,  5,  6,  7],\n",
       "       [ 7,  8,  9, 10],\n",
       "       [10, 11, 12, 13]])"
      ]
     },
     "execution_count": 51,
     "metadata": {},
     "output_type": "execute_result"
    }
   ],
   "source": [
    "x=[[1,2,3,4],[4,5,6,7],[7,8,9,10],[10,11,12,13]]\n",
    "x=np.array(x)\n",
    "x"
   ]
  },
  {
   "cell_type": "code",
   "execution_count": 52,
   "id": "db5561a7-c2d3-4e89-91b6-aa50ba60a455",
   "metadata": {},
   "outputs": [
    {
     "data": {
      "text/plain": [
       "1"
      ]
     },
     "execution_count": 52,
     "metadata": {},
     "output_type": "execute_result"
    }
   ],
   "source": [
    "x.min() ## overrall minimum"
   ]
  },
  {
   "cell_type": "code",
   "execution_count": 53,
   "id": "a873906a-001d-43ef-9c2c-831d6f5cbf7b",
   "metadata": {},
   "outputs": [
    {
     "data": {
      "text/plain": [
       "13"
      ]
     },
     "execution_count": 53,
     "metadata": {},
     "output_type": "execute_result"
    }
   ],
   "source": [
    "x.max()"
   ]
  },
  {
   "cell_type": "code",
   "execution_count": 55,
   "id": "80a4c600-e405-4513-81d6-d8ec85d13f98",
   "metadata": {},
   "outputs": [
    {
     "data": {
      "text/plain": [
       "7.0"
      ]
     },
     "execution_count": 55,
     "metadata": {},
     "output_type": "execute_result"
    }
   ],
   "source": [
    "x.mean()"
   ]
  },
  {
   "cell_type": "code",
   "execution_count": 56,
   "id": "bb766b0c-3903-4fbb-aedc-22b05cc938cd",
   "metadata": {},
   "outputs": [
    {
     "data": {
      "text/plain": [
       "3.5355339059327378"
      ]
     },
     "execution_count": 56,
     "metadata": {},
     "output_type": "execute_result"
    }
   ],
   "source": [
    "x.std()"
   ]
  },
  {
   "cell_type": "code",
   "execution_count": 57,
   "id": "22376ba6-55ee-4445-8fbe-8aea5ca6d3f6",
   "metadata": {},
   "outputs": [
    {
     "data": {
      "text/plain": [
       "12.5"
      ]
     },
     "execution_count": 57,
     "metadata": {},
     "output_type": "execute_result"
    }
   ],
   "source": [
    "x.var()"
   ]
  },
  {
   "cell_type": "code",
   "execution_count": 58,
   "id": "cb09a0f3-c997-424f-9a3c-6123473d4783",
   "metadata": {},
   "outputs": [
    {
     "data": {
      "text/plain": [
       "112"
      ]
     },
     "execution_count": 58,
     "metadata": {},
     "output_type": "execute_result"
    }
   ],
   "source": [
    "x.sum()"
   ]
  },
  {
   "cell_type": "code",
   "execution_count": 59,
   "id": "c9e6dc76-3cfc-4d6a-ae63-782589443c7a",
   "metadata": {},
   "outputs": [
    {
     "data": {
      "text/plain": [
       "array([1, 2, 3, 4])"
      ]
     },
     "execution_count": 59,
     "metadata": {},
     "output_type": "execute_result"
    }
   ],
   "source": [
    "x.min(axis=0) ## minimum value column wise"
   ]
  },
  {
   "cell_type": "code",
   "execution_count": 60,
   "id": "cb300ae7-aad3-4034-8ea4-9bf1fde0016b",
   "metadata": {},
   "outputs": [
    {
     "data": {
      "text/plain": [
       "array([ 1,  4,  7, 10])"
      ]
     },
     "execution_count": 60,
     "metadata": {},
     "output_type": "execute_result"
    }
   ],
   "source": [
    "x.min(axis=1) "
   ]
  },
  {
   "cell_type": "code",
   "execution_count": 61,
   "id": "e79e51bc-093c-4137-a23e-e66e34093aba",
   "metadata": {},
   "outputs": [
    {
     "data": {
      "text/plain": [
       "array([[ 1,  2,  3,  4],\n",
       "       [ 4,  5,  6,  7],\n",
       "       [ 7,  8,  9, 10],\n",
       "       [10, 11, 12, 13]])"
      ]
     },
     "execution_count": 61,
     "metadata": {},
     "output_type": "execute_result"
    }
   ],
   "source": [
    "x"
   ]
  },
  {
   "cell_type": "code",
   "execution_count": 62,
   "id": "5001a7f5-7583-4af8-940f-21dc75786959",
   "metadata": {},
   "outputs": [
    {
     "data": {
      "text/plain": [
       "array([ 2.5,  5.5,  8.5, 11.5])"
      ]
     },
     "execution_count": 62,
     "metadata": {},
     "output_type": "execute_result"
    }
   ],
   "source": [
    "x.mean(axis= 1)"
   ]
  },
  {
   "cell_type": "code",
   "execution_count": 63,
   "id": "2b85afcf-2885-4510-a5dc-fcdb6e4c4923",
   "metadata": {},
   "outputs": [
    {
     "data": {
      "text/plain": [
       "0"
      ]
     },
     "execution_count": 63,
     "metadata": {},
     "output_type": "execute_result"
    }
   ],
   "source": [
    "x.argmin() ## index of the minimum value "
   ]
  },
  {
   "cell_type": "code",
   "execution_count": 65,
   "id": "a9f55612-cbde-432c-9446-3b4d7adb27ec",
   "metadata": {},
   "outputs": [
    {
     "data": {
      "text/plain": [
       "15"
      ]
     },
     "execution_count": 65,
     "metadata": {},
     "output_type": "execute_result"
    }
   ],
   "source": [
    "x.argmax() "
   ]
  },
  {
   "cell_type": "code",
   "execution_count": 66,
   "id": "f6d6cd5f-d3c4-490e-b0d3-47d202cffe81",
   "metadata": {},
   "outputs": [
    {
     "data": {
      "text/plain": [
       "array([0, 0, 0, 0], dtype=int64)"
      ]
     },
     "execution_count": 66,
     "metadata": {},
     "output_type": "execute_result"
    }
   ],
   "source": [
    "x.argmin(axis=0) #column wise"
   ]
  },
  {
   "cell_type": "code",
   "execution_count": 67,
   "id": "b3a0899c-f9d1-42fe-9147-e1af68bac339",
   "metadata": {},
   "outputs": [
    {
     "data": {
      "text/plain": [
       "array([[ 1,  2,  3,  4],\n",
       "       [ 4,  5,  6,  7],\n",
       "       [ 7,  8,  9, 10],\n",
       "       [10, 11, 12, 13]])"
      ]
     },
     "execution_count": 67,
     "metadata": {},
     "output_type": "execute_result"
    }
   ],
   "source": [
    "x"
   ]
  },
  {
   "cell_type": "code",
   "execution_count": 68,
   "id": "0aae323d-958a-456b-a99d-f5d710be5327",
   "metadata": {},
   "outputs": [
    {
     "data": {
      "text/plain": [
       "array([ 1,  2,  3,  4,  4,  5,  6,  7,  7,  8,  9, 10, 10, 11, 12, 13])"
      ]
     },
     "execution_count": 68,
     "metadata": {},
     "output_type": "execute_result"
    }
   ],
   "source": [
    "x.flatten() #2D to 1D"
   ]
  },
  {
   "cell_type": "code",
   "execution_count": 75,
   "id": "d1970528-ff80-41a5-aa21-923573de2cdc",
   "metadata": {},
   "outputs": [
    {
     "data": {
      "text/plain": [
       "array([1, 2, 3, 7, 5, 1])"
      ]
     },
     "execution_count": 75,
     "metadata": {},
     "output_type": "execute_result"
    }
   ],
   "source": [
    "a10.flatten()"
   ]
  },
  {
   "cell_type": "code",
   "execution_count": 76,
   "id": "5685cbc2-8dff-42b2-acf4-98be4604c838",
   "metadata": {},
   "outputs": [
    {
     "data": {
      "text/plain": [
       "array([[ 1,  2,  3,  4],\n",
       "       [ 4,  5,  6,  7],\n",
       "       [ 7,  8,  9, 10],\n",
       "       [10, 11, 12, 13]])"
      ]
     },
     "execution_count": 76,
     "metadata": {},
     "output_type": "execute_result"
    }
   ],
   "source": [
    "x"
   ]
  },
  {
   "cell_type": "code",
   "execution_count": 77,
   "id": "b8ceefcb-ea1d-4a66-853a-9877805f7573",
   "metadata": {},
   "outputs": [
    {
     "data": {
      "text/plain": [
       "array([[ 1,  4,  7, 10],\n",
       "       [ 2,  5,  8, 11],\n",
       "       [ 3,  6,  9, 12],\n",
       "       [ 4,  7, 10, 13]])"
      ]
     },
     "execution_count": 77,
     "metadata": {},
     "output_type": "execute_result"
    }
   ],
   "source": [
    "x.transpose()"
   ]
  },
  {
   "cell_type": "code",
   "execution_count": null,
   "id": "55e59e04-234e-4da8-9de0-1cd99dff2167",
   "metadata": {},
   "outputs": [],
   "source": []
  },
  {
   "cell_type": "code",
   "execution_count": null,
   "id": "b6351022-52d5-42f9-acb0-5399c81384f1",
   "metadata": {},
   "outputs": [],
   "source": [
    "x = 0-10\n",
    "x1 = 10-100\n",
    "x2 = 100-1000\n",
    "x3 = 1000-10000"
   ]
  },
  {
   "cell_type": "code",
   "execution_count": 78,
   "id": "5295f92a-9e80-49af-a1ea-b99df6fa8bbf",
   "metadata": {},
   "outputs": [
    {
     "data": {
      "text/plain": [
       "0.0007"
      ]
     },
     "execution_count": 78,
     "metadata": {},
     "output_type": "execute_result"
    }
   ],
   "source": [
    "#x\n",
    "7/10000"
   ]
  },
  {
   "cell_type": "code",
   "execution_count": 79,
   "id": "a85b305e-58a0-40e5-ae80-ec0065e65881",
   "metadata": {},
   "outputs": [
    {
     "data": {
      "text/plain": [
       "0.0037"
      ]
     },
     "execution_count": 79,
     "metadata": {},
     "output_type": "execute_result"
    }
   ],
   "source": [
    "#x1\n",
    "37/10000"
   ]
  },
  {
   "cell_type": "code",
   "execution_count": 80,
   "id": "5d885386-2813-4313-8346-4307555ab910",
   "metadata": {},
   "outputs": [
    {
     "data": {
      "text/plain": [
       "0.089"
      ]
     },
     "execution_count": 80,
     "metadata": {},
     "output_type": "execute_result"
    }
   ],
   "source": [
    "#x2\n",
    "890/10000"
   ]
  },
  {
   "cell_type": "code",
   "execution_count": 81,
   "id": "7fb233c1-f865-46a6-925b-65d34941f416",
   "metadata": {},
   "outputs": [
    {
     "data": {
      "text/plain": [
       "0.9999"
      ]
     },
     "execution_count": 81,
     "metadata": {},
     "output_type": "execute_result"
    }
   ],
   "source": [
    "#x3\n",
    "9999/10000"
   ]
  },
  {
   "cell_type": "code",
   "execution_count": 83,
   "id": "2926b9dd-ffb9-4807-abb1-074bf3955374",
   "metadata": {},
   "outputs": [
    {
     "data": {
      "text/plain": [
       "array([[0.49437407, 0.77541857],\n",
       "       [0.48135894, 0.97894769],\n",
       "       [0.44601894, 0.04184456],\n",
       "       [0.05636819, 0.7411898 ]])"
      ]
     },
     "execution_count": 83,
     "metadata": {},
     "output_type": "execute_result"
    }
   ],
   "source": [
    "np.random.rand(4,2)"
   ]
  },
  {
   "cell_type": "code",
   "execution_count": 88,
   "id": "0b17c0a1-4f7f-4ce4-a395-d2b29613e97f",
   "metadata": {},
   "outputs": [
    {
     "data": {
      "text/plain": [
       "array([6, 4, 5, 5])"
      ]
     },
     "execution_count": 88,
     "metadata": {},
     "output_type": "execute_result"
    }
   ],
   "source": [
    "np.random.randint(2,7, 4)"
   ]
  },
  {
   "cell_type": "code",
   "execution_count": 91,
   "id": "a6e6a579-ad71-40aa-803e-2e455a1c359d",
   "metadata": {},
   "outputs": [
    {
     "data": {
      "text/plain": [
       "array([[-1.96126003,  0.78260465,  0.01196919],\n",
       "       [ 0.36096105, -0.06005139,  0.79430791],\n",
       "       [ 0.53463191,  1.8774928 ,  0.49398567]])"
      ]
     },
     "execution_count": 91,
     "metadata": {},
     "output_type": "execute_result"
    }
   ],
   "source": [
    "np.random.randn(3,3)"
   ]
  },
  {
   "cell_type": "code",
   "execution_count": 92,
   "id": "b315e146-468e-464d-93f6-383d82a7eed3",
   "metadata": {},
   "outputs": [
    {
     "data": {
      "text/plain": [
       "array([[0.06390046, 0.62423838, 0.0258483 , 0.02587372],\n",
       "       [0.03876023, 0.04002416, 0.89645402, 0.12098019],\n",
       "       [0.00236744, 0.20538802, 0.00112896, 0.03299691],\n",
       "       [0.02563755, 0.01084192, 0.0714311 , 0.06431188]])"
      ]
     },
     "execution_count": 92,
     "metadata": {},
     "output_type": "execute_result"
    }
   ],
   "source": [
    "np.random.pareto(x)"
   ]
  },
  {
   "cell_type": "code",
   "execution_count": 93,
   "id": "bb208f9d-28fc-4fe6-af0c-7bfa039ab36d",
   "metadata": {},
   "outputs": [
    {
     "data": {
      "text/plain": [
       "array([[ 1,  2,  3,  4],\n",
       "       [ 4,  5,  6,  7],\n",
       "       [ 7,  8,  9, 10],\n",
       "       [10, 11, 12, 13]])"
      ]
     },
     "execution_count": 93,
     "metadata": {},
     "output_type": "execute_result"
    }
   ],
   "source": [
    "x"
   ]
  },
  {
   "cell_type": "code",
   "execution_count": 94,
   "id": "a911f870-e31b-4c09-b107-e6d2197c08de",
   "metadata": {},
   "outputs": [
    {
     "data": {
      "text/plain": [
       "11.0"
      ]
     },
     "execution_count": 94,
     "metadata": {},
     "output_type": "execute_result"
    }
   ],
   "source": [
    "np.around(10.8756)"
   ]
  },
  {
   "cell_type": "code",
   "execution_count": 95,
   "id": "09e745c5-784a-44d2-852f-7bb2e58a6785",
   "metadata": {},
   "outputs": [
    {
     "data": {
      "text/plain": [
       "3.141592653589793"
      ]
     },
     "execution_count": 95,
     "metadata": {},
     "output_type": "execute_result"
    }
   ],
   "source": [
    "np.pi"
   ]
  },
  {
   "cell_type": "code",
   "execution_count": null,
   "id": "aefcd631-6432-4404-a6c9-5ee35756d9f7",
   "metadata": {},
   "outputs": [],
   "source": []
  }
 ],
 "metadata": {
  "kernelspec": {
   "display_name": "Python 3 (ipykernel)",
   "language": "python",
   "name": "python3"
  },
  "language_info": {
   "codemirror_mode": {
    "name": "ipython",
    "version": 3
   },
   "file_extension": ".py",
   "mimetype": "text/x-python",
   "name": "python",
   "nbconvert_exporter": "python",
   "pygments_lexer": "ipython3",
   "version": "3.11.7"
  }
 },
 "nbformat": 4,
 "nbformat_minor": 5
}
