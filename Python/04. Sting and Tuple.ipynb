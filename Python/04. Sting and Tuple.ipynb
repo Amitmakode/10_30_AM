{
 "cells": [
  {
   "cell_type": "markdown",
   "id": "6bbc03f4-9134-4650-83a1-21d097c97078",
   "metadata": {},
   "source": [
    "### String"
   ]
  },
  {
   "cell_type": "code",
   "execution_count": 1,
   "id": "cd0858fd-b258-4b6f-9ae7-cf6b690df804",
   "metadata": {},
   "outputs": [],
   "source": [
    "s = \"hello\""
   ]
  },
  {
   "cell_type": "code",
   "execution_count": 2,
   "id": "f778da7a-81ec-4911-adca-0417c1d37d6f",
   "metadata": {},
   "outputs": [
    {
     "data": {
      "text/plain": [
       "'e'"
      ]
     },
     "execution_count": 2,
     "metadata": {},
     "output_type": "execute_result"
    }
   ],
   "source": [
    "s[1]"
   ]
  },
  {
   "cell_type": "code",
   "execution_count": 3,
   "id": "2aec3ba5-47c0-40df-bcd2-da5d9e4751e4",
   "metadata": {},
   "outputs": [
    {
     "ename": "TypeError",
     "evalue": "'str' object does not support item assignment",
     "output_type": "error",
     "traceback": [
      "\u001b[1;31m---------------------------------------------------------------------------\u001b[0m",
      "\u001b[1;31mTypeError\u001b[0m                                 Traceback (most recent call last)",
      "Cell \u001b[1;32mIn[3], line 1\u001b[0m\n\u001b[1;32m----> 1\u001b[0m s[\u001b[38;5;241m1\u001b[39m] \u001b[38;5;241m=\u001b[39m \u001b[38;5;124m\"\u001b[39m\u001b[38;5;124mE\u001b[39m\u001b[38;5;124m\"\u001b[39m\n",
      "\u001b[1;31mTypeError\u001b[0m: 'str' object does not support item assignment"
     ]
    }
   ],
   "source": [
    "s[1] = \"E\""
   ]
  },
  {
   "cell_type": "code",
   "execution_count": 4,
   "id": "56dd2039-c5b9-4f0b-9065-096c96ab43fc",
   "metadata": {},
   "outputs": [],
   "source": [
    "s_var = \"object does@ not support item assignment\""
   ]
  },
  {
   "cell_type": "code",
   "execution_count": 5,
   "id": "354f339c-0dff-4cce-8fde-0bab4815ee60",
   "metadata": {},
   "outputs": [
    {
     "data": {
      "text/plain": [
       "'ject d'"
      ]
     },
     "execution_count": 5,
     "metadata": {},
     "output_type": "execute_result"
    }
   ],
   "source": [
    "s_var[2:8]"
   ]
  },
  {
   "cell_type": "code",
   "execution_count": 6,
   "id": "97ef289f-dedf-4783-973a-b6d004886723",
   "metadata": {},
   "outputs": [
    {
     "data": {
      "text/plain": [
       "'d'"
      ]
     },
     "execution_count": 6,
     "metadata": {},
     "output_type": "execute_result"
    }
   ],
   "source": [
    "s_var[7]"
   ]
  },
  {
   "cell_type": "code",
   "execution_count": 7,
   "id": "6bf1fa3b-dc17-4bd1-96a4-50e9733767cd",
   "metadata": {},
   "outputs": [],
   "source": [
    "s = \"hello python\""
   ]
  },
  {
   "cell_type": "code",
   "execution_count": 8,
   "id": "eef1fccb-5e31-4e30-a8c6-da8a4efbf6d4",
   "metadata": {},
   "outputs": [
    {
     "data": {
      "text/plain": [
       "'hello pythonhello python'"
      ]
     },
     "execution_count": 8,
     "metadata": {},
     "output_type": "execute_result"
    }
   ],
   "source": [
    "s + s"
   ]
  },
  {
   "cell_type": "code",
   "execution_count": 9,
   "id": "337ac95b-bf04-4604-8a3a-3c97a91bf1ec",
   "metadata": {},
   "outputs": [
    {
     "data": {
      "text/plain": [
       "'hello pythonhello python'"
      ]
     },
     "execution_count": 9,
     "metadata": {},
     "output_type": "execute_result"
    }
   ],
   "source": [
    "s* 2"
   ]
  },
  {
   "cell_type": "code",
   "execution_count": 11,
   "id": "81521644-45b6-4c09-872d-5c1231ca6344",
   "metadata": {},
   "outputs": [
    {
     "data": {
      "text/plain": [
       "['__add__',\n",
       " '__class__',\n",
       " '__contains__',\n",
       " '__delattr__',\n",
       " '__dir__',\n",
       " '__doc__',\n",
       " '__eq__',\n",
       " '__format__',\n",
       " '__ge__',\n",
       " '__getattribute__',\n",
       " '__getitem__',\n",
       " '__getnewargs__',\n",
       " '__getstate__',\n",
       " '__gt__',\n",
       " '__hash__',\n",
       " '__init__',\n",
       " '__init_subclass__',\n",
       " '__iter__',\n",
       " '__le__',\n",
       " '__len__',\n",
       " '__lt__',\n",
       " '__mod__',\n",
       " '__mul__',\n",
       " '__ne__',\n",
       " '__new__',\n",
       " '__reduce__',\n",
       " '__reduce_ex__',\n",
       " '__repr__',\n",
       " '__rmod__',\n",
       " '__rmul__',\n",
       " '__setattr__',\n",
       " '__sizeof__',\n",
       " '__str__',\n",
       " '__subclasshook__',\n",
       " 'capitalize',\n",
       " 'casefold',\n",
       " 'center',\n",
       " 'count',\n",
       " 'encode',\n",
       " 'endswith',\n",
       " 'expandtabs',\n",
       " 'find',\n",
       " 'format',\n",
       " 'format_map',\n",
       " 'index',\n",
       " 'isalnum',\n",
       " 'isalpha',\n",
       " 'isascii',\n",
       " 'isdecimal',\n",
       " 'isdigit',\n",
       " 'isidentifier',\n",
       " 'islower',\n",
       " 'isnumeric',\n",
       " 'isprintable',\n",
       " 'isspace',\n",
       " 'istitle',\n",
       " 'isupper',\n",
       " 'join',\n",
       " 'ljust',\n",
       " 'lower',\n",
       " 'lstrip',\n",
       " 'maketrans',\n",
       " 'partition',\n",
       " 'removeprefix',\n",
       " 'removesuffix',\n",
       " 'replace',\n",
       " 'rfind',\n",
       " 'rindex',\n",
       " 'rjust',\n",
       " 'rpartition',\n",
       " 'rsplit',\n",
       " 'rstrip',\n",
       " 'split',\n",
       " 'splitlines',\n",
       " 'startswith',\n",
       " 'strip',\n",
       " 'swapcase',\n",
       " 'title',\n",
       " 'translate',\n",
       " 'upper',\n",
       " 'zfill']"
      ]
     },
     "execution_count": 11,
     "metadata": {},
     "output_type": "execute_result"
    }
   ],
   "source": [
    "dir(str)"
   ]
  },
  {
   "cell_type": "code",
   "execution_count": 15,
   "id": "0568383c-d085-4415-911a-13de44929c82",
   "metadata": {},
   "outputs": [
    {
     "name": "stdout",
     "output_type": "stream",
     "text": [
      "Hello world\n"
     ]
    }
   ],
   "source": [
    "#capitalize()\n",
    "\n",
    "#Converts the first character of the string to uppercase and the rest to lowercase.\n",
    "\n",
    "s = \"hello World\"\n",
    "print(s.capitalize()) "
   ]
  },
  {
   "cell_type": "code",
   "execution_count": 16,
   "id": "ad1df9ec-f9b5-43d8-ab5b-1e12d1973735",
   "metadata": {},
   "outputs": [
    {
     "data": {
      "text/plain": [
       "'HELLO WORLD'"
      ]
     },
     "execution_count": 16,
     "metadata": {},
     "output_type": "execute_result"
    }
   ],
   "source": [
    "s.upper()"
   ]
  },
  {
   "cell_type": "code",
   "execution_count": 17,
   "id": "b8c4652e-dd65-4fa3-9ff0-4032316ccdde",
   "metadata": {},
   "outputs": [
    {
     "data": {
      "text/plain": [
       "'hello world'"
      ]
     },
     "execution_count": 17,
     "metadata": {},
     "output_type": "execute_result"
    }
   ],
   "source": [
    "s.lower()"
   ]
  },
  {
   "cell_type": "code",
   "execution_count": 18,
   "id": "2319f0bb-6844-4082-9157-364dc441b10a",
   "metadata": {},
   "outputs": [
    {
     "name": "stdout",
     "output_type": "stream",
     "text": [
      "hello world\n"
     ]
    }
   ],
   "source": [
    "#casefold()\n",
    "\n",
    "#Similar to lower(), but more aggressive; removes all case distinctions.\n",
    "\n",
    "    \n",
    "s = \"HELLO World\"\n",
    "print(s.casefold())"
   ]
  },
  {
   "cell_type": "code",
   "execution_count": 20,
   "id": "d51bd65e-18a9-4444-ad87-24661e0eb368",
   "metadata": {},
   "outputs": [
    {
     "name": "stdout",
     "output_type": "stream",
     "text": [
      "       hello        \n"
     ]
    }
   ],
   "source": [
    "#center(width[, fillchar])\n",
    "\n",
    "#Returns a centered string of specified width with optional fill character.\n",
    "\n",
    "s = \"hello\"\n",
    "print(s.center(20, ' ')) "
   ]
  },
  {
   "cell_type": "code",
   "execution_count": 22,
   "id": "1ca380cb-eb30-4f21-af4c-982c711321b8",
   "metadata": {},
   "outputs": [
    {
     "name": "stdout",
     "output_type": "stream",
     "text": [
      "3\n"
     ]
    }
   ],
   "source": [
    "#count(sub[, start[, end]])\n",
    "\n",
    "#Returns the number of occurrences of substring sub in the string.\n",
    "\n",
    "s = \"hello hello hello\"\n",
    "print(s.count('o')) "
   ]
  },
  {
   "cell_type": "code",
   "execution_count": 25,
   "id": "4c6d5104-9314-43bb-a940-6db8b4a64494",
   "metadata": {},
   "outputs": [
    {
     "name": "stdout",
     "output_type": "stream",
     "text": [
      "True\n"
     ]
    }
   ],
   "source": [
    "#endswith(suffix[, start[, end]])\n",
    "\n",
    "#Checks if the string ends with the specified suffix.\n",
    "\n",
    "s = \"hello world\"\n",
    "print(s.endswith(\"world\"))  "
   ]
  },
  {
   "cell_type": "code",
   "execution_count": 26,
   "id": "532bfbc7-bec7-43ba-bf16-d3748100e196",
   "metadata": {},
   "outputs": [
    {
     "name": "stdout",
     "output_type": "stream",
     "text": [
      "hello   world\n"
     ]
    }
   ],
   "source": [
    "#expandtabs(tabsize=8)\n",
    "\n",
    "#Expands tabs in the string to multiple spaces.\n",
    "\n",
    "s = \"hello\\tworld\"\n",
    "print(s.expandtabs()) "
   ]
  },
  {
   "cell_type": "code",
   "execution_count": 29,
   "id": "6bafb99a-7a3a-424a-a561-e51719f5fbbb",
   "metadata": {},
   "outputs": [
    {
     "name": "stdout",
     "output_type": "stream",
     "text": [
      "9\n"
     ]
    }
   ],
   "source": [
    "#find(sub[, start[, end]])\n",
    "\n",
    "#Returns the lowest index in the string where substring sub is found, or -1 if not found.\n",
    "\n",
    "s = \"hello world\"\n",
    "print(s.find('ld')) "
   ]
  },
  {
   "cell_type": "code",
   "execution_count": 30,
   "id": "df83262a-2ea0-4dfd-93ed-1d93b9fa0695",
   "metadata": {},
   "outputs": [
    {
     "name": "stdout",
     "output_type": "stream",
     "text": [
      "My name is Alice and I am 30 years old.\n"
     ]
    }
   ],
   "source": [
    "#format(*args, **kwargs)\n",
    "\n",
    "#Formats the string into a nicer output, replacing {} placeholders with arguments.\n",
    "\n",
    "name = \"Alice\"\n",
    "age = 30\n",
    "print(\"My name is {} and I am {} years old.\".format(name, age))"
   ]
  },
  {
   "cell_type": "code",
   "execution_count": 31,
   "id": "9dd91536-143a-493f-9c1d-68ceeadbfd2b",
   "metadata": {},
   "outputs": [
    {
     "name": "stdout",
     "output_type": "stream",
     "text": [
      "My name is Bob and I am 25 years old.\n"
     ]
    }
   ],
   "source": [
    "#Similar to format(), but accepts a mapping (dictionary) instead of individual arguments.\n",
    "\n",
    "person = {'name': 'Bob', 'age': 25}\n",
    "print(\"My name is {name} and I am {age} years old.\".format_map(person))"
   ]
  },
  {
   "cell_type": "code",
   "execution_count": 33,
   "id": "7b4cc752-bcd9-4c36-aa04-88b2f9920431",
   "metadata": {},
   "outputs": [
    {
     "name": "stdout",
     "output_type": "stream",
     "text": [
      "6\n"
     ]
    }
   ],
   "source": [
    "#index(sub[, start[, end]])\n",
    "\n",
    "#Like find(), but raises ValueError if sub is not found.\n",
    "\n",
    "s = \"hello world\"\n",
    "print(s.index('wor')) "
   ]
  },
  {
   "cell_type": "code",
   "execution_count": 34,
   "id": "f5eb4753-a0cf-421c-85b3-fd1bd417f9ea",
   "metadata": {},
   "outputs": [
    {
     "name": "stdout",
     "output_type": "stream",
     "text": [
      "True\n"
     ]
    }
   ],
   "source": [
    "#isalnum()\n",
    "\n",
    "#Checks if all characters in the string are alphanumeric.\n",
    "\n",
    "s = \"hello123\"\n",
    "print(s.isalnum()) "
   ]
  },
  {
   "cell_type": "code",
   "execution_count": 35,
   "id": "57469abf-ba76-415d-bdd1-dc71c2271753",
   "metadata": {},
   "outputs": [
    {
     "data": {
      "text/plain": [
       "False"
      ]
     },
     "execution_count": 35,
     "metadata": {},
     "output_type": "execute_result"
    }
   ],
   "source": [
    "s.isdigit()"
   ]
  },
  {
   "cell_type": "code",
   "execution_count": 36,
   "id": "4bc21cb8-7121-46b8-ab04-fb07438a624c",
   "metadata": {},
   "outputs": [
    {
     "data": {
      "text/plain": [
       "False"
      ]
     },
     "execution_count": 36,
     "metadata": {},
     "output_type": "execute_result"
    }
   ],
   "source": [
    "s.isalpha()"
   ]
  },
  {
   "cell_type": "code",
   "execution_count": 37,
   "id": "01ad8661-eb3d-409c-9799-2ff200ef5bda",
   "metadata": {},
   "outputs": [
    {
     "data": {
      "text/plain": [
       "True"
      ]
     },
     "execution_count": 37,
     "metadata": {},
     "output_type": "execute_result"
    }
   ],
   "source": [
    "s.islower()"
   ]
  },
  {
   "cell_type": "code",
   "execution_count": 38,
   "id": "1b1d9ecf-d9ea-4bc4-85b7-a8590a43043d",
   "metadata": {},
   "outputs": [
    {
     "data": {
      "text/plain": [
       "False"
      ]
     },
     "execution_count": 38,
     "metadata": {},
     "output_type": "execute_result"
    }
   ],
   "source": [
    "s.isupper()"
   ]
  },
  {
   "cell_type": "code",
   "execution_count": 39,
   "id": "72abc6a3-32df-4c37-8a8f-f364ca283d1b",
   "metadata": {},
   "outputs": [
    {
     "data": {
      "text/plain": [
       "False"
      ]
     },
     "execution_count": 39,
     "metadata": {},
     "output_type": "execute_result"
    }
   ],
   "source": [
    "s.isdecimal()"
   ]
  },
  {
   "cell_type": "code",
   "execution_count": 41,
   "id": "56122e41-0a0f-4645-8a9b-62e866180499",
   "metadata": {},
   "outputs": [
    {
     "name": "stdout",
     "output_type": "stream",
     "text": [
      "False\n"
     ]
    }
   ],
   "source": [
    "#isspace()\n",
    "\n",
    "#Checks if all characters in the string are whitespace.\n",
    "\n",
    "s = \"  \"\n",
    "print(s.isspace()) "
   ]
  },
  {
   "cell_type": "code",
   "execution_count": 44,
   "id": "6a964942-7cd7-408a-b0db-9c857adb84d1",
   "metadata": {},
   "outputs": [
    {
     "name": "stdout",
     "output_type": "stream",
     "text": [
      "True\n"
     ]
    }
   ],
   "source": [
    "#istitle()\n",
    "\n",
    "#Checks if the string is titlecased (first character of each word is uppercase, others are lowercase).\n",
    "\n",
    "s = \"Hello World\"\n",
    "print(s.istitle()) "
   ]
  },
  {
   "cell_type": "code",
   "execution_count": 46,
   "id": "4c3df854-f3d2-4eaf-91ee-6f15303f271b",
   "metadata": {},
   "outputs": [
    {
     "name": "stdout",
     "output_type": "stream",
     "text": [
      "hello-world-py-3.5\n"
     ]
    }
   ],
   "source": [
    "#join(iterable)\n",
    "\n",
    "#Joins elements of iterable (like a list) into a single string with self as separator.\n",
    "\n",
    "words = ['hello', 'world', \"py\", \"3.5\"]\n",
    "\n",
    "print(\"-\".join(words)) "
   ]
  },
  {
   "cell_type": "code",
   "execution_count": 47,
   "id": "7edfb9a2-e6ee-4e31-a865-90394bcab68e",
   "metadata": {},
   "outputs": [],
   "source": [
    "tup = (\"red\", \"white\", \"blue\", \"yellow\")"
   ]
  },
  {
   "cell_type": "code",
   "execution_count": 49,
   "id": "628938a3-d241-48ee-bf11-1277267001ef",
   "metadata": {},
   "outputs": [],
   "source": [
    "var = \" \".join(tup)"
   ]
  },
  {
   "cell_type": "code",
   "execution_count": 51,
   "id": "22ba632d-ff78-47cc-a883-a66b29491140",
   "metadata": {},
   "outputs": [
    {
     "data": {
      "text/plain": [
       "str"
      ]
     },
     "execution_count": 51,
     "metadata": {},
     "output_type": "execute_result"
    }
   ],
   "source": [
    "type(var) "
   ]
  },
  {
   "cell_type": "code",
   "execution_count": 53,
   "id": "6920513e-8883-48f0-805c-7b93c5decd4b",
   "metadata": {},
   "outputs": [
    {
     "name": "stdout",
     "output_type": "stream",
     "text": [
      "hello@@@@@\n"
     ]
    }
   ],
   "source": [
    "#ljust(width[, fillchar])\n",
    "\n",
    "#Left justifies the string in a field of width width with optional fillchar.\n",
    "\n",
    "s = \"hello\"\n",
    "print(s.ljust(10, '@'))"
   ]
  },
  {
   "cell_type": "code",
   "execution_count": 54,
   "id": "b2e6d5ba-e2d5-4e85-8e32-50eea7340c7c",
   "metadata": {},
   "outputs": [
    {
     "data": {
      "text/plain": [
       "'#####hello'"
      ]
     },
     "execution_count": 54,
     "metadata": {},
     "output_type": "execute_result"
    }
   ],
   "source": [
    "s.rjust(10, \"#\")"
   ]
  },
  {
   "cell_type": "code",
   "execution_count": 57,
   "id": "6f94c5f9-fc10-4d98-9a5b-54a634d39308",
   "metadata": {},
   "outputs": [
    {
     "name": "stdout",
     "output_type": "stream",
     "text": [
      "hello----\n"
     ]
    }
   ],
   "source": [
    "#lstrip([chars])\n",
    "\n",
    "#Removes leading whitespace or characters specified in chars.\n",
    "\n",
    "s = \"---hello----\"\n",
    "print(s.lstrip(\"-\"))"
   ]
  },
  {
   "cell_type": "code",
   "execution_count": 58,
   "id": "87b9509d-0608-4126-a49b-97f7517ae79d",
   "metadata": {},
   "outputs": [
    {
     "data": {
      "text/plain": [
       "'---hello'"
      ]
     },
     "execution_count": 58,
     "metadata": {},
     "output_type": "execute_result"
    }
   ],
   "source": [
    "s.rstrip(\"-\")"
   ]
  },
  {
   "cell_type": "code",
   "execution_count": 59,
   "id": "3469aa11-6705-485a-a4a9-32ebf0bda77a",
   "metadata": {},
   "outputs": [
    {
     "data": {
      "text/plain": [
       "'hello'"
      ]
     },
     "execution_count": 59,
     "metadata": {},
     "output_type": "execute_result"
    }
   ],
   "source": [
    "s.strip(\"-\")"
   ]
  },
  {
   "cell_type": "code",
   "execution_count": 60,
   "id": "d82ca399-417c-4ffd-ad84-aa17b19df664",
   "metadata": {},
   "outputs": [],
   "source": [
    "S = \"python@@@###\""
   ]
  },
  {
   "cell_type": "code",
   "execution_count": 62,
   "id": "d8e80359-b38f-4e49-a5b3-757989194abe",
   "metadata": {},
   "outputs": [
    {
     "data": {
      "text/plain": [
       "'python'"
      ]
     },
     "execution_count": 62,
     "metadata": {},
     "output_type": "execute_result"
    }
   ],
   "source": [
    "S.rstrip(\"#@\")"
   ]
  },
  {
   "cell_type": "code",
   "execution_count": 63,
   "id": "2f03e28c-6e70-4ebc-a3f8-422cb6d92664",
   "metadata": {},
   "outputs": [
    {
     "data": {
      "text/plain": [
       "'python###'"
      ]
     },
     "execution_count": 63,
     "metadata": {},
     "output_type": "execute_result"
    }
   ],
   "source": [
    "S.replace(\"@\", \"\")"
   ]
  },
  {
   "cell_type": "code",
   "execution_count": 64,
   "id": "661c9903-6dc3-41e9-87b6-c798195fa062",
   "metadata": {},
   "outputs": [
    {
     "name": "stdout",
     "output_type": "stream",
     "text": [
      "('hell', 'o', ' world')\n"
     ]
    }
   ],
   "source": [
    "#partition(sep)\n",
    "\n",
    "#Splits the string into a tuple (head, sep, tail) where sep is the first occurrence of sep.\n",
    "\n",
    "s = \"hello world\"\n",
    "print(s.partition('o'))"
   ]
  },
  {
   "cell_type": "code",
   "execution_count": 66,
   "id": "988ab8f3-3a72-49e0-ad11-f1de1659ce2b",
   "metadata": {},
   "outputs": [
    {
     "name": "stdout",
     "output_type": "stream",
     "text": [
      "('hello', ' ', 'world')\n"
     ]
    }
   ],
   "source": [
    "s = \"hello world\"\n",
    "print(s.partition(\" \"))"
   ]
  },
  {
   "cell_type": "code",
   "execution_count": 67,
   "id": "34389930-9041-4fd1-bfce-d4ecaf33d487",
   "metadata": {},
   "outputs": [
    {
     "data": {
      "text/plain": [
       "['hello', 'world']"
      ]
     },
     "execution_count": 67,
     "metadata": {},
     "output_type": "execute_result"
    }
   ],
   "source": [
    "s.split()"
   ]
  },
  {
   "cell_type": "code",
   "execution_count": 68,
   "id": "7026f73f-72fd-4fc4-afe4-bdefc975e962",
   "metadata": {},
   "outputs": [
    {
     "data": {
      "text/plain": [
       "['hell', ' w', 'rld']"
      ]
     },
     "execution_count": 68,
     "metadata": {},
     "output_type": "execute_result"
    }
   ],
   "source": [
    "s.split(\"o\")"
   ]
  },
  {
   "cell_type": "code",
   "execution_count": 69,
   "id": "fb62cce4-9c5e-4821-8556-297a94fa9ff6",
   "metadata": {},
   "outputs": [
    {
     "name": "stdout",
     "output_type": "stream",
     "text": [
      "hello Python\n"
     ]
    }
   ],
   "source": [
    "#replace(old, new[, count])\n",
    "\n",
    "#Returns a copy of the string with all occurrences of substring old replaced by new.\n",
    "\n",
    "s = \"hello world\"\n",
    "print(s.replace('world', 'Python')) "
   ]
  },
  {
   "cell_type": "code",
   "execution_count": 70,
   "id": "afb81f95-613a-4f18-b242-a7e8addd72d6",
   "metadata": {},
   "outputs": [
    {
     "name": "stdout",
     "output_type": "stream",
     "text": [
      "12\n"
     ]
    }
   ],
   "source": [
    "#rfind(sub[, start[, end]])\n",
    "\n",
    "#Returns the highest index in the string where substring sub is found, or -1 if not found.\n",
    "\n",
    "s = \"hello hello hello\"\n",
    "print(s.rfind('hello'))"
   ]
  },
  {
   "cell_type": "code",
   "execution_count": 71,
   "id": "2012116f-1516-432f-b328-dc8a89b1627e",
   "metadata": {},
   "outputs": [
    {
     "name": "stdout",
     "output_type": "stream",
     "text": [
      "9\n"
     ]
    }
   ],
   "source": [
    "#rindex(sub[, start[, end]])\n",
    "\n",
    "#Like rfind(), but raises ValueError if sub is not found.\n",
    "\n",
    "s = \"hello world\"\n",
    "print(s.rindex('l'))"
   ]
  },
  {
   "cell_type": "code",
   "execution_count": 72,
   "id": "a3851042-be0c-4e7d-81e0-416919a325e7",
   "metadata": {},
   "outputs": [
    {
     "name": "stdout",
     "output_type": "stream",
     "text": [
      "('hello w', 'o', 'rld')\n"
     ]
    }
   ],
   "source": [
    "# plits the string into a tuple (head, sep, tail) where sep is the last occurrence of sep.\n",
    "\n",
    "s = \"hello world\"\n",
    "print(s.rpartition('o')) "
   ]
  },
  {
   "cell_type": "code",
   "execution_count": 73,
   "id": "b86dd057-5314-40d6-bc10-618986e5931f",
   "metadata": {},
   "outputs": [
    {
     "name": "stdout",
     "output_type": "stream",
     "text": [
      "False\n"
     ]
    }
   ],
   "source": [
    "#Checks if the string starts with the specified prefix.\n",
    " \n",
    "s = \"hello world\"\n",
    "print(s.startswith('ello')) "
   ]
  },
  {
   "cell_type": "code",
   "execution_count": 74,
   "id": "4f22baac-4b1a-48b2-9a35-e1d00acfb50b",
   "metadata": {},
   "outputs": [
    {
     "name": "stdout",
     "output_type": "stream",
     "text": [
      "hELLO wORLD\n"
     ]
    }
   ],
   "source": [
    "#Swaps case of all characters in the string (lower to upper and vice versa).\n",
    "\n",
    "s = \"Hello World\"\n",
    "print(s.swapcase()) "
   ]
  },
  {
   "cell_type": "code",
   "execution_count": 75,
   "id": "c9315290-884a-4b2b-a79b-7f9334feeb4a",
   "metadata": {},
   "outputs": [
    {
     "name": "stdout",
     "output_type": "stream",
     "text": [
      "Hello World\n"
     ]
    }
   ],
   "source": [
    "#title()\n",
    "\n",
    "#Returns a titlecased version of the string (first character of each word is uppercase, others are lowercase).\n",
    "\n",
    "s = \"hello world\"\n",
    "print(s.title()) "
   ]
  },
  {
   "cell_type": "code",
   "execution_count": 79,
   "id": "b4056fa7-8e2b-4e66-b87a-a11a33e2d82b",
   "metadata": {},
   "outputs": [
    {
     "name": "stdout",
     "output_type": "stream",
     "text": [
      "000042\n"
     ]
    }
   ],
   "source": [
    "#zfill(width)\n",
    "\n",
    "#Returns a copy of the string padded with zeros on the left to make a string of length width.\n",
    "\n",
    "s = \"42\"\n",
    "print(s.zfill(6))"
   ]
  },
  {
   "cell_type": "code",
   "execution_count": null,
   "id": "0840eb35-ed82-4175-b2c8-2d8aeda24d75",
   "metadata": {},
   "outputs": [],
   "source": []
  },
  {
   "cell_type": "code",
   "execution_count": null,
   "id": "81140f35-efd7-4b6c-8c03-ee8832cef7c8",
   "metadata": {},
   "outputs": [],
   "source": []
  },
  {
   "cell_type": "markdown",
   "id": "153d8e26-b468-4b1d-b9b1-b8472dcc4d45",
   "metadata": {},
   "source": [
    "### Tuple"
   ]
  },
  {
   "cell_type": "code",
   "execution_count": 80,
   "id": "a096760c-f4d4-456a-a072-9009014bc0a7",
   "metadata": {},
   "outputs": [
    {
     "data": {
      "text/plain": [
       "('red', 'white', 'blue', 'yellow')"
      ]
     },
     "execution_count": 80,
     "metadata": {},
     "output_type": "execute_result"
    }
   ],
   "source": [
    "tup"
   ]
  },
  {
   "cell_type": "code",
   "execution_count": 81,
   "id": "8f0bdfb0-dbbf-4c2c-b8b4-6268aab935db",
   "metadata": {},
   "outputs": [
    {
     "data": {
      "text/plain": [
       "'blue'"
      ]
     },
     "execution_count": 81,
     "metadata": {},
     "output_type": "execute_result"
    }
   ],
   "source": [
    "tup[2]"
   ]
  },
  {
   "cell_type": "code",
   "execution_count": 82,
   "id": "fffa4404-60a1-49b3-8a02-c14181ad3c27",
   "metadata": {},
   "outputs": [
    {
     "data": {
      "text/plain": [
       "'yellow'"
      ]
     },
     "execution_count": 82,
     "metadata": {},
     "output_type": "execute_result"
    }
   ],
   "source": [
    "tup[-1]"
   ]
  },
  {
   "cell_type": "code",
   "execution_count": 83,
   "id": "b075aebb-00a1-4061-a750-283285e9e118",
   "metadata": {},
   "outputs": [
    {
     "data": {
      "text/plain": [
       "('red', 'white', 'blue', 'yellow')"
      ]
     },
     "execution_count": 83,
     "metadata": {},
     "output_type": "execute_result"
    }
   ],
   "source": [
    "tup[:]"
   ]
  },
  {
   "cell_type": "code",
   "execution_count": 84,
   "id": "12dcb3b3-7350-4439-baef-c29665681a0e",
   "metadata": {},
   "outputs": [
    {
     "data": {
      "text/plain": [
       "('white', 'blue', 'yellow')"
      ]
     },
     "execution_count": 84,
     "metadata": {},
     "output_type": "execute_result"
    }
   ],
   "source": [
    "tup[1:]"
   ]
  },
  {
   "cell_type": "code",
   "execution_count": 85,
   "id": "98ea70f3-086c-4070-84ee-45060f56da8a",
   "metadata": {},
   "outputs": [
    {
     "data": {
      "text/plain": [
       "('red', 'white')"
      ]
     },
     "execution_count": 85,
     "metadata": {},
     "output_type": "execute_result"
    }
   ],
   "source": [
    "tup[:2]"
   ]
  },
  {
   "cell_type": "code",
   "execution_count": 86,
   "id": "08969bcd-da60-4233-bbf9-51f5b0fd2d9a",
   "metadata": {},
   "outputs": [
    {
     "data": {
      "text/plain": [
       "('yellow', 'blue', 'white', 'red')"
      ]
     },
     "execution_count": 86,
     "metadata": {},
     "output_type": "execute_result"
    }
   ],
   "source": [
    "tup[::-1]"
   ]
  },
  {
   "cell_type": "code",
   "execution_count": 88,
   "id": "879e906c-c05c-4815-8a57-21bf7b44e23b",
   "metadata": {},
   "outputs": [],
   "source": [
    "tup1 = tup + tup"
   ]
  },
  {
   "cell_type": "code",
   "execution_count": 89,
   "id": "3954ed2c-eeec-4083-9149-fa89105b181c",
   "metadata": {},
   "outputs": [
    {
     "data": {
      "text/plain": [
       "('red', 'white', 'blue', 'yellow', 'red', 'white', 'blue', 'yellow')"
      ]
     },
     "execution_count": 89,
     "metadata": {},
     "output_type": "execute_result"
    }
   ],
   "source": [
    "tup1"
   ]
  },
  {
   "cell_type": "code",
   "execution_count": 90,
   "id": "f92430ec-07d2-48bf-a99c-e23b2b94e1c8",
   "metadata": {},
   "outputs": [],
   "source": [
    "tup2 = tup*3"
   ]
  },
  {
   "cell_type": "code",
   "execution_count": 91,
   "id": "f0cbc392-b794-4d87-a91d-297ae04e3938",
   "metadata": {},
   "outputs": [
    {
     "data": {
      "text/plain": [
       "('red',\n",
       " 'white',\n",
       " 'blue',\n",
       " 'yellow',\n",
       " 'red',\n",
       " 'white',\n",
       " 'blue',\n",
       " 'yellow',\n",
       " 'red',\n",
       " 'white',\n",
       " 'blue',\n",
       " 'yellow')"
      ]
     },
     "execution_count": 91,
     "metadata": {},
     "output_type": "execute_result"
    }
   ],
   "source": [
    "tup2"
   ]
  },
  {
   "cell_type": "code",
   "execution_count": 92,
   "id": "90b0e249-6528-4729-be03-966983c10702",
   "metadata": {},
   "outputs": [
    {
     "data": {
      "text/plain": [
       "('red', 'white', 'blue', 'yellow', 'red', 'white', 'blue')"
      ]
     },
     "execution_count": 92,
     "metadata": {},
     "output_type": "execute_result"
    }
   ],
   "source": [
    "tup2[:7]"
   ]
  },
  {
   "cell_type": "code",
   "execution_count": 93,
   "id": "44172f04-07b7-42f6-830b-885ce42970b9",
   "metadata": {},
   "outputs": [
    {
     "ename": "TypeError",
     "evalue": "'tuple' object does not support item assignment",
     "output_type": "error",
     "traceback": [
      "\u001b[1;31m---------------------------------------------------------------------------\u001b[0m",
      "\u001b[1;31mTypeError\u001b[0m                                 Traceback (most recent call last)",
      "Cell \u001b[1;32mIn[93], line 1\u001b[0m\n\u001b[1;32m----> 1\u001b[0m tup[\u001b[38;5;241m2\u001b[39m] \u001b[38;5;241m=\u001b[39m\u001b[38;5;124m\"\u001b[39m\u001b[38;5;124morange\u001b[39m\u001b[38;5;124m\"\u001b[39m\n",
      "\u001b[1;31mTypeError\u001b[0m: 'tuple' object does not support item assignment"
     ]
    }
   ],
   "source": [
    "tup[2] =\"orange\""
   ]
  },
  {
   "cell_type": "code",
   "execution_count": 94,
   "id": "d871ab62-c7ef-414f-b5a3-7fbd66d767b8",
   "metadata": {},
   "outputs": [
    {
     "data": {
      "text/plain": [
       "['__add__',\n",
       " '__class__',\n",
       " '__class_getitem__',\n",
       " '__contains__',\n",
       " '__delattr__',\n",
       " '__dir__',\n",
       " '__doc__',\n",
       " '__eq__',\n",
       " '__format__',\n",
       " '__ge__',\n",
       " '__getattribute__',\n",
       " '__getitem__',\n",
       " '__getnewargs__',\n",
       " '__getstate__',\n",
       " '__gt__',\n",
       " '__hash__',\n",
       " '__init__',\n",
       " '__init_subclass__',\n",
       " '__iter__',\n",
       " '__le__',\n",
       " '__len__',\n",
       " '__lt__',\n",
       " '__mul__',\n",
       " '__ne__',\n",
       " '__new__',\n",
       " '__reduce__',\n",
       " '__reduce_ex__',\n",
       " '__repr__',\n",
       " '__rmul__',\n",
       " '__setattr__',\n",
       " '__sizeof__',\n",
       " '__str__',\n",
       " '__subclasshook__',\n",
       " 'count',\n",
       " 'index']"
      ]
     },
     "execution_count": 94,
     "metadata": {},
     "output_type": "execute_result"
    }
   ],
   "source": [
    "dir(tuple)"
   ]
  },
  {
   "cell_type": "code",
   "execution_count": 95,
   "id": "580ce663-e281-4a5d-8a74-0053ad6be839",
   "metadata": {},
   "outputs": [
    {
     "data": {
      "text/plain": [
       "('red', 'white', 'blue', 'yellow')"
      ]
     },
     "execution_count": 95,
     "metadata": {},
     "output_type": "execute_result"
    }
   ],
   "source": [
    "tup"
   ]
  },
  {
   "cell_type": "code",
   "execution_count": 96,
   "id": "ba233062-ff83-40d1-a8e5-543936921733",
   "metadata": {},
   "outputs": [
    {
     "data": {
      "text/plain": [
       "0"
      ]
     },
     "execution_count": 96,
     "metadata": {},
     "output_type": "execute_result"
    }
   ],
   "source": [
    "tup.count(\"w\")"
   ]
  },
  {
   "cell_type": "code",
   "execution_count": 97,
   "id": "7cde01cc-26ed-4507-aaf6-faac6b8de613",
   "metadata": {},
   "outputs": [
    {
     "data": {
      "text/plain": [
       "0"
      ]
     },
     "execution_count": 97,
     "metadata": {},
     "output_type": "execute_result"
    }
   ],
   "source": [
    "tup.count(\"d\")"
   ]
  },
  {
   "cell_type": "code",
   "execution_count": 98,
   "id": "31153ef0-b4f3-41e5-809b-7ac3dc386986",
   "metadata": {},
   "outputs": [],
   "source": [
    "tup = (\"red\",\"yellow\", \"orange\", \"whilte\", \"green\", \"w\", \"D\")"
   ]
  },
  {
   "cell_type": "code",
   "execution_count": 99,
   "id": "73d49c56-2303-4c28-a795-9ebe5d14309f",
   "metadata": {},
   "outputs": [
    {
     "data": {
      "text/plain": [
       "('red', 'yellow', 'orange', 'whilte', 'green', 'w', 'D')"
      ]
     },
     "execution_count": 99,
     "metadata": {},
     "output_type": "execute_result"
    }
   ],
   "source": [
    "tup"
   ]
  },
  {
   "cell_type": "code",
   "execution_count": 100,
   "id": "a31ed77a-d574-42dd-b4ef-6ba036725fb1",
   "metadata": {},
   "outputs": [
    {
     "data": {
      "text/plain": [
       "1"
      ]
     },
     "execution_count": 100,
     "metadata": {},
     "output_type": "execute_result"
    }
   ],
   "source": [
    "tup.count(\"D\")"
   ]
  },
  {
   "cell_type": "code",
   "execution_count": 101,
   "id": "4f5393f5-756f-443e-b673-0c65585ccfc8",
   "metadata": {},
   "outputs": [
    {
     "data": {
      "text/plain": [
       "1"
      ]
     },
     "execution_count": 101,
     "metadata": {},
     "output_type": "execute_result"
    }
   ],
   "source": [
    "tup.count(\"w\")"
   ]
  },
  {
   "cell_type": "code",
   "execution_count": 102,
   "id": "17615017-e7d4-4426-9a26-911879a28701",
   "metadata": {},
   "outputs": [
    {
     "data": {
      "text/plain": [
       "2"
      ]
     },
     "execution_count": 102,
     "metadata": {},
     "output_type": "execute_result"
    }
   ],
   "source": [
    "tup.index(\"orange\")"
   ]
  },
  {
   "cell_type": "code",
   "execution_count": 106,
   "id": "3035d9e6-418c-4355-98f0-52c80205bcbf",
   "metadata": {},
   "outputs": [
    {
     "data": {
      "text/plain": [
       "'a'"
      ]
     },
     "execution_count": 106,
     "metadata": {},
     "output_type": "execute_result"
    }
   ],
   "source": [
    "tup[2][2]"
   ]
  },
  {
   "cell_type": "code",
   "execution_count": 107,
   "id": "6efdbf58-5a85-4432-91ee-5ddef1ca05fa",
   "metadata": {},
   "outputs": [
    {
     "data": {
      "text/plain": [
       "['red', 'yellow', 'orange', 'whilte', 'green', 'w', 'D']"
      ]
     },
     "execution_count": 107,
     "metadata": {},
     "output_type": "execute_result"
    }
   ],
   "source": [
    "list(tup)"
   ]
  },
  {
   "cell_type": "code",
   "execution_count": 109,
   "id": "c58c3be3-25c0-43eb-90ad-57c2eaac47d6",
   "metadata": {},
   "outputs": [
    {
     "data": {
      "text/plain": [
       "('red', 'white', 'blue', 'yellow', 'red', 'white', 'blue', 'yellow')"
      ]
     },
     "execution_count": 109,
     "metadata": {},
     "output_type": "execute_result"
    }
   ],
   "source": [
    "tup1"
   ]
  },
  {
   "cell_type": "code",
   "execution_count": 111,
   "id": "67efa9ee-afb8-418c-b2a0-f9c0634711ce",
   "metadata": {},
   "outputs": [],
   "source": [
    "lis = list(tup1)"
   ]
  },
  {
   "cell_type": "code",
   "execution_count": 113,
   "id": "09c5e7b4-e047-432b-8078-912f69103408",
   "metadata": {},
   "outputs": [],
   "source": [
    "lis[6] = \"Green\""
   ]
  },
  {
   "cell_type": "code",
   "execution_count": 116,
   "id": "04c0f7bc-64ad-4ecd-a099-7fca5e4c4630",
   "metadata": {},
   "outputs": [
    {
     "data": {
      "text/plain": [
       "('red', 'white', 'blue', 'yellow', 'red', 'white', 'Green', 'yellow')"
      ]
     },
     "execution_count": 116,
     "metadata": {},
     "output_type": "execute_result"
    }
   ],
   "source": [
    "tuple(lis)"
   ]
  },
  {
   "cell_type": "code",
   "execution_count": null,
   "id": "04d5bac9-fbdc-41ea-ae2f-d6156d7ffdcc",
   "metadata": {},
   "outputs": [],
   "source": []
  },
  {
   "cell_type": "code",
   "execution_count": null,
   "id": "d5c33a60-45ad-4f29-8352-0aa88905b529",
   "metadata": {},
   "outputs": [],
   "source": []
  },
  {
   "cell_type": "markdown",
   "id": "19cbb4e4-a8cf-4b4d-b51a-38829660d4cd",
   "metadata": {},
   "source": [
    "### List"
   ]
  },
  {
   "cell_type": "code",
   "execution_count": 117,
   "id": "a041ccf8-5a79-4305-b320-6fddb02292ee",
   "metadata": {},
   "outputs": [
    {
     "data": {
      "text/plain": [
       "['red', 'white', 'blue', 'yellow', 'red', 'white', 'Green', 'yellow']"
      ]
     },
     "execution_count": 117,
     "metadata": {},
     "output_type": "execute_result"
    }
   ],
   "source": [
    "lis"
   ]
  },
  {
   "cell_type": "code",
   "execution_count": 118,
   "id": "a7f098f6-5125-445e-aba4-20c1a1000bff",
   "metadata": {},
   "outputs": [
    {
     "data": {
      "text/plain": [
       "'white'"
      ]
     },
     "execution_count": 118,
     "metadata": {},
     "output_type": "execute_result"
    }
   ],
   "source": [
    "lis[5]"
   ]
  },
  {
   "cell_type": "code",
   "execution_count": 120,
   "id": "c6318a36-46d4-47bd-b193-8f92cafeca1f",
   "metadata": {},
   "outputs": [
    {
     "data": {
      "text/plain": [
       "['red', 'Green']"
      ]
     },
     "execution_count": 120,
     "metadata": {},
     "output_type": "execute_result"
    }
   ],
   "source": [
    "lis[4:8:2]"
   ]
  },
  {
   "cell_type": "code",
   "execution_count": 122,
   "id": "ed14f211-02e5-47a2-bc6b-19e3339e0764",
   "metadata": {},
   "outputs": [
    {
     "data": {
      "text/plain": [
       "['red',\n",
       " 'white',\n",
       " 'blue',\n",
       " 'yellow',\n",
       " 'red',\n",
       " 'white',\n",
       " 'Green',\n",
       " 'yellow',\n",
       " 'red',\n",
       " 'white',\n",
       " 'blue',\n",
       " 'yellow',\n",
       " 'red',\n",
       " 'white',\n",
       " 'Green',\n",
       " 'yellow']"
      ]
     },
     "execution_count": 122,
     "metadata": {},
     "output_type": "execute_result"
    }
   ],
   "source": [
    "lis + lis"
   ]
  },
  {
   "cell_type": "code",
   "execution_count": 124,
   "id": "b78edcb0-a943-42cc-a37b-922d9d79b85e",
   "metadata": {},
   "outputs": [
    {
     "data": {
      "text/plain": [
       "['red',\n",
       " 'white',\n",
       " 'blue',\n",
       " 'yellow',\n",
       " 'red',\n",
       " 'white',\n",
       " 'Green',\n",
       " 'yellow',\n",
       " 'red',\n",
       " 'white',\n",
       " 'blue',\n",
       " 'yellow',\n",
       " 'red',\n",
       " 'white',\n",
       " 'Green',\n",
       " 'yellow',\n",
       " 'red',\n",
       " 'white',\n",
       " 'blue',\n",
       " 'yellow',\n",
       " 'red',\n",
       " 'white',\n",
       " 'Green',\n",
       " 'yellow']"
      ]
     },
     "execution_count": 124,
     "metadata": {},
     "output_type": "execute_result"
    }
   ],
   "source": [
    "lis * 3"
   ]
  },
  {
   "cell_type": "code",
   "execution_count": 126,
   "id": "c5c769c8-d5ec-4df4-ba0b-3e2851f8e923",
   "metadata": {},
   "outputs": [],
   "source": [
    "lis[1] =\"purple\""
   ]
  },
  {
   "cell_type": "code",
   "execution_count": 127,
   "id": "f5ec5bbb-93ca-463e-baf3-9f9e7daf6aeb",
   "metadata": {},
   "outputs": [
    {
     "data": {
      "text/plain": [
       "['red', 'purple', 'blue', 'yellow', 'red', 'white', 'Green', 'yellow']"
      ]
     },
     "execution_count": 127,
     "metadata": {},
     "output_type": "execute_result"
    }
   ],
   "source": [
    "lis"
   ]
  },
  {
   "cell_type": "code",
   "execution_count": 129,
   "id": "ff858fbc-b70b-46e1-8353-87e152e703a0",
   "metadata": {},
   "outputs": [
    {
     "data": {
      "text/plain": [
       "False"
      ]
     },
     "execution_count": 129,
     "metadata": {},
     "output_type": "execute_result"
    }
   ],
   "source": [
    "var is lis"
   ]
  },
  {
   "cell_type": "code",
   "execution_count": 130,
   "id": "78b799de-9902-4888-b54b-3bddeee83ab4",
   "metadata": {},
   "outputs": [
    {
     "data": {
      "text/plain": [
       "True"
      ]
     },
     "execution_count": 130,
     "metadata": {},
     "output_type": "execute_result"
    }
   ],
   "source": [
    "\"red\" in lis"
   ]
  },
  {
   "cell_type": "code",
   "execution_count": 131,
   "id": "5a6dfaf7-edaf-4723-b000-54a8e00f5e14",
   "metadata": {},
   "outputs": [
    {
     "name": "stderr",
     "output_type": "stream",
     "text": [
      "<>:1: SyntaxWarning: \"is\" with a literal. Did you mean \"==\"?\n",
      "<>:1: SyntaxWarning: \"is\" with a literal. Did you mean \"==\"?\n",
      "C:\\Users\\amitm\\AppData\\Local\\Temp\\ipykernel_10908\\2210887203.py:1: SyntaxWarning: \"is\" with a literal. Did you mean \"==\"?\n",
      "  \"red\" is lis\n"
     ]
    },
    {
     "data": {
      "text/plain": [
       "False"
      ]
     },
     "execution_count": 131,
     "metadata": {},
     "output_type": "execute_result"
    }
   ],
   "source": [
    "\"red\" is lis"
   ]
  },
  {
   "cell_type": "code",
   "execution_count": null,
   "id": "4a5b302f-d1c9-4a68-b317-0a87f358fc75",
   "metadata": {},
   "outputs": [],
   "source": [
    "a = \"abc\"\n",
    "b = \"\""
   ]
  }
 ],
 "metadata": {
  "kernelspec": {
   "display_name": "Python 3 (ipykernel)",
   "language": "python",
   "name": "python3"
  },
  "language_info": {
   "codemirror_mode": {
    "name": "ipython",
    "version": 3
   },
   "file_extension": ".py",
   "mimetype": "text/x-python",
   "name": "python",
   "nbconvert_exporter": "python",
   "pygments_lexer": "ipython3",
   "version": "3.11.7"
  }
 },
 "nbformat": 4,
 "nbformat_minor": 5
}
