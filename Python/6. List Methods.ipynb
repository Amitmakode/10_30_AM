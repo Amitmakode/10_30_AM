{
 "cells": [
  {
   "cell_type": "code",
   "execution_count": 5,
   "id": "2db4af0b",
   "metadata": {},
   "outputs": [
    {
     "name": "stdout",
     "output_type": "stream",
     "text": [
      "True\n",
      "False\n"
     ]
    }
   ],
   "source": [
    "### Checking Items in a List\n",
    "\n",
    "#Checking an item if it is a member of a list using *in* operator. See the example below.\n",
    "\n",
    "\n",
    "fruits = ['banana', 'orange', 'mango', 'lemon']\n",
    "\n",
    "does_exist = 'banana' in fruits\n",
    "print(does_exist)  # True\n",
    "\n",
    "\n",
    "does_exist = 'lime' in fruits\n",
    "print(does_exist)  # False"
   ]
  },
  {
   "cell_type": "code",
   "execution_count": 9,
   "id": "c2d469b4",
   "metadata": {},
   "outputs": [
    {
     "name": "stderr",
     "output_type": "stream",
     "text": [
      "<>:1: SyntaxWarning: \"is not\" with a literal. Did you mean \"!=\"?\n",
      "<>:1: SyntaxWarning: \"is not\" with a literal. Did you mean \"!=\"?\n",
      "C:\\Users\\amitm\\AppData\\Local\\Temp\\ipykernel_6252\\750844813.py:1: SyntaxWarning: \"is not\" with a literal. Did you mean \"!=\"?\n",
      "  'banana' is not \"Banana\"\n"
     ]
    },
    {
     "data": {
      "text/plain": [
       "True"
      ]
     },
     "execution_count": 9,
     "metadata": {},
     "output_type": "execute_result"
    }
   ],
   "source": [
    "'banana' is not \"Banana\""
   ]
  },
  {
   "cell_type": "code",
   "execution_count": 10,
   "id": "3889efb8",
   "metadata": {},
   "outputs": [
    {
     "name": "stdout",
     "output_type": "stream",
     "text": [
      "['banana', 'orange', 'mango', 'lemon', 'apple']\n",
      "['banana', 'orange', 'mango', 'lemon', 'apple', 'lime']\n"
     ]
    }
   ],
   "source": [
    "### Adding Items to a List\n",
    "\n",
    "#To add item to the end of an existing list we use the method *append()*.\n",
    "\n",
    "\n",
    "fruits = ['banana', 'orange', 'mango', 'lemon']\n",
    "\n",
    "fruits.append(\"apple\")\n",
    "\n",
    "print(fruits)           # ['banana', 'orange', 'mango', 'lemon', 'apple']\n",
    "fruits.append('lime')   # ['banana', 'orange', 'mango', 'lemon', 'apple', 'lime']\n",
    "print(fruits)\n"
   ]
  },
  {
   "cell_type": "code",
   "execution_count": 11,
   "id": "291450ac",
   "metadata": {},
   "outputs": [],
   "source": [
    "fruits.append(\"apple\")"
   ]
  },
  {
   "cell_type": "code",
   "execution_count": 12,
   "id": "81e49015",
   "metadata": {},
   "outputs": [
    {
     "data": {
      "text/plain": [
       "['banana', 'orange', 'mango', 'lemon', 'apple', 'lime', 'apple']"
      ]
     },
     "execution_count": 12,
     "metadata": {},
     "output_type": "execute_result"
    }
   ],
   "source": [
    "fruits"
   ]
  },
  {
   "cell_type": "code",
   "execution_count": 14,
   "id": "2d43935f",
   "metadata": {},
   "outputs": [],
   "source": [
    "fruits.append([\"apple\", \"lime\", \"chiku\"])"
   ]
  },
  {
   "cell_type": "code",
   "execution_count": 15,
   "id": "7868296b",
   "metadata": {},
   "outputs": [
    {
     "data": {
      "text/plain": [
       "['banana',\n",
       " 'orange',\n",
       " 'mango',\n",
       " 'lemon',\n",
       " 'apple',\n",
       " 'lime',\n",
       " 'apple',\n",
       " ['apple', 'lime', 'chiku']]"
      ]
     },
     "execution_count": 15,
     "metadata": {},
     "output_type": "execute_result"
    }
   ],
   "source": [
    "fruits"
   ]
  },
  {
   "cell_type": "code",
   "execution_count": 17,
   "id": "48bc9850",
   "metadata": {},
   "outputs": [],
   "source": [
    "fruits1 = fruits.copy()"
   ]
  },
  {
   "cell_type": "code",
   "execution_count": 18,
   "id": "863dbfa0",
   "metadata": {},
   "outputs": [
    {
     "data": {
      "text/plain": [
       "['banana',\n",
       " 'orange',\n",
       " 'mango',\n",
       " 'lemon',\n",
       " 'apple',\n",
       " 'lime',\n",
       " 'apple',\n",
       " ['apple', 'lime', 'chiku']]"
      ]
     },
     "execution_count": 18,
     "metadata": {},
     "output_type": "execute_result"
    }
   ],
   "source": [
    "fruits1"
   ]
  },
  {
   "cell_type": "code",
   "execution_count": 19,
   "id": "c30fe1c3",
   "metadata": {},
   "outputs": [],
   "source": [
    "fruits.extend('lime')"
   ]
  },
  {
   "cell_type": "code",
   "execution_count": 20,
   "id": "bc86a264",
   "metadata": {},
   "outputs": [
    {
     "data": {
      "text/plain": [
       "['banana',\n",
       " 'orange',\n",
       " 'mango',\n",
       " 'lemon',\n",
       " 'apple',\n",
       " 'lime',\n",
       " 'apple',\n",
       " ['apple', 'lime', 'chiku'],\n",
       " 'l',\n",
       " 'i',\n",
       " 'm',\n",
       " 'e']"
      ]
     },
     "execution_count": 20,
     "metadata": {},
     "output_type": "execute_result"
    }
   ],
   "source": [
    "fruits"
   ]
  },
  {
   "cell_type": "code",
   "execution_count": 21,
   "id": "e018a17d",
   "metadata": {},
   "outputs": [],
   "source": [
    "fruits.extend(['apple', 'lime', 'chiku'])"
   ]
  },
  {
   "cell_type": "code",
   "execution_count": 23,
   "id": "e61ea7e9",
   "metadata": {},
   "outputs": [
    {
     "ename": "TypeError",
     "evalue": "'int' object is not iterable",
     "output_type": "error",
     "traceback": [
      "\u001b[1;31m---------------------------------------------------------------------------\u001b[0m",
      "\u001b[1;31mTypeError\u001b[0m                                 Traceback (most recent call last)",
      "Cell \u001b[1;32mIn[23], line 1\u001b[0m\n\u001b[1;32m----> 1\u001b[0m fruits\u001b[38;5;241m.\u001b[39mextend(\u001b[38;5;241m7648\u001b[39m)\n",
      "\u001b[1;31mTypeError\u001b[0m: 'int' object is not iterable"
     ]
    }
   ],
   "source": [
    "fruits.extend(7648)"
   ]
  },
  {
   "cell_type": "code",
   "execution_count": 24,
   "id": "c957faae",
   "metadata": {},
   "outputs": [],
   "source": [
    "fruits.append(7648)"
   ]
  },
  {
   "cell_type": "code",
   "execution_count": 25,
   "id": "bb9d8eea",
   "metadata": {},
   "outputs": [
    {
     "data": {
      "text/plain": [
       "['banana',\n",
       " 'orange',\n",
       " 'mango',\n",
       " 'lemon',\n",
       " 'apple',\n",
       " 'lime',\n",
       " 'apple',\n",
       " ['apple', 'lime', 'chiku'],\n",
       " 'l',\n",
       " 'i',\n",
       " 'm',\n",
       " 'e',\n",
       " 'apple',\n",
       " 'lime',\n",
       " 'chiku',\n",
       " 7648]"
      ]
     },
     "execution_count": 25,
     "metadata": {},
     "output_type": "execute_result"
    }
   ],
   "source": [
    "fruits"
   ]
  },
  {
   "cell_type": "code",
   "execution_count": 26,
   "id": "0d21acd2",
   "metadata": {},
   "outputs": [],
   "source": [
    "fruits.extend(['lime'])"
   ]
  },
  {
   "cell_type": "code",
   "execution_count": 27,
   "id": "50bef656",
   "metadata": {},
   "outputs": [
    {
     "data": {
      "text/plain": [
       "['banana',\n",
       " 'orange',\n",
       " 'mango',\n",
       " 'lemon',\n",
       " 'apple',\n",
       " 'lime',\n",
       " 'apple',\n",
       " ['apple', 'lime', 'chiku'],\n",
       " 'l',\n",
       " 'i',\n",
       " 'm',\n",
       " 'e',\n",
       " 'apple',\n",
       " 'lime',\n",
       " 'chiku',\n",
       " 7648,\n",
       " 'lime']"
      ]
     },
     "execution_count": 27,
     "metadata": {},
     "output_type": "execute_result"
    }
   ],
   "source": [
    "fruits"
   ]
  },
  {
   "cell_type": "code",
   "execution_count": 28,
   "id": "1747f129",
   "metadata": {},
   "outputs": [],
   "source": [
    "var = [1,23,\"amit\"]"
   ]
  },
  {
   "cell_type": "code",
   "execution_count": 30,
   "id": "ab2e4ff7",
   "metadata": {},
   "outputs": [],
   "source": [
    "var.append(\"abc\")"
   ]
  },
  {
   "cell_type": "code",
   "execution_count": 32,
   "id": "1ff39d5e",
   "metadata": {},
   "outputs": [],
   "source": [
    "var.extend(\"xyz\")"
   ]
  },
  {
   "cell_type": "code",
   "execution_count": 33,
   "id": "66945bab",
   "metadata": {},
   "outputs": [
    {
     "data": {
      "text/plain": [
       "[1, 23, 'amit', 'abc', 'x', 'y', 'z']"
      ]
     },
     "execution_count": 33,
     "metadata": {},
     "output_type": "execute_result"
    }
   ],
   "source": [
    "var"
   ]
  },
  {
   "cell_type": "code",
   "execution_count": 38,
   "id": "0f3cd6cc",
   "metadata": {},
   "outputs": [
    {
     "data": {
      "text/plain": [
       "3"
      ]
     },
     "execution_count": 38,
     "metadata": {},
     "output_type": "execute_result"
    }
   ],
   "source": [
    "fruits.count(\"apple\")"
   ]
  },
  {
   "cell_type": "code",
   "execution_count": 37,
   "id": "92b8e25a",
   "metadata": {},
   "outputs": [
    {
     "data": {
      "text/plain": [
       "['banana',\n",
       " 'orange',\n",
       " 'mango',\n",
       " 'lemon',\n",
       " 'apple',\n",
       " 'lime',\n",
       " 'apple',\n",
       " ['apple', 'lime', 'chiku'],\n",
       " 'l',\n",
       " 'i',\n",
       " 'm',\n",
       " 'e',\n",
       " 'apple',\n",
       " 'lime',\n",
       " 'chiku',\n",
       " 7648,\n",
       " 'lime']"
      ]
     },
     "execution_count": 37,
     "metadata": {},
     "output_type": "execute_result"
    }
   ],
   "source": [
    "fruits"
   ]
  },
  {
   "cell_type": "code",
   "execution_count": 41,
   "id": "ee9f9800",
   "metadata": {},
   "outputs": [
    {
     "data": {
      "text/plain": [
       "5"
      ]
     },
     "execution_count": 41,
     "metadata": {},
     "output_type": "execute_result"
    }
   ],
   "source": [
    "fruits.index(\"lime\")"
   ]
  },
  {
   "cell_type": "code",
   "execution_count": 43,
   "id": "8bb78e20",
   "metadata": {},
   "outputs": [],
   "source": [
    "fruits.insert(2, \"pieapple\")"
   ]
  },
  {
   "cell_type": "code",
   "execution_count": 44,
   "id": "3394389c",
   "metadata": {},
   "outputs": [
    {
     "data": {
      "text/plain": [
       "['banana',\n",
       " 'orange',\n",
       " 'pieapple',\n",
       " 'mango',\n",
       " 'lemon',\n",
       " 'apple',\n",
       " 'lime',\n",
       " 'apple',\n",
       " ['apple', 'lime', 'chiku'],\n",
       " 'l',\n",
       " 'i',\n",
       " 'm',\n",
       " 'e',\n",
       " 'apple',\n",
       " 'lime',\n",
       " 'chiku',\n",
       " 7648,\n",
       " 'lime']"
      ]
     },
     "execution_count": 44,
     "metadata": {},
     "output_type": "execute_result"
    }
   ],
   "source": [
    "fruits"
   ]
  },
  {
   "cell_type": "code",
   "execution_count": 45,
   "id": "d0c1ebaa",
   "metadata": {},
   "outputs": [],
   "source": [
    "fruits.insert(0, \"melon\")"
   ]
  },
  {
   "cell_type": "code",
   "execution_count": 46,
   "id": "6c10e540",
   "metadata": {},
   "outputs": [
    {
     "data": {
      "text/plain": [
       "['melon',\n",
       " 'banana',\n",
       " 'orange',\n",
       " 'pieapple',\n",
       " 'mango',\n",
       " 'lemon',\n",
       " 'apple',\n",
       " 'lime',\n",
       " 'apple',\n",
       " ['apple', 'lime', 'chiku'],\n",
       " 'l',\n",
       " 'i',\n",
       " 'm',\n",
       " 'e',\n",
       " 'apple',\n",
       " 'lime',\n",
       " 'chiku',\n",
       " 7648,\n",
       " 'lime']"
      ]
     },
     "execution_count": 46,
     "metadata": {},
     "output_type": "execute_result"
    }
   ],
   "source": [
    "fruits"
   ]
  },
  {
   "cell_type": "code",
   "execution_count": 49,
   "id": "33abcf05",
   "metadata": {},
   "outputs": [
    {
     "data": {
      "text/plain": [
       "7648"
      ]
     },
     "execution_count": 49,
     "metadata": {},
     "output_type": "execute_result"
    }
   ],
   "source": [
    "fruits.pop()"
   ]
  },
  {
   "cell_type": "code",
   "execution_count": 50,
   "id": "6f3c666e",
   "metadata": {},
   "outputs": [
    {
     "data": {
      "text/plain": [
       "['melon',\n",
       " 'banana',\n",
       " 'orange',\n",
       " 'pieapple',\n",
       " 'mango',\n",
       " 'lemon',\n",
       " 'apple',\n",
       " 'lime',\n",
       " 'apple',\n",
       " ['apple', 'lime', 'chiku'],\n",
       " 'l',\n",
       " 'i',\n",
       " 'm',\n",
       " 'e',\n",
       " 'apple',\n",
       " 'lime',\n",
       " 'chiku']"
      ]
     },
     "execution_count": 50,
     "metadata": {},
     "output_type": "execute_result"
    }
   ],
   "source": [
    "fruits"
   ]
  },
  {
   "cell_type": "code",
   "execution_count": 51,
   "id": "838dee94",
   "metadata": {},
   "outputs": [
    {
     "data": {
      "text/plain": [
       "'pieapple'"
      ]
     },
     "execution_count": 51,
     "metadata": {},
     "output_type": "execute_result"
    }
   ],
   "source": [
    "fruits.pop(3)"
   ]
  },
  {
   "cell_type": "code",
   "execution_count": 55,
   "id": "4b1ed87f",
   "metadata": {},
   "outputs": [
    {
     "data": {
      "text/plain": [
       "['orange',\n",
       " 'mango',\n",
       " 'lemon',\n",
       " 'apple',\n",
       " 'lime',\n",
       " 'apple',\n",
       " ['apple', 'lime', 'chiku'],\n",
       " 'l',\n",
       " 'i',\n",
       " 'm',\n",
       " 'e',\n",
       " 'apple',\n",
       " 'lime',\n",
       " 'chiku']"
      ]
     },
     "execution_count": 55,
     "metadata": {},
     "output_type": "execute_result"
    }
   ],
   "source": [
    "fruits"
   ]
  },
  {
   "cell_type": "code",
   "execution_count": 54,
   "id": "2b1db55b",
   "metadata": {},
   "outputs": [
    {
     "data": {
      "text/plain": [
       "'banana'"
      ]
     },
     "execution_count": 54,
     "metadata": {},
     "output_type": "execute_result"
    }
   ],
   "source": [
    "fruits.pop(0)"
   ]
  },
  {
   "cell_type": "code",
   "execution_count": 56,
   "id": "94a6a78a",
   "metadata": {},
   "outputs": [],
   "source": [
    "fruits.remove(\"l\")"
   ]
  },
  {
   "cell_type": "code",
   "execution_count": 57,
   "id": "1f83d2c7",
   "metadata": {},
   "outputs": [
    {
     "data": {
      "text/plain": [
       "['orange',\n",
       " 'mango',\n",
       " 'lemon',\n",
       " 'apple',\n",
       " 'lime',\n",
       " 'apple',\n",
       " ['apple', 'lime', 'chiku'],\n",
       " 'i',\n",
       " 'm',\n",
       " 'e',\n",
       " 'apple',\n",
       " 'lime',\n",
       " 'chiku']"
      ]
     },
     "execution_count": 57,
     "metadata": {},
     "output_type": "execute_result"
    }
   ],
   "source": [
    "fruits"
   ]
  },
  {
   "cell_type": "code",
   "execution_count": 58,
   "id": "0e88bda2",
   "metadata": {},
   "outputs": [],
   "source": [
    "fruits.reverse()"
   ]
  },
  {
   "cell_type": "code",
   "execution_count": 59,
   "id": "ae46a7f9",
   "metadata": {},
   "outputs": [
    {
     "data": {
      "text/plain": [
       "['chiku',\n",
       " 'lime',\n",
       " 'apple',\n",
       " 'e',\n",
       " 'm',\n",
       " 'i',\n",
       " ['apple', 'lime', 'chiku'],\n",
       " 'apple',\n",
       " 'lime',\n",
       " 'apple',\n",
       " 'lemon',\n",
       " 'mango',\n",
       " 'orange']"
      ]
     },
     "execution_count": 59,
     "metadata": {},
     "output_type": "execute_result"
    }
   ],
   "source": [
    "fruits"
   ]
  },
  {
   "cell_type": "code",
   "execution_count": 63,
   "id": "994eaba5",
   "metadata": {},
   "outputs": [
    {
     "data": {
      "text/plain": [
       "<function list.sort(*, key=None, reverse=False)>"
      ]
     },
     "execution_count": 63,
     "metadata": {},
     "output_type": "execute_result"
    }
   ],
   "source": [
    "fruits.sort"
   ]
  },
  {
   "cell_type": "code",
   "execution_count": 65,
   "id": "70b58aa6",
   "metadata": {},
   "outputs": [],
   "source": [
    "fruits.clear()"
   ]
  },
  {
   "cell_type": "code",
   "execution_count": 66,
   "id": "423b7cf5",
   "metadata": {},
   "outputs": [
    {
     "data": {
      "text/plain": [
       "[]"
      ]
     },
     "execution_count": 66,
     "metadata": {},
     "output_type": "execute_result"
    }
   ],
   "source": [
    "fruits"
   ]
  },
  {
   "cell_type": "code",
   "execution_count": 67,
   "id": "93a76561",
   "metadata": {},
   "outputs": [],
   "source": [
    "del(fruits)"
   ]
  },
  {
   "cell_type": "code",
   "execution_count": 68,
   "id": "d57b2a03",
   "metadata": {},
   "outputs": [
    {
     "ename": "NameError",
     "evalue": "name 'fruits' is not defined",
     "output_type": "error",
     "traceback": [
      "\u001b[1;31m---------------------------------------------------------------------------\u001b[0m",
      "\u001b[1;31mNameError\u001b[0m                                 Traceback (most recent call last)",
      "Cell \u001b[1;32mIn[68], line 1\u001b[0m\n\u001b[1;32m----> 1\u001b[0m fruits\n",
      "\u001b[1;31mNameError\u001b[0m: name 'fruits' is not defined"
     ]
    }
   ],
   "source": [
    "fruits"
   ]
  },
  {
   "cell_type": "code",
   "execution_count": 69,
   "id": "f9597370",
   "metadata": {},
   "outputs": [],
   "source": [
    "ages = [22, 19, 24, 25, 26, 24, 25, 24]"
   ]
  },
  {
   "cell_type": "code",
   "execution_count": 70,
   "id": "145bacc6",
   "metadata": {},
   "outputs": [],
   "source": [
    "ages.sort()"
   ]
  },
  {
   "cell_type": "code",
   "execution_count": 71,
   "id": "9d3b2499",
   "metadata": {},
   "outputs": [
    {
     "data": {
      "text/plain": [
       "[19, 22, 24, 24, 24, 25, 25, 26]"
      ]
     },
     "execution_count": 71,
     "metadata": {},
     "output_type": "execute_result"
    }
   ],
   "source": [
    "ages"
   ]
  },
  {
   "cell_type": "code",
   "execution_count": 72,
   "id": "decf6590",
   "metadata": {},
   "outputs": [],
   "source": [
    "ages.sort(reverse=True)"
   ]
  },
  {
   "cell_type": "code",
   "execution_count": 73,
   "id": "37d7999d",
   "metadata": {},
   "outputs": [
    {
     "data": {
      "text/plain": [
       "[26, 25, 25, 24, 24, 24, 22, 19]"
      ]
     },
     "execution_count": 73,
     "metadata": {},
     "output_type": "execute_result"
    }
   ],
   "source": [
    "ages"
   ]
  },
  {
   "cell_type": "code",
   "execution_count": null,
   "id": "dda8ef1a",
   "metadata": {},
   "outputs": [],
   "source": []
  },
  {
   "cell_type": "code",
   "execution_count": null,
   "id": "fdff8272",
   "metadata": {},
   "outputs": [],
   "source": [
    "### Exercises: Level 1\n",
    "\n",
    "1. Declare an empty list\n",
    "2. Declare a list with more than 5 items\n",
    "3. Find the length of your list\n",
    "4. Get the first item, the middle item and the last item of the list\n",
    "5. Declare a list called mixed_data_types, put your(name, age, height, marital status, address)\n",
    "6. Declare a list variable named it_companies and assign initial values Facebook, Google, Microsoft, Apple, IBM, Oracle and Amazon.\n",
    "7. Print the list using _print()_\n",
    "8. Print the number of companies in the list\n",
    "9. Print the first, middle and last company\n",
    "10. Print the list after modifying one of the companies\n",
    "11. Add an IT company to it_companies\n",
    "12. Insert an IT company in the middle of the companies list\n",
    "13. Change one of the it_companies names to uppercase (IBM excluded!)\n",
    "14. Join the it_companies with a string '#;&nbsp; '\n",
    "15. Check if a certain company exists in the it_companies list.\n",
    "16. Sort the list using sort() method\n",
    "17. Reverse the list in descending order using reverse() method\n",
    "18. Slice out the first 3 companies from the list\n",
    "19. Slice out the last 3 companies from the list\n",
    "20. Slice out the middle IT company or companies from the list\n",
    "21. Remove the first IT company from the list\n",
    "22. Remove the middle IT company or companies from the list\n",
    "23. Remove the last IT company from the list\n",
    "24. Remove all IT companies from the list\n",
    "25. Destroy the IT companies list\n",
    "26. Join the following lists:\n",
    "\n",
    "    ```py\n",
    "    front_end = ['HTML', 'CSS', 'JS', 'React', 'Redux']\n",
    "    back_end = ['Node','Express', 'MongoDB']\n",
    "    ```\n",
    "\n",
    "27. After joining the lists in question 26. Copy the joined list and assign it to a variable full_stack. Then insert Python and SQL after Redux.\n",
    "\n",
    "### Exercises: Level 2\n",
    "\n",
    "1. The following is a list of 10 students ages:\n",
    "\n",
    "```sh\n",
    "ages = [19, 22, 19, 24, 20, 25, 26, 24, 25, 24]\n",
    "```\n",
    "\n",
    "- Sort the list and find the min and max age\n",
    "- Add the min age and the max age again to the list\n",
    "- Find the median age (one middle item or two middle items divided by two)\n",
    "- Find the average age (sum of all items divided by their number )\n",
    "- Find the range of the ages (max minus min)\n",
    "- Compare the value of (min - average) and (max - average), use _abs()_ method\n",
    "\n",
    "1. Find the middle country(ies) in the [countries list](https://github.com/Asabeneh/30-Days-Of-Python/tree/master/data/countries.py)\n",
    "1. Divide the countries list into two equal lists if it is even if not one more country for the first half.\n",
    "1. ['China', 'Russia', 'USA', 'Finland', 'Sweden', 'Norway', 'Denmark']. Unpack the first three countries and the rest as scandic countries."
   ]
  },
  {
   "cell_type": "code",
   "execution_count": null,
   "id": "408f8dd3",
   "metadata": {},
   "outputs": [],
   "source": []
  }
 ],
 "metadata": {
  "kernelspec": {
   "display_name": "Python 3 (ipykernel)",
   "language": "python",
   "name": "python3"
  },
  "language_info": {
   "codemirror_mode": {
    "name": "ipython",
    "version": 3
   },
   "file_extension": ".py",
   "mimetype": "text/x-python",
   "name": "python",
   "nbconvert_exporter": "python",
   "pygments_lexer": "ipython3",
   "version": "3.11.5"
  }
 },
 "nbformat": 4,
 "nbformat_minor": 5
}
