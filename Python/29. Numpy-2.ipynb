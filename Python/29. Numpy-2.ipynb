{
 "cells": [
  {
   "cell_type": "markdown",
   "id": "e99dabcb-5e17-46e0-903c-8a173e912c9d",
   "metadata": {},
   "source": [
    "### math"
   ]
  },
  {
   "cell_type": "code",
   "execution_count": 1,
   "id": "84278ab2-3690-4d12-91ec-25dd77172d75",
   "metadata": {},
   "outputs": [
    {
     "name": "stdout",
     "output_type": "stream",
     "text": [
      "[[ 4 10 11]\n",
      " [21 22 23]\n",
      " [31 32 33]]\n",
      "[[1. 1. 1.]\n",
      " [1. 1. 1.]\n",
      " [1. 1. 1.]]\n"
     ]
    }
   ],
   "source": [
    "import numpy as np\n",
    "A = np.array([ [4, 10, 11], [21, 22, 23], [31, 32, 33] ])\n",
    "B = np.ones((3,3))\n",
    "print(A)\n",
    "print(B)"
   ]
  },
  {
   "cell_type": "code",
   "execution_count": 2,
   "id": "b0f6d129-455d-4d01-8fdf-13faa52485f2",
   "metadata": {},
   "outputs": [
    {
     "name": "stdout",
     "output_type": "stream",
     "text": [
      "Adding to arrays: \n",
      "[[ 5. 11. 12.]\n",
      " [22. 23. 24.]\n",
      " [32. 33. 34.]]\n"
     ]
    }
   ],
   "source": [
    "print(\"Adding to arrays: \")\n",
    "print(A + B)"
   ]
  },
  {
   "cell_type": "code",
   "execution_count": 3,
   "id": "21115b33-da7b-4ba3-8d95-419087321500",
   "metadata": {},
   "outputs": [
    {
     "name": "stdout",
     "output_type": "stream",
     "text": [
      "Substracting Two Arrays\n",
      "[[ 3.  9. 10.]\n",
      " [20. 21. 22.]\n",
      " [30. 31. 32.]]\n"
     ]
    }
   ],
   "source": [
    "print(\"Substracting Two Arrays\")\n",
    "print(A-B)"
   ]
  },
  {
   "cell_type": "code",
   "execution_count": 4,
   "id": "7680e9e6-fd48-4028-813d-15df5d922201",
   "metadata": {},
   "outputs": [
    {
     "name": "stdout",
     "output_type": "stream",
     "text": [
      "\n",
      "Multiplying two arrays: \n",
      "[[ 4. 10. 11.]\n",
      " [21. 22. 23.]\n",
      " [31. 32. 33.]]\n"
     ]
    }
   ],
   "source": [
    "print(\"\\nMultiplying two arrays: \")\n",
    "print(A * B)"
   ]
  },
  {
   "cell_type": "code",
   "execution_count": 5,
   "id": "8abd0337-e6e7-45aa-b3d6-656fbf0507d0",
   "metadata": {},
   "outputs": [
    {
     "name": "stdout",
     "output_type": "stream",
     "text": [
      "Multiplying one Array with scalar\n",
      "[[12 30 33]\n",
      " [63 66 69]\n",
      " [93 96 99]]\n"
     ]
    }
   ],
   "source": [
    "print(\"Multiplying one Array with scalar\")\n",
    "print(3*A)"
   ]
  },
  {
   "cell_type": "code",
   "execution_count": 6,
   "id": "9a7f3147-baa0-4cf0-838b-a2640472e53c",
   "metadata": {},
   "outputs": [
    {
     "name": "stdout",
     "output_type": "stream",
     "text": [
      "Matrix Multiplication\n",
      "[[25. 25. 25.]\n",
      " [66. 66. 66.]\n",
      " [96. 96. 96.]]\n"
     ]
    }
   ],
   "source": [
    "print(\"Matrix Multiplication\")\n",
    "print(np.dot(A,B))"
   ]
  },
  {
   "cell_type": "code",
   "execution_count": 7,
   "id": "29afe1df-9e44-469c-b092-acd4f47b8ff4",
   "metadata": {},
   "outputs": [
    {
     "data": {
      "text/plain": [
       "array([[2.        , 3.16227766, 3.31662479],\n",
       "       [4.58257569, 4.69041576, 4.79583152],\n",
       "       [5.56776436, 5.65685425, 5.74456265]])"
      ]
     },
     "execution_count": 7,
     "metadata": {},
     "output_type": "execute_result"
    }
   ],
   "source": [
    "np.sqrt(A)"
   ]
  },
  {
   "cell_type": "code",
   "execution_count": 8,
   "id": "0c596320-b24b-4f70-ac41-b186a3636ef3",
   "metadata": {},
   "outputs": [
    {
     "data": {
      "text/plain": [
       "array([[5.45981500e+01, 2.20264658e+04, 5.98741417e+04],\n",
       "       [1.31881573e+09, 3.58491285e+09, 9.74480345e+09],\n",
       "       [2.90488497e+13, 7.89629602e+13, 2.14643580e+14]])"
      ]
     },
     "execution_count": 8,
     "metadata": {},
     "output_type": "execute_result"
    }
   ],
   "source": [
    "np.exp(A)"
   ]
  },
  {
   "cell_type": "code",
   "execution_count": 9,
   "id": "9ef9e9ab-3e95-4dd9-81cc-0ee35e1bd0a8",
   "metadata": {},
   "outputs": [
    {
     "data": {
      "text/plain": [
       "array([[1.38629436, 2.30258509, 2.39789527],\n",
       "       [3.04452244, 3.09104245, 3.13549422],\n",
       "       [3.4339872 , 3.4657359 , 3.49650756]])"
      ]
     },
     "execution_count": 9,
     "metadata": {},
     "output_type": "execute_result"
    }
   ],
   "source": [
    "np.log(A)"
   ]
  },
  {
   "cell_type": "code",
   "execution_count": 10,
   "id": "680008e5-671b-4959-8288-8739c4330636",
   "metadata": {},
   "outputs": [
    {
     "name": "stdout",
     "output_type": "stream",
     "text": [
      "[ 0 30 45 60 90]\n",
      "Sine of different angles:\n"
     ]
    }
   ],
   "source": [
    "a = np.array([0,30,45,60,90]) \n",
    "print(a)\n",
    "print ('Sine of different angles:' )"
   ]
  },
  {
   "cell_type": "code",
   "execution_count": 11,
   "id": "b8beecf3-9120-4be7-a91b-b892c7af9fa2",
   "metadata": {},
   "outputs": [
    {
     "name": "stdout",
     "output_type": "stream",
     "text": [
      "[0.         0.5        0.70710678 0.8660254  1.        ]\n",
      "\n",
      "\n"
     ]
    }
   ],
   "source": [
    "# Convert to radians by multiplying with pi/180 \n",
    "print (np.sin(a*np.pi/180) )\n",
    "print (\"\\n\") "
   ]
  },
  {
   "cell_type": "code",
   "execution_count": 12,
   "id": "b25047ae-5687-4250-80ba-bd2962ab2fe6",
   "metadata": {},
   "outputs": [
    {
     "name": "stdout",
     "output_type": "stream",
     "text": [
      "Cosine values for angles in array:\n",
      "[1.00000000e+00 8.66025404e-01 7.07106781e-01 5.00000000e-01\n",
      " 6.12323400e-17]\n",
      "\n",
      "\n"
     ]
    }
   ],
   "source": [
    "print ('Cosine values for angles in array:')\n",
    "print (np.cos(a*np.pi/180) )\n",
    "print (\"\\n\") "
   ]
  },
  {
   "cell_type": "code",
   "execution_count": 13,
   "id": "231eb0d6-b0ff-456d-ab03-6c6b4f7cf3c8",
   "metadata": {},
   "outputs": [
    {
     "name": "stdout",
     "output_type": "stream",
     "text": [
      "Tangent values for given angles:\n",
      "[0.00000000e+00 5.77350269e-01 1.00000000e+00 1.73205081e+00\n",
      " 1.63312394e+16]\n"
     ]
    }
   ],
   "source": [
    "print ('Tangent values for given angles:' )\n",
    "print (np.tan(a*np.pi/180) )"
   ]
  },
  {
   "cell_type": "code",
   "execution_count": 14,
   "id": "c4220e8c-ec5e-4328-a809-ef1f128a3a26",
   "metadata": {},
   "outputs": [
    {
     "name": "stdout",
     "output_type": "stream",
     "text": [
      "[[12. 24.]\n",
      " [33. 46.]]\n"
     ]
    }
   ],
   "source": [
    "a=np.array([[11.667,23.662],[33.21,45.887]])\n",
    "print (np.around(a)) "
   ]
  },
  {
   "cell_type": "code",
   "execution_count": 15,
   "id": "df37f760-5318-46c7-bc9d-68bde2c025bc",
   "metadata": {},
   "outputs": [
    {
     "name": "stdout",
     "output_type": "stream",
     "text": [
      "[[11.7 23.7]\n",
      " [33.2 45.9]]\n"
     ]
    }
   ],
   "source": [
    "print (np.around(a, decimals = 1))"
   ]
  },
  {
   "cell_type": "code",
   "execution_count": 16,
   "id": "04d69b19-13be-4ca9-9332-1fde6fa73cfb",
   "metadata": {},
   "outputs": [
    {
     "name": "stdout",
     "output_type": "stream",
     "text": [
      "[[11.67 23.66]\n",
      " [33.21 45.89]]\n"
     ]
    }
   ],
   "source": [
    "print (np.around(a, decimals = 2))"
   ]
  },
  {
   "cell_type": "code",
   "execution_count": 17,
   "id": "f17a4ca5-c55b-477c-9eb6-bf05bf2f32a2",
   "metadata": {},
   "outputs": [
    {
     "data": {
      "text/plain": [
       "187"
      ]
     },
     "execution_count": 17,
     "metadata": {},
     "output_type": "execute_result"
    }
   ],
   "source": [
    "A.sum() ## SUM OF ALL THE DATA "
   ]
  },
  {
   "cell_type": "code",
   "execution_count": 18,
   "id": "412c61ab-f285-41b7-814e-fbd61892ec63",
   "metadata": {},
   "outputs": [
    {
     "data": {
      "text/plain": [
       "9.0"
      ]
     },
     "execution_count": 18,
     "metadata": {},
     "output_type": "execute_result"
    }
   ],
   "source": [
    "B.sum()"
   ]
  },
  {
   "cell_type": "code",
   "execution_count": 19,
   "id": "5e9b1511-691d-42e9-ac47-34f4d5e1cec2",
   "metadata": {},
   "outputs": [
    {
     "data": {
      "text/plain": [
       "array([56, 64, 67])"
      ]
     },
     "execution_count": 19,
     "metadata": {},
     "output_type": "execute_result"
    }
   ],
   "source": [
    "A.sum(axis=0) ## row wise"
   ]
  },
  {
   "cell_type": "code",
   "execution_count": 20,
   "id": "70fb923b-ae8a-4169-8008-dc54c99bb410",
   "metadata": {},
   "outputs": [
    {
     "data": {
      "text/plain": [
       "array([[ 4, 10, 11],\n",
       "       [21, 22, 23],\n",
       "       [31, 32, 33]])"
      ]
     },
     "execution_count": 20,
     "metadata": {},
     "output_type": "execute_result"
    }
   ],
   "source": [
    "A"
   ]
  },
  {
   "cell_type": "code",
   "execution_count": 21,
   "id": "26bc8366-f1da-4062-9a28-2e16a18029da",
   "metadata": {},
   "outputs": [
    {
     "data": {
      "text/plain": [
       "array([25, 66, 96])"
      ]
     },
     "execution_count": 21,
     "metadata": {},
     "output_type": "execute_result"
    }
   ],
   "source": [
    "A.sum(axis=1) ## row wise"
   ]
  },
  {
   "cell_type": "code",
   "execution_count": 22,
   "id": "8001f2b7-4a81-4a0a-a493-145c0a7f5691",
   "metadata": {},
   "outputs": [
    {
     "data": {
      "text/plain": [
       "20.77777777777778"
      ]
     },
     "execution_count": 22,
     "metadata": {},
     "output_type": "execute_result"
    }
   ],
   "source": [
    "A.mean()"
   ]
  },
  {
   "cell_type": "code",
   "execution_count": 23,
   "id": "5e1b0539-84f0-4fa4-b94e-4456d774b567",
   "metadata": {},
   "outputs": [
    {
     "data": {
      "text/plain": [
       "array([18.66666667, 21.33333333, 22.33333333])"
      ]
     },
     "execution_count": 23,
     "metadata": {},
     "output_type": "execute_result"
    }
   ],
   "source": [
    "A.mean(axis=0)"
   ]
  },
  {
   "cell_type": "code",
   "execution_count": 24,
   "id": "4f38d351-9329-4f29-b344-14ff6db8b8b1",
   "metadata": {},
   "outputs": [
    {
     "data": {
      "text/plain": [
       "array([ 8.33333333, 22.        , 32.        ])"
      ]
     },
     "execution_count": 24,
     "metadata": {},
     "output_type": "execute_result"
    }
   ],
   "source": [
    "A.mean(axis=1)"
   ]
  },
  {
   "cell_type": "code",
   "execution_count": 25,
   "id": "5851737c-c20e-4c29-a405-f7923f68c485",
   "metadata": {},
   "outputs": [
    {
     "data": {
      "text/plain": [
       "9.88576729757121"
      ]
     },
     "execution_count": 25,
     "metadata": {},
     "output_type": "execute_result"
    }
   ],
   "source": [
    "np.std(A)"
   ]
  },
  {
   "cell_type": "code",
   "execution_count": 26,
   "id": "37a32c92-0ad0-45a3-af97-d332246ce19e",
   "metadata": {},
   "outputs": [
    {
     "data": {
      "text/plain": [
       "array([11.14550233,  8.99382504,  8.99382504])"
      ]
     },
     "execution_count": 26,
     "metadata": {},
     "output_type": "execute_result"
    }
   ],
   "source": [
    "np.std(A,axis=0)"
   ]
  },
  {
   "cell_type": "code",
   "execution_count": 27,
   "id": "8550600a-c303-40d7-9141-ac63acf5ce0f",
   "metadata": {},
   "outputs": [
    {
     "data": {
      "text/plain": [
       "array([3.09120617, 0.81649658, 0.81649658])"
      ]
     },
     "execution_count": 27,
     "metadata": {},
     "output_type": "execute_result"
    }
   ],
   "source": [
    "np.std(A,axis=1)"
   ]
  },
  {
   "cell_type": "code",
   "execution_count": 28,
   "id": "bb11e616-1dab-4ea1-8354-dbf45f72e9b3",
   "metadata": {},
   "outputs": [
    {
     "data": {
      "text/plain": [
       "22.0"
      ]
     },
     "execution_count": 28,
     "metadata": {},
     "output_type": "execute_result"
    }
   ],
   "source": [
    "np.median(A)"
   ]
  },
  {
   "cell_type": "code",
   "execution_count": 29,
   "id": "c4c8a7b1-bfc5-4dbe-8e5f-f1f84acfb1fa",
   "metadata": {},
   "outputs": [
    {
     "data": {
      "text/plain": [
       "array([[ 4, 10, 11],\n",
       "       [21, 22,  0],\n",
       "       [ 8,  9, 10]], dtype=int32)"
      ]
     },
     "execution_count": 29,
     "metadata": {},
     "output_type": "execute_result"
    }
   ],
   "source": [
    "np.mod(A,23)"
   ]
  },
  {
   "cell_type": "code",
   "execution_count": 30,
   "id": "1ef2d4ed-76a7-41ca-bd2f-6e17e7e9c12f",
   "metadata": {},
   "outputs": [
    {
     "data": {
      "text/plain": [
       "array([[ 4, 10, 11],\n",
       "       [21, 22, 23],\n",
       "       [31, 32, 33]])"
      ]
     },
     "execution_count": 30,
     "metadata": {},
     "output_type": "execute_result"
    }
   ],
   "source": [
    "A"
   ]
  },
  {
   "cell_type": "code",
   "execution_count": 31,
   "id": "721f2362-4fcc-44c7-a4f2-af7815bec070",
   "metadata": {},
   "outputs": [
    {
     "data": {
      "text/plain": [
       "97.72839506172839"
      ]
     },
     "execution_count": 31,
     "metadata": {},
     "output_type": "execute_result"
    }
   ],
   "source": [
    "np.var(A)    #Variance"
   ]
  },
  {
   "cell_type": "code",
   "execution_count": 32,
   "id": "11804d99-c1ae-402c-bd95-479987d58bd3",
   "metadata": {},
   "outputs": [],
   "source": [
    "## Binary Universal Functions"
   ]
  },
  {
   "cell_type": "code",
   "execution_count": 33,
   "id": "648d2d76-3249-4e8d-a947-e62f3f0aefbc",
   "metadata": {},
   "outputs": [
    {
     "data": {
      "text/plain": [
       "array([[False, False, False],\n",
       "       [ True,  True,  True]])"
      ]
     },
     "execution_count": 33,
     "metadata": {},
     "output_type": "execute_result"
    }
   ],
   "source": [
    "A=[[1,2,3],[3,4,5]]\n",
    "B=[[3,3,4],[1,2,0]]\n",
    "a=np.array(A)\n",
    "b=np.array(B)\n",
    "np.greater_equal(a,b)"
   ]
  },
  {
   "cell_type": "code",
   "execution_count": 34,
   "id": "09757fe3-cc4d-46ae-9255-5162ef309b98",
   "metadata": {},
   "outputs": [
    {
     "data": {
      "text/plain": [
       "array([[ True,  True,  True],\n",
       "       [False, False, False]])"
      ]
     },
     "execution_count": 34,
     "metadata": {},
     "output_type": "execute_result"
    }
   ],
   "source": [
    "np.less(a,b)"
   ]
  },
  {
   "cell_type": "code",
   "execution_count": 35,
   "id": "3830d080-4ac1-4348-8c40-1abdadbab96a",
   "metadata": {},
   "outputs": [
    {
     "data": {
      "text/plain": [
       "array([[False, False, False],\n",
       "       [ True,  True,  True]])"
      ]
     },
     "execution_count": 35,
     "metadata": {},
     "output_type": "execute_result"
    }
   ],
   "source": [
    "np.less(b,a)"
   ]
  },
  {
   "cell_type": "code",
   "execution_count": 36,
   "id": "85ccc69a-3ccf-4f2f-a896-94800affc1da",
   "metadata": {},
   "outputs": [],
   "source": [
    "## Subsetting array"
   ]
  },
  {
   "cell_type": "code",
   "execution_count": 37,
   "id": "9c813495-b209-4557-9d1e-542c4d1f386d",
   "metadata": {},
   "outputs": [],
   "source": [
    "subset1 = a[:,0] = 1  ## sub set element before postion 0 to value 1"
   ]
  },
  {
   "cell_type": "code",
   "execution_count": 38,
   "id": "0531c4e9-2a10-4597-927f-8c0d71f5ed57",
   "metadata": {},
   "outputs": [],
   "source": [
    "subset1 = a[:,0]"
   ]
  },
  {
   "cell_type": "code",
   "execution_count": 39,
   "id": "e2fd8503-0a63-4e0f-95a4-407692acd296",
   "metadata": {},
   "outputs": [
    {
     "data": {
      "text/plain": [
       "array([1, 1])"
      ]
     },
     "execution_count": 39,
     "metadata": {},
     "output_type": "execute_result"
    }
   ],
   "source": [
    "subset1"
   ]
  },
  {
   "cell_type": "code",
   "execution_count": 40,
   "id": "9309bbf8-b611-4eaa-bc57-20cf7c537d0a",
   "metadata": {},
   "outputs": [],
   "source": [
    "### Concatenating Arrays"
   ]
  },
  {
   "cell_type": "code",
   "execution_count": 41,
   "id": "2001ca25-a14f-4310-9e48-e650f77617d5",
   "metadata": {},
   "outputs": [
    {
     "data": {
      "text/plain": [
       "array([[1, 2, 3, 3, 3, 4],\n",
       "       [1, 4, 5, 1, 2, 0]])"
      ]
     },
     "execution_count": 41,
     "metadata": {},
     "output_type": "execute_result"
    }
   ],
   "source": [
    "np.concatenate([a,b],axis=1)"
   ]
  },
  {
   "cell_type": "code",
   "execution_count": 42,
   "id": "d19c1270-c085-48c6-87df-f3a4928e7cd1",
   "metadata": {},
   "outputs": [
    {
     "data": {
      "text/plain": [
       "array([[1, 2, 3],\n",
       "       [1, 4, 5],\n",
       "       [3, 3, 4],\n",
       "       [1, 2, 0]])"
      ]
     },
     "execution_count": 42,
     "metadata": {},
     "output_type": "execute_result"
    }
   ],
   "source": [
    "np.concatenate([a,b],axis=0)"
   ]
  },
  {
   "cell_type": "code",
   "execution_count": 43,
   "id": "61dd2de6-93dd-403f-8c96-b967a65cea28",
   "metadata": {},
   "outputs": [
    {
     "name": "stdout",
     "output_type": "stream",
     "text": [
      "[ 10  40  90 160]\n"
     ]
    }
   ],
   "source": [
    "a = np.array([1,2,3,4]) \n",
    "b = np.array([10,20,30,40]) \n",
    "c = a * b \n",
    "print (c)"
   ]
  },
  {
   "cell_type": "code",
   "execution_count": 44,
   "id": "d5bd9b90-d05e-46f2-9ae9-3fda5c407588",
   "metadata": {},
   "outputs": [
    {
     "data": {
      "text/plain": [
       "1"
      ]
     },
     "execution_count": 44,
     "metadata": {},
     "output_type": "execute_result"
    }
   ],
   "source": [
    "np.ndim(b)"
   ]
  },
  {
   "cell_type": "code",
   "execution_count": 45,
   "id": "545f9844-e257-4895-8158-0f76f8c2b947",
   "metadata": {},
   "outputs": [],
   "source": [
    "## Array with different shapes"
   ]
  },
  {
   "cell_type": "code",
   "execution_count": 46,
   "id": "72f4e171-5a8c-40b0-9323-ed3a33a68e90",
   "metadata": {},
   "outputs": [
    {
     "name": "stdout",
     "output_type": "stream",
     "text": [
      "First array:\n",
      " [[ 0.  0.  0.]\n",
      " [10. 10. 10.]\n",
      " [20. 20. 20.]\n",
      " [30. 30. 30.]]\n",
      "Second array:\n",
      " [0. 1. 2.]\n",
      "\n",
      "\n",
      "First Array + Second Array=\n",
      " [[ 0.  1.  2.]\n",
      " [10. 11. 12.]\n",
      " [20. 21. 22.]\n",
      " [30. 31. 32.]]\n"
     ]
    }
   ],
   "source": [
    "a = np.array([[0.0,0.0,0.0],[10.0,10.0,10.0],[20.0,20.0,20.0],[30.0,30.0,30.0]]) \n",
    "b = np.array([0.0,1.0,2.0])  \n",
    "   \n",
    "print ('First array:\\n',a )\n",
    "print ('Second array:\\n',b )\n",
    "print (\"\\n\")   \n",
    "print ('First Array + Second Array=\\n',a+b)"
   ]
  },
  {
   "cell_type": "code",
   "execution_count": 47,
   "id": "b87bcbb0-35ed-40ba-9d99-e7c01df29592",
   "metadata": {},
   "outputs": [],
   "source": [
    "### file input output"
   ]
  },
  {
   "cell_type": "code",
   "execution_count": 48,
   "id": "4bc5ac4e-930a-4f57-a0da-d94acd16a7d9",
   "metadata": {},
   "outputs": [],
   "source": [
    "a = np.array([11,2,30,4,5,13]) \n",
    "np.save('dar',a)"
   ]
  },
  {
   "cell_type": "code",
   "execution_count": 49,
   "id": "ebc2c07e-0d06-491c-b8ef-c4e2b9f2fc65",
   "metadata": {},
   "outputs": [
    {
     "name": "stdout",
     "output_type": "stream",
     "text": [
      "[11  2 30  4  5 13]\n"
     ]
    }
   ],
   "source": [
    "# To reconstruct array from demofile.npy, use load() function.\n",
    "b = np.load('dar.npy') \n",
    "print (b)"
   ]
  },
  {
   "cell_type": "code",
   "execution_count": 50,
   "id": "66d3785a-fc0c-432e-b847-17f701698449",
   "metadata": {},
   "outputs": [
    {
     "name": "stdout",
     "output_type": "stream",
     "text": [
      "[11.  2. 30.  4.  5. 13.]\n"
     ]
    }
   ],
   "source": [
    "np.savetxt('dar.txt',a) \n",
    "b = np.loadtxt('dar.txt') \n",
    "print (b)"
   ]
  },
  {
   "cell_type": "code",
   "execution_count": 52,
   "id": "1587068a-bf59-48ea-8d65-3db598422abe",
   "metadata": {},
   "outputs": [
    {
     "data": {
      "text/plain": [
       "array([[3, 7, 6, 5],\n",
       "       [4, 3, 9, 3],\n",
       "       [8, 4, 9, 8]])"
      ]
     },
     "execution_count": 52,
     "metadata": {},
     "output_type": "execute_result"
    }
   ],
   "source": [
    "np.random.randint(2,10,(3,4))"
   ]
  },
  {
   "cell_type": "code",
   "execution_count": 53,
   "id": "d972d796-b333-43f8-8315-cffa8de3248a",
   "metadata": {},
   "outputs": [
    {
     "data": {
      "text/plain": [
       "array([[[43, 21, 14, 21],\n",
       "        [ 8, 20, 31,  5],\n",
       "        [37, 38, 39, 23]],\n",
       "\n",
       "       [[33, 25,  9, 49],\n",
       "        [31,  9,  7, 24],\n",
       "        [45,  7, 44, 26]]])"
      ]
     },
     "execution_count": 53,
     "metadata": {},
     "output_type": "execute_result"
    }
   ],
   "source": [
    "np.random.randint(2,50, (2,3,4) )"
   ]
  },
  {
   "cell_type": "code",
   "execution_count": 54,
   "id": "8184579d-6a18-4482-8a2f-4f9cf2d96694",
   "metadata": {},
   "outputs": [
    {
     "data": {
      "text/plain": [
       "array([[0.5174109 , 0.76446472, 0.1839055 , 0.18352079],\n",
       "       [0.68737349, 0.64505547, 0.00512664, 0.03687551],\n",
       "       [0.2230744 , 0.08067758, 0.45682491, 0.94951142],\n",
       "       [0.10419806, 0.46273585, 0.95176901, 0.78123836],\n",
       "       [0.88962887, 0.75178343, 0.33248873, 0.90742924]])"
      ]
     },
     "execution_count": 54,
     "metadata": {},
     "output_type": "execute_result"
    }
   ],
   "source": [
    "np.random.rand(5,4)"
   ]
  },
  {
   "cell_type": "code",
   "execution_count": 55,
   "id": "0043d65d-93ba-4c2a-b8f5-076e29e3e98a",
   "metadata": {},
   "outputs": [],
   "source": [
    "a =np.random.randn(4,4)"
   ]
  },
  {
   "cell_type": "code",
   "execution_count": 56,
   "id": "d06a5e17-8815-462e-a7c6-2c32feb5c409",
   "metadata": {},
   "outputs": [
    {
     "data": {
      "text/plain": [
       "array([[ 1.37927904, -1.26046118, -1.16990724, -0.98621861],\n",
       "       [ 0.10560889, -0.33342358,  0.53418647,  0.19960345],\n",
       "       [ 1.70502014,  2.16328577,  0.58264277, -0.44181381],\n",
       "       [ 0.52976015,  0.61951978, -1.79845096,  0.46516975]])"
      ]
     },
     "execution_count": 56,
     "metadata": {},
     "output_type": "execute_result"
    }
   ],
   "source": [
    "a"
   ]
  },
  {
   "cell_type": "code",
   "execution_count": 57,
   "id": "f50b7fc0-69dc-4ad7-bb21-d72bf62f66a5",
   "metadata": {},
   "outputs": [
    {
     "data": {
      "text/plain": [
       "array([[ 1.37927904, -1.26046118, -1.16990724, -0.98621861,  0.10560889,\n",
       "        -0.33342358,  0.53418647,  0.19960345],\n",
       "       [ 1.70502014,  2.16328577,  0.58264277, -0.44181381,  0.52976015,\n",
       "         0.61951978, -1.79845096,  0.46516975]])"
      ]
     },
     "execution_count": 57,
     "metadata": {},
     "output_type": "execute_result"
    }
   ],
   "source": [
    "a.reshape(2,8)"
   ]
  },
  {
   "cell_type": "code",
   "execution_count": 58,
   "id": "5d1f8416-93ea-4186-a617-de3c5012e74b",
   "metadata": {},
   "outputs": [
    {
     "data": {
      "text/plain": [
       "array([[ 1.37927904, -1.26046118, -1.16990724, -0.98621861,  0.10560889,\n",
       "        -0.33342358,  0.53418647,  0.19960345,  1.70502014,  2.16328577,\n",
       "         0.58264277, -0.44181381,  0.52976015,  0.61951978, -1.79845096,\n",
       "         0.46516975]])"
      ]
     },
     "execution_count": 58,
     "metadata": {},
     "output_type": "execute_result"
    }
   ],
   "source": [
    "a.reshape(1, 16)"
   ]
  },
  {
   "cell_type": "code",
   "execution_count": 59,
   "id": "739791e5-6672-47e2-b793-07f0f862ab50",
   "metadata": {},
   "outputs": [
    {
     "data": {
      "text/plain": [
       "array([[[[[[[[[[ 1.37927904, -1.26046118, -1.16990724,\n",
       "                -0.98621861],\n",
       "               [ 0.10560889, -0.33342358,  0.53418647,\n",
       "                 0.19960345]],\n",
       "\n",
       "              [[ 1.70502014,  2.16328577,  0.58264277,\n",
       "                -0.44181381],\n",
       "               [ 0.52976015,  0.61951978, -1.79845096,\n",
       "                 0.46516975]]]]]]]]]])"
      ]
     },
     "execution_count": 59,
     "metadata": {},
     "output_type": "execute_result"
    }
   ],
   "source": [
    "a.reshape(1,1,1,1,1,1,1,2,2,4)"
   ]
  },
  {
   "cell_type": "code",
   "execution_count": 60,
   "id": "d5a22ea4-60b8-4fe1-92d6-d366427275a7",
   "metadata": {},
   "outputs": [],
   "source": [
    "b =a.reshape(1,1,1,1,1,1,1,2,2,4)"
   ]
  },
  {
   "cell_type": "code",
   "execution_count": 62,
   "id": "db36b403-bb43-4c9a-9c0c-3a5e189b4047",
   "metadata": {},
   "outputs": [
    {
     "data": {
      "text/plain": [
       "10"
      ]
     },
     "execution_count": 62,
     "metadata": {},
     "output_type": "execute_result"
    }
   ],
   "source": [
    "b.ndim"
   ]
  },
  {
   "cell_type": "code",
   "execution_count": 63,
   "id": "5e7f7c50-724c-49a5-a86e-288724447a26",
   "metadata": {},
   "outputs": [],
   "source": [
    "a5 = np.random.randint(2,90 , (6,5))"
   ]
  },
  {
   "cell_type": "code",
   "execution_count": 64,
   "id": "1539eb21-613c-4588-a3e7-6decf2bff504",
   "metadata": {},
   "outputs": [
    {
     "data": {
      "text/plain": [
       "array([[24, 59, 46, 51, 25],\n",
       "       [79,  2, 20, 87, 21],\n",
       "       [87, 78,  5, 25, 25],\n",
       "       [56, 24, 34, 44, 79],\n",
       "       [64, 27, 88, 78, 60],\n",
       "       [46, 13, 72, 51, 61]])"
      ]
     },
     "execution_count": 64,
     "metadata": {},
     "output_type": "execute_result"
    }
   ],
   "source": [
    "a5"
   ]
  },
  {
   "cell_type": "code",
   "execution_count": 65,
   "id": "4b4b04aa-f804-4715-a15b-670d4b6da556",
   "metadata": {},
   "outputs": [
    {
     "data": {
      "text/plain": [
       "array([59, 46, 51, 79, 87, 87, 78, 56, 44, 79, 64, 88, 78, 60, 46, 72, 51,\n",
       "       61])"
      ]
     },
     "execution_count": 65,
     "metadata": {},
     "output_type": "execute_result"
    }
   ],
   "source": [
    "a5[a5>40]"
   ]
  },
  {
   "cell_type": "code",
   "execution_count": 66,
   "id": "4babe4f6-00d2-425c-84b1-6f95a3beaf03",
   "metadata": {},
   "outputs": [],
   "source": [
    "a6 = np.random.randint(0,3 , (3,3))"
   ]
  },
  {
   "cell_type": "code",
   "execution_count": 67,
   "id": "1596fadd-deef-4579-8e6b-352e4b745050",
   "metadata": {},
   "outputs": [],
   "source": [
    "a7 = np.random.randint(0,3 , (3,3))"
   ]
  },
  {
   "cell_type": "code",
   "execution_count": 68,
   "id": "6e9e68e5-631d-4d53-80e1-71e5a5459939",
   "metadata": {},
   "outputs": [
    {
     "data": {
      "text/plain": [
       "array([[0, 2, 1],\n",
       "       [0, 0, 4],\n",
       "       [2, 0, 4]])"
      ]
     },
     "execution_count": 68,
     "metadata": {},
     "output_type": "execute_result"
    }
   ],
   "source": [
    "a6*a7"
   ]
  },
  {
   "cell_type": "code",
   "execution_count": 69,
   "id": "46b35cf8-9afc-443a-929a-bcfd71835a4a",
   "metadata": {},
   "outputs": [
    {
     "data": {
      "text/plain": [
       "array([[3, 0, 6],\n",
       "       [2, 0, 4],\n",
       "       [5, 2, 8]])"
      ]
     },
     "execution_count": 69,
     "metadata": {},
     "output_type": "execute_result"
    }
   ],
   "source": [
    "a6@a7"
   ]
  },
  {
   "cell_type": "code",
   "execution_count": 70,
   "id": "7671ec92-9399-43a0-86ba-ceb0e9ed45b7",
   "metadata": {},
   "outputs": [
    {
     "data": {
      "text/plain": [
       "array([[0, 2, 1],\n",
       "       [0, 0, 2],\n",
       "       [2, 1, 2]])"
      ]
     },
     "execution_count": 70,
     "metadata": {},
     "output_type": "execute_result"
    }
   ],
   "source": [
    "a6"
   ]
  },
  {
   "cell_type": "code",
   "execution_count": 71,
   "id": "99a5551b-a65a-4435-a3e5-fbf791cb7f0b",
   "metadata": {},
   "outputs": [
    {
     "data": {
      "text/plain": [
       "array([[1, 1, 1],\n",
       "       [1, 0, 2],\n",
       "       [1, 0, 2]])"
      ]
     },
     "execution_count": 71,
     "metadata": {},
     "output_type": "execute_result"
    }
   ],
   "source": [
    "a7"
   ]
  },
  {
   "cell_type": "code",
   "execution_count": 72,
   "id": "6449ba5b-b20c-46c6-bad7-2c5eadd987ad",
   "metadata": {},
   "outputs": [
    {
     "data": {
      "text/plain": [
       "array([[100, 102, 101],\n",
       "       [100, 100, 102],\n",
       "       [102, 101, 102]])"
      ]
     },
     "execution_count": 72,
     "metadata": {},
     "output_type": "execute_result"
    }
   ],
   "source": [
    "a6+100"
   ]
  },
  {
   "cell_type": "code",
   "execution_count": 73,
   "id": "f1ceef58-9eba-4eeb-bad8-6e5a26001d52",
   "metadata": {},
   "outputs": [
    {
     "data": {
      "text/plain": [
       "array([[0, 8, 1],\n",
       "       [0, 0, 8],\n",
       "       [8, 1, 8]], dtype=int32)"
      ]
     },
     "execution_count": 73,
     "metadata": {},
     "output_type": "execute_result"
    }
   ],
   "source": [
    "a6**3"
   ]
  },
  {
   "cell_type": "code",
   "execution_count": 74,
   "id": "ec469f66-19a7-4074-8091-9feb375f730c",
   "metadata": {},
   "outputs": [],
   "source": [
    "import pandas as pd"
   ]
  },
  {
   "cell_type": "code",
   "execution_count": 87,
   "id": "9e389000-5d02-472b-80a6-795ec987e188",
   "metadata": {},
   "outputs": [
    {
     "ename": "ImportError",
     "evalue": "Missing optional dependency 'xlrd'. Install xlrd >= 2.0.1 for xls Excel support Use pip or conda to install xlrd.",
     "output_type": "error",
     "traceback": [
      "\u001b[1;31m---------------------------------------------------------------------------\u001b[0m",
      "\u001b[1;31mModuleNotFoundError\u001b[0m                       Traceback (most recent call last)",
      "File \u001b[1;32m~\\anaconda3\\Lib\\site-packages\\pandas\\compat\\_optional.py:132\u001b[0m, in \u001b[0;36mimport_optional_dependency\u001b[1;34m(name, extra, errors, min_version)\u001b[0m\n\u001b[0;32m    131\u001b[0m \u001b[38;5;28;01mtry\u001b[39;00m:\n\u001b[1;32m--> 132\u001b[0m     module \u001b[38;5;241m=\u001b[39m importlib\u001b[38;5;241m.\u001b[39mimport_module(name)\n\u001b[0;32m    133\u001b[0m \u001b[38;5;28;01mexcept\u001b[39;00m \u001b[38;5;167;01mImportError\u001b[39;00m:\n",
      "File \u001b[1;32m~\\anaconda3\\Lib\\importlib\\__init__.py:126\u001b[0m, in \u001b[0;36mimport_module\u001b[1;34m(name, package)\u001b[0m\n\u001b[0;32m    125\u001b[0m         level \u001b[38;5;241m+\u001b[39m\u001b[38;5;241m=\u001b[39m \u001b[38;5;241m1\u001b[39m\n\u001b[1;32m--> 126\u001b[0m \u001b[38;5;28;01mreturn\u001b[39;00m _bootstrap\u001b[38;5;241m.\u001b[39m_gcd_import(name[level:], package, level)\n",
      "File \u001b[1;32m<frozen importlib._bootstrap>:1204\u001b[0m, in \u001b[0;36m_gcd_import\u001b[1;34m(name, package, level)\u001b[0m\n",
      "File \u001b[1;32m<frozen importlib._bootstrap>:1176\u001b[0m, in \u001b[0;36m_find_and_load\u001b[1;34m(name, import_)\u001b[0m\n",
      "File \u001b[1;32m<frozen importlib._bootstrap>:1140\u001b[0m, in \u001b[0;36m_find_and_load_unlocked\u001b[1;34m(name, import_)\u001b[0m\n",
      "\u001b[1;31mModuleNotFoundError\u001b[0m: No module named 'xlrd'",
      "\nDuring handling of the above exception, another exception occurred:\n",
      "\u001b[1;31mImportError\u001b[0m                               Traceback (most recent call last)",
      "Cell \u001b[1;32mIn[87], line 1\u001b[0m\n\u001b[1;32m----> 1\u001b[0m pd\u001b[38;5;241m.\u001b[39mread_excel(\u001b[38;5;124m\"\u001b[39m\u001b[38;5;124mC:\u001b[39m\u001b[38;5;130;01m\\\\\u001b[39;00m\u001b[38;5;124mUsers\u001b[39m\u001b[38;5;130;01m\\\\\u001b[39;00m\u001b[38;5;124mamitm\u001b[39m\u001b[38;5;130;01m\\\\\u001b[39;00m\u001b[38;5;124mDownloads\u001b[39m\u001b[38;5;130;01m\\\\\u001b[39;00m\u001b[38;5;124mAgent_Login_Report (4).xls\u001b[39m\u001b[38;5;124m\"\u001b[39m)\n",
      "File \u001b[1;32m~\\anaconda3\\Lib\\site-packages\\pandas\\io\\excel\\_base.py:504\u001b[0m, in \u001b[0;36mread_excel\u001b[1;34m(io, sheet_name, header, names, index_col, usecols, dtype, engine, converters, true_values, false_values, skiprows, nrows, na_values, keep_default_na, na_filter, verbose, parse_dates, date_parser, date_format, thousands, decimal, comment, skipfooter, storage_options, dtype_backend, engine_kwargs)\u001b[0m\n\u001b[0;32m    502\u001b[0m \u001b[38;5;28;01mif\u001b[39;00m \u001b[38;5;129;01mnot\u001b[39;00m \u001b[38;5;28misinstance\u001b[39m(io, ExcelFile):\n\u001b[0;32m    503\u001b[0m     should_close \u001b[38;5;241m=\u001b[39m \u001b[38;5;28;01mTrue\u001b[39;00m\n\u001b[1;32m--> 504\u001b[0m     io \u001b[38;5;241m=\u001b[39m ExcelFile(\n\u001b[0;32m    505\u001b[0m         io,\n\u001b[0;32m    506\u001b[0m         storage_options\u001b[38;5;241m=\u001b[39mstorage_options,\n\u001b[0;32m    507\u001b[0m         engine\u001b[38;5;241m=\u001b[39mengine,\n\u001b[0;32m    508\u001b[0m         engine_kwargs\u001b[38;5;241m=\u001b[39mengine_kwargs,\n\u001b[0;32m    509\u001b[0m     )\n\u001b[0;32m    510\u001b[0m \u001b[38;5;28;01melif\u001b[39;00m engine \u001b[38;5;129;01mand\u001b[39;00m engine \u001b[38;5;241m!=\u001b[39m io\u001b[38;5;241m.\u001b[39mengine:\n\u001b[0;32m    511\u001b[0m     \u001b[38;5;28;01mraise\u001b[39;00m \u001b[38;5;167;01mValueError\u001b[39;00m(\n\u001b[0;32m    512\u001b[0m         \u001b[38;5;124m\"\u001b[39m\u001b[38;5;124mEngine should not be specified when passing \u001b[39m\u001b[38;5;124m\"\u001b[39m\n\u001b[0;32m    513\u001b[0m         \u001b[38;5;124m\"\u001b[39m\u001b[38;5;124man ExcelFile - ExcelFile already has the engine set\u001b[39m\u001b[38;5;124m\"\u001b[39m\n\u001b[0;32m    514\u001b[0m     )\n",
      "File \u001b[1;32m~\\anaconda3\\Lib\\site-packages\\pandas\\io\\excel\\_base.py:1580\u001b[0m, in \u001b[0;36mExcelFile.__init__\u001b[1;34m(self, path_or_buffer, engine, storage_options, engine_kwargs)\u001b[0m\n\u001b[0;32m   1577\u001b[0m \u001b[38;5;28mself\u001b[39m\u001b[38;5;241m.\u001b[39mengine \u001b[38;5;241m=\u001b[39m engine\n\u001b[0;32m   1578\u001b[0m \u001b[38;5;28mself\u001b[39m\u001b[38;5;241m.\u001b[39mstorage_options \u001b[38;5;241m=\u001b[39m storage_options\n\u001b[1;32m-> 1580\u001b[0m \u001b[38;5;28mself\u001b[39m\u001b[38;5;241m.\u001b[39m_reader \u001b[38;5;241m=\u001b[39m \u001b[38;5;28mself\u001b[39m\u001b[38;5;241m.\u001b[39m_engines[engine](\n\u001b[0;32m   1581\u001b[0m     \u001b[38;5;28mself\u001b[39m\u001b[38;5;241m.\u001b[39m_io,\n\u001b[0;32m   1582\u001b[0m     storage_options\u001b[38;5;241m=\u001b[39mstorage_options,\n\u001b[0;32m   1583\u001b[0m     engine_kwargs\u001b[38;5;241m=\u001b[39mengine_kwargs,\n\u001b[0;32m   1584\u001b[0m )\n",
      "File \u001b[1;32m~\\anaconda3\\Lib\\site-packages\\pandas\\io\\excel\\_xlrd.py:44\u001b[0m, in \u001b[0;36mXlrdReader.__init__\u001b[1;34m(self, filepath_or_buffer, storage_options, engine_kwargs)\u001b[0m\n\u001b[0;32m     32\u001b[0m \u001b[38;5;250m\u001b[39m\u001b[38;5;124;03m\"\"\"\u001b[39;00m\n\u001b[0;32m     33\u001b[0m \u001b[38;5;124;03mReader using xlrd engine.\u001b[39;00m\n\u001b[0;32m     34\u001b[0m \n\u001b[1;32m   (...)\u001b[0m\n\u001b[0;32m     41\u001b[0m \u001b[38;5;124;03m    Arbitrary keyword arguments passed to excel engine.\u001b[39;00m\n\u001b[0;32m     42\u001b[0m \u001b[38;5;124;03m\"\"\"\u001b[39;00m\n\u001b[0;32m     43\u001b[0m err_msg \u001b[38;5;241m=\u001b[39m \u001b[38;5;124m\"\u001b[39m\u001b[38;5;124mInstall xlrd >= 2.0.1 for xls Excel support\u001b[39m\u001b[38;5;124m\"\u001b[39m\n\u001b[1;32m---> 44\u001b[0m import_optional_dependency(\u001b[38;5;124m\"\u001b[39m\u001b[38;5;124mxlrd\u001b[39m\u001b[38;5;124m\"\u001b[39m, extra\u001b[38;5;241m=\u001b[39merr_msg)\n\u001b[0;32m     45\u001b[0m \u001b[38;5;28msuper\u001b[39m()\u001b[38;5;241m.\u001b[39m\u001b[38;5;21m__init__\u001b[39m(\n\u001b[0;32m     46\u001b[0m     filepath_or_buffer,\n\u001b[0;32m     47\u001b[0m     storage_options\u001b[38;5;241m=\u001b[39mstorage_options,\n\u001b[0;32m     48\u001b[0m     engine_kwargs\u001b[38;5;241m=\u001b[39mengine_kwargs,\n\u001b[0;32m     49\u001b[0m )\n",
      "File \u001b[1;32m~\\anaconda3\\Lib\\site-packages\\pandas\\compat\\_optional.py:135\u001b[0m, in \u001b[0;36mimport_optional_dependency\u001b[1;34m(name, extra, errors, min_version)\u001b[0m\n\u001b[0;32m    133\u001b[0m \u001b[38;5;28;01mexcept\u001b[39;00m \u001b[38;5;167;01mImportError\u001b[39;00m:\n\u001b[0;32m    134\u001b[0m     \u001b[38;5;28;01mif\u001b[39;00m errors \u001b[38;5;241m==\u001b[39m \u001b[38;5;124m\"\u001b[39m\u001b[38;5;124mraise\u001b[39m\u001b[38;5;124m\"\u001b[39m:\n\u001b[1;32m--> 135\u001b[0m         \u001b[38;5;28;01mraise\u001b[39;00m \u001b[38;5;167;01mImportError\u001b[39;00m(msg)\n\u001b[0;32m    136\u001b[0m     \u001b[38;5;28;01mreturn\u001b[39;00m \u001b[38;5;28;01mNone\u001b[39;00m\n\u001b[0;32m    138\u001b[0m \u001b[38;5;66;03m# Handle submodules: if we have submodule, grab parent module from sys.modules\u001b[39;00m\n",
      "\u001b[1;31mImportError\u001b[0m: Missing optional dependency 'xlrd'. Install xlrd >= 2.0.1 for xls Excel support Use pip or conda to install xlrd."
     ]
    }
   ],
   "source": [
    "pd.read_excel(\"C:\\\\Users\\\\amitm\\\\Downloads\\\\Agent_Login_Report (4).xls\")"
   ]
  },
  {
   "cell_type": "code",
   "execution_count": null,
   "id": "855e6129-84d4-4ad5-bdbc-c07c0e5ca6a8",
   "metadata": {},
   "outputs": [],
   "source": []
  }
 ],
 "metadata": {
  "kernelspec": {
   "display_name": "Python 3 (ipykernel)",
   "language": "python",
   "name": "python3"
  },
  "language_info": {
   "codemirror_mode": {
    "name": "ipython",
    "version": 3
   },
   "file_extension": ".py",
   "mimetype": "text/x-python",
   "name": "python",
   "nbconvert_exporter": "python",
   "pygments_lexer": "ipython3",
   "version": "3.11.7"
  }
 },
 "nbformat": 4,
 "nbformat_minor": 5
}
