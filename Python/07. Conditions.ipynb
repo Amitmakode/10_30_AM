{
 "cells": [
  {
   "cell_type": "code",
   "execution_count": null,
   "id": "6733c593-bc03-4bec-8ec3-c273f6eb0676",
   "metadata": {},
   "outputs": [],
   "source": [
    "if \n",
    "elif\n",
    "else"
   ]
  },
  {
   "cell_type": "code",
   "execution_count": null,
   "id": "1e0ddc9f-fa46-4eb9-89d8-8c556e89f50e",
   "metadata": {},
   "outputs": [],
   "source": [
    "if"
   ]
  },
  {
   "cell_type": "code",
   "execution_count": 1,
   "id": "75b0c388-08b3-44c9-a7a9-be0adaf7872b",
   "metadata": {},
   "outputs": [],
   "source": [
    "a = 20"
   ]
  },
  {
   "cell_type": "code",
   "execution_count": 4,
   "id": "48568e9f-ff8b-446a-8b63-a6a5c4691438",
   "metadata": {},
   "outputs": [],
   "source": [
    "if a == 10:\n",
    "    print(\"the number\")"
   ]
  },
  {
   "cell_type": "code",
   "execution_count": 3,
   "id": "99039175-7835-47b2-b41a-db5c8a92bd72",
   "metadata": {},
   "outputs": [
    {
     "name": "stdout",
     "output_type": "stream",
     "text": [
      "the number\n"
     ]
    }
   ],
   "source": [
    "if a == 20:\n",
    "    print(\"the number\")"
   ]
  },
  {
   "cell_type": "code",
   "execution_count": 5,
   "id": "fd584dd7-f648-4c53-b810-a2ca33456920",
   "metadata": {},
   "outputs": [
    {
     "name": "stdout",
     "output_type": "stream",
     "text": [
      "no number is not equaal\n"
     ]
    }
   ],
   "source": [
    "if a == 10:\n",
    "    print(\"number is equal\")\n",
    "else:\n",
    "    print(\"no number is not equaal\")"
   ]
  },
  {
   "cell_type": "code",
   "execution_count": 6,
   "id": "50bbd9b4-05d9-4aa1-8db0-f26a05014eda",
   "metadata": {},
   "outputs": [
    {
     "name": "stdout",
     "output_type": "stream",
     "text": [
      "number is equal\n"
     ]
    }
   ],
   "source": [
    "if a == 20:\n",
    "    print(\"number is equal\")\n",
    "else:\n",
    "    print(\"no number is not equaal\")"
   ]
  },
  {
   "cell_type": "code",
   "execution_count": 7,
   "id": "0d789feb-c615-47e8-a0b6-22777c5d345b",
   "metadata": {},
   "outputs": [
    {
     "name": "stdout",
     "output_type": "stream",
     "text": [
      "no is greater than\n"
     ]
    }
   ],
   "source": [
    "if a == 10:\n",
    "    print(\"number is equal\")\n",
    "elif a > 10 :\n",
    "    print(\"no is greater than\")\n",
    "else:\n",
    "    print(\"no number is not equaal\")"
   ]
  },
  {
   "cell_type": "code",
   "execution_count": 9,
   "id": "a7e34408-0dfc-4947-ba1b-335a1a00d7ca",
   "metadata": {},
   "outputs": [
    {
     "name": "stdin",
     "output_type": "stream",
     "text": [
      " 20\n",
      " 10\n"
     ]
    },
    {
     "name": "stdout",
     "output_type": "stream",
     "text": [
      "num1 is greater than num2\n"
     ]
    }
   ],
   "source": [
    "num1 = int(input())\n",
    "num2 = int(input())\n",
    "\n",
    "if num1 == num2:\n",
    "    print(\"equal\")\n",
    "elif num1 < num2:\n",
    "    print(\"num1 is less than num2\")\n",
    "else:\n",
    "    print(\"num1 is greater than num2\")"
   ]
  },
  {
   "cell_type": "code",
   "execution_count": 12,
   "id": "8058b2ae-226b-4146-a95e-25020582babe",
   "metadata": {},
   "outputs": [
    {
     "name": "stdin",
     "output_type": "stream",
     "text": [
      " 2\n",
      " 2\n"
     ]
    },
    {
     "name": "stdout",
     "output_type": "stream",
     "text": [
      "equal\n"
     ]
    }
   ],
   "source": [
    "num1 = int(input())\n",
    "num2 = int(input())\n",
    "\n",
    "if num1 == num2:\n",
    "    print(\"equal\")\n",
    "elif num1 < num2:\n",
    "    print(\"num1 is less than num2\")"
   ]
  },
  {
   "cell_type": "code",
   "execution_count": 13,
   "id": "f9d72df7-7557-4f8d-8082-b83c86604edc",
   "metadata": {},
   "outputs": [
    {
     "ename": "SyntaxError",
     "evalue": "invalid syntax (2068423172.py, line 4)",
     "output_type": "error",
     "traceback": [
      "\u001b[1;36m  Cell \u001b[1;32mIn[13], line 4\u001b[1;36m\u001b[0m\n\u001b[1;33m    elif num1 < num2:\u001b[0m\n\u001b[1;37m    ^\u001b[0m\n\u001b[1;31mSyntaxError\u001b[0m\u001b[1;31m:\u001b[0m invalid syntax\n"
     ]
    }
   ],
   "source": [
    "num1 = int(input())\n",
    "num2 = int(input())\n",
    "\n",
    "elif num1 < num2:\n",
    "    print(\"num1 is less than num2\")\n",
    "else:\n",
    "    print(\"num1 is greater than num2\")"
   ]
  },
  {
   "cell_type": "code",
   "execution_count": 15,
   "id": "49587469-185b-481f-beb0-3a13a824c82a",
   "metadata": {},
   "outputs": [
    {
     "name": "stdin",
     "output_type": "stream",
     "text": [
      " 5\n",
      " 3\n"
     ]
    },
    {
     "name": "stdout",
     "output_type": "stream",
     "text": [
      "116\n"
     ]
    }
   ],
   "source": [
    "num1 = int(input())\n",
    "num2 = int(input())\n",
    "\n",
    "if num1 == num2:\n",
    "    num = num1 * num2\n",
    "    print(num)\n",
    "elif num1 < num2:\n",
    "    num = num1**2 + num2**2\n",
    "    print(num)\n",
    "else:\n",
    "    num = num1**3 - num2**2\n",
    "    print(num)"
   ]
  },
  {
   "cell_type": "code",
   "execution_count": 17,
   "id": "46b0600e-fd8f-4887-85bd-92812764eb78",
   "metadata": {},
   "outputs": [
    {
     "name": "stdin",
     "output_type": "stream",
     "text": [
      " 22\n"
     ]
    },
    {
     "name": "stdout",
     "output_type": "stream",
     "text": [
      "even\n"
     ]
    }
   ],
   "source": [
    "num1 = int(input())\n",
    "#num2 = int(input())\n",
    "\n",
    "if num1%2 == 0:\n",
    "    print(\"even\")\n",
    "else:\n",
    "    print(\"odd\")"
   ]
  },
  {
   "cell_type": "code",
   "execution_count": 45,
   "id": "b7055dd1-bfae-4581-b583-819936260731",
   "metadata": {},
   "outputs": [
    {
     "name": "stdin",
     "output_type": "stream",
     "text": [
      " 1000003\n"
     ]
    },
    {
     "name": "stdout",
     "output_type": "stream",
     "text": [
      "prime number\n"
     ]
    }
   ],
   "source": [
    "num1 = int(input())\n",
    "\n",
    "if num1%2 == 0 or num1%3 == 0 or num1%5 == 0 or num1%7 == 0:\n",
    "    print(\"not a prime number\")\n",
    "else:\n",
    "    print(\"prime number\")"
   ]
  },
  {
   "cell_type": "code",
   "execution_count": 44,
   "id": "ea60d8f8-d091-4357-a750-50361165c2e9",
   "metadata": {},
   "outputs": [
    {
     "name": "stdin",
     "output_type": "stream",
     "text": [
      " 1000003\n"
     ]
    },
    {
     "name": "stdout",
     "output_type": "stream",
     "text": [
      "1000003 is a prime number\n"
     ]
    }
   ],
   "source": [
    "# Program to check if a number is prime or not\n",
    "\n",
    "num = int(input())\n",
    "\n",
    "# To take input from the user\n",
    "#num = int(input(\"Enter a number: \"))\n",
    "\n",
    "# define a flag variable\n",
    "flag = False\n",
    "\n",
    "if num == 0 or num == 1:\n",
    "    print(num, \"is not a prime number\")\n",
    "elif num > 1:\n",
    "    # check for factors\n",
    "    for i in range(2, num):\n",
    "        if (num % i) == 0:\n",
    "            # if factor is found, set flag to True\n",
    "            flag = True\n",
    "            # break out of loop\n",
    "            break\n",
    "\n",
    "    # check if flag is True\n",
    "    if flag:\n",
    "        print(num, \"is not a prime number\")\n",
    "    else:\n",
    "        print(num, \"is a prime number\")"
   ]
  },
  {
   "cell_type": "code",
   "execution_count": 46,
   "id": "83982436-c2f0-42f2-959a-66056bba3252",
   "metadata": {},
   "outputs": [
    {
     "name": "stdout",
     "output_type": "stream",
     "text": [
      "1\n",
      "This is always executed.\n"
     ]
    }
   ],
   "source": [
    "x = 1\n",
    "total = 0\n",
    "\n",
    "# start of the if statement\n",
    "if x != 0:\n",
    "    total += x\n",
    "    print(total)  \n",
    "# end of the if statement\n",
    "\n",
    "print(\"This is always executed.\")"
   ]
  },
  {
   "cell_type": "code",
   "execution_count": 48,
   "id": "6e7434c8-9021-4d2d-9f2b-26347cadfd96",
   "metadata": {},
   "outputs": [
    {
     "name": "stdout",
     "output_type": "stream",
     "text": [
      "Number is negative\n"
     ]
    }
   ],
   "source": [
    "number = -5\n",
    "\n",
    "# outer if statement\n",
    "if number >= 0:\n",
    "    # inner if statement\n",
    "    if number == 0:\n",
    "      print('Number is 0')\n",
    "    \n",
    "    # inner else statement\n",
    "    else:\n",
    "        print('Number is positive')\n",
    "\n",
    "# outer else statement\n",
    "else:\n",
    "    print('Number is negative')"
   ]
  },
  {
   "cell_type": "code",
   "execution_count": 51,
   "id": "72244b32-fa3a-4725-97d9-e721efb94efb",
   "metadata": {},
   "outputs": [
    {
     "name": "stdin",
     "output_type": "stream",
     "text": [
      "How many terms?  9\n"
     ]
    },
    {
     "name": "stdout",
     "output_type": "stream",
     "text": [
      "Fibonacci sequence:\n",
      "0\n",
      "1\n",
      "1\n",
      "2\n",
      "3\n",
      "5\n",
      "8\n",
      "13\n",
      "21\n"
     ]
    }
   ],
   "source": [
    "# Program to display the Fibonacci sequence up to n-th term\n",
    "\n",
    "nterms = int(input(\"How many terms? \"))\n",
    "\n",
    "# first two terms\n",
    "n1, n2 = 0, 1\n",
    "count = 0\n",
    "\n",
    "# check if the number of terms is valid\n",
    "if nterms <= 0:\n",
    "    print(\"Please enter a positive integer\")\n",
    "elif nterms == 1:\n",
    "    print(\"Fibonacci sequence upto\", nterms, \":\")\n",
    "    print(n1)\n",
    "else:\n",
    "    print(\"Fibonacci sequence:\")\n",
    "    while count < nterms:\n",
    "        print(n1)\n",
    "        nth = n1 + n2\n",
    "        # update values\n",
    "        n1 = n2\n",
    "        n2 = nth\n",
    "        count += 1\n"
   ]
  },
  {
   "cell_type": "code",
   "execution_count": null,
   "id": "4d5d401e-74fb-497c-a511-53cfda774fca",
   "metadata": {},
   "outputs": [],
   "source": [
    "0 + 1 = 1\n",
    "1 + 1 = 2\n",
    "2 + 1 = 3\n",
    "3 + 2 = 5\n",
    "5 + 3 = 8\n",
    "8 + 5 = 13\n"
   ]
  },
  {
   "cell_type": "code",
   "execution_count": 54,
   "id": "785b1c08-c101-481f-a9b6-b367f122d084",
   "metadata": {},
   "outputs": [
    {
     "name": "stdout",
     "output_type": "stream",
     "text": [
      "number is equal\n"
     ]
    }
   ],
   "source": [
    "a = 10\n",
    "if a == 10:\n",
    "    print(\"number is equal\")   \n",
    "else:\n",
    "    print(\"no number is not equaal\")"
   ]
  },
  {
   "cell_type": "code",
   "execution_count": 55,
   "id": "01b51b32-7b7e-414b-9ab1-2a5b0a119aa3",
   "metadata": {},
   "outputs": [],
   "source": [
    "l = [1,23,4,5,6,7]"
   ]
  },
  {
   "cell_type": "code",
   "execution_count": 58,
   "id": "41124920-eda3-4515-906b-835309ba533e",
   "metadata": {},
   "outputs": [],
   "source": [
    "if 20 in l:\n",
    "    print(\"true\")"
   ]
  },
  {
   "cell_type": "code",
   "execution_count": 65,
   "id": "e6b09d08-7e14-4dc0-9899-c31d900383f8",
   "metadata": {},
   "outputs": [],
   "source": [
    "str = \"Pyt\""
   ]
  },
  {
   "cell_type": "code",
   "execution_count": 66,
   "id": "09354797-ade1-4f91-af1f-e49196590fcb",
   "metadata": {},
   "outputs": [],
   "source": [
    "if len(str) > 4:\n",
    "    print(str.upper())"
   ]
  },
  {
   "cell_type": "code",
   "execution_count": 67,
   "id": "b3df6319-b4da-4d7f-9eb3-8abd15f42e97",
   "metadata": {},
   "outputs": [
    {
     "name": "stdout",
     "output_type": "stream",
     "text": [
      "pyt\n"
     ]
    }
   ],
   "source": [
    "if len(str) > 4:\n",
    "    print(str.upper())\n",
    "else:\n",
    "    print(str.lower())"
   ]
  },
  {
   "cell_type": "code",
   "execution_count": 68,
   "id": "42906f33-ee83-4044-86e2-d06e5a7e247a",
   "metadata": {},
   "outputs": [],
   "source": [
    "a = 10\n",
    "b = 20\n",
    "c = 30"
   ]
  },
  {
   "cell_type": "code",
   "execution_count": 75,
   "id": "8cf1ad51-4778-4d96-a05e-d2b97d47cf92",
   "metadata": {},
   "outputs": [
    {
     "data": {
      "text/plain": [
       "True"
      ]
     },
     "execution_count": 75,
     "metadata": {},
     "output_type": "execute_result"
    }
   ],
   "source": [
    "10 < 20  < 30 == 30"
   ]
  },
  {
   "cell_type": "code",
   "execution_count": 77,
   "id": "3c57e9c3-1b52-4d39-ba7c-a189b4ac7de8",
   "metadata": {},
   "outputs": [
    {
     "data": {
      "text/plain": [
       "35"
      ]
     },
     "execution_count": 77,
     "metadata": {},
     "output_type": "execute_result"
    }
   ],
   "source": [
    "35 or 20  or 30 or 30"
   ]
  },
  {
   "cell_type": "code",
   "execution_count": 81,
   "id": "e7d08777-d289-43e4-857e-0496f171e1b6",
   "metadata": {},
   "outputs": [
    {
     "data": {
      "text/plain": [
       "False"
      ]
     },
     "execution_count": 81,
     "metadata": {},
     "output_type": "execute_result"
    }
   ],
   "source": [
    "10 > 20 or 20 < 30 or 30 > 40"
   ]
  },
  {
   "cell_type": "code",
   "execution_count": null,
   "id": "f1e252b6-6d7a-4786-bfeb-70b543513d46",
   "metadata": {},
   "outputs": [],
   "source": []
  }
 ],
 "metadata": {
  "kernelspec": {
   "display_name": "Python 3 (ipykernel)",
   "language": "python",
   "name": "python3"
  },
  "language_info": {
   "codemirror_mode": {
    "name": "ipython",
    "version": 3
   },
   "file_extension": ".py",
   "mimetype": "text/x-python",
   "name": "python",
   "nbconvert_exporter": "python",
   "pygments_lexer": "ipython3",
   "version": "3.11.7"
  }
 },
 "nbformat": 4,
 "nbformat_minor": 5
}
