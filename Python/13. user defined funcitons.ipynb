{
 "cells": [
  {
   "cell_type": "raw",
   "id": "afa91775-5e28-4fc4-844e-f5bb577ed3fb",
   "metadata": {},
   "source": [
    "## Argument \n",
    "\n",
    "*args             = non-keyword \n",
    "**kwargs           = keyword \n",
    "positional args  = fix "
   ]
  },
  {
   "cell_type": "code",
   "execution_count": 1,
   "id": "d2f6218f-a2f3-4964-a7c9-cc1351cf0af1",
   "metadata": {},
   "outputs": [],
   "source": [
    "def fun1():\n",
    "    return 3"
   ]
  },
  {
   "cell_type": "code",
   "execution_count": 2,
   "id": "b74ea14f-8d08-4d9a-aaf4-afe05507b28d",
   "metadata": {},
   "outputs": [
    {
     "data": {
      "text/plain": [
       "3"
      ]
     },
     "execution_count": 2,
     "metadata": {},
     "output_type": "execute_result"
    }
   ],
   "source": [
    "fun1()"
   ]
  },
  {
   "cell_type": "code",
   "execution_count": 3,
   "id": "bcca4ecf-644f-4ae0-a649-654f96f54580",
   "metadata": {},
   "outputs": [],
   "source": [
    "def fun2(a):\n",
    "    b = a**2\n",
    "    return b"
   ]
  },
  {
   "cell_type": "code",
   "execution_count": 4,
   "id": "7e35230e-4f26-471e-8b8b-4de0ad9800b4",
   "metadata": {},
   "outputs": [
    {
     "ename": "TypeError",
     "evalue": "fun2() missing 1 required positional argument: 'a'",
     "output_type": "error",
     "traceback": [
      "\u001b[1;31m---------------------------------------------------------------------------\u001b[0m",
      "\u001b[1;31mTypeError\u001b[0m                                 Traceback (most recent call last)",
      "Cell \u001b[1;32mIn[4], line 1\u001b[0m\n\u001b[1;32m----> 1\u001b[0m fun2()\n",
      "\u001b[1;31mTypeError\u001b[0m: fun2() missing 1 required positional argument: 'a'"
     ]
    }
   ],
   "source": [
    "fun2()"
   ]
  },
  {
   "cell_type": "code",
   "execution_count": 5,
   "id": "2d376848-f481-4e94-b14f-7345fa52e1aa",
   "metadata": {},
   "outputs": [
    {
     "ename": "TypeError",
     "evalue": "len() takes exactly one argument (0 given)",
     "output_type": "error",
     "traceback": [
      "\u001b[1;31m---------------------------------------------------------------------------\u001b[0m",
      "\u001b[1;31mTypeError\u001b[0m                                 Traceback (most recent call last)",
      "Cell \u001b[1;32mIn[5], line 1\u001b[0m\n\u001b[1;32m----> 1\u001b[0m \u001b[38;5;28mlen\u001b[39m()\n",
      "\u001b[1;31mTypeError\u001b[0m: len() takes exactly one argument (0 given)"
     ]
    }
   ],
   "source": [
    "len()"
   ]
  },
  {
   "cell_type": "code",
   "execution_count": 7,
   "id": "4280f992-93f3-496f-94d1-0297f6287131",
   "metadata": {},
   "outputs": [
    {
     "data": {
      "text/plain": [
       "49"
      ]
     },
     "execution_count": 7,
     "metadata": {},
     "output_type": "execute_result"
    }
   ],
   "source": [
    "fun2(7)"
   ]
  },
  {
   "cell_type": "code",
   "execution_count": 8,
   "id": "702a2cfd-2ca3-4e6a-ae83-daab50f5776c",
   "metadata": {},
   "outputs": [],
   "source": [
    "def fun3(a, b):\n",
    "    c = a + b\n",
    "    return c"
   ]
  },
  {
   "cell_type": "code",
   "execution_count": 10,
   "id": "f92135ed-770b-4dd9-9c0f-cf5bfbda5c03",
   "metadata": {},
   "outputs": [
    {
     "data": {
      "text/plain": [
       "7"
      ]
     },
     "execution_count": 10,
     "metadata": {},
     "output_type": "execute_result"
    }
   ],
   "source": [
    "fun3(4,3)"
   ]
  },
  {
   "cell_type": "code",
   "execution_count": 14,
   "id": "b3ca7f43-97a9-4f9a-b21f-282b5c3f40cb",
   "metadata": {},
   "outputs": [],
   "source": [
    "def fun4(*a):\n",
    "    return a"
   ]
  },
  {
   "cell_type": "code",
   "execution_count": 17,
   "id": "2587530f-f551-46fc-951c-13ffa4faf30b",
   "metadata": {},
   "outputs": [
    {
     "data": {
      "text/plain": [
       "(3, 6, 8)"
      ]
     },
     "execution_count": 17,
     "metadata": {},
     "output_type": "execute_result"
    }
   ],
   "source": [
    "fun4(3,6,8)"
   ]
  },
  {
   "cell_type": "code",
   "execution_count": 18,
   "id": "ed1237dc-2b21-4662-a5cf-233e0f300972",
   "metadata": {},
   "outputs": [
    {
     "name": "stdout",
     "output_type": "stream",
     "text": [
      "\n"
     ]
    }
   ],
   "source": [
    "print()"
   ]
  },
  {
   "cell_type": "code",
   "execution_count": 19,
   "id": "7d1e676c-44d9-48f4-9c8b-dd425eb63cb0",
   "metadata": {},
   "outputs": [
    {
     "name": "stdout",
     "output_type": "stream",
     "text": [
      "3 [3, 4, 5] True\n"
     ]
    }
   ],
   "source": [
    "print(3, [3,4,5,], True)"
   ]
  },
  {
   "cell_type": "code",
   "execution_count": 20,
   "id": "451cd732-ec61-4bc3-b05d-6a335153a67e",
   "metadata": {},
   "outputs": [],
   "source": [
    "def fun5(**a):\n",
    "    return a"
   ]
  },
  {
   "cell_type": "code",
   "execution_count": 24,
   "id": "e14ff100-7874-4d57-a266-f70c51755e89",
   "metadata": {},
   "outputs": [
    {
     "data": {
      "text/plain": [
       "{'name': 'py'}"
      ]
     },
     "execution_count": 24,
     "metadata": {},
     "output_type": "execute_result"
    }
   ],
   "source": [
    "fun5(name = \"py\")"
   ]
  },
  {
   "cell_type": "code",
   "execution_count": 26,
   "id": "bc3eec6b-d1bb-4c5d-bc7f-893ee50252af",
   "metadata": {},
   "outputs": [
    {
     "data": {
      "text/plain": [
       "{'name': 'py', 'name1': 'py3'}"
      ]
     },
     "execution_count": 26,
     "metadata": {},
     "output_type": "execute_result"
    }
   ],
   "source": [
    "fun5( name = \"py\", name1 = \"py3\")"
   ]
  },
  {
   "cell_type": "code",
   "execution_count": 27,
   "id": "706430cb-a394-475f-8844-1a7c7fe83a8d",
   "metadata": {},
   "outputs": [
    {
     "ename": "SyntaxError",
     "evalue": "arguments cannot follow var-keyword argument (829563763.py, line 1)",
     "output_type": "error",
     "traceback": [
      "\u001b[1;36m  Cell \u001b[1;32mIn[27], line 1\u001b[1;36m\u001b[0m\n\u001b[1;33m    def fun6(**a, *b, c):\u001b[0m\n\u001b[1;37m                  ^\u001b[0m\n\u001b[1;31mSyntaxError\u001b[0m\u001b[1;31m:\u001b[0m arguments cannot follow var-keyword argument\n"
     ]
    }
   ],
   "source": [
    "def fun6(**a, *b, c):\n",
    "    return a,b,c"
   ]
  },
  {
   "cell_type": "code",
   "execution_count": 28,
   "id": "6adbfb71-fb62-4945-bba5-92bc70fb8694",
   "metadata": {},
   "outputs": [],
   "source": [
    "def fun6(c, *a, **b):\n",
    "    return a,b,c"
   ]
  },
  {
   "cell_type": "code",
   "execution_count": 30,
   "id": "a566ec00-bd04-455e-bab8-8b27322bb7d3",
   "metadata": {},
   "outputs": [
    {
     "data": {
      "text/plain": [
       "((3,), {}, 2)"
      ]
     },
     "execution_count": 30,
     "metadata": {},
     "output_type": "execute_result"
    }
   ],
   "source": [
    "fun6(2, 3)"
   ]
  },
  {
   "cell_type": "code",
   "execution_count": 31,
   "id": "eee0b9b5-fe3d-4dbb-8b4b-8cd3c8aad117",
   "metadata": {},
   "outputs": [],
   "source": [
    "def fun7(*a, b):\n",
    "    return a,b"
   ]
  },
  {
   "cell_type": "code",
   "execution_count": 33,
   "id": "2b9d93bc-6633-46cd-ad2b-9ea89e465e89",
   "metadata": {},
   "outputs": [
    {
     "ename": "TypeError",
     "evalue": "fun7() missing 1 required keyword-only argument: 'b'",
     "output_type": "error",
     "traceback": [
      "\u001b[1;31m---------------------------------------------------------------------------\u001b[0m",
      "\u001b[1;31mTypeError\u001b[0m                                 Traceback (most recent call last)",
      "Cell \u001b[1;32mIn[33], line 1\u001b[0m\n\u001b[1;32m----> 1\u001b[0m fun7(\u001b[38;5;241m2\u001b[39m,\u001b[38;5;241m7\u001b[39m,\u001b[38;5;241m7\u001b[39m,\u001b[38;5;241m9\u001b[39m,\u001b[38;5;241m0\u001b[39m)\n",
      "\u001b[1;31mTypeError\u001b[0m: fun7() missing 1 required keyword-only argument: 'b'"
     ]
    }
   ],
   "source": [
    "fun7(2,7,7,9,0)"
   ]
  },
  {
   "cell_type": "code",
   "execution_count": 34,
   "id": "224d90c1-82b6-46f2-9d81-840f005ce6dc",
   "metadata": {},
   "outputs": [
    {
     "name": "stdout",
     "output_type": "stream",
     "text": [
      "\n"
     ]
    }
   ],
   "source": [
    "print()"
   ]
  },
  {
   "cell_type": "code",
   "execution_count": 35,
   "id": "8f197bc6-e746-462c-84ac-7261cf43f994",
   "metadata": {},
   "outputs": [],
   "source": [
    "def generate_full_name ():\n",
    "    first_name = 'Asabeneh'\n",
    "    last_name = 'Yetayeh'\n",
    "    space = ' '\n",
    "    full_name = first_name + space + last_name\n",
    "    return full_name"
   ]
  },
  {
   "cell_type": "code",
   "execution_count": 37,
   "id": "4364b0c5-99f6-494d-a493-486d9b709e69",
   "metadata": {},
   "outputs": [
    {
     "data": {
      "text/plain": [
       "'Asabeneh Yetayeh'"
      ]
     },
     "execution_count": 37,
     "metadata": {},
     "output_type": "execute_result"
    }
   ],
   "source": [
    "generate_full_name()"
   ]
  },
  {
   "cell_type": "code",
   "execution_count": 38,
   "id": "2979cff3-8c82-4811-881b-4f44bc0de546",
   "metadata": {},
   "outputs": [],
   "source": [
    "def generate_full_name ():\n",
    "    first_name = 'Asabeneh'\n",
    "    last_name = 'Yetayeh'\n",
    "    space = ' '\n",
    "    full_name = first_name + space + last_name\n",
    "    print(full_name)  "
   ]
  },
  {
   "cell_type": "code",
   "execution_count": 40,
   "id": "d0190684-1b60-4074-b608-dd2ed3b37e0f",
   "metadata": {},
   "outputs": [
    {
     "name": "stdout",
     "output_type": "stream",
     "text": [
      "Asabeneh Yetayeh\n"
     ]
    }
   ],
   "source": [
    "generate_full_name()"
   ]
  },
  {
   "cell_type": "code",
   "execution_count": 41,
   "id": "f7e3d974-dd2a-4547-9060-9ae0b3e5fc09",
   "metadata": {},
   "outputs": [],
   "source": [
    "def area_of_circle (r):\n",
    "    PI = 3.14\n",
    "    area = PI * r ** 2\n",
    "    return area"
   ]
  },
  {
   "cell_type": "code",
   "execution_count": 42,
   "id": "1745be94-222f-4536-8edb-1284a06ddddc",
   "metadata": {},
   "outputs": [
    {
     "data": {
      "text/plain": [
       "50.24"
      ]
     },
     "execution_count": 42,
     "metadata": {},
     "output_type": "execute_result"
    }
   ],
   "source": [
    "area_of_circle(4)"
   ]
  },
  {
   "cell_type": "code",
   "execution_count": 43,
   "id": "5f87649e-3058-4b92-89a3-99fbf97e2709",
   "metadata": {},
   "outputs": [],
   "source": [
    "def sum_of_numbers(n):\n",
    "    total = 0\n",
    "    for i in range(n+1):\n",
    "        total=total+i\n",
    "    print(total)"
   ]
  },
  {
   "cell_type": "code",
   "execution_count": 44,
   "id": "5bb7bb7c-d5d1-431e-8626-75c05257b6ea",
   "metadata": {},
   "outputs": [
    {
     "name": "stdout",
     "output_type": "stream",
     "text": [
      "36\n"
     ]
    }
   ],
   "source": [
    "sum_of_numbers(8)"
   ]
  },
  {
   "cell_type": "code",
   "execution_count": 46,
   "id": "10ca05e7-4474-44cb-8acd-2abcf533e350",
   "metadata": {},
   "outputs": [
    {
     "name": "stdout",
     "output_type": "stream",
     "text": [
      "0\n",
      "1\n",
      "2\n",
      "3\n",
      "4\n",
      "5\n",
      "6\n",
      "7\n",
      "8\n"
     ]
    }
   ],
   "source": [
    "total = 0\n",
    "for i in range(8+1):\n",
    "    total=total+i\n",
    "    print(i)"
   ]
  },
  {
   "cell_type": "code",
   "execution_count": 47,
   "id": "1af6702b-9976-4d45-846e-260ad3329900",
   "metadata": {},
   "outputs": [
    {
     "data": {
      "text/plain": [
       "36"
      ]
     },
     "execution_count": 47,
     "metadata": {},
     "output_type": "execute_result"
    }
   ],
   "source": [
    "total"
   ]
  },
  {
   "cell_type": "code",
   "execution_count": 48,
   "id": "5a5fd385-e697-4608-941c-8e64456094e1",
   "metadata": {},
   "outputs": [],
   "source": [
    "def multiply(a, b=2):\n",
    "    \"\"\"Return the product of a and b. Default value of b is 1.\"\"\"\n",
    "    return a * b"
   ]
  },
  {
   "cell_type": "code",
   "execution_count": 49,
   "id": "d9998209-4627-436c-a6f1-36f1297cd098",
   "metadata": {},
   "outputs": [
    {
     "data": {
      "text/plain": [
       "6"
      ]
     },
     "execution_count": 49,
     "metadata": {},
     "output_type": "execute_result"
    }
   ],
   "source": [
    "multiply(3)"
   ]
  },
  {
   "cell_type": "code",
   "execution_count": 50,
   "id": "a58c754f-e699-4750-b4b7-4660a3e64244",
   "metadata": {},
   "outputs": [
    {
     "data": {
      "text/plain": [
       "15"
      ]
     },
     "execution_count": 50,
     "metadata": {},
     "output_type": "execute_result"
    }
   ],
   "source": [
    "multiply(3, b = 5)"
   ]
  },
  {
   "cell_type": "code",
   "execution_count": null,
   "id": "be31e713-8b9d-45fc-8742-86984e3914d9",
   "metadata": {},
   "outputs": [],
   "source": [
    "multiply()"
   ]
  },
  {
   "cell_type": "code",
   "execution_count": 53,
   "id": "de2afaca-2931-4cd7-b6a3-1e5021fd30a9",
   "metadata": {},
   "outputs": [],
   "source": [
    "def list_items(*args):\n",
    "    \"\"\"Print all items passed as arguments.\"\"\"\n",
    "    for item in args:\n",
    "        print(item)\n",
    "    return args    "
   ]
  },
  {
   "cell_type": "code",
   "execution_count": 54,
   "id": "6d3bd63d-59f8-4860-8823-7a2794594b62",
   "metadata": {},
   "outputs": [
    {
     "name": "stdout",
     "output_type": "stream",
     "text": [
      "2\n",
      "3\n",
      "4\n",
      "5\n"
     ]
    },
    {
     "data": {
      "text/plain": [
       "(2, 3, 4, 5)"
      ]
     },
     "execution_count": 54,
     "metadata": {},
     "output_type": "execute_result"
    }
   ],
   "source": [
    "list_items(2,3,4,5)"
   ]
  },
  {
   "cell_type": "code",
   "execution_count": 55,
   "id": "a2eec050-92b5-4302-94c3-5552d0e7bf39",
   "metadata": {},
   "outputs": [],
   "source": [
    "def print_info(**kwargs):\n",
    "    \"\"\"Print key-value pairs passed as keyword arguments.\"\"\"\n",
    "    for key, value in kwargs.items():\n",
    "        print(f\"{key}: {value}\")"
   ]
  },
  {
   "cell_type": "code",
   "execution_count": 61,
   "id": "c2e6335a-49a0-4fc5-b467-cb453a5b611f",
   "metadata": {},
   "outputs": [
    {
     "name": "stdout",
     "output_type": "stream",
     "text": [
      "name: C++\n",
      "name1: java\n"
     ]
    }
   ],
   "source": [
    "print_info(name = \"C++\", name1 = \"java\")"
   ]
  },
  {
   "cell_type": "code",
   "execution_count": 62,
   "id": "a3267356-ce98-44cf-a9f2-ca1324cc56f7",
   "metadata": {},
   "outputs": [
    {
     "data": {
      "text/plain": [
       "{'name': 'py'}"
      ]
     },
     "execution_count": 62,
     "metadata": {},
     "output_type": "execute_result"
    }
   ],
   "source": [
    "{\"name\" : \"py\"}"
   ]
  },
  {
   "cell_type": "code",
   "execution_count": 63,
   "id": "3caf835e-df57-4db3-8bca-65cbb7978f5e",
   "metadata": {},
   "outputs": [],
   "source": [
    "def divide(a, b):\n",
    "    \"\"\"\n",
    "    Divide a by b and return the result.\n",
    "\n",
    "    Parameters:\n",
    "    a (float): The numerator.\n",
    "    b (float): The denominator.\n",
    "\n",
    "    Returns:\n",
    "    float: The result of the division.\n",
    "    \"\"\"\n",
    "    return a / b"
   ]
  },
  {
   "cell_type": "code",
   "execution_count": 66,
   "id": "42e77c46-c472-4ebb-97c7-b0f85899876d",
   "metadata": {},
   "outputs": [
    {
     "name": "stdout",
     "output_type": "stream",
     "text": [
      "Python is awesome\n"
     ]
    }
   ],
   "source": [
    "x = \"awesome\"\n",
    "\n",
    "def myfunc():\n",
    "  print(\"Python is \" + x)\n",
    "\n",
    "myfunc()"
   ]
  },
  {
   "cell_type": "code",
   "execution_count": 67,
   "id": "9749c3c7-5a85-499e-b2a9-f4ab87223962",
   "metadata": {},
   "outputs": [
    {
     "name": "stdout",
     "output_type": "stream",
     "text": [
      "Python is fantastic\n",
      "Python is awesome\n"
     ]
    }
   ],
   "source": [
    "x = \"awesome\"\n",
    "\n",
    "def myfunc1():\n",
    "  x = \"fantastic\"\n",
    "  print(\"Python is \" + x)\n",
    "\n",
    "\n",
    "myfunc1()\n",
    "myfunc()\n",
    "\n"
   ]
  },
  {
   "cell_type": "code",
   "execution_count": 68,
   "id": "29fa5d64-40ef-4f85-b6bc-4f53eaf44f57",
   "metadata": {},
   "outputs": [],
   "source": [
    "def myfunc2():\n",
    "  y = \"fantastic\"\n",
    "  print(\"Python is \" + y)"
   ]
  },
  {
   "cell_type": "code",
   "execution_count": 69,
   "id": "6c4114b7-9746-47af-8bf4-e2938f0d5d99",
   "metadata": {},
   "outputs": [
    {
     "ename": "NameError",
     "evalue": "name 'y' is not defined",
     "output_type": "error",
     "traceback": [
      "\u001b[1;31m---------------------------------------------------------------------------\u001b[0m",
      "\u001b[1;31mNameError\u001b[0m                                 Traceback (most recent call last)",
      "Cell \u001b[1;32mIn[69], line 1\u001b[0m\n\u001b[1;32m----> 1\u001b[0m y\n",
      "\u001b[1;31mNameError\u001b[0m: name 'y' is not defined"
     ]
    }
   ],
   "source": [
    "y"
   ]
  },
  {
   "cell_type": "code",
   "execution_count": 70,
   "id": "e06f3619-212e-4dfc-82ea-cf2f53400e7d",
   "metadata": {},
   "outputs": [
    {
     "data": {
      "text/plain": [
       "'awesome'"
      ]
     },
     "execution_count": 70,
     "metadata": {},
     "output_type": "execute_result"
    }
   ],
   "source": [
    "x"
   ]
  },
  {
   "cell_type": "code",
   "execution_count": 76,
   "id": "1c74ca91-bd71-4786-bc48-8ddcd3797b47",
   "metadata": {},
   "outputs": [],
   "source": [
    "def myfunc3():\n",
    "    global y\n",
    "    y = \"fantastic\"\n",
    "    return y"
   ]
  },
  {
   "cell_type": "code",
   "execution_count": 77,
   "id": "2e7ca95d-9aaf-48b5-9e16-d5c3938e8745",
   "metadata": {},
   "outputs": [
    {
     "data": {
      "text/plain": [
       "'fantastic'"
      ]
     },
     "execution_count": 77,
     "metadata": {},
     "output_type": "execute_result"
    }
   ],
   "source": [
    "myfunc3()"
   ]
  },
  {
   "cell_type": "code",
   "execution_count": 78,
   "id": "ac2302b2-b96c-4c51-99b8-85944498c66f",
   "metadata": {},
   "outputs": [
    {
     "data": {
      "text/plain": [
       "'fantastic'"
      ]
     },
     "execution_count": 78,
     "metadata": {},
     "output_type": "execute_result"
    }
   ],
   "source": [
    "y"
   ]
  },
  {
   "cell_type": "code",
   "execution_count": 86,
   "id": "574fcc48-65ff-4b17-a492-80d6c9c62e38",
   "metadata": {},
   "outputs": [],
   "source": [
    "def myfunc4(a):\n",
    "    global z\n",
    "    z = \"fantastic\"\n",
    "    return a * z"
   ]
  },
  {
   "cell_type": "code",
   "execution_count": 87,
   "id": "4432ed45-b78f-4fff-978f-9dce2bc96507",
   "metadata": {},
   "outputs": [
    {
     "data": {
      "text/plain": [
       "'fantasticfantasticfantastic'"
      ]
     },
     "execution_count": 87,
     "metadata": {},
     "output_type": "execute_result"
    }
   ],
   "source": [
    "myfunc4(3)"
   ]
  },
  {
   "cell_type": "code",
   "execution_count": 88,
   "id": "29535da7-250a-41c2-9486-8cdaabd76568",
   "metadata": {},
   "outputs": [
    {
     "data": {
      "text/plain": [
       "'fantastic'"
      ]
     },
     "execution_count": 88,
     "metadata": {},
     "output_type": "execute_result"
    }
   ],
   "source": [
    "z"
   ]
  },
  {
   "cell_type": "code",
   "execution_count": 91,
   "id": "7d2e1c95-a914-47b1-af63-0cf6728461af",
   "metadata": {},
   "outputs": [],
   "source": [
    "def fun9():\n",
    "    global a\n",
    "    a = \"hello\"\n",
    "    print(a)"
   ]
  },
  {
   "cell_type": "code",
   "execution_count": 93,
   "id": "8cb0f7fb-af5a-4cb8-864a-79a72659679c",
   "metadata": {},
   "outputs": [
    {
     "name": "stdout",
     "output_type": "stream",
     "text": [
      "hello\n"
     ]
    }
   ],
   "source": [
    "fun9()"
   ]
  },
  {
   "cell_type": "code",
   "execution_count": 94,
   "id": "d1aa3313-c17c-41f3-8c0b-c068332a36d6",
   "metadata": {},
   "outputs": [
    {
     "data": {
      "text/plain": [
       "'hello'"
      ]
     },
     "execution_count": 94,
     "metadata": {},
     "output_type": "execute_result"
    }
   ],
   "source": [
    "a"
   ]
  },
  {
   "cell_type": "code",
   "execution_count": 99,
   "id": "6c7bca94-f029-487b-9d71-6fe8eac2058a",
   "metadata": {},
   "outputs": [],
   "source": [
    "def add_numbers1(a, b):\n",
    "    #logging.info(\"asdkg\")\n",
    "    try:\n",
    "        \"\"\"Return the sum of two numbers.\"\"\"\n",
    "        return a / b\n",
    "    except Exception as e:\n",
    "        print(e)"
   ]
  },
  {
   "cell_type": "code",
   "execution_count": 100,
   "id": "d0eeff90-d205-4060-85fc-468f46934ae2",
   "metadata": {},
   "outputs": [
    {
     "name": "stdout",
     "output_type": "stream",
     "text": [
      "division by zero\n"
     ]
    }
   ],
   "source": [
    "add_numbers1(4,0)"
   ]
  },
  {
   "cell_type": "code",
   "execution_count": 112,
   "id": "ee77971c-3c37-46df-a14b-8c64ce7aaaf1",
   "metadata": {},
   "outputs": [],
   "source": [
    "def fun10(a):\n",
    "    a = a**2\n",
    "    def fun11(a):\n",
    "        a = a+5\n",
    "        return a     "
   ]
  },
  {
   "cell_type": "code",
   "execution_count": 113,
   "id": "f77036e5-d56a-4c79-b279-378994aa08b7",
   "metadata": {},
   "outputs": [],
   "source": [
    "fun10(2)"
   ]
  },
  {
   "cell_type": "code",
   "execution_count": 114,
   "id": "920329b7-8a4d-4fe9-83ad-1113f1ee4d3c",
   "metadata": {},
   "outputs": [],
   "source": [
    "def fun10(a):\n",
    "    a = a**2  # This squares the input value\n",
    "    def fun11(a):\n",
    "        a = a + 5  # Adds 5 to the input value\n",
    "        return a   # Returns the modified value\n",
    "    \n",
    "    return fun11(a)  # Calls fun11 with the modified value of a and returns the result\n"
   ]
  },
  {
   "cell_type": "code",
   "execution_count": 115,
   "id": "78ddbfbc-ac1f-4f72-83a4-5b0a99c26b76",
   "metadata": {},
   "outputs": [
    {
     "data": {
      "text/plain": [
       "9"
      ]
     },
     "execution_count": 115,
     "metadata": {},
     "output_type": "execute_result"
    }
   ],
   "source": [
    "fun10(2)"
   ]
  },
  {
   "cell_type": "code",
   "execution_count": null,
   "id": "cf58bbc8-2348-40bb-ba21-488ad10caf55",
   "metadata": {},
   "outputs": [],
   "source": []
  }
 ],
 "metadata": {
  "kernelspec": {
   "display_name": "Python 3 (ipykernel)",
   "language": "python",
   "name": "python3"
  },
  "language_info": {
   "codemirror_mode": {
    "name": "ipython",
    "version": 3
   },
   "file_extension": ".py",
   "mimetype": "text/x-python",
   "name": "python",
   "nbconvert_exporter": "python",
   "pygments_lexer": "ipython3",
   "version": "3.11.7"
  }
 },
 "nbformat": 4,
 "nbformat_minor": 5
}
