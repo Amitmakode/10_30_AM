{
 "cells": [
  {
   "cell_type": "code",
   "execution_count": 1,
   "id": "a4181514",
   "metadata": {},
   "outputs": [],
   "source": [
    "## Sets\n",
    "\n",
    "#Set is a collection of items. Let me take you back to your elementary or high school Mathematics lesson. The Mathematics definition of a set can be applied also in Python. Set is a collection of unordered and un-indexed distinct elements. In Python set is used to store unique items, and it is possible to find the _union_, _intersection_, _difference_, _symmetric difference_, _subset_, _super set_ and _disjoint set_ among sets.\n"
   ]
  },
  {
   "cell_type": "code",
   "execution_count": 2,
   "id": "35d903e3",
   "metadata": {},
   "outputs": [
    {
     "data": {
      "text/plain": [
       "{2, 34, 5, 'amit'}"
      ]
     },
     "execution_count": 2,
     "metadata": {},
     "output_type": "execute_result"
    }
   ],
   "source": [
    "{2,34,5,\"amit\"}"
   ]
  },
  {
   "cell_type": "code",
   "execution_count": 3,
   "id": "058d5012",
   "metadata": {},
   "outputs": [
    {
     "data": {
      "text/plain": [
       "set"
      ]
     },
     "execution_count": 3,
     "metadata": {},
     "output_type": "execute_result"
    }
   ],
   "source": [
    "type({2,34,5,\"amit\"})"
   ]
  },
  {
   "cell_type": "code",
   "execution_count": 5,
   "id": "1a476d5f",
   "metadata": {},
   "outputs": [],
   "source": [
    "# syntax\n",
    "st = {'item1', 'item1','item1','item2', 'item3', 'item4'}"
   ]
  },
  {
   "cell_type": "code",
   "execution_count": 6,
   "id": "150dc10b",
   "metadata": {},
   "outputs": [
    {
     "data": {
      "text/plain": [
       "{'item1', 'item2', 'item3', 'item4'}"
      ]
     },
     "execution_count": 6,
     "metadata": {},
     "output_type": "execute_result"
    }
   ],
   "source": [
    "st"
   ]
  },
  {
   "cell_type": "code",
   "execution_count": 8,
   "id": "c924ad18",
   "metadata": {},
   "outputs": [
    {
     "data": {
      "text/plain": [
       "4"
      ]
     },
     "execution_count": 8,
     "metadata": {},
     "output_type": "execute_result"
    }
   ],
   "source": [
    "fruits = {'banana', 'orange', 'mango', 'lemon', 'mango'}\n",
    "len(fruits)"
   ]
  },
  {
   "cell_type": "code",
   "execution_count": 9,
   "id": "a6af95d3",
   "metadata": {},
   "outputs": [
    {
     "name": "stdout",
     "output_type": "stream",
     "text": [
      "Does set st contain item3?  True\n"
     ]
    }
   ],
   "source": [
    "st = {'item1', 'item2', 'item3', 'item4'}\n",
    "print(\"Does set st contain item3? \", 'item3' in st) # Does set st contain item3? True"
   ]
  },
  {
   "cell_type": "code",
   "execution_count": 12,
   "id": "484caba8",
   "metadata": {},
   "outputs": [
    {
     "ename": "TypeError",
     "evalue": "'set' object is not subscriptable",
     "output_type": "error",
     "traceback": [
      "\u001b[1;31m---------------------------------------------------------------------------\u001b[0m",
      "\u001b[1;31mTypeError\u001b[0m                                 Traceback (most recent call last)",
      "Cell \u001b[1;32mIn[12], line 1\u001b[0m\n\u001b[1;32m----> 1\u001b[0m st[\u001b[38;5;241m1\u001b[39m]\n",
      "\u001b[1;31mTypeError\u001b[0m: 'set' object is not subscriptable"
     ]
    }
   ],
   "source": [
    "st[1]"
   ]
  },
  {
   "cell_type": "code",
   "execution_count": 13,
   "id": "94ac0c3d",
   "metadata": {},
   "outputs": [
    {
     "ename": "TypeError",
     "evalue": "'set' object is not subscriptable",
     "output_type": "error",
     "traceback": [
      "\u001b[1;31m---------------------------------------------------------------------------\u001b[0m",
      "\u001b[1;31mTypeError\u001b[0m                                 Traceback (most recent call last)",
      "Cell \u001b[1;32mIn[13], line 1\u001b[0m\n\u001b[1;32m----> 1\u001b[0m st[:]\n",
      "\u001b[1;31mTypeError\u001b[0m: 'set' object is not subscriptable"
     ]
    }
   ],
   "source": [
    "st[:]"
   ]
  },
  {
   "cell_type": "code",
   "execution_count": 25,
   "id": "33a3026b",
   "metadata": {},
   "outputs": [
    {
     "ename": "TypeError",
     "evalue": "set.add() takes exactly one argument (2 given)",
     "output_type": "error",
     "traceback": [
      "\u001b[1;31m---------------------------------------------------------------------------\u001b[0m",
      "\u001b[1;31mTypeError\u001b[0m                                 Traceback (most recent call last)",
      "Cell \u001b[1;32mIn[25], line 6\u001b[0m\n\u001b[0;32m      1\u001b[0m st \u001b[38;5;241m=\u001b[39m {\u001b[38;5;124m'\u001b[39m\u001b[38;5;124mitem1\u001b[39m\u001b[38;5;124m'\u001b[39m, \u001b[38;5;124m'\u001b[39m\u001b[38;5;124mitem2\u001b[39m\u001b[38;5;124m'\u001b[39m, \u001b[38;5;124m'\u001b[39m\u001b[38;5;124mitem3\u001b[39m\u001b[38;5;124m'\u001b[39m, \u001b[38;5;124m'\u001b[39m\u001b[38;5;124mitem4\u001b[39m\u001b[38;5;124m'\u001b[39m}\n\u001b[0;32m      4\u001b[0m st\u001b[38;5;241m.\u001b[39madd(\u001b[38;5;124m\"\u001b[39m\u001b[38;5;124mitem5\u001b[39m\u001b[38;5;124m\"\u001b[39m)        \n\u001b[1;32m----> 6\u001b[0m st\u001b[38;5;241m.\u001b[39madd(\u001b[38;5;124m\"\u001b[39m\u001b[38;5;124mitem8\u001b[39m\u001b[38;5;124m\"\u001b[39m, \u001b[38;5;124m\"\u001b[39m\u001b[38;5;124mitem9\u001b[39m\u001b[38;5;124m\"\u001b[39m)\n",
      "\u001b[1;31mTypeError\u001b[0m: set.add() takes exactly one argument (2 given)"
     ]
    }
   ],
   "source": [
    "st = {'item1', 'item2', 'item3', 'item4'}\n",
    "\n",
    "\n",
    "st.add(\"item5\")        \n",
    "\n",
    "#st.add(\"item8\", \"item9\")   "
   ]
  },
  {
   "cell_type": "code",
   "execution_count": 15,
   "id": "dfe4ceee",
   "metadata": {},
   "outputs": [
    {
     "data": {
      "text/plain": [
       "{'item1', 'item2', 'item3', 'item4', 'item5'}"
      ]
     },
     "execution_count": 15,
     "metadata": {},
     "output_type": "execute_result"
    }
   ],
   "source": [
    "st"
   ]
  },
  {
   "cell_type": "code",
   "execution_count": 16,
   "id": "07afa95a",
   "metadata": {},
   "outputs": [],
   "source": [
    "st1 = st.copy() "
   ]
  },
  {
   "cell_type": "code",
   "execution_count": 17,
   "id": "ea46c916",
   "metadata": {},
   "outputs": [
    {
     "data": {
      "text/plain": [
       "{'item1', 'item2', 'item3', 'item4', 'item5'}"
      ]
     },
     "execution_count": 17,
     "metadata": {},
     "output_type": "execute_result"
    }
   ],
   "source": [
    "st1"
   ]
  },
  {
   "cell_type": "code",
   "execution_count": 18,
   "id": "f0895bb4",
   "metadata": {},
   "outputs": [],
   "source": [
    "st1.clear()"
   ]
  },
  {
   "cell_type": "code",
   "execution_count": 19,
   "id": "d94860ad",
   "metadata": {},
   "outputs": [
    {
     "data": {
      "text/plain": [
       "set()"
      ]
     },
     "execution_count": 19,
     "metadata": {},
     "output_type": "execute_result"
    }
   ],
   "source": [
    "st1"
   ]
  },
  {
   "cell_type": "code",
   "execution_count": 20,
   "id": "b12d03ff",
   "metadata": {},
   "outputs": [
    {
     "data": {
      "text/plain": [
       "'item2'"
      ]
     },
     "execution_count": 20,
     "metadata": {},
     "output_type": "execute_result"
    }
   ],
   "source": [
    "st.pop()"
   ]
  },
  {
   "cell_type": "code",
   "execution_count": 21,
   "id": "5e28f501",
   "metadata": {},
   "outputs": [
    {
     "data": {
      "text/plain": [
       "{'item1', 'item3', 'item4', 'item5'}"
      ]
     },
     "execution_count": 21,
     "metadata": {},
     "output_type": "execute_result"
    }
   ],
   "source": [
    "st"
   ]
  },
  {
   "cell_type": "code",
   "execution_count": 22,
   "id": "b01ca1ac",
   "metadata": {},
   "outputs": [
    {
     "data": {
      "text/plain": [
       "'item1'"
      ]
     },
     "execution_count": 22,
     "metadata": {},
     "output_type": "execute_result"
    }
   ],
   "source": [
    "st.pop()"
   ]
  },
  {
   "cell_type": "code",
   "execution_count": 23,
   "id": "1ef3f0b9",
   "metadata": {},
   "outputs": [],
   "source": [
    "st = {'item1', 'item2', 'item3', 'item4'}\n",
    "\n",
    "st.update(['item5','item6','item7'])"
   ]
  },
  {
   "cell_type": "code",
   "execution_count": 24,
   "id": "0eded307",
   "metadata": {},
   "outputs": [
    {
     "data": {
      "text/plain": [
       "{'item1', 'item2', 'item3', 'item4', 'item5', 'item6', 'item7'}"
      ]
     },
     "execution_count": 24,
     "metadata": {},
     "output_type": "execute_result"
    }
   ],
   "source": [
    "st"
   ]
  },
  {
   "cell_type": "code",
   "execution_count": 26,
   "id": "4109acfa",
   "metadata": {},
   "outputs": [],
   "source": [
    "fruits = {'banana', 'orange', 'mango', 'lemon'}\n",
    "\n",
    "vegetables = ('tomato', 'potato', 'cabbage','onion', 'carrot')\n",
    "\n",
    "fruits.update(vegetables)"
   ]
  },
  {
   "cell_type": "code",
   "execution_count": 28,
   "id": "f26e0107",
   "metadata": {},
   "outputs": [
    {
     "data": {
      "text/plain": [
       "{'banana',\n",
       " 'cabbage',\n",
       " 'carrot',\n",
       " 'lemon',\n",
       " 'mango',\n",
       " 'onion',\n",
       " 'orange',\n",
       " 'potato',\n",
       " 'tomato'}"
      ]
     },
     "execution_count": 28,
     "metadata": {},
     "output_type": "execute_result"
    }
   ],
   "source": [
    "fruits"
   ]
  },
  {
   "cell_type": "code",
   "execution_count": 29,
   "id": "e68eb37f",
   "metadata": {},
   "outputs": [],
   "source": [
    "st = {'item1', 'item2', 'item3', 'item4'}\n",
    "st.remove('item2')"
   ]
  },
  {
   "cell_type": "code",
   "execution_count": 30,
   "id": "b87f775b",
   "metadata": {},
   "outputs": [
    {
     "data": {
      "text/plain": [
       "{'item1', 'item3', 'item4'}"
      ]
     },
     "execution_count": 30,
     "metadata": {},
     "output_type": "execute_result"
    }
   ],
   "source": [
    "st"
   ]
  },
  {
   "cell_type": "code",
   "execution_count": 31,
   "id": "b313265e",
   "metadata": {},
   "outputs": [
    {
     "ename": "TypeError",
     "evalue": "set.remove() takes exactly one argument (2 given)",
     "output_type": "error",
     "traceback": [
      "\u001b[1;31m---------------------------------------------------------------------------\u001b[0m",
      "\u001b[1;31mTypeError\u001b[0m                                 Traceback (most recent call last)",
      "Cell \u001b[1;32mIn[31], line 1\u001b[0m\n\u001b[1;32m----> 1\u001b[0m st\u001b[38;5;241m.\u001b[39mremove(\u001b[38;5;124m'\u001b[39m\u001b[38;5;124mitem1\u001b[39m\u001b[38;5;124m'\u001b[39m, \u001b[38;5;124m\"\u001b[39m\u001b[38;5;124mitem3\u001b[39m\u001b[38;5;124m\"\u001b[39m )\n",
      "\u001b[1;31mTypeError\u001b[0m: set.remove() takes exactly one argument (2 given)"
     ]
    }
   ],
   "source": [
    "st.remove('item1', \"item3\" )"
   ]
  },
  {
   "cell_type": "code",
   "execution_count": 32,
   "id": "91c4573f",
   "metadata": {},
   "outputs": [],
   "source": [
    "st = {'item1', 'item2', 'item3', 'item4'}\n",
    "del st"
   ]
  },
  {
   "cell_type": "code",
   "execution_count": 33,
   "id": "fb48835f",
   "metadata": {},
   "outputs": [
    {
     "ename": "NameError",
     "evalue": "name 'st' is not defined",
     "output_type": "error",
     "traceback": [
      "\u001b[1;31m---------------------------------------------------------------------------\u001b[0m",
      "\u001b[1;31mNameError\u001b[0m                                 Traceback (most recent call last)",
      "Cell \u001b[1;32mIn[33], line 1\u001b[0m\n\u001b[1;32m----> 1\u001b[0m st\n",
      "\u001b[1;31mNameError\u001b[0m: name 'st' is not defined"
     ]
    }
   ],
   "source": [
    "st"
   ]
  },
  {
   "cell_type": "code",
   "execution_count": 34,
   "id": "0b9e41ad",
   "metadata": {},
   "outputs": [],
   "source": [
    "lst = ['item1', 'item2', 'item3', 'item4', 'item1']"
   ]
  },
  {
   "cell_type": "code",
   "execution_count": 35,
   "id": "ee67bcb7",
   "metadata": {},
   "outputs": [],
   "source": [
    "st = set(lst) "
   ]
  },
  {
   "cell_type": "code",
   "execution_count": 36,
   "id": "b0bfc4e4",
   "metadata": {},
   "outputs": [
    {
     "data": {
      "text/plain": [
       "{'item1', 'item2', 'item3', 'item4'}"
      ]
     },
     "execution_count": 36,
     "metadata": {},
     "output_type": "execute_result"
    }
   ],
   "source": [
    "st"
   ]
  },
  {
   "cell_type": "code",
   "execution_count": 37,
   "id": "116f4b4e",
   "metadata": {},
   "outputs": [],
   "source": [
    "set1 = {'item1', 'item2', 'item3', 'item4'}\n",
    "set2 = {'item5', 'item6', 'item7', 'item8'}\n",
    "\n",
    "st3 = set1.union(set2)"
   ]
  },
  {
   "cell_type": "code",
   "execution_count": 38,
   "id": "59663e91",
   "metadata": {},
   "outputs": [
    {
     "data": {
      "text/plain": [
       "{'item1', 'item2', 'item3', 'item4', 'item5', 'item6', 'item7', 'item8'}"
      ]
     },
     "execution_count": 38,
     "metadata": {},
     "output_type": "execute_result"
    }
   ],
   "source": [
    "st3"
   ]
  },
  {
   "cell_type": "code",
   "execution_count": 39,
   "id": "0dfc1de3",
   "metadata": {},
   "outputs": [
    {
     "name": "stdout",
     "output_type": "stream",
     "text": [
      "{'banana', 'carrot', 'lemon', 'potato', 'onion', 'orange', 'tomato', 'cabbage', 'mango'}\n"
     ]
    }
   ],
   "source": [
    "fruits = {'banana', 'orange', 'mango', 'lemon'}\n",
    "vegetables = {'tomato', 'potato', 'cabbage','onion', 'carrot'}\n",
    "print(fruits.union(vegetables))"
   ]
  },
  {
   "cell_type": "code",
   "execution_count": 40,
   "id": "8b49e330",
   "metadata": {},
   "outputs": [
    {
     "data": {
      "text/plain": [
       "{'item2', 'item3'}"
      ]
     },
     "execution_count": 40,
     "metadata": {},
     "output_type": "execute_result"
    }
   ],
   "source": [
    "st1 = {'item1', 'item2', 'item3', 'item4'}\n",
    "st2 = {'item3', 'item2'}\n",
    "\n",
    "st1.intersection(st2)"
   ]
  },
  {
   "cell_type": "code",
   "execution_count": 41,
   "id": "0ecf2b58",
   "metadata": {},
   "outputs": [
    {
     "data": {
      "text/plain": [
       "{'item2', 'item3'}"
      ]
     },
     "execution_count": 41,
     "metadata": {},
     "output_type": "execute_result"
    }
   ],
   "source": [
    "st2.intersection(st1)"
   ]
  },
  {
   "cell_type": "code",
   "execution_count": 42,
   "id": "4375bcd2",
   "metadata": {},
   "outputs": [
    {
     "data": {
      "text/plain": [
       "True"
      ]
     },
     "execution_count": 42,
     "metadata": {},
     "output_type": "execute_result"
    }
   ],
   "source": [
    "st1 = {'item1', 'item2', 'item3', 'item4'}\n",
    "st2 = {'item2', 'item3'}\n",
    "\n",
    "st2.issubset(st1) # True\n",
    "st1.issuperset(st2)"
   ]
  },
  {
   "cell_type": "code",
   "execution_count": 43,
   "id": "7affc5f9",
   "metadata": {},
   "outputs": [
    {
     "data": {
      "text/plain": [
       "True"
      ]
     },
     "execution_count": 43,
     "metadata": {},
     "output_type": "execute_result"
    }
   ],
   "source": [
    "st1.issuperset(st2)"
   ]
  },
  {
   "cell_type": "code",
   "execution_count": 44,
   "id": "b1738e70",
   "metadata": {},
   "outputs": [
    {
     "data": {
      "text/plain": [
       "True"
      ]
     },
     "execution_count": 44,
     "metadata": {},
     "output_type": "execute_result"
    }
   ],
   "source": [
    "st2.issubset(st1)"
   ]
  },
  {
   "cell_type": "code",
   "execution_count": 45,
   "id": "09eca625",
   "metadata": {},
   "outputs": [
    {
     "data": {
      "text/plain": [
       "{'item1', 'item4'}"
      ]
     },
     "execution_count": 45,
     "metadata": {},
     "output_type": "execute_result"
    }
   ],
   "source": [
    "st1 = {'item1', 'item2', 'item3', 'item4'}\n",
    "st2 = {'item2', 'item3'}\n",
    "\n",
    "\n",
    "st2.difference(st1) # set()\n",
    "st1.difference(st2) "
   ]
  },
  {
   "cell_type": "code",
   "execution_count": 46,
   "id": "b033af1c",
   "metadata": {},
   "outputs": [
    {
     "data": {
      "text/plain": [
       "{'item1', 'item4'}"
      ]
     },
     "execution_count": 46,
     "metadata": {},
     "output_type": "execute_result"
    }
   ],
   "source": [
    "st1 = {'item1', 'item2', 'item3', 'item4'}\n",
    "st2 = {'item2', 'item3'}\n",
    "\n",
    "\n",
    "# it means (A\\B)∪(B\\A)\n",
    "st2.symmetric_difference(st1)"
   ]
  },
  {
   "cell_type": "code",
   "execution_count": 47,
   "id": "928a893c",
   "metadata": {},
   "outputs": [
    {
     "data": {
      "text/plain": [
       "False"
      ]
     },
     "execution_count": 47,
     "metadata": {},
     "output_type": "execute_result"
    }
   ],
   "source": [
    "st1 = {'item1', 'item2', 'item3', 'item4'}\n",
    "st2 = {'item2', 'item3'}\n",
    "\n",
    "\n",
    "st2.isdisjoint(st1)"
   ]
  },
  {
   "cell_type": "code",
   "execution_count": 48,
   "id": "81d66637",
   "metadata": {},
   "outputs": [
    {
     "data": {
      "text/plain": [
       "False"
      ]
     },
     "execution_count": 48,
     "metadata": {},
     "output_type": "execute_result"
    }
   ],
   "source": [
    "st1.isdisjoint(st2)"
   ]
  },
  {
   "cell_type": "code",
   "execution_count": 49,
   "id": "e5d05496",
   "metadata": {},
   "outputs": [],
   "source": [
    "set1 = {\"py\", 45, 5.80, True}"
   ]
  },
  {
   "cell_type": "code",
   "execution_count": 50,
   "id": "0306805b",
   "metadata": {},
   "outputs": [
    {
     "ename": "TypeError",
     "evalue": "'set' object is not subscriptable",
     "output_type": "error",
     "traceback": [
      "\u001b[1;31m---------------------------------------------------------------------------\u001b[0m",
      "\u001b[1;31mTypeError\u001b[0m                                 Traceback (most recent call last)",
      "Cell \u001b[1;32mIn[50], line 1\u001b[0m\n\u001b[1;32m----> 1\u001b[0m set1[\u001b[38;5;241m2\u001b[39m]\n",
      "\u001b[1;31mTypeError\u001b[0m: 'set' object is not subscriptable"
     ]
    }
   ],
   "source": [
    "set1[2]"
   ]
  },
  {
   "cell_type": "code",
   "execution_count": 51,
   "id": "33a29f4c",
   "metadata": {},
   "outputs": [
    {
     "ename": "TypeError",
     "evalue": "'set' object is not subscriptable",
     "output_type": "error",
     "traceback": [
      "\u001b[1;31m---------------------------------------------------------------------------\u001b[0m",
      "\u001b[1;31mTypeError\u001b[0m                                 Traceback (most recent call last)",
      "Cell \u001b[1;32mIn[51], line 1\u001b[0m\n\u001b[1;32m----> 1\u001b[0m set1[:]\n",
      "\u001b[1;31mTypeError\u001b[0m: 'set' object is not subscriptable"
     ]
    }
   ],
   "source": [
    "set1[:]"
   ]
  },
  {
   "cell_type": "code",
   "execution_count": 52,
   "id": "1144a55c",
   "metadata": {},
   "outputs": [
    {
     "ename": "TypeError",
     "evalue": "'set' object does not support item assignment",
     "output_type": "error",
     "traceback": [
      "\u001b[1;31m---------------------------------------------------------------------------\u001b[0m",
      "\u001b[1;31mTypeError\u001b[0m                                 Traceback (most recent call last)",
      "Cell \u001b[1;32mIn[52], line 1\u001b[0m\n\u001b[1;32m----> 1\u001b[0m set1[\u001b[38;5;241m1\u001b[39m] \u001b[38;5;241m=\u001b[39m \u001b[38;5;241m55\u001b[39m\n",
      "\u001b[1;31mTypeError\u001b[0m: 'set' object does not support item assignment"
     ]
    }
   ],
   "source": [
    "set1[1] = 55"
   ]
  },
  {
   "cell_type": "code",
   "execution_count": null,
   "id": "1bc9cd8a",
   "metadata": {},
   "outputs": [],
   "source": [
    "### Exercises: Level 1\n",
    "\n",
    "1. Find the length of the set it_companies\n",
    "2. Add 'Twitter' to it_companies\n",
    "3. Insert multiple IT companies at once to the set it_companies\n",
    "4. Remove one of the companies from the set it_companies\n",
    "5. What is the difference between remove and discard\n",
    "\n",
    "### Exercises: Level 2\n",
    "\n",
    "1. Join A and B\n",
    "1. Find A intersection B\n",
    "1. Is A subset of B\n",
    "1. Are A and B disjoint sets\n",
    "1. Join A with B and B with A\n",
    "1. What is the symmetric difference between A and B\n",
    "1. Delete the sets completely\n",
    "\n",
    "### Exercises: Level 3\n",
    "\n",
    "1. Convert the ages to a set and compare the length of the list and the set, which one is bigger?\n",
    "1. Explain the difference between the following data types: string, list, tuple and set\n",
    "2. _I am a teacher and I love to inspire and teach people._ How many unique words have been used in the sentence? Use the split methods and set to get the unique words."
   ]
  }
 ],
 "metadata": {
  "kernelspec": {
   "display_name": "Python 3 (ipykernel)",
   "language": "python",
   "name": "python3"
  },
  "language_info": {
   "codemirror_mode": {
    "name": "ipython",
    "version": 3
   },
   "file_extension": ".py",
   "mimetype": "text/x-python",
   "name": "python",
   "nbconvert_exporter": "python",
   "pygments_lexer": "ipython3",
   "version": "3.11.5"
  }
 },
 "nbformat": 4,
 "nbformat_minor": 5
}
