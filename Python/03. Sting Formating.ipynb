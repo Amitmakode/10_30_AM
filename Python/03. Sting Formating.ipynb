{
 "cells": [
  {
   "cell_type": "code",
   "execution_count": 24,
   "id": "0eba48c5-4f11-46bf-8d15-b0c9abbd83e7",
   "metadata": {},
   "outputs": [],
   "source": [
    "a = \"city\""
   ]
  },
  {
   "cell_type": "code",
   "execution_count": 1,
   "id": "d99931ed-7ec1-48ba-851f-3dd67d9baa4f",
   "metadata": {},
   "outputs": [],
   "source": [
    "# 1.Basic Syntax: Use % followed by a tuple of values or a single value (if only one placeholder) to substitute into the string.\n",
    "name = \"Alice\"\n",
    "lastname = \"david\"\n",
    "age = 30"
   ]
  },
  {
   "cell_type": "code",
   "execution_count": 3,
   "id": "6a9b5556-f28f-4ecf-9805-1ac2eef9ec38",
   "metadata": {},
   "outputs": [
    {
     "name": "stdout",
     "output_type": "stream",
     "text": [
      "Alice david\n"
     ]
    }
   ],
   "source": [
    "print(name, lastname)"
   ]
  },
  {
   "cell_type": "code",
   "execution_count": 7,
   "id": "0497d60a-d546-40c4-9d37-593356015e87",
   "metadata": {},
   "outputs": [],
   "source": [
    "formatted_string = \"My name is %s %s and I am %d years old.\" % (lastname, name, age)"
   ]
  },
  {
   "cell_type": "code",
   "execution_count": null,
   "id": "7702d989-a779-4689-a261-57f6fda2052d",
   "metadata": {},
   "outputs": [],
   "source": [
    "#Formatting Options:\n",
    "# %s for strings\n",
    "# %d for integers\n",
    "# %.f for floating-point numbers"
   ]
  },
  {
   "cell_type": "code",
   "execution_count": 5,
   "id": "ea48d48e-50b4-497b-95a7-a6b0299fcae9",
   "metadata": {},
   "outputs": [
    {
     "data": {
      "text/plain": [
       "'My name is david Alice and I am 30 years old.'"
      ]
     },
     "execution_count": 5,
     "metadata": {},
     "output_type": "execute_result"
    }
   ],
   "source": [
    "formatted_string"
   ]
  },
  {
   "cell_type": "code",
   "execution_count": 13,
   "id": "a62f7b66-3843-4e5c-8805-43aeddfc2fcd",
   "metadata": {},
   "outputs": [
    {
     "name": "stdout",
     "output_type": "stream",
     "text": [
      "The value of pi pi is approximately 3.14\n"
     ]
    }
   ],
   "source": [
    "number = 3.14159\n",
    "name = \"pi\"\n",
    "formatted_number = \"The value of %s is approximately %.2f\" % (name, number)\n",
    "print(formatted_number)"
   ]
  },
  {
   "cell_type": "code",
   "execution_count": null,
   "id": "565128ad-0c21-409e-85bd-3316643a95f8",
   "metadata": {},
   "outputs": [],
   "source": []
  },
  {
   "cell_type": "code",
   "execution_count": 15,
   "id": "fcf40458-3456-4763-8d70-57c310940134",
   "metadata": {},
   "outputs": [
    {
     "name": "stdout",
     "output_type": "stream",
     "text": [
      "My name is Bob and I am 25 years old.\n"
     ]
    }
   ],
   "source": [
    "#Basic Syntax: Use {} placeholders inside the string and call .format() with arguments.\n",
    "\t\t \n",
    "name = \"Bob\"\n",
    "age = 25\n",
    "\n",
    "formatted_string = \"My name is {} and I am {} years old.\".format(name, age)\n",
    "print(formatted_string)   "
   ]
  },
  {
   "cell_type": "code",
   "execution_count": 16,
   "id": "e0ee8abb-b02c-4925-920e-2c4e8a527020",
   "metadata": {},
   "outputs": [
    {
     "data": {
      "text/plain": [
       "'First: B, Second: A'"
      ]
     },
     "execution_count": 16,
     "metadata": {},
     "output_type": "execute_result"
    }
   ],
   "source": [
    "#Positional arguments:\n",
    "\n",
    "formatted_string = \"First: {1}, Second: {0}\".format(\"A\", \"B\")\n",
    "formatted_string"
   ]
  },
  {
   "cell_type": "code",
   "execution_count": 18,
   "id": "fa6f82aa-6fcd-42ae-bbd7-a027eb9ddc01",
   "metadata": {},
   "outputs": [
    {
     "name": "stdout",
     "output_type": "stream",
     "text": [
      "My name is Bob and I am 25 years old.\n"
     ]
    }
   ],
   "source": [
    "name = \"Bob\"\n",
    "age = 25\n",
    "\n",
    "formatted_string = \"My name is {1} and I am {0} years old.\".format(age, name)\n",
    "print(formatted_string)   "
   ]
  },
  {
   "cell_type": "code",
   "execution_count": null,
   "id": "220a0322-7922-41e6-8424-535ccfd91fd3",
   "metadata": {},
   "outputs": [],
   "source": []
  },
  {
   "cell_type": "code",
   "execution_count": 19,
   "id": "a03c1e7f-c8ec-4411-a5af-6435a222aa8b",
   "metadata": {},
   "outputs": [],
   "source": [
    "# f-string\n",
    "\n",
    "name = \"Alice\"\n",
    "age = 30\n",
    "occupation = \"engineer\""
   ]
  },
  {
   "cell_type": "code",
   "execution_count": 20,
   "id": "c78dcc3b-c968-409f-8c82-31940311c421",
   "metadata": {},
   "outputs": [
    {
     "name": "stdout",
     "output_type": "stream",
     "text": [
      "My name is Alice, I am 30 years old, and I work as an engineer.\n"
     ]
    }
   ],
   "source": [
    "sentence = f\"My name is {name}, I am {age} years old, and I work as an {occupation}.\"\n",
    "print(sentence)"
   ]
  },
  {
   "cell_type": "code",
   "execution_count": 23,
   "id": "98e92c67-66f7-4919-adb5-ad5cd205b69f",
   "metadata": {},
   "outputs": [
    {
     "data": {
      "text/plain": [
       "('my name is', 'Alice', 'i am ', 30, 'years old, and i work as an', 'engineer')"
      ]
     },
     "execution_count": 23,
     "metadata": {},
     "output_type": "execute_result"
    }
   ],
   "source": [
    "\"my name is\", name, \"i am \", age , \"years old, and i work as an\", occupation"
   ]
  },
  {
   "cell_type": "code",
   "execution_count": 25,
   "id": "8b44a356-6127-44b7-bb14-f8ab7a55d0b2",
   "metadata": {},
   "outputs": [
    {
     "data": {
      "text/plain": [
       "'abc city'"
      ]
     },
     "execution_count": 25,
     "metadata": {},
     "output_type": "execute_result"
    }
   ],
   "source": [
    "f\"abc {a}\""
   ]
  },
  {
   "cell_type": "code",
   "execution_count": 28,
   "id": "ec37f6e7-70b1-4eb1-aa15-bea0db271640",
   "metadata": {},
   "outputs": [
    {
     "name": "stdout",
     "output_type": "stream",
     "text": [
      "my sub is math, science and i got scores 68, 75.\n"
     ]
    }
   ],
   "source": [
    "sub = \"math, science\"\n",
    "score = \"68, 75\"\n",
    "\n",
    "print(f\"my sub is {sub} and i got scores {score}.\")"
   ]
  },
  {
   "cell_type": "code",
   "execution_count": 29,
   "id": "adcdf507-a111-4666-9200-8d2afac0f4ee",
   "metadata": {},
   "outputs": [],
   "source": [
    "sub = \"math\" \n",
    "sub2 = \"science\"\n",
    "score = 68\n",
    "score2 =  75"
   ]
  },
  {
   "cell_type": "code",
   "execution_count": 31,
   "id": "cae068c0-9a15-4145-ae1d-f3026b72156c",
   "metadata": {},
   "outputs": [
    {
     "name": "stdout",
     "output_type": "stream",
     "text": [
      "my first sub and score is math, 68, and second sub and score is science,75.\n"
     ]
    }
   ],
   "source": [
    "print(f\"my first sub and score is {sub}, {score}, and second sub and score is {sub2},{score2}.\")"
   ]
  },
  {
   "cell_type": "code",
   "execution_count": 32,
   "id": "71e3c4a1-2d85-4c35-880c-e63b1b82f039",
   "metadata": {},
   "outputs": [
    {
     "name": "stdout",
     "output_type": "stream",
     "text": [
      "my first sub and score is ('math', 68) and second sub and score is science,75.\n"
     ]
    }
   ],
   "source": [
    "print(f\"my first sub and score is {sub, score} and second sub and score is {sub2},{score2}.\")"
   ]
  },
  {
   "cell_type": "markdown",
   "id": "27857cb4-3b4e-4b13-8e0c-adf2f6ee9493",
   "metadata": {},
   "source": [
    "### Index"
   ]
  },
  {
   "cell_type": "code",
   "execution_count": 33,
   "id": "6caaa7bd-a8d8-4165-982a-362fde7d6670",
   "metadata": {},
   "outputs": [],
   "source": [
    "var = \"python \""
   ]
  },
  {
   "cell_type": "code",
   "execution_count": 34,
   "id": "5f78206a-f58c-48f5-95e6-84be53291e26",
   "metadata": {},
   "outputs": [
    {
     "data": {
      "text/plain": [
       "'h'"
      ]
     },
     "execution_count": 34,
     "metadata": {},
     "output_type": "execute_result"
    }
   ],
   "source": [
    "var[3]"
   ]
  },
  {
   "cell_type": "code",
   "execution_count": 35,
   "id": "43d45f2d-ea32-468b-b1d0-bef65c585468",
   "metadata": {},
   "outputs": [
    {
     "data": {
      "text/plain": [
       "'n'"
      ]
     },
     "execution_count": 35,
     "metadata": {},
     "output_type": "execute_result"
    }
   ],
   "source": [
    "var[-2]"
   ]
  },
  {
   "cell_type": "code",
   "execution_count": 36,
   "id": "e67a37f0-a259-4c92-b3b8-a67abac217f4",
   "metadata": {},
   "outputs": [],
   "source": [
    "lis = [2,4,6,8,10]"
   ]
  },
  {
   "cell_type": "code",
   "execution_count": 37,
   "id": "87ca8f9c-7111-4adb-b18f-fa546d787af6",
   "metadata": {},
   "outputs": [
    {
     "data": {
      "text/plain": [
       "2"
      ]
     },
     "execution_count": 37,
     "metadata": {},
     "output_type": "execute_result"
    }
   ],
   "source": [
    "lis[0]"
   ]
  },
  {
   "cell_type": "code",
   "execution_count": 38,
   "id": "61cee3e7-54b1-4490-95c4-71f16c75a821",
   "metadata": {},
   "outputs": [
    {
     "data": {
      "text/plain": [
       "10"
      ]
     },
     "execution_count": 38,
     "metadata": {},
     "output_type": "execute_result"
    }
   ],
   "source": [
    "lis[4]"
   ]
  },
  {
   "cell_type": "code",
   "execution_count": 39,
   "id": "787a4710-9d1c-4d7b-af7d-8ec30be5e3bc",
   "metadata": {},
   "outputs": [
    {
     "data": {
      "text/plain": [
       "8"
      ]
     },
     "execution_count": 39,
     "metadata": {},
     "output_type": "execute_result"
    }
   ],
   "source": [
    "lis[-2]"
   ]
  },
  {
   "cell_type": "code",
   "execution_count": 40,
   "id": "f2073b92-9804-49ba-913b-baf88be9c68c",
   "metadata": {},
   "outputs": [],
   "source": [
    "tup = (\"red\", \"blue\", \"black\")"
   ]
  },
  {
   "cell_type": "code",
   "execution_count": 41,
   "id": "61e3f8ec-3b59-4d39-973c-97dd8b798c7d",
   "metadata": {},
   "outputs": [
    {
     "data": {
      "text/plain": [
       "'black'"
      ]
     },
     "execution_count": 41,
     "metadata": {},
     "output_type": "execute_result"
    }
   ],
   "source": [
    "tup[2]"
   ]
  },
  {
   "cell_type": "code",
   "execution_count": 42,
   "id": "2e2d3ba3-fcf9-4437-bffd-a7b170ac03e1",
   "metadata": {},
   "outputs": [
    {
     "data": {
      "text/plain": [
       "'black'"
      ]
     },
     "execution_count": 42,
     "metadata": {},
     "output_type": "execute_result"
    }
   ],
   "source": [
    "tup[-1]"
   ]
  },
  {
   "cell_type": "code",
   "execution_count": 43,
   "id": "0811f6e9-ee98-4764-b446-6e9894ef351c",
   "metadata": {},
   "outputs": [],
   "source": [
    "s = {2,3,4,5,6,2}"
   ]
  },
  {
   "cell_type": "code",
   "execution_count": 44,
   "id": "bbb3c908-a2dd-4d67-b116-ef136e70b2cf",
   "metadata": {},
   "outputs": [
    {
     "ename": "TypeError",
     "evalue": "'set' object is not subscriptable",
     "output_type": "error",
     "traceback": [
      "\u001b[1;31m---------------------------------------------------------------------------\u001b[0m",
      "\u001b[1;31mTypeError\u001b[0m                                 Traceback (most recent call last)",
      "Cell \u001b[1;32mIn[44], line 1\u001b[0m\n\u001b[1;32m----> 1\u001b[0m s[\u001b[38;5;241m3\u001b[39m]\n",
      "\u001b[1;31mTypeError\u001b[0m: 'set' object is not subscriptable"
     ]
    }
   ],
   "source": [
    "s[3]"
   ]
  },
  {
   "cell_type": "code",
   "execution_count": 46,
   "id": "ffdc18b8-bff7-4be0-9696-812cafd24ef5",
   "metadata": {},
   "outputs": [],
   "source": [
    "d = {\"jan\" : 31, \"feb\":28, \"march\":31}"
   ]
  },
  {
   "cell_type": "code",
   "execution_count": 47,
   "id": "6e8bd121-8811-4b04-b6d7-b6a402e11ae1",
   "metadata": {},
   "outputs": [
    {
     "data": {
      "text/plain": [
       "28"
      ]
     },
     "execution_count": 47,
     "metadata": {},
     "output_type": "execute_result"
    }
   ],
   "source": [
    "d[\"feb\"]"
   ]
  },
  {
   "cell_type": "markdown",
   "id": "749ff382-8a95-4b78-b149-b711b9bd631f",
   "metadata": {},
   "source": [
    "### Slicing"
   ]
  },
  {
   "cell_type": "code",
   "execution_count": 52,
   "id": "df9daeae-7b93-47e7-a6e8-7a6385cd6b13",
   "metadata": {},
   "outputs": [],
   "source": [
    "sv = \"data analytics professional\""
   ]
  },
  {
   "cell_type": "code",
   "execution_count": 53,
   "id": "e74e5f2a-8db8-4ebd-bc5b-293481c24792",
   "metadata": {},
   "outputs": [
    {
     "data": {
      "text/plain": [
       "'ta ana'"
      ]
     },
     "execution_count": 53,
     "metadata": {},
     "output_type": "execute_result"
    }
   ],
   "source": [
    "sv[2:8]"
   ]
  },
  {
   "cell_type": "code",
   "execution_count": 54,
   "id": "6fd5c2bf-d2af-4ad4-b055-ec63579c7301",
   "metadata": {},
   "outputs": [
    {
     "data": {
      "text/plain": [
       "'data ana'"
      ]
     },
     "execution_count": 54,
     "metadata": {},
     "output_type": "execute_result"
    }
   ],
   "source": [
    "sv[:8]"
   ]
  },
  {
   "cell_type": "code",
   "execution_count": 55,
   "id": "166c9362-c07c-47d1-b8fc-278f81eea6ec",
   "metadata": {},
   "outputs": [
    {
     "data": {
      "text/plain": [
       "'a analytics professional'"
      ]
     },
     "execution_count": 55,
     "metadata": {},
     "output_type": "execute_result"
    }
   ],
   "source": [
    "sv[3:]"
   ]
  },
  {
   "cell_type": "code",
   "execution_count": 57,
   "id": "666b0501-ea47-4a6f-8df7-83639f540675",
   "metadata": {},
   "outputs": [
    {
     "data": {
      "text/plain": [
       "'t nltc rf'"
      ]
     },
     "execution_count": 57,
     "metadata": {},
     "output_type": "execute_result"
    }
   ],
   "source": [
    "sv[2:20:2]"
   ]
  },
  {
   "cell_type": "code",
   "execution_count": 60,
   "id": "7ac1e529-96da-4a9f-a05c-1d341b2c4312",
   "metadata": {},
   "outputs": [
    {
     "data": {
      "text/plain": [
       "'lanoisseforp scitylana atad'"
      ]
     },
     "execution_count": 60,
     "metadata": {},
     "output_type": "execute_result"
    }
   ],
   "source": [
    "sv[::-1]"
   ]
  },
  {
   "cell_type": "code",
   "execution_count": 63,
   "id": "f9028d69-a6a8-46b1-8d43-75bafaebe1f5",
   "metadata": {},
   "outputs": [
    {
     "data": {
      "text/plain": [
       "[6, 8]"
      ]
     },
     "execution_count": 63,
     "metadata": {},
     "output_type": "execute_result"
    }
   ],
   "source": [
    "lis[2:4]"
   ]
  },
  {
   "cell_type": "code",
   "execution_count": 64,
   "id": "dd70110a-68c8-4b8a-adb1-f93f61007712",
   "metadata": {},
   "outputs": [
    {
     "data": {
      "text/plain": [
       "[6, 8, 10]"
      ]
     },
     "execution_count": 64,
     "metadata": {},
     "output_type": "execute_result"
    }
   ],
   "source": [
    "lis[2:]"
   ]
  },
  {
   "cell_type": "code",
   "execution_count": 66,
   "id": "ecea0631-3e91-4e92-bf16-4c980854ef46",
   "metadata": {},
   "outputs": [
    {
     "ename": "TypeError",
     "evalue": "'set' object is not subscriptable",
     "output_type": "error",
     "traceback": [
      "\u001b[1;31m---------------------------------------------------------------------------\u001b[0m",
      "\u001b[1;31mTypeError\u001b[0m                                 Traceback (most recent call last)",
      "Cell \u001b[1;32mIn[66], line 1\u001b[0m\n\u001b[1;32m----> 1\u001b[0m s[\u001b[38;5;241m2\u001b[39m:\u001b[38;5;241m8\u001b[39m]\n",
      "\u001b[1;31mTypeError\u001b[0m: 'set' object is not subscriptable"
     ]
    }
   ],
   "source": [
    "s[2:8]"
   ]
  },
  {
   "cell_type": "code",
   "execution_count": 69,
   "id": "e8a18e3b-e321-42ce-aeac-361eba3b67a8",
   "metadata": {},
   "outputs": [
    {
     "data": {
      "text/plain": [
       "('red', 'blue')"
      ]
     },
     "execution_count": 69,
     "metadata": {},
     "output_type": "execute_result"
    }
   ],
   "source": [
    "tup[:2]"
   ]
  },
  {
   "cell_type": "code",
   "execution_count": 70,
   "id": "65292625-17ba-40ca-bdbc-3eed7cd0bd36",
   "metadata": {},
   "outputs": [
    {
     "data": {
      "text/plain": [
       "('red', 'blue', 'black')"
      ]
     },
     "execution_count": 70,
     "metadata": {},
     "output_type": "execute_result"
    }
   ],
   "source": [
    "tup"
   ]
  },
  {
   "cell_type": "code",
   "execution_count": 71,
   "id": "79e9ed27-129f-45ce-a517-14ad313f9b3d",
   "metadata": {},
   "outputs": [
    {
     "data": {
      "text/plain": [
       "('black', 'blue', 'red')"
      ]
     },
     "execution_count": 71,
     "metadata": {},
     "output_type": "execute_result"
    }
   ],
   "source": [
    "tup[::-1]"
   ]
  },
  {
   "cell_type": "code",
   "execution_count": 73,
   "id": "9deab9ff-6420-433c-af61-58a2d4eed1f7",
   "metadata": {},
   "outputs": [
    {
     "ename": "TypeError",
     "evalue": "unhashable type: 'slice'",
     "output_type": "error",
     "traceback": [
      "\u001b[1;31m---------------------------------------------------------------------------\u001b[0m",
      "\u001b[1;31mTypeError\u001b[0m                                 Traceback (most recent call last)",
      "Cell \u001b[1;32mIn[73], line 1\u001b[0m\n\u001b[1;32m----> 1\u001b[0m d[\u001b[38;5;241m2\u001b[39m:]\n",
      "\u001b[1;31mTypeError\u001b[0m: unhashable type: 'slice'"
     ]
    }
   ],
   "source": [
    "d[2:]"
   ]
  },
  {
   "cell_type": "markdown",
   "id": "c2ba93fb-1483-4957-9100-ca32d0b7afa2",
   "metadata": {},
   "source": [
    "### Concate"
   ]
  },
  {
   "cell_type": "code",
   "execution_count": 75,
   "id": "6b7f5df6-37d7-41a7-acd3-4097ffb5cbfd",
   "metadata": {},
   "outputs": [
    {
     "data": {
      "text/plain": [
       "'Alice'"
      ]
     },
     "execution_count": 75,
     "metadata": {},
     "output_type": "execute_result"
    }
   ],
   "source": [
    "name"
   ]
  },
  {
   "cell_type": "code",
   "execution_count": 77,
   "id": "75bcfd97-91aa-40d4-8932-6e3134df151b",
   "metadata": {},
   "outputs": [
    {
     "data": {
      "text/plain": [
       "'python '"
      ]
     },
     "execution_count": 77,
     "metadata": {},
     "output_type": "execute_result"
    }
   ],
   "source": [
    "var"
   ]
  },
  {
   "cell_type": "code",
   "execution_count": 79,
   "id": "34c0301b-807a-464b-92a9-11b06922f01c",
   "metadata": {},
   "outputs": [
    {
     "data": {
      "text/plain": [
       "'Alice python '"
      ]
     },
     "execution_count": 79,
     "metadata": {},
     "output_type": "execute_result"
    }
   ],
   "source": [
    "name +\" \"+ var"
   ]
  },
  {
   "cell_type": "code",
   "execution_count": 80,
   "id": "2c624d77-ba7d-4f64-9bfd-ac3a662f97a6",
   "metadata": {},
   "outputs": [
    {
     "data": {
      "text/plain": [
       "[2, 4, 6, 8, 10, 2, 4, 6, 8, 10]"
      ]
     },
     "execution_count": 80,
     "metadata": {},
     "output_type": "execute_result"
    }
   ],
   "source": [
    "lis + lis"
   ]
  },
  {
   "cell_type": "code",
   "execution_count": 81,
   "id": "057879ba-39e6-4200-b3c8-f2953648afaf",
   "metadata": {},
   "outputs": [
    {
     "ename": "TypeError",
     "evalue": "can only concatenate list (not \"tuple\") to list",
     "output_type": "error",
     "traceback": [
      "\u001b[1;31m---------------------------------------------------------------------------\u001b[0m",
      "\u001b[1;31mTypeError\u001b[0m                                 Traceback (most recent call last)",
      "Cell \u001b[1;32mIn[81], line 1\u001b[0m\n\u001b[1;32m----> 1\u001b[0m lis \u001b[38;5;241m+\u001b[39m tup\n",
      "\u001b[1;31mTypeError\u001b[0m: can only concatenate list (not \"tuple\") to list"
     ]
    }
   ],
   "source": [
    "lis + tup"
   ]
  },
  {
   "cell_type": "code",
   "execution_count": 82,
   "id": "b9a03ef0-673f-4f7b-abf1-b2d530fe28aa",
   "metadata": {},
   "outputs": [
    {
     "data": {
      "text/plain": [
       "('red', 'blue', 'black', 'red', 'blue', 'black')"
      ]
     },
     "execution_count": 82,
     "metadata": {},
     "output_type": "execute_result"
    }
   ],
   "source": [
    "tup + tup"
   ]
  },
  {
   "cell_type": "code",
   "execution_count": 84,
   "id": "e635550b-7a73-40cf-83b0-26adc1040ef5",
   "metadata": {},
   "outputs": [
    {
     "ename": "TypeError",
     "evalue": "unsupported operand type(s) for +: 'set' and 'set'",
     "output_type": "error",
     "traceback": [
      "\u001b[1;31m---------------------------------------------------------------------------\u001b[0m",
      "\u001b[1;31mTypeError\u001b[0m                                 Traceback (most recent call last)",
      "Cell \u001b[1;32mIn[84], line 1\u001b[0m\n\u001b[1;32m----> 1\u001b[0m s \u001b[38;5;241m+\u001b[39m s\n",
      "\u001b[1;31mTypeError\u001b[0m: unsupported operand type(s) for +: 'set' and 'set'"
     ]
    }
   ],
   "source": [
    "s + s"
   ]
  },
  {
   "cell_type": "code",
   "execution_count": 85,
   "id": "06f3c893-d054-4a78-8836-2cfabe0ced5e",
   "metadata": {},
   "outputs": [
    {
     "ename": "TypeError",
     "evalue": "unsupported operand type(s) for +: 'dict' and 'dict'",
     "output_type": "error",
     "traceback": [
      "\u001b[1;31m---------------------------------------------------------------------------\u001b[0m",
      "\u001b[1;31mTypeError\u001b[0m                                 Traceback (most recent call last)",
      "Cell \u001b[1;32mIn[85], line 1\u001b[0m\n\u001b[1;32m----> 1\u001b[0m d \u001b[38;5;241m+\u001b[39m d\n",
      "\u001b[1;31mTypeError\u001b[0m: unsupported operand type(s) for +: 'dict' and 'dict'"
     ]
    }
   ],
   "source": [
    "d + d"
   ]
  },
  {
   "cell_type": "markdown",
   "id": "3921bea0-3a39-49a6-ab55-e70f0ce026b2",
   "metadata": {},
   "source": [
    "### Repeat"
   ]
  },
  {
   "cell_type": "code",
   "execution_count": 86,
   "id": "2e3a2dd6-a0a4-458f-95ce-1745a3d9e618",
   "metadata": {},
   "outputs": [
    {
     "data": {
      "text/plain": [
       "'python '"
      ]
     },
     "execution_count": 86,
     "metadata": {},
     "output_type": "execute_result"
    }
   ],
   "source": [
    "var"
   ]
  },
  {
   "cell_type": "code",
   "execution_count": 88,
   "id": "6127bdaa-5730-4379-8b81-d6c8b48b6e11",
   "metadata": {},
   "outputs": [
    {
     "data": {
      "text/plain": [
       "'python python python python python python python python python python python python python python python python python python python python python python python python python python python python python python '"
      ]
     },
     "execution_count": 88,
     "metadata": {},
     "output_type": "execute_result"
    }
   ],
   "source": [
    "var * 30"
   ]
  },
  {
   "cell_type": "code",
   "execution_count": 89,
   "id": "270b3dec-652f-4445-998d-00069aae9a14",
   "metadata": {},
   "outputs": [
    {
     "data": {
      "text/plain": [
       "[2, 4, 6, 8, 10, 2, 4, 6, 8, 10, 2, 4, 6, 8, 10]"
      ]
     },
     "execution_count": 89,
     "metadata": {},
     "output_type": "execute_result"
    }
   ],
   "source": [
    "lis * 3"
   ]
  },
  {
   "cell_type": "code",
   "execution_count": 90,
   "id": "ca9d47fe-e23e-40c8-ad8a-d3e5c7c7abb6",
   "metadata": {},
   "outputs": [
    {
     "data": {
      "text/plain": [
       "('red', 'blue', 'black', 'red', 'blue', 'black')"
      ]
     },
     "execution_count": 90,
     "metadata": {},
     "output_type": "execute_result"
    }
   ],
   "source": [
    "tup * 2"
   ]
  },
  {
   "cell_type": "markdown",
   "id": "cd723cd9-8754-417e-a136-ad667f75123f",
   "metadata": {},
   "source": [
    "### Mutation"
   ]
  },
  {
   "cell_type": "code",
   "execution_count": 93,
   "id": "1a7f29cc-6f27-4608-9fbc-14d65aaed451",
   "metadata": {},
   "outputs": [
    {
     "ename": "TypeError",
     "evalue": "'str' object does not support item assignment",
     "output_type": "error",
     "traceback": [
      "\u001b[1;31m---------------------------------------------------------------------------\u001b[0m",
      "\u001b[1;31mTypeError\u001b[0m                                 Traceback (most recent call last)",
      "Cell \u001b[1;32mIn[93], line 1\u001b[0m\n\u001b[1;32m----> 1\u001b[0m var[\u001b[38;5;241m2\u001b[39m] \u001b[38;5;241m=\u001b[39m \u001b[38;5;124m\"\u001b[39m\u001b[38;5;124mT\u001b[39m\u001b[38;5;124m\"\u001b[39m\n",
      "\u001b[1;31mTypeError\u001b[0m: 'str' object does not support item assignment"
     ]
    }
   ],
   "source": [
    "var[2] = \"T\""
   ]
  },
  {
   "cell_type": "code",
   "execution_count": 96,
   "id": "601299f5-f796-4d07-bb7d-2653c5d53a02",
   "metadata": {},
   "outputs": [
    {
     "ename": "TypeError",
     "evalue": "'tuple' object does not support item assignment",
     "output_type": "error",
     "traceback": [
      "\u001b[1;31m---------------------------------------------------------------------------\u001b[0m",
      "\u001b[1;31mTypeError\u001b[0m                                 Traceback (most recent call last)",
      "Cell \u001b[1;32mIn[96], line 1\u001b[0m\n\u001b[1;32m----> 1\u001b[0m tup[\u001b[38;5;241m0\u001b[39m] \u001b[38;5;241m=\u001b[39m \u001b[38;5;124m\"\u001b[39m\u001b[38;5;124myellow\u001b[39m\u001b[38;5;124m\"\u001b[39m\n",
      "\u001b[1;31mTypeError\u001b[0m: 'tuple' object does not support item assignment"
     ]
    }
   ],
   "source": [
    "tup[0] = \"yellow\""
   ]
  },
  {
   "cell_type": "code",
   "execution_count": 99,
   "id": "6ca5a1f2-1ccd-46af-97a8-dc94911ba890",
   "metadata": {},
   "outputs": [],
   "source": [
    "lis[3] = 88"
   ]
  },
  {
   "cell_type": "code",
   "execution_count": 100,
   "id": "a678ed12-96c6-4b40-9e63-6e139b9ab794",
   "metadata": {},
   "outputs": [
    {
     "data": {
      "text/plain": [
       "[2, 4, 6, 88, 10]"
      ]
     },
     "execution_count": 100,
     "metadata": {},
     "output_type": "execute_result"
    }
   ],
   "source": [
    "lis"
   ]
  },
  {
   "cell_type": "code",
   "execution_count": 102,
   "id": "8c87f77a-7e84-4d0e-ab91-1c54498f955b",
   "metadata": {},
   "outputs": [],
   "source": [
    "d[\"jan\"] = 32"
   ]
  },
  {
   "cell_type": "code",
   "execution_count": 103,
   "id": "5aa063df-03e1-4cda-8e26-aed4f1fd6341",
   "metadata": {},
   "outputs": [
    {
     "data": {
      "text/plain": [
       "{'jan': 32, 'feb': 28, 'march': 31}"
      ]
     },
     "execution_count": 103,
     "metadata": {},
     "output_type": "execute_result"
    }
   ],
   "source": [
    "d"
   ]
  },
  {
   "cell_type": "code",
   "execution_count": 105,
   "id": "9ffb98e2-6ab1-4312-a0ab-0271e2ab7dac",
   "metadata": {},
   "outputs": [],
   "source": [
    "s1 = \"object does not\"\n",
    "s2 = \"support item assignment\""
   ]
  },
  {
   "cell_type": "code",
   "execution_count": 107,
   "id": "62c085cc-3d8b-4eeb-bec9-44000aff7c8f",
   "metadata": {},
   "outputs": [
    {
     "name": "stdout",
     "output_type": "stream",
     "text": [
      "object does not\n",
      "support item assignment\n"
     ]
    }
   ],
   "source": [
    "print(s1)\n",
    "print(s2)"
   ]
  },
  {
   "cell_type": "code",
   "execution_count": 108,
   "id": "5a20605a-0bae-414f-b093-d45a565234f8",
   "metadata": {},
   "outputs": [
    {
     "name": "stdout",
     "output_type": "stream",
     "text": [
      "object does not support item assignment\n"
     ]
    }
   ],
   "source": [
    "print(s1, end = \" \")\n",
    "print(s2)"
   ]
  },
  {
   "cell_type": "code",
   "execution_count": null,
   "id": "4759a7be-b14e-4845-a980-7c0db32ada38",
   "metadata": {},
   "outputs": [],
   "source": []
  }
 ],
 "metadata": {
  "kernelspec": {
   "display_name": "Python 3 (ipykernel)",
   "language": "python",
   "name": "python3"
  },
  "language_info": {
   "codemirror_mode": {
    "name": "ipython",
    "version": 3
   },
   "file_extension": ".py",
   "mimetype": "text/x-python",
   "name": "python",
   "nbconvert_exporter": "python",
   "pygments_lexer": "ipython3",
   "version": "3.11.7"
  }
 },
 "nbformat": 4,
 "nbformat_minor": 5
}
