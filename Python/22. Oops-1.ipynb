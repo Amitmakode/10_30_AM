{
 "cells": [
  {
   "cell_type": "code",
   "execution_count": 1,
   "id": "e9501b1b",
   "metadata": {},
   "outputs": [],
   "source": [
    "class person:     #attributes     # __inti__ = constructor,  self is a pointer to class\n",
    "    \n",
    "    def __init__(self, name, surname, emailid , year_of_birth):   # method \n",
    "        \n",
    "        self.name = name\n",
    "        self.surname = surname\n",
    "        self.emailid = emailid\n",
    "        self.year_of_birth = year_of_birth\n",
    "        "
   ]
  },
  {
   "cell_type": "code",
   "execution_count": 2,
   "id": "f0167732",
   "metadata": {},
   "outputs": [
    {
     "ename": "TypeError",
     "evalue": "person.__init__() missing 4 required positional arguments: 'name', 'surname', 'emailid', and 'year_of_birth'",
     "output_type": "error",
     "traceback": [
      "\u001b[1;31m---------------------------------------------------------------------------\u001b[0m",
      "\u001b[1;31mTypeError\u001b[0m                                 Traceback (most recent call last)",
      "Cell \u001b[1;32mIn[2], line 1\u001b[0m\n\u001b[1;32m----> 1\u001b[0m person()\n",
      "\u001b[1;31mTypeError\u001b[0m: person.__init__() missing 4 required positional arguments: 'name', 'surname', 'emailid', and 'year_of_birth'"
     ]
    }
   ],
   "source": [
    "person()"
   ]
  },
  {
   "cell_type": "code",
   "execution_count": 3,
   "id": "0d1c7f94",
   "metadata": {},
   "outputs": [],
   "source": [
    "details = person(\"amit\", \"kumar\", \"amitkm@gmail.com\", 1993)    #object"
   ]
  },
  {
   "cell_type": "code",
   "execution_count": 4,
   "id": "9c527833",
   "metadata": {},
   "outputs": [
    {
     "data": {
      "text/plain": [
       "<__main__.person at 0x2e22feb8b10>"
      ]
     },
     "execution_count": 4,
     "metadata": {},
     "output_type": "execute_result"
    }
   ],
   "source": [
    "details"
   ]
  },
  {
   "cell_type": "code",
   "execution_count": 5,
   "id": "6c45ac65",
   "metadata": {},
   "outputs": [
    {
     "data": {
      "text/plain": [
       "'kumar'"
      ]
     },
     "execution_count": 5,
     "metadata": {},
     "output_type": "execute_result"
    }
   ],
   "source": [
    "details.surname"
   ]
  },
  {
   "cell_type": "code",
   "execution_count": 6,
   "id": "82080e8c",
   "metadata": {},
   "outputs": [
    {
     "data": {
      "text/plain": [
       "'amit'"
      ]
     },
     "execution_count": 6,
     "metadata": {},
     "output_type": "execute_result"
    }
   ],
   "source": [
    "details.name"
   ]
  },
  {
   "cell_type": "code",
   "execution_count": 7,
   "id": "38a238d1",
   "metadata": {},
   "outputs": [],
   "source": [
    "details2 = person(\"parag\", \"dorle\", \"parag@gmail.com\", 1993)   "
   ]
  },
  {
   "cell_type": "code",
   "execution_count": 8,
   "id": "76104376",
   "metadata": {},
   "outputs": [
    {
     "data": {
      "text/plain": [
       "'parag'"
      ]
     },
     "execution_count": 8,
     "metadata": {},
     "output_type": "execute_result"
    }
   ],
   "source": [
    "details2.name"
   ]
  },
  {
   "cell_type": "code",
   "execution_count": 17,
   "id": "ab5faac0",
   "metadata": {},
   "outputs": [],
   "source": [
    "obj= person(\"nilesh\", \"sharma\", \"nilesh@gmail\", 2001)"
   ]
  },
  {
   "cell_type": "code",
   "execution_count": 11,
   "id": "8a43be56",
   "metadata": {},
   "outputs": [
    {
     "data": {
      "text/plain": [
       "1995"
      ]
     },
     "execution_count": 11,
     "metadata": {},
     "output_type": "execute_result"
    }
   ],
   "source": [
    "obj.year_of_birth"
   ]
  },
  {
   "cell_type": "code",
   "execution_count": null,
   "id": "6ff3b00d",
   "metadata": {},
   "outputs": [],
   "source": [
    "*******************************************"
   ]
  },
  {
   "cell_type": "code",
   "execution_count": null,
   "id": "7282bd71",
   "metadata": {},
   "outputs": [],
   "source": []
  },
  {
   "cell_type": "code",
   "execution_count": 12,
   "id": "35a1b078",
   "metadata": {},
   "outputs": [],
   "source": [
    "class person_1:\n",
    "\n",
    "    def __init__(self, name, surname, emailid, year_of_birth):\n",
    "        self.name = name\n",
    "        self.surname = surname\n",
    "        self.emailid = emailid\n",
    "        self.year_of_birth = year_of_birth\n",
    "                                              # last constructed method can only use\n",
    "        \n",
    "    def __init__(self, name, surname, year_of_birth):\n",
    "        self.name = name\n",
    "        self.surname = surname \n",
    "        self. year_of_birth= year_of_birth  \n",
    "        \n",
    "    def age(self, curretn_year):\n",
    "        return curretn_year - self.year_of_birth"
   ]
  },
  {
   "cell_type": "code",
   "execution_count": 18,
   "id": "945c2112",
   "metadata": {},
   "outputs": [],
   "source": [
    "obj1 = person_1(\"sagar\", \"bawnkule\",  2000)"
   ]
  },
  {
   "cell_type": "code",
   "execution_count": 19,
   "id": "b7de8e35",
   "metadata": {},
   "outputs": [
    {
     "data": {
      "text/plain": [
       "'sagar'"
      ]
     },
     "execution_count": 19,
     "metadata": {},
     "output_type": "execute_result"
    }
   ],
   "source": [
    "obj1.name"
   ]
  },
  {
   "cell_type": "code",
   "execution_count": 21,
   "id": "a97b03f0",
   "metadata": {},
   "outputs": [
    {
     "data": {
      "text/plain": [
       "24"
      ]
     },
     "execution_count": 21,
     "metadata": {},
     "output_type": "execute_result"
    }
   ],
   "source": [
    "obj1.age(2024)"
   ]
  },
  {
   "cell_type": "code",
   "execution_count": null,
   "id": "15138b37",
   "metadata": {},
   "outputs": [],
   "source": [
    "**************************************************************"
   ]
  },
  {
   "cell_type": "code",
   "execution_count": 22,
   "id": "790252e5",
   "metadata": {},
   "outputs": [],
   "source": [
    "class person_2:\n",
    "\n",
    "    def __init__(self, name, surname, emailid, year_of_birth):\n",
    "        self.name = name\n",
    "        self.surname = surname\n",
    "        self.emailid = emailid\n",
    "        self.year_of_birth = year_of_birth\n",
    "                                              # last constructed method can only use\n",
    "            \n",
    "    def __init__(self, name, surname):\n",
    "        self.name = name\n",
    "        self.surname = surname \n",
    "        self. year_of_birth= year_of_birth        \n",
    "            \n",
    "        \n",
    "    def __init__(self, name, surname, year_of_birth):\n",
    "        self.name = name\n",
    "        self.surname = surname \n",
    "        self. year_of_birth= year_of_birth \n",
    "        \n",
    "        \n",
    "        \n",
    "    def age(self, curretn_year):\n",
    "        return curretn_year - self.year_of_birth"
   ]
  },
  {
   "cell_type": "code",
   "execution_count": 27,
   "id": "08f4f297",
   "metadata": {},
   "outputs": [
    {
     "ename": "TypeError",
     "evalue": "person_2.__init__() missing 3 required positional arguments: 'name', 'surname', and 'year_of_birth'",
     "output_type": "error",
     "traceback": [
      "\u001b[1;31m---------------------------------------------------------------------------\u001b[0m",
      "\u001b[1;31mTypeError\u001b[0m                                 Traceback (most recent call last)",
      "Cell \u001b[1;32mIn[27], line 1\u001b[0m\n\u001b[1;32m----> 1\u001b[0m person_2()\n",
      "\u001b[1;31mTypeError\u001b[0m: person_2.__init__() missing 3 required positional arguments: 'name', 'surname', and 'year_of_birth'"
     ]
    }
   ],
   "source": [
    "person_2()"
   ]
  },
  {
   "cell_type": "code",
   "execution_count": 24,
   "id": "ba2d02f0",
   "metadata": {},
   "outputs": [
    {
     "ename": "TypeError",
     "evalue": "person_2.__init__() missing 1 required positional argument: 'year_of_birth'",
     "output_type": "error",
     "traceback": [
      "\u001b[1;31m---------------------------------------------------------------------------\u001b[0m",
      "\u001b[1;31mTypeError\u001b[0m                                 Traceback (most recent call last)",
      "Cell \u001b[1;32mIn[24], line 1\u001b[0m\n\u001b[1;32m----> 1\u001b[0m person_2(\u001b[38;5;124m\"\u001b[39m\u001b[38;5;124msagar\u001b[39m\u001b[38;5;124m\"\u001b[39m, \u001b[38;5;124m\"\u001b[39m\u001b[38;5;124mbawnkule\u001b[39m\u001b[38;5;124m\"\u001b[39m)\n",
      "\u001b[1;31mTypeError\u001b[0m: person_2.__init__() missing 1 required positional argument: 'year_of_birth'"
     ]
    }
   ],
   "source": [
    "person_2(\"sagar\", \"bawnkule\")"
   ]
  },
  {
   "cell_type": "code",
   "execution_count": null,
   "id": "e12736fb",
   "metadata": {},
   "outputs": [],
   "source": [
    "*****************************************************"
   ]
  },
  {
   "cell_type": "code",
   "execution_count": null,
   "id": "e7e8de24",
   "metadata": {},
   "outputs": [],
   "source": []
  },
  {
   "cell_type": "code",
   "execution_count": 25,
   "id": "7d7711ad",
   "metadata": {},
   "outputs": [],
   "source": [
    "class person_3 :\n",
    "\n",
    "    def age(self, curretn_year , year_of_birth):\n",
    "        return curretn_year - year_of_birth\n",
    "\n",
    "    def email_id_input(self, email_id ):\n",
    "        print(\"take and mail id form a person and print it \" , email_id)\n",
    "\n",
    "    def ask_name(self):\n",
    "        name = input(\"tell me your name \")\n",
    "        return name\n",
    "\n",
    "    def ask_dob(self):\n",
    "        dob = input(\"tell me your date of birth \")\n",
    "        return dob"
   ]
  },
  {
   "cell_type": "code",
   "execution_count": 28,
   "id": "5e0f32dd",
   "metadata": {},
   "outputs": [],
   "source": [
    "obj3 =person_3()"
   ]
  },
  {
   "cell_type": "code",
   "execution_count": 29,
   "id": "5104ea69",
   "metadata": {},
   "outputs": [
    {
     "data": {
      "text/plain": [
       "34"
      ]
     },
     "execution_count": 29,
     "metadata": {},
     "output_type": "execute_result"
    }
   ],
   "source": [
    "obj3.age(2024, 1990)"
   ]
  },
  {
   "cell_type": "code",
   "execution_count": 30,
   "id": "ba207e6e",
   "metadata": {},
   "outputs": [
    {
     "name": "stdout",
     "output_type": "stream",
     "text": [
      "tell me your date of birth amit\n"
     ]
    },
    {
     "data": {
      "text/plain": [
       "'amit'"
      ]
     },
     "execution_count": 30,
     "metadata": {},
     "output_type": "execute_result"
    }
   ],
   "source": [
    "obj3.ask_dob()"
   ]
  },
  {
   "cell_type": "code",
   "execution_count": 33,
   "id": "afa02c66",
   "metadata": {},
   "outputs": [
    {
     "name": "stdout",
     "output_type": "stream",
     "text": [
      "take and mail id form a person and print it  amit@gmail.com\n"
     ]
    }
   ],
   "source": [
    "obj3.email_id_input(\"amit@gmail.com\")"
   ]
  },
  {
   "cell_type": "code",
   "execution_count": null,
   "id": "ee636001",
   "metadata": {},
   "outputs": [],
   "source": [
    "********************************************"
   ]
  },
  {
   "cell_type": "code",
   "execution_count": null,
   "id": "0f20ee20",
   "metadata": {},
   "outputs": [],
   "source": []
  },
  {
   "cell_type": "code",
   "execution_count": 34,
   "id": "75bc5d48",
   "metadata": {},
   "outputs": [],
   "source": [
    "class person_4 :\n",
    "    \n",
    "    def __init__(self , name ,surname , yob):\n",
    "        self._name1 = name                 # single _ means private \n",
    "        self.__surname1 = surname          #  double __ means protective\n",
    "        self.yob1 = yob                    # public"
   ]
  },
  {
   "cell_type": "code",
   "execution_count": 36,
   "id": "4860fdda",
   "metadata": {},
   "outputs": [],
   "source": [
    "var = person_4(\"amit\", \"kumar\",1995)"
   ]
  },
  {
   "cell_type": "code",
   "execution_count": 37,
   "id": "5def9c6d",
   "metadata": {},
   "outputs": [
    {
     "data": {
      "text/plain": [
       "1995"
      ]
     },
     "execution_count": 37,
     "metadata": {},
     "output_type": "execute_result"
    }
   ],
   "source": [
    "var.yob1"
   ]
  },
  {
   "cell_type": "code",
   "execution_count": 38,
   "id": "c62a4f5d",
   "metadata": {},
   "outputs": [
    {
     "data": {
      "text/plain": [
       "'amit'"
      ]
     },
     "execution_count": 38,
     "metadata": {},
     "output_type": "execute_result"
    }
   ],
   "source": [
    "var._name1"
   ]
  },
  {
   "cell_type": "code",
   "execution_count": 41,
   "id": "d8f72126",
   "metadata": {},
   "outputs": [
    {
     "data": {
      "text/plain": [
       "'kumar'"
      ]
     },
     "execution_count": 41,
     "metadata": {},
     "output_type": "execute_result"
    }
   ],
   "source": [
    "var._person_4__surname1"
   ]
  },
  {
   "cell_type": "code",
   "execution_count": null,
   "id": "e01748ba",
   "metadata": {},
   "outputs": [],
   "source": [
    "*************************"
   ]
  },
  {
   "cell_type": "code",
   "execution_count": null,
   "id": "50f21c02",
   "metadata": {},
   "outputs": [],
   "source": []
  },
  {
   "cell_type": "code",
   "execution_count": 42,
   "id": "1808158b",
   "metadata": {},
   "outputs": [],
   "source": [
    "class person_5 :                             # parents class\n",
    "\n",
    "    name = \"amit\"\n",
    "    surname = \"kumar\"\n",
    "    yob = 1990\n",
    "\n",
    "    def age(self , current_year ):\n",
    "        return current_year - self.yob\n",
    "    \n",
    "    def age1(self , current_year ):\n",
    "        return current_year - self.yob"
   ]
  },
  {
   "cell_type": "code",
   "execution_count": 45,
   "id": "c539052a",
   "metadata": {},
   "outputs": [],
   "source": [
    "var1=person_5()"
   ]
  },
  {
   "cell_type": "code",
   "execution_count": 46,
   "id": "cc6339c5",
   "metadata": {},
   "outputs": [
    {
     "data": {
      "text/plain": [
       "'amit'"
      ]
     },
     "execution_count": 46,
     "metadata": {},
     "output_type": "execute_result"
    }
   ],
   "source": [
    "var1.name"
   ]
  },
  {
   "cell_type": "code",
   "execution_count": 47,
   "id": "7da934eb",
   "metadata": {},
   "outputs": [
    {
     "data": {
      "text/plain": [
       "'kumar'"
      ]
     },
     "execution_count": 47,
     "metadata": {},
     "output_type": "execute_result"
    }
   ],
   "source": [
    "var1.surname"
   ]
  },
  {
   "cell_type": "code",
   "execution_count": 48,
   "id": "80b4f292",
   "metadata": {},
   "outputs": [
    {
     "data": {
      "text/plain": [
       "34"
      ]
     },
     "execution_count": 48,
     "metadata": {},
     "output_type": "execute_result"
    }
   ],
   "source": [
    "var1.age(2024)"
   ]
  },
  {
   "cell_type": "code",
   "execution_count": 49,
   "id": "e5064598",
   "metadata": {},
   "outputs": [
    {
     "data": {
      "text/plain": [
       "34"
      ]
     },
     "execution_count": 49,
     "metadata": {},
     "output_type": "execute_result"
    }
   ],
   "source": [
    "var1.age1(2024)"
   ]
  },
  {
   "cell_type": "code",
   "execution_count": 54,
   "id": "7eb9f1ab",
   "metadata": {},
   "outputs": [],
   "source": [
    "class employee(person_5) :           #child class\n",
    "    name = \"amit\"\n",
    "    surname = \"singh\"\n",
    "    yob = 1991"
   ]
  },
  {
   "cell_type": "code",
   "execution_count": 55,
   "id": "3ea04888",
   "metadata": {},
   "outputs": [],
   "source": [
    "vr = employee()"
   ]
  },
  {
   "cell_type": "code",
   "execution_count": 56,
   "id": "16435935",
   "metadata": {},
   "outputs": [
    {
     "data": {
      "text/plain": [
       "32"
      ]
     },
     "execution_count": 56,
     "metadata": {},
     "output_type": "execute_result"
    }
   ],
   "source": [
    "obj1 = employee()\n",
    "obj1.surname\n",
    "obj1.yob\n",
    "obj1.age(2023)\n",
    "# inheritense"
   ]
  },
  {
   "cell_type": "code",
   "execution_count": 57,
   "id": "5786b075",
   "metadata": {},
   "outputs": [
    {
     "data": {
      "text/plain": [
       "29"
      ]
     },
     "execution_count": 57,
     "metadata": {},
     "output_type": "execute_result"
    }
   ],
   "source": [
    "obj1.age1(2020)"
   ]
  },
  {
   "cell_type": "code",
   "execution_count": null,
   "id": "58700a5f",
   "metadata": {},
   "outputs": [],
   "source": []
  }
 ],
 "metadata": {
  "kernelspec": {
   "display_name": "Python 3 (ipykernel)",
   "language": "python",
   "name": "python3"
  },
  "language_info": {
   "codemirror_mode": {
    "name": "ipython",
    "version": 3
   },
   "file_extension": ".py",
   "mimetype": "text/x-python",
   "name": "python",
   "nbconvert_exporter": "python",
   "pygments_lexer": "ipython3",
   "version": "3.11.5"
  }
 },
 "nbformat": 4,
 "nbformat_minor": 5
}
