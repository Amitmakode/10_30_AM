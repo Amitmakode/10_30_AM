{
 "cells": [
  {
   "cell_type": "markdown",
   "id": "95b5d0e7-a3ef-4b3b-85ff-3f1d8009cc1a",
   "metadata": {},
   "source": [
    "## While"
   ]
  },
  {
   "cell_type": "code",
   "execution_count": 2,
   "id": "0fa52720-410e-44da-adad-6a40f78fae61",
   "metadata": {},
   "outputs": [
    {
     "name": "stdout",
     "output_type": "stream",
     "text": [
      "0\n",
      "1\n",
      "2\n",
      "3\n"
     ]
    }
   ],
   "source": [
    "n = 4\n",
    "i = 0\n",
    "\n",
    "while i < n:\n",
    "    print(i)\n",
    "    i+=1"
   ]
  },
  {
   "cell_type": "code",
   "execution_count": 3,
   "id": "55f0c150-3d55-40c4-8ff9-75df0000f617",
   "metadata": {},
   "outputs": [
    {
     "data": {
      "text/plain": [
       "4"
      ]
     },
     "execution_count": 3,
     "metadata": {},
     "output_type": "execute_result"
    }
   ],
   "source": [
    "i"
   ]
  },
  {
   "cell_type": "code",
   "execution_count": 13,
   "id": "c2564205-b015-4aa7-9d19-95c700f66338",
   "metadata": {},
   "outputs": [],
   "source": [
    "l = [2,5,8,4,7,4,5]\n",
    "i = 0"
   ]
  },
  {
   "cell_type": "code",
   "execution_count": 14,
   "id": "63771d5a-c752-413e-9620-522d4b6b4886",
   "metadata": {},
   "outputs": [
    {
     "name": "stdout",
     "output_type": "stream",
     "text": [
      "2\n",
      "5\n",
      "8\n",
      "4\n",
      "7\n",
      "4\n",
      "5\n"
     ]
    }
   ],
   "source": [
    "while i < len(l) :\n",
    "    print(l[i])\n",
    "    i+=1"
   ]
  },
  {
   "cell_type": "code",
   "execution_count": 18,
   "id": "e2a4b1aa-1f37-4a6e-8a33-e54e9f390dd0",
   "metadata": {},
   "outputs": [
    {
     "name": "stdin",
     "output_type": "stream",
     "text": [
      "Enter the name (use 'Quit' to stop : python\n"
     ]
    },
    {
     "name": "stdout",
     "output_type": "stream",
     "text": [
      "You entered  python\n"
     ]
    },
    {
     "ename": "KeyboardInterrupt",
     "evalue": "Interrupted by user",
     "output_type": "error",
     "traceback": [
      "\u001b[1;31m---------------------------------------------------------------------------\u001b[0m",
      "\u001b[1;31mKeyboardInterrupt\u001b[0m                         Traceback (most recent call last)",
      "Cell \u001b[1;32mIn[18], line 4\u001b[0m\n\u001b[0;32m      1\u001b[0m name \u001b[38;5;241m=\u001b[39m \u001b[38;5;124m\"\u001b[39m\u001b[38;5;124m\"\u001b[39m\n\u001b[0;32m      3\u001b[0m \u001b[38;5;28;01mwhile\u001b[39;00m name \u001b[38;5;241m!=\u001b[39m \u001b[38;5;124m\"\u001b[39m\u001b[38;5;124mQuit\u001b[39m\u001b[38;5;124m\"\u001b[39m:\n\u001b[1;32m----> 4\u001b[0m     name \u001b[38;5;241m=\u001b[39m \u001b[38;5;28minput\u001b[39m(\u001b[38;5;124m\"\u001b[39m\u001b[38;5;124mEnter the name (use \u001b[39m\u001b[38;5;124m'\u001b[39m\u001b[38;5;124mQuit\u001b[39m\u001b[38;5;124m'\u001b[39m\u001b[38;5;124m to stop :\u001b[39m\u001b[38;5;124m\"\u001b[39m)\n\u001b[0;32m      5\u001b[0m     \u001b[38;5;28;01mif\u001b[39;00m name \u001b[38;5;241m!=\u001b[39m \u001b[38;5;124m\"\u001b[39m\u001b[38;5;124mQuit\u001b[39m\u001b[38;5;124m\"\u001b[39m:\n\u001b[0;32m      6\u001b[0m         \u001b[38;5;28mprint\u001b[39m(\u001b[38;5;124m'\u001b[39m\u001b[38;5;124mYou entered \u001b[39m\u001b[38;5;124m'\u001b[39m, name)\n",
      "File \u001b[1;32m~\\anaconda3\\Lib\\site-packages\\ipykernel\\kernelbase.py:1262\u001b[0m, in \u001b[0;36mKernel.raw_input\u001b[1;34m(self, prompt)\u001b[0m\n\u001b[0;32m   1260\u001b[0m     msg \u001b[38;5;241m=\u001b[39m \u001b[38;5;124m\"\u001b[39m\u001b[38;5;124mraw_input was called, but this frontend does not support input requests.\u001b[39m\u001b[38;5;124m\"\u001b[39m\n\u001b[0;32m   1261\u001b[0m     \u001b[38;5;28;01mraise\u001b[39;00m StdinNotImplementedError(msg)\n\u001b[1;32m-> 1262\u001b[0m \u001b[38;5;28;01mreturn\u001b[39;00m \u001b[38;5;28mself\u001b[39m\u001b[38;5;241m.\u001b[39m_input_request(\n\u001b[0;32m   1263\u001b[0m     \u001b[38;5;28mstr\u001b[39m(prompt),\n\u001b[0;32m   1264\u001b[0m     \u001b[38;5;28mself\u001b[39m\u001b[38;5;241m.\u001b[39m_parent_ident[\u001b[38;5;124m\"\u001b[39m\u001b[38;5;124mshell\u001b[39m\u001b[38;5;124m\"\u001b[39m],\n\u001b[0;32m   1265\u001b[0m     \u001b[38;5;28mself\u001b[39m\u001b[38;5;241m.\u001b[39mget_parent(\u001b[38;5;124m\"\u001b[39m\u001b[38;5;124mshell\u001b[39m\u001b[38;5;124m\"\u001b[39m),\n\u001b[0;32m   1266\u001b[0m     password\u001b[38;5;241m=\u001b[39m\u001b[38;5;28;01mFalse\u001b[39;00m,\n\u001b[0;32m   1267\u001b[0m )\n",
      "File \u001b[1;32m~\\anaconda3\\Lib\\site-packages\\ipykernel\\kernelbase.py:1305\u001b[0m, in \u001b[0;36mKernel._input_request\u001b[1;34m(self, prompt, ident, parent, password)\u001b[0m\n\u001b[0;32m   1302\u001b[0m \u001b[38;5;28;01mexcept\u001b[39;00m \u001b[38;5;167;01mKeyboardInterrupt\u001b[39;00m:\n\u001b[0;32m   1303\u001b[0m     \u001b[38;5;66;03m# re-raise KeyboardInterrupt, to truncate traceback\u001b[39;00m\n\u001b[0;32m   1304\u001b[0m     msg \u001b[38;5;241m=\u001b[39m \u001b[38;5;124m\"\u001b[39m\u001b[38;5;124mInterrupted by user\u001b[39m\u001b[38;5;124m\"\u001b[39m\n\u001b[1;32m-> 1305\u001b[0m     \u001b[38;5;28;01mraise\u001b[39;00m \u001b[38;5;167;01mKeyboardInterrupt\u001b[39;00m(msg) \u001b[38;5;28;01mfrom\u001b[39;00m \u001b[38;5;28;01mNone\u001b[39;00m\n\u001b[0;32m   1306\u001b[0m \u001b[38;5;28;01mexcept\u001b[39;00m \u001b[38;5;167;01mException\u001b[39;00m:\n\u001b[0;32m   1307\u001b[0m     \u001b[38;5;28mself\u001b[39m\u001b[38;5;241m.\u001b[39mlog\u001b[38;5;241m.\u001b[39mwarning(\u001b[38;5;124m\"\u001b[39m\u001b[38;5;124mInvalid Message:\u001b[39m\u001b[38;5;124m\"\u001b[39m, exc_info\u001b[38;5;241m=\u001b[39m\u001b[38;5;28;01mTrue\u001b[39;00m)\n",
      "\u001b[1;31mKeyboardInterrupt\u001b[0m: Interrupted by user"
     ]
    }
   ],
   "source": [
    "name = \"\"\n",
    "\n",
    "while name != \"Quit\":\n",
    "    name = input(\"Enter the name (use 'Quit' to stop :\")\n",
    "    if name != \"Quit\":\n",
    "        print('You entered ', name) "
   ]
  },
  {
   "cell_type": "code",
   "execution_count": 19,
   "id": "0fc9e110-ef9d-41f5-a8f5-93f538b5119e",
   "metadata": {},
   "outputs": [
    {
     "data": {
      "text/plain": [
       "'python'"
      ]
     },
     "execution_count": 19,
     "metadata": {},
     "output_type": "execute_result"
    }
   ],
   "source": [
    "name"
   ]
  },
  {
   "cell_type": "code",
   "execution_count": 22,
   "id": "0fbb9da9-6b28-48a0-9f1b-1a32dd15b954",
   "metadata": {},
   "outputs": [
    {
     "ename": "TypeError",
     "evalue": "'str' object does not support item assignment",
     "output_type": "error",
     "traceback": [
      "\u001b[1;31m---------------------------------------------------------------------------\u001b[0m",
      "\u001b[1;31mTypeError\u001b[0m                                 Traceback (most recent call last)",
      "Cell \u001b[1;32mIn[22], line 1\u001b[0m\n\u001b[1;32m----> 1\u001b[0m name[\u001b[38;5;241m3\u001b[39m] \u001b[38;5;241m=\u001b[39m \u001b[38;5;124m\"\u001b[39m\u001b[38;5;124mH\u001b[39m\u001b[38;5;124m\"\u001b[39m\n",
      "\u001b[1;31mTypeError\u001b[0m: 'str' object does not support item assignment"
     ]
    }
   ],
   "source": [
    "name[3] = \"H\""
   ]
  },
  {
   "cell_type": "code",
   "execution_count": 24,
   "id": "e526003d-48cc-4283-b8be-e139a5e67360",
   "metadata": {},
   "outputs": [
    {
     "data": {
      "text/plain": [
       "'python'"
      ]
     },
     "execution_count": 24,
     "metadata": {},
     "output_type": "execute_result"
    }
   ],
   "source": [
    "name"
   ]
  },
  {
   "cell_type": "code",
   "execution_count": 25,
   "id": "a8d05f1c-3044-4779-b64b-20db16a3bb68",
   "metadata": {},
   "outputs": [],
   "source": [
    "name = \"java\""
   ]
  },
  {
   "cell_type": "code",
   "execution_count": 26,
   "id": "504205f0-937e-4345-a7c2-71ab81863a89",
   "metadata": {},
   "outputs": [
    {
     "data": {
      "text/plain": [
       "'java'"
      ]
     },
     "execution_count": 26,
     "metadata": {},
     "output_type": "execute_result"
    }
   ],
   "source": [
    "name"
   ]
  },
  {
   "cell_type": "code",
   "execution_count": 27,
   "id": "79972f43-3e46-4ee0-96b9-6bd8b34c9087",
   "metadata": {},
   "outputs": [
    {
     "name": "stdout",
     "output_type": "stream",
     "text": [
      "1\n",
      "2\n",
      "3\n",
      "4\n",
      "4\n",
      "5\n",
      "5\n",
      "6\n",
      "6\n",
      "7\n"
     ]
    }
   ],
   "source": [
    "# Example\n",
    "i = 0           \n",
    "while i < 7:           # 0, 1, 2, 3, 4, 5, 6\n",
    "    if i > 3 :         # 0, 1, 2, 3, 4, 5, 6\n",
    "        print(i)       # 4, 5, 6\n",
    "    i = i + 1\n",
    "    print(i)           # 1,2,3,4,5,6,7"
   ]
  },
  {
   "cell_type": "code",
   "execution_count": 28,
   "id": "dddb2eb9-5a55-44b0-90b4-fa645d99abd3",
   "metadata": {},
   "outputs": [
    {
     "name": "stdout",
     "output_type": "stream",
     "text": [
      "1\n",
      "2\n",
      "3\n",
      "4\n"
     ]
    }
   ],
   "source": [
    "# Example\n",
    "i = 0           \n",
    "while i < 7:    \n",
    "    if i > 3 :   \n",
    "        break    \n",
    "        print(i)    \n",
    "    i = i + 1\n",
    "    print(i)"
   ]
  },
  {
   "cell_type": "code",
   "execution_count": 29,
   "id": "1000912d-4cf8-4b98-9f07-68509bb7bb5a",
   "metadata": {},
   "outputs": [
    {
     "name": "stdout",
     "output_type": "stream",
     "text": [
      "1\n",
      "2\n",
      "3\n",
      "4\n",
      "4\n",
      "5\n",
      "5\n",
      "6\n",
      "6\n",
      "7\n"
     ]
    }
   ],
   "source": [
    "# Example\n",
    "i = 0           \n",
    "while i < 7:    \n",
    "    if i > 3 :   \n",
    "        pass    \n",
    "        print(i)    \n",
    "    i = i + 1\n",
    "    print(i)"
   ]
  },
  {
   "cell_type": "code",
   "execution_count": 30,
   "id": "d2e91f3b-42ed-496c-aa9a-5a4ffc72276d",
   "metadata": {},
   "outputs": [
    {
     "name": "stdout",
     "output_type": "stream",
     "text": [
      "1\n",
      "2\n",
      "3\n",
      "4\n"
     ]
    },
    {
     "ename": "KeyboardInterrupt",
     "evalue": "",
     "output_type": "error",
     "traceback": [
      "\u001b[1;31m---------------------------------------------------------------------------\u001b[0m",
      "\u001b[1;31mKeyboardInterrupt\u001b[0m                         Traceback (most recent call last)",
      "Cell \u001b[1;32mIn[30], line 5\u001b[0m\n\u001b[0;32m      3\u001b[0m \u001b[38;5;28;01mwhile\u001b[39;00m i \u001b[38;5;241m<\u001b[39m \u001b[38;5;241m7\u001b[39m:    \n\u001b[0;32m      4\u001b[0m     \u001b[38;5;28;01mif\u001b[39;00m i \u001b[38;5;241m>\u001b[39m \u001b[38;5;241m3\u001b[39m :   \n\u001b[1;32m----> 5\u001b[0m         \u001b[38;5;28;01mcontinue\u001b[39;00m    \n\u001b[0;32m      6\u001b[0m         \u001b[38;5;28mprint\u001b[39m(i)    \n\u001b[0;32m      7\u001b[0m     i \u001b[38;5;241m=\u001b[39m i \u001b[38;5;241m+\u001b[39m \u001b[38;5;241m1\u001b[39m\n",
      "\u001b[1;31mKeyboardInterrupt\u001b[0m: "
     ]
    }
   ],
   "source": [
    "# Example\n",
    "i = 0           \n",
    "while i < 7:    \n",
    "    if i > 3 :   \n",
    "        continue    \n",
    "        print(i)    \n",
    "    i = i + 1\n",
    "    print(i)"
   ]
  },
  {
   "cell_type": "code",
   "execution_count": 31,
   "id": "55fb75a3-dd25-41d8-bc30-1b21419711c3",
   "metadata": {},
   "outputs": [
    {
     "name": "stdin",
     "output_type": "stream",
     "text": [
      "Enter the stmt (Use 'Quit' to stop ) py\n"
     ]
    },
    {
     "name": "stdout",
     "output_type": "stream",
     "text": [
      "py\n"
     ]
    },
    {
     "name": "stdin",
     "output_type": "stream",
     "text": [
      "Enter the stmt (Use 'Quit' to stop ) c++\n"
     ]
    },
    {
     "name": "stdout",
     "output_type": "stream",
     "text": [
      "c++\n"
     ]
    },
    {
     "name": "stdin",
     "output_type": "stream",
     "text": [
      "Enter the stmt (Use 'Quit' to stop ) #py\n",
      "Enter the stmt (Use 'Quit' to stop ) #Quit\n",
      "Enter the stmt (Use 'Quit' to stop ) Quit\n"
     ]
    },
    {
     "name": "stdout",
     "output_type": "stream",
     "text": [
      "Quit\n"
     ]
    }
   ],
   "source": [
    "stmt = \"\"\n",
    "\n",
    "while stmt != 'Quit':\n",
    "    stmt = input(\"Enter the stmt (Use 'Quit' to stop )\")\n",
    "    if stmt.startswith(\"#\") :\n",
    "        continue\n",
    "   "
   ]
  },
  {
   "cell_type": "code",
   "execution_count": 32,
   "id": "e5289831-0fd9-4773-9295-e4174866a45f",
   "metadata": {},
   "outputs": [
    {
     "name": "stdout",
     "output_type": "stream",
     "text": [
      "0 J\n",
      "1 a\n",
      "2 s\n",
      "3 m\n",
      "4 i\n",
      "5 n\n",
      "6  \n",
      "7 s\n",
      "8 h\n",
      "9 e\n",
      "10 i\n",
      "11 k\n",
      "12 h\n"
     ]
    }
   ],
   "source": [
    "s = \"Jasmin sheikh\"\n",
    "for i in range(len(s)) : \n",
    "    print(i , s[i])"
   ]
  },
  {
   "cell_type": "code",
   "execution_count": 33,
   "id": "0ad875ea-4ae1-49a8-8b24-1d26b01ad82b",
   "metadata": {},
   "outputs": [
    {
     "name": "stdout",
     "output_type": "stream",
     "text": [
      "5 n\n",
      "4 i\n",
      "3 m\n",
      "2 s\n",
      "1 a\n",
      "0 J\n"
     ]
    }
   ],
   "source": [
    "S = \"Jasmin\"\n",
    "for i in range(len(S)-1 , -1, -1):\n",
    "    print(i , S[i])"
   ]
  },
  {
   "cell_type": "code",
   "execution_count": 34,
   "id": "98fc688f-fade-4947-8084-f69f7c81b1dc",
   "metadata": {},
   "outputs": [],
   "source": [
    "d = {1: \"Nikita\", 2: \"mayuri\", 3:\"jasmin\", 4:\"aarti\", 5:\"pratiksha\"}"
   ]
  },
  {
   "cell_type": "code",
   "execution_count": 37,
   "id": "742a1c47-ee77-4cba-ac06-977b8f64043d",
   "metadata": {},
   "outputs": [
    {
     "name": "stdout",
     "output_type": "stream",
     "text": [
      "(1, 'Nikita') <class 'tuple'> <class 'int'>\n",
      "(2, 'mayuri') <class 'tuple'> <class 'int'>\n",
      "(3, 'jasmin') <class 'tuple'> <class 'int'>\n",
      "(4, 'aarti') <class 'tuple'> <class 'int'>\n",
      "(5, 'pratiksha') <class 'tuple'> <class 'int'>\n"
     ]
    }
   ],
   "source": [
    "for i in d.items():\n",
    "    print(i , type(i) , type(i[0]))"
   ]
  },
  {
   "cell_type": "code",
   "execution_count": 38,
   "id": "0ee0932b-6f1f-447c-a2ae-562ba349dcc1",
   "metadata": {},
   "outputs": [
    {
     "name": "stdout",
     "output_type": "stream",
     "text": [
      "<class 'tuple'> (5, 6)\n"
     ]
    }
   ],
   "source": [
    "d = { 1:[1,(1,2)], 2:(1,[1,5,3]), 3:[1,{4:(5,6)}]}\n",
    "\n",
    "for i in d.items():\n",
    "    if type(i[1]) == list:\n",
    "        if type(i[1][1]) == dict:\n",
    "            print(type(i[1][1][4]), i[1][1][4]) "
   ]
  },
  {
   "cell_type": "code",
   "execution_count": 40,
   "id": "93f597f9-e83c-4866-a630-563f15be5edf",
   "metadata": {},
   "outputs": [],
   "source": [
    "d3 = {1: \"Nikita\", 2: \"mayuri\", 3:\"jasmin\", 4:\"aarti\", 5:\"pratiksha\", 6:\"nikita\"}"
   ]
  },
  {
   "cell_type": "code",
   "execution_count": 41,
   "id": "e811b067-40ff-4522-85ef-d8a525fde928",
   "metadata": {},
   "outputs": [
    {
     "name": "stdout",
     "output_type": "stream",
     "text": [
      "Nikita\n",
      "nikita\n"
     ]
    }
   ],
   "source": [
    "for i in d3.values():\n",
    "    if i == \"Nikita\" or i == \"nikita\":\n",
    "        print(i)"
   ]
  },
  {
   "cell_type": "code",
   "execution_count": 42,
   "id": "e413a9e4-3821-4080-bdb9-db72617638b3",
   "metadata": {},
   "outputs": [],
   "source": [
    "d4 = {1: ([[\"a\",\"b\"],1,2],\"Nikita\",\"mayuri\"), 2: ([[2,\"b\"],\"k1\",2000],\"mayuri\",\"nikita\")}"
   ]
  },
  {
   "cell_type": "code",
   "execution_count": 43,
   "id": "448e2209-1af2-4470-859d-8d9f0444413b",
   "metadata": {},
   "outputs": [
    {
     "name": "stdout",
     "output_type": "stream",
     "text": [
      "Nikita\n",
      "mayuri\n",
      "mayuri\n",
      "nikita\n"
     ]
    }
   ],
   "source": [
    "for i in d4.values():\n",
    "    for j in i:\n",
    "        if type(j) == str: \n",
    "            print(j)"
   ]
  },
  {
   "cell_type": "code",
   "execution_count": 78,
   "id": "5d09eb14-f6f6-4d9a-aab1-16aea95d3fb4",
   "metadata": {},
   "outputs": [],
   "source": [
    "t = (\"sudh\",\"kumar\",[1,3,5,7,4],(3,5,88,4),{3:3,3:\"kjshdf\",\"key1\":\"sudh\",\"key2\":\"kumar\"})"
   ]
  },
  {
   "cell_type": "code",
   "execution_count": 79,
   "id": "508be911-d866-4005-8a49-8b706b966989",
   "metadata": {},
   "outputs": [
    {
     "name": "stdout",
     "output_type": "stream",
     "text": [
      "3\n",
      "3\n",
      "3\n",
      "kjshdf\n"
     ]
    }
   ],
   "source": [
    "for i in t :\n",
    "    if type(i) == list or type(i) == tuple :\n",
    "        for j in i :\n",
    "            if j == 3 :\n",
    "                print(j)\n",
    "    if type(i) == dict :\n",
    "        for k,v  in i.items():\n",
    "            if k == 3 or v == 3 :\n",
    "                print(k)\n",
    "                print(v)"
   ]
  },
  {
   "cell_type": "code",
   "execution_count": 46,
   "id": "96ce82fd-90ad-4aa1-abef-f1c9e5fbee09",
   "metadata": {},
   "outputs": [],
   "source": [
    "t = (\"sudh\",\"kumar\",[1,3,5,7,4],(3,5,88,4))"
   ]
  },
  {
   "cell_type": "code",
   "execution_count": 47,
   "id": "c6cea900-c5cd-4f71-a764-65d931c6c19a",
   "metadata": {},
   "outputs": [
    {
     "name": "stdout",
     "output_type": "stream",
     "text": [
      "3\n",
      "3\n"
     ]
    }
   ],
   "source": [
    "for i in t :\n",
    "    if type(i) == list or type(i) == tuple :\n",
    "        for j in i :\n",
    "            if j == 3 :\n",
    "                print(j)\n",
    "    if type(i) == dict :\n",
    "        for k,v  in i.items():\n",
    "            if k == 3 or v == 3 :\n",
    "                print(k)\n",
    "                print(v)"
   ]
  },
  {
   "cell_type": "code",
   "execution_count": 53,
   "id": "c4e0e022-c44f-48bf-a2a5-87c29d736333",
   "metadata": {},
   "outputs": [],
   "source": [
    "t = (0, {3:3,3:\"kjshdf\",\"key1\":\"sudh\",\"key2\":\"kumar\"})"
   ]
  },
  {
   "cell_type": "code",
   "execution_count": 54,
   "id": "23085d5f-5366-4003-97f4-4783ee305e0d",
   "metadata": {},
   "outputs": [
    {
     "name": "stdout",
     "output_type": "stream",
     "text": [
      "3\n",
      "kjshdf\n"
     ]
    }
   ],
   "source": [
    "for i in t :\n",
    "    if type(i) == list or type(i) == tuple :\n",
    "        for j in i :\n",
    "            if j == 3 :\n",
    "                print(j)\n",
    "    if type(i) == dict :\n",
    "        for k,v  in i.items():\n",
    "            if k == 3 or v == 3 :\n",
    "                print(k)\n",
    "                print(v)"
   ]
  },
  {
   "cell_type": "code",
   "execution_count": 55,
   "id": "cb8ad589-9920-4794-b0cf-ab4bcfe3d80f",
   "metadata": {},
   "outputs": [],
   "source": [
    "d = {3:3,3:\"kjshdf\",\"key1\":\"sudh\",\"key2\":\"kumar\"}"
   ]
  },
  {
   "cell_type": "code",
   "execution_count": 61,
   "id": "22f0cab8-c457-4d21-9a55-8a3f7ba841df",
   "metadata": {},
   "outputs": [
    {
     "name": "stdout",
     "output_type": "stream",
     "text": [
      "3 kjshdf\n",
      "key1 sudh\n",
      "key2 kumar\n"
     ]
    }
   ],
   "source": [
    "for k,v in d.items():\n",
    "    print(k,v)"
   ]
  },
  {
   "cell_type": "code",
   "execution_count": 73,
   "id": "c36a82d8-a182-46ca-9265-15242284f308",
   "metadata": {},
   "outputs": [],
   "source": [
    "t = (\"sudh\",\"kumar\",[1,3,5,7,4],(3,5,88,4),{3:3, 3:\"kjshdf\",\"key1\":\"sudh\",\"key2\":\"kumar\"})"
   ]
  },
  {
   "cell_type": "code",
   "execution_count": 76,
   "id": "6c8330f2-3f86-4e69-9e57-cf57e9815d6c",
   "metadata": {},
   "outputs": [
    {
     "name": "stdout",
     "output_type": "stream",
     "text": [
      "3\n",
      "3\n",
      "kjshdf\n",
      "sudh\n",
      "kumar\n"
     ]
    }
   ],
   "source": [
    "for i in t :\n",
    "    if type(i) == list or type(i) == tuple :\n",
    "        for j in i :\n",
    "            if j == 3 :\n",
    "                print(j)\n",
    "    if type(i) == dict :\n",
    "        for k in i.values():\n",
    "            print(k)"
   ]
  },
  {
   "cell_type": "code",
   "execution_count": null,
   "id": "4622339c-f0e5-4ce4-b617-0f0e23b43582",
   "metadata": {},
   "outputs": [],
   "source": []
  }
 ],
 "metadata": {
  "kernelspec": {
   "display_name": "Python 3 (ipykernel)",
   "language": "python",
   "name": "python3"
  },
  "language_info": {
   "codemirror_mode": {
    "name": "ipython",
    "version": 3
   },
   "file_extension": ".py",
   "mimetype": "text/x-python",
   "name": "python",
   "nbconvert_exporter": "python",
   "pygments_lexer": "ipython3",
   "version": "3.11.7"
  }
 },
 "nbformat": 4,
 "nbformat_minor": 5
}
