{
 "cells": [
  {
   "cell_type": "code",
   "execution_count": 1,
   "id": "39bfc0a4-5384-4bc6-ab9c-ea42ab896e02",
   "metadata": {},
   "outputs": [],
   "source": [
    "class bank :\n",
    "    def transaction(self) :\n",
    "        print(\"total transaction value \")\n",
    "    def account_opening(self):\n",
    "        print(\"this will show you your account open status \")\n",
    "    def deposite(self):\n",
    "        print(\"this will show your deposited amount\")\n",
    "    def test(self):                          # override code\n",
    "        print(\"this is a test methond form bank class \")\n",
    "\n",
    "\n",
    "class HDFC_bank:\n",
    "    def hdfc_to_icici(self):\n",
    "        print(\"this will show you all the transaction happend to icici throuhg hdfc\")\n",
    "    def test(self):           #override code\n",
    "        print(\"this is a test method form hdfc bank \")\n",
    "\n",
    "class ineron_bank:\n",
    "    def account_status_icici(self):\n",
    "        print(\"print a account status in icici \")\n",
    "\n",
    "class icici(HDFC_bank, bank, ineron_bank):      # multiple inheritence\n",
    "    pass"
   ]
  },
  {
   "cell_type": "code",
   "execution_count": 2,
   "id": "81590fdb-3e1f-4f9c-ab5b-e60fcd703b06",
   "metadata": {},
   "outputs": [],
   "source": [
    "obj10 = bank()"
   ]
  },
  {
   "cell_type": "code",
   "execution_count": 3,
   "id": "8c14c9a4-af1f-41ce-9d20-c8f11b647361",
   "metadata": {},
   "outputs": [],
   "source": [
    "obj11 = HDFC_bank()"
   ]
  },
  {
   "cell_type": "code",
   "execution_count": 4,
   "id": "4ea2f466-35d2-4fa0-a082-3c045fbf8e2d",
   "metadata": {},
   "outputs": [],
   "source": [
    "obj12 = ineron_bank()"
   ]
  },
  {
   "cell_type": "code",
   "execution_count": 5,
   "id": "4e065101-80e6-4db6-a518-abb8d5620369",
   "metadata": {},
   "outputs": [],
   "source": [
    "obj13 = icici()"
   ]
  },
  {
   "cell_type": "code",
   "execution_count": 6,
   "id": "6de42cf0-60a3-4882-8bc0-d3d15dfad6af",
   "metadata": {},
   "outputs": [
    {
     "name": "stdout",
     "output_type": "stream",
     "text": [
      "this is a test method form hdfc bank \n"
     ]
    }
   ],
   "source": [
    "obj13.test()"
   ]
  },
  {
   "cell_type": "code",
   "execution_count": 7,
   "id": "38d2ad85-3662-40b4-a135-69b948180c69",
   "metadata": {},
   "outputs": [],
   "source": [
    "class icici( bank, HDFC_bank,ineron_bank):      # multiple inheritence\n",
    "    pass"
   ]
  },
  {
   "cell_type": "code",
   "execution_count": 8,
   "id": "82bd90f5-0394-41f9-b32a-3f994905dc92",
   "metadata": {},
   "outputs": [],
   "source": [
    "obj14 = icici()"
   ]
  },
  {
   "cell_type": "code",
   "execution_count": 9,
   "id": "ddc45d45-ca91-47f1-b8ad-32975c8bb2b8",
   "metadata": {},
   "outputs": [
    {
     "name": "stdout",
     "output_type": "stream",
     "text": [
      "this is a test methond form bank class \n"
     ]
    }
   ],
   "source": [
    "obj14.test()"
   ]
  },
  {
   "cell_type": "code",
   "execution_count": null,
   "id": "d56726a3-0592-4370-a9c9-5cb41066e0e7",
   "metadata": {},
   "outputs": [],
   "source": []
  },
  {
   "cell_type": "code",
   "execution_count": null,
   "id": "0d297041-49b0-46be-a199-cb03be85b027",
   "metadata": {},
   "outputs": [],
   "source": []
  },
  {
   "cell_type": "code",
   "execution_count": 10,
   "id": "94e924c6-6ecb-4c0f-9691-1ad6876f5871",
   "metadata": {},
   "outputs": [],
   "source": [
    "class ineuron:\n",
    "    def student(self):\n",
    "        print(\"print the details of all the students\")\n",
    "    def achivers(self):\n",
    "        print(\"print the list of all the achiver \")\n",
    "    def hall_of_fame(self):\n",
    "        print(\"print everyone form hall of fame \")\n",
    "\n",
    "\n",
    "\n",
    "class ineuron_vision(ineuron):\n",
    "\n",
    "    def student(self):      #override method\n",
    "        print(\"these are the filters student list \")"
   ]
  },
  {
   "cell_type": "code",
   "execution_count": 11,
   "id": "482d437d-e185-4176-947d-beebcdd09a84",
   "metadata": {},
   "outputs": [],
   "source": [
    "obj = ineuron()"
   ]
  },
  {
   "cell_type": "code",
   "execution_count": 12,
   "id": "63ed07f8-36d3-4487-a150-7ce4b7e7a400",
   "metadata": {},
   "outputs": [
    {
     "name": "stdout",
     "output_type": "stream",
     "text": [
      "print the details of all the students\n"
     ]
    }
   ],
   "source": [
    "obj.student()"
   ]
  },
  {
   "cell_type": "code",
   "execution_count": 13,
   "id": "84327efd-07f5-43bf-b3c2-55d4e31c72b5",
   "metadata": {},
   "outputs": [],
   "source": [
    "obj1 = ineuron_vision()"
   ]
  },
  {
   "cell_type": "code",
   "execution_count": 14,
   "id": "a27f197c-4739-4d41-80f1-3079db406935",
   "metadata": {},
   "outputs": [
    {
     "name": "stdout",
     "output_type": "stream",
     "text": [
      "these are the filters student list \n"
     ]
    }
   ],
   "source": [
    "obj1.student()"
   ]
  },
  {
   "cell_type": "code",
   "execution_count": null,
   "id": "2b070143-b11e-440a-9547-5c98991f75ec",
   "metadata": {},
   "outputs": [],
   "source": []
  },
  {
   "cell_type": "code",
   "execution_count": null,
   "id": "05c3ecd7-3a80-43c7-8706-308e6ceeb5bb",
   "metadata": {},
   "outputs": [],
   "source": []
  },
  {
   "cell_type": "code",
   "execution_count": 20,
   "id": "8bed34a4-cd6c-4277-84d6-55850b6bf015",
   "metadata": {},
   "outputs": [],
   "source": [
    "class ineuron1:\n",
    "    __students = \"data science\"   #data abstraction \n",
    "    clas = \"A\"\n",
    "\n",
    "    def studetns(self):\n",
    "        print(ineuron1.__students)"
   ]
  },
  {
   "cell_type": "code",
   "execution_count": 21,
   "id": "913bd9c0-79c9-4309-b86d-a4ad757144cd",
   "metadata": {},
   "outputs": [],
   "source": [
    "obj3 = ineuron1()"
   ]
  },
  {
   "cell_type": "code",
   "execution_count": 17,
   "id": "faae5d34-d668-4722-bed5-4bd3d42f4310",
   "metadata": {},
   "outputs": [
    {
     "name": "stdout",
     "output_type": "stream",
     "text": [
      "data science\n"
     ]
    }
   ],
   "source": [
    "obj3.studetns()"
   ]
  },
  {
   "cell_type": "code",
   "execution_count": 19,
   "id": "15bb73fb-101d-47f9-a850-c90d66e838ee",
   "metadata": {},
   "outputs": [
    {
     "data": {
      "text/plain": [
       "'data science'"
      ]
     },
     "execution_count": 19,
     "metadata": {},
     "output_type": "execute_result"
    }
   ],
   "source": [
    "obj3._ineuron1__students"
   ]
  },
  {
   "cell_type": "code",
   "execution_count": null,
   "id": "97ec3052-b8ee-4f60-be35-97b60dd37efc",
   "metadata": {},
   "outputs": [],
   "source": []
  },
  {
   "cell_type": "code",
   "execution_count": null,
   "id": "eb9c069b-b343-449c-841c-503a48eb88a6",
   "metadata": {},
   "outputs": [],
   "source": []
  },
  {
   "cell_type": "code",
   "execution_count": 22,
   "id": "59a0713a-f378-44a2-9f18-febc16ede98a",
   "metadata": {},
   "outputs": [],
   "source": [
    "class ineuron2:                      # encpsulation \n",
    "    def __init__(self):\n",
    "        self.students1 = \"data science\"\n",
    "\n",
    "    def students(self):\n",
    "        print(self.students1)\n",
    "\n",
    "\n",
    "\n",
    "class ineuron3:\n",
    "    def __init__(self):\n",
    "        self.__students1 = \"data science \"\n",
    "\n",
    "    def students(self):\n",
    "        print(self.__students1)\n",
    "        \n",
    "    def student_change(self,new_value):\n",
    "        self.__students1 = new_value"
   ]
  },
  {
   "cell_type": "code",
   "execution_count": 23,
   "id": "2de1e0e5-5ea0-4c01-a0fa-6f5a296830b1",
   "metadata": {},
   "outputs": [],
   "source": [
    "obj4 = ineuron2()"
   ]
  },
  {
   "cell_type": "code",
   "execution_count": 25,
   "id": "e76a4b7f-6ae7-4149-ade5-b49419372a92",
   "metadata": {},
   "outputs": [
    {
     "name": "stdout",
     "output_type": "stream",
     "text": [
      "data science\n"
     ]
    }
   ],
   "source": [
    "obj4.students()"
   ]
  },
  {
   "cell_type": "code",
   "execution_count": 26,
   "id": "f54aaea2-598f-45ec-a761-edfa3779af75",
   "metadata": {},
   "outputs": [
    {
     "data": {
      "text/plain": [
       "'data science'"
      ]
     },
     "execution_count": 26,
     "metadata": {},
     "output_type": "execute_result"
    }
   ],
   "source": [
    "obj4.students1"
   ]
  },
  {
   "cell_type": "code",
   "execution_count": 27,
   "id": "d391abe0-3c22-4839-a133-6d99d08bf70e",
   "metadata": {},
   "outputs": [
    {
     "name": "stdout",
     "output_type": "stream",
     "text": [
      "data analytics\n"
     ]
    }
   ],
   "source": [
    "obj4.students1 = \"data analytics\"\n",
    "obj4.students()"
   ]
  },
  {
   "cell_type": "code",
   "execution_count": 28,
   "id": "2434acb8-ce1d-435f-8074-3f621e8ba33f",
   "metadata": {},
   "outputs": [
    {
     "name": "stdout",
     "output_type": "stream",
     "text": [
      "data analytics\n"
     ]
    }
   ],
   "source": [
    "obj4.students()"
   ]
  },
  {
   "cell_type": "code",
   "execution_count": 29,
   "id": "259e8a57-bfb8-4c1b-9ab1-c208ee91fcd8",
   "metadata": {},
   "outputs": [
    {
     "data": {
      "text/plain": [
       "'data analytics'"
      ]
     },
     "execution_count": 29,
     "metadata": {},
     "output_type": "execute_result"
    }
   ],
   "source": [
    "obj4.students1"
   ]
  },
  {
   "cell_type": "code",
   "execution_count": null,
   "id": "3645198f-a5f8-4de1-b80b-feab19765df9",
   "metadata": {},
   "outputs": [],
   "source": []
  },
  {
   "cell_type": "code",
   "execution_count": 30,
   "id": "36ea65d6-25c9-4d9e-a716-4694af2a8011",
   "metadata": {},
   "outputs": [],
   "source": [
    "obj5 = ineuron3()"
   ]
  },
  {
   "cell_type": "code",
   "execution_count": 31,
   "id": "3f916fa0-463a-48b9-b8fa-95b1878db632",
   "metadata": {},
   "outputs": [
    {
     "name": "stdout",
     "output_type": "stream",
     "text": [
      "data science \n"
     ]
    }
   ],
   "source": [
    "obj5.students()"
   ]
  },
  {
   "cell_type": "code",
   "execution_count": 32,
   "id": "77ae99ca-44e0-4abc-bdb0-e2391e49393b",
   "metadata": {},
   "outputs": [
    {
     "data": {
      "text/plain": [
       "'data science '"
      ]
     },
     "execution_count": 32,
     "metadata": {},
     "output_type": "execute_result"
    }
   ],
   "source": [
    "obj5._ineuron3__students1"
   ]
  },
  {
   "cell_type": "code",
   "execution_count": 33,
   "id": "57fd483a-9bbc-47d2-9f67-c8e27f85a59b",
   "metadata": {},
   "outputs": [],
   "source": [
    "obj5._ineuron3__students1  = \"FSDS\""
   ]
  },
  {
   "cell_type": "code",
   "execution_count": 35,
   "id": "818b5096-1794-4750-b1fa-cd2e55de50dc",
   "metadata": {},
   "outputs": [
    {
     "name": "stdout",
     "output_type": "stream",
     "text": [
      "FSDS\n"
     ]
    }
   ],
   "source": [
    "obj5.students()"
   ]
  },
  {
   "cell_type": "code",
   "execution_count": 36,
   "id": "fba5205e-6592-407f-b901-03b293f0159a",
   "metadata": {},
   "outputs": [],
   "source": [
    "obj5.student_change(\"SAP\")"
   ]
  },
  {
   "cell_type": "code",
   "execution_count": 37,
   "id": "d06c4f79-70b5-4db5-8398-766c98339dc7",
   "metadata": {},
   "outputs": [
    {
     "name": "stdout",
     "output_type": "stream",
     "text": [
      "SAP\n"
     ]
    }
   ],
   "source": [
    "obj5.students()"
   ]
  },
  {
   "cell_type": "code",
   "execution_count": 38,
   "id": "daa5e568-cd70-4e33-b432-ca2ae3d8d5f6",
   "metadata": {},
   "outputs": [
    {
     "name": "stdout",
     "output_type": "stream",
     "text": [
      "SAP\n"
     ]
    }
   ],
   "source": [
    "obj5.students()"
   ]
  },
  {
   "cell_type": "code",
   "execution_count": null,
   "id": "f3db244c-929d-4410-a689-797c074b8808",
   "metadata": {},
   "outputs": [],
   "source": []
  },
  {
   "cell_type": "code",
   "execution_count": null,
   "id": "d298fc82-8141-49b5-a1b8-eef719f04fac",
   "metadata": {},
   "outputs": [],
   "source": []
  },
  {
   "cell_type": "code",
   "execution_count": 40,
   "id": "89743ae2-4159-4222-80ee-5c5a5fb81c3e",
   "metadata": {},
   "outputs": [],
   "source": [
    "class ineuron4:\n",
    "    def students(self):\n",
    "        print(\"print a students details \")\n",
    "\n",
    "class class_type :\n",
    "    def student1(self):\n",
    "        print(\"print the class type of students\")"
   ]
  },
  {
   "cell_type": "code",
   "execution_count": 41,
   "id": "1b05ecf6-007f-4173-a9f6-941c785b82ef",
   "metadata": {},
   "outputs": [],
   "source": [
    "obj6 = ineuron4()"
   ]
  },
  {
   "cell_type": "code",
   "execution_count": 42,
   "id": "d719c2cf-3165-4bee-b4e8-08af07f8c0b0",
   "metadata": {},
   "outputs": [],
   "source": [
    "obj7 = class_type()"
   ]
  },
  {
   "cell_type": "code",
   "execution_count": 43,
   "id": "6cc95f19-a37f-486e-9610-6d8f09862af9",
   "metadata": {},
   "outputs": [],
   "source": [
    "def ineuron_external(a,b):\n",
    "    a.students()\n",
    "    b.student1()"
   ]
  },
  {
   "cell_type": "code",
   "execution_count": 44,
   "id": "1058b4d6-8dbd-4cd1-9acc-82d0f90f1bf9",
   "metadata": {},
   "outputs": [
    {
     "name": "stdout",
     "output_type": "stream",
     "text": [
      "print a students details \n",
      "print the class type of students\n"
     ]
    }
   ],
   "source": [
    "ineuron_external(obj6, obj7)"
   ]
  },
  {
   "cell_type": "raw",
   "id": "c5df0e11-aa2a-4585-b31d-b1bbb535a5d7",
   "metadata": {},
   "source": [
    "### Polymorphism"
   ]
  },
  {
   "cell_type": "code",
   "execution_count": null,
   "id": "c0083d50-eafa-43cd-8dbc-7db6b3002acb",
   "metadata": {},
   "outputs": [],
   "source": [
    "# class = atributes\n",
    "# __inti__ = constructor\n",
    "# self = pointer\n",
    "# def = method\n",
    "# package  (directory) \n",
    "# module   (file)\n",
    "# class  \n",
    "# method\n",
    "# inheritence\n",
    "# multilevel inheritence\n",
    "# multiple inheritence\n",
    "# overide method\n",
    "# public\n",
    "# private\n",
    "# protective\n",
    "# data abstraction\n",
    "# encapsulation\n",
    "# polymorphism "
   ]
  },
  {
   "cell_type": "code",
   "execution_count": null,
   "id": "a67e296a-1708-4c43-8477-abde53880e75",
   "metadata": {},
   "outputs": [],
   "source": []
  },
  {
   "cell_type": "code",
   "execution_count": 45,
   "id": "d19c3bdf-4c1b-4f6a-a172-1df96d0858a6",
   "metadata": {},
   "outputs": [],
   "source": [
    "class OuterClass:\n",
    "    def __init__(self, outer_value):\n",
    "        self.outer_value = outer_value\n",
    "        \n",
    "    def show_outer(self):\n",
    "        print(f\"Outer class value: {self.outer_value}\")\n",
    "\n",
    "    # Nested class\n",
    "    class InnerClass:\n",
    "        def __init__(self, inner_value):\n",
    "            self.inner_value = inner_value\n",
    "\n",
    "        def show_inner(self):\n",
    "            print(f\"Inner class value: {self.inner_value}\")"
   ]
  },
  {
   "cell_type": "code",
   "execution_count": 46,
   "id": "b146ddf1-5481-4472-a9ba-1b0b5e67b521",
   "metadata": {},
   "outputs": [
    {
     "name": "stdout",
     "output_type": "stream",
     "text": [
      "Outer class value: Hello from Outer Class\n"
     ]
    }
   ],
   "source": [
    "# Creating an instance of the OuterClass\n",
    "outer_instance = OuterClass(\"Hello from Outer Class\")\n",
    "outer_instance.show_outer()"
   ]
  },
  {
   "cell_type": "code",
   "execution_count": 47,
   "id": "13de5104-4e8d-4017-af0a-d995509c8353",
   "metadata": {},
   "outputs": [
    {
     "name": "stdout",
     "output_type": "stream",
     "text": [
      "Inner class value: Hello from Inner Class\n"
     ]
    }
   ],
   "source": [
    "# Creating an instance of the InnerClass\n",
    "inner_instance = OuterClass.InnerClass(\"Hello from Inner Class\")\n",
    "inner_instance.show_inner()"
   ]
  },
  {
   "cell_type": "code",
   "execution_count": null,
   "id": "6c8e5862-2238-4ed5-997f-064a1bd8753a",
   "metadata": {},
   "outputs": [],
   "source": []
  },
  {
   "cell_type": "code",
   "execution_count": 49,
   "id": "0fb6dba3-0fb6-4de5-af46-6410388f9fc5",
   "metadata": {},
   "outputs": [
    {
     "name": "stdout",
     "output_type": "stream",
     "text": [
      "Deposited $150. New balance is $650\n",
      "Withdrew $100. Remaining balance is $550\n",
      "Final balance: $550\n"
     ]
    }
   ],
   "source": [
    "class BankAccount:\n",
    "    def __init__(self, account_holder, balance=0):\n",
    "        # Constructor to initialize the account holder and balance\n",
    "        self.account_holder = account_holder\n",
    "        self.balance = balance\n",
    "\n",
    "    def deposit(self, amount):\n",
    "        # Method to deposit money into the account\n",
    "        if amount > 0:\n",
    "            self.balance += amount\n",
    "            print(f\"Deposited ${amount}. New balance is ${self.balance}\")\n",
    "        else:\n",
    "            print(\"Deposit amount must be positive.\")\n",
    "\n",
    "    def withdraw(self, amount):\n",
    "        # Method to withdraw money from the account\n",
    "        if 0 < amount <= self.balance:\n",
    "            self.balance -= amount\n",
    "            print(f\"Withdrew ${amount}. Remaining balance is ${self.balance}\")\n",
    "        else:\n",
    "            print(\"Insufficient funds or invalid amount.\")\n",
    "\n",
    "    def get_balance(self):\n",
    "        # Method to get the current balance\n",
    "        return self.balance\n",
    "\n",
    "# Create an instance of BankAccount\n",
    "account = BankAccount(\"Alice\", 500)\n",
    "\n",
    "# Deposit money\n",
    "account.deposit(150)\n",
    "\n",
    "# Withdraw money\n",
    "account.withdraw(100)\n",
    "\n",
    "# Check balance\n",
    "print(f\"Final balance: ${account.get_balance()}\")\n"
   ]
  },
  {
   "cell_type": "code",
   "execution_count": null,
   "id": "4b533ad4-469f-4f9c-b4cb-c5b8030ebd70",
   "metadata": {},
   "outputs": [],
   "source": []
  }
 ],
 "metadata": {
  "kernelspec": {
   "display_name": "Python 3 (ipykernel)",
   "language": "python",
   "name": "python3"
  },
  "language_info": {
   "codemirror_mode": {
    "name": "ipython",
    "version": 3
   },
   "file_extension": ".py",
   "mimetype": "text/x-python",
   "name": "python",
   "nbconvert_exporter": "python",
   "pygments_lexer": "ipython3",
   "version": "3.11.7"
  }
 },
 "nbformat": 4,
 "nbformat_minor": 5
}
