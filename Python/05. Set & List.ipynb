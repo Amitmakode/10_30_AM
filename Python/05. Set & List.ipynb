{
 "cells": [
  {
   "cell_type": "markdown",
   "id": "aea39a6b-c459-46ed-8fe5-c08ef6f75db4",
   "metadata": {},
   "source": [
    "## List"
   ]
  },
  {
   "cell_type": "code",
   "execution_count": 23,
   "id": "6b51956a-8e28-470b-8207-7cf6aab343f6",
   "metadata": {},
   "outputs": [],
   "source": [
    "# Creating a list of integers\n",
    "my_list = [1, 2, 3, 4, 5]\n",
    "\n",
    "# Creating a list of strings\n",
    "fruits = ['apple', 'banana', 'cherry']"
   ]
  },
  {
   "cell_type": "code",
   "execution_count": 2,
   "id": "f15174bc-ad1c-4475-a1ff-fc8bd7fb80aa",
   "metadata": {},
   "outputs": [
    {
     "data": {
      "text/plain": [
       "['__add__',\n",
       " '__class__',\n",
       " '__class_getitem__',\n",
       " '__contains__',\n",
       " '__delattr__',\n",
       " '__delitem__',\n",
       " '__dir__',\n",
       " '__doc__',\n",
       " '__eq__',\n",
       " '__format__',\n",
       " '__ge__',\n",
       " '__getattribute__',\n",
       " '__getitem__',\n",
       " '__getstate__',\n",
       " '__gt__',\n",
       " '__hash__',\n",
       " '__iadd__',\n",
       " '__imul__',\n",
       " '__init__',\n",
       " '__init_subclass__',\n",
       " '__iter__',\n",
       " '__le__',\n",
       " '__len__',\n",
       " '__lt__',\n",
       " '__mul__',\n",
       " '__ne__',\n",
       " '__new__',\n",
       " '__reduce__',\n",
       " '__reduce_ex__',\n",
       " '__repr__',\n",
       " '__reversed__',\n",
       " '__rmul__',\n",
       " '__setattr__',\n",
       " '__setitem__',\n",
       " '__sizeof__',\n",
       " '__str__',\n",
       " '__subclasshook__',\n",
       " 'append',\n",
       " 'clear',\n",
       " 'copy',\n",
       " 'count',\n",
       " 'extend',\n",
       " 'index',\n",
       " 'insert',\n",
       " 'pop',\n",
       " 'remove',\n",
       " 'reverse',\n",
       " 'sort']"
      ]
     },
     "execution_count": 2,
     "metadata": {},
     "output_type": "execute_result"
    }
   ],
   "source": [
    "dir(list)"
   ]
  },
  {
   "cell_type": "code",
   "execution_count": 4,
   "id": "2579f9c9-3379-40b3-a129-f2120fa96d6b",
   "metadata": {},
   "outputs": [],
   "source": [
    "my_list.clear()"
   ]
  },
  {
   "cell_type": "code",
   "execution_count": 5,
   "id": "9e04525f-ce39-41d9-9d73-556ca6941fc9",
   "metadata": {},
   "outputs": [
    {
     "data": {
      "text/plain": [
       "[]"
      ]
     },
     "execution_count": 5,
     "metadata": {},
     "output_type": "execute_result"
    }
   ],
   "source": [
    "my_list"
   ]
  },
  {
   "cell_type": "code",
   "execution_count": 8,
   "id": "2943bbbd-79bf-4182-b65d-d8695715a537",
   "metadata": {},
   "outputs": [],
   "source": [
    "lis = my_list.copy()"
   ]
  },
  {
   "cell_type": "code",
   "execution_count": 9,
   "id": "12dc8be8-e517-44b2-bf15-2f617f5092ca",
   "metadata": {},
   "outputs": [
    {
     "data": {
      "text/plain": [
       "[1, 2, 3, 4, 5]"
      ]
     },
     "execution_count": 9,
     "metadata": {},
     "output_type": "execute_result"
    }
   ],
   "source": [
    "lis"
   ]
  },
  {
   "cell_type": "code",
   "execution_count": 10,
   "id": "9e42889b-0f03-4494-9b16-3e8721fde88d",
   "metadata": {},
   "outputs": [
    {
     "data": {
      "text/plain": [
       "1"
      ]
     },
     "execution_count": 10,
     "metadata": {},
     "output_type": "execute_result"
    }
   ],
   "source": [
    "lis.count(1)"
   ]
  },
  {
   "cell_type": "code",
   "execution_count": 24,
   "id": "619d82ab-985e-4ff1-916d-ba941873e805",
   "metadata": {},
   "outputs": [
    {
     "data": {
      "text/plain": [
       "4"
      ]
     },
     "execution_count": 24,
     "metadata": {},
     "output_type": "execute_result"
    }
   ],
   "source": [
    "lis.index(5)"
   ]
  },
  {
   "cell_type": "code",
   "execution_count": null,
   "id": "7265470a-15f2-4bf1-bdeb-8ebb112da788",
   "metadata": {},
   "outputs": [],
   "source": [
    "iterable - str, list, set, tuple, dict\n",
    "non-iterable - int, float, complex, bool"
   ]
  },
  {
   "cell_type": "code",
   "execution_count": 27,
   "id": "3266cb13-14de-412b-a27e-6fa498a436b2",
   "metadata": {},
   "outputs": [],
   "source": [
    "fruits.append(\"Mango\")"
   ]
  },
  {
   "cell_type": "code",
   "execution_count": 29,
   "id": "97299089-83a4-4aef-a927-666c4c621a21",
   "metadata": {},
   "outputs": [],
   "source": [
    "fruits.append(45)"
   ]
  },
  {
   "cell_type": "code",
   "execution_count": 31,
   "id": "988ae5a1-65fd-4fc1-855e-960541863c19",
   "metadata": {},
   "outputs": [],
   "source": [
    "fruits.append((\"R\", \"B\", \"G\"))"
   ]
  },
  {
   "cell_type": "code",
   "execution_count": 32,
   "id": "a2e29d6a-b85c-4d45-8c53-7264bad72123",
   "metadata": {},
   "outputs": [
    {
     "data": {
      "text/plain": [
       "['apple', 'banana', 'cherry', 'Mango', 45, ('R', 'B', 'G')]"
      ]
     },
     "execution_count": 32,
     "metadata": {},
     "output_type": "execute_result"
    }
   ],
   "source": [
    "fruits"
   ]
  },
  {
   "cell_type": "code",
   "execution_count": 33,
   "id": "220c5144-cb1a-48a7-8f4e-6d4fbd2fd487",
   "metadata": {},
   "outputs": [
    {
     "ename": "TypeError",
     "evalue": "'int' object is not iterable",
     "output_type": "error",
     "traceback": [
      "\u001b[1;31m---------------------------------------------------------------------------\u001b[0m",
      "\u001b[1;31mTypeError\u001b[0m                                 Traceback (most recent call last)",
      "Cell \u001b[1;32mIn[33], line 1\u001b[0m\n\u001b[1;32m----> 1\u001b[0m fruits\u001b[38;5;241m.\u001b[39mextend(\u001b[38;5;241m34\u001b[39m)\n",
      "\u001b[1;31mTypeError\u001b[0m: 'int' object is not iterable"
     ]
    }
   ],
   "source": [
    "fruits.extend(34)"
   ]
  },
  {
   "cell_type": "code",
   "execution_count": 34,
   "id": "af1d7fd4-91c0-47d0-a25b-3cc80bc72b5d",
   "metadata": {},
   "outputs": [],
   "source": [
    "fruits.extend(\"Chiku\")"
   ]
  },
  {
   "cell_type": "code",
   "execution_count": 35,
   "id": "ea16ef5e-783c-46c8-8f03-2820165df0a2",
   "metadata": {},
   "outputs": [
    {
     "data": {
      "text/plain": [
       "['apple',\n",
       " 'banana',\n",
       " 'cherry',\n",
       " 'Mango',\n",
       " 45,\n",
       " ('R', 'B', 'G'),\n",
       " 'C',\n",
       " 'h',\n",
       " 'i',\n",
       " 'k',\n",
       " 'u']"
      ]
     },
     "execution_count": 35,
     "metadata": {},
     "output_type": "execute_result"
    }
   ],
   "source": [
    "fruits"
   ]
  },
  {
   "cell_type": "code",
   "execution_count": 36,
   "id": "683e8698-2c54-497f-b49f-0c6e88de7366",
   "metadata": {},
   "outputs": [],
   "source": [
    "fruits.extend([1,2,3])"
   ]
  },
  {
   "cell_type": "code",
   "execution_count": 37,
   "id": "41a027c8-41ab-4ad2-9689-76ec7f1ff3d6",
   "metadata": {},
   "outputs": [
    {
     "data": {
      "text/plain": [
       "['apple',\n",
       " 'banana',\n",
       " 'cherry',\n",
       " 'Mango',\n",
       " 45,\n",
       " ('R', 'B', 'G'),\n",
       " 'C',\n",
       " 'h',\n",
       " 'i',\n",
       " 'k',\n",
       " 'u',\n",
       " 1,\n",
       " 2,\n",
       " 3]"
      ]
     },
     "execution_count": 37,
     "metadata": {},
     "output_type": "execute_result"
    }
   ],
   "source": [
    "fruits"
   ]
  },
  {
   "cell_type": "code",
   "execution_count": 39,
   "id": "0e64cb5c-d747-4133-8ea3-d147bac070fc",
   "metadata": {},
   "outputs": [],
   "source": [
    "fruits.insert(1,\"dragon\")"
   ]
  },
  {
   "cell_type": "code",
   "execution_count": 40,
   "id": "86c400a5-3ca8-44c9-ad56-a98c0487ae71",
   "metadata": {},
   "outputs": [
    {
     "data": {
      "text/plain": [
       "['apple',\n",
       " 'dragon',\n",
       " 'banana',\n",
       " 'cherry',\n",
       " 'Mango',\n",
       " 45,\n",
       " ('R', 'B', 'G'),\n",
       " 'C',\n",
       " 'h',\n",
       " 'i',\n",
       " 'k',\n",
       " 'u',\n",
       " 1,\n",
       " 2,\n",
       " 3]"
      ]
     },
     "execution_count": 40,
     "metadata": {},
     "output_type": "execute_result"
    }
   ],
   "source": [
    "fruits"
   ]
  },
  {
   "cell_type": "code",
   "execution_count": 41,
   "id": "af22baaf-d2ea-4931-b6c4-d797af45030a",
   "metadata": {},
   "outputs": [],
   "source": [
    "fruits.insert(0, \"orange\")"
   ]
  },
  {
   "cell_type": "code",
   "execution_count": 42,
   "id": "d1c2a56a-6d31-46f7-a413-489b379bbd1b",
   "metadata": {},
   "outputs": [
    {
     "data": {
      "text/plain": [
       "['orange',\n",
       " 'apple',\n",
       " 'dragon',\n",
       " 'banana',\n",
       " 'cherry',\n",
       " 'Mango',\n",
       " 45,\n",
       " ('R', 'B', 'G'),\n",
       " 'C',\n",
       " 'h',\n",
       " 'i',\n",
       " 'k',\n",
       " 'u',\n",
       " 1,\n",
       " 2,\n",
       " 3]"
      ]
     },
     "execution_count": 42,
     "metadata": {},
     "output_type": "execute_result"
    }
   ],
   "source": [
    "fruits"
   ]
  },
  {
   "cell_type": "code",
   "execution_count": 43,
   "id": "6d06c276-2575-4d16-8c89-c0a87f3a78fb",
   "metadata": {},
   "outputs": [
    {
     "data": {
      "text/plain": [
       "3"
      ]
     },
     "execution_count": 43,
     "metadata": {},
     "output_type": "execute_result"
    }
   ],
   "source": [
    "fruits.pop()"
   ]
  },
  {
   "cell_type": "code",
   "execution_count": 48,
   "id": "8c45ad6e-2b7c-46f3-9332-69db718c5d3d",
   "metadata": {},
   "outputs": [
    {
     "data": {
      "text/plain": [
       "'k'"
      ]
     },
     "execution_count": 48,
     "metadata": {},
     "output_type": "execute_result"
    }
   ],
   "source": [
    "fruits.pop()"
   ]
  },
  {
   "cell_type": "code",
   "execution_count": 50,
   "id": "c1a5483f-d775-4d09-92f2-68707cd0ce0f",
   "metadata": {},
   "outputs": [
    {
     "data": {
      "text/plain": [
       "'dragon'"
      ]
     },
     "execution_count": 50,
     "metadata": {},
     "output_type": "execute_result"
    }
   ],
   "source": [
    "fruits.pop(2)"
   ]
  },
  {
   "cell_type": "code",
   "execution_count": 52,
   "id": "50756047-c0a2-49dd-8b82-99d9f922f3bf",
   "metadata": {},
   "outputs": [],
   "source": [
    "fruits.remove(45)"
   ]
  },
  {
   "cell_type": "code",
   "execution_count": 53,
   "id": "b5ec1bc2-cfee-4ff5-a8d8-e21c69d62d52",
   "metadata": {},
   "outputs": [
    {
     "data": {
      "text/plain": [
       "['orange',\n",
       " 'apple',\n",
       " 'banana',\n",
       " 'cherry',\n",
       " 'Mango',\n",
       " ('R', 'B', 'G'),\n",
       " 'C',\n",
       " 'h',\n",
       " 'i']"
      ]
     },
     "execution_count": 53,
     "metadata": {},
     "output_type": "execute_result"
    }
   ],
   "source": [
    "fruits"
   ]
  },
  {
   "cell_type": "code",
   "execution_count": 54,
   "id": "00111f61-1764-42fa-82b4-212827983eb6",
   "metadata": {},
   "outputs": [],
   "source": [
    "fruits.reverse()"
   ]
  },
  {
   "cell_type": "code",
   "execution_count": 55,
   "id": "11f86046-3eb7-4218-ae09-9a0fd25bc46c",
   "metadata": {},
   "outputs": [
    {
     "data": {
      "text/plain": [
       "['i',\n",
       " 'h',\n",
       " 'C',\n",
       " ('R', 'B', 'G'),\n",
       " 'Mango',\n",
       " 'cherry',\n",
       " 'banana',\n",
       " 'apple',\n",
       " 'orange']"
      ]
     },
     "execution_count": 55,
     "metadata": {},
     "output_type": "execute_result"
    }
   ],
   "source": [
    "fruits"
   ]
  },
  {
   "cell_type": "code",
   "execution_count": 56,
   "id": "3520eb8e-9d5d-4ceb-82d0-54449eb18598",
   "metadata": {},
   "outputs": [
    {
     "ename": "TypeError",
     "evalue": "'<' not supported between instances of 'tuple' and 'str'",
     "output_type": "error",
     "traceback": [
      "\u001b[1;31m---------------------------------------------------------------------------\u001b[0m",
      "\u001b[1;31mTypeError\u001b[0m                                 Traceback (most recent call last)",
      "Cell \u001b[1;32mIn[56], line 1\u001b[0m\n\u001b[1;32m----> 1\u001b[0m fruits\u001b[38;5;241m.\u001b[39msort()\n",
      "\u001b[1;31mTypeError\u001b[0m: '<' not supported between instances of 'tuple' and 'str'"
     ]
    }
   ],
   "source": [
    "fruits.sort()"
   ]
  },
  {
   "cell_type": "code",
   "execution_count": 57,
   "id": "defc9f17-4664-4e14-ac6b-7481ecbdb954",
   "metadata": {},
   "outputs": [
    {
     "data": {
      "text/plain": [
       "('R', 'B', 'G')"
      ]
     },
     "execution_count": 57,
     "metadata": {},
     "output_type": "execute_result"
    }
   ],
   "source": [
    "fruits.pop(3)"
   ]
  },
  {
   "cell_type": "code",
   "execution_count": 59,
   "id": "88fd4daf-e701-43bf-9744-88d94471399a",
   "metadata": {},
   "outputs": [],
   "source": [
    "fruits.sort()"
   ]
  },
  {
   "cell_type": "code",
   "execution_count": 60,
   "id": "c5b64b3f-f61b-48a9-acd3-882383966c52",
   "metadata": {},
   "outputs": [
    {
     "data": {
      "text/plain": [
       "['C', 'Mango', 'apple', 'banana', 'cherry', 'h', 'i', 'orange']"
      ]
     },
     "execution_count": 60,
     "metadata": {},
     "output_type": "execute_result"
    }
   ],
   "source": [
    "fruits"
   ]
  },
  {
   "cell_type": "code",
   "execution_count": 61,
   "id": "be3eea54-96a6-4ae5-aa96-bf2f32f2283c",
   "metadata": {},
   "outputs": [],
   "source": [
    "fruits.sort(reverse=True)"
   ]
  },
  {
   "cell_type": "code",
   "execution_count": 62,
   "id": "fa1b3361-d0a7-4d72-a137-0d16aa13346a",
   "metadata": {},
   "outputs": [
    {
     "data": {
      "text/plain": [
       "['orange', 'i', 'h', 'cherry', 'banana', 'apple', 'Mango', 'C']"
      ]
     },
     "execution_count": 62,
     "metadata": {},
     "output_type": "execute_result"
    }
   ],
   "source": [
    "fruits"
   ]
  },
  {
   "cell_type": "code",
   "execution_count": 63,
   "id": "227b7c0f-f8c2-46e6-81c4-b64bc393057d",
   "metadata": {},
   "outputs": [],
   "source": [
    "fruits.clear()"
   ]
  },
  {
   "cell_type": "code",
   "execution_count": 64,
   "id": "36b4c883-3963-49af-805c-feaf72a729ac",
   "metadata": {},
   "outputs": [
    {
     "data": {
      "text/plain": [
       "[]"
      ]
     },
     "execution_count": 64,
     "metadata": {},
     "output_type": "execute_result"
    }
   ],
   "source": [
    "fruits"
   ]
  },
  {
   "cell_type": "markdown",
   "id": "07243915-be7b-47e6-848f-5d7110c0e33e",
   "metadata": {},
   "source": [
    "## Set"
   ]
  },
  {
   "cell_type": "code",
   "execution_count": 65,
   "id": "bfe20d15-9e75-4227-8d05-a372fffa0184",
   "metadata": {},
   "outputs": [],
   "source": [
    "# Creating sets\n",
    "set1 = {1, 2, 3, 4, 5}\n",
    "\n",
    "set2 = set([3, 4, 5, 6, 7])"
   ]
  },
  {
   "cell_type": "code",
   "execution_count": 66,
   "id": "3812f677-0be8-4258-9489-34bd18baec3b",
   "metadata": {},
   "outputs": [
    {
     "data": {
      "text/plain": [
       "{1, 2, 3, 4, 5}"
      ]
     },
     "execution_count": 66,
     "metadata": {},
     "output_type": "execute_result"
    }
   ],
   "source": [
    "set1"
   ]
  },
  {
   "cell_type": "code",
   "execution_count": 67,
   "id": "43ad813a-d66a-4465-86ee-eb892628d648",
   "metadata": {},
   "outputs": [
    {
     "data": {
      "text/plain": [
       "{3, 4, 5, 6, 7}"
      ]
     },
     "execution_count": 67,
     "metadata": {},
     "output_type": "execute_result"
    }
   ],
   "source": [
    "set2"
   ]
  },
  {
   "cell_type": "code",
   "execution_count": 68,
   "id": "d4a321e4-59cf-457a-90fd-701212cf5435",
   "metadata": {},
   "outputs": [],
   "source": [
    "s = {2,3,4,5,2,3,4}"
   ]
  },
  {
   "cell_type": "code",
   "execution_count": 69,
   "id": "00e14fa9-8f38-40a0-ad91-e42f194e1f7a",
   "metadata": {},
   "outputs": [
    {
     "data": {
      "text/plain": [
       "{2, 3, 4, 5}"
      ]
     },
     "execution_count": 69,
     "metadata": {},
     "output_type": "execute_result"
    }
   ],
   "source": [
    "s"
   ]
  },
  {
   "cell_type": "code",
   "execution_count": 70,
   "id": "75debda7-4280-4f68-8f4f-98fd6809ab4a",
   "metadata": {},
   "outputs": [
    {
     "data": {
      "text/plain": [
       "['__and__',\n",
       " '__class__',\n",
       " '__class_getitem__',\n",
       " '__contains__',\n",
       " '__delattr__',\n",
       " '__dir__',\n",
       " '__doc__',\n",
       " '__eq__',\n",
       " '__format__',\n",
       " '__ge__',\n",
       " '__getattribute__',\n",
       " '__getstate__',\n",
       " '__gt__',\n",
       " '__hash__',\n",
       " '__iand__',\n",
       " '__init__',\n",
       " '__init_subclass__',\n",
       " '__ior__',\n",
       " '__isub__',\n",
       " '__iter__',\n",
       " '__ixor__',\n",
       " '__le__',\n",
       " '__len__',\n",
       " '__lt__',\n",
       " '__ne__',\n",
       " '__new__',\n",
       " '__or__',\n",
       " '__rand__',\n",
       " '__reduce__',\n",
       " '__reduce_ex__',\n",
       " '__repr__',\n",
       " '__ror__',\n",
       " '__rsub__',\n",
       " '__rxor__',\n",
       " '__setattr__',\n",
       " '__sizeof__',\n",
       " '__str__',\n",
       " '__sub__',\n",
       " '__subclasshook__',\n",
       " '__xor__',\n",
       " 'add',\n",
       " 'clear',\n",
       " 'copy',\n",
       " 'difference',\n",
       " 'difference_update',\n",
       " 'discard',\n",
       " 'intersection',\n",
       " 'intersection_update',\n",
       " 'isdisjoint',\n",
       " 'issubset',\n",
       " 'issuperset',\n",
       " 'pop',\n",
       " 'remove',\n",
       " 'symmetric_difference',\n",
       " 'symmetric_difference_update',\n",
       " 'union',\n",
       " 'update']"
      ]
     },
     "execution_count": 70,
     "metadata": {},
     "output_type": "execute_result"
    }
   ],
   "source": [
    "dir(set)"
   ]
  },
  {
   "cell_type": "code",
   "execution_count": 73,
   "id": "922504e1-dc52-42b5-8b25-f50283c74779",
   "metadata": {},
   "outputs": [],
   "source": [
    "set1.add(44)"
   ]
  },
  {
   "cell_type": "code",
   "execution_count": 75,
   "id": "4f146bd9-edbf-4cda-aaee-34480f4d6a88",
   "metadata": {},
   "outputs": [],
   "source": [
    "set1.add(0)"
   ]
  },
  {
   "cell_type": "code",
   "execution_count": 76,
   "id": "81e38387-b7e9-432c-b671-a210e0cdae89",
   "metadata": {},
   "outputs": [
    {
     "data": {
      "text/plain": [
       "{0, 1, 2, 3, 4, 5, 44}"
      ]
     },
     "execution_count": 76,
     "metadata": {},
     "output_type": "execute_result"
    }
   ],
   "source": [
    "set1"
   ]
  },
  {
   "cell_type": "code",
   "execution_count": 78,
   "id": "a91d32a4-b04f-4b9b-ac3f-f93a040b8443",
   "metadata": {},
   "outputs": [],
   "source": [
    "set1.discard(44)"
   ]
  },
  {
   "cell_type": "code",
   "execution_count": 79,
   "id": "a02bcf6d-fac8-4ce1-a645-48857117b99b",
   "metadata": {},
   "outputs": [
    {
     "data": {
      "text/plain": [
       "{0, 1, 2, 3, 4, 5}"
      ]
     },
     "execution_count": 79,
     "metadata": {},
     "output_type": "execute_result"
    }
   ],
   "source": [
    "set1"
   ]
  },
  {
   "cell_type": "code",
   "execution_count": 80,
   "id": "403ac1cb-4bb5-4e71-9471-e1ffd3d45d24",
   "metadata": {},
   "outputs": [
    {
     "data": {
      "text/plain": [
       "0"
      ]
     },
     "execution_count": 80,
     "metadata": {},
     "output_type": "execute_result"
    }
   ],
   "source": [
    "set1.pop()"
   ]
  },
  {
   "cell_type": "code",
   "execution_count": 85,
   "id": "ecd74c62-0c1b-473c-a419-94fabee4d990",
   "metadata": {},
   "outputs": [
    {
     "data": {
      "text/plain": [
       "5"
      ]
     },
     "execution_count": 85,
     "metadata": {},
     "output_type": "execute_result"
    }
   ],
   "source": [
    "set1.pop()"
   ]
  },
  {
   "cell_type": "code",
   "execution_count": 86,
   "id": "b108799a-0f22-4d80-b393-62ae99bd6694",
   "metadata": {},
   "outputs": [
    {
     "data": {
      "text/plain": [
       "set()"
      ]
     },
     "execution_count": 86,
     "metadata": {},
     "output_type": "execute_result"
    }
   ],
   "source": [
    "set1"
   ]
  },
  {
   "cell_type": "code",
   "execution_count": 87,
   "id": "a59a8bf9-e64a-4814-bae2-66ef456c34d1",
   "metadata": {},
   "outputs": [],
   "source": [
    "set = {\"R\", \"B\", \"G\"}"
   ]
  },
  {
   "cell_type": "code",
   "execution_count": 88,
   "id": "e7115e94-e468-4656-9e27-3e01206ab3d9",
   "metadata": {},
   "outputs": [
    {
     "data": {
      "text/plain": [
       "{'B', 'G', 'R'}"
      ]
     },
     "execution_count": 88,
     "metadata": {},
     "output_type": "execute_result"
    }
   ],
   "source": [
    "set"
   ]
  },
  {
   "cell_type": "code",
   "execution_count": 89,
   "id": "1460d7f8-58e1-4a94-a2b6-4351fc43e6db",
   "metadata": {},
   "outputs": [
    {
     "data": {
      "text/plain": [
       "'R'"
      ]
     },
     "execution_count": 89,
     "metadata": {},
     "output_type": "execute_result"
    }
   ],
   "source": [
    "set.pop()"
   ]
  },
  {
   "cell_type": "code",
   "execution_count": 92,
   "id": "c8165e12-5f16-43fa-aa1d-61e499f106a5",
   "metadata": {},
   "outputs": [],
   "source": [
    "set2.remove(5)"
   ]
  },
  {
   "cell_type": "code",
   "execution_count": 93,
   "id": "fc657d04-67f6-468a-ab22-00ccf66d7734",
   "metadata": {},
   "outputs": [
    {
     "data": {
      "text/plain": [
       "{3, 4, 6, 7}"
      ]
     },
     "execution_count": 93,
     "metadata": {},
     "output_type": "execute_result"
    }
   ],
   "source": [
    "set2"
   ]
  },
  {
   "cell_type": "code",
   "execution_count": 94,
   "id": "75060931-42a0-4090-a9f3-2add8d24e647",
   "metadata": {},
   "outputs": [],
   "source": [
    "set2.add(3)"
   ]
  },
  {
   "cell_type": "code",
   "execution_count": 96,
   "id": "5d2688a8-d583-4c70-8b6d-8183987af9f7",
   "metadata": {},
   "outputs": [
    {
     "data": {
      "text/plain": [
       "{3, 4, 6, 7}"
      ]
     },
     "execution_count": 96,
     "metadata": {},
     "output_type": "execute_result"
    }
   ],
   "source": [
    "set2"
   ]
  },
  {
   "cell_type": "code",
   "execution_count": 97,
   "id": "411ed7ac-5829-4867-a470-fd0a15adcf1f",
   "metadata": {},
   "outputs": [],
   "source": [
    "# updates\n",
    "\n",
    "s1 = {1, 2, 3}\n",
    "s2 = {3, 4, 5}\n",
    "s1.update(s2)   "
   ]
  },
  {
   "cell_type": "code",
   "execution_count": 98,
   "id": "e26ff01b-8726-41c1-9555-889bb5f1bda0",
   "metadata": {},
   "outputs": [
    {
     "data": {
      "text/plain": [
       "{1, 2, 3, 4, 5}"
      ]
     },
     "execution_count": 98,
     "metadata": {},
     "output_type": "execute_result"
    }
   ],
   "source": [
    "s1"
   ]
  },
  {
   "cell_type": "code",
   "execution_count": 99,
   "id": "01a76d66-f819-4401-9def-9dc7120ee046",
   "metadata": {},
   "outputs": [],
   "source": [
    "# discard\n",
    "\n",
    "s = {1, 2, 3}\n",
    "s.discard(7) "
   ]
  },
  {
   "cell_type": "code",
   "execution_count": 100,
   "id": "00f5a5c7-e07c-4477-be8f-409779ea0e22",
   "metadata": {},
   "outputs": [
    {
     "data": {
      "text/plain": [
       "{1, 2, 3}"
      ]
     },
     "execution_count": 100,
     "metadata": {},
     "output_type": "execute_result"
    }
   ],
   "source": [
    "s"
   ]
  },
  {
   "cell_type": "code",
   "execution_count": 101,
   "id": "462ad257-4562-4799-8993-85d746f76952",
   "metadata": {},
   "outputs": [
    {
     "ename": "KeyError",
     "evalue": "4",
     "output_type": "error",
     "traceback": [
      "\u001b[1;31m---------------------------------------------------------------------------\u001b[0m",
      "\u001b[1;31mKeyError\u001b[0m                                  Traceback (most recent call last)",
      "Cell \u001b[1;32mIn[101], line 1\u001b[0m\n\u001b[1;32m----> 1\u001b[0m s\u001b[38;5;241m.\u001b[39mremove(\u001b[38;5;241m4\u001b[39m)\n",
      "\u001b[1;31mKeyError\u001b[0m: 4"
     ]
    }
   ],
   "source": [
    "s.remove(4)"
   ]
  },
  {
   "cell_type": "code",
   "execution_count": 102,
   "id": "e1ea1293-762f-4f56-a040-1715f24e760c",
   "metadata": {},
   "outputs": [],
   "source": [
    "# union\n",
    "\n",
    "s1 = {1, 2, 3}\n",
    "s2 = {3, 4, 5}\n",
    "\n",
    "s3 = s1.union(s2)"
   ]
  },
  {
   "cell_type": "code",
   "execution_count": 103,
   "id": "608aa291-15e4-4d17-9f6b-15a88581f8ba",
   "metadata": {},
   "outputs": [
    {
     "data": {
      "text/plain": [
       "{1, 2, 3, 4, 5}"
      ]
     },
     "execution_count": 103,
     "metadata": {},
     "output_type": "execute_result"
    }
   ],
   "source": [
    "s3"
   ]
  },
  {
   "cell_type": "code",
   "execution_count": 104,
   "id": "8c4cb24d-7d01-4414-9be6-f0f4083776ad",
   "metadata": {},
   "outputs": [],
   "source": [
    "goa_city = {\"panjim\", \"vascodegama\", \"madgaon\"}\n",
    "maha_city = {\"Mumbai\", \"nagpur\", \"pune\"}\n",
    "westernregion_city = {\"Mumbai\", \"pune\", \"panjim\"}"
   ]
  },
  {
   "cell_type": "code",
   "execution_count": 105,
   "id": "3d05bdca-46d2-48db-94ec-a8910e44a9b5",
   "metadata": {},
   "outputs": [
    {
     "data": {
      "text/plain": [
       "{'Mumbai', 'madgaon', 'panjim', 'pune', 'vascodegama'}"
      ]
     },
     "execution_count": 105,
     "metadata": {},
     "output_type": "execute_result"
    }
   ],
   "source": [
    "goa_city.union(westernregion_city)"
   ]
  },
  {
   "cell_type": "code",
   "execution_count": 106,
   "id": "8ccc634d-6f93-4e45-a640-c8abe879cc14",
   "metadata": {},
   "outputs": [],
   "source": [
    "# intersect\n",
    "\n",
    "s1 = {1, 2, 3,4}\n",
    "s2 = {3, 4, 5}\n",
    "\n",
    "s3 = s1.intersection(s2)  "
   ]
  },
  {
   "cell_type": "code",
   "execution_count": 107,
   "id": "0f4b73bc-1b7b-4e90-b3a3-74232e67e1e8",
   "metadata": {},
   "outputs": [
    {
     "data": {
      "text/plain": [
       "{3, 4}"
      ]
     },
     "execution_count": 107,
     "metadata": {},
     "output_type": "execute_result"
    }
   ],
   "source": [
    "s3"
   ]
  },
  {
   "cell_type": "code",
   "execution_count": 108,
   "id": "5b03f83a-20fb-4eec-a412-59b69806107e",
   "metadata": {},
   "outputs": [],
   "source": [
    "# difference\n",
    "\n",
    "s1 = {1, 2, 3}\n",
    "s2 = {3, 4, 5}\n",
    "s3 = s1.difference(s2) "
   ]
  },
  {
   "cell_type": "code",
   "execution_count": 109,
   "id": "8114cb1e-736d-48d3-9421-0402c2b48a76",
   "metadata": {},
   "outputs": [
    {
     "data": {
      "text/plain": [
       "{1, 2}"
      ]
     },
     "execution_count": 109,
     "metadata": {},
     "output_type": "execute_result"
    }
   ],
   "source": [
    "s3"
   ]
  },
  {
   "cell_type": "code",
   "execution_count": 110,
   "id": "e1639e7f-e8e1-4c05-af51-545ccfc53d56",
   "metadata": {},
   "outputs": [
    {
     "data": {
      "text/plain": [
       "{4, 5}"
      ]
     },
     "execution_count": 110,
     "metadata": {},
     "output_type": "execute_result"
    }
   ],
   "source": [
    "s2.difference(s1)"
   ]
  },
  {
   "cell_type": "code",
   "execution_count": 111,
   "id": "e159b108-2a2a-4fb8-a2ba-29b3f0fbaba3",
   "metadata": {},
   "outputs": [],
   "source": [
    "# symmetric_difference\n",
    "\n",
    "s1 = {1, 2, 3}\n",
    "s2 = {3, 4, 5}\n",
    "s3 = s1.symmetric_difference(s2)"
   ]
  },
  {
   "cell_type": "code",
   "execution_count": 112,
   "id": "10eecea3-4131-4d7b-a210-ac202e494407",
   "metadata": {},
   "outputs": [
    {
     "data": {
      "text/plain": [
       "{1, 2, 4, 5}"
      ]
     },
     "execution_count": 112,
     "metadata": {},
     "output_type": "execute_result"
    }
   ],
   "source": [
    "s3"
   ]
  },
  {
   "cell_type": "code",
   "execution_count": 113,
   "id": "125b1146-2e0a-467e-b298-f607114abeea",
   "metadata": {},
   "outputs": [],
   "source": [
    "#issubset\n",
    "\n",
    "s1 = {1, 5, 3, 6}\n",
    "\n",
    "s2 = {1, 5,4,6,7,3 }"
   ]
  },
  {
   "cell_type": "code",
   "execution_count": 114,
   "id": "670bd5cd-a229-489e-95f8-43439c06162f",
   "metadata": {},
   "outputs": [
    {
     "data": {
      "text/plain": [
       "True"
      ]
     },
     "execution_count": 114,
     "metadata": {},
     "output_type": "execute_result"
    }
   ],
   "source": [
    "s1.issubset(s2)"
   ]
  },
  {
   "cell_type": "code",
   "execution_count": 115,
   "id": "4b4d477b-708f-451e-9e6a-5b8637779b91",
   "metadata": {},
   "outputs": [
    {
     "data": {
      "text/plain": [
       "False"
      ]
     },
     "execution_count": 115,
     "metadata": {},
     "output_type": "execute_result"
    }
   ],
   "source": [
    "s1.issuperset(s2)"
   ]
  },
  {
   "cell_type": "code",
   "execution_count": 116,
   "id": "f9b7d44d-81e4-4c4b-a634-360fa1a792b8",
   "metadata": {},
   "outputs": [
    {
     "data": {
      "text/plain": [
       "True"
      ]
     },
     "execution_count": 116,
     "metadata": {},
     "output_type": "execute_result"
    }
   ],
   "source": [
    "s2.issuperset(s1)"
   ]
  },
  {
   "cell_type": "code",
   "execution_count": 119,
   "id": "6e9b0255-2458-4d2d-bc9f-b1b741c6a5ef",
   "metadata": {},
   "outputs": [
    {
     "data": {
      "text/plain": [
       "False"
      ]
     },
     "execution_count": 119,
     "metadata": {},
     "output_type": "execute_result"
    }
   ],
   "source": [
    "# isdisjoin\n",
    "\n",
    "s1 = {1, 2, 3}\n",
    "s2 = {3, 4}\n",
    "s3 = {5, 6}\n",
    "\n",
    "s1.isdisjoint(s2) "
   ]
  },
  {
   "cell_type": "code",
   "execution_count": 120,
   "id": "85655e08-5a8b-46e0-8560-90d3f8d1eabe",
   "metadata": {},
   "outputs": [
    {
     "data": {
      "text/plain": [
       "True"
      ]
     },
     "execution_count": 120,
     "metadata": {},
     "output_type": "execute_result"
    }
   ],
   "source": [
    "s2.isdisjoint(s3)"
   ]
  },
  {
   "cell_type": "code",
   "execution_count": 121,
   "id": "f597e2e1-66aa-4dd8-a9c6-393a953ebc12",
   "metadata": {},
   "outputs": [
    {
     "data": {
      "text/plain": [
       "{1, 2, 3}"
      ]
     },
     "execution_count": 121,
     "metadata": {},
     "output_type": "execute_result"
    }
   ],
   "source": [
    "s1"
   ]
  },
  {
   "cell_type": "code",
   "execution_count": 122,
   "id": "badf88f0-93ff-4bc7-9292-33a1451ba7bf",
   "metadata": {},
   "outputs": [
    {
     "data": {
      "text/plain": [
       "{3, 4}"
      ]
     },
     "execution_count": 122,
     "metadata": {},
     "output_type": "execute_result"
    }
   ],
   "source": [
    "s2"
   ]
  },
  {
   "cell_type": "code",
   "execution_count": 123,
   "id": "29f6518b-79d7-463d-b43d-6d34df36e379",
   "metadata": {},
   "outputs": [
    {
     "name": "stdout",
     "output_type": "stream",
     "text": [
      "{1, 2, 4}\n"
     ]
    }
   ],
   "source": [
    "# Elements present in s1 or s2, but not both\n",
    "result = (s1.union(s2)).difference(s1.intersection(s2))\n",
    "print(result) "
   ]
  },
  {
   "cell_type": "code",
   "execution_count": 124,
   "id": "54a15086-8988-4b00-b92d-b4ec8b56ff12",
   "metadata": {},
   "outputs": [],
   "source": [
    "s3.clear()"
   ]
  },
  {
   "cell_type": "code",
   "execution_count": 125,
   "id": "3e8dcaa6-18a2-4eb4-b2f4-bb7a27b0f35f",
   "metadata": {},
   "outputs": [
    {
     "data": {
      "text/plain": [
       "set()"
      ]
     },
     "execution_count": 125,
     "metadata": {},
     "output_type": "execute_result"
    }
   ],
   "source": [
    "s3"
   ]
  },
  {
   "cell_type": "code",
   "execution_count": 128,
   "id": "d39deeb1-937a-4b03-be5f-2cf419cba0ef",
   "metadata": {},
   "outputs": [],
   "source": [
    "ss1= s2.copy()"
   ]
  },
  {
   "cell_type": "code",
   "execution_count": 129,
   "id": "c1ae4d66-589e-47e2-b6e7-d86b31bc14ce",
   "metadata": {},
   "outputs": [
    {
     "data": {
      "text/plain": [
       "{3, 4}"
      ]
     },
     "execution_count": 129,
     "metadata": {},
     "output_type": "execute_result"
    }
   ],
   "source": [
    "ss1"
   ]
  },
  {
   "cell_type": "code",
   "execution_count": 130,
   "id": "b4f16104-093c-49c1-9182-3a4678d14153",
   "metadata": {},
   "outputs": [
    {
     "data": {
      "text/plain": [
       "True"
      ]
     },
     "execution_count": 130,
     "metadata": {},
     "output_type": "execute_result"
    }
   ],
   "source": [
    "bool(3)"
   ]
  },
  {
   "cell_type": "code",
   "execution_count": 131,
   "id": "069bb7f3-240f-42d6-bc88-025ec76439c3",
   "metadata": {},
   "outputs": [
    {
     "data": {
      "text/plain": [
       "False"
      ]
     },
     "execution_count": 131,
     "metadata": {},
     "output_type": "execute_result"
    }
   ],
   "source": [
    "bool(0)"
   ]
  },
  {
   "cell_type": "code",
   "execution_count": 132,
   "id": "86a325df-3142-4471-87cf-146a0083d4ec",
   "metadata": {},
   "outputs": [
    {
     "data": {
      "text/plain": [
       "True"
      ]
     },
     "execution_count": 132,
     "metadata": {},
     "output_type": "execute_result"
    }
   ],
   "source": [
    "bool(-2)"
   ]
  },
  {
   "cell_type": "code",
   "execution_count": 133,
   "id": "3969b7ad-3703-41e5-9bf9-94d0a5e5e3fe",
   "metadata": {},
   "outputs": [],
   "source": [
    "x = 2"
   ]
  },
  {
   "cell_type": "code",
   "execution_count": 134,
   "id": "6c807341-0e33-4aa1-ae1b-0549ffae7524",
   "metadata": {},
   "outputs": [],
   "source": [
    "x = 3"
   ]
  },
  {
   "cell_type": "code",
   "execution_count": 136,
   "id": "d3a13664-44a1-4087-9863-be97c81fc725",
   "metadata": {},
   "outputs": [
    {
     "data": {
      "text/plain": [
       "3"
      ]
     },
     "execution_count": 136,
     "metadata": {},
     "output_type": "execute_result"
    }
   ],
   "source": [
    "x"
   ]
  },
  {
   "cell_type": "code",
   "execution_count": 138,
   "id": "aa2d8016-2f19-40ab-b6f4-81ed994a5e44",
   "metadata": {},
   "outputs": [
    {
     "data": {
      "text/plain": [
       "140723936215912"
      ]
     },
     "execution_count": 138,
     "metadata": {},
     "output_type": "execute_result"
    }
   ],
   "source": [
    "id(x)"
   ]
  },
  {
   "cell_type": "code",
   "execution_count": 139,
   "id": "d0f4b106-0c3f-4c3f-97b5-9a9e262de69a",
   "metadata": {},
   "outputs": [],
   "source": [
    "x = 4"
   ]
  },
  {
   "cell_type": "code",
   "execution_count": 140,
   "id": "e92b7ffc-af59-4362-9244-7e1bd48723c1",
   "metadata": {},
   "outputs": [
    {
     "data": {
      "text/plain": [
       "140723936215944"
      ]
     },
     "execution_count": 140,
     "metadata": {},
     "output_type": "execute_result"
    }
   ],
   "source": [
    "id(x)"
   ]
  },
  {
   "cell_type": "code",
   "execution_count": 141,
   "id": "b24f8cb5-260b-4aad-9efd-a3ff88d186a1",
   "metadata": {},
   "outputs": [],
   "source": [
    "y = 4"
   ]
  },
  {
   "cell_type": "code",
   "execution_count": 142,
   "id": "a28b785a-0439-47a7-adbf-cc775a19cb04",
   "metadata": {},
   "outputs": [
    {
     "data": {
      "text/plain": [
       "140723936215944"
      ]
     },
     "execution_count": 142,
     "metadata": {},
     "output_type": "execute_result"
    }
   ],
   "source": [
    "id(y)"
   ]
  },
  {
   "cell_type": "code",
   "execution_count": 143,
   "id": "95e30db0-ec03-4755-a940-e2ffd7a32402",
   "metadata": {},
   "outputs": [
    {
     "data": {
      "text/plain": [
       "True"
      ]
     },
     "execution_count": 143,
     "metadata": {},
     "output_type": "execute_result"
    }
   ],
   "source": [
    "x is y"
   ]
  },
  {
   "cell_type": "code",
   "execution_count": 144,
   "id": "a517c307-eb2b-4e2e-ac81-61199ca7c1a1",
   "metadata": {},
   "outputs": [],
   "source": [
    "x = 5"
   ]
  },
  {
   "cell_type": "code",
   "execution_count": 145,
   "id": "8b982944-2bf4-4e28-8011-3c07997b5dbd",
   "metadata": {},
   "outputs": [
    {
     "data": {
      "text/plain": [
       "False"
      ]
     },
     "execution_count": 145,
     "metadata": {},
     "output_type": "execute_result"
    }
   ],
   "source": [
    "x is y"
   ]
  },
  {
   "cell_type": "code",
   "execution_count": null,
   "id": "3d4126ac-2303-4f47-bf0c-4af8ce13f41e",
   "metadata": {},
   "outputs": [],
   "source": []
  }
 ],
 "metadata": {
  "kernelspec": {
   "display_name": "Python 3 (ipykernel)",
   "language": "python",
   "name": "python3"
  },
  "language_info": {
   "codemirror_mode": {
    "name": "ipython",
    "version": 3
   },
   "file_extension": ".py",
   "mimetype": "text/x-python",
   "name": "python",
   "nbconvert_exporter": "python",
   "pygments_lexer": "ipython3",
   "version": "3.11.7"
  }
 },
 "nbformat": 4,
 "nbformat_minor": 5
}
