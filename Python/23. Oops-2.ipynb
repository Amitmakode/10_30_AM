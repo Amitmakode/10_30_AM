{
 "cells": [
  {
   "cell_type": "code",
   "execution_count": 1,
   "id": "8b82b709",
   "metadata": {},
   "outputs": [],
   "source": [
    "class car :                 #perent class   \n",
    "                         # inheritence \n",
    "    def __init__(self , body , engin , tyre):\n",
    "        self.body = body\n",
    "        self.engin = engin\n",
    "        self.tyre = tyre\n",
    "\n",
    "    def milage (self):\n",
    "        print(input(\"milage of this car \"))\n",
    "        \n",
    "        \n",
    "class tata(car):                #child class\n",
    "    pass"
   ]
  },
  {
   "cell_type": "code",
   "execution_count": 2,
   "id": "ec60fafc",
   "metadata": {},
   "outputs": [],
   "source": [
    "obj= car(\"sedan\", \"1.6\", \"radial\")"
   ]
  },
  {
   "cell_type": "code",
   "execution_count": 3,
   "id": "f946a3b3",
   "metadata": {},
   "outputs": [
    {
     "data": {
      "text/plain": [
       "'1.6'"
      ]
     },
     "execution_count": 3,
     "metadata": {},
     "output_type": "execute_result"
    }
   ],
   "source": [
    "obj.engin"
   ]
  },
  {
   "cell_type": "code",
   "execution_count": 5,
   "id": "57f8954c",
   "metadata": {},
   "outputs": [
    {
     "name": "stdout",
     "output_type": "stream",
     "text": [
      "milage of this car 23\n",
      "23\n"
     ]
    }
   ],
   "source": [
    "obj.milage()"
   ]
  },
  {
   "cell_type": "code",
   "execution_count": 7,
   "id": "c64ea27e",
   "metadata": {},
   "outputs": [],
   "source": [
    "objc= tata"
   ]
  },
  {
   "cell_type": "code",
   "execution_count": 8,
   "id": "857e2989",
   "metadata": {},
   "outputs": [
    {
     "data": {
      "text/plain": [
       "<function tata.mro()>"
      ]
     },
     "execution_count": 8,
     "metadata": {},
     "output_type": "execute_result"
    }
   ],
   "source": [
    "objc."
   ]
  },
  {
   "cell_type": "code",
   "execution_count": null,
   "id": "f18d7a19",
   "metadata": {},
   "outputs": [],
   "source": [
    "***********************************************"
   ]
  },
  {
   "cell_type": "code",
   "execution_count": null,
   "id": "ebc8d91f",
   "metadata": {},
   "outputs": [],
   "source": []
  },
  {
   "cell_type": "code",
   "execution_count": 9,
   "id": "87a4820c",
   "metadata": {},
   "outputs": [],
   "source": [
    "class bank :             # perents class \n",
    "    def transaction(self) :\n",
    "        print(\"total transaction value \")\n",
    "    def account_opening(self):\n",
    "        print(\"this will show you your account open status \")\n",
    "    def deposite(self):\n",
    "        print(\"this will show your deposited amount\")\n",
    "\n",
    "\n",
    "class HDFC_bank(bank):             # child class\n",
    "    def hdfc_to_icici(self):\n",
    "        print(\"this will show you all the transaction happend to icici throuhg hdfc\")\n",
    "\n",
    "class icici(HDFC_bank):          # child class\n",
    "    pass                        \n",
    "\n",
    "# multilevel inheritence"
   ]
  },
  {
   "cell_type": "code",
   "execution_count": 10,
   "id": "d350e248",
   "metadata": {},
   "outputs": [],
   "source": [
    "obj = icici()"
   ]
  },
  {
   "cell_type": "code",
   "execution_count": 11,
   "id": "5776780f",
   "metadata": {},
   "outputs": [],
   "source": [
    "obj1 = HDFC_bank()"
   ]
  },
  {
   "cell_type": "code",
   "execution_count": 13,
   "id": "32c6c545",
   "metadata": {},
   "outputs": [
    {
     "name": "stdout",
     "output_type": "stream",
     "text": [
      "this will show you your account open status \n"
     ]
    }
   ],
   "source": [
    "obj1.account_opening()"
   ]
  },
  {
   "cell_type": "code",
   "execution_count": null,
   "id": "4912cc7c",
   "metadata": {},
   "outputs": [],
   "source": [
    "*********************************************"
   ]
  },
  {
   "cell_type": "code",
   "execution_count": null,
   "id": "611660f2",
   "metadata": {},
   "outputs": [],
   "source": []
  },
  {
   "cell_type": "code",
   "execution_count": 14,
   "id": "daadb500",
   "metadata": {},
   "outputs": [],
   "source": [
    "class bank :\n",
    "    def transaction(self) :\n",
    "        print(\"total transaction value \")\n",
    "    def account_opening(self):\n",
    "        print(\"this will show you your account open status \")\n",
    "    def deposite(self):\n",
    "        print(\"this will show your deposited amount\")\n",
    "    def test(self):                          # override code\n",
    "        print(\"this is a test methond form bank class \")\n",
    "\n",
    "        \n",
    "class HDFC_bank:\n",
    "    def hdfc_to_icici(self):\n",
    "        print(\"this will show you all the transaction happend to icici throuhg hdfc\")\n",
    "    def test(self):           #override code\n",
    "        print(\"this is a test method form hdfc bank \")\n",
    "\n",
    "class ineron_bank:\n",
    "    def account_status_icici(self):\n",
    "        print(\"print a account status in icici \")\n",
    "\n",
    "class icici(bank, HDFC_bank, ineron_bank):      # multiple inheritence\n",
    "    pass "
   ]
  },
  {
   "cell_type": "code",
   "execution_count": 15,
   "id": "b4aa1a72",
   "metadata": {},
   "outputs": [],
   "source": [
    "obj3 = icici()"
   ]
  },
  {
   "cell_type": "code",
   "execution_count": 16,
   "id": "f601e023",
   "metadata": {},
   "outputs": [
    {
     "name": "stdout",
     "output_type": "stream",
     "text": [
      "this is a test methond form bank class \n"
     ]
    }
   ],
   "source": [
    "obj3.test()"
   ]
  },
  {
   "cell_type": "code",
   "execution_count": null,
   "id": "35047835",
   "metadata": {},
   "outputs": [],
   "source": []
  },
  {
   "cell_type": "code",
   "execution_count": 17,
   "id": "48201a4c",
   "metadata": {},
   "outputs": [],
   "source": [
    "class bank1 :\n",
    "    def transaction(self) :\n",
    "        print(\"total transaction value \")\n",
    "    def account_opening(self):\n",
    "        print(\"this will show you your account open status \")\n",
    "    def deposite(self):\n",
    "        print(\"this will show your deposited amount\")\n",
    "    def test(self):                          # override code\n",
    "        print(\"this is a test methond form bank class \")\n",
    "\n",
    "        \n",
    "class HDFC_bank1:\n",
    "    def hdfc_to_icici(self):\n",
    "        print(\"this will show you all the transaction happend to icici throuhg hdfc\")\n",
    "    def test(self):           #override code\n",
    "        print(\"this is a test method form hdfc bank \")\n",
    "\n",
    "class ineron_bank1:\n",
    "    def account_status_icici(self):\n",
    "        print(\"print a account status in icici \")\n",
    "\n",
    "class icici1(HDFC_bank1, bank1,  ineron_bank1):      # multiple inheritence\n",
    "    pass "
   ]
  },
  {
   "cell_type": "code",
   "execution_count": 18,
   "id": "3cdcc8b9",
   "metadata": {},
   "outputs": [],
   "source": [
    "obj22 = icici1()"
   ]
  },
  {
   "cell_type": "code",
   "execution_count": 19,
   "id": "9d9a3de7",
   "metadata": {},
   "outputs": [
    {
     "name": "stdout",
     "output_type": "stream",
     "text": [
      "this is a test method form hdfc bank \n"
     ]
    }
   ],
   "source": [
    "obj22.test()"
   ]
  },
  {
   "cell_type": "code",
   "execution_count": null,
   "id": "6ca14aec",
   "metadata": {},
   "outputs": [],
   "source": [
    "************************************************"
   ]
  },
  {
   "cell_type": "code",
   "execution_count": null,
   "id": "a95b2e90",
   "metadata": {},
   "outputs": [],
   "source": []
  },
  {
   "cell_type": "code",
   "execution_count": 20,
   "id": "590507a4",
   "metadata": {},
   "outputs": [],
   "source": [
    "class ineuron:\n",
    "    def student(self):\n",
    "        print(\"print the details of all the students\")\n",
    "    def achivers(self):\n",
    "        print(\"print the list of all the achiver \")\n",
    "    def hall_of_fame(self):\n",
    "        print(\"print everyone form hall of fame \")\n",
    "\n",
    "\n",
    "\n",
    "class ineuron_vision(ineuron):\n",
    "\n",
    "    def student(self):      #override method\n",
    "        print(\"these are the filters student list \")"
   ]
  },
  {
   "cell_type": "code",
   "execution_count": null,
   "id": "c2b97728",
   "metadata": {},
   "outputs": [],
   "source": []
  },
  {
   "cell_type": "code",
   "execution_count": 21,
   "id": "46f6eb24",
   "metadata": {},
   "outputs": [],
   "source": [
    "o1 = ineuron()"
   ]
  },
  {
   "cell_type": "code",
   "execution_count": 22,
   "id": "be5aab50",
   "metadata": {},
   "outputs": [],
   "source": [
    "o2 = ineuron_vision()"
   ]
  },
  {
   "cell_type": "code",
   "execution_count": 23,
   "id": "8246499c",
   "metadata": {},
   "outputs": [
    {
     "name": "stdout",
     "output_type": "stream",
     "text": [
      "print the details of all the students\n"
     ]
    }
   ],
   "source": [
    "o1.student()"
   ]
  },
  {
   "cell_type": "code",
   "execution_count": 24,
   "id": "ba3c3e3c",
   "metadata": {},
   "outputs": [
    {
     "name": "stdout",
     "output_type": "stream",
     "text": [
      "these are the filters student list \n"
     ]
    }
   ],
   "source": [
    "o2.student()"
   ]
  },
  {
   "cell_type": "code",
   "execution_count": null,
   "id": "0aa36814",
   "metadata": {},
   "outputs": [],
   "source": [
    "*****************************************"
   ]
  },
  {
   "cell_type": "code",
   "execution_count": null,
   "id": "53f1a23d",
   "metadata": {},
   "outputs": [],
   "source": []
  },
  {
   "cell_type": "code",
   "execution_count": 25,
   "id": "fc552569",
   "metadata": {},
   "outputs": [],
   "source": [
    "class ineuron:\n",
    "    __students = \"data science\"       #data abstraction \n",
    "\n",
    "    def studetns(self):\n",
    "        print(ineuron.__students)"
   ]
  },
  {
   "cell_type": "code",
   "execution_count": 26,
   "id": "4a909223",
   "metadata": {},
   "outputs": [],
   "source": [
    "i = ineuron()"
   ]
  },
  {
   "cell_type": "code",
   "execution_count": 27,
   "id": "e67a26c4",
   "metadata": {},
   "outputs": [
    {
     "name": "stdout",
     "output_type": "stream",
     "text": [
      "data science\n"
     ]
    }
   ],
   "source": [
    "i.studetns()"
   ]
  },
  {
   "cell_type": "code",
   "execution_count": 28,
   "id": "ecd946b4",
   "metadata": {},
   "outputs": [
    {
     "ename": "AttributeError",
     "evalue": "'ineuron' object has no attribute '__students'",
     "output_type": "error",
     "traceback": [
      "\u001b[1;31m---------------------------------------------------------------------------\u001b[0m",
      "\u001b[1;31mAttributeError\u001b[0m                            Traceback (most recent call last)",
      "Cell \u001b[1;32mIn[28], line 1\u001b[0m\n\u001b[1;32m----> 1\u001b[0m \u001b[38;5;28mprint\u001b[39m(i\u001b[38;5;241m.\u001b[39m__students)\n",
      "\u001b[1;31mAttributeError\u001b[0m: 'ineuron' object has no attribute '__students'"
     ]
    }
   ],
   "source": [
    "print(i.__students)"
   ]
  },
  {
   "cell_type": "code",
   "execution_count": 29,
   "id": "0127831a",
   "metadata": {},
   "outputs": [
    {
     "name": "stdout",
     "output_type": "stream",
     "text": [
      "data science\n"
     ]
    }
   ],
   "source": [
    "i.studetns()"
   ]
  },
  {
   "cell_type": "code",
   "execution_count": null,
   "id": "9e12fd1c",
   "metadata": {},
   "outputs": [],
   "source": [
    "*******************************"
   ]
  },
  {
   "cell_type": "code",
   "execution_count": null,
   "id": "69cb26d8",
   "metadata": {},
   "outputs": [],
   "source": []
  },
  {
   "cell_type": "code",
   "execution_count": 30,
   "id": "c898dcdf",
   "metadata": {},
   "outputs": [],
   "source": [
    "class ineuron:                      # encpsulation \n",
    "    def __init__(self):\n",
    "        self.students1 = \"data science\"\n",
    "\n",
    "    def students(self):\n",
    "        print(self.students1)"
   ]
  },
  {
   "cell_type": "code",
   "execution_count": 31,
   "id": "5ea65752",
   "metadata": {},
   "outputs": [],
   "source": [
    "i = ineuron()"
   ]
  },
  {
   "cell_type": "code",
   "execution_count": 32,
   "id": "22724461",
   "metadata": {},
   "outputs": [
    {
     "name": "stdout",
     "output_type": "stream",
     "text": [
      "data science\n"
     ]
    }
   ],
   "source": [
    "i.students()"
   ]
  },
  {
   "cell_type": "code",
   "execution_count": 33,
   "id": "77418327",
   "metadata": {},
   "outputs": [
    {
     "data": {
      "text/plain": [
       "'data science'"
      ]
     },
     "execution_count": 33,
     "metadata": {},
     "output_type": "execute_result"
    }
   ],
   "source": [
    "i.students1"
   ]
  },
  {
   "cell_type": "code",
   "execution_count": 34,
   "id": "dd769dd9",
   "metadata": {},
   "outputs": [],
   "source": [
    "i.students1 = \"data analyst\""
   ]
  },
  {
   "cell_type": "code",
   "execution_count": 35,
   "id": "797a6edd",
   "metadata": {},
   "outputs": [
    {
     "data": {
      "text/plain": [
       "'data analyst'"
      ]
     },
     "execution_count": 35,
     "metadata": {},
     "output_type": "execute_result"
    }
   ],
   "source": [
    "i.students1"
   ]
  },
  {
   "cell_type": "code",
   "execution_count": null,
   "id": "f2992be1",
   "metadata": {},
   "outputs": [],
   "source": [
    "************************************"
   ]
  },
  {
   "cell_type": "code",
   "execution_count": null,
   "id": "f13d13e6",
   "metadata": {},
   "outputs": [],
   "source": []
  },
  {
   "cell_type": "code",
   "execution_count": 36,
   "id": "1a3b1449",
   "metadata": {},
   "outputs": [],
   "source": [
    "class ineuron1:\n",
    "    def __init__(self):\n",
    "        self.__students1 = \"data science \"\n",
    "\n",
    "    def students(self):\n",
    "        print(self.__students1)\n",
    "        \n",
    "    def student_change(self,new_value):\n",
    "        self.__students1 = new_value             # polymorphism"
   ]
  },
  {
   "cell_type": "code",
   "execution_count": 37,
   "id": "bff19629",
   "metadata": {},
   "outputs": [],
   "source": [
    "i2 = ineuron1()"
   ]
  },
  {
   "cell_type": "code",
   "execution_count": 38,
   "id": "79c0bb93",
   "metadata": {},
   "outputs": [
    {
     "name": "stdout",
     "output_type": "stream",
     "text": [
      "data science \n"
     ]
    }
   ],
   "source": [
    "i2.students()"
   ]
  },
  {
   "cell_type": "code",
   "execution_count": 39,
   "id": "74610d14",
   "metadata": {},
   "outputs": [],
   "source": [
    "i2.__students1 = \"data engineer\""
   ]
  },
  {
   "cell_type": "code",
   "execution_count": 40,
   "id": "39fbd10d",
   "metadata": {},
   "outputs": [
    {
     "name": "stdout",
     "output_type": "stream",
     "text": [
      "data science \n"
     ]
    }
   ],
   "source": [
    "i2.students()"
   ]
  },
  {
   "cell_type": "code",
   "execution_count": 41,
   "id": "7cb05ccb",
   "metadata": {},
   "outputs": [],
   "source": [
    "i2.student_change(\"ML\")"
   ]
  },
  {
   "cell_type": "code",
   "execution_count": 42,
   "id": "7286f47a",
   "metadata": {},
   "outputs": [
    {
     "name": "stdout",
     "output_type": "stream",
     "text": [
      "ML\n"
     ]
    }
   ],
   "source": [
    "i2.students()"
   ]
  },
  {
   "cell_type": "code",
   "execution_count": null,
   "id": "818ee217",
   "metadata": {},
   "outputs": [],
   "source": [
    "#1. class\n",
    "#2. constructor method\n",
    "#3. pointer\n",
    "#4. Variable\n",
    "#5. method\n",
    "#6. Object\n",
    "#7. inheritence\n",
    "#8. Multilevel\n",
    "#9. Multiple\n",
    "#10. Method override\n",
    "#11. data abstraction\n",
    "#12. Encapsulation\n",
    "#13. Polymorphism\n",
    "#14. public\n",
    "#15. Private\n",
    "#16. Protective"
   ]
  }
 ],
 "metadata": {
  "kernelspec": {
   "display_name": "Python 3 (ipykernel)",
   "language": "python",
   "name": "python3"
  },
  "language_info": {
   "codemirror_mode": {
    "name": "ipython",
    "version": 3
   },
   "file_extension": ".py",
   "mimetype": "text/x-python",
   "name": "python",
   "nbconvert_exporter": "python",
   "pygments_lexer": "ipython3",
   "version": "3.11.5"
  }
 },
 "nbformat": 4,
 "nbformat_minor": 5
}
