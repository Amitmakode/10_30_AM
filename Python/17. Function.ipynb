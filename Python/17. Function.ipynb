{
 "cells": [
  {
   "cell_type": "markdown",
   "id": "dbf79b6e",
   "metadata": {},
   "source": [
    "### Function "
   ]
  },
  {
   "cell_type": "code",
   "execution_count": 1,
   "id": "88a05ecf",
   "metadata": {},
   "outputs": [],
   "source": [
    "def fun1():\n",
    "    return \"python\""
   ]
  },
  {
   "cell_type": "code",
   "execution_count": 2,
   "id": "8948074a",
   "metadata": {},
   "outputs": [
    {
     "data": {
      "text/plain": [
       "'python'"
      ]
     },
     "execution_count": 2,
     "metadata": {},
     "output_type": "execute_result"
    }
   ],
   "source": [
    "fun1()"
   ]
  },
  {
   "cell_type": "code",
   "execution_count": 5,
   "id": "68d3eeaf",
   "metadata": {},
   "outputs": [],
   "source": [
    "def fun2(a):\n",
    "    b = a**3\n",
    "    return b"
   ]
  },
  {
   "cell_type": "code",
   "execution_count": 6,
   "id": "05cf8c4f",
   "metadata": {},
   "outputs": [
    {
     "data": {
      "text/plain": [
       "343"
      ]
     },
     "execution_count": 6,
     "metadata": {},
     "output_type": "execute_result"
    }
   ],
   "source": [
    "fun2(7)"
   ]
  },
  {
   "cell_type": "code",
   "execution_count": 7,
   "id": "4ed0f33d",
   "metadata": {},
   "outputs": [
    {
     "data": {
      "text/plain": [
       "1331"
      ]
     },
     "execution_count": 7,
     "metadata": {},
     "output_type": "execute_result"
    }
   ],
   "source": [
    "fun2(11)"
   ]
  },
  {
   "cell_type": "code",
   "execution_count": 8,
   "id": "1a794a08",
   "metadata": {},
   "outputs": [
    {
     "data": {
      "text/plain": [
       "'python'"
      ]
     },
     "execution_count": 8,
     "metadata": {},
     "output_type": "execute_result"
    }
   ],
   "source": [
    "fun1()"
   ]
  },
  {
   "cell_type": "code",
   "execution_count": 9,
   "id": "ef630ba1",
   "metadata": {},
   "outputs": [
    {
     "ename": "TypeError",
     "evalue": "fun2() missing 1 required positional argument: 'a'",
     "output_type": "error",
     "traceback": [
      "\u001b[1;31m---------------------------------------------------------------------------\u001b[0m",
      "\u001b[1;31mTypeError\u001b[0m                                 Traceback (most recent call last)",
      "Cell \u001b[1;32mIn[9], line 1\u001b[0m\n\u001b[1;32m----> 1\u001b[0m fun2()\n",
      "\u001b[1;31mTypeError\u001b[0m: fun2() missing 1 required positional argument: 'a'"
     ]
    }
   ],
   "source": [
    "fun2()"
   ]
  },
  {
   "cell_type": "code",
   "execution_count": 23,
   "id": "f9b27151",
   "metadata": {},
   "outputs": [],
   "source": [
    "def fun3(*a):   #agrs: non keyword argument\n",
    "    b = a+a\n",
    "    return b"
   ]
  },
  {
   "cell_type": "code",
   "execution_count": 24,
   "id": "bfb45fe7",
   "metadata": {},
   "outputs": [
    {
     "data": {
      "text/plain": [
       "()"
      ]
     },
     "execution_count": 24,
     "metadata": {},
     "output_type": "execute_result"
    }
   ],
   "source": [
    "fun3()"
   ]
  },
  {
   "cell_type": "code",
   "execution_count": 25,
   "id": "eda27d27",
   "metadata": {},
   "outputs": [
    {
     "name": "stdout",
     "output_type": "stream",
     "text": [
      "\n"
     ]
    }
   ],
   "source": [
    "print()"
   ]
  },
  {
   "cell_type": "code",
   "execution_count": 28,
   "id": "39c306ea",
   "metadata": {},
   "outputs": [
    {
     "data": {
      "text/plain": [
       "(10, 20, 30, 10, 20, 30)"
      ]
     },
     "execution_count": 28,
     "metadata": {},
     "output_type": "execute_result"
    }
   ],
   "source": [
    "fun3(10, 20,30)"
   ]
  },
  {
   "cell_type": "code",
   "execution_count": 31,
   "id": "62bce411",
   "metadata": {},
   "outputs": [
    {
     "ename": "TypeError",
     "evalue": "fun2() takes 1 positional argument but 2 were given",
     "output_type": "error",
     "traceback": [
      "\u001b[1;31m---------------------------------------------------------------------------\u001b[0m",
      "\u001b[1;31mTypeError\u001b[0m                                 Traceback (most recent call last)",
      "Cell \u001b[1;32mIn[31], line 1\u001b[0m\n\u001b[1;32m----> 1\u001b[0m fun2(\u001b[38;5;241m10\u001b[39m, \u001b[38;5;241m20\u001b[39m)\n",
      "\u001b[1;31mTypeError\u001b[0m: fun2() takes 1 positional argument but 2 were given"
     ]
    }
   ],
   "source": [
    "fun2(10, 20)"
   ]
  },
  {
   "cell_type": "code",
   "execution_count": 32,
   "id": "3f76f1ee",
   "metadata": {},
   "outputs": [],
   "source": [
    "def fun4(**a):   #kwargs: keyword argument \n",
    "    return a"
   ]
  },
  {
   "cell_type": "code",
   "execution_count": 33,
   "id": "b6671bc6",
   "metadata": {},
   "outputs": [
    {
     "data": {
      "text/plain": [
       "{}"
      ]
     },
     "execution_count": 33,
     "metadata": {},
     "output_type": "execute_result"
    }
   ],
   "source": [
    "fun4()"
   ]
  },
  {
   "cell_type": "code",
   "execution_count": 34,
   "id": "f991f709",
   "metadata": {},
   "outputs": [
    {
     "ename": "TypeError",
     "evalue": "fun4() takes 0 positional arguments but 1 was given",
     "output_type": "error",
     "traceback": [
      "\u001b[1;31m---------------------------------------------------------------------------\u001b[0m",
      "\u001b[1;31mTypeError\u001b[0m                                 Traceback (most recent call last)",
      "Cell \u001b[1;32mIn[34], line 1\u001b[0m\n\u001b[1;32m----> 1\u001b[0m fun4(\u001b[38;5;241m22\u001b[39m)\n",
      "\u001b[1;31mTypeError\u001b[0m: fun4() takes 0 positional arguments but 1 was given"
     ]
    }
   ],
   "source": [
    "fun4(22)"
   ]
  },
  {
   "cell_type": "code",
   "execution_count": 36,
   "id": "5d0751ed",
   "metadata": {},
   "outputs": [
    {
     "data": {
      "text/plain": [
       "{'name': 'amit', 'age': 30}"
      ]
     },
     "execution_count": 36,
     "metadata": {},
     "output_type": "execute_result"
    }
   ],
   "source": [
    "fun4(name= \"amit\", age = 30)"
   ]
  },
  {
   "cell_type": "raw",
   "id": "ca765d9b",
   "metadata": {},
   "source": [
    "positional argument\n",
    "Argument (non keyword)\n",
    "Keyword arguments"
   ]
  },
  {
   "cell_type": "code",
   "execution_count": 37,
   "id": "a3c1ebde",
   "metadata": {},
   "outputs": [],
   "source": [
    "def test(a , b) :\n",
    "    return a+b"
   ]
  },
  {
   "cell_type": "code",
   "execution_count": 38,
   "id": "1c52e50c",
   "metadata": {},
   "outputs": [
    {
     "data": {
      "text/plain": [
       "30"
      ]
     },
     "execution_count": 38,
     "metadata": {},
     "output_type": "execute_result"
    }
   ],
   "source": [
    "test(10, 20)"
   ]
  },
  {
   "cell_type": "code",
   "execution_count": 46,
   "id": "4355575c",
   "metadata": {},
   "outputs": [
    {
     "ename": "TypeError",
     "evalue": "test() takes 2 positional arguments but 3 were given",
     "output_type": "error",
     "traceback": [
      "\u001b[1;31m---------------------------------------------------------------------------\u001b[0m",
      "\u001b[1;31mTypeError\u001b[0m                                 Traceback (most recent call last)",
      "Cell \u001b[1;32mIn[46], line 1\u001b[0m\n\u001b[1;32m----> 1\u001b[0m test(\u001b[38;5;241m10\u001b[39m,\u001b[38;5;241m20\u001b[39m,\u001b[38;5;241m30\u001b[39m)\n",
      "\u001b[1;31mTypeError\u001b[0m: test() takes 2 positional arguments but 3 were given"
     ]
    }
   ],
   "source": [
    "test(10,20,30)"
   ]
  },
  {
   "cell_type": "code",
   "execution_count": 40,
   "id": "80378a5c",
   "metadata": {},
   "outputs": [],
   "source": [
    "def test1(*a):\n",
    "    return a"
   ]
  },
  {
   "cell_type": "code",
   "execution_count": 41,
   "id": "a3279d50",
   "metadata": {},
   "outputs": [
    {
     "data": {
      "text/plain": [
       "()"
      ]
     },
     "execution_count": 41,
     "metadata": {},
     "output_type": "execute_result"
    }
   ],
   "source": [
    "test1()"
   ]
  },
  {
   "cell_type": "code",
   "execution_count": 42,
   "id": "b48db849",
   "metadata": {},
   "outputs": [
    {
     "data": {
      "text/plain": [
       "(56,)"
      ]
     },
     "execution_count": 42,
     "metadata": {},
     "output_type": "execute_result"
    }
   ],
   "source": [
    "test1(56)"
   ]
  },
  {
   "cell_type": "code",
   "execution_count": 43,
   "id": "f68738aa",
   "metadata": {},
   "outputs": [
    {
     "data": {
      "text/plain": [
       "(56, 7, 9)"
      ]
     },
     "execution_count": 43,
     "metadata": {},
     "output_type": "execute_result"
    }
   ],
   "source": [
    "test1(56,7,9)"
   ]
  },
  {
   "cell_type": "code",
   "execution_count": 47,
   "id": "288a3f86",
   "metadata": {},
   "outputs": [],
   "source": [
    "def test2(a,b,c):\n",
    "    return a+b+c"
   ]
  },
  {
   "cell_type": "code",
   "execution_count": 48,
   "id": "f816d90c",
   "metadata": {},
   "outputs": [
    {
     "data": {
      "text/plain": [
       "6"
      ]
     },
     "execution_count": 48,
     "metadata": {},
     "output_type": "execute_result"
    }
   ],
   "source": [
    "test2(1,2,3)"
   ]
  },
  {
   "cell_type": "code",
   "execution_count": 49,
   "id": "770f1659",
   "metadata": {},
   "outputs": [
    {
     "ename": "TypeError",
     "evalue": "test2() missing 1 required positional argument: 'c'",
     "output_type": "error",
     "traceback": [
      "\u001b[1;31m---------------------------------------------------------------------------\u001b[0m",
      "\u001b[1;31mTypeError\u001b[0m                                 Traceback (most recent call last)",
      "Cell \u001b[1;32mIn[49], line 1\u001b[0m\n\u001b[1;32m----> 1\u001b[0m test2(\u001b[38;5;241m2\u001b[39m,\u001b[38;5;241m3\u001b[39m)\n",
      "\u001b[1;31mTypeError\u001b[0m: test2() missing 1 required positional argument: 'c'"
     ]
    }
   ],
   "source": [
    "test2(2,3)"
   ]
  },
  {
   "cell_type": "code",
   "execution_count": 50,
   "id": "9f9b0b71",
   "metadata": {},
   "outputs": [],
   "source": [
    "def test3(*a) :\n",
    "    l = []\n",
    "    for i in a :\n",
    "        l.append(i)\n",
    "    return l"
   ]
  },
  {
   "cell_type": "code",
   "execution_count": 51,
   "id": "ff5ff057",
   "metadata": {},
   "outputs": [
    {
     "data": {
      "text/plain": [
       "['amit']"
      ]
     },
     "execution_count": 51,
     "metadata": {},
     "output_type": "execute_result"
    }
   ],
   "source": [
    "test3(\"amit\")"
   ]
  },
  {
   "cell_type": "code",
   "execution_count": 52,
   "id": "9a529a98",
   "metadata": {},
   "outputs": [
    {
     "data": {
      "text/plain": [
       "['python', 'java']"
      ]
     },
     "execution_count": 52,
     "metadata": {},
     "output_type": "execute_result"
    }
   ],
   "source": [
    "test3(\"python\", \"java\")"
   ]
  },
  {
   "cell_type": "code",
   "execution_count": 53,
   "id": "24d89fc2",
   "metadata": {},
   "outputs": [],
   "source": [
    "l = []\n",
    "for i in range(10) :\n",
    "    l.append(i)"
   ]
  },
  {
   "cell_type": "code",
   "execution_count": 54,
   "id": "74ebe5bb",
   "metadata": {},
   "outputs": [
    {
     "data": {
      "text/plain": [
       "[0, 1, 2, 3, 4, 5, 6, 7, 8, 9]"
      ]
     },
     "execution_count": 54,
     "metadata": {},
     "output_type": "execute_result"
    }
   ],
   "source": [
    "l"
   ]
  },
  {
   "cell_type": "code",
   "execution_count": 57,
   "id": "57603563",
   "metadata": {},
   "outputs": [],
   "source": [
    "def test4(a,*m):\n",
    "    return a, m"
   ]
  },
  {
   "cell_type": "code",
   "execution_count": 59,
   "id": "5b371180",
   "metadata": {},
   "outputs": [
    {
     "data": {
      "text/plain": [
       "(2, ())"
      ]
     },
     "execution_count": 59,
     "metadata": {},
     "output_type": "execute_result"
    }
   ],
   "source": [
    "test4(2)"
   ]
  },
  {
   "cell_type": "code",
   "execution_count": 60,
   "id": "4873343b",
   "metadata": {},
   "outputs": [
    {
     "data": {
      "text/plain": [
       "(2, (3,))"
      ]
     },
     "execution_count": 60,
     "metadata": {},
     "output_type": "execute_result"
    }
   ],
   "source": [
    "test4(2,3)"
   ]
  },
  {
   "cell_type": "code",
   "execution_count": 61,
   "id": "11a19c30",
   "metadata": {},
   "outputs": [],
   "source": [
    "def test5(*m, a):\n",
    "    return a, m"
   ]
  },
  {
   "cell_type": "code",
   "execution_count": 67,
   "id": "81c37220",
   "metadata": {},
   "outputs": [
    {
     "ename": "TypeError",
     "evalue": "test5() missing 1 required keyword-only argument: 'a'",
     "output_type": "error",
     "traceback": [
      "\u001b[1;31m---------------------------------------------------------------------------\u001b[0m",
      "\u001b[1;31mTypeError\u001b[0m                                 Traceback (most recent call last)",
      "Cell \u001b[1;32mIn[67], line 1\u001b[0m\n\u001b[1;32m----> 1\u001b[0m test5(\u001b[38;5;241m4\u001b[39m,\u001b[38;5;241m5\u001b[39m,\u001b[38;5;241m4\u001b[39m,\u001b[38;5;241m65\u001b[39m,\u001b[38;5;241m6\u001b[39m,\u001b[38;5;241m7\u001b[39m,\u001b[38;5;241m7\u001b[39m,\u001b[38;5;241m7\u001b[39m,\u001b[38;5;241m8\u001b[39m)\n",
      "\u001b[1;31mTypeError\u001b[0m: test5() missing 1 required keyword-only argument: 'a'"
     ]
    }
   ],
   "source": [
    "test5(4,5,4,65,6,7,7,7,8)"
   ]
  },
  {
   "cell_type": "code",
   "execution_count": 70,
   "id": "5631c9ec",
   "metadata": {},
   "outputs": [],
   "source": [
    "def test6(a, *m, **n):\n",
    "    return a, m, n"
   ]
  },
  {
   "cell_type": "code",
   "execution_count": 71,
   "id": "5efd09f5",
   "metadata": {},
   "outputs": [
    {
     "data": {
      "text/plain": [
       "(2, (), {})"
      ]
     },
     "execution_count": 71,
     "metadata": {},
     "output_type": "execute_result"
    }
   ],
   "source": [
    "test6(2)"
   ]
  },
  {
   "cell_type": "code",
   "execution_count": 78,
   "id": "9e6eced7",
   "metadata": {},
   "outputs": [
    {
     "ename": "TypeError",
     "evalue": "test6() missing 1 required positional argument: 'a'",
     "output_type": "error",
     "traceback": [
      "\u001b[1;31m---------------------------------------------------------------------------\u001b[0m",
      "\u001b[1;31mTypeError\u001b[0m                                 Traceback (most recent call last)",
      "Cell \u001b[1;32mIn[78], line 1\u001b[0m\n\u001b[1;32m----> 1\u001b[0m test6(num \u001b[38;5;241m=\u001b[39m \u001b[38;5;241m8\u001b[39m, lang \u001b[38;5;241m=\u001b[39m \u001b[38;5;124m\"\u001b[39m\u001b[38;5;124mpy\u001b[39m\u001b[38;5;124m\"\u001b[39m)\n",
      "\u001b[1;31mTypeError\u001b[0m: test6() missing 1 required positional argument: 'a'"
     ]
    }
   ],
   "source": [
    "test6(num = 8, lang = \"py\")"
   ]
  },
  {
   "cell_type": "code",
   "execution_count": 79,
   "id": "2155df22",
   "metadata": {},
   "outputs": [
    {
     "ename": "SyntaxError",
     "evalue": "* argument may appear only once (1170193125.py, line 1)",
     "output_type": "error",
     "traceback": [
      "\u001b[1;36m  Cell \u001b[1;32mIn[79], line 1\u001b[1;36m\u001b[0m\n\u001b[1;33m    def test7(a, *c, *b):\u001b[0m\n\u001b[1;37m                     ^\u001b[0m\n\u001b[1;31mSyntaxError\u001b[0m\u001b[1;31m:\u001b[0m * argument may appear only once\n"
     ]
    }
   ],
   "source": [
    "def test7(a, *c, *b):\n",
    "    return a, c, b"
   ]
  },
  {
   "cell_type": "code",
   "execution_count": null,
   "id": "ce678837",
   "metadata": {},
   "outputs": [],
   "source": [
    "\n",
    "        "
   ]
  }
 ],
 "metadata": {
  "kernelspec": {
   "display_name": "Python 3 (ipykernel)",
   "language": "python",
   "name": "python3"
  },
  "language_info": {
   "codemirror_mode": {
    "name": "ipython",
    "version": 3
   },
   "file_extension": ".py",
   "mimetype": "text/x-python",
   "name": "python",
   "nbconvert_exporter": "python",
   "pygments_lexer": "ipython3",
   "version": "3.11.5"
  }
 },
 "nbformat": 4,
 "nbformat_minor": 5
}
