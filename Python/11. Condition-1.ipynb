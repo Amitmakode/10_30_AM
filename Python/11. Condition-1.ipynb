{
 "cells": [
  {
   "cell_type": "code",
   "execution_count": 1,
   "id": "4c90d00e",
   "metadata": {},
   "outputs": [
    {
     "name": "stdout",
     "output_type": "stream",
     "text": [
      "A is a positive number\n"
     ]
    }
   ],
   "source": [
    "a = 3\n",
    "\n",
    "if a > 0:\n",
    "    print('A is a positive number')"
   ]
  },
  {
   "cell_type": "code",
   "execution_count": 2,
   "id": "4cd53aa5",
   "metadata": {},
   "outputs": [],
   "source": [
    "a = -1\n",
    "\n",
    "if a > 0:\n",
    "    print('A is a positive number')"
   ]
  },
  {
   "cell_type": "code",
   "execution_count": 11,
   "id": "ade04aa0",
   "metadata": {},
   "outputs": [
    {
     "name": "stdout",
     "output_type": "stream",
     "text": [
      "4\n",
      "num is not equal to 4\n"
     ]
    }
   ],
   "source": [
    "number = int(input())\n",
    "\n",
    "\n",
    "if number == 5:\n",
    "    print(\"number is same\")\n",
    "elif number > 5:\n",
    "    print(\"num greater than five\")\n",
    "elif number == 4:\n",
    "    print(\"num is not equal to 4\")\n",
    "else:\n",
    "    print(\"less than five\")"
   ]
  },
  {
   "cell_type": "code",
   "execution_count": 9,
   "id": "531c7257",
   "metadata": {},
   "outputs": [
    {
     "name": "stdout",
     "output_type": "stream",
     "text": [
      "4\n",
      "equal to 4\n"
     ]
    }
   ],
   "source": [
    "number = int(input())\n",
    "\n",
    "\n",
    "if number == 5:\n",
    "    print(\"number is same\")\n",
    "elif number > 5:\n",
    "    print(\"num greater than five\")    \n",
    "if number == 4:\n",
    "    print(\"equal to 4\")\n",
    "elif number != 4:\n",
    "    print(\"num is not equal to 4\")\n",
    "else:\n",
    "    print(\"less than five\")"
   ]
  },
  {
   "cell_type": "code",
   "execution_count": 10,
   "id": "4e44d8fc",
   "metadata": {},
   "outputs": [
    {
     "name": "stdout",
     "output_type": "stream",
     "text": [
      "4\n",
      "num greater than five\n",
      "equal to 4\n"
     ]
    }
   ],
   "source": [
    "number = int(input())\n",
    "\n",
    "\n",
    "if number == 5:\n",
    "    print(\"number is same\")\n",
    "elif number < 5:\n",
    "    print(\"num greater than five\") \n",
    "elif number == 4:\n",
    "    print(\"equal to 4\")\n",
    "elif number != 4:\n",
    "    print(\"num is not equal to 4\")\n",
    "else:\n",
    "    print(\"less than five\")"
   ]
  },
  {
   "cell_type": "raw",
   "id": "760b529e",
   "metadata": {},
   "source": [
    "if condition:\n",
    "    this part of code runs for truthy conditions\n",
    "else:\n",
    "     this part of code runs for false conditions"
   ]
  },
  {
   "cell_type": "code",
   "execution_count": 14,
   "id": "9ba54617",
   "metadata": {},
   "outputs": [
    {
     "name": "stdout",
     "output_type": "stream",
     "text": [
      "A is a negative number\n"
     ]
    }
   ],
   "source": [
    "a = 3\n",
    "if a < 4:\n",
    "    print('A is a negative number')\n",
    "else:\n",
    "    print('A is a positive number')"
   ]
  },
  {
   "cell_type": "code",
   "execution_count": 15,
   "id": "3492bd4d",
   "metadata": {},
   "outputs": [
    {
     "name": "stdout",
     "output_type": "stream",
     "text": [
      "A is zero\n"
     ]
    }
   ],
   "source": [
    "a = 0\n",
    "if a > 0:\n",
    "    print('A is a positive number')\n",
    "elif a < 0:\n",
    "    print('A is a negative number')\n",
    "else:\n",
    "    print('A is zero')"
   ]
  },
  {
   "cell_type": "code",
   "execution_count": 17,
   "id": "fede1ee0",
   "metadata": {},
   "outputs": [
    {
     "name": "stdout",
     "output_type": "stream",
     "text": [
      "A is negative\n"
     ]
    }
   ],
   "source": [
    "a = 3\n",
    "print('A is positive') if a > 4 else print('A is negative')  "
   ]
  },
  {
   "cell_type": "code",
   "execution_count": 18,
   "id": "06fb814e",
   "metadata": {},
   "outputs": [
    {
     "ename": "SyntaxError",
     "evalue": "expected 'else' after 'if' expression (2219744488.py, line 2)",
     "output_type": "error",
     "traceback": [
      "\u001b[1;36m  Cell \u001b[1;32mIn[18], line 2\u001b[1;36m\u001b[0m\n\u001b[1;33m    print('A is positive') if a > 4 elif a ==4 print(\"middle\") else print('A is negative')\u001b[0m\n\u001b[1;37m    ^\u001b[0m\n\u001b[1;31mSyntaxError\u001b[0m\u001b[1;31m:\u001b[0m expected 'else' after 'if' expression\n"
     ]
    }
   ],
   "source": [
    "a = 3\n",
    "print('A is positive') if a > 4 elif a ==4 print(\"middle\") else print('A is negative')  "
   ]
  },
  {
   "cell_type": "code",
   "execution_count": 22,
   "id": "64fec26e",
   "metadata": {},
   "outputs": [
    {
     "name": "stdout",
     "output_type": "stream",
     "text": [
      "A is a positive and even integer\n"
     ]
    }
   ],
   "source": [
    "a = 2\n",
    "if a > 0:\n",
    "    if a % 2 == 0:\n",
    "        print('A is a positive and even integer')\n",
    "    else:\n",
    "        print('A is a positive number')\n",
    "elif a == 0:\n",
    "    print('A is zero')\n",
    "else:\n",
    "    print('A is a negative number')"
   ]
  },
  {
   "cell_type": "code",
   "execution_count": 27,
   "id": "942f954b",
   "metadata": {},
   "outputs": [
    {
     "name": "stdout",
     "output_type": "stream",
     "text": [
      "-8\n"
     ]
    }
   ],
   "source": [
    "a = int(input())\n",
    "\n",
    "if a > 0 and a % 2 == 0:\n",
    "        print('A is an even and positive integer')\n",
    "elif a > 0 and a % 2 !=  0:\n",
    "     print('A is a positive integer')\n",
    "elif a == 0:\n",
    "    print('A is zero')\n",
    "else:\n",
    "    print('A is negative')"
   ]
  },
  {
   "cell_type": "code",
   "execution_count": 29,
   "id": "8ef6e0fe",
   "metadata": {},
   "outputs": [
    {
     "name": "stdout",
     "output_type": "stream",
     "text": [
      "Access granted!\n"
     ]
    }
   ],
   "source": [
    "user = 'James'\n",
    "access_level = 5\n",
    "\n",
    "if user == 'admin' or access_level >= 4:\n",
    "        print('Access granted!')\n",
    "else:\n",
    "    print('Access denied!')"
   ]
  },
  {
   "cell_type": "code",
   "execution_count": 30,
   "id": "f36d7b3b",
   "metadata": {},
   "outputs": [],
   "source": [
    "x = 5 \n",
    "y = 6"
   ]
  },
  {
   "cell_type": "code",
   "execution_count": 31,
   "id": "84873202",
   "metadata": {},
   "outputs": [
    {
     "data": {
      "text/plain": [
       "False"
      ]
     },
     "execution_count": 31,
     "metadata": {},
     "output_type": "execute_result"
    }
   ],
   "source": [
    "x == y   # x is equal to y "
   ]
  },
  {
   "cell_type": "code",
   "execution_count": 32,
   "id": "c13f71ba",
   "metadata": {},
   "outputs": [
    {
     "data": {
      "text/plain": [
       "True"
      ]
     },
     "execution_count": 32,
     "metadata": {},
     "output_type": "execute_result"
    }
   ],
   "source": [
    "x != y  # x is not equal to y "
   ]
  },
  {
   "cell_type": "code",
   "execution_count": 33,
   "id": "94efa4bc",
   "metadata": {},
   "outputs": [
    {
     "data": {
      "text/plain": [
       "False"
      ]
     },
     "execution_count": 33,
     "metadata": {},
     "output_type": "execute_result"
    }
   ],
   "source": [
    "x > y  # x is greater than y "
   ]
  },
  {
   "cell_type": "code",
   "execution_count": 34,
   "id": "c52be376",
   "metadata": {},
   "outputs": [
    {
     "data": {
      "text/plain": [
       "True"
      ]
     },
     "execution_count": 34,
     "metadata": {},
     "output_type": "execute_result"
    }
   ],
   "source": [
    "x < y # x is less than y "
   ]
  },
  {
   "cell_type": "code",
   "execution_count": 35,
   "id": "b46252da",
   "metadata": {},
   "outputs": [
    {
     "data": {
      "text/plain": [
       "False"
      ]
     },
     "execution_count": 35,
     "metadata": {},
     "output_type": "execute_result"
    }
   ],
   "source": [
    "x >= y # x is greater than or equal to y "
   ]
  },
  {
   "cell_type": "code",
   "execution_count": 36,
   "id": "46334624",
   "metadata": {},
   "outputs": [
    {
     "data": {
      "text/plain": [
       "True"
      ]
     },
     "execution_count": 36,
     "metadata": {},
     "output_type": "execute_result"
    }
   ],
   "source": [
    "x <= y # x is less than or equal to y "
   ]
  },
  {
   "cell_type": "code",
   "execution_count": 37,
   "id": "d5247743",
   "metadata": {},
   "outputs": [
    {
     "data": {
      "text/plain": [
       "False"
      ]
     },
     "execution_count": 37,
     "metadata": {},
     "output_type": "execute_result"
    }
   ],
   "source": [
    "x is y # x is same as y "
   ]
  },
  {
   "cell_type": "code",
   "execution_count": 38,
   "id": "79900e12",
   "metadata": {},
   "outputs": [
    {
     "data": {
      "text/plain": [
       "True"
      ]
     },
     "execution_count": 38,
     "metadata": {},
     "output_type": "execute_result"
    }
   ],
   "source": [
    "x is not y # x is not same as y"
   ]
  },
  {
   "cell_type": "code",
   "execution_count": 39,
   "id": "5217d235",
   "metadata": {},
   "outputs": [
    {
     "data": {
      "text/plain": [
       "True"
      ]
     },
     "execution_count": 39,
     "metadata": {},
     "output_type": "execute_result"
    }
   ],
   "source": [
    "x > 4 and y > 5 "
   ]
  },
  {
   "cell_type": "code",
   "execution_count": 40,
   "id": "ceaff8a8",
   "metadata": {},
   "outputs": [
    {
     "data": {
      "text/plain": [
       "False"
      ]
     },
     "execution_count": 40,
     "metadata": {},
     "output_type": "execute_result"
    }
   ],
   "source": [
    "x < 4 and y > 5 "
   ]
  },
  {
   "cell_type": "code",
   "execution_count": 41,
   "id": "e526225f",
   "metadata": {},
   "outputs": [
    {
     "data": {
      "text/plain": [
       "True"
      ]
     },
     "execution_count": 41,
     "metadata": {},
     "output_type": "execute_result"
    }
   ],
   "source": [
    "x > 14 or y > 3 # if any one of the condition is true, then will be returned otherwise false is returned"
   ]
  },
  {
   "cell_type": "code",
   "execution_count": 42,
   "id": "97b4925c",
   "metadata": {},
   "outputs": [
    {
     "data": {
      "text/plain": [
       "False"
      ]
     },
     "execution_count": 42,
     "metadata": {},
     "output_type": "execute_result"
    }
   ],
   "source": [
    "not(x < y ) # used to negate the value returned by conditional expression"
   ]
  },
  {
   "cell_type": "code",
   "execution_count": 43,
   "id": "f750e259",
   "metadata": {},
   "outputs": [
    {
     "name": "stdout",
     "output_type": "stream",
     "text": [
      "Enter the number\n",
      "7\n"
     ]
    }
   ],
   "source": [
    "number = int(input(\"Enter the number\\n\"))\n",
    "\n",
    "if number % 2 == 0 :   # if entered number is even then only message is shown to the user\n",
    "    print(number ,\" is even number\")  "
   ]
  },
  {
   "cell_type": "code",
   "execution_count": 44,
   "id": "f3f0ccd8",
   "metadata": {},
   "outputs": [
    {
     "name": "stdout",
     "output_type": "stream",
     "text": [
      "Enter the number\n",
      "81\n"
     ]
    }
   ],
   "source": [
    "number = int(input(\"Enter the number\\n\"))\n",
    "\n",
    "if number % 2 == 0 :   # if block can consists of more than one statements, here two print statements are printed if condiotn is true\n",
    "    print(\"You have entered \", number)\n",
    "    print(number ,\" is even number\") "
   ]
  },
  {
   "cell_type": "code",
   "execution_count": 47,
   "id": "82a9c4bf",
   "metadata": {},
   "outputs": [
    {
     "name": "stdout",
     "output_type": "stream",
     "text": [
      "Enter the number\n",
      "7\n",
      "7  is even number\n",
      "I am always printed!\n"
     ]
    }
   ],
   "source": [
    "number = int(input(\"Enter the number\\n\"))\n",
    "\n",
    "if number % 2 == 0 :   # if block can consists of more than one statements, here two print statements are printed if condiotn is true\n",
    "    print(\"You have entered \", number)\n",
    "    print(number ,\" is even number\")\n",
    "    \n",
    "print(\"I am always printed!\")    # this statement is always printed as its not part of if block, check the indentation"
   ]
  },
  {
   "cell_type": "code",
   "execution_count": 48,
   "id": "6d5c71ea",
   "metadata": {},
   "outputs": [
    {
     "name": "stdout",
     "output_type": "stream",
     "text": [
      "Enter the number\n",
      "67\n",
      "67  is odd number\n"
     ]
    }
   ],
   "source": [
    "number = int(input(\"Enter the number\\n\"))\n",
    "\n",
    "if number % 2 == 0 :   # if entered number is even then only message is shown to the user\n",
    "    print(number ,\" is even number\") \n",
    "else :\n",
    "    print(number ,\" is odd number\") "
   ]
  },
  {
   "cell_type": "code",
   "execution_count": 50,
   "id": "dcdc75ea",
   "metadata": {},
   "outputs": [
    {
     "name": "stdout",
     "output_type": "stream",
     "text": [
      "Enter the mark\n",
      "66\n",
      "You passed in first class\n"
     ]
    }
   ],
   "source": [
    "mark = int(input(\"Enter the mark\\n\"))\n",
    "\n",
    "if mark < 0 or mark > 100: \n",
    "    print(\"Invalid marks are entered!\")\n",
    "    \n",
    "elif mark >= 0 and mark < 35 :\n",
    "    print(\"Sorry you failed!\")\n",
    "    \n",
    "elif mark >= 35 and mark < 80 :\n",
    "    print(\"You passed in first class\")\n",
    "    \n",
    "else :\n",
    "    print(\"You got distinction!\")"
   ]
  },
  {
   "cell_type": "markdown",
   "id": "39a2b840",
   "metadata": {},
   "source": [
    "You are doing great.Never give up because great things take time. You have just completed day 9 challenges and you are 9 steps a head in to your way to greatness. Now do some exercises for your brain and muscles.\n",
    "\n",
    "\n",
    "### Exercises: Level 1\n",
    "\n",
    "1.  Get user input using input(“Enter your age: ”). If user is 18 or older, give feedback: You are old enough to drive. If below 18 give feedback to wait for the missing amount of years. Output:\n",
    "    ```sh\n",
    "    Enter your age: 30\n",
    "    You are old enough to learn to drive.\n",
    "    Output:\n",
    "    Enter your age: 15\n",
    "    You need 3 more years to learn to drive.\n",
    "    ```\n",
    "2.  Compare the values of my_age and your_age using if … else. Who is older (me or you)? Use input(“Enter your age: ”) to get the age as input. You can use a nested condition to print 'year' for 1 year difference in age, 'years' for bigger differences, and a custom text if my_age = your_age. Output:\n",
    "    ```sh\n",
    "    Enter your age: 30\n",
    "    You are 5 years older than me.\n",
    "    ```\n",
    "3.  Get two numbers from the user using input prompt. If a is greater than b return a is greater than b, if a is less b return a is smaller than b, else a is equal to b. Output:\n",
    "\n",
    "```sh\n",
    "Enter number one: 4\n",
    "Enter number two: 3\n",
    "4 is greater than 3\n",
    "```\n",
    "\n",
    "    ### Exercises: Level 2\n",
    "\n",
    "   1. Write a code which gives grade to students according to theirs scores:\n",
    "   \n",
    "        ```sh\n",
    "        80-100, A\n",
    "        70-89, B\n",
    "        60-69, C\n",
    "        50-59, D\n",
    "        0-49, F\n",
    "        ```\n",
    "1. Check if the season is Autumn, Winter, Spring or Summer. If the user input is:\n",
    "    September, October or November, the season is Autumn.\n",
    "    December, January or February, the season is Winter.\n",
    "    March, April or May, the season is Spring\n",
    "    June, July or August, the season is Summer\n",
    "2.  The following list contains some fruits:\n",
    "    ```sh\n",
    "    fruits = ['banana', 'orange', 'mango', 'lemon']\n",
    "    ```\n",
    "    If a fruit doesn't exist in the list add the fruit to the list and print the modified list. If the fruit exists print('That fruit already exist in the list') \n",
    "\n",
    "    ### Exercises: Level 3\n",
    "\n",
    "   1. Here we have a person dictionary. Feel free to modify it!\n",
    "   \n",
    "```py\n",
    "        person={\n",
    "    'first_name': 'Asabeneh',\n",
    "    'last_name': 'Yetayeh',\n",
    "    'age': 250,\n",
    "    'country': 'Finland',\n",
    "    'is_marred': True,\n",
    "    'skills': ['JavaScript', 'React', 'Node', 'MongoDB', 'Python'],\n",
    "    'address': {\n",
    "        'street': 'Space street',\n",
    "        'zipcode': '02210'\n",
    "    }\n",
    "    }\n",
    "```\n",
    "\n",
    "     * Check if the person dictionary has skills key, if so print out the middle skill in the skills list.\n",
    "     * Check if the person dictionary has skills key, if so check if the person has 'Python' skill and print out the result.\n",
    "     * If a person skills has only JavaScript and React, print('He is a front end developer'), if the person skills has Node, Python, MongoDB, print('He is a backend developer'), if the person skills has React, Node and MongoDB, Print('He is a fullstack developer'), else print('unknown title') - for more accurate results more conditions can be nested!\n",
    "     * If the person is married and if he lives in Finland, print the information in the following format:"
   ]
  },
  {
   "cell_type": "code",
   "execution_count": null,
   "id": "726e9606",
   "metadata": {},
   "outputs": [],
   "source": []
  }
 ],
 "metadata": {
  "kernelspec": {
   "display_name": "Python 3 (ipykernel)",
   "language": "python",
   "name": "python3"
  },
  "language_info": {
   "codemirror_mode": {
    "name": "ipython",
    "version": 3
   },
   "file_extension": ".py",
   "mimetype": "text/x-python",
   "name": "python",
   "nbconvert_exporter": "python",
   "pygments_lexer": "ipython3",
   "version": "3.11.5"
  }
 },
 "nbformat": 4,
 "nbformat_minor": 5
}
