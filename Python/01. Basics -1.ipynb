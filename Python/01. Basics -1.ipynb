{
 "cells": [
  {
   "cell_type": "markdown",
   "id": "466224e8-4635-4372-9770-667250ee7ccd",
   "metadata": {},
   "source": [
    "### datatypes"
   ]
  },
  {
   "cell_type": "code",
   "execution_count": null,
   "id": "12c3361e-0a2b-4561-9a96-3d531433f608",
   "metadata": {},
   "outputs": [],
   "source": [
    "int = 0-9  # whole number\n",
    "float = 1.5 # decimal\n",
    "complex = 34 + 6j \n",
    "string = \" asd345kjf\", 'ajdfh#^$ ', \"   \", \"\"\n",
    "list = [ 1, 5.8, \"name\" ]\n",
    "tuple = (1, 5.8, \"name\")\n",
    "set = {1, 5.8, \"name\"}\n",
    "dict = {1 : \"jan\", 2: \"feb\", 3:\"march\"}\n",
    "bool = True / False"
   ]
  },
  {
   "cell_type": "markdown",
   "id": "302c3d64-d9e7-49fd-991e-19f89c1bec21",
   "metadata": {},
   "source": [
    "### operators "
   ]
  },
  {
   "cell_type": "markdown",
   "id": "c552fcdb-4ce8-47ed-87e5-581410087be6",
   "metadata": {},
   "source": [
    "#### arithmatic"
   ]
  },
  {
   "cell_type": "code",
   "execution_count": null,
   "id": "a12af15a-7ae2-4ec1-8102-4a3e65714141",
   "metadata": {},
   "outputs": [],
   "source": [
    "+\n",
    "-\n",
    "*\n",
    "/\n",
    "%\n",
    "//\n",
    "**"
   ]
  },
  {
   "cell_type": "markdown",
   "id": "af8ab07f-3740-4cbe-9477-ed2d372af65e",
   "metadata": {},
   "source": [
    "#### comparison "
   ]
  },
  {
   "cell_type": "code",
   "execution_count": null,
   "id": "36c4edab-f00e-4727-8b12-efd8caabd572",
   "metadata": {},
   "outputs": [],
   "source": [
    "==\n",
    ">\n",
    "<\n",
    "!=\n",
    ">=\n",
    "<="
   ]
  },
  {
   "cell_type": "markdown",
   "id": "9cad7767-7408-425c-bb82-adefcfa1a900",
   "metadata": {},
   "source": [
    "### Logical Operators"
   ]
  },
  {
   "cell_type": "code",
   "execution_count": null,
   "id": "581ac449-7bc4-4bc4-88ab-96026f4d5da8",
   "metadata": {},
   "outputs": [],
   "source": [
    "and\n",
    "or\n",
    "not\n",
    "in \n",
    "not in\n",
    "is \n",
    "is not"
   ]
  },
  {
   "cell_type": "markdown",
   "id": "cd3f1ff5-342c-49d4-bc30-f49bfd536f55",
   "metadata": {},
   "source": [
    "### Bitwise operators"
   ]
  },
  {
   "cell_type": "code",
   "execution_count": null,
   "id": "a7f7ef24-abf3-4638-9285-288b70a8aba3",
   "metadata": {},
   "outputs": [],
   "source": [
    "+=\n",
    "-=\n",
    "*=\n",
    "/=\n",
    "%=\n",
    "//=\n",
    "**="
   ]
  },
  {
   "cell_type": "markdown",
   "id": "947bcdbf-b19b-4ded-8b17-3cf7ee17f542",
   "metadata": {},
   "source": [
    "### variables"
   ]
  },
  {
   "cell_type": "code",
   "execution_count": 4,
   "id": "29fbeb9c-317f-4fdb-a131-cc32c2b12903",
   "metadata": {},
   "outputs": [],
   "source": [
    "x = 10"
   ]
  },
  {
   "cell_type": "code",
   "execution_count": 5,
   "id": "31c17c2b-62ea-44d5-b8f5-2e4da2fb8b48",
   "metadata": {},
   "outputs": [
    {
     "ename": "SyntaxError",
     "evalue": "invalid decimal literal (3928191300.py, line 1)",
     "output_type": "error",
     "traceback": [
      "\u001b[1;36m  Cell \u001b[1;32mIn[5], line 1\u001b[1;36m\u001b[0m\n\u001b[1;33m    1name = \"amit\"\u001b[0m\n\u001b[1;37m    ^\u001b[0m\n\u001b[1;31mSyntaxError\u001b[0m\u001b[1;31m:\u001b[0m invalid decimal literal\n"
     ]
    }
   ],
   "source": [
    "1name = \"amit\""
   ]
  },
  {
   "cell_type": "code",
   "execution_count": 6,
   "id": "97620f26-1573-4e43-a2e3-abafdadd6fae",
   "metadata": {},
   "outputs": [],
   "source": [
    "name1 = \"amit\""
   ]
  },
  {
   "cell_type": "code",
   "execution_count": 7,
   "id": "5f8e4d3e-1818-4569-94ea-74b8e3c3cfa7",
   "metadata": {},
   "outputs": [
    {
     "ename": "SyntaxError",
     "evalue": "invalid syntax (449341702.py, line 1)",
     "output_type": "error",
     "traceback": [
      "\u001b[1;36m  Cell \u001b[1;32mIn[7], line 1\u001b[1;36m\u001b[0m\n\u001b[1;33m    name 1 = \"amit\"\u001b[0m\n\u001b[1;37m         ^\u001b[0m\n\u001b[1;31mSyntaxError\u001b[0m\u001b[1;31m:\u001b[0m invalid syntax\n"
     ]
    }
   ],
   "source": [
    "name 1 = \"amit\""
   ]
  },
  {
   "cell_type": "code",
   "execution_count": 8,
   "id": "d27fc7d4-98ed-47e2-9cd8-0e1eacff872e",
   "metadata": {},
   "outputs": [],
   "source": [
    "name_1 = \"amit\""
   ]
  },
  {
   "cell_type": "code",
   "execution_count": 9,
   "id": "29828cf6-897e-4e4c-8033-dd82e5602f79",
   "metadata": {},
   "outputs": [
    {
     "ename": "SyntaxError",
     "evalue": "invalid syntax (3416882218.py, line 1)",
     "output_type": "error",
     "traceback": [
      "\u001b[1;36m  Cell \u001b[1;32mIn[9], line 1\u001b[1;36m\u001b[0m\n\u001b[1;33m    name@ = \"amit\"\u001b[0m\n\u001b[1;37m          ^\u001b[0m\n\u001b[1;31mSyntaxError\u001b[0m\u001b[1;31m:\u001b[0m invalid syntax\n"
     ]
    }
   ],
   "source": [
    "name@ = \"amit\""
   ]
  },
  {
   "cell_type": "code",
   "execution_count": 10,
   "id": "5c39f785-e37a-4e1a-aee7-3f025ad60250",
   "metadata": {},
   "outputs": [],
   "source": [
    "_ = 6576"
   ]
  },
  {
   "cell_type": "code",
   "execution_count": 11,
   "id": "8a13fd47-8fe1-438d-8101-1b0faa07095e",
   "metadata": {},
   "outputs": [
    {
     "data": {
      "text/plain": [
       "6576"
      ]
     },
     "execution_count": 11,
     "metadata": {},
     "output_type": "execute_result"
    }
   ],
   "source": [
    "_"
   ]
  },
  {
   "cell_type": "code",
   "execution_count": 25,
   "id": "ddd8b91e-aba2-4ae5-99cd-563bd20263dd",
   "metadata": {},
   "outputs": [],
   "source": [
    "a, b,c = 10,20,30"
   ]
  },
  {
   "cell_type": "code",
   "execution_count": null,
   "id": "c2f5e6d0-a14b-4f2d-9b27-4efa58984662",
   "metadata": {},
   "outputs": [],
   "source": []
  },
  {
   "cell_type": "code",
   "execution_count": 12,
   "id": "19143aa4-3614-4cda-8570-3abc1b3319fc",
   "metadata": {},
   "outputs": [],
   "source": [
    "a = 67\n",
    "b = 11"
   ]
  },
  {
   "cell_type": "code",
   "execution_count": 13,
   "id": "595d7d70-795b-4594-ba57-b77a9faac5e5",
   "metadata": {},
   "outputs": [
    {
     "data": {
      "text/plain": [
       "67"
      ]
     },
     "execution_count": 13,
     "metadata": {},
     "output_type": "execute_result"
    }
   ],
   "source": [
    "a"
   ]
  },
  {
   "cell_type": "code",
   "execution_count": 14,
   "id": "2bd6f13a-b50b-4337-bebf-6ab3304b4abe",
   "metadata": {},
   "outputs": [
    {
     "data": {
      "text/plain": [
       "11"
      ]
     },
     "execution_count": 14,
     "metadata": {},
     "output_type": "execute_result"
    }
   ],
   "source": [
    "b"
   ]
  },
  {
   "cell_type": "code",
   "execution_count": 15,
   "id": "b29a46cc-2a69-49d8-847a-6a964795887a",
   "metadata": {},
   "outputs": [
    {
     "data": {
      "text/plain": [
       "78"
      ]
     },
     "execution_count": 15,
     "metadata": {},
     "output_type": "execute_result"
    }
   ],
   "source": [
    "a+ b"
   ]
  },
  {
   "cell_type": "code",
   "execution_count": 16,
   "id": "c74265a0-705e-4039-9c20-f10eb031d0a0",
   "metadata": {},
   "outputs": [
    {
     "data": {
      "text/plain": [
       "-56"
      ]
     },
     "execution_count": 16,
     "metadata": {},
     "output_type": "execute_result"
    }
   ],
   "source": [
    "b-a"
   ]
  },
  {
   "cell_type": "code",
   "execution_count": 17,
   "id": "fef280af-28af-4473-99e0-74131e660172",
   "metadata": {},
   "outputs": [
    {
     "data": {
      "text/plain": [
       "737"
      ]
     },
     "execution_count": 17,
     "metadata": {},
     "output_type": "execute_result"
    }
   ],
   "source": [
    "a*b"
   ]
  },
  {
   "cell_type": "code",
   "execution_count": 18,
   "id": "a21f29a5-269f-4d2f-aaf8-97b91607b1f5",
   "metadata": {},
   "outputs": [
    {
     "data": {
      "text/plain": [
       "11"
      ]
     },
     "execution_count": 18,
     "metadata": {},
     "output_type": "execute_result"
    }
   ],
   "source": [
    "b%a"
   ]
  },
  {
   "cell_type": "code",
   "execution_count": 19,
   "id": "713037ba-2846-4b3b-90d6-b8efb427c8e8",
   "metadata": {},
   "outputs": [
    {
     "data": {
      "text/plain": [
       "1"
      ]
     },
     "execution_count": 19,
     "metadata": {},
     "output_type": "execute_result"
    }
   ],
   "source": [
    "a%b"
   ]
  },
  {
   "cell_type": "code",
   "execution_count": 20,
   "id": "060b85b5-c4cd-440e-a7b2-7980bcedbee4",
   "metadata": {},
   "outputs": [
    {
     "data": {
      "text/plain": [
       "6"
      ]
     },
     "execution_count": 20,
     "metadata": {},
     "output_type": "execute_result"
    }
   ],
   "source": [
    "a//b"
   ]
  },
  {
   "cell_type": "code",
   "execution_count": 28,
   "id": "c6afcf32-1f20-4efb-a217-6579172f89be",
   "metadata": {},
   "outputs": [],
   "source": [
    "x = 10\n",
    "y = 20\n",
    "z = 30\n",
    "X= 40"
   ]
  },
  {
   "cell_type": "code",
   "execution_count": 29,
   "id": "b378f3c0-4e6b-4be5-8614-3fbe995346cc",
   "metadata": {},
   "outputs": [],
   "source": [
    "x = y-(z/x)*y+z"
   ]
  },
  {
   "cell_type": "code",
   "execution_count": 30,
   "id": "85d4ef6c-5c5f-4cd0-9f18-430415c6fc5f",
   "metadata": {},
   "outputs": [
    {
     "data": {
      "text/plain": [
       "-10.0"
      ]
     },
     "execution_count": 30,
     "metadata": {},
     "output_type": "execute_result"
    }
   ],
   "source": [
    "x"
   ]
  },
  {
   "cell_type": "code",
   "execution_count": 31,
   "id": "c5cb1290-5d80-44a9-8e97-4267a7ad4557",
   "metadata": {},
   "outputs": [],
   "source": [
    "a = 5"
   ]
  },
  {
   "cell_type": "code",
   "execution_count": 32,
   "id": "15a34695-f922-4994-ab33-36ef924428f3",
   "metadata": {},
   "outputs": [
    {
     "data": {
      "text/plain": [
       "5"
      ]
     },
     "execution_count": 32,
     "metadata": {},
     "output_type": "execute_result"
    }
   ],
   "source": [
    "a"
   ]
  },
  {
   "cell_type": "code",
   "execution_count": 33,
   "id": "3f87f1a4-ddea-437f-a9fd-bea00f62e451",
   "metadata": {},
   "outputs": [],
   "source": [
    "a = 50"
   ]
  },
  {
   "cell_type": "code",
   "execution_count": 34,
   "id": "f849be8e-9d11-4b7a-afd0-eb612886ba5b",
   "metadata": {},
   "outputs": [
    {
     "data": {
      "text/plain": [
       "50"
      ]
     },
     "execution_count": 34,
     "metadata": {},
     "output_type": "execute_result"
    }
   ],
   "source": [
    "a"
   ]
  },
  {
   "cell_type": "code",
   "execution_count": 35,
   "id": "0895fcff-0897-4fae-a910-f497564db867",
   "metadata": {},
   "outputs": [
    {
     "data": {
      "text/plain": [
       "False"
      ]
     },
     "execution_count": 35,
     "metadata": {},
     "output_type": "execute_result"
    }
   ],
   "source": [
    "5 == 7"
   ]
  },
  {
   "cell_type": "code",
   "execution_count": 36,
   "id": "cb234458-83b3-4c5c-ba45-ec5c16d8d8b5",
   "metadata": {},
   "outputs": [
    {
     "data": {
      "text/plain": [
       "True"
      ]
     },
     "execution_count": 36,
     "metadata": {},
     "output_type": "execute_result"
    }
   ],
   "source": [
    "5 < 7"
   ]
  },
  {
   "cell_type": "code",
   "execution_count": 37,
   "id": "4b48e798-e1f4-44d0-b574-ec33745a137b",
   "metadata": {},
   "outputs": [
    {
     "data": {
      "text/plain": [
       "False"
      ]
     },
     "execution_count": 37,
     "metadata": {},
     "output_type": "execute_result"
    }
   ],
   "source": [
    "5 > 7"
   ]
  },
  {
   "cell_type": "code",
   "execution_count": 38,
   "id": "4a5d88bc-f7d8-490a-a784-735060aef889",
   "metadata": {},
   "outputs": [
    {
     "data": {
      "text/plain": [
       "True"
      ]
     },
     "execution_count": 38,
     "metadata": {},
     "output_type": "execute_result"
    }
   ],
   "source": [
    "5 != 7"
   ]
  },
  {
   "cell_type": "code",
   "execution_count": 48,
   "id": "6c3e8e6e-52d5-40e4-87d4-390751422353",
   "metadata": {},
   "outputs": [],
   "source": [
    "a = a+1"
   ]
  },
  {
   "cell_type": "code",
   "execution_count": 49,
   "id": "ab084d02-daa6-491e-9eeb-662fc1252b0a",
   "metadata": {},
   "outputs": [
    {
     "data": {
      "text/plain": [
       "55"
      ]
     },
     "execution_count": 49,
     "metadata": {},
     "output_type": "execute_result"
    }
   ],
   "source": [
    "a"
   ]
  },
  {
   "cell_type": "code",
   "execution_count": 54,
   "id": "31de517d-94bf-4b77-906c-b00798a4c7fb",
   "metadata": {},
   "outputs": [],
   "source": [
    "a +=1"
   ]
  },
  {
   "cell_type": "code",
   "execution_count": 55,
   "id": "b34c1671-15b8-4262-8e53-1fbe99e43aad",
   "metadata": {},
   "outputs": [
    {
     "data": {
      "text/plain": [
       "58"
      ]
     },
     "execution_count": 55,
     "metadata": {},
     "output_type": "execute_result"
    }
   ],
   "source": [
    "a"
   ]
  },
  {
   "cell_type": "code",
   "execution_count": 56,
   "id": "4c5585df-3ff4-45db-8b54-5cb507bf9c61",
   "metadata": {},
   "outputs": [
    {
     "data": {
      "text/plain": [
       "-10.0"
      ]
     },
     "execution_count": 56,
     "metadata": {},
     "output_type": "execute_result"
    }
   ],
   "source": [
    "x"
   ]
  },
  {
   "cell_type": "code",
   "execution_count": 57,
   "id": "b756be3f-2355-425a-a0de-2e84cda816f8",
   "metadata": {},
   "outputs": [
    {
     "data": {
      "text/plain": [
       "100.0"
      ]
     },
     "execution_count": 57,
     "metadata": {},
     "output_type": "execute_result"
    }
   ],
   "source": [
    "x**2"
   ]
  },
  {
   "cell_type": "code",
   "execution_count": 59,
   "id": "49fff596-aa87-47b3-8d6a-3f4cd6e51505",
   "metadata": {},
   "outputs": [
    {
     "data": {
      "text/plain": [
       "-1000.0"
      ]
     },
     "execution_count": 59,
     "metadata": {},
     "output_type": "execute_result"
    }
   ],
   "source": [
    "x**3"
   ]
  },
  {
   "cell_type": "code",
   "execution_count": 60,
   "id": "33ced1ce-f7d8-4fb2-8aad-7191a074f8f2",
   "metadata": {},
   "outputs": [
    {
     "data": {
      "text/plain": [
       "True"
      ]
     },
     "execution_count": 60,
     "metadata": {},
     "output_type": "execute_result"
    }
   ],
   "source": [
    "True"
   ]
  },
  {
   "cell_type": "code",
   "execution_count": 61,
   "id": "7bfbd50d-675b-44f4-af7b-a51a11e78028",
   "metadata": {},
   "outputs": [
    {
     "data": {
      "text/plain": [
       "2"
      ]
     },
     "execution_count": 61,
     "metadata": {},
     "output_type": "execute_result"
    }
   ],
   "source": [
    "True + True"
   ]
  },
  {
   "cell_type": "code",
   "execution_count": 62,
   "id": "b4a6be1e-9028-49f5-9b6c-b2b2958d1408",
   "metadata": {},
   "outputs": [
    {
     "data": {
      "text/plain": [
       "1"
      ]
     },
     "execution_count": 62,
     "metadata": {},
     "output_type": "execute_result"
    }
   ],
   "source": [
    "False + True"
   ]
  },
  {
   "cell_type": "code",
   "execution_count": 63,
   "id": "6997fbba-bd4e-46a7-b9f8-3946986f84f2",
   "metadata": {},
   "outputs": [
    {
     "data": {
      "text/plain": [
       "True"
      ]
     },
     "execution_count": 63,
     "metadata": {},
     "output_type": "execute_result"
    }
   ],
   "source": [
    "True and True "
   ]
  },
  {
   "cell_type": "code",
   "execution_count": 64,
   "id": "9763eae1-3567-4a18-bb33-816f3d5c8831",
   "metadata": {},
   "outputs": [
    {
     "data": {
      "text/plain": [
       "False"
      ]
     },
     "execution_count": 64,
     "metadata": {},
     "output_type": "execute_result"
    }
   ],
   "source": [
    "True and False"
   ]
  },
  {
   "cell_type": "code",
   "execution_count": 65,
   "id": "7349fdfb-9524-4cb9-ab88-2ea77d149994",
   "metadata": {},
   "outputs": [
    {
     "data": {
      "text/plain": [
       "False"
      ]
     },
     "execution_count": 65,
     "metadata": {},
     "output_type": "execute_result"
    }
   ],
   "source": [
    "False and True"
   ]
  },
  {
   "cell_type": "code",
   "execution_count": 66,
   "id": "13386f06-6131-4618-95cf-db03cc0a7ea0",
   "metadata": {},
   "outputs": [
    {
     "data": {
      "text/plain": [
       "False"
      ]
     },
     "execution_count": 66,
     "metadata": {},
     "output_type": "execute_result"
    }
   ],
   "source": [
    "False and False"
   ]
  },
  {
   "cell_type": "code",
   "execution_count": 67,
   "id": "cbf70cb0-a4c9-440d-b9c1-aefcf814b7a8",
   "metadata": {},
   "outputs": [
    {
     "data": {
      "text/plain": [
       "True"
      ]
     },
     "execution_count": 67,
     "metadata": {},
     "output_type": "execute_result"
    }
   ],
   "source": [
    "True or True"
   ]
  },
  {
   "cell_type": "code",
   "execution_count": 68,
   "id": "5f6a4ba3-43f5-4d29-aa1b-31a0a3b4232a",
   "metadata": {},
   "outputs": [
    {
     "data": {
      "text/plain": [
       "True"
      ]
     },
     "execution_count": 68,
     "metadata": {},
     "output_type": "execute_result"
    }
   ],
   "source": [
    "True or False"
   ]
  },
  {
   "cell_type": "code",
   "execution_count": 69,
   "id": "8a7123e3-6bec-4ae0-930e-255cacb24310",
   "metadata": {},
   "outputs": [
    {
     "data": {
      "text/plain": [
       "False"
      ]
     },
     "execution_count": 69,
     "metadata": {},
     "output_type": "execute_result"
    }
   ],
   "source": [
    "False or False"
   ]
  },
  {
   "cell_type": "code",
   "execution_count": 70,
   "id": "e4da25e8-9b98-4bfd-8e75-402d0bf5f3d0",
   "metadata": {},
   "outputs": [],
   "source": [
    "l = [6,7,3,7,9]"
   ]
  },
  {
   "cell_type": "code",
   "execution_count": 71,
   "id": "b4a80419-2c9a-4b54-a404-164c0afcf725",
   "metadata": {},
   "outputs": [
    {
     "data": {
      "text/plain": [
       "[6, 7, 3, 7, 9]"
      ]
     },
     "execution_count": 71,
     "metadata": {},
     "output_type": "execute_result"
    }
   ],
   "source": [
    "l"
   ]
  },
  {
   "cell_type": "code",
   "execution_count": 72,
   "id": "be5e5583-8958-4186-b9f3-811dd13cc3a3",
   "metadata": {},
   "outputs": [
    {
     "data": {
      "text/plain": [
       "True"
      ]
     },
     "execution_count": 72,
     "metadata": {},
     "output_type": "execute_result"
    }
   ],
   "source": [
    "7 in l"
   ]
  },
  {
   "cell_type": "code",
   "execution_count": 73,
   "id": "be4f41d0-366b-4971-b688-867b4eae7f89",
   "metadata": {},
   "outputs": [
    {
     "name": "stderr",
     "output_type": "stream",
     "text": [
      "<>:1: SyntaxWarning: \"is\" with a literal. Did you mean \"==\"?\n",
      "<>:1: SyntaxWarning: \"is\" with a literal. Did you mean \"==\"?\n",
      "C:\\Users\\amitm\\AppData\\Local\\Temp\\ipykernel_2920\\3221528941.py:1: SyntaxWarning: \"is\" with a literal. Did you mean \"==\"?\n",
      "  7 is l\n"
     ]
    },
    {
     "data": {
      "text/plain": [
       "False"
      ]
     },
     "execution_count": 73,
     "metadata": {},
     "output_type": "execute_result"
    }
   ],
   "source": [
    "7 is l"
   ]
  },
  {
   "cell_type": "code",
   "execution_count": 74,
   "id": "85211678-aa1d-439c-a75c-4d8d5c84aa88",
   "metadata": {},
   "outputs": [],
   "source": [
    "l1 = [6,7,3,7,9]"
   ]
  },
  {
   "cell_type": "code",
   "execution_count": 75,
   "id": "bace235f-0704-42df-b1d0-6e4ac5b0a604",
   "metadata": {},
   "outputs": [
    {
     "data": {
      "text/plain": [
       "False"
      ]
     },
     "execution_count": 75,
     "metadata": {},
     "output_type": "execute_result"
    }
   ],
   "source": [
    "l1 is l"
   ]
  },
  {
   "cell_type": "code",
   "execution_count": 76,
   "id": "ce0de351-d70c-44cd-8c88-491f017546a6",
   "metadata": {},
   "outputs": [
    {
     "data": {
      "text/plain": [
       "False"
      ]
     },
     "execution_count": 76,
     "metadata": {},
     "output_type": "execute_result"
    }
   ],
   "source": [
    "7 not in l"
   ]
  },
  {
   "cell_type": "code",
   "execution_count": 77,
   "id": "2bbc3446-0ff4-4fe9-9478-24c2976045f3",
   "metadata": {},
   "outputs": [
    {
     "data": {
      "text/plain": [
       "False"
      ]
     },
     "execution_count": 77,
     "metadata": {},
     "output_type": "execute_result"
    }
   ],
   "source": [
    "not True"
   ]
  },
  {
   "cell_type": "markdown",
   "id": "964ceaf2-41be-48fe-b36f-63ec428ca761",
   "metadata": {},
   "source": [
    "### typecasting"
   ]
  },
  {
   "cell_type": "code",
   "execution_count": 78,
   "id": "2d1ae7ec-333c-40e1-8161-872fe66afcee",
   "metadata": {},
   "outputs": [
    {
     "data": {
      "text/plain": [
       "58"
      ]
     },
     "execution_count": 78,
     "metadata": {},
     "output_type": "execute_result"
    }
   ],
   "source": [
    "a"
   ]
  },
  {
   "cell_type": "code",
   "execution_count": 81,
   "id": "ca3248b9-ed29-41be-b8e7-6c3b4c001e0d",
   "metadata": {},
   "outputs": [
    {
     "data": {
      "text/plain": [
       "str"
      ]
     },
     "execution_count": 81,
     "metadata": {},
     "output_type": "execute_result"
    }
   ],
   "source": [
    "type(str(a))"
   ]
  },
  {
   "cell_type": "code",
   "execution_count": 80,
   "id": "720d9a8e-6ab6-48dc-be24-25288ae62462",
   "metadata": {},
   "outputs": [
    {
     "data": {
      "text/plain": [
       "int"
      ]
     },
     "execution_count": 80,
     "metadata": {},
     "output_type": "execute_result"
    }
   ],
   "source": [
    "type(a)"
   ]
  },
  {
   "cell_type": "code",
   "execution_count": 82,
   "id": "021f7efe-f5e4-4ab3-b487-94b9ba04a206",
   "metadata": {},
   "outputs": [],
   "source": [
    "b = \"c++\""
   ]
  },
  {
   "cell_type": "code",
   "execution_count": 83,
   "id": "89a41273-c055-4d86-a9f8-66bb5b6bb5b0",
   "metadata": {},
   "outputs": [
    {
     "data": {
      "text/plain": [
       "str"
      ]
     },
     "execution_count": 83,
     "metadata": {},
     "output_type": "execute_result"
    }
   ],
   "source": [
    "type(b)"
   ]
  },
  {
   "cell_type": "code",
   "execution_count": 84,
   "id": "0c9f3cd5-3455-498b-be57-9b75e14d72a2",
   "metadata": {},
   "outputs": [
    {
     "ename": "ValueError",
     "evalue": "invalid literal for int() with base 10: 'c++'",
     "output_type": "error",
     "traceback": [
      "\u001b[1;31m---------------------------------------------------------------------------\u001b[0m",
      "\u001b[1;31mValueError\u001b[0m                                Traceback (most recent call last)",
      "Cell \u001b[1;32mIn[84], line 1\u001b[0m\n\u001b[1;32m----> 1\u001b[0m \u001b[38;5;28mint\u001b[39m(b)\n",
      "\u001b[1;31mValueError\u001b[0m: invalid literal for int() with base 10: 'c++'"
     ]
    }
   ],
   "source": [
    "int(b)"
   ]
  },
  {
   "cell_type": "code",
   "execution_count": 85,
   "id": "64bf018f-1c00-4de3-8d2f-d773ae4db868",
   "metadata": {},
   "outputs": [
    {
     "data": {
      "text/plain": [
       "[6, 7, 3, 7, 9]"
      ]
     },
     "execution_count": 85,
     "metadata": {},
     "output_type": "execute_result"
    }
   ],
   "source": [
    "l"
   ]
  },
  {
   "cell_type": "code",
   "execution_count": 86,
   "id": "a9f7376e-5cdb-48f5-a09b-b803ddfc3588",
   "metadata": {},
   "outputs": [
    {
     "data": {
      "text/plain": [
       "(6, 7, 3, 7, 9)"
      ]
     },
     "execution_count": 86,
     "metadata": {},
     "output_type": "execute_result"
    }
   ],
   "source": [
    "tuple(l)"
   ]
  },
  {
   "cell_type": "code",
   "execution_count": 87,
   "id": "6ae064a8-8374-40a5-83ff-c10ed16f73a6",
   "metadata": {},
   "outputs": [],
   "source": [
    "tup = (5,5,6,7,8,1,5)"
   ]
  },
  {
   "cell_type": "code",
   "execution_count": 88,
   "id": "a8dce01f-d8e9-4951-b2d5-c4b4b7298d00",
   "metadata": {},
   "outputs": [
    {
     "data": {
      "text/plain": [
       "[5, 5, 6, 7, 8, 1, 5]"
      ]
     },
     "execution_count": 88,
     "metadata": {},
     "output_type": "execute_result"
    }
   ],
   "source": [
    "list(tup)"
   ]
  },
  {
   "cell_type": "code",
   "execution_count": 89,
   "id": "ac7333fb-05d2-41c6-8459-346e9e285626",
   "metadata": {},
   "outputs": [
    {
     "data": {
      "text/plain": [
       "{1, 5, 6, 7, 8}"
      ]
     },
     "execution_count": 89,
     "metadata": {},
     "output_type": "execute_result"
    }
   ],
   "source": [
    "set(tup)"
   ]
  },
  {
   "cell_type": "code",
   "execution_count": 92,
   "id": "c91fb23f-8cc2-43e7-9123-3697fce99565",
   "metadata": {},
   "outputs": [],
   "source": [
    "s = {True, \"A\", \"a\", 1,2,True, False}"
   ]
  },
  {
   "cell_type": "code",
   "execution_count": 93,
   "id": "43977634-cf77-4eb2-b4ff-e135e1a53670",
   "metadata": {},
   "outputs": [
    {
     "data": {
      "text/plain": [
       "{2, 'A', False, True, 'a'}"
      ]
     },
     "execution_count": 93,
     "metadata": {},
     "output_type": "execute_result"
    }
   ],
   "source": [
    "s"
   ]
  },
  {
   "cell_type": "code",
   "execution_count": 94,
   "id": "66adfecb-1e0b-4b7e-9383-fce4771ced26",
   "metadata": {},
   "outputs": [
    {
     "ename": "TypeError",
     "evalue": "cannot convert dictionary update sequence element #0 to a sequence",
     "output_type": "error",
     "traceback": [
      "\u001b[1;31m---------------------------------------------------------------------------\u001b[0m",
      "\u001b[1;31mTypeError\u001b[0m                                 Traceback (most recent call last)",
      "Cell \u001b[1;32mIn[94], line 1\u001b[0m\n\u001b[1;32m----> 1\u001b[0m \u001b[38;5;28mdict\u001b[39m(l)\n",
      "\u001b[1;31mTypeError\u001b[0m: cannot convert dictionary update sequence element #0 to a sequence"
     ]
    }
   ],
   "source": [
    "dict(l)"
   ]
  },
  {
   "cell_type": "code",
   "execution_count": 95,
   "id": "3d3e71fe-7a35-4053-99bc-158959400649",
   "metadata": {},
   "outputs": [],
   "source": [
    "l2 = [[1,2],[2,2],[3,3]]"
   ]
  },
  {
   "cell_type": "code",
   "execution_count": 97,
   "id": "d48c5559-e813-4363-a268-313c0877de09",
   "metadata": {},
   "outputs": [],
   "source": [
    "d = dict(l2)"
   ]
  },
  {
   "cell_type": "code",
   "execution_count": 98,
   "id": "c317e70d-3f7d-42ca-b866-a21e74383940",
   "metadata": {},
   "outputs": [
    {
     "data": {
      "text/plain": [
       "{1: 2, 2: 2, 3: 3}"
      ]
     },
     "execution_count": 98,
     "metadata": {},
     "output_type": "execute_result"
    }
   ],
   "source": [
    "d"
   ]
  },
  {
   "cell_type": "code",
   "execution_count": 99,
   "id": "fe8504e5-2177-429a-849f-7815618f9149",
   "metadata": {},
   "outputs": [
    {
     "data": {
      "text/plain": [
       "(1, 2, 3)"
      ]
     },
     "execution_count": 99,
     "metadata": {},
     "output_type": "execute_result"
    }
   ],
   "source": [
    "tuple(d)"
   ]
  },
  {
   "cell_type": "code",
   "execution_count": 101,
   "id": "036be0f3-9838-49a3-9e88-b137be396086",
   "metadata": {},
   "outputs": [
    {
     "data": {
      "text/plain": [
       "False"
      ]
     },
     "execution_count": 101,
     "metadata": {},
     "output_type": "execute_result"
    }
   ],
   "source": [
    "10 == 11 and 10 != 12 "
   ]
  },
  {
   "cell_type": "code",
   "execution_count": 102,
   "id": "ef1fefa8-5df1-4971-8626-f2476efd2af9",
   "metadata": {},
   "outputs": [
    {
     "data": {
      "text/plain": [
       "True"
      ]
     },
     "execution_count": 102,
     "metadata": {},
     "output_type": "execute_result"
    }
   ],
   "source": [
    "10 == 11 or 10 != 12 "
   ]
  },
  {
   "cell_type": "code",
   "execution_count": 103,
   "id": "c40eccb2-8aaf-4aa0-985c-51fd7f4d9c56",
   "metadata": {},
   "outputs": [
    {
     "data": {
      "text/plain": [
       "58"
      ]
     },
     "execution_count": 103,
     "metadata": {},
     "output_type": "execute_result"
    }
   ],
   "source": [
    "a"
   ]
  },
  {
   "cell_type": "code",
   "execution_count": 104,
   "id": "4a3951e9-f389-4dbd-b1ee-3401810891ae",
   "metadata": {},
   "outputs": [
    {
     "name": "stderr",
     "output_type": "stream",
     "text": [
      "<>:1: SyntaxWarning: \"is\" with a literal. Did you mean \"==\"?\n",
      "<>:1: SyntaxWarning: \"is\" with a literal. Did you mean \"==\"?\n",
      "C:\\Users\\amitm\\AppData\\Local\\Temp\\ipykernel_2920\\1572130966.py:1: SyntaxWarning: \"is\" with a literal. Did you mean \"==\"?\n",
      "  58 is a\n"
     ]
    },
    {
     "data": {
      "text/plain": [
       "True"
      ]
     },
     "execution_count": 104,
     "metadata": {},
     "output_type": "execute_result"
    }
   ],
   "source": [
    "58 is a"
   ]
  },
  {
   "cell_type": "code",
   "execution_count": 105,
   "id": "b4a9253a-e62d-4dc8-b906-a9f28659f0a0",
   "metadata": {},
   "outputs": [
    {
     "name": "stderr",
     "output_type": "stream",
     "text": [
      "<>:1: SyntaxWarning: \"is\" with a literal. Did you mean \"==\"?\n",
      "<>:1: SyntaxWarning: \"is\" with a literal. Did you mean \"==\"?\n",
      "C:\\Users\\amitm\\AppData\\Local\\Temp\\ipykernel_2920\\370337381.py:1: SyntaxWarning: \"is\" with a literal. Did you mean \"==\"?\n",
      "  a is 58\n"
     ]
    },
    {
     "data": {
      "text/plain": [
       "True"
      ]
     },
     "execution_count": 105,
     "metadata": {},
     "output_type": "execute_result"
    }
   ],
   "source": [
    "a is 58"
   ]
  },
  {
   "cell_type": "code",
   "execution_count": 106,
   "id": "22b677ba-8a16-491b-a098-067551298b2d",
   "metadata": {},
   "outputs": [
    {
     "ename": "NameError",
     "evalue": "name 'false' is not defined",
     "output_type": "error",
     "traceback": [
      "\u001b[1;31m---------------------------------------------------------------------------\u001b[0m",
      "\u001b[1;31mNameError\u001b[0m                                 Traceback (most recent call last)",
      "Cell \u001b[1;32mIn[106], line 1\u001b[0m\n\u001b[1;32m----> 1\u001b[0m \u001b[38;5;129;01mnot\u001b[39;00m false\n",
      "\u001b[1;31mNameError\u001b[0m: name 'false' is not defined"
     ]
    }
   ],
   "source": [
    "not false"
   ]
  },
  {
   "cell_type": "code",
   "execution_count": 107,
   "id": "81d7650a-e98a-44a1-86eb-62f6cd8b4e78",
   "metadata": {},
   "outputs": [
    {
     "data": {
      "text/plain": [
       "True"
      ]
     },
     "execution_count": 107,
     "metadata": {},
     "output_type": "execute_result"
    }
   ],
   "source": [
    "not False"
   ]
  },
  {
   "cell_type": "code",
   "execution_count": 108,
   "id": "f44514bb-a0d4-46bb-8822-4034b25783b0",
   "metadata": {},
   "outputs": [
    {
     "data": {
      "text/plain": [
       "str"
      ]
     },
     "execution_count": 108,
     "metadata": {},
     "output_type": "execute_result"
    }
   ],
   "source": [
    "str"
   ]
  },
  {
   "cell_type": "code",
   "execution_count": 109,
   "id": "12b0f0eb-f988-474f-96d0-b5f7442843bb",
   "metadata": {},
   "outputs": [
    {
     "data": {
      "text/plain": [
       "int"
      ]
     },
     "execution_count": 109,
     "metadata": {},
     "output_type": "execute_result"
    }
   ],
   "source": [
    "int"
   ]
  },
  {
   "cell_type": "code",
   "execution_count": 110,
   "id": "9e3809fa-55eb-4fd6-b4e9-f51a18f53f2f",
   "metadata": {},
   "outputs": [
    {
     "data": {
      "text/plain": [
       "float"
      ]
     },
     "execution_count": 110,
     "metadata": {},
     "output_type": "execute_result"
    }
   ],
   "source": [
    "float"
   ]
  },
  {
   "cell_type": "code",
   "execution_count": 111,
   "id": "3c800504-9392-411c-bc2b-d04bb2fcc98c",
   "metadata": {},
   "outputs": [
    {
     "data": {
      "text/plain": [
       "complex"
      ]
     },
     "execution_count": 111,
     "metadata": {},
     "output_type": "execute_result"
    }
   ],
   "source": [
    "complex"
   ]
  },
  {
   "cell_type": "code",
   "execution_count": 112,
   "id": "df6a259e-5c7c-478c-8dbc-0ddd66f81ec4",
   "metadata": {},
   "outputs": [
    {
     "data": {
      "text/plain": [
       "list"
      ]
     },
     "execution_count": 112,
     "metadata": {},
     "output_type": "execute_result"
    }
   ],
   "source": [
    "list"
   ]
  },
  {
   "cell_type": "code",
   "execution_count": 113,
   "id": "b7fbeea8-4e8d-49ce-927e-01d5531a9b05",
   "metadata": {},
   "outputs": [
    {
     "data": {
      "text/plain": [
       "tuple"
      ]
     },
     "execution_count": 113,
     "metadata": {},
     "output_type": "execute_result"
    }
   ],
   "source": [
    "tuple"
   ]
  },
  {
   "cell_type": "code",
   "execution_count": 114,
   "id": "7fbe7865-ced9-479c-9e3c-4b386fff410b",
   "metadata": {},
   "outputs": [
    {
     "data": {
      "text/plain": [
       "set"
      ]
     },
     "execution_count": 114,
     "metadata": {},
     "output_type": "execute_result"
    }
   ],
   "source": [
    "set"
   ]
  },
  {
   "cell_type": "code",
   "execution_count": 115,
   "id": "d4687410-539f-4e98-b900-a085a11dbbd3",
   "metadata": {},
   "outputs": [
    {
     "data": {
      "text/plain": [
       "dict"
      ]
     },
     "execution_count": 115,
     "metadata": {},
     "output_type": "execute_result"
    }
   ],
   "source": [
    "dict"
   ]
  },
  {
   "cell_type": "code",
   "execution_count": 116,
   "id": "0f68bb36-e339-45eb-bb22-b34942a72476",
   "metadata": {},
   "outputs": [
    {
     "data": {
      "text/plain": [
       "(5, 5, 6, 7, 8, 1, 5)"
      ]
     },
     "execution_count": 116,
     "metadata": {},
     "output_type": "execute_result"
    }
   ],
   "source": [
    "tup"
   ]
  },
  {
   "cell_type": "code",
   "execution_count": 117,
   "id": "2d0ecb70-6678-47c6-9b7e-e7774d8aa488",
   "metadata": {},
   "outputs": [
    {
     "data": {
      "text/plain": [
       "[6, 7, 3, 7, 9]"
      ]
     },
     "execution_count": 117,
     "metadata": {},
     "output_type": "execute_result"
    }
   ],
   "source": [
    "l"
   ]
  },
  {
   "cell_type": "code",
   "execution_count": 119,
   "id": "3c5acdb8-487f-4314-8d0d-05cac6014391",
   "metadata": {},
   "outputs": [],
   "source": [
    "l3 = [(5, 5, 6, 7, 8, 1, 5),[6, 7, 3, 7, 9], { 3, 7, 9} ]"
   ]
  },
  {
   "cell_type": "code",
   "execution_count": 120,
   "id": "0998f4d8-d834-4d8a-9413-99bec10494e2",
   "metadata": {},
   "outputs": [
    {
     "data": {
      "text/plain": [
       "[(5, 5, 6, 7, 8, 1, 5), [6, 7, 3, 7, 9], {3, 7, 9}]"
      ]
     },
     "execution_count": 120,
     "metadata": {},
     "output_type": "execute_result"
    }
   ],
   "source": [
    "l3"
   ]
  },
  {
   "cell_type": "code",
   "execution_count": 122,
   "id": "9a54c628-5de0-4c5d-99e5-d95700795bd5",
   "metadata": {},
   "outputs": [
    {
     "data": {
      "text/plain": [
       "set"
      ]
     },
     "execution_count": 122,
     "metadata": {},
     "output_type": "execute_result"
    }
   ],
   "source": [
    "type({1})"
   ]
  },
  {
   "cell_type": "code",
   "execution_count": 127,
   "id": "63c75872-c5ca-4331-b254-f6a3f9f0f837",
   "metadata": {},
   "outputs": [
    {
     "data": {
      "text/plain": [
       "set"
      ]
     },
     "execution_count": 127,
     "metadata": {},
     "output_type": "execute_result"
    }
   ],
   "source": [
    "type({1})"
   ]
  },
  {
   "cell_type": "code",
   "execution_count": 125,
   "id": "8dc54e3d-8634-49b6-a7d3-2b51b2065c68",
   "metadata": {},
   "outputs": [
    {
     "data": {
      "text/plain": [
       "tuple"
      ]
     },
     "execution_count": 125,
     "metadata": {},
     "output_type": "execute_result"
    }
   ],
   "source": [
    "type(())"
   ]
  },
  {
   "cell_type": "code",
   "execution_count": 129,
   "id": "fad7da36-ad43-4457-ac25-d23d0fce6c58",
   "metadata": {},
   "outputs": [
    {
     "data": {
      "text/plain": [
       "{'a': 30}"
      ]
     },
     "execution_count": 129,
     "metadata": {},
     "output_type": "execute_result"
    }
   ],
   "source": [
    "{\"a\":30,}"
   ]
  },
  {
   "cell_type": "code",
   "execution_count": null,
   "id": "298bf90c-470a-4112-8229-73c61c4dcd7f",
   "metadata": {},
   "outputs": [],
   "source": []
  }
 ],
 "metadata": {
  "kernelspec": {
   "display_name": "Python 3 (ipykernel)",
   "language": "python",
   "name": "python3"
  },
  "language_info": {
   "codemirror_mode": {
    "name": "ipython",
    "version": 3
   },
   "file_extension": ".py",
   "mimetype": "text/x-python",
   "name": "python",
   "nbconvert_exporter": "python",
   "pygments_lexer": "ipython3",
   "version": "3.11.7"
  }
 },
 "nbformat": 4,
 "nbformat_minor": 5
}
