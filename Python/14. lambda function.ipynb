{
 "cells": [
  {
   "cell_type": "code",
   "execution_count": 1,
   "id": "7530d430-abec-421a-8de0-cf6038e7fb43",
   "metadata": {},
   "outputs": [],
   "source": [
    "def power_of(n, exponent):\n",
    "    \"\"\"\n",
    "    Calculate the power of n to the exponent using a nested function.\n",
    "\n",
    "    Parameters:\n",
    "    n (int/float): The base number.\n",
    "    exponent (int): The exponent.\n",
    "\n",
    "    Returns:\n",
    "    int/float: The result of n raised to the exponent.\n",
    "    \"\"\"\n",
    "    def calculate_power(base, exp):\n",
    "        result = 1\n",
    "        for _ in range(exp):\n",
    "            result *= base\n",
    "        return result\n",
    "\n",
    "    return calculate_power(n, exponent)"
   ]
  },
  {
   "cell_type": "code",
   "execution_count": 2,
   "id": "7483eaad-3d0a-4725-99b4-03715536e5bb",
   "metadata": {},
   "outputs": [
    {
     "data": {
      "text/plain": [
       "32"
      ]
     },
     "execution_count": 2,
     "metadata": {},
     "output_type": "execute_result"
    }
   ],
   "source": [
    "power_of(2, 5)"
   ]
  },
  {
   "cell_type": "code",
   "execution_count": 3,
   "id": "d0a2328d-3bb9-47d3-bbe3-15ea275c1cef",
   "metadata": {},
   "outputs": [],
   "source": [
    "def divide_numbers(a, b):\n",
    "    try:\n",
    "        result = a / b\n",
    "        #logging.info(f\"Division successful: {a} / {b} = {result}\")\n",
    "        return result\n",
    "    except Exception as e:\n",
    "        print(e)\n",
    "        #logging.exception(\"Exception occurred\")\n",
    "    return None"
   ]
  },
  {
   "cell_type": "code",
   "execution_count": 4,
   "id": "a4ed1c2f-dea6-4cb3-b0ab-3b788197810e",
   "metadata": {},
   "outputs": [
    {
     "data": {
      "text/plain": [
       "2.0"
      ]
     },
     "execution_count": 4,
     "metadata": {},
     "output_type": "execute_result"
    }
   ],
   "source": [
    "divide_numbers(4,2)"
   ]
  },
  {
   "cell_type": "code",
   "execution_count": 5,
   "id": "25bbf5ff-ba2b-43b9-af4e-7fc6c7756cf7",
   "metadata": {},
   "outputs": [
    {
     "name": "stdout",
     "output_type": "stream",
     "text": [
      "division by zero\n"
     ]
    }
   ],
   "source": [
    "divide_numbers(4,0)"
   ]
  },
  {
   "cell_type": "markdown",
   "id": "85815c7b-65b5-4610-8969-46588250641d",
   "metadata": {},
   "source": [
    "## list comprehension "
   ]
  },
  {
   "cell_type": "code",
   "execution_count": 7,
   "id": "42c12c34-1702-45d5-bbda-f632a5c13829",
   "metadata": {},
   "outputs": [
    {
     "data": {
      "text/plain": [
       "[0, 1, 4, 9, 16]"
      ]
     },
     "execution_count": 7,
     "metadata": {},
     "output_type": "execute_result"
    }
   ],
   "source": [
    "[i**2 for i in range(5)]"
   ]
  },
  {
   "cell_type": "code",
   "execution_count": 10,
   "id": "1f5d4c40-0ab5-4049-bf5a-0b5142ffac77",
   "metadata": {},
   "outputs": [
    {
     "ename": "SyntaxError",
     "evalue": "did you forget parentheses around the comprehension target? (1890837283.py, line 1)",
     "output_type": "error",
     "traceback": [
      "\u001b[1;36m  Cell \u001b[1;32mIn[10], line 1\u001b[1;36m\u001b[0m\n\u001b[1;33m    [i**2, i+1 for i in range(5)]\u001b[0m\n\u001b[1;37m     ^\u001b[0m\n\u001b[1;31mSyntaxError\u001b[0m\u001b[1;31m:\u001b[0m did you forget parentheses around the comprehension target?\n"
     ]
    }
   ],
   "source": [
    "[i**2 i+1 for i in range(5)]"
   ]
  },
  {
   "cell_type": "code",
   "execution_count": 9,
   "id": "6a6f51c9-45bc-4d87-bceb-2bbfab210d5f",
   "metadata": {},
   "outputs": [
    {
     "data": {
      "text/plain": [
       "[{0, 1}, {1, 2}, {3, 4}, {4, 9}, {5, 16}]"
      ]
     },
     "execution_count": 9,
     "metadata": {},
     "output_type": "execute_result"
    }
   ],
   "source": [
    "[{i**2, i+1} for i in range(5)]"
   ]
  },
  {
   "cell_type": "code",
   "execution_count": 11,
   "id": "2a126250-4f80-4eb1-9f6a-2968bf5b92ec",
   "metadata": {},
   "outputs": [],
   "source": [
    "strvar = \"data science\""
   ]
  },
  {
   "cell_type": "code",
   "execution_count": 17,
   "id": "5955cfb6-ae4a-4a18-afa1-dc70e05b737f",
   "metadata": {},
   "outputs": [
    {
     "data": {
      "text/plain": [
       "['d', 'a', 't', 'a', ' ', 's', 'c', 'i', 'e', 'n', 'c', 'e']"
      ]
     },
     "execution_count": 17,
     "metadata": {},
     "output_type": "execute_result"
    }
   ],
   "source": [
    "[i for i in strvar]"
   ]
  },
  {
   "cell_type": "code",
   "execution_count": 14,
   "id": "53d0d539-6c5d-40bb-9816-f04a0afcd9b7",
   "metadata": {},
   "outputs": [
    {
     "name": "stdout",
     "output_type": "stream",
     "text": [
      "d a t a   s c i e n c e "
     ]
    }
   ],
   "source": [
    "for i in strvar:\n",
    "    print(i, end = \" \")"
   ]
  },
  {
   "cell_type": "code",
   "execution_count": 18,
   "id": "20726f79-a579-4ee3-89c1-bbee2b4c5c6f",
   "metadata": {},
   "outputs": [],
   "source": [
    "list = [i for i in range(11) if i % 2 == 0]"
   ]
  },
  {
   "cell_type": "code",
   "execution_count": 19,
   "id": "0eec4864-14af-43a3-afbd-7942353bf49d",
   "metadata": {},
   "outputs": [
    {
     "data": {
      "text/plain": [
       "[0, 2, 4, 6, 8, 10]"
      ]
     },
     "execution_count": 19,
     "metadata": {},
     "output_type": "execute_result"
    }
   ],
   "source": [
    "list"
   ]
  },
  {
   "cell_type": "code",
   "execution_count": 21,
   "id": "77acd72b-6c04-4287-abf4-281bca5a26fc",
   "metadata": {},
   "outputs": [],
   "source": [
    "list = [i for i in range(11) if i%2 == 0 if i%5 == 0]"
   ]
  },
  {
   "cell_type": "code",
   "execution_count": 22,
   "id": "9dd534fa-de93-4a18-9f70-3a8ac218a998",
   "metadata": {},
   "outputs": [
    {
     "data": {
      "text/plain": [
       "[0, 10]"
      ]
     },
     "execution_count": 22,
     "metadata": {},
     "output_type": "execute_result"
    }
   ],
   "source": [
    "list"
   ]
  },
  {
   "cell_type": "code",
   "execution_count": 23,
   "id": "2f941739-e478-4416-a679-660b467e1cde",
   "metadata": {},
   "outputs": [
    {
     "name": "stdout",
     "output_type": "stream",
     "text": [
      "0\n",
      "0\n",
      "2\n",
      "4\n",
      "5\n",
      "6\n",
      "8\n",
      "10\n",
      "10\n"
     ]
    }
   ],
   "source": [
    "for i in range(11):\n",
    "    if i%2 == 0:\n",
    "        print(i)\n",
    "    if i%5 == 0:\n",
    "        print(i)"
   ]
  },
  {
   "cell_type": "code",
   "execution_count": 25,
   "id": "050fb872-eac3-414e-b7ca-c3289c58ebff",
   "metadata": {},
   "outputs": [
    {
     "name": "stdout",
     "output_type": "stream",
     "text": [
      "0\n",
      "10\n"
     ]
    }
   ],
   "source": [
    "for i in range(11):\n",
    "    if i%2 == 0:\n",
    "        if i%5 == 0:\n",
    "            print(i)"
   ]
  },
  {
   "cell_type": "code",
   "execution_count": 26,
   "id": "d2e6a336-e042-4413-b6aa-b51c0daf62c4",
   "metadata": {},
   "outputs": [
    {
     "name": "stdout",
     "output_type": "stream",
     "text": [
      "0\n",
      "2\n",
      "4\n",
      "5\n",
      "6\n",
      "8\n",
      "10\n"
     ]
    }
   ],
   "source": [
    "for i in range(11):\n",
    "    if i%2 == 0:\n",
    "        print(i)\n",
    "    else:\n",
    "        if i%5 == 0:\n",
    "            print(i)"
   ]
  },
  {
   "cell_type": "code",
   "execution_count": 27,
   "id": "6d273d0c-473f-4563-96eb-8051d5c6661e",
   "metadata": {},
   "outputs": [
    {
     "ename": "SyntaxError",
     "evalue": "invalid syntax (3193401907.py, line 1)",
     "output_type": "error",
     "traceback": [
      "\u001b[1;36m  Cell \u001b[1;32mIn[27], line 1\u001b[1;36m\u001b[0m\n\u001b[1;33m    [i for i in range(11) if i%2 == 0 else i%5 == 0]\u001b[0m\n\u001b[1;37m                                      ^\u001b[0m\n\u001b[1;31mSyntaxError\u001b[0m\u001b[1;31m:\u001b[0m invalid syntax\n"
     ]
    }
   ],
   "source": [
    "[i for i in range(11) if i%2 == 0 else i%5 == 0]"
   ]
  },
  {
   "cell_type": "code",
   "execution_count": 30,
   "id": "a0201a85-ecb7-4df8-a984-d942bcdf8e95",
   "metadata": {},
   "outputs": [
    {
     "data": {
      "text/plain": [
       "[0, 1, 2, 3, 4, 5, 6, 7, 8, 9, 10]"
      ]
     },
     "execution_count": 30,
     "metadata": {},
     "output_type": "execute_result"
    }
   ],
   "source": [
    "[i if i%2 == 0 else i for i in range(11)]"
   ]
  },
  {
   "cell_type": "code",
   "execution_count": 31,
   "id": "4bf4a126-c086-4c98-a13c-3a6f4557171c",
   "metadata": {},
   "outputs": [
    {
     "name": "stdout",
     "output_type": "stream",
     "text": [
      "0\n",
      "1\n",
      "2\n",
      "3\n",
      "4\n",
      "5\n",
      "6\n",
      "7\n",
      "8\n",
      "9\n",
      "10\n"
     ]
    }
   ],
   "source": [
    "for i in range(11):\n",
    "    if i%2 == 0:\n",
    "        print(i)\n",
    "    else:\n",
    "        print(i)"
   ]
  },
  {
   "cell_type": "code",
   "execution_count": 32,
   "id": "89c38dbe-ec7a-4814-a033-aad0196d861e",
   "metadata": {},
   "outputs": [
    {
     "data": {
      "text/plain": [
       "['Even number',\n",
       " 'Odd number',\n",
       " 'Even number',\n",
       " 'Odd number',\n",
       " 'Even number',\n",
       " 'Odd number',\n",
       " 'Even number',\n",
       " 'Odd number']"
      ]
     },
     "execution_count": 32,
     "metadata": {},
     "output_type": "execute_result"
    }
   ],
   "source": [
    "[\"Even number\" if i % 2 == 0  else \"Odd number\" for i in range(8)]"
   ]
  },
  {
   "cell_type": "code",
   "execution_count": 33,
   "id": "8c1c908f-e470-4345-8e1e-d7872d6e3d76",
   "metadata": {},
   "outputs": [
    {
     "data": {
      "text/plain": [
       "[0, 15]"
      ]
     },
     "execution_count": 33,
     "metadata": {},
     "output_type": "execute_result"
    }
   ],
   "source": [
    "[i for i in range(20)  if i % 5 == 0 if i % 3 == 0]"
   ]
  },
  {
   "cell_type": "code",
   "execution_count": 34,
   "id": "05354bb7-69da-43dc-a409-f138136bdf95",
   "metadata": {},
   "outputs": [
    {
     "data": {
      "text/plain": [
       "[[0, 1, 2, 3, 4],\n",
       " [0, 1, 2, 3, 4],\n",
       " [0, 1, 2, 3, 4],\n",
       " [0, 1, 2, 3, 4],\n",
       " [0, 1, 2, 3, 4],\n",
       " [0, 1, 2, 3, 4]]"
      ]
     },
     "execution_count": 34,
     "metadata": {},
     "output_type": "execute_result"
    }
   ],
   "source": [
    "[[i for i in range(5) ]for _ in range(6)]"
   ]
  },
  {
   "cell_type": "code",
   "execution_count": 44,
   "id": "ef06159c-fcda-47d8-8d86-1d57cc6f87ee",
   "metadata": {},
   "outputs": [
    {
     "name": "stdout",
     "output_type": "stream",
     "text": [
      "0 1 2 3 4 \n",
      "\n",
      "0 1 2 3 4 \n",
      "\n",
      "0 1 2 3 4 \n",
      "\n",
      "0 1 2 3 4 \n",
      "\n",
      "0 1 2 3 4 \n",
      "\n",
      "0 1 2 3 4 \n",
      "\n"
     ]
    }
   ],
   "source": [
    "for i in range(6):\n",
    "    for j in range(5):\n",
    "        print(j, end = \" \")\n",
    "    print(\"\\n\")    \n"
   ]
  },
  {
   "cell_type": "markdown",
   "id": "94d8408e-f214-49b1-959a-a836e216fe24",
   "metadata": {},
   "source": [
    "### Lambda Function"
   ]
  },
  {
   "cell_type": "code",
   "execution_count": 46,
   "id": "aaeb843c-0f10-4831-adfd-7983d2d73ded",
   "metadata": {},
   "outputs": [],
   "source": [
    "f1 = lambda a,b: a+b"
   ]
  },
  {
   "cell_type": "code",
   "execution_count": 47,
   "id": "aee052b5-ff1b-4b1b-8986-ddfc2857fbda",
   "metadata": {},
   "outputs": [
    {
     "data": {
      "text/plain": [
       "9"
      ]
     },
     "execution_count": 47,
     "metadata": {},
     "output_type": "execute_result"
    }
   ],
   "source": [
    "f1(2,7)"
   ]
  },
  {
   "cell_type": "code",
   "execution_count": 48,
   "id": "161f4c46-a961-4be5-b954-8d41d30c6a38",
   "metadata": {},
   "outputs": [],
   "source": [
    "f2 = lambda a,b: a+b"
   ]
  },
  {
   "cell_type": "code",
   "execution_count": 49,
   "id": "447d1a7c-7472-4aa5-a912-ff8bed08dbba",
   "metadata": {},
   "outputs": [
    {
     "data": {
      "text/plain": [
       "11"
      ]
     },
     "execution_count": 49,
     "metadata": {},
     "output_type": "execute_result"
    }
   ],
   "source": [
    "f2(2,9)"
   ]
  },
  {
   "cell_type": "code",
   "execution_count": 51,
   "id": "ddcedcc2-2fe1-45b9-8696-71e2b472be9d",
   "metadata": {},
   "outputs": [],
   "source": [
    "str1 = 'python is a data science language'\n",
    "\n",
    "f2 = lambda a: a.upper()"
   ]
  },
  {
   "cell_type": "code",
   "execution_count": 52,
   "id": "5c5f535a-ed42-425f-96e2-4eeab1e804fc",
   "metadata": {},
   "outputs": [
    {
     "data": {
      "text/plain": [
       "'PYTHON IS A DATA SCIENCE LANGUAGE'"
      ]
     },
     "execution_count": 52,
     "metadata": {},
     "output_type": "execute_result"
    }
   ],
   "source": [
    "f2(str1)"
   ]
  },
  {
   "cell_type": "code",
   "execution_count": 54,
   "id": "41bf1246-e0bf-4f4f-9c1d-98329818517b",
   "metadata": {},
   "outputs": [],
   "source": [
    "is_even_list = [lambda arg = x: arg * 10 for x in range(1, 5)]"
   ]
  },
  {
   "cell_type": "code",
   "execution_count": 55,
   "id": "fe9a4748-d03a-4ce2-b78f-28fcbedf78e5",
   "metadata": {},
   "outputs": [
    {
     "data": {
      "text/plain": [
       "[<function __main__.<listcomp>.<lambda>(arg=1)>,\n",
       " <function __main__.<listcomp>.<lambda>(arg=2)>,\n",
       " <function __main__.<listcomp>.<lambda>(arg=3)>,\n",
       " <function __main__.<listcomp>.<lambda>(arg=4)>]"
      ]
     },
     "execution_count": 55,
     "metadata": {},
     "output_type": "execute_result"
    }
   ],
   "source": [
    "is_even_list"
   ]
  },
  {
   "cell_type": "code",
   "execution_count": 56,
   "id": "84d6b714-fbc8-44ee-80b1-46cbc18959b6",
   "metadata": {},
   "outputs": [
    {
     "name": "stdout",
     "output_type": "stream",
     "text": [
      "10\n",
      "20\n",
      "30\n",
      "40\n"
     ]
    }
   ],
   "source": [
    "for item in is_even_list:\n",
    "    print(item())"
   ]
  },
  {
   "cell_type": "code",
   "execution_count": 57,
   "id": "97118974-32cb-47b8-b468-bd12273604cf",
   "metadata": {},
   "outputs": [],
   "source": [
    "Max = lambda a, b : a if(a > b) else b"
   ]
  },
  {
   "cell_type": "code",
   "execution_count": 59,
   "id": "d93ab166-98b7-43a4-9d09-0bd6937523bb",
   "metadata": {},
   "outputs": [
    {
     "data": {
      "text/plain": [
       "30"
      ]
     },
     "execution_count": 59,
     "metadata": {},
     "output_type": "execute_result"
    }
   ],
   "source": [
    "Max(30,6)"
   ]
  },
  {
   "cell_type": "code",
   "execution_count": 60,
   "id": "18222b25-4d77-469c-bbf9-24b33356ea6f",
   "metadata": {},
   "outputs": [],
   "source": [
    "l1 = lambda a : \"even\" if a%2==0 else \"odd\""
   ]
  },
  {
   "cell_type": "code",
   "execution_count": 61,
   "id": "2a8a03c3-1cee-468f-9d34-18822617547a",
   "metadata": {},
   "outputs": [
    {
     "data": {
      "text/plain": [
       "'odd'"
      ]
     },
     "execution_count": 61,
     "metadata": {},
     "output_type": "execute_result"
    }
   ],
   "source": [
    "l1(45)"
   ]
  },
  {
   "cell_type": "code",
   "execution_count": null,
   "id": "4153ec9e-075f-43d9-96ab-f68c427bbd8a",
   "metadata": {},
   "outputs": [],
   "source": [
    "lambda a : \"even\" if a%2==0  else \"odd\""
   ]
  },
  {
   "cell_type": "code",
   "execution_count": 71,
   "id": "784f5721-87d9-4d26-9738-e32f7eedf854",
   "metadata": {},
   "outputs": [],
   "source": [
    "List1 = [[5,3,4,2],[18, 4, 16, 8],[13, 2, 9, 12]]\n",
    "\n",
    "sortList = lambda x: (sorted(i) for i in x)"
   ]
  },
  {
   "cell_type": "code",
   "execution_count": 65,
   "id": "09b4656d-32d6-45d9-9877-909072caf441",
   "metadata": {},
   "outputs": [
    {
     "data": {
      "text/plain": [
       "<generator object <lambda>.<locals>.<genexpr> at 0x000001E8562F5700>"
      ]
     },
     "execution_count": 65,
     "metadata": {},
     "output_type": "execute_result"
    }
   ],
   "source": [
    "sortList(List)"
   ]
  },
  {
   "cell_type": "code",
   "execution_count": 72,
   "id": "033b86bd-6b0f-471c-8e8f-81c506d3d78d",
   "metadata": {},
   "outputs": [],
   "source": [
    "List = [[20,3,4],[1, 4, 66, 64],[30, 66, 9, 12]]\n",
    "\n",
    "sortList = lambda x: [sorted(i) for i in x]"
   ]
  },
  {
   "cell_type": "code",
   "execution_count": 73,
   "id": "ebe5ebb8-340a-4cc2-96eb-77b8da96b0da",
   "metadata": {},
   "outputs": [
    {
     "data": {
      "text/plain": [
       "[[3, 4, 20], [1, 4, 64, 66], [9, 12, 30, 66]]"
      ]
     },
     "execution_count": 73,
     "metadata": {},
     "output_type": "execute_result"
    }
   ],
   "source": [
    "sortList(List)"
   ]
  },
  {
   "cell_type": "code",
   "execution_count": 70,
   "id": "735dbc51-c601-4899-a6a3-d146cf509c42",
   "metadata": {},
   "outputs": [
    {
     "data": {
      "text/plain": [
       "<generator object <genexpr> at 0x000001E8562FC450>"
      ]
     },
     "execution_count": 70,
     "metadata": {},
     "output_type": "execute_result"
    }
   ],
   "source": [
    "(i for i in range(4))"
   ]
  },
  {
   "cell_type": "code",
   "execution_count": 74,
   "id": "7fceff77-328b-4088-8b17-78c7e88afec3",
   "metadata": {},
   "outputs": [
    {
     "data": {
      "text/plain": [
       "[[2, 3, 4, 5], [4, 8, 16, 18], [2, 9, 12, 13]]"
      ]
     },
     "execution_count": 74,
     "metadata": {},
     "output_type": "execute_result"
    }
   ],
   "source": [
    "sortList(List1)"
   ]
  },
  {
   "cell_type": "code",
   "execution_count": 75,
   "id": "ebbd2a6e-e861-4efb-a1f9-39dfd592d707",
   "metadata": {},
   "outputs": [],
   "source": [
    "def transform_numbers(numbers, operation_type):\n",
    "\n",
    "    if operation_type == 'square':\n",
    "        operation = lambda x: x ** 2\n",
    "    elif operation_type == 'cube':\n",
    "        operation = lambda x: x ** 3\n",
    "    else:\n",
    "        return \"Unknown operation\"\n",
    "\n",
    "    return [operation(num) for num in numbers]\n"
   ]
  },
  {
   "cell_type": "code",
   "execution_count": 78,
   "id": "be7bb574-cfbd-4da0-ac87-6d0e75b7ec73",
   "metadata": {},
   "outputs": [
    {
     "data": {
      "text/plain": [
       "[9, 16, 36, 49, 81, 81, 100]"
      ]
     },
     "execution_count": 78,
     "metadata": {},
     "output_type": "execute_result"
    }
   ],
   "source": [
    "transform_numbers([3,4,6,7,9,9,10], \"square\")"
   ]
  },
  {
   "cell_type": "code",
   "execution_count": 79,
   "id": "5c86e0d8-129b-44ca-b2c3-305011adb46a",
   "metadata": {},
   "outputs": [
    {
     "data": {
      "text/plain": [
       "[0, 1, 4, 9, 16, 25, 36, 49, 64, 81]"
      ]
     },
     "execution_count": 79,
     "metadata": {},
     "output_type": "execute_result"
    }
   ],
   "source": [
    "transform_numbers(range(10), \"square\")"
   ]
  },
  {
   "cell_type": "code",
   "execution_count": 80,
   "id": "0a95a40a-6232-4908-a761-3087b705a9fa",
   "metadata": {},
   "outputs": [
    {
     "data": {
      "text/plain": [
       "[0, 1, 8, 27, 64, 125, 216, 343, 512, 729]"
      ]
     },
     "execution_count": 80,
     "metadata": {},
     "output_type": "execute_result"
    }
   ],
   "source": [
    "transform_numbers(range(10), \"cube\")"
   ]
  },
  {
   "cell_type": "code",
   "execution_count": null,
   "id": "7bb1d16f-8262-4f1d-9109-f77e3b714b1f",
   "metadata": {},
   "outputs": [],
   "source": []
  }
 ],
 "metadata": {
  "kernelspec": {
   "display_name": "Python 3 (ipykernel)",
   "language": "python",
   "name": "python3"
  },
  "language_info": {
   "codemirror_mode": {
    "name": "ipython",
    "version": 3
   },
   "file_extension": ".py",
   "mimetype": "text/x-python",
   "name": "python",
   "nbconvert_exporter": "python",
   "pygments_lexer": "ipython3",
   "version": "3.11.7"
  }
 },
 "nbformat": 4,
 "nbformat_minor": 5
}
