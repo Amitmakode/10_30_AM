{
 "cells": [
  {
   "cell_type": "code",
   "execution_count": 2,
   "id": "5ccc1394",
   "metadata": {},
   "outputs": [
    {
     "name": "stdout",
     "output_type": "stream",
     "text": [
      "P\n",
      "1\n",
      "Hello, World!\n",
      "13\n",
      "I hope you are enjoying 30 days of Python Challenge\n",
      "51\n"
     ]
    }
   ],
   "source": [
    "# Day 4\n",
    "\n",
    "## Strings\n",
    "\n",
    "# Text is a string data type. Any data type written as text is a string. Any data under single, double or triple quote are strings. There are different string methods and built-in functions to deal with string data types. To check the length of a string use the len() method.\n",
    "\n",
    "### Creating a String\n",
    "\n",
    "\n",
    "letter = 'P'                # A string could be a single character or a bunch of texts\n",
    "print(letter)               # P\n",
    "print(len(letter))          # 1\n",
    "\n",
    "greeting = 'Hello, World!'  # String could be made using a single or double quote,\"Hello, World!\"\n",
    "print(greeting)             # Hello, World!\n",
    "print(len(greeting))        # 13\n",
    "\n",
    "sentence = \"I hope you are enjoying 30 days of Python Challenge\"\n",
    "print(sentence)\n",
    "print(len(sentence))"
   ]
  },
  {
   "cell_type": "code",
   "execution_count": 3,
   "id": "723e8372",
   "metadata": {},
   "outputs": [
    {
     "name": "stdout",
     "output_type": "stream",
     "text": [
      "I am a teacher and enjoy teaching.\n",
      "I didn't find anything as rewarding as empowering people.\n",
      "That is why I created 30 days of python.\n",
      "I am a teacher and enjoy teaching.\n",
      "I didn't find anything as rewarding as empowering people.\n",
      "That is why I created 30 days of python.\n"
     ]
    }
   ],
   "source": [
    "# Multiline string is created by using triple single (''') or triple double quotes (\"\"\"). See the example below.\n",
    "\n",
    "\n",
    "multiline_string = '''I am a teacher and enjoy teaching.\n",
    "I didn't find anything as rewarding as empowering people.\n",
    "That is why I created 30 days of python.'''\n",
    "\n",
    "print(multiline_string)\n",
    "\n",
    "# Another way of doing the same thing\n",
    "multiline_string = \"\"\"I am a teacher and enjoy teaching.\n",
    "I didn't find anything as rewarding as empowering people.\n",
    "That is why I created 30 days of python.\"\"\"\n",
    "print(multiline_string)\n"
   ]
  },
  {
   "cell_type": "markdown",
   "id": "5f3c049e",
   "metadata": {},
   "source": [
    "I am a teacher and enjoy teaching.\n",
    "I didn't find anything as rewarding as empowering people.\n",
    "That is why I created 30 days of python.\n",
    "I am a teacher and enjoy teaching.\n",
    "I didn't find anything as rewarding as empowering people.\n",
    "That is why I created 30 days of python."
   ]
  },
  {
   "cell_type": "code",
   "execution_count": null,
   "id": "efbdc6db",
   "metadata": {},
   "outputs": [],
   "source": [
    "### String Concatenation\n",
    "\n",
    "#We can connect strings together. Merging or connecting strings is called concatenation. See the example below:\n",
    "\n",
    "\n",
    "first_name = 'Asabeneh'\n",
    "last_name = 'Yetayeh'\n",
    "space = ' '\n",
    "full_name = first_name  +  space + last_name\n",
    "print(full_name) # Asabeneh Yetayeh\n",
    "# Checking the length of a string using len() built-in function\n",
    "print(len(first_name))  # 8\n",
    "print(len(last_name))   # 7\n",
    "print(len(first_name) > len(last_name)) # True\n",
    "print(len(full_name)) # 16"
   ]
  },
  {
   "cell_type": "code",
   "execution_count": 4,
   "id": "8aaba3bc",
   "metadata": {},
   "outputs": [
    {
     "data": {
      "text/plain": [
       "2"
      ]
     },
     "execution_count": 4,
     "metadata": {},
     "output_type": "execute_result"
    }
   ],
   "source": [
    "1 +1 # adding"
   ]
  },
  {
   "cell_type": "code",
   "execution_count": 5,
   "id": "5ec87fa6",
   "metadata": {},
   "outputs": [
    {
     "data": {
      "text/plain": [
       "'11'"
      ]
     },
     "execution_count": 5,
     "metadata": {},
     "output_type": "execute_result"
    }
   ],
   "source": [
    "\"1\" + \"1\" # concatination"
   ]
  },
  {
   "cell_type": "code",
   "execution_count": 21,
   "id": "19156056",
   "metadata": {},
   "outputs": [],
   "source": [
    "first = \"amit\"\n",
    "last = \"kumar\"\n",
    "space = \" \"\n",
    "var = \"&\""
   ]
  },
  {
   "cell_type": "code",
   "execution_count": 22,
   "id": "75e5e6f2",
   "metadata": {},
   "outputs": [
    {
     "data": {
      "text/plain": [
       "'amit&kumar'"
      ]
     },
     "execution_count": 22,
     "metadata": {},
     "output_type": "execute_result"
    }
   ],
   "source": [
    "first + var  + last"
   ]
  },
  {
   "cell_type": "code",
   "execution_count": 13,
   "id": "7c90fa96",
   "metadata": {},
   "outputs": [],
   "source": [
    "full_name = first + \" \"+ last"
   ]
  },
  {
   "cell_type": "code",
   "execution_count": 14,
   "id": "62703176",
   "metadata": {},
   "outputs": [
    {
     "data": {
      "text/plain": [
       "'amit kumar'"
      ]
     },
     "execution_count": 14,
     "metadata": {},
     "output_type": "execute_result"
    }
   ],
   "source": [
    "full_name"
   ]
  },
  {
   "cell_type": "code",
   "execution_count": 19,
   "id": "e142391d",
   "metadata": {},
   "outputs": [],
   "source": [
    "var1 = 2874"
   ]
  },
  {
   "cell_type": "code",
   "execution_count": 20,
   "id": "4bcbe4a5",
   "metadata": {},
   "outputs": [
    {
     "data": {
      "text/plain": [
       "2874"
      ]
     },
     "execution_count": 20,
     "metadata": {},
     "output_type": "execute_result"
    }
   ],
   "source": [
    "var1"
   ]
  },
  {
   "cell_type": "code",
   "execution_count": null,
   "id": "115e2496",
   "metadata": {},
   "outputs": [],
   "source": [
    "### Escape Sequences in Strings\n",
    "\n",
    "# In Python and other programming languages \\ followed by a character is an escape sequence. Let us see the most common escape characters:\n",
    "\n",
    "- \\n: new line\n",
    "- \\t: Tab means(8 spaces)\n",
    "- \\\\\\\\: Back slash\n",
    "- \\\\': Single quote (')\n",
    "- \\\\\": Double quote (\")"
   ]
  },
  {
   "cell_type": "code",
   "execution_count": 23,
   "id": "2118e93f",
   "metadata": {},
   "outputs": [
    {
     "name": "stdout",
     "output_type": "stream",
     "text": [
      "I hope everyone is enjoying the Python Challenge.\n",
      "Are you ?\n"
     ]
    }
   ],
   "source": [
    "print('I hope everyone is enjoying the Python Challenge.\\nAre you ?') # line break"
   ]
  },
  {
   "cell_type": "code",
   "execution_count": 24,
   "id": "feb4ea8f",
   "metadata": {},
   "outputs": [
    {
     "name": "stdout",
     "output_type": "stream",
     "text": [
      "Days\tTopics\tExercises\n"
     ]
    }
   ],
   "source": [
    "print('Days\\tTopics\\tExercises') # adding tab space or 4 spaces "
   ]
  },
  {
   "cell_type": "code",
   "execution_count": 25,
   "id": "40665fc1",
   "metadata": {},
   "outputs": [
    {
     "name": "stdout",
     "output_type": "stream",
     "text": [
      "Day 1\t5\t5\n"
     ]
    }
   ],
   "source": [
    "print('Day 1\\t5\\t5')"
   ]
  },
  {
   "cell_type": "code",
   "execution_count": 34,
   "id": "c41e8060",
   "metadata": {},
   "outputs": [
    {
     "name": "stdout",
     "output_type": "stream",
     "text": [
      "Day2\t6\t20\n"
     ]
    }
   ],
   "source": [
    "print('Day2\\t6\\t20')"
   ]
  },
  {
   "cell_type": "code",
   "execution_count": 27,
   "id": "7ef407ec",
   "metadata": {},
   "outputs": [
    {
     "name": "stdout",
     "output_type": "stream",
     "text": [
      "This is a backslash  symbol (\\)\n"
     ]
    }
   ],
   "source": [
    "print('This is a backslash  symbol (\\\\)') # To write a backslash"
   ]
  },
  {
   "cell_type": "code",
   "execution_count": 29,
   "id": "b039e8ea",
   "metadata": {},
   "outputs": [
    {
     "name": "stdout",
     "output_type": "stream",
     "text": [
      "In every programming language it starts with \\\"Hello, World!\"\n"
     ]
    }
   ],
   "source": [
    "print('In every programming language it starts with \\\\\"Hello, World!\\\"') # to write a double quote inside a single quote"
   ]
  },
  {
   "cell_type": "code",
   "execution_count": null,
   "id": "ba3eddc8",
   "metadata": {},
   "outputs": [],
   "source": [
    "### String formatting\n",
    "\n",
    "#### Old Style String Formatting (% Operator)\n",
    "\n",
    "#In Python there are many ways of formatting strings. In this section, we will cover some of them.\n",
    "#The \"%\" operator is used to format a set of variables enclosed in a \"tuple\" (a fixed size list), together with a format string, which contains normal text together with \"argument specifiers\", special symbols like \"%s\", \"%d\", \"%f\", \"%.<small>number of digits</small>f\".\n",
    "\n",
    "- %s - String (or any object with a string representation, like numbers)\n",
    "- %d - Integers\n",
    "- %f - Floating point numbers\n",
    "- \"%.<small>number of digits</small>f\" - Floating point numbers with fixed precision"
   ]
  },
  {
   "cell_type": "code",
   "execution_count": 36,
   "id": "168b0cb9",
   "metadata": {},
   "outputs": [],
   "source": [
    "# Strings only\n",
    "first_name = 'Asabeneh'\n",
    "last_name = 'Yetayeh'\n",
    "language = 'Python'"
   ]
  },
  {
   "cell_type": "code",
   "execution_count": 38,
   "id": "414abc3f",
   "metadata": {},
   "outputs": [],
   "source": [
    "formated_string = 'I am %s %s. I teach %s' %(first_name, last_name, language)"
   ]
  },
  {
   "cell_type": "code",
   "execution_count": 39,
   "id": "084a239f",
   "metadata": {},
   "outputs": [
    {
     "name": "stdout",
     "output_type": "stream",
     "text": [
      "I am Asabeneh Yetayeh. I teach Python\n"
     ]
    }
   ],
   "source": [
    "print(formated_string)"
   ]
  },
  {
   "cell_type": "code",
   "execution_count": 40,
   "id": "d2057586",
   "metadata": {},
   "outputs": [],
   "source": [
    "# Strings  and numbers\n",
    "radius = 10\n",
    "pi = 3.14\n",
    "area = pi * radius ** 2"
   ]
  },
  {
   "cell_type": "code",
   "execution_count": 43,
   "id": "e7e31b88",
   "metadata": {},
   "outputs": [
    {
     "data": {
      "text/plain": [
       "314.0"
      ]
     },
     "execution_count": 43,
     "metadata": {},
     "output_type": "execute_result"
    }
   ],
   "source": [
    "area"
   ]
  },
  {
   "cell_type": "code",
   "execution_count": 57,
   "id": "4b098c2d",
   "metadata": {},
   "outputs": [],
   "source": [
    "formated_string = 'The area of circle with a radius %d is %.f' %(radius, area) # 2 refers the 2 significant digits after the point"
   ]
  },
  {
   "cell_type": "code",
   "execution_count": 58,
   "id": "818a2ab3",
   "metadata": {},
   "outputs": [
    {
     "name": "stdout",
     "output_type": "stream",
     "text": [
      "The area of circle with a radius 10 is 314\n"
     ]
    }
   ],
   "source": [
    "print(formated_string)"
   ]
  },
  {
   "cell_type": "code",
   "execution_count": 59,
   "id": "c05c82be",
   "metadata": {},
   "outputs": [
    {
     "name": "stdout",
     "output_type": "stream",
     "text": [
      "The following are python libraries:['Django', 'Flask', 'NumPy', 'Matplotlib', 'Pandas']\n"
     ]
    }
   ],
   "source": [
    "python_libraries = ['Django', 'Flask', 'NumPy', 'Matplotlib','Pandas']\n",
    "formated_string = 'The following are python libraries:%s' % (python_libraries)\n",
    "print(formated_string) # \"The following are python libraries:['Django', 'Flask', 'NumPy', 'Matplotlib','Pandas']\""
   ]
  },
  {
   "cell_type": "code",
   "execution_count": 60,
   "id": "fbb17b50",
   "metadata": {},
   "outputs": [
    {
     "name": "stdout",
     "output_type": "stream",
     "text": [
      "The following are python libraries: ['Django', 'Flask', 'NumPy', 'Matplotlib', 'Pandas']\n"
     ]
    }
   ],
   "source": [
    "print('The following are python libraries:', python_libraries) "
   ]
  },
  {
   "cell_type": "code",
   "execution_count": 76,
   "id": "41135142",
   "metadata": {},
   "outputs": [
    {
     "name": "stdout",
     "output_type": "stream",
     "text": [
      "I am Amit kumar. I teach Python\n"
     ]
    }
   ],
   "source": [
    "#### New Style String Formatting (str.format)\n",
    "\n",
    "#This formatting is introduced in Python version 3.\n",
    "\n",
    "\n",
    "\n",
    "first_name = 'Amit'\n",
    "last_name = 'kumar'\n",
    "language = 'Python'\n",
    "\n",
    "formated_string = 'I am {} {}. I teach {}'.format(first_name, last_name, language)\n",
    "print(formated_string)"
   ]
  },
  {
   "cell_type": "code",
   "execution_count": 68,
   "id": "cd4bcf7e",
   "metadata": {},
   "outputs": [],
   "source": [
    "a = 10\n",
    "b = 20"
   ]
  },
  {
   "cell_type": "code",
   "execution_count": 69,
   "id": "544a2b74",
   "metadata": {},
   "outputs": [
    {
     "name": "stdout",
     "output_type": "stream",
     "text": [
      "10 + 20 = 30\n",
      "10 - 20 = -10\n",
      "10 * 20 = 200\n",
      "10 / 20 = 0.50\n",
      "10 % 20 = 10\n",
      "10 // 20 = 0\n",
      "10 ** 20 = 100000000000000000000\n"
     ]
    }
   ],
   "source": [
    "print('{} + {} = {}'.format(a, b, a + b))\n",
    "\n",
    "print('{} - {} = {}'.format(a, b, a - b))\n",
    "print('{} * {} = {}'.format(a, b, a * b))\n",
    "print('{} / {} = {:.2f}'.format(a, b, a / b)) # limits it to two digits after decimal\n",
    "print('{} % {} = {}'.format(a, b, a % b))\n",
    "print('{} // {} = {}'.format(a, b, a // b))\n",
    "print('{} ** {} = {}'.format(a, b, a ** b))"
   ]
  },
  {
   "cell_type": "code",
   "execution_count": 70,
   "id": "6ebed9fb",
   "metadata": {},
   "outputs": [
    {
     "name": "stdout",
     "output_type": "stream",
     "text": [
      "10 + 20 = 30\n"
     ]
    }
   ],
   "source": [
    "print('{} + {} = {}'.format(a, b, a + b))"
   ]
  },
  {
   "cell_type": "code",
   "execution_count": 71,
   "id": "ddbd7674",
   "metadata": {},
   "outputs": [
    {
     "name": "stdout",
     "output_type": "stream",
     "text": [
      "10 - 20 = -10\n"
     ]
    }
   ],
   "source": [
    "print('{} - {} = {}'.format(a, b, a - b))"
   ]
  },
  {
   "cell_type": "code",
   "execution_count": 80,
   "id": "6285be5f",
   "metadata": {},
   "outputs": [
    {
     "name": "stdout",
     "output_type": "stream",
     "text": [
      "The area of a circle with a radius 10 is 314.00.\n"
     ]
    }
   ],
   "source": [
    "# Strings  and numbers\n",
    "radius = 10\n",
    "pi = 3.14\n",
    "area = pi * radius ** 2\n",
    "\n",
    "formated_string = 'The area of a circle with a radius {} is {:.2f}.'.format(radius, area) # 2 digits after decimal\n",
    "print(formated_string)"
   ]
  },
  {
   "cell_type": "code",
   "execution_count": 81,
   "id": "05391b24",
   "metadata": {},
   "outputs": [
    {
     "name": "stdout",
     "output_type": "stream",
     "text": [
      "4 + 3 = 7\n"
     ]
    }
   ],
   "source": [
    "#### String Interpolation / f-Strings (Python 3.6+)\n",
    "\n",
    "#Another new string formatting is string interpolation, f-strings. Strings start with f and we can inject the data in their corresponding positions.\n",
    "\n",
    "\n",
    "a = 4\n",
    "b = 3\n",
    "\n",
    "print(f'{a} + {b} = {a +b}')"
   ]
  },
  {
   "cell_type": "code",
   "execution_count": 82,
   "id": "55b0e209",
   "metadata": {},
   "outputs": [
    {
     "name": "stdout",
     "output_type": "stream",
     "text": [
      "4 - 3 = 1\n",
      "4 * 3 = 12\n",
      "4 / 3 = 1.33\n",
      "4 % 3 = 1\n",
      "4 // 3 = 1\n",
      "4 ** 3 = 64\n"
     ]
    }
   ],
   "source": [
    "print(f'{a} - {b} = {a - b}')\n",
    "print(f'{a} * {b} = {a * b}')\n",
    "print(f'{a} / {b} = {a / b:.2f}')\n",
    "print(f'{a} % {b} = {a % b}')\n",
    "print(f'{a} // {b} = {a // b}')\n",
    "print(f'{a} ** {b} = {a ** b}')"
   ]
  },
  {
   "cell_type": "code",
   "execution_count": 85,
   "id": "450516e8",
   "metadata": {},
   "outputs": [
    {
     "name": "stdout",
     "output_type": "stream",
     "text": [
      "P\n",
      "y\n",
      "t\n",
      "h\n",
      "o\n",
      "n\n"
     ]
    }
   ],
   "source": [
    "### Python Strings as Sequences of Characters\n",
    "\n",
    "# Python strings are sequences of characters, and share their basic methods of access with other Python ordered sequences of objects – lists and tuples. The simplest way of extracting single characters from strings (and individual members from any sequence) is to unpack them into corresponding variables.\n",
    "\n",
    "#### Unpacking Characters\n",
    "\n",
    "\n",
    "language = 'Python'\n",
    "\n",
    "a,b,c,d,e,f = language # unpacking sequence characters into variables\n",
    "print(a) # P\n",
    "print(b) # y\n",
    "print(c) # t\n",
    "print(d) # h\n",
    "print(e) # o\n",
    "print(f) # n"
   ]
  },
  {
   "cell_type": "code",
   "execution_count": 87,
   "id": "23182cd2",
   "metadata": {},
   "outputs": [
    {
     "name": "stdout",
     "output_type": "stream",
     "text": [
      "P\n"
     ]
    }
   ],
   "source": [
    "#### Accessing Characters in Strings by Index\n",
    "\n",
    "#In programming counting starts from zero. Therefore the first letter of a string is at zero index and the last letter of a string is the length of a string minus one.\n",
    "\n",
    "language = 'Python'\n",
    "\n",
    "first_letter = language[0]\n",
    "\n",
    "print(first_letter) # P\n"
   ]
  },
  {
   "cell_type": "code",
   "execution_count": 88,
   "id": "f3d51596",
   "metadata": {},
   "outputs": [
    {
     "name": "stdout",
     "output_type": "stream",
     "text": [
      "y\n"
     ]
    }
   ],
   "source": [
    "second_letter = language[1]\n",
    "print(second_letter) # y"
   ]
  },
  {
   "cell_type": "code",
   "execution_count": 89,
   "id": "72896321",
   "metadata": {},
   "outputs": [
    {
     "name": "stdout",
     "output_type": "stream",
     "text": [
      "n\n"
     ]
    }
   ],
   "source": [
    "last_index = len(language) - 1\n",
    "last_letter = language[last_index]\n",
    "print(last_letter) # n"
   ]
  },
  {
   "cell_type": "code",
   "execution_count": 95,
   "id": "f662fad2",
   "metadata": {},
   "outputs": [
    {
     "data": {
      "text/plain": [
       "5"
      ]
     },
     "execution_count": 95,
     "metadata": {},
     "output_type": "execute_result"
    }
   ],
   "source": [
    "len(language)-1"
   ]
  },
  {
   "cell_type": "code",
   "execution_count": 96,
   "id": "6a25cd0f",
   "metadata": {},
   "outputs": [
    {
     "data": {
      "text/plain": [
       "'n'"
      ]
     },
     "execution_count": 96,
     "metadata": {},
     "output_type": "execute_result"
    }
   ],
   "source": [
    "language[len(language)-1]"
   ]
  },
  {
   "cell_type": "code",
   "execution_count": 97,
   "id": "3e567247",
   "metadata": {},
   "outputs": [
    {
     "name": "stdout",
     "output_type": "stream",
     "text": [
      "n\n",
      "o\n"
     ]
    }
   ],
   "source": [
    "#If we want to start from right end we can use negative indexing. -1 is the last index.\n",
    "\n",
    "language = 'Python'\n",
    "\n",
    "last_letter = language[-1]\n",
    "print(last_letter) # n\n",
    "\n",
    "second_last = language[-2]\n",
    "print(second_last) # o"
   ]
  },
  {
   "cell_type": "code",
   "execution_count": 98,
   "id": "e508aae9",
   "metadata": {},
   "outputs": [
    {
     "data": {
      "text/plain": [
       "'P'"
      ]
     },
     "execution_count": 98,
     "metadata": {},
     "output_type": "execute_result"
    }
   ],
   "source": [
    "language[-6]"
   ]
  },
  {
   "cell_type": "code",
   "execution_count": 99,
   "id": "2e0c9b2d",
   "metadata": {},
   "outputs": [
    {
     "name": "stdout",
     "output_type": "stream",
     "text": [
      "Pyt\n",
      "hon\n",
      "hon\n",
      "hon\n"
     ]
    }
   ],
   "source": [
    "#### Slicing Python Strings\n",
    "\n",
    "# In python we can slice strings into substrings.\n",
    "\n",
    "\n",
    "language = 'Python'\n",
    "first_three = language[0:3] # starts at zero index and up to 3 but not include 3\n",
    "print(first_three) #Pyt\n",
    "last_three = language[3:6]\n",
    "print(last_three) # hon\n",
    "# Another way\n",
    "last_three = language[-3:]\n",
    "print(last_three)   # hon\n",
    "last_three = language[3:]\n",
    "print(last_three)   # hon\n"
   ]
  },
  {
   "cell_type": "code",
   "execution_count": 100,
   "id": "7e4aa0a3",
   "metadata": {},
   "outputs": [],
   "source": [
    "language = 'Python'"
   ]
  },
  {
   "cell_type": "code",
   "execution_count": 101,
   "id": "269e9665",
   "metadata": {},
   "outputs": [
    {
     "data": {
      "text/plain": [
       "'Python'"
      ]
     },
     "execution_count": 101,
     "metadata": {},
     "output_type": "execute_result"
    }
   ],
   "source": [
    "language[:]"
   ]
  },
  {
   "cell_type": "code",
   "execution_count": 102,
   "id": "98969ed2",
   "metadata": {},
   "outputs": [
    {
     "data": {
      "text/plain": [
       "'ython'"
      ]
     },
     "execution_count": 102,
     "metadata": {},
     "output_type": "execute_result"
    }
   ],
   "source": [
    "language[1:]"
   ]
  },
  {
   "cell_type": "code",
   "execution_count": 105,
   "id": "bffe57c2",
   "metadata": {},
   "outputs": [
    {
     "data": {
      "text/plain": [
       "'ytho'"
      ]
     },
     "execution_count": 105,
     "metadata": {},
     "output_type": "execute_result"
    }
   ],
   "source": [
    "language[1:5]"
   ]
  },
  {
   "cell_type": "code",
   "execution_count": 106,
   "id": "eb0a3910",
   "metadata": {},
   "outputs": [
    {
     "data": {
      "text/plain": [
       "'Pyth'"
      ]
     },
     "execution_count": 106,
     "metadata": {},
     "output_type": "execute_result"
    }
   ],
   "source": [
    "language[:4]"
   ]
  },
  {
   "cell_type": "code",
   "execution_count": 107,
   "id": "70087c8b",
   "metadata": {},
   "outputs": [
    {
     "data": {
      "text/plain": [
       "'thon'"
      ]
     },
     "execution_count": 107,
     "metadata": {},
     "output_type": "execute_result"
    }
   ],
   "source": [
    "language[2:]"
   ]
  },
  {
   "cell_type": "code",
   "execution_count": 108,
   "id": "69826d42",
   "metadata": {},
   "outputs": [
    {
     "data": {
      "text/plain": [
       "'nohtyP'"
      ]
     },
     "execution_count": 108,
     "metadata": {},
     "output_type": "execute_result"
    }
   ],
   "source": [
    "language[::-1]"
   ]
  },
  {
   "cell_type": "code",
   "execution_count": 109,
   "id": "f10a456f",
   "metadata": {},
   "outputs": [],
   "source": [
    "var = \"python is data science language\""
   ]
  },
  {
   "cell_type": "code",
   "execution_count": 110,
   "id": "fc4e107c",
   "metadata": {},
   "outputs": [
    {
     "data": {
      "text/plain": [
       "'hon is data science language'"
      ]
     },
     "execution_count": 110,
     "metadata": {},
     "output_type": "execute_result"
    }
   ],
   "source": [
    "var[3:]"
   ]
  },
  {
   "cell_type": "code",
   "execution_count": 112,
   "id": "be016dde",
   "metadata": {},
   "outputs": [
    {
     "data": {
      "text/plain": [
       "'hon is data '"
      ]
     },
     "execution_count": 112,
     "metadata": {},
     "output_type": "execute_result"
    }
   ],
   "source": [
    "var[3:15]"
   ]
  },
  {
   "cell_type": "code",
   "execution_count": 113,
   "id": "cdbea914",
   "metadata": {},
   "outputs": [
    {
     "data": {
      "text/plain": [
       "'yhni aasin'"
      ]
     },
     "execution_count": 113,
     "metadata": {},
     "output_type": "execute_result"
    }
   ],
   "source": [
    "var[1:20:2]"
   ]
  },
  {
   "cell_type": "code",
   "execution_count": 114,
   "id": "cf6221e3",
   "metadata": {},
   "outputs": [
    {
     "data": {
      "text/plain": [
       "'ph  tseeaue'"
      ]
     },
     "execution_count": 114,
     "metadata": {},
     "output_type": "execute_result"
    }
   ],
   "source": [
    "var[::3]"
   ]
  },
  {
   "cell_type": "code",
   "execution_count": 115,
   "id": "69f6759d",
   "metadata": {},
   "outputs": [
    {
     "data": {
      "text/plain": [
       "'egaugnal ecneics atad si nohtyp'"
      ]
     },
     "execution_count": 115,
     "metadata": {},
     "output_type": "execute_result"
    }
   ],
   "source": [
    "var[::-1]"
   ]
  },
  {
   "cell_type": "code",
   "execution_count": 116,
   "id": "32b5b4fb",
   "metadata": {},
   "outputs": [
    {
     "data": {
      "text/plain": [
       "'eaga cec tds otp'"
      ]
     },
     "execution_count": 116,
     "metadata": {},
     "output_type": "execute_result"
    }
   ],
   "source": [
    "var[::-2]"
   ]
  },
  {
   "cell_type": "code",
   "execution_count": 117,
   "id": "3efdd984",
   "metadata": {},
   "outputs": [
    {
     "data": {
      "text/plain": [
       "'encsdnp'"
      ]
     },
     "execution_count": 117,
     "metadata": {},
     "output_type": "execute_result"
    }
   ],
   "source": [
    "var[::-5]"
   ]
  },
  {
   "cell_type": "code",
   "execution_count": 119,
   "id": "b66d46d4",
   "metadata": {},
   "outputs": [
    {
     "name": "stdout",
     "output_type": "stream",
     "text": [
      "!dlroW ,olleH\n",
      "Pto\n"
     ]
    }
   ],
   "source": [
    "#### Reversing a String\n",
    "\n",
    "#We can easily reverse strings in python.\n",
    "\n",
    "\n",
    "greeting = 'Hello, World!'\n",
    "print(greeting[::-1]) # !dlroW ,olleH\n",
    "\n",
    "\n",
    "#### Skipping Characters While Slicing\n",
    "\n",
    "#It is possible to skip characters while slicing by passing step argument to slice method.\n",
    "\n",
    "\n",
    "language = 'Python'\n",
    "pto = language[0:6:2] #\n",
    "print(pto) # Pto"
   ]
  },
  {
   "cell_type": "code",
   "execution_count": null,
   "id": "4d94e442",
   "metadata": {},
   "outputs": [],
   "source": []
  },
  {
   "cell_type": "code",
   "execution_count": null,
   "id": "71b975b5",
   "metadata": {},
   "outputs": [],
   "source": []
  },
  {
   "cell_type": "code",
   "execution_count": null,
   "id": "62b1aa8a",
   "metadata": {},
   "outputs": [],
   "source": []
  },
  {
   "cell_type": "code",
   "execution_count": null,
   "id": "d6b3d8fc",
   "metadata": {},
   "outputs": [],
   "source": []
  }
 ],
 "metadata": {
  "kernelspec": {
   "display_name": "Python 3 (ipykernel)",
   "language": "python",
   "name": "python3"
  },
  "language_info": {
   "codemirror_mode": {
    "name": "ipython",
    "version": 3
   },
   "file_extension": ".py",
   "mimetype": "text/x-python",
   "name": "python",
   "nbconvert_exporter": "python",
   "pygments_lexer": "ipython3",
   "version": "3.11.5"
  }
 },
 "nbformat": 4,
 "nbformat_minor": 5
}
