{
 "cells": [
  {
   "cell_type": "markdown",
   "id": "444afee7",
   "metadata": {},
   "source": [
    "### File Handling"
   ]
  },
  {
   "cell_type": "code",
   "execution_count": 1,
   "id": "ca8385fc",
   "metadata": {},
   "outputs": [
    {
     "ename": "NameError",
     "evalue": "name 'mode' is not defined",
     "output_type": "error",
     "traceback": [
      "\u001b[1;31m---------------------------------------------------------------------------\u001b[0m",
      "\u001b[1;31mNameError\u001b[0m                                 Traceback (most recent call last)",
      "Cell \u001b[1;32mIn[1], line 1\u001b[0m\n\u001b[1;32m----> 1\u001b[0m \u001b[38;5;28mopen\u001b[39m(\u001b[38;5;124m'\u001b[39m\u001b[38;5;124mfilename\u001b[39m\u001b[38;5;124m'\u001b[39m, mode)\n",
      "\u001b[1;31mNameError\u001b[0m: name 'mode' is not defined"
     ]
    }
   ],
   "source": [
    "open('filename', mode)"
   ]
  },
  {
   "cell_type": "code",
   "execution_count": null,
   "id": "efa755a9",
   "metadata": {},
   "outputs": [],
   "source": [
    "- \"r\" - Read - Default value. Opens a file for reading, it returns an error if the file does not exist\n",
    "- \"a\" - Append - Opens a file for appending, creates the file if it does not exist\n",
    "- \"w\" - Write - Opens a file for writing, creates the file if it does not exist\n",
    "- \"x\" - Create - Creates the specified file, returns an error if the file exists\n",
    "- \"t\" - Text - Default value. Text mode\n",
    "- \"b\" - Binary - Binary mode (e.g. images)"
   ]
  },
  {
   "cell_type": "code",
   "execution_count": 2,
   "id": "50b66e5a",
   "metadata": {},
   "outputs": [
    {
     "ename": "FileNotFoundError",
     "evalue": "[Errno 2] No such file or directory: './files/reading_file_example.txt'",
     "output_type": "error",
     "traceback": [
      "\u001b[1;31m---------------------------------------------------------------------------\u001b[0m",
      "\u001b[1;31mFileNotFoundError\u001b[0m                         Traceback (most recent call last)",
      "Cell \u001b[1;32mIn[2], line 1\u001b[0m\n\u001b[1;32m----> 1\u001b[0m \u001b[38;5;28mopen\u001b[39m(\u001b[38;5;124m'\u001b[39m\u001b[38;5;124m./files/reading_file_example.txt\u001b[39m\u001b[38;5;124m'\u001b[39m)\n",
      "File \u001b[1;32m~\\anaconda3\\Lib\\site-packages\\IPython\\core\\interactiveshell.py:286\u001b[0m, in \u001b[0;36m_modified_open\u001b[1;34m(file, *args, **kwargs)\u001b[0m\n\u001b[0;32m    279\u001b[0m \u001b[38;5;28;01mif\u001b[39;00m file \u001b[38;5;129;01min\u001b[39;00m {\u001b[38;5;241m0\u001b[39m, \u001b[38;5;241m1\u001b[39m, \u001b[38;5;241m2\u001b[39m}:\n\u001b[0;32m    280\u001b[0m     \u001b[38;5;28;01mraise\u001b[39;00m \u001b[38;5;167;01mValueError\u001b[39;00m(\n\u001b[0;32m    281\u001b[0m         \u001b[38;5;124mf\u001b[39m\u001b[38;5;124m\"\u001b[39m\u001b[38;5;124mIPython won\u001b[39m\u001b[38;5;124m'\u001b[39m\u001b[38;5;124mt let you open fd=\u001b[39m\u001b[38;5;132;01m{\u001b[39;00mfile\u001b[38;5;132;01m}\u001b[39;00m\u001b[38;5;124m by default \u001b[39m\u001b[38;5;124m\"\u001b[39m\n\u001b[0;32m    282\u001b[0m         \u001b[38;5;124m\"\u001b[39m\u001b[38;5;124mas it is likely to crash IPython. If you know what you are doing, \u001b[39m\u001b[38;5;124m\"\u001b[39m\n\u001b[0;32m    283\u001b[0m         \u001b[38;5;124m\"\u001b[39m\u001b[38;5;124myou can use builtins\u001b[39m\u001b[38;5;124m'\u001b[39m\u001b[38;5;124m open.\u001b[39m\u001b[38;5;124m\"\u001b[39m\n\u001b[0;32m    284\u001b[0m     )\n\u001b[1;32m--> 286\u001b[0m \u001b[38;5;28;01mreturn\u001b[39;00m io_open(file, \u001b[38;5;241m*\u001b[39margs, \u001b[38;5;241m*\u001b[39m\u001b[38;5;241m*\u001b[39mkwargs)\n",
      "\u001b[1;31mFileNotFoundError\u001b[0m: [Errno 2] No such file or directory: './files/reading_file_example.txt'"
     ]
    }
   ],
   "source": [
    "open('./files/reading_file_example.txt')\n",
    "#print(f)"
   ]
  },
  {
   "cell_type": "code",
   "execution_count": 3,
   "id": "e0b394ea",
   "metadata": {},
   "outputs": [
    {
     "name": "stdout",
     "output_type": "stream",
     "text": [
      " Volume in drive C is Local Disk\n",
      " Volume Serial Number is F00E-CCC8\n",
      "\n",
      " Directory of C:\\Users\\amitm\\Class_11_15_april_2024\n",
      "\n",
      "20-05-2024  11:38    <DIR>          .\n",
      "15-05-2024  12:36    <DIR>          ..\n",
      "20-05-2024  11:34    <DIR>          .ipynb_checkpoints\n",
      "16-04-2024  11:52            28,623 Basic-1.ipynb\n",
      "17-04-2024  12:07            25,349 Basic-2.ipynb\n",
      "08-05-2024  11:46            10,774 Condition and loop .ipynb\n",
      "07-05-2024  12:06            14,342 Condition-2.ipynb\n",
      "06-05-2024  12:13            18,142 Conditon-1.ipynb\n",
      "02-05-2024  11:49            18,500 Dictionary.ipynb\n",
      "13-05-2024  12:03             9,419 For_loop.ipynb\n",
      "15-05-2024  12:22            16,150 Function.ipynb\n",
      "16-05-2024  12:00            15,559 Function-2.ipynb\n",
      "03-05-2024  12:10            23,035 List Methods.ipynb\n",
      "24-04-2024  11:59            21,759 List.ipynb\n",
      "17-05-2024  12:12            16,048 List_comprehension.ipynb\n",
      "09-05-2024  12:05            20,492 Loop-2.ipynb\n",
      "03-05-2024  12:29             8,735 Range and Input.ipynb\n",
      "30-04-2024  12:14            21,314 Set and Operation.ipynb\n",
      "30-04-2024  12:12            28,830 String and operation.ipynb\n",
      "02-05-2024  12:08            26,376 String Method.ipynb\n",
      "03-05-2024  11:59             9,965 Tuple.ipynb\n",
      "20-05-2024  11:38             4,659 Untitled.ipynb\n",
      "14-05-2024  11:59            13,112 While loop.ipynb\n",
      "              20 File(s)        351,183 bytes\n",
      "               3 Dir(s)  71,644,200,960 bytes free\n"
     ]
    }
   ],
   "source": [
    "ls"
   ]
  },
  {
   "cell_type": "code",
   "execution_count": 4,
   "id": "286ff6e4",
   "metadata": {},
   "outputs": [],
   "source": [
    "f = open(\"demo.txt\", \"w\")"
   ]
  },
  {
   "cell_type": "code",
   "execution_count": 5,
   "id": "aa32ca33",
   "metadata": {},
   "outputs": [
    {
     "data": {
      "text/plain": [
       "36"
      ]
     },
     "execution_count": 5,
     "metadata": {},
     "output_type": "execute_result"
    }
   ],
   "source": [
    "f.write(\"i am a student learning data science\")"
   ]
  },
  {
   "cell_type": "code",
   "execution_count": 6,
   "id": "859b5a3c",
   "metadata": {},
   "outputs": [],
   "source": [
    "f.close()"
   ]
  },
  {
   "cell_type": "code",
   "execution_count": 7,
   "id": "ce00a97a",
   "metadata": {},
   "outputs": [
    {
     "data": {
      "text/plain": [
       "'w'"
      ]
     },
     "execution_count": 7,
     "metadata": {},
     "output_type": "execute_result"
    }
   ],
   "source": [
    "f.mode"
   ]
  },
  {
   "cell_type": "code",
   "execution_count": 8,
   "id": "10529ff9",
   "metadata": {},
   "outputs": [],
   "source": [
    "f1= open(\"demo.txt\", \"r\")"
   ]
  },
  {
   "cell_type": "code",
   "execution_count": 10,
   "id": "aa103f41",
   "metadata": {},
   "outputs": [
    {
     "data": {
      "text/plain": [
       "'i am a student learning data science'"
      ]
     },
     "execution_count": 10,
     "metadata": {},
     "output_type": "execute_result"
    }
   ],
   "source": [
    "f1.read()"
   ]
  },
  {
   "cell_type": "code",
   "execution_count": 11,
   "id": "6a48375b",
   "metadata": {},
   "outputs": [
    {
     "data": {
      "text/plain": [
       "'r'"
      ]
     },
     "execution_count": 11,
     "metadata": {},
     "output_type": "execute_result"
    }
   ],
   "source": [
    "f1.mode"
   ]
  },
  {
   "cell_type": "code",
   "execution_count": 12,
   "id": "ddc9d933",
   "metadata": {},
   "outputs": [
    {
     "ename": "UnsupportedOperation",
     "evalue": "not writable",
     "output_type": "error",
     "traceback": [
      "\u001b[1;31m---------------------------------------------------------------------------\u001b[0m",
      "\u001b[1;31mUnsupportedOperation\u001b[0m                      Traceback (most recent call last)",
      "Cell \u001b[1;32mIn[12], line 1\u001b[0m\n\u001b[1;32m----> 1\u001b[0m f1\u001b[38;5;241m.\u001b[39mwrite(\u001b[38;5;124m\"\u001b[39m\u001b[38;5;124msdfs  hfgdfj\u001b[39m\u001b[38;5;124m\"\u001b[39m)\n",
      "\u001b[1;31mUnsupportedOperation\u001b[0m: not writable"
     ]
    }
   ],
   "source": [
    "f1.write(\"sdfs  hfgdfj\")"
   ]
  },
  {
   "cell_type": "code",
   "execution_count": 13,
   "id": "3bfac409",
   "metadata": {},
   "outputs": [],
   "source": [
    "f2 =open(\"demo.txt\", \"r+\")"
   ]
  },
  {
   "cell_type": "code",
   "execution_count": 15,
   "id": "9e888ea0",
   "metadata": {},
   "outputs": [
    {
     "data": {
      "text/plain": [
       "'i am a student learning data science'"
      ]
     },
     "execution_count": 15,
     "metadata": {},
     "output_type": "execute_result"
    }
   ],
   "source": [
    "f2.read()"
   ]
  },
  {
   "cell_type": "code",
   "execution_count": 16,
   "id": "4bf9174e",
   "metadata": {},
   "outputs": [
    {
     "data": {
      "text/plain": [
       "5"
      ]
     },
     "execution_count": 16,
     "metadata": {},
     "output_type": "execute_result"
    }
   ],
   "source": [
    "f2.write(\"amit \")"
   ]
  },
  {
   "cell_type": "code",
   "execution_count": 17,
   "id": "5b95ed0a",
   "metadata": {},
   "outputs": [],
   "source": [
    "f2.close()"
   ]
  },
  {
   "cell_type": "code",
   "execution_count": 19,
   "id": "795666ee",
   "metadata": {},
   "outputs": [
    {
     "name": "stdout",
     "output_type": "stream",
     "text": [
      "Writing demo2.txt\n"
     ]
    }
   ],
   "source": [
    "%%writefile demo2.txt    \n",
    "my name is amit "
   ]
  },
  {
   "cell_type": "markdown",
   "id": "15e090cf",
   "metadata": {},
   "source": [
    "## OS "
   ]
  },
  {
   "cell_type": "code",
   "execution_count": 20,
   "id": "fbe07530",
   "metadata": {},
   "outputs": [],
   "source": [
    "import os"
   ]
  },
  {
   "cell_type": "code",
   "execution_count": 21,
   "id": "16515609",
   "metadata": {},
   "outputs": [
    {
     "data": {
      "text/plain": [
       "'C:\\\\Users\\\\amitm\\\\Class_11_15_april_2024'"
      ]
     },
     "execution_count": 21,
     "metadata": {},
     "output_type": "execute_result"
    }
   ],
   "source": [
    "pwd()"
   ]
  },
  {
   "cell_type": "code",
   "execution_count": 22,
   "id": "4f5e0ba4",
   "metadata": {},
   "outputs": [
    {
     "data": {
      "text/plain": [
       "'C:\\\\Users\\\\amitm\\\\Class_11_15_april_2024'"
      ]
     },
     "execution_count": 22,
     "metadata": {},
     "output_type": "execute_result"
    }
   ],
   "source": [
    "os.getcwd()"
   ]
  },
  {
   "cell_type": "code",
   "execution_count": 23,
   "id": "d78705af",
   "metadata": {},
   "outputs": [
    {
     "data": {
      "text/plain": [
       "['.ipynb_checkpoints',\n",
       " 'Basic-1.ipynb',\n",
       " 'Basic-2.ipynb',\n",
       " 'Condition and loop .ipynb',\n",
       " 'Condition-2.ipynb',\n",
       " 'Conditon-1.ipynb',\n",
       " 'demo.txt',\n",
       " 'demo2.txt',\n",
       " 'Dictionary.ipynb',\n",
       " 'For_loop.ipynb',\n",
       " 'Function-2.ipynb',\n",
       " 'Function.ipynb',\n",
       " 'List Methods.ipynb',\n",
       " 'List.ipynb',\n",
       " 'List_comprehension.ipynb',\n",
       " 'Loop-2.ipynb',\n",
       " 'Range and Input.ipynb',\n",
       " 'Set and Operation.ipynb',\n",
       " 'String and operation.ipynb',\n",
       " 'String Method.ipynb',\n",
       " 'Tuple.ipynb',\n",
       " 'Untitled.ipynb',\n",
       " 'While loop.ipynb']"
      ]
     },
     "execution_count": 23,
     "metadata": {},
     "output_type": "execute_result"
    }
   ],
   "source": [
    "os.listdir()"
   ]
  },
  {
   "cell_type": "code",
   "execution_count": 24,
   "id": "10aec7e4",
   "metadata": {},
   "outputs": [],
   "source": [
    "os.chdir(\"C:\\\\Users\\\\amitm\\\\Downloads\") "
   ]
  },
  {
   "cell_type": "code",
   "execution_count": 25,
   "id": "a5c9ede2",
   "metadata": {},
   "outputs": [
    {
     "data": {
      "text/plain": [
       "'C:\\\\Users\\\\amitm\\\\Downloads'"
      ]
     },
     "execution_count": 25,
     "metadata": {},
     "output_type": "execute_result"
    }
   ],
   "source": [
    "os.getcwd()"
   ]
  },
  {
   "cell_type": "code",
   "execution_count": 26,
   "id": "fc43bde7",
   "metadata": {},
   "outputs": [
    {
     "data": {
      "text/plain": [
       "['10am report.pbix',\n",
       " '11. what if analysis.xlsx',\n",
       " '13. Condition and loop.ipynb',\n",
       " '19. List_comprehension.ipynb',\n",
       " '4. Filters.xlsx',\n",
       " '6. Outlier, flash fill.xlsx',\n",
       " 'buttons and bookmark.pbix',\n",
       " 'Dash_PPT.pptx',\n",
       " 'Data Analytics Job Simulation.pdf',\n",
       " 'desktop.ini',\n",
       " 'DevOps Mastery Course.pptx',\n",
       " 'devops-demo.pptx',\n",
       " 'documents_5959-MySQL+Training+Syllabus.pdf',\n",
       " 'FINAL_Meeting_DATA 04-May-2024.xlsx',\n",
       " 'google logo.jpg',\n",
       " 'Google.png',\n",
       " 'Google.svg',\n",
       " 'job portal.pdf',\n",
       " 'macros.xlsx',\n",
       " 'microsoft 360 invoice.pdf',\n",
       " 'Module1.bas',\n",
       " 'Module2.bas',\n",
       " 'mysql-bootcamp-syllabus.pdf',\n",
       " 'newreport6.30 (1).pbix',\n",
       " 'newreport6.30.pbix',\n",
       " 'OD426793543840069100.pdf',\n",
       " 'On-premises data gateway (personal mode).exe',\n",
       " 'Rahul_Biz Consulting Company.pbix',\n",
       " 'Rahul_dashboard_excel.xlsx',\n",
       " 'Report (1) (3).docx',\n",
       " 'S Logo final in cmyk.pdf',\n",
       " 'SAP.docx',\n",
       " 'syllabus.docx',\n",
       " 'TOR_Trainer_-_AI__ML.docx',\n",
       " 'Truform Techno Product Pvt Ltd..pdf',\n",
       " 'Untitled design (2).png']"
      ]
     },
     "execution_count": 26,
     "metadata": {},
     "output_type": "execute_result"
    }
   ],
   "source": [
    "os.listdir()"
   ]
  },
  {
   "cell_type": "code",
   "execution_count": 27,
   "id": "ab535786",
   "metadata": {},
   "outputs": [],
   "source": [
    "os.mkdir(\"test\")"
   ]
  },
  {
   "cell_type": "code",
   "execution_count": 28,
   "id": "6ffd2afb",
   "metadata": {},
   "outputs": [],
   "source": [
    "os.chdir(\"C:\\\\Users\\\\amitm\\\\Downloads\\\\test\")"
   ]
  },
  {
   "cell_type": "code",
   "execution_count": 29,
   "id": "cdbeaf6b",
   "metadata": {},
   "outputs": [
    {
     "data": {
      "text/plain": [
       "'C:\\\\Users\\\\amitm\\\\Downloads\\\\test'"
      ]
     },
     "execution_count": 29,
     "metadata": {},
     "output_type": "execute_result"
    }
   ],
   "source": [
    "os.getcwd()"
   ]
  },
  {
   "cell_type": "code",
   "execution_count": 30,
   "id": "6e2c2947",
   "metadata": {},
   "outputs": [
    {
     "data": {
      "text/plain": [
       "[]"
      ]
     },
     "execution_count": 30,
     "metadata": {},
     "output_type": "execute_result"
    }
   ],
   "source": [
    "os.listdir()"
   ]
  },
  {
   "cell_type": "code",
   "execution_count": 31,
   "id": "c0ad9028",
   "metadata": {},
   "outputs": [
    {
     "name": "stdout",
     "output_type": "stream",
     "text": [
      "Writing test.txt\n"
     ]
    }
   ],
   "source": [
    "%%writefile test.txt\n",
    "\"i am learning python\""
   ]
  },
  {
   "cell_type": "code",
   "execution_count": 32,
   "id": "a9fc3a4f",
   "metadata": {},
   "outputs": [
    {
     "data": {
      "text/plain": [
       "['test.txt']"
      ]
     },
     "execution_count": 32,
     "metadata": {},
     "output_type": "execute_result"
    }
   ],
   "source": [
    "os.listdir()"
   ]
  },
  {
   "cell_type": "code",
   "execution_count": 33,
   "id": "ca6204e0",
   "metadata": {},
   "outputs": [
    {
     "ename": "FileNotFoundError",
     "evalue": "[WinError 2] The system cannot find the file specified: 'test'",
     "output_type": "error",
     "traceback": [
      "\u001b[1;31m---------------------------------------------------------------------------\u001b[0m",
      "\u001b[1;31mFileNotFoundError\u001b[0m                         Traceback (most recent call last)",
      "Cell \u001b[1;32mIn[33], line 1\u001b[0m\n\u001b[1;32m----> 1\u001b[0m os\u001b[38;5;241m.\u001b[39mrmdir(\u001b[38;5;124m\"\u001b[39m\u001b[38;5;124mtest\u001b[39m\u001b[38;5;124m\"\u001b[39m)\n",
      "\u001b[1;31mFileNotFoundError\u001b[0m: [WinError 2] The system cannot find the file specified: 'test'"
     ]
    }
   ],
   "source": [
    "os.rmdir(\"test\")"
   ]
  },
  {
   "cell_type": "code",
   "execution_count": 34,
   "id": "b8cb37d1",
   "metadata": {},
   "outputs": [],
   "source": [
    "os.chdir(\"C:\\\\Users\\\\amitm\\\\Downloads\")"
   ]
  },
  {
   "cell_type": "code",
   "execution_count": 36,
   "id": "2c9b4964",
   "metadata": {},
   "outputs": [],
   "source": [
    "os.rmdir(\"test\")"
   ]
  },
  {
   "cell_type": "code",
   "execution_count": 37,
   "id": "ebac6a90",
   "metadata": {},
   "outputs": [
    {
     "data": {
      "text/plain": [
       "['10am report.pbix',\n",
       " '11. what if analysis.xlsx',\n",
       " '13. Condition and loop.ipynb',\n",
       " '19. List_comprehension.ipynb',\n",
       " '4. Filters.xlsx',\n",
       " '6. Outlier, flash fill.xlsx',\n",
       " 'buttons and bookmark.pbix',\n",
       " 'Dash_PPT.pptx',\n",
       " 'Data Analytics Job Simulation.pdf',\n",
       " 'desktop.ini',\n",
       " 'DevOps Mastery Course.pptx',\n",
       " 'devops-demo.pptx',\n",
       " 'documents_5959-MySQL+Training+Syllabus.pdf',\n",
       " 'FINAL_Meeting_DATA 04-May-2024.xlsx',\n",
       " 'google logo.jpg',\n",
       " 'Google.png',\n",
       " 'Google.svg',\n",
       " 'job portal.pdf',\n",
       " 'macros.xlsx',\n",
       " 'microsoft 360 invoice.pdf',\n",
       " 'Module1.bas',\n",
       " 'Module2.bas',\n",
       " 'mysql-bootcamp-syllabus.pdf',\n",
       " 'newreport6.30 (1).pbix',\n",
       " 'newreport6.30.pbix',\n",
       " 'OD426793543840069100.pdf',\n",
       " 'On-premises data gateway (personal mode).exe',\n",
       " 'Rahul_Biz Consulting Company.pbix',\n",
       " 'Rahul_dashboard_excel.xlsx',\n",
       " 'Report (1) (3).docx',\n",
       " 'S Logo final in cmyk.pdf',\n",
       " 'SAP.docx',\n",
       " 'syllabus.docx',\n",
       " 'TOR_Trainer_-_AI__ML.docx',\n",
       " 'Truform Techno Product Pvt Ltd..pdf',\n",
       " 'Untitled design (2).png']"
      ]
     },
     "execution_count": 37,
     "metadata": {},
     "output_type": "execute_result"
    }
   ],
   "source": [
    "os.listdir()"
   ]
  },
  {
   "cell_type": "code",
   "execution_count": 38,
   "id": "a9f76354",
   "metadata": {},
   "outputs": [],
   "source": [
    "os.chdir('C:\\\\Users\\\\amitm\\\\Class_11_15_april_2024')"
   ]
  },
  {
   "cell_type": "code",
   "execution_count": 39,
   "id": "8d8b90c4",
   "metadata": {},
   "outputs": [
    {
     "data": {
      "text/plain": [
       "['.ipynb_checkpoints',\n",
       " 'Basic-1.ipynb',\n",
       " 'Basic-2.ipynb',\n",
       " 'Condition and loop .ipynb',\n",
       " 'Condition-2.ipynb',\n",
       " 'Conditon-1.ipynb',\n",
       " 'demo.txt',\n",
       " 'demo2.txt',\n",
       " 'Dictionary.ipynb',\n",
       " 'For_loop.ipynb',\n",
       " 'Function-2.ipynb',\n",
       " 'Function.ipynb',\n",
       " 'List Methods.ipynb',\n",
       " 'List.ipynb',\n",
       " 'List_comprehension.ipynb',\n",
       " 'Loop-2.ipynb',\n",
       " 'Range and Input.ipynb',\n",
       " 'Set and Operation.ipynb',\n",
       " 'String and operation.ipynb',\n",
       " 'String Method.ipynb',\n",
       " 'Tuple.ipynb',\n",
       " 'Untitled.ipynb',\n",
       " 'While loop.ipynb']"
      ]
     },
     "execution_count": 39,
     "metadata": {},
     "output_type": "execute_result"
    }
   ],
   "source": [
    "os.listdir()"
   ]
  },
  {
   "cell_type": "code",
   "execution_count": 42,
   "id": "c212fb8e",
   "metadata": {},
   "outputs": [
    {
     "name": "stdout",
     "output_type": "stream",
     "text": [
      "yes\n"
     ]
    }
   ],
   "source": [
    "if 'demo.txt' in os.listdir():\n",
    "    print(\"yes\")\n",
    "    f = open(\"new.txt\", \"w\")\n",
    "    \n",
    "else:\n",
    "    print(\"no\")"
   ]
  },
  {
   "cell_type": "code",
   "execution_count": 43,
   "id": "0715613b",
   "metadata": {},
   "outputs": [
    {
     "name": "stdout",
     "output_type": "stream",
     "text": [
      "yes\n"
     ]
    }
   ],
   "source": [
    "if \"demo.txt\" in os.listdir():\n",
    "    print(\"yes\")\n",
    "    f = open(\"New1.txt\", \"w\")\n",
    "    f.write(\"hello\")\n",
    "    f.close()\n",
    "else:\n",
    "    print(\"no\")"
   ]
  },
  {
   "cell_type": "code",
   "execution_count": 55,
   "id": "d2c29f10",
   "metadata": {},
   "outputs": [],
   "source": [
    "def remove_file(file_path):\n",
    "    import os\n",
    "    for i in os.listdir(file_path):\n",
    "        if i == \"new.txt\":\n",
    "            os.remove(i)\n",
    "    return "
   ]
  },
  {
   "cell_type": "code",
   "execution_count": 56,
   "id": "d25cf02f",
   "metadata": {},
   "outputs": [],
   "source": [
    "remove_file('C:\\\\Users\\\\amitm\\\\Class_11_15_april_2024')"
   ]
  },
  {
   "cell_type": "code",
   "execution_count": 57,
   "id": "a76e1b7f",
   "metadata": {},
   "outputs": [],
   "source": [
    "os.remove(\"New1.txt\")"
   ]
  },
  {
   "cell_type": "code",
   "execution_count": null,
   "id": "879bee34",
   "metadata": {},
   "outputs": [],
   "source": []
  }
 ],
 "metadata": {
  "kernelspec": {
   "display_name": "Python 3 (ipykernel)",
   "language": "python",
   "name": "python3"
  },
  "language_info": {
   "codemirror_mode": {
    "name": "ipython",
    "version": 3
   },
   "file_extension": ".py",
   "mimetype": "text/x-python",
   "name": "python",
   "nbconvert_exporter": "python",
   "pygments_lexer": "ipython3",
   "version": "3.11.5"
  }
 },
 "nbformat": 4,
 "nbformat_minor": 5
}
