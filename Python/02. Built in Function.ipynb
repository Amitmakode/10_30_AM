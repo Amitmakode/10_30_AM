{
 "cells": [
  {
   "cell_type": "code",
   "execution_count": 1,
   "id": "1d31a405-df84-4613-916c-4986ec4f62a9",
   "metadata": {},
   "outputs": [
    {
     "name": "stdout",
     "output_type": "stream",
     "text": [
      "10\n"
     ]
    }
   ],
   "source": [
    "# abs()\n",
    "#Description: Returns the absolute value of a number.\n",
    "\n",
    "num = -10\n",
    "\n",
    "abs_num = abs(num)\n",
    "print(abs_num)   "
   ]
  },
  {
   "cell_type": "code",
   "execution_count": 4,
   "id": "beaeafff-d348-41c4-9ab0-893470b65f1c",
   "metadata": {},
   "outputs": [
    {
     "name": "stdout",
     "output_type": "stream",
     "text": [
      "True\n"
     ]
    }
   ],
   "source": [
    "# all()\n",
    "#Description: Returns True if all elements of an iterable are true (or if the iterable is empty).\n",
    "\n",
    "list1 = [True, True, 30]\n",
    "\n",
    "result = all(list1)\n",
    "\n",
    "print(result)   "
   ]
  },
  {
   "cell_type": "code",
   "execution_count": 7,
   "id": "77dd101b-1a01-429f-b7af-e6b8e1cda993",
   "metadata": {},
   "outputs": [
    {
     "name": "stdout",
     "output_type": "stream",
     "text": [
      "True\n"
     ]
    }
   ],
   "source": [
    "# any()\n",
    "#Description: Returns True if any element of an iterable is true. If the iterable is empty, it returns False.\n",
    "\n",
    "list1 = [False, False, 1]\n",
    "result = any(list1)\n",
    "print(result) "
   ]
  },
  {
   "cell_type": "code",
   "execution_count": 8,
   "id": "604bcdf5-1aa5-4aff-908c-c61a7ddf0842",
   "metadata": {},
   "outputs": [
    {
     "name": "stdout",
     "output_type": "stream",
     "text": [
      "0b10100\n"
     ]
    }
   ],
   "source": [
    "# bin()\n",
    "\n",
    "#Description: Converts an integer number to a binary string prefixed with \"0b\".\n",
    "num = 20\n",
    "\n",
    "binary_num = bin(num)\n",
    "\n",
    "print(binary_num)  # Output: '0b1010'"
   ]
  },
  {
   "cell_type": "code",
   "execution_count": 9,
   "id": "390c84f4-0ed7-476b-b220-5eb5f332ddd1",
   "metadata": {},
   "outputs": [
    {
     "name": "stdout",
     "output_type": "stream",
     "text": [
      "False\n"
     ]
    }
   ],
   "source": [
    "# bool()\n",
    "\n",
    "#Description: Converts a value to a Boolean, using the standard truth testing procedure.\n",
    "\n",
    "bool_value = bool(0)\n",
    "print(bool_value) "
   ]
  },
  {
   "cell_type": "code",
   "execution_count": 14,
   "id": "cec4e0eb-d31f-45fe-9167-200125787e2f",
   "metadata": {},
   "outputs": [
    {
     "name": "stdout",
     "output_type": "stream",
     "text": [
      "c\n"
     ]
    }
   ],
   "source": [
    "# chr()\n",
    "\n",
    "#Description: Returns the string representing a character whose Unicode code point is the integer i.\n",
    "\n",
    "\n",
    "char = chr(99)\n",
    "\n",
    "print(char) "
   ]
  },
  {
   "cell_type": "code",
   "execution_count": 15,
   "id": "d56107fa-d6af-4c9b-b7aa-801e76c6ec35",
   "metadata": {},
   "outputs": [
    {
     "name": "stdout",
     "output_type": "stream",
     "text": [
      "69\n"
     ]
    }
   ],
   "source": [
    "# ord()\n",
    "\n",
    "#Description: Returns the Unicode code point for a given character.\n",
    "\t\t \n",
    "unicode_value = ord('E')\n",
    "print(unicode_value)  "
   ]
  },
  {
   "cell_type": "code",
   "execution_count": 16,
   "id": "fab8818c-3e01-4d52-9f2a-f8bd0f28b067",
   "metadata": {},
   "outputs": [
    {
     "name": "stdout",
     "output_type": "stream",
     "text": [
      "(77-7j)\n"
     ]
    }
   ],
   "source": [
    "# complex()\n",
    "\n",
    "#Description: Returns a complex number with the value real + imag*1j.\n",
    "\n",
    "comp_num = complex(77, -7)\n",
    "print(comp_num)   "
   ]
  },
  {
   "cell_type": "code",
   "execution_count": 17,
   "id": "e9159b3d-bde7-4651-b740-447d2c0ad2c5",
   "metadata": {},
   "outputs": [
    {
     "name": "stdout",
     "output_type": "stream",
     "text": [
      "{'key1': 'value1', 'key2': 'value2'}\n"
     ]
    }
   ],
   "source": [
    "# dict()\n",
    "\n",
    "#Description: Returns a dictionary (or associative array) object.\n",
    "\n",
    "dict_obj = dict(key1='value1', key2='value2')\n",
    "print(dict_obj)  "
   ]
  },
  {
   "cell_type": "code",
   "execution_count": 18,
   "id": "d8b32ae8-a2ae-4fee-a2a0-e7c3b05da731",
   "metadata": {},
   "outputs": [
    {
     "data": {
      "text/plain": [
       "['__add__',\n",
       " '__class__',\n",
       " '__class_getitem__',\n",
       " '__contains__',\n",
       " '__delattr__',\n",
       " '__delitem__',\n",
       " '__dir__',\n",
       " '__doc__',\n",
       " '__eq__',\n",
       " '__format__',\n",
       " '__ge__',\n",
       " '__getattribute__',\n",
       " '__getitem__',\n",
       " '__getstate__',\n",
       " '__gt__',\n",
       " '__hash__',\n",
       " '__iadd__',\n",
       " '__imul__',\n",
       " '__init__',\n",
       " '__init_subclass__',\n",
       " '__iter__',\n",
       " '__le__',\n",
       " '__len__',\n",
       " '__lt__',\n",
       " '__mul__',\n",
       " '__ne__',\n",
       " '__new__',\n",
       " '__reduce__',\n",
       " '__reduce_ex__',\n",
       " '__repr__',\n",
       " '__reversed__',\n",
       " '__rmul__',\n",
       " '__setattr__',\n",
       " '__setitem__',\n",
       " '__sizeof__',\n",
       " '__str__',\n",
       " '__subclasshook__',\n",
       " 'append',\n",
       " 'clear',\n",
       " 'copy',\n",
       " 'count',\n",
       " 'extend',\n",
       " 'index',\n",
       " 'insert',\n",
       " 'pop',\n",
       " 'remove',\n",
       " 'reverse',\n",
       " 'sort']"
      ]
     },
     "execution_count": 18,
     "metadata": {},
     "output_type": "execute_result"
    }
   ],
   "source": [
    "dir(list)"
   ]
  },
  {
   "cell_type": "code",
   "execution_count": 19,
   "id": "37f79f88-2b61-4550-a307-6dd0c34c868a",
   "metadata": {},
   "outputs": [
    {
     "name": "stdout",
     "output_type": "stream",
     "text": [
      "(4, 1)\n"
     ]
    }
   ],
   "source": [
    "# divmod()\n",
    "\n",
    "#Description: Returns a tuple of the quotient and the remainder when argument1 is divided by argument 2\n",
    "\n",
    "result = divmod(9, 2)\n",
    "print(result)   "
   ]
  },
  {
   "cell_type": "code",
   "execution_count": 20,
   "id": "e164a044-2826-4ff8-9f4b-f2fde9c61f16",
   "metadata": {},
   "outputs": [
    {
     "name": "stdout",
     "output_type": "stream",
     "text": [
      "[(0, 'apple'), (1, 'banana'), (2, 'cherry'), (3, 'chiku')]\n"
     ]
    }
   ],
   "source": [
    "# enumerate()\n",
    "\n",
    "#Description: Returns an enumerate object. It adds a counter to an iterable and returns it as an enumerate object.\n",
    "\n",
    "fruits = ['apple', 'banana', 'cherry', \"chiku\"]\n",
    "enum_obj = enumerate(fruits)\n",
    "print(list(enum_obj))   "
   ]
  },
  {
   "cell_type": "code",
   "execution_count": 21,
   "id": "77486a9a-009c-4bcd-8d10-a930681d728a",
   "metadata": {},
   "outputs": [
    {
     "name": "stdout",
     "output_type": "stream",
     "text": [
      "15\n"
     ]
    }
   ],
   "source": [
    "# eval()\n",
    "\n",
    "#Description: Evaluates and executes an expression dynamically.\n",
    "\n",
    "x = 10\n",
    "result = eval('x + 5')\n",
    "print(result)  "
   ]
  },
  {
   "cell_type": "code",
   "execution_count": 24,
   "id": "88d9abf3-f2c2-4618-892f-9257ebbbfb13",
   "metadata": {},
   "outputs": [
    {
     "name": "stdout",
     "output_type": "stream",
     "text": [
      "[2, 4, 6, 8, 8]\n"
     ]
    }
   ],
   "source": [
    "# filter()\n",
    "\n",
    "#Description: Constructs an iterator from elements of an iterable for which a function returns true.\n",
    "\t\t\n",
    "def is_even(num):\n",
    "    return num % 2 == 0\n",
    "\n",
    "numbers = [1, 2, 3, 4, 5, 6, 8, 8]\n",
    "filtered_nums = filter(is_even, numbers)\n",
    "print(list(filtered_nums))  "
   ]
  },
  {
   "cell_type": "code",
   "execution_count": 25,
   "id": "ced875aa-887a-4d2d-ab47-113eec09a388",
   "metadata": {},
   "outputs": [
    {
     "name": "stdout",
     "output_type": "stream",
     "text": [
      "300.0\n"
     ]
    }
   ],
   "source": [
    "# float()\n",
    "\n",
    "#Description: Returns a floating point number constructed from a number or string.\n",
    "\t\t\n",
    "float_num = float(300)\n",
    "print(float_num)  "
   ]
  },
  {
   "cell_type": "code",
   "execution_count": 26,
   "id": "03413755-f017-4b18-bad7-f0e166f05601",
   "metadata": {},
   "outputs": [
    {
     "name": "stdout",
     "output_type": "stream",
     "text": [
      "65.000000%\n"
     ]
    }
   ],
   "source": [
    "# format()\n",
    "\n",
    "#Description: Formats a specified value into a specified format.\n",
    "\t\t\n",
    "formatted = format(0.65, '%')\n",
    "\n",
    "print(formatted) "
   ]
  },
  {
   "cell_type": "code",
   "execution_count": 27,
   "id": "8ba727f6-23de-462d-9c97-403d3a540369",
   "metadata": {},
   "outputs": [
    {
     "name": "stdout",
     "output_type": "stream",
     "text": [
      "Help on class int in module builtins:\n",
      "\n",
      "class int(object)\n",
      " |  int([x]) -> integer\n",
      " |  int(x, base=10) -> integer\n",
      " |  \n",
      " |  Convert a number or string to an integer, or return 0 if no arguments\n",
      " |  are given.  If x is a number, return x.__int__().  For floating point\n",
      " |  numbers, this truncates towards zero.\n",
      " |  \n",
      " |  If x is not a number or if base is given, then x must be a string,\n",
      " |  bytes, or bytearray instance representing an integer literal in the\n",
      " |  given base.  The literal can be preceded by '+' or '-' and be surrounded\n",
      " |  by whitespace.  The base defaults to 10.  Valid bases are 0 and 2-36.\n",
      " |  Base 0 means to interpret the base from the string as an integer literal.\n",
      " |  >>> int('0b100', base=0)\n",
      " |  4\n",
      " |  \n",
      " |  Built-in subclasses:\n",
      " |      bool\n",
      " |  \n",
      " |  Methods defined here:\n",
      " |  \n",
      " |  __abs__(self, /)\n",
      " |      abs(self)\n",
      " |  \n",
      " |  __add__(self, value, /)\n",
      " |      Return self+value.\n",
      " |  \n",
      " |  __and__(self, value, /)\n",
      " |      Return self&value.\n",
      " |  \n",
      " |  __bool__(self, /)\n",
      " |      True if self else False\n",
      " |  \n",
      " |  __ceil__(...)\n",
      " |      Ceiling of an Integral returns itself.\n",
      " |  \n",
      " |  __divmod__(self, value, /)\n",
      " |      Return divmod(self, value).\n",
      " |  \n",
      " |  __eq__(self, value, /)\n",
      " |      Return self==value.\n",
      " |  \n",
      " |  __float__(self, /)\n",
      " |      float(self)\n",
      " |  \n",
      " |  __floor__(...)\n",
      " |      Flooring an Integral returns itself.\n",
      " |  \n",
      " |  __floordiv__(self, value, /)\n",
      " |      Return self//value.\n",
      " |  \n",
      " |  __format__(self, format_spec, /)\n",
      " |      Default object formatter.\n",
      " |  \n",
      " |  __ge__(self, value, /)\n",
      " |      Return self>=value.\n",
      " |  \n",
      " |  __getattribute__(self, name, /)\n",
      " |      Return getattr(self, name).\n",
      " |  \n",
      " |  __getnewargs__(self, /)\n",
      " |  \n",
      " |  __gt__(self, value, /)\n",
      " |      Return self>value.\n",
      " |  \n",
      " |  __hash__(self, /)\n",
      " |      Return hash(self).\n",
      " |  \n",
      " |  __index__(self, /)\n",
      " |      Return self converted to an integer, if self is suitable for use as an index into a list.\n",
      " |  \n",
      " |  __int__(self, /)\n",
      " |      int(self)\n",
      " |  \n",
      " |  __invert__(self, /)\n",
      " |      ~self\n",
      " |  \n",
      " |  __le__(self, value, /)\n",
      " |      Return self<=value.\n",
      " |  \n",
      " |  __lshift__(self, value, /)\n",
      " |      Return self<<value.\n",
      " |  \n",
      " |  __lt__(self, value, /)\n",
      " |      Return self<value.\n",
      " |  \n",
      " |  __mod__(self, value, /)\n",
      " |      Return self%value.\n",
      " |  \n",
      " |  __mul__(self, value, /)\n",
      " |      Return self*value.\n",
      " |  \n",
      " |  __ne__(self, value, /)\n",
      " |      Return self!=value.\n",
      " |  \n",
      " |  __neg__(self, /)\n",
      " |      -self\n",
      " |  \n",
      " |  __or__(self, value, /)\n",
      " |      Return self|value.\n",
      " |  \n",
      " |  __pos__(self, /)\n",
      " |      +self\n",
      " |  \n",
      " |  __pow__(self, value, mod=None, /)\n",
      " |      Return pow(self, value, mod).\n",
      " |  \n",
      " |  __radd__(self, value, /)\n",
      " |      Return value+self.\n",
      " |  \n",
      " |  __rand__(self, value, /)\n",
      " |      Return value&self.\n",
      " |  \n",
      " |  __rdivmod__(self, value, /)\n",
      " |      Return divmod(value, self).\n",
      " |  \n",
      " |  __repr__(self, /)\n",
      " |      Return repr(self).\n",
      " |  \n",
      " |  __rfloordiv__(self, value, /)\n",
      " |      Return value//self.\n",
      " |  \n",
      " |  __rlshift__(self, value, /)\n",
      " |      Return value<<self.\n",
      " |  \n",
      " |  __rmod__(self, value, /)\n",
      " |      Return value%self.\n",
      " |  \n",
      " |  __rmul__(self, value, /)\n",
      " |      Return value*self.\n",
      " |  \n",
      " |  __ror__(self, value, /)\n",
      " |      Return value|self.\n",
      " |  \n",
      " |  __round__(...)\n",
      " |      Rounding an Integral returns itself.\n",
      " |      \n",
      " |      Rounding with an ndigits argument also returns an integer.\n",
      " |  \n",
      " |  __rpow__(self, value, mod=None, /)\n",
      " |      Return pow(value, self, mod).\n",
      " |  \n",
      " |  __rrshift__(self, value, /)\n",
      " |      Return value>>self.\n",
      " |  \n",
      " |  __rshift__(self, value, /)\n",
      " |      Return self>>value.\n",
      " |  \n",
      " |  __rsub__(self, value, /)\n",
      " |      Return value-self.\n",
      " |  \n",
      " |  __rtruediv__(self, value, /)\n",
      " |      Return value/self.\n",
      " |  \n",
      " |  __rxor__(self, value, /)\n",
      " |      Return value^self.\n",
      " |  \n",
      " |  __sizeof__(self, /)\n",
      " |      Returns size in memory, in bytes.\n",
      " |  \n",
      " |  __sub__(self, value, /)\n",
      " |      Return self-value.\n",
      " |  \n",
      " |  __truediv__(self, value, /)\n",
      " |      Return self/value.\n",
      " |  \n",
      " |  __trunc__(...)\n",
      " |      Truncating an Integral returns itself.\n",
      " |  \n",
      " |  __xor__(self, value, /)\n",
      " |      Return self^value.\n",
      " |  \n",
      " |  as_integer_ratio(self, /)\n",
      " |      Return integer ratio.\n",
      " |      \n",
      " |      Return a pair of integers, whose ratio is exactly equal to the original int\n",
      " |      and with a positive denominator.\n",
      " |      \n",
      " |      >>> (10).as_integer_ratio()\n",
      " |      (10, 1)\n",
      " |      >>> (-10).as_integer_ratio()\n",
      " |      (-10, 1)\n",
      " |      >>> (0).as_integer_ratio()\n",
      " |      (0, 1)\n",
      " |  \n",
      " |  bit_count(self, /)\n",
      " |      Number of ones in the binary representation of the absolute value of self.\n",
      " |      \n",
      " |      Also known as the population count.\n",
      " |      \n",
      " |      >>> bin(13)\n",
      " |      '0b1101'\n",
      " |      >>> (13).bit_count()\n",
      " |      3\n",
      " |  \n",
      " |  bit_length(self, /)\n",
      " |      Number of bits necessary to represent self in binary.\n",
      " |      \n",
      " |      >>> bin(37)\n",
      " |      '0b100101'\n",
      " |      >>> (37).bit_length()\n",
      " |      6\n",
      " |  \n",
      " |  conjugate(...)\n",
      " |      Returns self, the complex conjugate of any int.\n",
      " |  \n",
      " |  to_bytes(self, /, length=1, byteorder='big', *, signed=False)\n",
      " |      Return an array of bytes representing an integer.\n",
      " |      \n",
      " |      length\n",
      " |        Length of bytes object to use.  An OverflowError is raised if the\n",
      " |        integer is not representable with the given number of bytes.  Default\n",
      " |        is length 1.\n",
      " |      byteorder\n",
      " |        The byte order used to represent the integer.  If byteorder is 'big',\n",
      " |        the most significant byte is at the beginning of the byte array.  If\n",
      " |        byteorder is 'little', the most significant byte is at the end of the\n",
      " |        byte array.  To request the native byte order of the host system, use\n",
      " |        `sys.byteorder' as the byte order value.  Default is to use 'big'.\n",
      " |      signed\n",
      " |        Determines whether two's complement is used to represent the integer.\n",
      " |        If signed is False and a negative integer is given, an OverflowError\n",
      " |        is raised.\n",
      " |  \n",
      " |  ----------------------------------------------------------------------\n",
      " |  Class methods defined here:\n",
      " |  \n",
      " |  from_bytes(bytes, byteorder='big', *, signed=False) from builtins.type\n",
      " |      Return the integer represented by the given array of bytes.\n",
      " |      \n",
      " |      bytes\n",
      " |        Holds the array of bytes to convert.  The argument must either\n",
      " |        support the buffer protocol or be an iterable object producing bytes.\n",
      " |        Bytes and bytearray are examples of built-in objects that support the\n",
      " |        buffer protocol.\n",
      " |      byteorder\n",
      " |        The byte order used to represent the integer.  If byteorder is 'big',\n",
      " |        the most significant byte is at the beginning of the byte array.  If\n",
      " |        byteorder is 'little', the most significant byte is at the end of the\n",
      " |        byte array.  To request the native byte order of the host system, use\n",
      " |        `sys.byteorder' as the byte order value.  Default is to use 'big'.\n",
      " |      signed\n",
      " |        Indicates whether two's complement is used to represent the integer.\n",
      " |  \n",
      " |  ----------------------------------------------------------------------\n",
      " |  Static methods defined here:\n",
      " |  \n",
      " |  __new__(*args, **kwargs) from builtins.type\n",
      " |      Create and return a new object.  See help(type) for accurate signature.\n",
      " |  \n",
      " |  ----------------------------------------------------------------------\n",
      " |  Data descriptors defined here:\n",
      " |  \n",
      " |  denominator\n",
      " |      the denominator of a rational number in lowest terms\n",
      " |  \n",
      " |  imag\n",
      " |      the imaginary part of a complex number\n",
      " |  \n",
      " |  numerator\n",
      " |      the numerator of a rational number in lowest terms\n",
      " |  \n",
      " |  real\n",
      " |      the real part of a complex number\n",
      "\n"
     ]
    }
   ],
   "source": [
    "# help()\n",
    "\n",
    "#Description: Invokes the built-in help system.\n",
    "\t\t\n",
    "help(int)"
   ]
  },
  {
   "cell_type": "code",
   "execution_count": 28,
   "id": "c86bc0c1-87bf-4187-a790-f498fe50da86",
   "metadata": {},
   "outputs": [
    {
     "name": "stdin",
     "output_type": "stream",
     "text": [
      "Enter your name:  rohan\n"
     ]
    },
    {
     "name": "stdout",
     "output_type": "stream",
     "text": [
      "Hello, rohan\n"
     ]
    }
   ],
   "source": [
    "# input()\n",
    "\n",
    "#Description: Reads a line from input, converts it to a string (stripping a trailing newline), and returns that.\n",
    "\t\t\n",
    "name = input(\"Enter your name: \")\n",
    "print(\"Hello, \" + name)"
   ]
  },
  {
   "cell_type": "code",
   "execution_count": 29,
   "id": "54d123c5-f8f1-47e4-bc77-ac05681896ae",
   "metadata": {},
   "outputs": [
    {
     "name": "stdout",
     "output_type": "stream",
     "text": [
      "10\n"
     ]
    }
   ],
   "source": [
    "# int()\n",
    "\n",
    "#Description: Returns an integer object constructed from a number or string.\n",
    "\t\t\n",
    "int_num = int(10.00002)\n",
    "print(int_num)  "
   ]
  },
  {
   "cell_type": "code",
   "execution_count": 31,
   "id": "f15e90c1-c31b-4567-9c69-1a667e2b0134",
   "metadata": {},
   "outputs": [
    {
     "name": "stdout",
     "output_type": "stream",
     "text": [
      "False\n"
     ]
    }
   ],
   "source": [
    "# isinstance()\n",
    "\n",
    "# Description: Returns True if the object is an instance of the class (direct, indirect, or virtual inheritance), False otherwise.\n",
    "\t\t\n",
    "z = 5.0\n",
    "result = isinstance(z, int)\n",
    "print(result)"
   ]
  },
  {
   "cell_type": "code",
   "execution_count": 32,
   "id": "b4fc56aa-15d9-44cb-ae01-4fbf2d4a2757",
   "metadata": {},
   "outputs": [],
   "source": [
    "# iter()\n",
    "\n",
    "#Description: Returns an iterator object for an iterable.\n",
    "\t\t\n",
    "iterable = [1, 2, 3]\n",
    "iter_obj = iter(iterable)\n"
   ]
  },
  {
   "cell_type": "code",
   "execution_count": 34,
   "id": "e27e30de-9be6-4153-a069-3bde9f3fc4b2",
   "metadata": {},
   "outputs": [
    {
     "data": {
      "text/plain": [
       "1"
      ]
     },
     "execution_count": 34,
     "metadata": {},
     "output_type": "execute_result"
    }
   ],
   "source": [
    "next(iter_obj)"
   ]
  },
  {
   "cell_type": "code",
   "execution_count": 35,
   "id": "a587d0df-282e-42f1-b48c-4626930d5403",
   "metadata": {},
   "outputs": [
    {
     "data": {
      "text/plain": [
       "2"
      ]
     },
     "execution_count": 35,
     "metadata": {},
     "output_type": "execute_result"
    }
   ],
   "source": [
    "next(iter_obj)"
   ]
  },
  {
   "cell_type": "code",
   "execution_count": 36,
   "id": "fc14bbe9-1e8a-4481-b2dd-70afe19c6f75",
   "metadata": {},
   "outputs": [
    {
     "data": {
      "text/plain": [
       "3"
      ]
     },
     "execution_count": 36,
     "metadata": {},
     "output_type": "execute_result"
    }
   ],
   "source": [
    "next(iter_obj)"
   ]
  },
  {
   "cell_type": "code",
   "execution_count": 37,
   "id": "1181ddce-e6ba-4451-b988-1403afc951f7",
   "metadata": {},
   "outputs": [
    {
     "ename": "StopIteration",
     "evalue": "",
     "output_type": "error",
     "traceback": [
      "\u001b[1;31m---------------------------------------------------------------------------\u001b[0m",
      "\u001b[1;31mStopIteration\u001b[0m                             Traceback (most recent call last)",
      "Cell \u001b[1;32mIn[37], line 1\u001b[0m\n\u001b[1;32m----> 1\u001b[0m \u001b[38;5;28mnext\u001b[39m(iter_obj)\n",
      "\u001b[1;31mStopIteration\u001b[0m: "
     ]
    }
   ],
   "source": [
    "next(iter_obj)"
   ]
  },
  {
   "cell_type": "code",
   "execution_count": 38,
   "id": "e5da61ee-cf90-40a2-82ca-8d6d626bcb00",
   "metadata": {},
   "outputs": [
    {
     "name": "stdout",
     "output_type": "stream",
     "text": [
      "1\n",
      "2\n",
      "3\n"
     ]
    }
   ],
   "source": [
    "for i in iterable:\n",
    "    print(i)"
   ]
  },
  {
   "cell_type": "code",
   "execution_count": 41,
   "id": "ff1b4d12-fd2d-468e-a596-3e17f1b1fcf7",
   "metadata": {},
   "outputs": [
    {
     "name": "stdout",
     "output_type": "stream",
     "text": [
      "12\n"
     ]
    }
   ],
   "source": [
    "# len()\n",
    "\n",
    "#Description: Returns the length (number of items) of an object.\n",
    "\t\t\n",
    "my_list = \"amit   kumar\"\n",
    "length = len(my_list)\n",
    "print(length)   "
   ]
  },
  {
   "cell_type": "code",
   "execution_count": 42,
   "id": "f52b11aa-1d50-4f1b-9a69-11117dd7685b",
   "metadata": {},
   "outputs": [
    {
     "name": "stdout",
     "output_type": "stream",
     "text": [
      "[1, 2, 3]\n"
     ]
    }
   ],
   "source": [
    "# list()\n",
    "\n",
    "#Description: Returns a list object.\n",
    "\t\t\n",
    "lst = list((1, 2, 3))\n",
    "print(lst)  "
   ]
  },
  {
   "cell_type": "code",
   "execution_count": 43,
   "id": "cc70253d-dea5-4539-a9ea-1df23f1049df",
   "metadata": {},
   "outputs": [
    {
     "name": "stdout",
     "output_type": "stream",
     "text": [
      "[1, 4, 9, 16, 144]\n"
     ]
    }
   ],
   "source": [
    "# map()\n",
    "\n",
    "#Description: Applies a function to all items in an input list and returns an iterator of results.\n",
    "\t\t\n",
    "def square(x):\n",
    "\treturn x ** 2\n",
    "\n",
    "numbers = [1, 2, 3, 4, 12]\n",
    "squared = map(square, numbers)\n",
    "print(list(squared))  "
   ]
  },
  {
   "cell_type": "code",
   "execution_count": 44,
   "id": "fd3e7c6b-d821-4c6a-944d-ef87aacf2ec5",
   "metadata": {},
   "outputs": [
    {
     "data": {
      "text/plain": [
       "36"
      ]
     },
     "execution_count": 44,
     "metadata": {},
     "output_type": "execute_result"
    }
   ],
   "source": [
    "square(6)"
   ]
  },
  {
   "cell_type": "code",
   "execution_count": 46,
   "id": "6aca3637-a6a5-4152-a776-fb832f0f45e1",
   "metadata": {},
   "outputs": [
    {
     "data": {
      "text/plain": [
       "[1, 4, 9, 16, 144]"
      ]
     },
     "execution_count": 46,
     "metadata": {},
     "output_type": "execute_result"
    }
   ],
   "source": [
    "list(map(square, numbers))"
   ]
  },
  {
   "cell_type": "code",
   "execution_count": 47,
   "id": "db1a924b-12f9-4fcb-b65e-1ac11e3b59bf",
   "metadata": {},
   "outputs": [
    {
     "name": "stdout",
     "output_type": "stream",
     "text": [
      "3\n"
     ]
    }
   ],
   "source": [
    "# max()\n",
    "\n",
    "#Description: Returns the largest item in an iterable or the largest of two or more arguments.\n",
    "\t\t\n",
    "max_num = max(1, 2, 3)\n",
    "print(max_num)"
   ]
  },
  {
   "cell_type": "code",
   "execution_count": 48,
   "id": "20a8a4d5-7073-4501-8a95-a462cfd9e84a",
   "metadata": {},
   "outputs": [
    {
     "name": "stdout",
     "output_type": "stream",
     "text": [
      "1\n"
     ]
    }
   ],
   "source": [
    "# min()\n",
    "\n",
    "#Description: Returns the smallest item in an iterable or the smallest of two or more arguments.\n",
    "\t\t \n",
    "min_num = min(1, 2, 3)\n",
    "print(min_num)"
   ]
  },
  {
   "cell_type": "code",
   "execution_count": 49,
   "id": "ec0002c2-12f9-49e9-a4c8-f03772f2c30e",
   "metadata": {},
   "outputs": [
    {
     "name": "stdout",
     "output_type": "stream",
     "text": [
      "1\n"
     ]
    }
   ],
   "source": [
    "# next()\n",
    "\n",
    "#Description: Retrieves the next item from the iterator.\n",
    "\t\t \n",
    "iterator = iter([1, 2, 3])\n",
    "print(next(iterator)) "
   ]
  },
  {
   "cell_type": "code",
   "execution_count": 50,
   "id": "28f89fb7-89e4-4f20-a5d2-722e25226a38",
   "metadata": {},
   "outputs": [
    {
     "ename": "FileNotFoundError",
     "evalue": "[Errno 2] No such file or directory: 'example.txt'",
     "output_type": "error",
     "traceback": [
      "\u001b[1;31m---------------------------------------------------------------------------\u001b[0m",
      "\u001b[1;31mFileNotFoundError\u001b[0m                         Traceback (most recent call last)",
      "Cell \u001b[1;32mIn[50], line 5\u001b[0m\n\u001b[0;32m      1\u001b[0m \u001b[38;5;66;03m# open()\u001b[39;00m\n\u001b[0;32m      2\u001b[0m \n\u001b[0;32m      3\u001b[0m \u001b[38;5;66;03m#Description: Opens a file and returns a file object.\u001b[39;00m\n\u001b[1;32m----> 5\u001b[0m file_obj \u001b[38;5;241m=\u001b[39m \u001b[38;5;28mopen\u001b[39m(\u001b[38;5;124m'\u001b[39m\u001b[38;5;124mexample.txt\u001b[39m\u001b[38;5;124m'\u001b[39m, \u001b[38;5;124m'\u001b[39m\u001b[38;5;124mr\u001b[39m\u001b[38;5;124m'\u001b[39m)\n\u001b[0;32m      6\u001b[0m content \u001b[38;5;241m=\u001b[39m file_obj\u001b[38;5;241m.\u001b[39mread()\n\u001b[0;32m      7\u001b[0m \u001b[38;5;28mprint\u001b[39m(content)\n",
      "File \u001b[1;32m~\\anaconda3\\Lib\\site-packages\\IPython\\core\\interactiveshell.py:310\u001b[0m, in \u001b[0;36m_modified_open\u001b[1;34m(file, *args, **kwargs)\u001b[0m\n\u001b[0;32m    303\u001b[0m \u001b[38;5;28;01mif\u001b[39;00m file \u001b[38;5;129;01min\u001b[39;00m {\u001b[38;5;241m0\u001b[39m, \u001b[38;5;241m1\u001b[39m, \u001b[38;5;241m2\u001b[39m}:\n\u001b[0;32m    304\u001b[0m     \u001b[38;5;28;01mraise\u001b[39;00m \u001b[38;5;167;01mValueError\u001b[39;00m(\n\u001b[0;32m    305\u001b[0m         \u001b[38;5;124mf\u001b[39m\u001b[38;5;124m\"\u001b[39m\u001b[38;5;124mIPython won\u001b[39m\u001b[38;5;124m'\u001b[39m\u001b[38;5;124mt let you open fd=\u001b[39m\u001b[38;5;132;01m{\u001b[39;00mfile\u001b[38;5;132;01m}\u001b[39;00m\u001b[38;5;124m by default \u001b[39m\u001b[38;5;124m\"\u001b[39m\n\u001b[0;32m    306\u001b[0m         \u001b[38;5;124m\"\u001b[39m\u001b[38;5;124mas it is likely to crash IPython. If you know what you are doing, \u001b[39m\u001b[38;5;124m\"\u001b[39m\n\u001b[0;32m    307\u001b[0m         \u001b[38;5;124m\"\u001b[39m\u001b[38;5;124myou can use builtins\u001b[39m\u001b[38;5;124m'\u001b[39m\u001b[38;5;124m open.\u001b[39m\u001b[38;5;124m\"\u001b[39m\n\u001b[0;32m    308\u001b[0m     )\n\u001b[1;32m--> 310\u001b[0m \u001b[38;5;28;01mreturn\u001b[39;00m io_open(file, \u001b[38;5;241m*\u001b[39margs, \u001b[38;5;241m*\u001b[39m\u001b[38;5;241m*\u001b[39mkwargs)\n",
      "\u001b[1;31mFileNotFoundError\u001b[0m: [Errno 2] No such file or directory: 'example.txt'"
     ]
    }
   ],
   "source": [
    "# open()\n",
    "\n",
    "#Description: Opens a file and returns a file object.\n",
    "\t\t \n",
    "file_obj = open('example.txt', 'r')\n",
    "content = file_obj.read()\n",
    "print(content)\n",
    "file_obj.close()"
   ]
  },
  {
   "cell_type": "code",
   "execution_count": 51,
   "id": "0af061d2-e9b1-4c27-a1e2-6289ec02f1e7",
   "metadata": {},
   "outputs": [
    {
     "name": "stdout",
     "output_type": "stream",
     "text": [
      "100\n"
     ]
    }
   ],
   "source": [
    "# pow()\n",
    "\n",
    "#Description: Returns the value of x to the power of y.\n",
    "\n",
    "result = pow(10, 2)\n",
    "print(result) "
   ]
  },
  {
   "cell_type": "code",
   "execution_count": 52,
   "id": "6a4b2e49-15f9-4874-aeeb-d12f476d9149",
   "metadata": {},
   "outputs": [
    {
     "name": "stdout",
     "output_type": "stream",
     "text": [
      "Hello, World!\n"
     ]
    }
   ],
   "source": [
    "# print()\n",
    "\n",
    "#Description: Outputs a message to the console or other standard output device.\n",
    "\t\t\n",
    "print(\"Hello, World!\")"
   ]
  },
  {
   "cell_type": "code",
   "execution_count": 54,
   "id": "831719f4-be0c-48af-b9ba-a7a4670026ad",
   "metadata": {},
   "outputs": [
    {
     "name": "stdout",
     "output_type": "stream",
     "text": [
      "1 2 5 7 7\n"
     ]
    }
   ],
   "source": [
    "print(1,2,5,7,7)"
   ]
  },
  {
   "cell_type": "code",
   "execution_count": 55,
   "id": "8a9cd7d8-03c0-4dfe-8292-b9d31a9d90fa",
   "metadata": {},
   "outputs": [
    {
     "ename": "TypeError",
     "evalue": "len() takes exactly one argument (0 given)",
     "output_type": "error",
     "traceback": [
      "\u001b[1;31m---------------------------------------------------------------------------\u001b[0m",
      "\u001b[1;31mTypeError\u001b[0m                                 Traceback (most recent call last)",
      "Cell \u001b[1;32mIn[55], line 1\u001b[0m\n\u001b[1;32m----> 1\u001b[0m \u001b[38;5;28mlen\u001b[39m()\n",
      "\u001b[1;31mTypeError\u001b[0m: len() takes exactly one argument (0 given)"
     ]
    }
   ],
   "source": [
    "len()"
   ]
  },
  {
   "cell_type": "code",
   "execution_count": 56,
   "id": "79a0ea16-698e-4afb-a2d5-0233fa619b23",
   "metadata": {},
   "outputs": [
    {
     "ename": "TypeError",
     "evalue": "type() takes 1 or 3 arguments",
     "output_type": "error",
     "traceback": [
      "\u001b[1;31m---------------------------------------------------------------------------\u001b[0m",
      "\u001b[1;31mTypeError\u001b[0m                                 Traceback (most recent call last)",
      "Cell \u001b[1;32mIn[56], line 1\u001b[0m\n\u001b[1;32m----> 1\u001b[0m \u001b[38;5;28mtype\u001b[39m()\n",
      "\u001b[1;31mTypeError\u001b[0m: type() takes 1 or 3 arguments"
     ]
    }
   ],
   "source": [
    "type()"
   ]
  },
  {
   "cell_type": "code",
   "execution_count": 57,
   "id": "170d9e34-34da-4ac4-a1f5-f6ce13f13f38",
   "metadata": {},
   "outputs": [
    {
     "name": "stdout",
     "output_type": "stream",
     "text": [
      "{1, 2, 3}\n"
     ]
    }
   ],
   "source": [
    "# set()\n",
    "\n",
    "#Description: Returns a new set object.\n",
    "\t\t \n",
    "set_obj = set([1, 2, 3])\n",
    "print(set_obj)"
   ]
  },
  {
   "cell_type": "code",
   "execution_count": 58,
   "id": "d6465f66-cd5e-4655-8e2e-5c66de181bb0",
   "metadata": {},
   "outputs": [
    {
     "name": "stdout",
     "output_type": "stream",
     "text": [
      "[0, 1, 2, 3, 4]\n"
     ]
    }
   ],
   "source": [
    "# range()\n",
    "\n",
    "#Description: Returns a sequence of numbers, starting from 0 (by default), and increments by 1 (by default), and stops before a specified number.\n",
    "\t\t \n",
    "rng = range(5)\n",
    "print(list(rng)) "
   ]
  },
  {
   "cell_type": "code",
   "execution_count": 59,
   "id": "3abd798e-5032-4bef-8a42-6b2845aa6aba",
   "metadata": {},
   "outputs": [
    {
     "data": {
      "text/plain": [
       "[3, 4, 5, 6, 7, 8]"
      ]
     },
     "execution_count": 59,
     "metadata": {},
     "output_type": "execute_result"
    }
   ],
   "source": [
    "list(range(3,9))"
   ]
  },
  {
   "cell_type": "code",
   "execution_count": 60,
   "id": "250059b9-5c35-4f70-b2df-d8b484b80092",
   "metadata": {},
   "outputs": [
    {
     "data": {
      "text/plain": [
       "[3, 13, 23, 33, 43, 53, 63, 73, 83]"
      ]
     },
     "execution_count": 60,
     "metadata": {},
     "output_type": "execute_result"
    }
   ],
   "source": [
    "list(range(3,90,10))"
   ]
  },
  {
   "cell_type": "code",
   "execution_count": 62,
   "id": "5672a089-a57b-4b4d-b5bd-024f548dce6a",
   "metadata": {},
   "outputs": [
    {
     "data": {
      "text/plain": [
       "[300,\n",
       " 290,\n",
       " 280,\n",
       " 270,\n",
       " 260,\n",
       " 250,\n",
       " 240,\n",
       " 230,\n",
       " 220,\n",
       " 210,\n",
       " 200,\n",
       " 190,\n",
       " 180,\n",
       " 170,\n",
       " 160,\n",
       " 150,\n",
       " 140,\n",
       " 130,\n",
       " 120,\n",
       " 110,\n",
       " 100]"
      ]
     },
     "execution_count": 62,
     "metadata": {},
     "output_type": "execute_result"
    }
   ],
   "source": [
    "list(range(300,90,-10))"
   ]
  },
  {
   "cell_type": "code",
   "execution_count": 64,
   "id": "1c5d2648-7016-43e1-bd78-96921ac72884",
   "metadata": {},
   "outputs": [
    {
     "data": {
      "text/plain": [
       "[30, 29, 28, 27, 26, 25, 24, 23, 22, 21]"
      ]
     },
     "execution_count": 64,
     "metadata": {},
     "output_type": "execute_result"
    }
   ],
   "source": [
    "list(range(30,20,-1))"
   ]
  },
  {
   "cell_type": "code",
   "execution_count": 65,
   "id": "59898b8d-719e-453e-8621-2c3027692aa7",
   "metadata": {},
   "outputs": [
    {
     "name": "stdout",
     "output_type": "stream",
     "text": [
      "[3, 2, 1]\n"
     ]
    }
   ],
   "source": [
    "# reversed()\n",
    "\n",
    "#Description: Returns a reverse iterator.\n",
    "\t\t \n",
    "rev_iter = reversed([1, 2, 3])\n",
    "\n",
    "print(list(rev_iter)) "
   ]
  },
  {
   "cell_type": "code",
   "execution_count": 67,
   "id": "16c1b581-c62c-4c37-9247-14135a39d48f",
   "metadata": {},
   "outputs": [
    {
     "name": "stdout",
     "output_type": "stream",
     "text": [
      "3.14\n"
     ]
    }
   ],
   "source": [
    "# round()\n",
    "\n",
    "#Description: Rounds a number to a specified precision in decimal digits.\n",
    "\t\t \n",
    "num = 3.14159\n",
    "rounded_num = round(num, 2)\n",
    "print(rounded_num) "
   ]
  },
  {
   "cell_type": "code",
   "execution_count": 68,
   "id": "e2f1a36f-5ff4-4384-b0cd-f2a75640624c",
   "metadata": {},
   "outputs": [
    {
     "name": "stdout",
     "output_type": "stream",
     "text": [
      "[1, 2, 3]\n"
     ]
    }
   ],
   "source": [
    "# sorted()\n",
    "\n",
    "#Description: Returns a sorted list from the items in an iterable.\n",
    " \n",
    "lst = [3, 1, 2]\n",
    "\n",
    "sorted_lst = sorted(lst)\n",
    "print(sorted_lst)"
   ]
  },
  {
   "cell_type": "code",
   "execution_count": 70,
   "id": "afdd6113-9e75-4c83-aa1b-4825fb0b2fb8",
   "metadata": {},
   "outputs": [
    {
     "data": {
      "text/plain": [
       "[3, 2, 1]"
      ]
     },
     "execution_count": 70,
     "metadata": {},
     "output_type": "execute_result"
    }
   ],
   "source": [
    "sorted(lst,reverse=True)"
   ]
  },
  {
   "cell_type": "code",
   "execution_count": 71,
   "id": "9c8cf2ba-dcb3-4cb3-86f5-754f3bd126ce",
   "metadata": {},
   "outputs": [
    {
     "name": "stdout",
     "output_type": "stream",
     "text": [
      "6648\n"
     ]
    }
   ],
   "source": [
    "# str()\n",
    "\n",
    "#Description: Returns a string object.\n",
    "\t\t \n",
    "str_obj = str(\"6648\")\n",
    "print(str_obj) "
   ]
  },
  {
   "cell_type": "code",
   "execution_count": 72,
   "id": "84ad9bb6-c5a5-4d3a-b379-4bdc7c0b3acc",
   "metadata": {},
   "outputs": [
    {
     "name": "stdout",
     "output_type": "stream",
     "text": [
      "6\n"
     ]
    }
   ],
   "source": [
    "# sum()\n",
    "\n",
    "#Description: Sums the items of an iterable.\n",
    "\t\t \n",
    "lst = [1, 2, 3]\n",
    "sum_lst = sum(lst)\n",
    "print(sum_lst) "
   ]
  },
  {
   "cell_type": "code",
   "execution_count": 73,
   "id": "58ad64f5-c5d4-475d-b81e-6bbb231489d8",
   "metadata": {},
   "outputs": [
    {
     "name": "stdout",
     "output_type": "stream",
     "text": [
      "(1, 2, 3)\n"
     ]
    }
   ],
   "source": [
    "# tuple()\n",
    "\n",
    "#Description: Returns a tuple object.\n",
    "\t\t \n",
    "tpl = tuple([1, 2, 3])\n",
    "print(tpl) "
   ]
  },
  {
   "cell_type": "code",
   "execution_count": 74,
   "id": "1b4be50f-901c-4496-b3b2-78db61b91539",
   "metadata": {},
   "outputs": [
    {
     "data": {
      "text/plain": [
       "('r', 'e', 'n', 'a', 'm', 'e')"
      ]
     },
     "execution_count": 74,
     "metadata": {},
     "output_type": "execute_result"
    }
   ],
   "source": [
    "tuple(\"rename\")"
   ]
  },
  {
   "cell_type": "code",
   "execution_count": 75,
   "id": "d2ff304d-9404-41be-a412-dca079654ac2",
   "metadata": {},
   "outputs": [],
   "source": [
    "t = (2,3,4)"
   ]
  },
  {
   "cell_type": "code",
   "execution_count": 76,
   "id": "76ef2d9a-140b-45b5-8646-5f7ed9dc49d4",
   "metadata": {},
   "outputs": [
    {
     "data": {
      "text/plain": [
       "'(2, 3, 4)'"
      ]
     },
     "execution_count": 76,
     "metadata": {},
     "output_type": "execute_result"
    }
   ],
   "source": [
    "str(t)"
   ]
  },
  {
   "cell_type": "code",
   "execution_count": 77,
   "id": "3ae14201-3d2d-4732-8f12-cbd0e5580751",
   "metadata": {},
   "outputs": [
    {
     "name": "stdout",
     "output_type": "stream",
     "text": [
      "<class 'int'>\n"
     ]
    }
   ],
   "source": [
    "# type()\n",
    "\n",
    "#Description: Returns the type of an object or creates a new type object.\n",
    "\t\t \n",
    "x = 5\n",
    "print(type(x))"
   ]
  },
  {
   "cell_type": "code",
   "execution_count": 78,
   "id": "8b70ec6e-dd1f-4a34-a5ce-784ff25c22e5",
   "metadata": {},
   "outputs": [
    {
     "name": "stdout",
     "output_type": "stream",
     "text": [
      "[(1, 'a'), (2, 'b'), (3, 'c')]\n"
     ]
    }
   ],
   "source": [
    "# zip()\n",
    "\n",
    "#Description: Returns an iterator of tuples, where the i-th tuple contains the i-th element from each of the argument sequences or iterables.\n",
    "\t\t \n",
    "lst1 = [1, 2, 3]\n",
    "lst2 = ['a', 'b', 'c']\n",
    "\n",
    "zipped = zip(lst1, lst2)\n",
    "print(list(zipped))"
   ]
  },
  {
   "cell_type": "code",
   "execution_count": 79,
   "id": "a8641539-6f9d-4bf2-a103-8f3f3ec4accb",
   "metadata": {},
   "outputs": [
    {
     "ename": "TypeError",
     "evalue": "dict expected at most 1 argument, got 2",
     "output_type": "error",
     "traceback": [
      "\u001b[1;31m---------------------------------------------------------------------------\u001b[0m",
      "\u001b[1;31mTypeError\u001b[0m                                 Traceback (most recent call last)",
      "Cell \u001b[1;32mIn[79], line 1\u001b[0m\n\u001b[1;32m----> 1\u001b[0m \u001b[38;5;28mdict\u001b[39m(lst1,lst2)\n",
      "\u001b[1;31mTypeError\u001b[0m: dict expected at most 1 argument, got 2"
     ]
    }
   ],
   "source": [
    "dict(lst1,lst2)"
   ]
  },
  {
   "cell_type": "code",
   "execution_count": 80,
   "id": "362e8d75-e0d2-44a8-a27c-131ff9dadc22",
   "metadata": {},
   "outputs": [
    {
     "data": {
      "text/plain": [
       "{}"
      ]
     },
     "execution_count": 80,
     "metadata": {},
     "output_type": "execute_result"
    }
   ],
   "source": [
    "dict(zipped)"
   ]
  },
  {
   "cell_type": "code",
   "execution_count": 81,
   "id": "e853a607-d808-40c1-9c75-48c36c5d5dd2",
   "metadata": {},
   "outputs": [
    {
     "data": {
      "text/plain": [
       "[[1, 2], [3, 4], [5, 6]]"
      ]
     },
     "execution_count": 81,
     "metadata": {},
     "output_type": "execute_result"
    }
   ],
   "source": [
    "[[1,2], [3,4],[5,6]]"
   ]
  },
  {
   "cell_type": "code",
   "execution_count": 82,
   "id": "70293f48-b870-4df2-b381-6c9f7e463ec2",
   "metadata": {},
   "outputs": [
    {
     "data": {
      "text/plain": [
       "{1: 2, 3: 4, 5: 6}"
      ]
     },
     "execution_count": 82,
     "metadata": {},
     "output_type": "execute_result"
    }
   ],
   "source": [
    "dict([[1,2], [3,4],[5,6]])"
   ]
  },
  {
   "cell_type": "code",
   "execution_count": null,
   "id": "5ba995b2-4832-46ed-9b65-acb9a365a35e",
   "metadata": {},
   "outputs": [],
   "source": []
  },
  {
   "cell_type": "code",
   "execution_count": 84,
   "id": "0d3fecdd-236e-407b-abed-d09320ee428a",
   "metadata": {},
   "outputs": [
    {
     "name": "stdout",
     "output_type": "stream",
     "text": [
      "Hello\n",
      "Wor\n",
      "ld\n"
     ]
    }
   ],
   "source": [
    "# \\n new line\n",
    "print(\"Hello\\nWor\\nld\")"
   ]
  },
  {
   "cell_type": "code",
   "execution_count": 85,
   "id": "8ec28a19-1880-40d5-b55d-a2e43d96a15f",
   "metadata": {},
   "outputs": [
    {
     "name": "stdout",
     "output_type": "stream",
     "text": [
      "Name:\tAlice\n"
     ]
    }
   ],
   "source": [
    "# \\t tab space\n",
    "print(\"Name:\\tAlice\")"
   ]
  },
  {
   "cell_type": "code",
   "execution_count": null,
   "id": "82b59477-2ed2-4ae9-be31-0bdb6b26ae17",
   "metadata": {},
   "outputs": [],
   "source": [
    "# \\\\ (Backslash)\n",
    "\n",
    "path = \"C:\\\\Users\\\\John\\\\Documents\"\n",
    "print(path)\n",
    "\"C:/Users/amitm/Downloads/GitHub VS Code.txt\""
   ]
  },
  {
   "cell_type": "code",
   "execution_count": null,
   "id": "9fa46c2f-f576-435d-ada6-72afad6c72a3",
   "metadata": {},
   "outputs": [],
   "source": [
    "# \\\\ (Backslash)\n",
    "\n",
    "path = \"C:/Users/John/Documents\"\n",
    "print(path)"
   ]
  },
  {
   "cell_type": "code",
   "execution_count": 86,
   "id": "0a7c5ec3-b5c2-473e-8135-335ba078c4c0",
   "metadata": {},
   "outputs": [
    {
     "name": "stdout",
     "output_type": "stream",
     "text": [
      "He said, 'Hello!'\n",
      "She said, \"Hi!\"\n"
     ]
    }
   ],
   "source": [
    "# \\' and \\\" (Single and Double Quotes)\n",
    "\n",
    "# Using \\' to include a single quote inside a string\n",
    "\n",
    "message = 'He said, \\'Hello!\\''\n",
    "print(message)\n",
    "\n",
    "# Using \\\" to include a double quote inside a string\n",
    "quote = \"She said, \\\"Hi!\\\"\"\n",
    "print(quote)"
   ]
  },
  {
   "cell_type": "code",
   "execution_count": 88,
   "id": "894c81d6-b79c-4979-b3d0-2df9e4ffae0f",
   "metadata": {},
   "outputs": [
    {
     "name": "stdout",
     "output_type": "stream",
     "text": [
      "He said, 'Hello!'\n"
     ]
    }
   ],
   "source": [
    "print(\"He said, \\'Hello!\\'\")"
   ]
  },
  {
   "cell_type": "code",
   "execution_count": 90,
   "id": "84c75606-c2b0-4d54-a77f-8bf2eaca3f37",
   "metadata": {},
   "outputs": [
    {
     "name": "stdout",
     "output_type": "stream",
     "text": [
      " World python\n"
     ]
    }
   ],
   "source": [
    "# \\r (Carriage Return)\n",
    "\n",
    "print(\"Hello \\r World python\")"
   ]
  },
  {
   "cell_type": "code",
   "execution_count": 94,
   "id": "82feb095-ed98-4a6d-b6ae-4837a222267b",
   "metadata": {},
   "outputs": [],
   "source": [
    "a = \"Hello World python\" "
   ]
  },
  {
   "cell_type": "code",
   "execution_count": 95,
   "id": "27c9ca52-584e-4463-bd64-c9201136b106",
   "metadata": {},
   "outputs": [
    {
     "data": {
      "text/plain": [
       "'o'"
      ]
     },
     "execution_count": 95,
     "metadata": {},
     "output_type": "execute_result"
    }
   ],
   "source": [
    "a[7]"
   ]
  },
  {
   "cell_type": "code",
   "execution_count": 96,
   "id": "03f2f37e-f016-49d6-9f3e-cb45e280fbae",
   "metadata": {},
   "outputs": [
    {
     "data": {
      "text/plain": [
       "'t'"
      ]
     },
     "execution_count": 96,
     "metadata": {},
     "output_type": "execute_result"
    }
   ],
   "source": [
    "a[-4]"
   ]
  },
  {
   "cell_type": "code",
   "execution_count": 97,
   "id": "95800df6-6ad1-456a-834d-de6b2c6970ff",
   "metadata": {},
   "outputs": [
    {
     "ename": "SyntaxError",
     "evalue": "invalid syntax (3340282316.py, line 1)",
     "output_type": "error",
     "traceback": [
      "\u001b[1;36m  Cell \u001b[1;32mIn[97], line 1\u001b[1;36m\u001b[0m\n\u001b[1;33m    -3-2-1 0 1 2 3\u001b[0m\n\u001b[1;37m           ^\u001b[0m\n\u001b[1;31mSyntaxError\u001b[0m\u001b[1;31m:\u001b[0m invalid syntax\n"
     ]
    }
   ],
   "source": [
    "-3-2-1 0 1 2 3"
   ]
  },
  {
   "cell_type": "code",
   "execution_count": null,
   "id": "76e36a8e-1c61-47e9-bb1a-1d37e48f40ca",
   "metadata": {},
   "outputs": [],
   "source": []
  },
  {
   "cell_type": "code",
   "execution_count": 98,
   "id": "7d208d12-cc42-44cb-9221-44c2b72db8ba",
   "metadata": {},
   "outputs": [],
   "source": [
    "strr= \"\"\"To view a specific index value in a Pandas DataFrame, you can use the \n",
    ".loc or .iloc methods, depending on whether you want to access the value by \n",
    "index label or by position. Here’s how to do both:\"\"\""
   ]
  },
  {
   "cell_type": "code",
   "execution_count": 99,
   "id": "d1a5f7ec-5850-462f-b6f8-01d4c5cdabc7",
   "metadata": {},
   "outputs": [
    {
     "data": {
      "text/plain": [
       "'To view a specific index value in a Pandas DataFrame, you can use the \\n.loc or .iloc methods, depending on whether you want to access the value by \\nindex label or by position. Here’s how to do both:'"
      ]
     },
     "execution_count": 99,
     "metadata": {},
     "output_type": "execute_result"
    }
   ],
   "source": [
    "strr"
   ]
  },
  {
   "cell_type": "code",
   "execution_count": null,
   "id": "0000a3e3-dd57-40f6-b3b9-ba026c1aafb5",
   "metadata": {},
   "outputs": [],
   "source": [
    "print()"
   ]
  }
 ],
 "metadata": {
  "kernelspec": {
   "display_name": "Python 3 (ipykernel)",
   "language": "python",
   "name": "python3"
  },
  "language_info": {
   "codemirror_mode": {
    "name": "ipython",
    "version": 3
   },
   "file_extension": ".py",
   "mimetype": "text/x-python",
   "name": "python",
   "nbconvert_exporter": "python",
   "pygments_lexer": "ipython3",
   "version": "3.11.7"
  }
 },
 "nbformat": 4,
 "nbformat_minor": 5
}
