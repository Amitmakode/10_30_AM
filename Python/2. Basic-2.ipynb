{
 "cells": [
  {
   "cell_type": "code",
   "execution_count": null,
   "id": "e17244aa",
   "metadata": {},
   "outputs": [],
   "source": [
    "## Boolean\n",
    "\n",
    "#A boolean data type represents one of the two values: _True_ or _False_. The use of these data types will be clear once we start using the comparison operator. The first letter **T** for True and **F** for False should be capital unlike JavaScript.\n",
    "#**Example: Boolean Values**"
   ]
  },
  {
   "cell_type": "code",
   "execution_count": 1,
   "id": "17427136",
   "metadata": {},
   "outputs": [
    {
     "name": "stdout",
     "output_type": "stream",
     "text": [
      "True\n",
      "False\n"
     ]
    }
   ],
   "source": [
    "print(True)\n",
    "print(False)"
   ]
  },
  {
   "cell_type": "code",
   "execution_count": 2,
   "id": "acc176cf",
   "metadata": {},
   "outputs": [
    {
     "data": {
      "text/plain": [
       "2"
      ]
     },
     "execution_count": 2,
     "metadata": {},
     "output_type": "execute_result"
    }
   ],
   "source": [
    "True+True"
   ]
  },
  {
   "cell_type": "code",
   "execution_count": null,
   "id": "94c9d2ce",
   "metadata": {},
   "outputs": [],
   "source": [
    "### Arithmetic Operators:\n",
    "\n",
    "- Addition(+): a + b\n",
    "- Subtraction(-): a - b\n",
    "- Multiplication(*): a * b\n",
    "- Division(/): a / b\n",
    "- Modulus(%): a % b\n",
    "- Floor division(//): a // b\n",
    "- Exponentiation(**): a ** b"
   ]
  },
  {
   "cell_type": "code",
   "execution_count": 3,
   "id": "57815e49",
   "metadata": {},
   "outputs": [],
   "source": [
    "a= 10\n",
    "b = 20\n"
   ]
  },
  {
   "cell_type": "code",
   "execution_count": 4,
   "id": "be32c484",
   "metadata": {},
   "outputs": [
    {
     "data": {
      "text/plain": [
       "10"
      ]
     },
     "execution_count": 4,
     "metadata": {},
     "output_type": "execute_result"
    }
   ],
   "source": [
    "a"
   ]
  },
  {
   "cell_type": "code",
   "execution_count": 5,
   "id": "df4951a1",
   "metadata": {},
   "outputs": [
    {
     "data": {
      "text/plain": [
       "20"
      ]
     },
     "execution_count": 5,
     "metadata": {},
     "output_type": "execute_result"
    }
   ],
   "source": [
    "b"
   ]
  },
  {
   "cell_type": "code",
   "execution_count": 6,
   "id": "420b80c4",
   "metadata": {},
   "outputs": [
    {
     "data": {
      "text/plain": [
       "30"
      ]
     },
     "execution_count": 6,
     "metadata": {},
     "output_type": "execute_result"
    }
   ],
   "source": [
    "a+b"
   ]
  },
  {
   "cell_type": "code",
   "execution_count": 7,
   "id": "2193186a",
   "metadata": {},
   "outputs": [
    {
     "data": {
      "text/plain": [
       "30"
      ]
     },
     "execution_count": 7,
     "metadata": {},
     "output_type": "execute_result"
    }
   ],
   "source": [
    "a*3"
   ]
  },
  {
   "cell_type": "code",
   "execution_count": 9,
   "id": "c6e2b232",
   "metadata": {},
   "outputs": [],
   "source": [
    "a, b = 100, 200"
   ]
  },
  {
   "cell_type": "code",
   "execution_count": 10,
   "id": "17a849dc",
   "metadata": {},
   "outputs": [
    {
     "data": {
      "text/plain": [
       "100"
      ]
     },
     "execution_count": 10,
     "metadata": {},
     "output_type": "execute_result"
    }
   ],
   "source": [
    "a"
   ]
  },
  {
   "cell_type": "code",
   "execution_count": 11,
   "id": "af0a1d01",
   "metadata": {},
   "outputs": [
    {
     "data": {
      "text/plain": [
       "200"
      ]
     },
     "execution_count": 11,
     "metadata": {},
     "output_type": "execute_result"
    }
   ],
   "source": [
    "b"
   ]
  },
  {
   "cell_type": "code",
   "execution_count": 12,
   "id": "b02f87d1",
   "metadata": {},
   "outputs": [
    {
     "name": "stdout",
     "output_type": "stream",
     "text": [
      "Addition:  3\n",
      "Subtraction:  1\n",
      "Multiplication:  6\n",
      "Division:  2.0\n",
      "Division:  3.0\n",
      "Division:  3.5\n",
      "Division without the remainder:  3\n",
      "Division without the remainder:  2\n",
      "Modulus:  1\n",
      "Exponentiation:  8\n"
     ]
    }
   ],
   "source": [
    "#**Example:Integers**\n",
    "\n",
    "\n",
    "# Arithmetic Operations in Python\n",
    "# Integers\n",
    "\n",
    "print('Addition: ', 1 + 2)        # 3\n",
    "print('Subtraction: ', 2 - 1)     # 1\n",
    "print('Multiplication: ', 2 * 3)  # 6\n",
    "print ('Division: ', 4 / 2)       # 2.0  Division in Python gives floating number\n",
    "print('Division: ', 6 / 2)        # 3.0         \n",
    "print('Division: ', 7 / 2)        # 3.5\n",
    "print('Division without the remainder: ', 7 // 2)   # 3,  gives without the floating number or without the remaining\n",
    "print ('Division without the remainder: ',7 // 3)   # 2\n",
    "print('Modulus: ', 3 % 2)         # 1, Gives the remainder\n",
    "print('Exponentiation: ', 2 ** 3) # 9 it means 2 * 2 * 2"
   ]
  },
  {
   "cell_type": "code",
   "execution_count": 13,
   "id": "9bf9b931",
   "metadata": {},
   "outputs": [
    {
     "name": "stdout",
     "output_type": "stream",
     "text": [
      "Floating Point Number, PI 3.14\n",
      "Floating Point Number, gravity 9.81\n"
     ]
    }
   ],
   "source": [
    "#**Example:Floats**\n",
    "\n",
    " \n",
    "# Floating numbers\n",
    "print('Floating Point Number, PI', 3.14)\n",
    "print('Floating Point Number, gravity', 9.81)"
   ]
  },
  {
   "cell_type": "code",
   "execution_count": 14,
   "id": "f4456bbe",
   "metadata": {},
   "outputs": [
    {
     "name": "stdout",
     "output_type": "stream",
     "text": [
      "Complex number:  (1+1j)\n",
      "Multiplying complex numbers:  (2+0j)\n"
     ]
    }
   ],
   "source": [
    "#**Example:Complex numbers**\n",
    "\n",
    "\n",
    "# Complex numbers\n",
    "print('Complex number: ', 1 + 1j)\n",
    "print('Multiplying complex numbers: ',(1 + 1j) * (1 - 1j))\n"
   ]
  },
  {
   "cell_type": "code",
   "execution_count": 16,
   "id": "91ab554b",
   "metadata": {},
   "outputs": [],
   "source": [
    "com = 26 + 45j"
   ]
  },
  {
   "cell_type": "code",
   "execution_count": 17,
   "id": "d53e221f",
   "metadata": {},
   "outputs": [
    {
     "data": {
      "text/plain": [
       "45.0"
      ]
     },
     "execution_count": 17,
     "metadata": {},
     "output_type": "execute_result"
    }
   ],
   "source": [
    "com.imag"
   ]
  },
  {
   "cell_type": "code",
   "execution_count": 18,
   "id": "4ec17cf3",
   "metadata": {},
   "outputs": [
    {
     "data": {
      "text/plain": [
       "26.0"
      ]
     },
     "execution_count": 18,
     "metadata": {},
     "output_type": "execute_result"
    }
   ],
   "source": [
    "com.real"
   ]
  },
  {
   "cell_type": "code",
   "execution_count": 19,
   "id": "6f38ab0a",
   "metadata": {},
   "outputs": [
    {
     "data": {
      "text/plain": [
       "<function complex.conjugate()>"
      ]
     },
     "execution_count": 19,
     "metadata": {},
     "output_type": "execute_result"
    }
   ],
   "source": [
    "com.conjugate"
   ]
  },
  {
   "cell_type": "code",
   "execution_count": 20,
   "id": "d550b24c",
   "metadata": {},
   "outputs": [],
   "source": [
    "#**Example:**\n",
    "\n",
    "\n",
    "# Declaring the variable at the top first\n",
    "\n",
    "a = 3 # a is a variable name and 3 is an integer data type\n",
    "b = 2 # b is a variable name and 3 is an integer data type\n",
    "\n",
    "# Arithmetic operations and assigning the result to a variable\n",
    "total = a + b\n",
    "diff = a - b\n",
    "product = a * b\n",
    "division = a / b\n",
    "remainder = a % b\n",
    "floor_division = a // b\n",
    "exponential = a ** b"
   ]
  },
  {
   "cell_type": "code",
   "execution_count": 22,
   "id": "eb9a72d4",
   "metadata": {},
   "outputs": [
    {
     "name": "stdout",
     "output_type": "stream",
     "text": [
      "5\n",
      "a + b =  5\n",
      "a - b =  1\n",
      "a * b =  6\n",
      "a / b =  1.5\n",
      "a % b =  1\n",
      "a // b =  1\n",
      "a ** b =  9\n"
     ]
    }
   ],
   "source": [
    "# I should have used sum instead of total but sum is a built-in function - try to avoid overriding built-in functions\n",
    "print(total) # if you do not label your print with some string, you never know where the result is coming from\n",
    "print('a + b = ', total)\n",
    "print('a - b = ', diff)\n",
    "print('a * b = ', product)\n",
    "print('a / b = ', division)\n",
    "print('a % b = ', remainder)\n",
    "print('a // b = ', floor_division)\n",
    "print('a ** b = ', exponential)"
   ]
  },
  {
   "cell_type": "code",
   "execution_count": 24,
   "id": "8d360f4f",
   "metadata": {},
   "outputs": [
    {
     "name": "stdout",
     "output_type": "stream",
     "text": [
      "5  = a+b\n"
     ]
    }
   ],
   "source": [
    "print(total,  \" = a+b\")"
   ]
  },
  {
   "cell_type": "code",
   "execution_count": 25,
   "id": "8ed145c7",
   "metadata": {},
   "outputs": [
    {
     "name": "stdout",
     "output_type": "stream",
     "text": [
      "5\n"
     ]
    }
   ],
   "source": [
    "print(total)"
   ]
  },
  {
   "cell_type": "code",
   "execution_count": 26,
   "id": "10966198",
   "metadata": {},
   "outputs": [
    {
     "name": "stdout",
     "output_type": "stream",
     "text": [
      "== Addition, Subtraction, Multiplication, Division, Modulus ==\n"
     ]
    }
   ],
   "source": [
    "#**Example:**\n",
    "\n",
    "\n",
    "print('== Addition, Subtraction, Multiplication, Division, Modulus ==')\n",
    "\n",
    "# Declaring values and organizing them together\n",
    "num_one = 3\n",
    "num_two = 4\n",
    "\n",
    "# Arithmetic operations\n",
    "total = num_one + num_two\n",
    "diff = num_two - num_one\n",
    "product = num_one * num_two\n",
    "div = num_two / num_one\n",
    "remainder = num_two % num_one"
   ]
  },
  {
   "cell_type": "code",
   "execution_count": 27,
   "id": "02f45307",
   "metadata": {},
   "outputs": [
    {
     "name": "stdout",
     "output_type": "stream",
     "text": [
      "total:  7\n",
      "difference:  1\n",
      "product:  12\n",
      "division:  1.3333333333333333\n",
      "remainder:  1\n"
     ]
    }
   ],
   "source": [
    "# Printing values with label\n",
    "print('total: ', total)\n",
    "print('difference: ', diff)\n",
    "print('product: ', product)\n",
    "print('division: ', div)\n",
    "print('remainder: ', remainder)"
   ]
  },
  {
   "cell_type": "code",
   "execution_count": 31,
   "id": "5ff22090",
   "metadata": {},
   "outputs": [
    {
     "name": "stdout",
     "output_type": "stream",
     "text": [
      "total:- 7\n"
     ]
    }
   ],
   "source": [
    "print( 'total:-',total)"
   ]
  },
  {
   "cell_type": "code",
   "execution_count": 32,
   "id": "f7e2c6a7",
   "metadata": {},
   "outputs": [
    {
     "name": "stdout",
     "output_type": "stream",
     "text": [
      "Area of a circle: 314.0\n"
     ]
    }
   ],
   "source": [
    "#**Example:**\n",
    "\n",
    "# Calculating area of a circle\n",
    "\n",
    "radius = 10                                 # radius of a circle\n",
    "area_of_circle = 3.14 * radius ** 2         # two * sign means exponent or power\n",
    "print('Area of a circle:', area_of_circle)"
   ]
  },
  {
   "cell_type": "code",
   "execution_count": 34,
   "id": "8d52a184",
   "metadata": {},
   "outputs": [
    {
     "name": "stdout",
     "output_type": "stream",
     "text": [
      "area of rectangle 200\n"
     ]
    }
   ],
   "source": [
    "# Calculating area of a rectangle\n",
    "\n",
    "length = 10\n",
    "width = 20\n",
    "area_of_rectangle = length * width\n",
    "print(\"area of rectangle\", area_of_rectangle)"
   ]
  },
  {
   "cell_type": "code",
   "execution_count": 37,
   "id": "d1219982",
   "metadata": {},
   "outputs": [
    {
     "name": "stdout",
     "output_type": "stream",
     "text": [
      "weight of object  735.75 N\n"
     ]
    }
   ],
   "source": [
    "# Calculating a weight of an object\n",
    "\n",
    "mass = 75\n",
    "gravity = 9.81\n",
    "weight = mass * gravity\n",
    "print(\"weight of object \", weight, 'N')                         # Adding unit to the weight"
   ]
  },
  {
   "cell_type": "code",
   "execution_count": 38,
   "id": "8a767075",
   "metadata": {},
   "outputs": [
    {
     "name": "stdout",
     "output_type": "stream",
     "text": [
      "density : 1000.0 Kg/m^3\n"
     ]
    }
   ],
   "source": [
    "# Calculate the density of a liquid\n",
    "\n",
    "mass = 75 # in Kg\n",
    "volume = 0.075 # in cubic meter\n",
    "density = mass / volume # 1000 Kg/m^3\n",
    "print(\"density :\", density, \"Kg/m^3\")"
   ]
  },
  {
   "cell_type": "code",
   "execution_count": 40,
   "id": "9456dcc1",
   "metadata": {},
   "outputs": [
    {
     "name": "stdout",
     "output_type": "stream",
     "text": [
      "16000 cubic meter\n"
     ]
    }
   ],
   "source": [
    "# volume of water tank\n",
    "\n",
    "length = 20\n",
    "width = 20\n",
    "depth = 40\n",
    "\n",
    "volume = length*width*depth\n",
    "\n",
    "print(volume, \"cubic meter\")"
   ]
  },
  {
   "cell_type": "code",
   "execution_count": 44,
   "id": "b06e93ae",
   "metadata": {},
   "outputs": [
    {
     "name": "stdout",
     "output_type": "stream",
     "text": [
      "True\n",
      "True\n",
      "False\n",
      "True\n",
      "True\n",
      "False\n",
      "True\n"
     ]
    }
   ],
   "source": [
    "### Comparison Operators\n",
    "\n",
    "#In programming we compare values, we use comparison operators to compare two values. We check if a value is greater or less or equal to other value. The following table shows Python comparison operators which was taken from [w3shool](https://www.w3schools.com/python/python_operators.asp).\n",
    "\n",
    "#**Example: Comparison Operators**\n",
    "\n",
    "\n",
    "print(3 > 2)     # True, because 3 is greater than 2\n",
    "print(3 >= 2)    # True, because 3 is greater than 2\n",
    "print(3 < 2)     # False,  because 3 is greater than 2\n",
    "print(2 < 3)     # True, because 2 is less than 3\n",
    "print(2 <= 3)    # True, because 2 is less than 3\n",
    "print(3 == 2)    # False, because 3 is not equal to 2\n",
    "print(3 != 2)    # True, because 3 is not equal to 2"
   ]
  },
  {
   "cell_type": "code",
   "execution_count": 45,
   "id": "8908e9ee",
   "metadata": {},
   "outputs": [
    {
     "name": "stdout",
     "output_type": "stream",
     "text": [
      "False\n",
      "True\n",
      "True\n",
      "False\n",
      "True\n",
      "True\n",
      "False\n"
     ]
    }
   ],
   "source": [
    "print(len('mango') == len('avocado'))  # False\n",
    "print(len('mango') != len('avocado'))  # True\n",
    "print(len('mango') < len('avocado'))   # True\n",
    "print(len('milk') != len('meat'))      # False\n",
    "print(len('milk') == len('meat'))      # True\n",
    "print(len('tomato') == len('potato'))  # True\n",
    "print(len('python') > len('dragon'))   # False"
   ]
  },
  {
   "cell_type": "code",
   "execution_count": 46,
   "id": "85bf9d1a",
   "metadata": {},
   "outputs": [
    {
     "name": "stdout",
     "output_type": "stream",
     "text": [
      "True == True:  True\n",
      "True == False:  False\n",
      "False == False: True\n"
     ]
    }
   ],
   "source": [
    "# Comparing something gives either a True or False\n",
    "\n",
    "print('True == True: ', True == True)\n",
    "print('True == False: ', True == False)\n",
    "print('False == False:', False == False)"
   ]
  },
  {
   "cell_type": "code",
   "execution_count": 47,
   "id": "e85ffc78",
   "metadata": {},
   "outputs": [
    {
     "name": "stdout",
     "output_type": "stream",
     "text": [
      "1 is 1 True\n",
      "1 is not 2 True\n",
      "A in Asabeneh True\n",
      "B in Asabeneh False\n",
      "True\n",
      "a in an: True\n",
      "4 is 2 ** 2: True\n"
     ]
    },
    {
     "name": "stderr",
     "output_type": "stream",
     "text": [
      "<>:9: SyntaxWarning: \"is\" with a literal. Did you mean \"==\"?\n",
      "<>:10: SyntaxWarning: \"is not\" with a literal. Did you mean \"!=\"?\n",
      "<>:15: SyntaxWarning: \"is\" with a literal. Did you mean \"==\"?\n",
      "<>:9: SyntaxWarning: \"is\" with a literal. Did you mean \"==\"?\n",
      "<>:10: SyntaxWarning: \"is not\" with a literal. Did you mean \"!=\"?\n",
      "<>:15: SyntaxWarning: \"is\" with a literal. Did you mean \"==\"?\n",
      "C:\\Users\\amitm\\AppData\\Local\\Temp\\ipykernel_3228\\1368269086.py:9: SyntaxWarning: \"is\" with a literal. Did you mean \"==\"?\n",
      "  print('1 is 1', 1 is 1)                   # True - because the data values are the same\n",
      "C:\\Users\\amitm\\AppData\\Local\\Temp\\ipykernel_3228\\1368269086.py:10: SyntaxWarning: \"is not\" with a literal. Did you mean \"!=\"?\n",
      "  print('1 is not 2', 1 is not 2)           # True - because 1 is not 2\n",
      "C:\\Users\\amitm\\AppData\\Local\\Temp\\ipykernel_3228\\1368269086.py:15: SyntaxWarning: \"is\" with a literal. Did you mean \"==\"?\n",
      "  print('4 is 2 ** 2:', 4 is 2 ** 2)   # True\n"
     ]
    }
   ],
   "source": [
    "#In addition to the above comparison operator Python uses:\n",
    "\n",
    "#- _is_: Returns true if both variables are the same object(x is y)\n",
    "#- _is not_: Returns true if both variables are not the same object(x is not y)\n",
    "#- _in_: Returns True if the queried list contains a certain item(x in y)\n",
    "#- _not in_: Returns True if the queried list doesn't have a certain item(x in y)\n",
    "\n",
    "    \n",
    "print('1 is 1', 1 is 1)                   # True - because the data values are the same\n",
    "print('1 is not 2', 1 is not 2)           # True - because 1 is not 2\n",
    "print('A in Asabeneh', 'A' in 'Asabeneh') # True - A found in the string\n",
    "print('B in Asabeneh', 'B' in 'Asabeneh') # False - there is no uppercase B\n",
    "print('coding' in 'coding for all') # True - because coding for all has the word coding\n",
    "print('a in an:', 'a' in 'an')      # True\n",
    "print('4 is 2 ** 2:', 4 is 2 ** 2)   # True"
   ]
  },
  {
   "cell_type": "code",
   "execution_count": 48,
   "id": "452363fe",
   "metadata": {},
   "outputs": [
    {
     "data": {
      "text/plain": [
       "4"
      ]
     },
     "execution_count": 48,
     "metadata": {},
     "output_type": "execute_result"
    }
   ],
   "source": [
    "2**2"
   ]
  },
  {
   "cell_type": "code",
   "execution_count": 50,
   "id": "71150b3a",
   "metadata": {},
   "outputs": [
    {
     "name": "stdout",
     "output_type": "stream",
     "text": [
      "True\n",
      "False\n",
      "False\n",
      "True and True:  True\n",
      "True\n",
      "True\n",
      "False\n",
      "True or False: True\n",
      "False\n",
      "False\n",
      "True\n",
      "True\n",
      "False\n"
     ]
    }
   ],
   "source": [
    "### Logical Operators\n",
    "\n",
    "#Unlike other programming languages python uses keywords _and_, _or_ and _not_ for logical operators. Logical operators are used to combine conditional statements:\n",
    "\n",
    "\n",
    "print(3 > 2 and 4 > 3) # True - because both statements are true\n",
    "\n",
    "print(3 > 2 and 4 < 3) # False - because the second statement is false\n",
    "\n",
    "print(3 < 2 and 4 < 3) # False - because both statements are false\n",
    "\n",
    "print('True and True: ', True and True)\n",
    "\n",
    "print(3 > 2 or 4 > 3)  # True - because both statements are true\n",
    "\n",
    "print(3 > 2 or 4 < 3)  # True - because one of the statements is true\n",
    "\n",
    "print(3 < 2 or 4 < 3)  # False - because both statements are false\n",
    "\n",
    "print('True or False:', True or False)\n",
    "\n",
    "print(not 3 > 2)     # False - because 3 > 2 is true, then not True gives False\n",
    "\n",
    "print(not True)      # False - Negation, the not operator turns true to false\n",
    "\n",
    "print(not False)     # True\n",
    "\n",
    "print(not not True)  # True\n",
    "\n",
    "print(not not False) # False"
   ]
  },
  {
   "cell_type": "code",
   "execution_count": null,
   "id": "01d900ab",
   "metadata": {},
   "outputs": [],
   "source": [
    "# and\n",
    "\n",
    "T and T = true\n",
    "T and F = false\n",
    "F and T = false\n",
    "F and F = false"
   ]
  },
  {
   "cell_type": "code",
   "execution_count": null,
   "id": "f3d430c6",
   "metadata": {},
   "outputs": [],
   "source": [
    "# or\n",
    "\n",
    "T or T = T\n",
    "T or F = T\n",
    "F or T = T\n",
    "F or F = F"
   ]
  },
  {
   "cell_type": "code",
   "execution_count": null,
   "id": "231310f1",
   "metadata": {},
   "outputs": [],
   "source": []
  },
  {
   "cell_type": "code",
   "execution_count": null,
   "id": "7c12cd83",
   "metadata": {},
   "outputs": [],
   "source": [
    "## 💻 Exercises - Day 3\n",
    "\n",
    "1. Declare your age as integer variable\n",
    "2. Declare your height as a float variable\n",
    "3. Declare a variable that store a complex number\n",
    "4. Write a script that prompts the user to enter base and height of the triangle and calculate an area of this triangle (area = 0.5 x b x h).\n",
    "\n",
    "```py\n",
    "    Enter base: 20\n",
    "    Enter height: 10\n",
    "    The area of the triangle is 100\n",
    "```\n",
    "\n",
    "5. Write a script that prompts the user to enter side a, side b, and side c of the triangle. Calculate the perimeter of the triangle (perimeter = a + b + c).\n",
    "\n",
    "```py\n",
    "Enter side a: 5\n",
    "Enter side b: 4\n",
    "Enter side c: 3\n",
    "The perimeter of the triangle is 12\n",
    "```\n",
    "\n",
    "6. Get length and width of a rectangle using prompt. Calculate its area (area = length x width) and perimeter (perimeter = 2 x (length + width))\n",
    "7. Get radius of a circle using prompt. Calculate the area (area = pi x r x r) and circumference (c = 2 x pi x r) where pi = 3.14.\n",
    "8. Calculate the slope, x-intercept and y-intercept of y = 2x -2\n",
    "9. Slope is (m = y2-y1/x2-x1). Find the slope and [Euclidean distance](https://en.wikipedia.org/wiki/Euclidean_distance#:~:text=In%20mathematics%2C%20the%20Euclidean%20distance,being%20called%20the%20Pythagorean%20distance.) between point (2, 2) and point (6,10) \n",
    "10. Compare the slopes in tasks 8 and 9.\n",
    "11. Calculate the value of y (y = x^2 + 6x + 9). Try to use different x values and figure out at what x value y is going to be 0.\n",
    "12. Find the length of 'python' and 'dragon' and make a falsy comparison statement.\n",
    "13. Use _and_ operator to check if 'on' is found in both 'python' and 'dragon'\n",
    "14. _I hope this course is not full of jargon_. Use _in_ operator to check if _jargon_ is in the sentence.\n",
    "15. There is no 'on' in both dragon and python\n",
    "16. Find the length of the text _python_ and convert the value to float and convert it to string\n",
    "17. Even numbers are divisible by 2 and the remainder is zero. How do you check if a number is even or not using python?\n",
    "18. Check if the floor division of 7 by 3 is equal to the int converted value of 2.7.\n",
    "19. Check if type of '10' is equal to type of 10\n",
    "20. Check if int('9.8') is equal to 10\n",
    "21. Writ a script that prompts the user to enter hours and rate per hour. Calculate pay of the person?\n",
    "\n",
    "```py\n",
    "Enter hours: 40\n",
    "Enter rate per hour: 28\n",
    "Your weekly earning is 1120\n",
    "```\n",
    "\n",
    "22. Write a script that prompts the user to enter number of years. Calculate the number of seconds a person can live. Assume a person can live hundred years\n",
    "\n",
    "```py\n",
    "Enter number of years you have lived: 100\n",
    "You have lived for 3153600000 seconds.\n",
    "```\n",
    "\n",
    "23. Write a Python script that displays the following table\n",
    "\n",
    "```py\n",
    "1 1 1 1 1\n",
    "2 1 2 4 8\n",
    "3 1 3 9 27\n",
    "4 1 4 16 64\n",
    "5 1 5 25 125\n",
    "```"
   ]
  },
  {
   "cell_type": "code",
   "execution_count": null,
   "id": "e46de21e",
   "metadata": {},
   "outputs": [],
   "source": []
  },
  {
   "cell_type": "code",
   "execution_count": null,
   "id": "86dac256",
   "metadata": {},
   "outputs": [],
   "source": []
  },
  {
   "cell_type": "code",
   "execution_count": null,
   "id": "78e3c77c",
   "metadata": {},
   "outputs": [],
   "source": []
  },
  {
   "cell_type": "code",
   "execution_count": null,
   "id": "c7eb8ee1",
   "metadata": {},
   "outputs": [],
   "source": []
  }
 ],
 "metadata": {
  "kernelspec": {
   "display_name": "Python 3 (ipykernel)",
   "language": "python",
   "name": "python3"
  },
  "language_info": {
   "codemirror_mode": {
    "name": "ipython",
    "version": 3
   },
   "file_extension": ".py",
   "mimetype": "text/x-python",
   "name": "python",
   "nbconvert_exporter": "python",
   "pygments_lexer": "ipython3",
   "version": "3.11.5"
  }
 },
 "nbformat": 4,
 "nbformat_minor": 5
}
