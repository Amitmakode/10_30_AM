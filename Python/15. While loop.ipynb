{
 "cells": [
  {
   "cell_type": "code",
   "execution_count": 1,
   "id": "10e725a9",
   "metadata": {},
   "outputs": [
    {
     "data": {
      "text/plain": [
       "5"
      ]
     },
     "execution_count": 1,
     "metadata": {},
     "output_type": "execute_result"
    }
   ],
   "source": [
    "my_number_list = range(5)\n",
    "my_number_list\n",
    "len(my_number_list)"
   ]
  },
  {
   "cell_type": "code",
   "execution_count": 3,
   "id": "0db5cb24",
   "metadata": {},
   "outputs": [
    {
     "data": {
      "text/plain": [
       "[0, 1, 2, 3, 4]"
      ]
     },
     "execution_count": 3,
     "metadata": {},
     "output_type": "execute_result"
    }
   ],
   "source": [
    "list(my_number_list)"
   ]
  },
  {
   "cell_type": "code",
   "execution_count": 2,
   "id": "82623e57",
   "metadata": {},
   "outputs": [
    {
     "name": "stdout",
     "output_type": "stream",
     "text": [
      "0 0\n",
      "1 1\n",
      "2 2\n",
      "3 3\n",
      "4 4\n",
      "Length of list  5\n"
     ]
    }
   ],
   "source": [
    "i = 0\n",
    "while i < len(my_number_list):\n",
    "    print( i, my_number_list[i])\n",
    "    i = i+1\n",
    "    \n",
    "print(\"Length of list \", len(my_number_list))"
   ]
  },
  {
   "cell_type": "code",
   "execution_count": 4,
   "id": "0517c3d8",
   "metadata": {},
   "outputs": [
    {
     "name": "stdout",
     "output_type": "stream",
     "text": [
      "Enter the name : amit\n",
      "\n",
      "You entered  amit\n",
      "Enter the name : kumar\n",
      "\n",
      "You entered  kumar\n",
      "Enter the name : amiit\n",
      "\n",
      "You entered  amiit\n"
     ]
    }
   ],
   "source": [
    "count = 3\n",
    "\n",
    "for i in range(count):\n",
    "    name = input(\"Enter the name : \")\n",
    "    print()\n",
    "    print('You entered ', name)"
   ]
  },
  {
   "cell_type": "code",
   "execution_count": 6,
   "id": "4bac57e9",
   "metadata": {},
   "outputs": [
    {
     "name": "stdout",
     "output_type": "stream",
     "text": [
      "Enter the name (use 'Quit' to stop :fh\n",
      "You entered  fh\n",
      "Enter the name (use 'Quit' to stop :efg\n",
      "You entered  efg\n",
      "Enter the name (use 'Quit' to stop :dfg\n",
      "You entered  dfg\n",
      "Enter the name (use 'Quit' to stop :dfg\n",
      "You entered  dfg\n",
      "Enter the name (use 'Quit' to stop :dg\n",
      "You entered  dg\n",
      "Enter the name (use 'Quit' to stop :Quit\n"
     ]
    }
   ],
   "source": [
    "name = \"\"\n",
    "\n",
    "while name != \"Quit\":\n",
    "    name = input(\"Enter the name (use 'Quit' to stop :\")\n",
    "    if name != \"Quit\":\n",
    "        print('You entered ', name)"
   ]
  },
  {
   "cell_type": "code",
   "execution_count": null,
   "id": "b7374776",
   "metadata": {},
   "outputs": [],
   "source": [
    "i = 0 \n",
    "while i < 5 :\n",
    "    print(i )\n",
    "    i+=1\n",
    "#print(\"Out of while loop\")  "
   ]
  },
  {
   "cell_type": "code",
   "execution_count": 9,
   "id": "4e9b6c8c",
   "metadata": {},
   "outputs": [
    {
     "name": "stdout",
     "output_type": "stream",
     "text": [
      "0\n",
      "1\n",
      "2\n",
      "3\n",
      "4\n"
     ]
    }
   ],
   "source": [
    "# Example\n",
    "i = 0           #iteration variable initialized\n",
    "while i < 5:    # condition is evaluated \n",
    "    print(i)    # block statements are executed until the condition is true i.e. 5 times\n",
    "    i +=1"
   ]
  },
  {
   "cell_type": "code",
   "execution_count": 12,
   "id": "5e15c205",
   "metadata": {},
   "outputs": [
    {
     "name": "stdout",
     "output_type": "stream",
     "text": [
      "1\n",
      "2\n",
      "3\n",
      "4\n",
      "4\n",
      "5\n",
      "5\n",
      "6\n",
      "6\n",
      "7\n"
     ]
    }
   ],
   "source": [
    "# Example\n",
    "i = 0         #iteration variable initialized\n",
    "while i < 7:    # condition is evaluated \n",
    "    if i > 3 :   \n",
    "        print(i)    # block statements are executed until the condition is true and iteration variable is less that 3\n",
    "    i = i + 1\n",
    "    print(i)"
   ]
  },
  {
   "cell_type": "code",
   "execution_count": 13,
   "id": "ad894247",
   "metadata": {},
   "outputs": [
    {
     "name": "stdout",
     "output_type": "stream",
     "text": [
      "0\n",
      "1\n",
      "2\n",
      "3\n",
      "4\n"
     ]
    }
   ],
   "source": [
    "l1 = [0,1,2,3,4, \"py\", \"java\"]\n",
    "for i in l1:\n",
    "    if type(i) == str:\n",
    "        break\n",
    "    print(i)"
   ]
  },
  {
   "cell_type": "code",
   "execution_count": 14,
   "id": "39fffbfb",
   "metadata": {},
   "outputs": [
    {
     "name": "stdout",
     "output_type": "stream",
     "text": [
      "1\n",
      "2\n",
      "3\n",
      "4\n"
     ]
    }
   ],
   "source": [
    "# Example\n",
    "i = 0           #iteration variable initialized\n",
    "while i < 7:    # condition is evaluated \n",
    "    if i > 3 :   \n",
    "        break   # no more further execution of the loop, once i is greater than 4 \n",
    "        print(i)    # block statements are executed until the condition is true and iteration variable is less that 3\n",
    "    i = i + 1\n",
    "    print(i)"
   ]
  },
  {
   "cell_type": "code",
   "execution_count": 15,
   "id": "c7af5811",
   "metadata": {},
   "outputs": [
    {
     "name": "stdout",
     "output_type": "stream",
     "text": [
      "1\n",
      "2\n",
      "3\n",
      "4\n",
      "4\n",
      "5\n",
      "5\n",
      "6\n",
      "6\n",
      "7\n"
     ]
    }
   ],
   "source": [
    "# Example\n",
    "i = 0           #iteration variable initialized\n",
    "while i < 7:    # condition is evaluated \n",
    "    if i > 3 :   \n",
    "        pass   # no more further execution of the loop, once i is greater than 4 \n",
    "        print(i)    # block statements are executed until the condition is true and iteration variable is less that 3\n",
    "    i = i + 1\n",
    "    print(i)"
   ]
  },
  {
   "cell_type": "code",
   "execution_count": 18,
   "id": "b5b8e367",
   "metadata": {},
   "outputs": [
    {
     "name": "stdout",
     "output_type": "stream",
     "text": [
      "Enter the stmt (Use 'Quit' to stop )amit\n",
      "amit\n",
      "Enter the stmt (Use 'Quit' to stop )#amit\n",
      "Enter the stmt (Use 'Quit' to stop )#Quit\n",
      "Enter the stmt (Use 'Quit' to stop )python\n",
      "python\n",
      "Enter the stmt (Use 'Quit' to stop )#py\n",
      "Enter the stmt (Use 'Quit' to stop )Quit\n",
      "Quit\n"
     ]
    }
   ],
   "source": [
    "stmt = \"\"\n",
    "\n",
    "while stmt != 'Quit':\n",
    "    stmt = input(\"Enter the stmt (Use 'Quit' to stop )\")\n",
    "    if stmt.startswith(\"#\") :\n",
    "        continue\n",
    "    if len(stmt) > 0 :\n",
    "        print(stmt)"
   ]
  },
  {
   "cell_type": "code",
   "execution_count": 17,
   "id": "94297540",
   "metadata": {},
   "outputs": [
    {
     "name": "stdout",
     "output_type": "stream",
     "text": [
      "1\n",
      "2\n",
      "3\n",
      "4\n"
     ]
    },
    {
     "ename": "KeyboardInterrupt",
     "evalue": "",
     "output_type": "error",
     "traceback": [
      "\u001b[1;31m---------------------------------------------------------------------------\u001b[0m",
      "\u001b[1;31mKeyboardInterrupt\u001b[0m                         Traceback (most recent call last)",
      "Cell \u001b[1;32mIn[17], line 5\u001b[0m\n\u001b[0;32m      3\u001b[0m \u001b[38;5;28;01mwhile\u001b[39;00m i \u001b[38;5;241m<\u001b[39m \u001b[38;5;241m7\u001b[39m:    \u001b[38;5;66;03m# condition is evaluated \u001b[39;00m\n\u001b[0;32m      4\u001b[0m     \u001b[38;5;28;01mif\u001b[39;00m i \u001b[38;5;241m>\u001b[39m \u001b[38;5;241m3\u001b[39m :   \n\u001b[1;32m----> 5\u001b[0m         \u001b[38;5;28;01mcontinue\u001b[39;00m   \u001b[38;5;66;03m# no more further execution of the loop, once i is greater than 4 \u001b[39;00m\n\u001b[0;32m      6\u001b[0m         \u001b[38;5;28mprint\u001b[39m(i)    \u001b[38;5;66;03m# block statements are executed until the condition is true and iteration variable is less that 3\u001b[39;00m\n\u001b[0;32m      7\u001b[0m     i \u001b[38;5;241m=\u001b[39m i \u001b[38;5;241m+\u001b[39m \u001b[38;5;241m1\u001b[39m\n",
      "\u001b[1;31mKeyboardInterrupt\u001b[0m: "
     ]
    }
   ],
   "source": [
    "# Example\n",
    "i = 0           #iteration variable initialized\n",
    "while i < 7:    # condition is evaluated \n",
    "    if i > 3 :   \n",
    "        continue   # no more further execution of the loop, once i is greater than 4 \n",
    "        print(i)    # block statements are executed until the condition is true and iteration variable is less that 3\n",
    "    i = i + 1\n",
    "    print(i)"
   ]
  },
  {
   "cell_type": "code",
   "execution_count": 19,
   "id": "23e4843c",
   "metadata": {},
   "outputs": [
    {
     "name": "stdout",
     "output_type": "stream",
     "text": [
      "(i)   0 (number)  1\n",
      "(i)   1 (number)  2\n",
      "(i)   2 (number)  3\n",
      "(i)   3 (number)  4\n",
      "(i)   4 (number)  5\n"
     ]
    }
   ],
   "source": [
    "for i in range(5):\n",
    "    print(\"(i)  \", i, \"(number) \" , i+1)"
   ]
  },
  {
   "cell_type": "code",
   "execution_count": 21,
   "id": "1176cd59",
   "metadata": {},
   "outputs": [
    {
     "name": "stdout",
     "output_type": "stream",
     "text": [
      "23\n",
      "34\n",
      "12\n",
      "34\n",
      "45\n",
      "\n",
      "1\n",
      "\n"
     ]
    }
   ],
   "source": [
    "scores = [23, 34, 12, 34, 45,\"\" ,\"1\" ,\"\" ]\n",
    "length = len(scores)\n",
    "\n",
    "for i in range(0,8):\n",
    "    print(scores[i])"
   ]
  },
  {
   "cell_type": "code",
   "execution_count": 23,
   "id": "2081d205",
   "metadata": {},
   "outputs": [
    {
     "name": "stdout",
     "output_type": "stream",
     "text": [
      "index :  0    value :  0\n",
      "index :  1    value :  1\n",
      "index :  2    value :  4\n",
      "index :  3    value :  9\n",
      "index :  4    value :  16\n",
      "index :  5    value :  5\n"
     ]
    }
   ],
   "source": [
    "squares = [0, 1, 4, 9, 16,5]\n",
    "\n",
    "for i, j in enumerate(squares):\n",
    "    print(\"index : \", i, \"  \", \"value : \" , j)"
   ]
  },
  {
   "cell_type": "code",
   "execution_count": 24,
   "id": "96a7cc4a",
   "metadata": {},
   "outputs": [
    {
     "name": "stdout",
     "output_type": "stream",
     "text": [
      "0 J\n",
      "1 a\n",
      "2 s\n",
      "3 m\n",
      "4 i\n",
      "5 n\n",
      "6  \n",
      "7 s\n",
      "8 h\n",
      "9 e\n",
      "10 i\n",
      "11 k\n",
      "12 h\n"
     ]
    }
   ],
   "source": [
    "s = \"Jasmin sheikh\"\n",
    "for i in range(len(s)) : \n",
    "    print(i , s[i])"
   ]
  },
  {
   "cell_type": "code",
   "execution_count": 25,
   "id": "f249ad0d",
   "metadata": {},
   "outputs": [
    {
     "name": "stdout",
     "output_type": "stream",
     "text": [
      "5 n\n",
      "4 i\n",
      "3 m\n",
      "2 s\n",
      "1 a\n",
      "0 J\n"
     ]
    }
   ],
   "source": [
    "S = \"Jasmin\"\n",
    "for i in range(len(S)-1 , -1, -1):\n",
    "    print(i , S[i])"
   ]
  },
  {
   "cell_type": "code",
   "execution_count": 29,
   "id": "9d949718",
   "metadata": {},
   "outputs": [
    {
     "data": {
      "text/plain": [
       "[5, 4, 3, 2, 1, 0]"
      ]
     },
     "execution_count": 29,
     "metadata": {},
     "output_type": "execute_result"
    }
   ],
   "source": [
    "list(range(5, -1, -1))"
   ]
  },
  {
   "cell_type": "code",
   "execution_count": 30,
   "id": "69dcf8a3",
   "metadata": {},
   "outputs": [],
   "source": [
    "d = {1: \"Nikita\", 2: \"mayuri\", 3:\"jasmin\", 4:\"aarti\", 5:\"pratiksha\"}"
   ]
  },
  {
   "cell_type": "code",
   "execution_count": 32,
   "id": "b3f1b6db",
   "metadata": {},
   "outputs": [
    {
     "name": "stdout",
     "output_type": "stream",
     "text": [
      "(1, 'Nikita') <class 'tuple'> <class 'str'>\n",
      "(2, 'mayuri') <class 'tuple'> <class 'str'>\n",
      "(3, 'jasmin') <class 'tuple'> <class 'str'>\n",
      "(4, 'aarti') <class 'tuple'> <class 'str'>\n",
      "(5, 'pratiksha') <class 'tuple'> <class 'str'>\n"
     ]
    }
   ],
   "source": [
    "for i in d.items():\n",
    "    print(i , type(i) , type(i[1]))"
   ]
  },
  {
   "cell_type": "code",
   "execution_count": null,
   "id": "168c2c7f",
   "metadata": {},
   "outputs": [],
   "source": []
  }
 ],
 "metadata": {
  "kernelspec": {
   "display_name": "Python 3 (ipykernel)",
   "language": "python",
   "name": "python3"
  },
  "language_info": {
   "codemirror_mode": {
    "name": "ipython",
    "version": 3
   },
   "file_extension": ".py",
   "mimetype": "text/x-python",
   "name": "python",
   "nbconvert_exporter": "python",
   "pygments_lexer": "ipython3",
   "version": "3.11.5"
  }
 },
 "nbformat": 4,
 "nbformat_minor": 5
}
