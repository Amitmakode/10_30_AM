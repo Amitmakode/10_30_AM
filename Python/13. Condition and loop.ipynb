{
 "cells": [
  {
   "cell_type": "code",
   "execution_count": 16,
   "id": "22a2ae1c",
   "metadata": {},
   "outputs": [
    {
     "name": "stdout",
     "output_type": "stream",
     "text": [
      "enter a number- 0\n",
      "positive but zero\n"
     ]
    }
   ],
   "source": [
    "number = int(input(\"enter a number- \"))\n",
    "\n",
    "if number < 0:  \n",
    "    print(\"negative number\")\n",
    "    if number < -10: \n",
    "        print(number, \"nested 1st\")\n",
    "        if number < -100:\n",
    "            print(number, \"nested 2nd\")\n",
    "        else:\n",
    "            print(\"2nd nested else\")\n",
    "    else:\n",
    "        print(\"1st nested esle\")  \n",
    "        \n",
    "        \n",
    "elif number == 0:\n",
    "    print(\"positive but zero\")\n",
    "    if number < 0:\n",
    "        print(\"negative\")\n",
    "        \n",
    "        \n",
    "        \n",
    "else:\n",
    "    print(\"positive number\")    "
   ]
  },
  {
   "cell_type": "code",
   "execution_count": null,
   "id": "d4902e97",
   "metadata": {},
   "outputs": [],
   "source": []
  },
  {
   "cell_type": "code",
   "execution_count": null,
   "id": "aeb15864",
   "metadata": {},
   "outputs": [],
   "source": []
  },
  {
   "cell_type": "code",
   "execution_count": null,
   "id": "7af922a6",
   "metadata": {},
   "outputs": [],
   "source": [
    "iterable    =      str, list, tuple, set, dict\n",
    "iterator    =      loop (for, while, iter)\n",
    "iteration   =      action of iterator"
   ]
  },
  {
   "cell_type": "code",
   "execution_count": null,
   "id": "1a1f98c3",
   "metadata": {},
   "outputs": [],
   "source": [
    "#for loop "
   ]
  },
  {
   "cell_type": "code",
   "execution_count": 17,
   "id": "a1396386",
   "metadata": {},
   "outputs": [],
   "source": [
    "var = \"python\""
   ]
  },
  {
   "cell_type": "code",
   "execution_count": 18,
   "id": "b7ac23b8",
   "metadata": {},
   "outputs": [
    {
     "name": "stdout",
     "output_type": "stream",
     "text": [
      "p\n",
      "y\n",
      "t\n",
      "h\n",
      "o\n",
      "n\n"
     ]
    }
   ],
   "source": [
    "for i in var:\n",
    "    print(i)"
   ]
  },
  {
   "cell_type": "code",
   "execution_count": 19,
   "id": "0fe42e44",
   "metadata": {},
   "outputs": [],
   "source": [
    "num = 7586548"
   ]
  },
  {
   "cell_type": "code",
   "execution_count": 20,
   "id": "f8ec841c",
   "metadata": {},
   "outputs": [
    {
     "ename": "TypeError",
     "evalue": "'int' object is not iterable",
     "output_type": "error",
     "traceback": [
      "\u001b[1;31m---------------------------------------------------------------------------\u001b[0m",
      "\u001b[1;31mTypeError\u001b[0m                                 Traceback (most recent call last)",
      "Cell \u001b[1;32mIn[20], line 1\u001b[0m\n\u001b[1;32m----> 1\u001b[0m \u001b[38;5;28;01mfor\u001b[39;00m i \u001b[38;5;129;01min\u001b[39;00m num:\n\u001b[0;32m      2\u001b[0m     \u001b[38;5;28mprint\u001b[39m(i)\n",
      "\u001b[1;31mTypeError\u001b[0m: 'int' object is not iterable"
     ]
    }
   ],
   "source": [
    "for i in num:\n",
    "    print(i)"
   ]
  },
  {
   "cell_type": "code",
   "execution_count": 21,
   "id": "7f925eb6",
   "metadata": {},
   "outputs": [],
   "source": [
    "list1 = [\"py\", \"c++\", \"c\", \"java\", \"js\", \"scala\", \"nodjs\"]"
   ]
  },
  {
   "cell_type": "code",
   "execution_count": 22,
   "id": "26c9895d",
   "metadata": {},
   "outputs": [
    {
     "name": "stdout",
     "output_type": "stream",
     "text": [
      "py\n",
      "c++\n",
      "c\n",
      "java\n",
      "js\n",
      "scala\n",
      "nodjs\n"
     ]
    }
   ],
   "source": [
    "for i in list1:\n",
    "    print(i)"
   ]
  },
  {
   "cell_type": "code",
   "execution_count": 23,
   "id": "aef1220c",
   "metadata": {},
   "outputs": [],
   "source": [
    "tup = (\"py\", \"c++\", \"c\", \"java\", \"js\", \"scala\", \"nodjs\")"
   ]
  },
  {
   "cell_type": "code",
   "execution_count": 24,
   "id": "279c730f",
   "metadata": {},
   "outputs": [
    {
     "name": "stdout",
     "output_type": "stream",
     "text": [
      "py\n",
      "c++\n",
      "c\n",
      "java\n",
      "js\n",
      "scala\n",
      "nodjs\n"
     ]
    }
   ],
   "source": [
    "for j in tup:\n",
    "    print(j)"
   ]
  },
  {
   "cell_type": "code",
   "execution_count": 27,
   "id": "4b593ad8",
   "metadata": {},
   "outputs": [],
   "source": [
    "set1 = {\"py\", \"c++\", \"c\", \"java\", \"js\", \"scala\", \"nodjs\", \"c++\"}"
   ]
  },
  {
   "cell_type": "code",
   "execution_count": 28,
   "id": "963733e4",
   "metadata": {},
   "outputs": [
    {
     "name": "stdout",
     "output_type": "stream",
     "text": [
      "c++\n",
      "py\n",
      "c\n",
      "js\n",
      "nodjs\n",
      "scala\n",
      "java\n"
     ]
    }
   ],
   "source": [
    "for k in set1:\n",
    "    print(k)"
   ]
  },
  {
   "cell_type": "code",
   "execution_count": 29,
   "id": "f5af1032",
   "metadata": {},
   "outputs": [],
   "source": [
    "dict1 = { 'first_name':'Asabeneh', 'last_name':'Yetayeh', 'age':250, 'country':'Finland', 'is_marred':True,\n",
    "    'skills':['JavaScript', 'React', 'Node', 'MongoDB', 'Python'],\n",
    "    'address':{'street':'Space street','zipcode':'02210'}}"
   ]
  },
  {
   "cell_type": "code",
   "execution_count": 30,
   "id": "0a68019b",
   "metadata": {},
   "outputs": [
    {
     "name": "stdout",
     "output_type": "stream",
     "text": [
      "first_name\n",
      "last_name\n",
      "age\n",
      "country\n",
      "is_marred\n",
      "skills\n",
      "address\n"
     ]
    }
   ],
   "source": [
    "for a in dict1:\n",
    "    print(a)"
   ]
  },
  {
   "cell_type": "code",
   "execution_count": 32,
   "id": "07f0e831",
   "metadata": {},
   "outputs": [
    {
     "name": "stdout",
     "output_type": "stream",
     "text": [
      "Asabeneh\n",
      "Yetayeh\n",
      "250\n",
      "Finland\n",
      "True\n",
      "['JavaScript', 'React', 'Node', 'MongoDB', 'Python']\n",
      "{'street': 'Space street', 'zipcode': '02210'}\n"
     ]
    }
   ],
   "source": [
    "for a in dict1.values():\n",
    "    print(a)"
   ]
  },
  {
   "cell_type": "code",
   "execution_count": 33,
   "id": "695aea65",
   "metadata": {},
   "outputs": [
    {
     "name": "stdout",
     "output_type": "stream",
     "text": [
      "first_name\n",
      "last_name\n",
      "age\n",
      "country\n",
      "is_marred\n",
      "skills\n",
      "address\n"
     ]
    }
   ],
   "source": [
    "for a in dict1.keys():\n",
    "    print(a)"
   ]
  },
  {
   "cell_type": "code",
   "execution_count": 34,
   "id": "de2dba18",
   "metadata": {},
   "outputs": [
    {
     "name": "stdout",
     "output_type": "stream",
     "text": [
      "('first_name', 'Asabeneh')\n",
      "('last_name', 'Yetayeh')\n",
      "('age', 250)\n",
      "('country', 'Finland')\n",
      "('is_marred', True)\n",
      "('skills', ['JavaScript', 'React', 'Node', 'MongoDB', 'Python'])\n",
      "('address', {'street': 'Space street', 'zipcode': '02210'})\n"
     ]
    }
   ],
   "source": [
    "for a in dict1.items():\n",
    "    print(a)"
   ]
  },
  {
   "cell_type": "code",
   "execution_count": null,
   "id": "9a84a98a",
   "metadata": {},
   "outputs": [],
   "source": [
    "# syntax\n",
    "for iterator in lst:\n",
    "    code goes here"
   ]
  },
  {
   "cell_type": "code",
   "execution_count": null,
   "id": "0e7798da",
   "metadata": {},
   "outputs": [],
   "source": [
    "numbers = [0, 1, 2, 3, 4, 5]\n",
    "for number in numbers: # number is temporary name to refer to the list's items, valid only inside this loop\n",
    "    print(number)       # the numbers will be printed line by line, from 0 to 5"
   ]
  },
  {
   "cell_type": "code",
   "execution_count": 36,
   "id": "58a280a4",
   "metadata": {},
   "outputs": [
    {
     "name": "stdout",
     "output_type": "stream",
     "text": [
      "amit\n",
      "amit\n",
      "amit\n",
      "amit\n"
     ]
    }
   ],
   "source": [
    "a = 1\n",
    "\n",
    "while a < 5:\n",
    "    print(\"amit\")\n",
    "    a = a +1"
   ]
  },
  {
   "cell_type": "code",
   "execution_count": 41,
   "id": "73838411",
   "metadata": {},
   "outputs": [],
   "source": [
    "list2 = [2, 4, \"py\", 7,\"js\"]"
   ]
  },
  {
   "cell_type": "code",
   "execution_count": 43,
   "id": "7ee2c428",
   "metadata": {},
   "outputs": [
    {
     "name": "stdout",
     "output_type": "stream",
     "text": [
      "2\n",
      "4\n",
      "7\n"
     ]
    }
   ],
   "source": [
    "for i in list2:\n",
    "    if type(i) == int:\n",
    "        print(i)"
   ]
  },
  {
   "cell_type": "code",
   "execution_count": 44,
   "id": "4905cdcf",
   "metadata": {},
   "outputs": [
    {
     "name": "stdout",
     "output_type": "stream",
     "text": [
      "py\n",
      "js\n"
     ]
    }
   ],
   "source": [
    "for i in list2:\n",
    "    if type(i) == str:\n",
    "        print(i)"
   ]
  },
  {
   "cell_type": "code",
   "execution_count": 45,
   "id": "794a8e61",
   "metadata": {},
   "outputs": [],
   "source": [
    "emp = []\n",
    "\n",
    "for i in list2:\n",
    "    if type(i) == int:\n",
    "        emp.append(i)"
   ]
  },
  {
   "cell_type": "code",
   "execution_count": 46,
   "id": "f0b2704a",
   "metadata": {},
   "outputs": [
    {
     "data": {
      "text/plain": [
       "[2, 4, 7]"
      ]
     },
     "execution_count": 46,
     "metadata": {},
     "output_type": "execute_result"
    }
   ],
   "source": [
    "emp"
   ]
  },
  {
   "cell_type": "code",
   "execution_count": 47,
   "id": "4d95032b",
   "metadata": {},
   "outputs": [
    {
     "name": "stdout",
     "output_type": "stream",
     "text": [
      "py\n",
      "py\n",
      "py\n",
      "py\n",
      "js\n",
      "js\n",
      "js\n",
      "js\n"
     ]
    }
   ],
   "source": [
    "for i in list2:\n",
    "    if type(i) == str:\n",
    "        print(i)\n",
    "        print(i)\n",
    "        print(i)\n",
    "        print(i)"
   ]
  },
  {
   "cell_type": "code",
   "execution_count": null,
   "id": "4acce40f",
   "metadata": {},
   "outputs": [],
   "source": []
  }
 ],
 "metadata": {
  "kernelspec": {
   "display_name": "Python 3 (ipykernel)",
   "language": "python",
   "name": "python3"
  },
  "language_info": {
   "codemirror_mode": {
    "name": "ipython",
    "version": 3
   },
   "file_extension": ".py",
   "mimetype": "text/x-python",
   "name": "python",
   "nbconvert_exporter": "python",
   "pygments_lexer": "ipython3",
   "version": "3.11.5"
  }
 },
 "nbformat": 4,
 "nbformat_minor": 5
}
