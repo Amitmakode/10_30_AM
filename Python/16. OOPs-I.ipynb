{
 "cells": [
  {
   "cell_type": "markdown",
   "id": "48b12aad-6cf3-4915-861d-530b55dd64ad",
   "metadata": {},
   "source": [
    "## OOPs"
   ]
  },
  {
   "cell_type": "code",
   "execution_count": 1,
   "id": "ca8ce884-39b6-43c5-9517-73e847eccc4c",
   "metadata": {},
   "outputs": [],
   "source": [
    "class person:\n",
    "\n",
    "       def __init__(self, name, surname, emailid , year_of_birth):\n",
    "           \n",
    "           self.name = name\n",
    "           self.surname = surname\n",
    "           self.emailid = emailid\n",
    "           self.year_of_birth = year_of_birth"
   ]
  },
  {
   "cell_type": "code",
   "execution_count": 4,
   "id": "289ef7fb-2229-4d54-b978-1608028f23ed",
   "metadata": {},
   "outputs": [],
   "source": [
    "obj = person(\"rohit\", \"sharma\", \"rohit@gmail.com\", 1989)"
   ]
  },
  {
   "cell_type": "code",
   "execution_count": 5,
   "id": "78888f8c-d9b3-4c28-acd2-03c607e72a96",
   "metadata": {},
   "outputs": [
    {
     "data": {
      "text/plain": [
       "1989"
      ]
     },
     "execution_count": 5,
     "metadata": {},
     "output_type": "execute_result"
    }
   ],
   "source": [
    "obj.year_of_birth"
   ]
  },
  {
   "cell_type": "code",
   "execution_count": 7,
   "id": "4ca6576f-df83-4171-b0c5-d701d00fdddc",
   "metadata": {},
   "outputs": [],
   "source": [
    "obj1 = person(\"virat\", \"kohli\", \"virat@gmail.com\", 1988)"
   ]
  },
  {
   "cell_type": "code",
   "execution_count": 8,
   "id": "eda9a1ae-7ab1-4643-bea3-b957548c68eb",
   "metadata": {},
   "outputs": [
    {
     "data": {
      "text/plain": [
       "'virat'"
      ]
     },
     "execution_count": 8,
     "metadata": {},
     "output_type": "execute_result"
    }
   ],
   "source": [
    "obj1.name"
   ]
  },
  {
   "cell_type": "code",
   "execution_count": 9,
   "id": "d8f4f8d1-d90f-4e30-81ae-e6f892ecfb2b",
   "metadata": {},
   "outputs": [
    {
     "data": {
      "text/plain": [
       "'rohit@gmail.com'"
      ]
     },
     "execution_count": 9,
     "metadata": {},
     "output_type": "execute_result"
    }
   ],
   "source": [
    "obj.emailid"
   ]
  },
  {
   "cell_type": "code",
   "execution_count": null,
   "id": "88b69372-2d9f-4a0d-bbac-41fb693a6c9a",
   "metadata": {},
   "outputs": [],
   "source": []
  },
  {
   "cell_type": "code",
   "execution_count": null,
   "id": "3bca26d3-a982-47f0-a325-111d38a5155f",
   "metadata": {},
   "outputs": [],
   "source": []
  },
  {
   "cell_type": "code",
   "execution_count": 10,
   "id": "50c1ed98-ce57-4137-b10d-6a00251d00d8",
   "metadata": {},
   "outputs": [],
   "source": [
    "class person1:\n",
    "\n",
    "    def __init__(self, name, surname, emailid, year_of_birth):\n",
    "        self.name = name\n",
    "        self.surname = surname\n",
    "        self.emailid = emailid\n",
    "        self.year_of_birth = year_of_birth\n",
    "        \n",
    "    def __init__(self, name,  year_of_birth):\n",
    "        self.name = name\n",
    "        self. year_of_birth= year_of_birth\n",
    "\n",
    "    def __init__(self, name, surname, year_of_birth):\n",
    "        self.name = name\n",
    "        self.surname = surname \n",
    "        self. year_of_birth= year_of_birth \n",
    "    \n",
    "        \n",
    "    def age(self, curretn_year):\n",
    "        return curretn_year - self.year_of_birth "
   ]
  },
  {
   "cell_type": "code",
   "execution_count": 12,
   "id": "2f01e086-da07-4a21-874d-3f0bb7d0b8cc",
   "metadata": {},
   "outputs": [],
   "source": [
    "obj = person1(\"ravindra\", \"jadeja\", 1990)"
   ]
  },
  {
   "cell_type": "code",
   "execution_count": 13,
   "id": "97010da2-e431-4642-beef-913cac8bffb5",
   "metadata": {},
   "outputs": [
    {
     "data": {
      "text/plain": [
       "'ravindra'"
      ]
     },
     "execution_count": 13,
     "metadata": {},
     "output_type": "execute_result"
    }
   ],
   "source": [
    "obj.name"
   ]
  },
  {
   "cell_type": "code",
   "execution_count": 14,
   "id": "f255a1f3-704b-4685-84f4-3c47d2260b0a",
   "metadata": {},
   "outputs": [
    {
     "data": {
      "text/plain": [
       "34"
      ]
     },
     "execution_count": 14,
     "metadata": {},
     "output_type": "execute_result"
    }
   ],
   "source": [
    "obj.age(2024)"
   ]
  },
  {
   "cell_type": "code",
   "execution_count": null,
   "id": "e019e20b-bf0f-4e74-806a-704eaed32d47",
   "metadata": {},
   "outputs": [],
   "source": []
  },
  {
   "cell_type": "code",
   "execution_count": null,
   "id": "77727688-81be-4dda-aa71-bcecf35ac560",
   "metadata": {},
   "outputs": [],
   "source": []
  },
  {
   "cell_type": "code",
   "execution_count": 15,
   "id": "862b2fc7-1719-4534-bac5-b2ea2027d220",
   "metadata": {},
   "outputs": [],
   "source": [
    "class person2:\n",
    "\n",
    "    def __init__(self, name, surname, emailid, year_of_birth):\n",
    "        self.name1 = name\n",
    "        self.surname1 = surname\n",
    "        self.emailid1 = emailid\n",
    "        self.year_of_birth = year_of_birth\n",
    "           \n",
    "    def age(self, curretn_year):\n",
    "        return curretn_year - self.year_of_birth \n",
    "    \n",
    "    def age_2(self, curretn_year):\n",
    "        return curretn_year \n",
    "        "
   ]
  },
  {
   "cell_type": "code",
   "execution_count": 17,
   "id": "1bdbcc8e-dc33-416c-bf17-6ce2c5818031",
   "metadata": {},
   "outputs": [],
   "source": [
    "obj = person2(\"dk\", \"CK\", \"dk@gmail.com\", 1980)"
   ]
  },
  {
   "cell_type": "code",
   "execution_count": 18,
   "id": "2b064381-28f6-4947-935a-c125675ccfee",
   "metadata": {},
   "outputs": [
    {
     "data": {
      "text/plain": [
       "'dk'"
      ]
     },
     "execution_count": 18,
     "metadata": {},
     "output_type": "execute_result"
    }
   ],
   "source": [
    "obj.name1"
   ]
  },
  {
   "cell_type": "code",
   "execution_count": 19,
   "id": "957b2d86-11a3-4a4f-b4f1-2cdec347fac8",
   "metadata": {},
   "outputs": [
    {
     "data": {
      "text/plain": [
       "44"
      ]
     },
     "execution_count": 19,
     "metadata": {},
     "output_type": "execute_result"
    }
   ],
   "source": [
    "obj.age(2024)"
   ]
  },
  {
   "cell_type": "code",
   "execution_count": null,
   "id": "94442104-9c7f-42be-8c99-f0924081f56b",
   "metadata": {},
   "outputs": [],
   "source": [
    "obj."
   ]
  },
  {
   "cell_type": "code",
   "execution_count": null,
   "id": "b6967198-7a7d-450e-b19e-9aa87e7594cc",
   "metadata": {},
   "outputs": [],
   "source": []
  },
  {
   "cell_type": "code",
   "execution_count": 21,
   "id": "8304bbe5-4cb2-4e7c-8c30-8c3e9d8a6191",
   "metadata": {},
   "outputs": [],
   "source": [
    "class person3 :\n",
    "    \n",
    "    def __init__(self , name , surname , yob):\n",
    "        self._name1 = name                 # single _ means private \n",
    "        self.__surname1 = surname          #  double __ means protective\n",
    "        self.yob1 = yob                    # public "
   ]
  },
  {
   "cell_type": "code",
   "execution_count": 23,
   "id": "0eec997a-c84f-4801-8dd4-a09ab838e9a2",
   "metadata": {},
   "outputs": [],
   "source": [
    "obj= person3(\"amit\", \"Kumar\", 1999)"
   ]
  },
  {
   "cell_type": "code",
   "execution_count": 24,
   "id": "c9829053-fadb-489f-b249-84a80bf0b379",
   "metadata": {},
   "outputs": [
    {
     "data": {
      "text/plain": [
       "1999"
      ]
     },
     "execution_count": 24,
     "metadata": {},
     "output_type": "execute_result"
    }
   ],
   "source": [
    "obj.yob1"
   ]
  },
  {
   "cell_type": "code",
   "execution_count": 25,
   "id": "e8088e9c-9eb4-42d6-952d-d5b1bb6e0330",
   "metadata": {},
   "outputs": [
    {
     "data": {
      "text/plain": [
       "'amit'"
      ]
     },
     "execution_count": 25,
     "metadata": {},
     "output_type": "execute_result"
    }
   ],
   "source": [
    "obj._name1"
   ]
  },
  {
   "cell_type": "code",
   "execution_count": 26,
   "id": "291e3047-51b6-4d36-995a-58cbf8489c91",
   "metadata": {},
   "outputs": [
    {
     "data": {
      "text/plain": [
       "'Kumar'"
      ]
     },
     "execution_count": 26,
     "metadata": {},
     "output_type": "execute_result"
    }
   ],
   "source": [
    "obj._person3__surname1"
   ]
  },
  {
   "cell_type": "code",
   "execution_count": null,
   "id": "60240a21-2435-415d-a6e2-50b47123ae87",
   "metadata": {},
   "outputs": [],
   "source": []
  },
  {
   "cell_type": "code",
   "execution_count": null,
   "id": "8a51c6ed-64be-4d43-a3b5-89065cf0808d",
   "metadata": {},
   "outputs": [],
   "source": []
  },
  {
   "cell_type": "code",
   "execution_count": 31,
   "id": "81be4a8f-cd6f-4a3c-a6a8-d342a14504bb",
   "metadata": {},
   "outputs": [],
   "source": [
    "class person4:                             # parents class\n",
    "\n",
    "    name = \"amit\"\n",
    "    surname = \"kumar\"\n",
    "    yob = 1990\n",
    "\n",
    "    def age(self , current_year ):\n",
    "        return current_year - self.yob\n",
    "    \n",
    "    def age1(self , current_year ):\n",
    "        return current_year - self.yob\n",
    "\n",
    "\n",
    "\n",
    "class employee(person4):           #child class\n",
    "    name = \"amit1\"\n",
    "    surname = \"singh\"\n",
    "    yob = 1991"
   ]
  },
  {
   "cell_type": "code",
   "execution_count": 32,
   "id": "563ab1d5-a9e2-4c2f-a6dc-9a2b275525cb",
   "metadata": {},
   "outputs": [],
   "source": [
    "obj1 = person4()"
   ]
  },
  {
   "cell_type": "code",
   "execution_count": 33,
   "id": "836b45fc-eab9-4941-9a5d-9b4ce183b8c1",
   "metadata": {},
   "outputs": [
    {
     "data": {
      "text/plain": [
       "'amit'"
      ]
     },
     "execution_count": 33,
     "metadata": {},
     "output_type": "execute_result"
    }
   ],
   "source": [
    "obj1.name"
   ]
  },
  {
   "cell_type": "code",
   "execution_count": 34,
   "id": "f015cd2b-0078-4dde-9b88-82823f4144ba",
   "metadata": {},
   "outputs": [],
   "source": [
    "obj2 = employee()"
   ]
  },
  {
   "cell_type": "code",
   "execution_count": 35,
   "id": "3ab89053-ae82-44bc-9eab-c1ee071244e0",
   "metadata": {},
   "outputs": [
    {
     "data": {
      "text/plain": [
       "'singh'"
      ]
     },
     "execution_count": 35,
     "metadata": {},
     "output_type": "execute_result"
    }
   ],
   "source": [
    "obj2.surname"
   ]
  },
  {
   "cell_type": "code",
   "execution_count": 36,
   "id": "654afe10-dec4-4afc-b4ec-e7d62ddce7aa",
   "metadata": {},
   "outputs": [
    {
     "data": {
      "text/plain": [
       "33"
      ]
     },
     "execution_count": 36,
     "metadata": {},
     "output_type": "execute_result"
    }
   ],
   "source": [
    "obj2.age(2024)"
   ]
  },
  {
   "cell_type": "code",
   "execution_count": 37,
   "id": "c4cbbd9d-cc17-4818-a97a-dd9e0f7e4566",
   "metadata": {},
   "outputs": [
    {
     "data": {
      "text/plain": [
       "34"
      ]
     },
     "execution_count": 37,
     "metadata": {},
     "output_type": "execute_result"
    }
   ],
   "source": [
    "obj1.age(2024)"
   ]
  },
  {
   "cell_type": "code",
   "execution_count": 46,
   "id": "1e5a2847-30dc-40f3-982e-a96d0f664a17",
   "metadata": {},
   "outputs": [],
   "source": [
    "class person5:                             # parents class\n",
    "\n",
    "    name = \"amit\"\n",
    "    surname = \"kumar\"\n",
    "    yob = 1990\n",
    "\n",
    "    def age(self , current_year ):\n",
    "        return current_year - self.yob\n",
    "    \n",
    "    def age1(self , current_year ):\n",
    "        return current_year - self.yob\n",
    "\n",
    "\n",
    "\n",
    "class employee(person5):           #child class\n",
    "    yob1 = 2000"
   ]
  },
  {
   "cell_type": "code",
   "execution_count": 47,
   "id": "2eeb7402-6e0b-47b3-96e7-94bd6b3a2f6a",
   "metadata": {},
   "outputs": [],
   "source": [
    "obj3 = person5()"
   ]
  },
  {
   "cell_type": "code",
   "execution_count": 48,
   "id": "d3bcbc45-072b-40e7-a128-e838a735b0f0",
   "metadata": {},
   "outputs": [
    {
     "data": {
      "text/plain": [
       "'amit'"
      ]
     },
     "execution_count": 48,
     "metadata": {},
     "output_type": "execute_result"
    }
   ],
   "source": [
    "obj3.name"
   ]
  },
  {
   "cell_type": "code",
   "execution_count": 49,
   "id": "3288acc7-7d18-4174-8390-a1562c9fab4e",
   "metadata": {},
   "outputs": [],
   "source": [
    "obj4 = employee()"
   ]
  },
  {
   "cell_type": "code",
   "execution_count": 51,
   "id": "ea4c5b99-6081-4822-ae04-ea1586cf9b70",
   "metadata": {},
   "outputs": [
    {
     "data": {
      "text/plain": [
       "1990"
      ]
     },
     "execution_count": 51,
     "metadata": {},
     "output_type": "execute_result"
    }
   ],
   "source": [
    "obj4.yob"
   ]
  },
  {
   "cell_type": "code",
   "execution_count": null,
   "id": "5828e2f8-7bee-4a0c-bc35-8ae144c99195",
   "metadata": {},
   "outputs": [],
   "source": []
  },
  {
   "cell_type": "code",
   "execution_count": null,
   "id": "56fd1be7-cbdc-4f77-b6c2-2b54193692ab",
   "metadata": {},
   "outputs": [],
   "source": []
  },
  {
   "cell_type": "code",
   "execution_count": 52,
   "id": "f8d5c438-35d8-4ce5-b88e-3c1131fd4aab",
   "metadata": {},
   "outputs": [],
   "source": [
    "class car :                 #perent class   \n",
    "                         # inheritence \n",
    "    def __init__(self , body , engin , tyre):\n",
    "        self.body = body\n",
    "        self.engin = engin\n",
    "        self.tyre = tyre\n",
    "\n",
    "    def milage (self):\n",
    "        print(\"milage of this car \") "
   ]
  },
  {
   "cell_type": "code",
   "execution_count": 54,
   "id": "fe3acb91-8ca2-4441-881e-59a873969dd5",
   "metadata": {},
   "outputs": [],
   "source": [
    "class tata(car):                #child class\n",
    "    pass"
   ]
  },
  {
   "cell_type": "code",
   "execution_count": 55,
   "id": "07d8f39b-00dc-443c-a0d3-41fab0bbe670",
   "metadata": {},
   "outputs": [
    {
     "ename": "TypeError",
     "evalue": "car.__init__() missing 3 required positional arguments: 'body', 'engin', and 'tyre'",
     "output_type": "error",
     "traceback": [
      "\u001b[1;31m---------------------------------------------------------------------------\u001b[0m",
      "\u001b[1;31mTypeError\u001b[0m                                 Traceback (most recent call last)",
      "Cell \u001b[1;32mIn[55], line 1\u001b[0m\n\u001b[1;32m----> 1\u001b[0m obj5 \u001b[38;5;241m=\u001b[39m car()\n",
      "\u001b[1;31mTypeError\u001b[0m: car.__init__() missing 3 required positional arguments: 'body', 'engin', and 'tyre'"
     ]
    }
   ],
   "source": [
    "obj5 = car()"
   ]
  },
  {
   "cell_type": "code",
   "execution_count": 57,
   "id": "71598a63-7c3b-49c3-9f78-ae6935ed208f",
   "metadata": {},
   "outputs": [],
   "source": [
    "t = tata(\"hatchback\", \"1.2l\",\"18inches\" )"
   ]
  },
  {
   "cell_type": "code",
   "execution_count": 58,
   "id": "ab7ed36d-ac36-455d-9581-131df43094af",
   "metadata": {},
   "outputs": [
    {
     "name": "stdout",
     "output_type": "stream",
     "text": [
      "milage of this car \n"
     ]
    }
   ],
   "source": [
    "t.milage()"
   ]
  },
  {
   "cell_type": "code",
   "execution_count": null,
   "id": "cb39e579-c2eb-46a9-9e76-aa73613c8447",
   "metadata": {},
   "outputs": [],
   "source": []
  },
  {
   "cell_type": "code",
   "execution_count": null,
   "id": "e570fa8f-3b13-4901-bd73-39bfbc0db3e2",
   "metadata": {},
   "outputs": [],
   "source": []
  },
  {
   "cell_type": "code",
   "execution_count": 59,
   "id": "7c1b5a5d-e001-41a3-9524-aa2d4b634f2b",
   "metadata": {},
   "outputs": [],
   "source": [
    "class bank :             # perents class \n",
    "    def transaction(self) :\n",
    "        print(\"total transaction value \")\n",
    "    def account_opening(self):\n",
    "        print(\"this will show you your account open status \")\n",
    "    def deposite(self):\n",
    "        print(\"this will show your deposited amount\")\n",
    "\n",
    "\n",
    "class HDFC_bank(bank):             # child class\n",
    "    def hdfc_to_icici(self):\n",
    "        print(\"this will show you all the transaction happend to icici throuhg hdfc\")\n",
    "\n",
    "class icici(HDFC_bank):          # child class\n",
    "    pass                        \n",
    "\n",
    "# multilevel inheritence"
   ]
  },
  {
   "cell_type": "code",
   "execution_count": 60,
   "id": "2846f2d7-fe0c-4bac-8985-0ca8d850a31e",
   "metadata": {},
   "outputs": [],
   "source": [
    "b = bank()"
   ]
  },
  {
   "cell_type": "code",
   "execution_count": 61,
   "id": "f0dbfcde-f53f-4baa-9c03-c17a854f5463",
   "metadata": {},
   "outputs": [],
   "source": [
    "h = HDFC_bank()"
   ]
  },
  {
   "cell_type": "code",
   "execution_count": 62,
   "id": "c3cf285d-7424-449b-90c0-92138c13763c",
   "metadata": {},
   "outputs": [],
   "source": [
    "Ic = icici()"
   ]
  },
  {
   "cell_type": "code",
   "execution_count": null,
   "id": "ca7da9f1-3d3e-45fc-abbf-e74d6a73c72e",
   "metadata": {},
   "outputs": [],
   "source": [
    "Ic."
   ]
  }
 ],
 "metadata": {
  "kernelspec": {
   "display_name": "Python 3 (ipykernel)",
   "language": "python",
   "name": "python3"
  },
  "language_info": {
   "codemirror_mode": {
    "name": "ipython",
    "version": 3
   },
   "file_extension": ".py",
   "mimetype": "text/x-python",
   "name": "python",
   "nbconvert_exporter": "python",
   "pygments_lexer": "ipython3",
   "version": "3.11.7"
  }
 },
 "nbformat": 4,
 "nbformat_minor": 5
}
