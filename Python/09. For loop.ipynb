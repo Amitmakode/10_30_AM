{
 "cells": [
  {
   "cell_type": "code",
   "execution_count": 2,
   "id": "3f7899e3-edd3-4f3f-9471-f9a13f4cbd12",
   "metadata": {},
   "outputs": [
    {
     "name": "stdin",
     "output_type": "stream",
     "text": [
      " 799\n"
     ]
    },
    {
     "name": "stdout",
     "output_type": "stream",
     "text": [
      "you will get IIT\n",
      "you will get IIM\n"
     ]
    }
   ],
   "source": [
    "marks = int(input())\n",
    "\n",
    "if marks < 600:\n",
    "    print(\"NO GRE\")\n",
    "    if marks < 500:\n",
    "        print(\"TOFEL\")\n",
    "        if marks < 400:\n",
    "            print(\"Try something else\")\n",
    "    else:\n",
    "        print(\"YOU GOT TOFEL\")\n",
    "        \n",
    "elif marks > 600:\n",
    "    print(\"you will get IIT\")\n",
    "    if marks > 700:\n",
    "        print(\"you will get IIM\")\n",
    "    else:\n",
    "        print(\"try next time\")\n",
    "else:\n",
    "    print(\"You got GRE congratulations\")"
   ]
  },
  {
   "cell_type": "code",
   "execution_count": 3,
   "id": "3c78a476-2aa0-4611-8014-957e9308c02a",
   "metadata": {},
   "outputs": [
    {
     "ename": "SyntaxError",
     "evalue": "invalid syntax (613152775.py, line 7)",
     "output_type": "error",
     "traceback": [
      "\u001b[1;36m  Cell \u001b[1;32mIn[3], line 7\u001b[1;36m\u001b[0m\n\u001b[1;33m    elif:\u001b[0m\n\u001b[1;37m        ^\u001b[0m\n\u001b[1;31mSyntaxError\u001b[0m\u001b[1;31m:\u001b[0m invalid syntax\n"
     ]
    }
   ],
   "source": [
    "mark = int(input(\"entrance exam marks\"))\n",
    "\n",
    "if mark > 700:\n",
    "    print()\n",
    "    if mark :\n",
    "        print()\n",
    "    elif:\n",
    "        print()\n",
    "        if:\n",
    "            print()\n",
    "        else:\n",
    "            print()\n",
    "    else:\n",
    "        print()\n",
    "elif:\n",
    "    print()\n",
    "    \n",
    "else:\n",
    "    print()"
   ]
  },
  {
   "cell_type": "code",
   "execution_count": 7,
   "id": "267960fa-c491-486f-ae28-55410fed0fa8",
   "metadata": {},
   "outputs": [
    {
     "name": "stdin",
     "output_type": "stream",
     "text": [
      "enter a number  123\n"
     ]
    },
    {
     "name": "stdout",
     "output_type": "stream",
     "text": [
      "it is divisible by 3 or 2 or 5\n"
     ]
    }
   ],
   "source": [
    "n = int(input(\"enter a number \"))\n",
    "\n",
    "if n==2:\n",
    "    print(\"it is a prime number \", n)\n",
    "elif n==3:\n",
    "    print(\"it is a prime number \", n)\n",
    "    \n",
    "elif n%3==0 or n%2==0 or n%5==0 or n%7==0:\n",
    "    print(\"it is divisible by 3 or 2 or 5\")\n",
    "else:\n",
    "    print(\"it is a prime number\")"
   ]
  },
  {
   "cell_type": "code",
   "execution_count": 9,
   "id": "4da1d171-72c9-4fe2-9515-e660eb359d23",
   "metadata": {},
   "outputs": [
    {
     "name": "stdin",
     "output_type": "stream",
     "text": [
      "enter a name of employee  abc\n",
      "enter gender of employee   m\n",
      "enter basic salary of employee  33000\n",
      "enter experience  6\n",
      "enter incrament rate  0.2\n"
     ]
    },
    {
     "name": "stdout",
     "output_type": "stream",
     "text": [
      "gross_salary - 72600\n",
      "net_salary - 67650\n",
      "Bonus =  9471.0\n",
      "better luck next year\n"
     ]
    }
   ],
   "source": [
    "name = input(\"enter a name of employee \")\n",
    "gender = input(\"enter gender of employee  \")\n",
    "first_base_salary = int(input(\"enter basic salary of employee \"))\n",
    "year_of_experience = eval(input(\"enter experience \"))\n",
    "salary_increase_rate = eval(input(\"enter incrament rate \"))\n",
    "\n",
    "gross_salary = first_base_salary * (1 + salary_increase_rate * year_of_experience)\n",
    "gross_salary = int(gross_salary)\n",
    "net_salary = gross_salary - (first_base_salary*0.15)\n",
    "net_salary = int(net_salary)\n",
    "print(\"gross_salary -\", gross_salary)\n",
    "print(\"net_salary -\", net_salary)\n",
    "\n",
    "bonus_thresold = 2\n",
    "\n",
    "if year_of_experience >= 10:\n",
    "    if gender == \"f\":\n",
    "        bonus_rate = 0.2\n",
    "        bonus = net_salary * bonus_rate\n",
    "        print(\"Bonus = \", int(bonus))\n",
    "        if year_of_experience <=15 and gross_salary >= 100000:\n",
    "            aditional_bonus = 11000\n",
    "            total_bonus = bonus + aditional_bonus\n",
    "            print(\"overall_Bonus = \", bonus, \"+\", aditional_bonus,\"=\", int(total_bonus))\n",
    "            if net_salary >= 100000:\n",
    "                print(\"You will get early personal cabin\")\n",
    "        if year_of_experience > 15 and net_salary >= 100000:\n",
    "            aditional_bonus = 11000\n",
    "            total_bonus = bonus + aditional_bonus\n",
    "            print(\"overall_Bonus = \", bonus, \"+\", aditional_bonus,\"=\", int(total_bonus))\n",
    "            print(\"You will get personal cabin\")\n",
    "    elif gender == \"m\":\n",
    "        bonus_rate = 0.18\n",
    "        bonus = net_salary * bonus_rate\n",
    "        print(\"Bonus = \", int(bonus))\n",
    "        if year_of_experience <=15 and gross_salary >= 100000:\n",
    "            aditional_bonus = 10000\n",
    "            total_bonus = bonus + aditional_bonus\n",
    "            print(\"overall_Bonus = \", bonus, \"+\", aditional_bonus,\"=\", int(total_bonus))\n",
    "            if net_salary >= 100000:\n",
    "                print(\"You will get early personal cabin\")\n",
    "        if year_of_experience > 15 and net_salary >= 100000:\n",
    "            aditional_bonus = 10000\n",
    "            total_bonus = bonus + aditional_bonus\n",
    "            print(\"overall_Bonus = \", bonus, \"+\", aditional_bonus,\"=\", int(total_bonus))\n",
    "            print(\"You will get personal cabin\")  \n",
    "elif year_of_experience>= 6 < 10:\n",
    "    if gender == \"f\":\n",
    "        bonus_rate = 0.15\n",
    "        bonus = net_salary * bonus_rate\n",
    "        print(\"Bonus = \", bonus)\n",
    "        if gross_salary >= 75000:\n",
    "            print(\"Get promoted \")\n",
    "            if net_salary>= 70000:\n",
    "                print(\"Early promoted \")\n",
    "        else:\n",
    "            print(\"better luck next year\")\n",
    "    elif gender == \"m\":\n",
    "        bonus_rate = 0.14\n",
    "        bonus = net_salary * bonus_rate\n",
    "        print(\"Bonus = \", bonus)\n",
    "        if gross_salary >= 75000:\n",
    "            print(\"Get promoted \")\n",
    "            if net_salary>= 70000:\n",
    "                print(\"Early promoted \")\n",
    "        else:\n",
    "            print(\"better luck next year\")        \n",
    "elif year_of_experience > 2 <=5:\n",
    "    if gender == \"f\":\n",
    "        bonus_rate = 0.12\n",
    "        bonus = net_salary * bonus_rate\n",
    "        print(\"Bonus = \", bonus)\n",
    "        if gross_salary>= 50000:\n",
    "            print(\"Get regularization \")\n",
    "            if net_salary>= 45000:\n",
    "                print(\"Get early regularization\")\n",
    "    elif gender == \"m\":\n",
    "        bonus_rate = 0.10\n",
    "        bonus = net_salary * bonus_rate\n",
    "        print(\"Bonus = \", bonus)\n",
    "        if gross_salary>= 50000:\n",
    "            print(\"Get regularization \")\n",
    "            if net_salary>= 45000:\n",
    "                print(\"Get early regularization\")\n",
    "else:\n",
    "    print(\"No bonus for employee\")"
   ]
  },
  {
   "cell_type": "code",
   "execution_count": null,
   "id": "ad1ef245-5afe-459c-a384-e45f9ff0916b",
   "metadata": {},
   "outputs": [],
   "source": []
  },
  {
   "cell_type": "code",
   "execution_count": null,
   "id": "59c97063-358c-44de-96fb-1db301557bd4",
   "metadata": {},
   "outputs": [],
   "source": []
  },
  {
   "cell_type": "markdown",
   "id": "1763a824-ca1a-4787-9487-90e36e461fd4",
   "metadata": {},
   "source": [
    "### LOOP"
   ]
  },
  {
   "cell_type": "code",
   "execution_count": null,
   "id": "954a17e5-1f89-4fb6-a916-b9e8321e892a",
   "metadata": {},
   "outputs": [],
   "source": [
    "for\n",
    "while\n",
    "iter"
   ]
  },
  {
   "cell_type": "code",
   "execution_count": null,
   "id": "dd4dc229-7d22-4df7-8143-bbd437c03977",
   "metadata": {},
   "outputs": [],
   "source": [
    "iterable - str/list/tuple/set/dict"
   ]
  },
  {
   "cell_type": "code",
   "execution_count": null,
   "id": "f06638af-700b-4369-b158-33406bcb3206",
   "metadata": {},
   "outputs": [],
   "source": [
    "iterator\n",
    "iteration"
   ]
  },
  {
   "cell_type": "code",
   "execution_count": 10,
   "id": "857135f4-806b-4215-b6da-3632d71607e5",
   "metadata": {},
   "outputs": [],
   "source": [
    "list = [3,4,5,6,7,9]"
   ]
  },
  {
   "cell_type": "code",
   "execution_count": 11,
   "id": "42e06a18-b0ef-4717-94bf-b23301d6c8b8",
   "metadata": {},
   "outputs": [
    {
     "name": "stdout",
     "output_type": "stream",
     "text": [
      "3\n",
      "4\n",
      "5\n",
      "6\n",
      "7\n",
      "9\n"
     ]
    }
   ],
   "source": [
    "for i in list:\n",
    "    print(i)"
   ]
  },
  {
   "cell_type": "code",
   "execution_count": 13,
   "id": "467778df-5507-4e13-865f-cd63dafc85e0",
   "metadata": {},
   "outputs": [
    {
     "name": "stdout",
     "output_type": "stream",
     "text": [
      "9\n",
      "16\n",
      "25\n",
      "36\n",
      "49\n",
      "64\n",
      "81\n"
     ]
    }
   ],
   "source": [
    "for i in range(3,10):\n",
    "    print(i**2)"
   ]
  },
  {
   "cell_type": "code",
   "execution_count": 14,
   "id": "f402e371-7f5f-4783-855d-ac12550f01cd",
   "metadata": {},
   "outputs": [],
   "source": [
    "l = [1,2,3,4,\"sudh\" ,\"kumar\" , 45.56]"
   ]
  },
  {
   "cell_type": "code",
   "execution_count": 15,
   "id": "11e4ebbe-6dba-4930-bfac-2fbb412e6458",
   "metadata": {},
   "outputs": [
    {
     "name": "stdout",
     "output_type": "stream",
     "text": [
      "1\n",
      "2\n",
      "3\n",
      "4\n",
      "sudh\n",
      "kumar\n",
      "45.56\n"
     ]
    }
   ],
   "source": [
    "for i in l:\n",
    "    print(i)"
   ]
  },
  {
   "cell_type": "code",
   "execution_count": 16,
   "id": "6fffa3dd-4b8c-4051-ac01-2aa667e4119c",
   "metadata": {},
   "outputs": [
    {
     "name": "stdout",
     "output_type": "stream",
     "text": [
      "py\n",
      "py\n",
      "py\n",
      "py\n",
      "py\n",
      "py\n",
      "py\n"
     ]
    }
   ],
   "source": [
    "for i in l:\n",
    "    print(\"py\")"
   ]
  },
  {
   "cell_type": "code",
   "execution_count": 17,
   "id": "b615dac7-f793-43c3-adfa-2f2c920a4f55",
   "metadata": {},
   "outputs": [],
   "source": [
    "str1 = \"this is my first string\"\n",
    "str2 = \"this is my second string\""
   ]
  },
  {
   "cell_type": "code",
   "execution_count": 18,
   "id": "e4cc181f-a085-465b-ac96-aba8326f5323",
   "metadata": {},
   "outputs": [
    {
     "name": "stdout",
     "output_type": "stream",
     "text": [
      "t\n",
      "h\n",
      "i\n",
      "s\n",
      " \n",
      "i\n",
      "s\n",
      " \n",
      "m\n",
      "y\n",
      " \n",
      "f\n",
      "i\n",
      "r\n",
      "s\n",
      "t\n",
      " \n",
      "s\n",
      "t\n",
      "r\n",
      "i\n",
      "n\n",
      "g\n"
     ]
    }
   ],
   "source": [
    "for i in str1 :\n",
    "    print(i)"
   ]
  },
  {
   "cell_type": "code",
   "execution_count": 19,
   "id": "88176194-e515-4f5f-894d-aecaff93e6af",
   "metadata": {},
   "outputs": [
    {
     "ename": "TypeError",
     "evalue": "'int' object is not iterable",
     "output_type": "error",
     "traceback": [
      "\u001b[1;31m---------------------------------------------------------------------------\u001b[0m",
      "\u001b[1;31mTypeError\u001b[0m                                 Traceback (most recent call last)",
      "Cell \u001b[1;32mIn[19], line 1\u001b[0m\n\u001b[1;32m----> 1\u001b[0m \u001b[38;5;28;01mfor\u001b[39;00m i \u001b[38;5;129;01min\u001b[39;00m \u001b[38;5;241m76567\u001b[39m:\n\u001b[0;32m      2\u001b[0m     \u001b[38;5;28mprint\u001b[39m(i)\n",
      "\u001b[1;31mTypeError\u001b[0m: 'int' object is not iterable"
     ]
    }
   ],
   "source": [
    "for i in 76567:\n",
    "    print(i)"
   ]
  },
  {
   "cell_type": "code",
   "execution_count": 20,
   "id": "aff4554d-fde8-4850-84f8-4aa1a49501b9",
   "metadata": {},
   "outputs": [
    {
     "name": "stdout",
     "output_type": "stream",
     "text": [
      "7\n",
      "6\n",
      "5\n",
      "6\n",
      "7\n"
     ]
    }
   ],
   "source": [
    "for i in \"76567\":\n",
    "    print(i)"
   ]
  },
  {
   "cell_type": "code",
   "execution_count": 31,
   "id": "fd768909-3069-4067-9e80-01cdee12f062",
   "metadata": {},
   "outputs": [
    {
     "data": {
      "text/plain": [
       "(0, 1, 2, 3, 4, 5, 6, 7, 8, 9)"
      ]
     },
     "execution_count": 31,
     "metadata": {},
     "output_type": "execute_result"
    }
   ],
   "source": [
    "tuple(range(10))"
   ]
  },
  {
   "cell_type": "code",
   "execution_count": 32,
   "id": "444713f0-a288-4559-bfda-d0ce287fdbb3",
   "metadata": {},
   "outputs": [
    {
     "name": "stdout",
     "output_type": "stream",
     "text": [
      "0 Python\n",
      "1 Python\n",
      "2 Python\n",
      "3 Python\n",
      "4 Python\n",
      "5 Python\n",
      "6 Python\n",
      "7 Python\n",
      "8 Python\n",
      "9 Python\n"
     ]
    }
   ],
   "source": [
    "for x in range(10):\n",
    "    print(x, \"Python\")"
   ]
  },
  {
   "cell_type": "code",
   "execution_count": 33,
   "id": "45f4f38d-965d-48dd-b04d-bc16e0e4550f",
   "metadata": {},
   "outputs": [
    {
     "name": "stdout",
     "output_type": "stream",
     "text": [
      "Python Python Python Python Python Python Python Python Python Python "
     ]
    }
   ],
   "source": [
    "for x in range(10):\n",
    "    print(\"Python\", end = \" \")"
   ]
  },
  {
   "cell_type": "code",
   "execution_count": 34,
   "id": "70da5f74-f0f1-4ec0-9297-7e3274a1a430",
   "metadata": {},
   "outputs": [
    {
     "name": "stdout",
     "output_type": "stream",
     "text": [
      "1\n",
      "2\n",
      "3\n",
      "4\n",
      "sudh\n",
      "kumar\n",
      "45.56\n"
     ]
    }
   ],
   "source": [
    "for i in l :\n",
    "    pass\n",
    "    print(i)"
   ]
  },
  {
   "cell_type": "code",
   "execution_count": 35,
   "id": "50f090c4-4ee1-47fa-b25b-118698839678",
   "metadata": {},
   "outputs": [
    {
     "name": "stdout",
     "output_type": "stream",
     "text": [
      "1\n",
      "2\n",
      "3\n",
      "4\n",
      "sudh\n",
      "kumar\n",
      "45.56\n",
      "if for loop is going to complete itself the it will execute else \n"
     ]
    }
   ],
   "source": [
    "for i in l :\n",
    "    print(i)\n",
    "else :\n",
    "    print(\"if for loop is going to complete itself the it will execute else \")"
   ]
  },
  {
   "cell_type": "code",
   "execution_count": 36,
   "id": "fcad9a22-9836-4cdd-ae17-87283f16fcc7",
   "metadata": {},
   "outputs": [
    {
     "name": "stdout",
     "output_type": "stream",
     "text": [
      "1\n",
      "2\n",
      "3\n"
     ]
    }
   ],
   "source": [
    "for i in l :\n",
    "    if i == 4 :\n",
    "        break\n",
    "    print(i)\n",
    "else :\n",
    "    print(\"this will execute only if for is going to complete itself\")"
   ]
  },
  {
   "cell_type": "code",
   "execution_count": 37,
   "id": "d65e3321-8dad-46b1-a977-4e0bc403a7ed",
   "metadata": {},
   "outputs": [
    {
     "name": "stdout",
     "output_type": "stream",
     "text": [
      "1\n",
      "2\n",
      "3\n",
      "4\n",
      "sudh\n",
      "kumar\n",
      "45.56\n",
      "this will execute only if for is going to complete itself\n"
     ]
    }
   ],
   "source": [
    "for i in l :\n",
    "    if i == 4 :\n",
    "        pass\n",
    "    print(i)\n",
    "else :\n",
    "    print(\"this will execute only if for is going to complete itself\")"
   ]
  },
  {
   "cell_type": "code",
   "execution_count": 38,
   "id": "05e02a69-2175-4e03-8f63-d870f7801caf",
   "metadata": {},
   "outputs": [
    {
     "name": "stdout",
     "output_type": "stream",
     "text": [
      "1\n",
      "2\n",
      "3\n",
      "sudh\n",
      "kumar\n",
      "45.56\n",
      "this will execute only if for is going to complete itself\n"
     ]
    }
   ],
   "source": [
    "for i in l :\n",
    "    if i == 4 :\n",
    "        continue \n",
    "    print(i)\n",
    "else :\n",
    "    print(\"this will execute only if for is going to complete itself\")"
   ]
  },
  {
   "cell_type": "code",
   "execution_count": 39,
   "id": "dcb6e411-8f40-48ed-b698-117cc3d2da21",
   "metadata": {},
   "outputs": [
    {
     "name": "stdout",
     "output_type": "stream",
     "text": [
      "s\n",
      "u\n",
      "d\n",
      "h\n",
      "a\n"
     ]
    }
   ],
   "source": [
    "s = \"sudhanshu\"\n",
    "for i in s :\n",
    "    if i == 'n' :\n",
    "        break\n",
    "    print(i)\n",
    "else :\n",
    "    print(\"print srtring \" , s )"
   ]
  },
  {
   "cell_type": "code",
   "execution_count": 40,
   "id": "08aee80b-8e5b-40b5-9ebc-04aa6db0334f",
   "metadata": {},
   "outputs": [
    {
     "name": "stdout",
     "output_type": "stream",
     "text": [
      "4\n",
      "5\n",
      "6\n",
      "7\n",
      "8\n",
      "6\n",
      "sudh\n"
     ]
    }
   ],
   "source": [
    "t = (4,5,6,7,8,6,\"sudh\")\n",
    "\n",
    "for i in t :\n",
    "    print(i)"
   ]
  },
  {
   "cell_type": "code",
   "execution_count": 41,
   "id": "3bd28f8a-7cc7-4163-8451-a467f5350ea3",
   "metadata": {},
   "outputs": [
    {
     "name": "stdout",
     "output_type": "stream",
     "text": [
      "sudh\n",
      "4\n",
      "5\n",
      "6\n",
      "7\n",
      "8\n"
     ]
    }
   ],
   "source": [
    "b = {4,5,6,7,7,7,7,7,7,7,7, 8,\"sudh\"}\n",
    "for i in b:\n",
    "    print(i)"
   ]
  },
  {
   "cell_type": "code",
   "execution_count": 42,
   "id": "8d13cc69-be6d-407a-bdef-70adda54ea9b",
   "metadata": {},
   "outputs": [],
   "source": [
    "d = {'key1' :\"sudh\" , 'contact' : \"gmail\" , \"position\" : \"mentor\"}"
   ]
  },
  {
   "cell_type": "code",
   "execution_count": 43,
   "id": "c8ea6c25-4e41-472f-8f3f-ef94b90fded5",
   "metadata": {},
   "outputs": [
    {
     "name": "stdout",
     "output_type": "stream",
     "text": [
      "key1\n",
      "contact\n",
      "position\n"
     ]
    }
   ],
   "source": [
    "for i in d:\n",
    "    print(i)"
   ]
  },
  {
   "cell_type": "code",
   "execution_count": 44,
   "id": "a3d97d6b-d717-4094-a5c5-eda78592d629",
   "metadata": {},
   "outputs": [
    {
     "name": "stdout",
     "output_type": "stream",
     "text": [
      "sudh\n",
      "gmail\n",
      "mentor\n"
     ]
    }
   ],
   "source": [
    "for i in d.values():\n",
    "    print(i)"
   ]
  },
  {
   "cell_type": "code",
   "execution_count": 45,
   "id": "0f829c83-ee7a-4d90-841e-6b49b2c08fef",
   "metadata": {},
   "outputs": [
    {
     "name": "stdout",
     "output_type": "stream",
     "text": [
      "('key1', 'sudh')\n",
      "('contact', 'gmail')\n",
      "('position', 'mentor')\n"
     ]
    }
   ],
   "source": [
    "for i in d.items():\n",
    "    print(i)"
   ]
  },
  {
   "cell_type": "code",
   "execution_count": 51,
   "id": "b74585bb-7d92-4e86-aaa3-d5ffbc8d84f9",
   "metadata": {},
   "outputs": [
    {
     "name": "stdout",
     "output_type": "stream",
     "text": [
      "key1 : sudh\n",
      "contact : gmail\n",
      "position : mentor\n"
     ]
    }
   ],
   "source": [
    "for i,k in d.items():\n",
    "    print(i,\":\",k)"
   ]
  },
  {
   "cell_type": "code",
   "execution_count": 52,
   "id": "66c611dd-b478-4161-bf71-72568393f565",
   "metadata": {},
   "outputs": [
    {
     "data": {
      "text/plain": [
       "{'key1': 'sudh', 'contact': 'gmail', 'position': 'mentor'}"
      ]
     },
     "execution_count": 52,
     "metadata": {},
     "output_type": "execute_result"
    }
   ],
   "source": [
    "d"
   ]
  },
  {
   "cell_type": "code",
   "execution_count": 56,
   "id": "73cc7bdd-f7c4-4711-a72f-c14af536cec8",
   "metadata": {},
   "outputs": [
    {
     "name": "stdout",
     "output_type": "stream",
     "text": [
      "key1 : sudh\n",
      "contact : gmail\n",
      "position : mentor\n"
     ]
    }
   ],
   "source": [
    "for i in d :\n",
    "    print(i,\":\",d[i])"
   ]
  },
  {
   "cell_type": "code",
   "execution_count": 59,
   "id": "60715f25-e893-4aed-bd26-d8a833a39947",
   "metadata": {},
   "outputs": [
    {
     "name": "stdout",
     "output_type": "stream",
     "text": [
      "DA \n",
      "\n",
      "DA DA \n",
      "\n",
      "DA DA DA \n",
      "\n",
      "DA DA DA DA \n",
      "\n",
      "DA DA DA DA DA \n",
      "\n"
     ]
    }
   ],
   "source": [
    "n = 5\n",
    "for i in range(n) :\n",
    "    for j in range(0, i+1) : \n",
    "        print(\"DA\", end = \" \")\n",
    "    print(\"\\n\")"
   ]
  },
  {
   "cell_type": "code",
   "execution_count": 60,
   "id": "1ecee4a3-95f5-40ac-89be-7b9193926d9d",
   "metadata": {},
   "outputs": [
    {
     "name": "stdout",
     "output_type": "stream",
     "text": [
      "1 2 3 \n",
      "4 5 6 \n",
      "7 8 9 \n"
     ]
    }
   ],
   "source": [
    "# Nested loop: Iterate through rows and columns of a matrix\n",
    "matrix = [[1, 2, 3], [4, 5, 6], [7, 8, 9]]\n",
    "for row in matrix:\n",
    "    for element in row:\n",
    "        print(element, end=\" \")\n",
    "    print()  # Print a new line after each row\n"
   ]
  },
  {
   "cell_type": "code",
   "execution_count": 62,
   "id": "4c839fa0-25ed-4169-b798-897378b4c3d3",
   "metadata": {},
   "outputs": [
    {
     "name": "stdout",
     "output_type": "stream",
     "text": [
      "0  - apple\n",
      "1  - banana\n",
      "2  - cherry\n"
     ]
    }
   ],
   "source": [
    "# Iterate with index and value\n",
    "fruits = ['apple', 'banana', 'cherry']\n",
    "for i, j in enumerate(fruits):\n",
    "    print(i ,\" -\", j)\n"
   ]
  },
  {
   "cell_type": "code",
   "execution_count": 63,
   "id": "ddd81bfc-b3b7-48f7-83b7-82f06f2731a4",
   "metadata": {},
   "outputs": [
    {
     "data": {
      "text/plain": [
       "[0, 1, 4, 9, 16]"
      ]
     },
     "execution_count": 63,
     "metadata": {},
     "output_type": "execute_result"
    }
   ],
   "source": [
    "# Create a list of squares using list comprehension\n",
    "[x**2 for x in range(5)]"
   ]
  },
  {
   "cell_type": "code",
   "execution_count": 64,
   "id": "90e3ccc2-f2a0-47b6-aeb1-ec3c34664d25",
   "metadata": {},
   "outputs": [
    {
     "name": "stdout",
     "output_type": "stream",
     "text": [
      "Alice: 90\n",
      "Bob: 85\n",
      "Charlie: 88\n"
     ]
    }
   ],
   "source": [
    "# Iterate over two lists simultaneously\n",
    "names = ['Alice', 'Bob', 'Charlie']\n",
    "scores = [90, 85, 88]\n",
    "\n",
    "for i, k in zip(names, scores):\n",
    "    print(f\"{i}: {k}\")\n"
   ]
  },
  {
   "cell_type": "code",
   "execution_count": 65,
   "id": "5d4e4335-40bf-4c21-b33f-ab34a000ddc0",
   "metadata": {},
   "outputs": [
    {
     "name": "stdout",
     "output_type": "stream",
     "text": [
      "('Alice', 90)\n",
      "('Bob', 85)\n",
      "('Charlie', 88)\n"
     ]
    }
   ],
   "source": [
    "for i in zip(names, scores):\n",
    "    print(i)"
   ]
  },
  {
   "cell_type": "code",
   "execution_count": 66,
   "id": "8f37cbff-987a-4c86-a781-0ece51b7e917",
   "metadata": {},
   "outputs": [
    {
     "name": "stdout",
     "output_type": "stream",
     "text": [
      "0\n",
      "2\n",
      "4\n",
      "6\n",
      "8\n"
     ]
    }
   ],
   "source": [
    "# Print only even numbers from 0 to 9\n",
    "for i in range(10):\n",
    "    if i % 2 == 0:\n",
    "        print(i)   "
   ]
  },
  {
   "cell_type": "code",
   "execution_count": 67,
   "id": "ff31038c-f273-4447-a87f-19b63f68e56a",
   "metadata": {},
   "outputs": [
    {
     "name": "stdout",
     "output_type": "stream",
     "text": [
      "0\n",
      "3\n",
      "6\n",
      "9\n"
     ]
    }
   ],
   "source": [
    "for i in range(10):\n",
    "    if i % 3 == 0:\n",
    "        print(i)  "
   ]
  },
  {
   "cell_type": "code",
   "execution_count": 68,
   "id": "1d8ed7f4-5b3b-4e5d-8a39-9d3d487415eb",
   "metadata": {},
   "outputs": [
    {
     "name": "stdout",
     "output_type": "stream",
     "text": [
      "4\n",
      "3\n",
      "2\n",
      "1\n",
      "0\n"
     ]
    }
   ],
   "source": [
    "# Loop in reverse order\n",
    "for i in reversed(range(5)):\n",
    "    print(i)  \n"
   ]
  },
  {
   "cell_type": "code",
   "execution_count": 70,
   "id": "f05c5a22-cc6a-4814-98b6-29dbc69a7bfb",
   "metadata": {},
   "outputs": [
    {
     "name": "stdout",
     "output_type": "stream",
     "text": [
      "4\n",
      "2\n",
      "0\n"
     ]
    }
   ],
   "source": [
    "# Or using negative step in range()\n",
    "for i in range(4, -1, -2):\n",
    "    print(i) "
   ]
  },
  {
   "cell_type": "code",
   "execution_count": 71,
   "id": "5444ba72-5455-47de-9fe8-42c01fc84651",
   "metadata": {},
   "outputs": [
    {
     "name": "stdout",
     "output_type": "stream",
     "text": [
      "*\n",
      "**\n",
      "***\n",
      "****\n",
      "*****\n"
     ]
    }
   ],
   "source": [
    "n = 5  # Number of rows\n",
    "for i in range(1, n + 1):\n",
    "    print('*' * i)\n"
   ]
  },
  {
   "cell_type": "code",
   "execution_count": 74,
   "id": "d2bf1c64-2e9c-4600-8e79-5f303510ce56",
   "metadata": {},
   "outputs": [
    {
     "name": "stdout",
     "output_type": "stream",
     "text": [
      "DA \n",
      "\n",
      "DA DA \n",
      "\n",
      "DA DA DA \n",
      "\n",
      "DA DA DA DA \n",
      "\n",
      "DA DA DA DA DA \n",
      "\n"
     ]
    }
   ],
   "source": [
    "n = 5  # Number of rows\n",
    "for i in range(1, n + 1):\n",
    "    print('DA ' * i)\n",
    "    print()"
   ]
  },
  {
   "cell_type": "code",
   "execution_count": 75,
   "id": "2e8e9f03-be8f-4f98-9ef2-562e4053dc68",
   "metadata": {},
   "outputs": [
    {
     "name": "stdout",
     "output_type": "stream",
     "text": [
      "*****\n",
      "****\n",
      "***\n",
      "**\n",
      "*\n"
     ]
    }
   ],
   "source": [
    "n = 5  # Number of rows\n",
    "for i in range(n, 0, -1):\n",
    "    print('*' * i)\n"
   ]
  },
  {
   "cell_type": "code",
   "execution_count": 80,
   "id": "4195df5f-d4f0-4be8-b3d7-833e5d8a4018",
   "metadata": {},
   "outputs": [
    {
     "name": "stdout",
     "output_type": "stream",
     "text": [
      "    *\n",
      "   ***\n",
      "  *****\n",
      " *******\n",
      "*********\n",
      "***********\n"
     ]
    }
   ],
   "source": [
    "n = 5  # Number of rows\n",
    "for i in range(1, n+1):\n",
    "    print(' ' * (n - i) + '*' * (2 * i - 1))\n"
   ]
  },
  {
   "cell_type": "code",
   "execution_count": null,
   "id": "fc62ee40-1195-4432-8b71-26d5be52d928",
   "metadata": {},
   "outputs": [],
   "source": []
  }
 ],
 "metadata": {
  "kernelspec": {
   "display_name": "Python 3 (ipykernel)",
   "language": "python",
   "name": "python3"
  },
  "language_info": {
   "codemirror_mode": {
    "name": "ipython",
    "version": 3
   },
   "file_extension": ".py",
   "mimetype": "text/x-python",
   "name": "python",
   "nbconvert_exporter": "python",
   "pygments_lexer": "ipython3",
   "version": "3.11.7"
  }
 },
 "nbformat": 4,
 "nbformat_minor": 5
}
