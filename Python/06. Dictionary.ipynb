{
 "cells": [
  {
   "cell_type": "markdown",
   "id": "d0b02573-884c-411e-851e-b3f515212e88",
   "metadata": {},
   "source": [
    "### Dict "
   ]
  },
  {
   "cell_type": "code",
   "execution_count": 1,
   "id": "eca1ed11-358c-46da-b43d-9528ef8ad0ce",
   "metadata": {},
   "outputs": [
    {
     "data": {
      "text/plain": [
       "{}"
      ]
     },
     "execution_count": 1,
     "metadata": {},
     "output_type": "execute_result"
    }
   ],
   "source": [
    "{}"
   ]
  },
  {
   "cell_type": "code",
   "execution_count": 2,
   "id": "0a5d4019-c027-4be8-9168-14b706439244",
   "metadata": {},
   "outputs": [
    {
     "data": {
      "text/plain": [
       "dict"
      ]
     },
     "execution_count": 2,
     "metadata": {},
     "output_type": "execute_result"
    }
   ],
   "source": [
    "type({})"
   ]
  },
  {
   "cell_type": "code",
   "execution_count": 3,
   "id": "011535b6-4dbb-49f2-b706-9ab3fb0927fa",
   "metadata": {},
   "outputs": [],
   "source": [
    "empty_dict = {}\n",
    "# Dictionary with data values\n",
    "\n",
    "dct = {'key1':'value1', 'key2':'value2', 'key3':'value3', 'key4':'value4'}"
   ]
  },
  {
   "cell_type": "code",
   "execution_count": 4,
   "id": "daf6eb07-0b8a-4f76-a1b7-1d78c4c8d3e3",
   "metadata": {},
   "outputs": [
    {
     "data": {
      "text/plain": [
       "{'key1': 'value1', 'key2': 'value2', 'key3': 'value3', 'key4': 'value4'}"
      ]
     },
     "execution_count": 4,
     "metadata": {},
     "output_type": "execute_result"
    }
   ],
   "source": [
    "dct"
   ]
  },
  {
   "cell_type": "code",
   "execution_count": 5,
   "id": "fffea756-1bbf-43cf-a769-54868d4011f0",
   "metadata": {},
   "outputs": [],
   "source": [
    "person = {\n",
    "    'first_name':'Asabeneh',\n",
    "    'last_name':'Yetayeh',\n",
    "    'age':250,\n",
    "    'country':'Finland',\n",
    "    'is_marred':True,\n",
    "    'skills':['JavaScript', 'React', 'Node', 'MongoDB', 'Python'],\n",
    "    'address':{\n",
    "        'street':'Space street',\n",
    "        'zipcode':'02210'\n",
    "    }\n",
    "    }"
   ]
  },
  {
   "cell_type": "code",
   "execution_count": 6,
   "id": "2ee7a8a7-644b-47de-9aca-b9348f1baf98",
   "metadata": {},
   "outputs": [
    {
     "data": {
      "text/plain": [
       "{'first_name': 'Asabeneh',\n",
       " 'last_name': 'Yetayeh',\n",
       " 'age': 250,\n",
       " 'country': 'Finland',\n",
       " 'is_marred': True,\n",
       " 'skills': ['JavaScript', 'React', 'Node', 'MongoDB', 'Python'],\n",
       " 'address': {'street': 'Space street', 'zipcode': '02210'}}"
      ]
     },
     "execution_count": 6,
     "metadata": {},
     "output_type": "execute_result"
    }
   ],
   "source": [
    "person"
   ]
  },
  {
   "cell_type": "code",
   "execution_count": 8,
   "id": "0063ea64-7363-4360-8dc1-0c1dc7a9ee90",
   "metadata": {},
   "outputs": [
    {
     "name": "stdout",
     "output_type": "stream",
     "text": [
      "4\n"
     ]
    }
   ],
   "source": [
    "dct = {'key1':'value1', 'key2':'value2', 'key3':'value3', 'key4':'value4'}\n",
    "print(len(dct)) "
   ]
  },
  {
   "cell_type": "code",
   "execution_count": 9,
   "id": "2e159b1f-919e-47ad-b556-17d6d349b110",
   "metadata": {},
   "outputs": [
    {
     "data": {
      "text/plain": [
       "7"
      ]
     },
     "execution_count": 9,
     "metadata": {},
     "output_type": "execute_result"
    }
   ],
   "source": [
    "len(person)"
   ]
  },
  {
   "cell_type": "markdown",
   "id": "de6ac689-2dcb-4dd0-a3e6-6ae02dbbc1c0",
   "metadata": {},
   "source": [
    "### indexing"
   ]
  },
  {
   "cell_type": "code",
   "execution_count": 10,
   "id": "0c9e2ae6-56d5-40ef-a0fe-a406f839626d",
   "metadata": {},
   "outputs": [
    {
     "data": {
      "text/plain": [
       "{'key1': 'value1', 'key2': 'value2', 'key3': 'value3', 'key4': 'value4'}"
      ]
     },
     "execution_count": 10,
     "metadata": {},
     "output_type": "execute_result"
    }
   ],
   "source": [
    "dct"
   ]
  },
  {
   "cell_type": "code",
   "execution_count": 11,
   "id": "5fd34266-9952-4b97-a8a4-44e2df52c181",
   "metadata": {},
   "outputs": [
    {
     "ename": "KeyError",
     "evalue": "2",
     "output_type": "error",
     "traceback": [
      "\u001b[1;31m---------------------------------------------------------------------------\u001b[0m",
      "\u001b[1;31mKeyError\u001b[0m                                  Traceback (most recent call last)",
      "Cell \u001b[1;32mIn[11], line 1\u001b[0m\n\u001b[1;32m----> 1\u001b[0m dct[\u001b[38;5;241m2\u001b[39m]\n",
      "\u001b[1;31mKeyError\u001b[0m: 2"
     ]
    }
   ],
   "source": [
    "dct[2]"
   ]
  },
  {
   "cell_type": "code",
   "execution_count": 12,
   "id": "c162cbb5-73bf-4bb8-b61d-804482001752",
   "metadata": {},
   "outputs": [
    {
     "data": {
      "text/plain": [
       "'value2'"
      ]
     },
     "execution_count": 12,
     "metadata": {},
     "output_type": "execute_result"
    }
   ],
   "source": [
    "dct[\"key2\"]"
   ]
  },
  {
   "cell_type": "code",
   "execution_count": 14,
   "id": "1c0577c4-2237-4223-b764-88e43334a6fa",
   "metadata": {},
   "outputs": [
    {
     "data": {
      "text/plain": [
       "'MongoDB'"
      ]
     },
     "execution_count": 14,
     "metadata": {},
     "output_type": "execute_result"
    }
   ],
   "source": [
    "person[\"skills\"][3]"
   ]
  },
  {
   "cell_type": "code",
   "execution_count": 16,
   "id": "0d9ccc91-2214-4d61-9ef4-7fc7ec5fd3a1",
   "metadata": {},
   "outputs": [
    {
     "data": {
      "text/plain": [
       "'MongoDB'"
      ]
     },
     "execution_count": 16,
     "metadata": {},
     "output_type": "execute_result"
    }
   ],
   "source": [
    "person[\"skills\"][3] "
   ]
  },
  {
   "cell_type": "code",
   "execution_count": 26,
   "id": "33f6dd70-37a3-4d7a-a8e8-3b94e2fd6bb1",
   "metadata": {},
   "outputs": [],
   "source": [
    "person1 = {\n",
    "    'first_name':'Asabeneh',\n",
    "    'last_name':'Yetayeh',\n",
    "    'age':250,\n",
    "    'country':'Finland',\n",
    "    'is_marred':True,\n",
    "    'skills':['JavaScript', 'React', 'Node', [{\"database\": (\"SQL\", \"Nosql\")}, 67, 99], 'Python'],\n",
    "    'address':{\n",
    "        'street':'Space street',\n",
    "        'zipcode':'02210'\n",
    "    }\n",
    "    }"
   ]
  },
  {
   "cell_type": "code",
   "execution_count": 27,
   "id": "f5d72af2-3274-49aa-80ba-6d6f6f910e32",
   "metadata": {},
   "outputs": [
    {
     "data": {
      "text/plain": [
       "'SQL'"
      ]
     },
     "execution_count": 27,
     "metadata": {},
     "output_type": "execute_result"
    }
   ],
   "source": [
    "person1[\"skills\"][3][0][\"database\"][0]"
   ]
  },
  {
   "cell_type": "code",
   "execution_count": 28,
   "id": "61064897-2908-44d7-b67d-87a6b3633553",
   "metadata": {},
   "outputs": [],
   "source": [
    "dct1 = {\"q1\" : (\"jan\", \"feb\", \"march\"), \"q2\":[\"april\", \"may\", \"june\"], \"q3\" : {\"july\", \"aug\", \"sept\"}, \"q4\": {\"oct\" :31, \"nov\":30, \"dec\":31}}"
   ]
  },
  {
   "cell_type": "code",
   "execution_count": 29,
   "id": "f7c1a641-b97c-4c06-8820-85b3881c11b1",
   "metadata": {},
   "outputs": [
    {
     "data": {
      "text/plain": [
       "{'q1': ('jan', 'feb', 'march'),\n",
       " 'q2': ['april', 'may', 'june'],\n",
       " 'q3': {'aug', 'july', 'sept'},\n",
       " 'q4': {'oct': 31, 'nov': 30, 'dec': 31}}"
      ]
     },
     "execution_count": 29,
     "metadata": {},
     "output_type": "execute_result"
    }
   ],
   "source": [
    "dct1"
   ]
  },
  {
   "cell_type": "code",
   "execution_count": 30,
   "id": "9066ba39-dad9-486e-bb28-a508eafb46d6",
   "metadata": {},
   "outputs": [],
   "source": [
    "dct2 = { (\"jan\", \"feb\", \"march\") :\"q1\"  }"
   ]
  },
  {
   "cell_type": "code",
   "execution_count": 31,
   "id": "9998dc89-73a6-45b9-8e8d-c861accb60a5",
   "metadata": {},
   "outputs": [
    {
     "ename": "TypeError",
     "evalue": "unhashable type: 'list'",
     "output_type": "error",
     "traceback": [
      "\u001b[1;31m---------------------------------------------------------------------------\u001b[0m",
      "\u001b[1;31mTypeError\u001b[0m                                 Traceback (most recent call last)",
      "Cell \u001b[1;32mIn[31], line 1\u001b[0m\n\u001b[1;32m----> 1\u001b[0m dct3 \u001b[38;5;241m=\u001b[39m {[\u001b[38;5;124m\"\u001b[39m\u001b[38;5;124mapril\u001b[39m\u001b[38;5;124m\"\u001b[39m, \u001b[38;5;124m\"\u001b[39m\u001b[38;5;124mmay\u001b[39m\u001b[38;5;124m\"\u001b[39m, \u001b[38;5;124m\"\u001b[39m\u001b[38;5;124mjune\u001b[39m\u001b[38;5;124m\"\u001b[39m]:\u001b[38;5;124m\"\u001b[39m\u001b[38;5;124mq2\u001b[39m\u001b[38;5;124m\"\u001b[39m}\n",
      "\u001b[1;31mTypeError\u001b[0m: unhashable type: 'list'"
     ]
    }
   ],
   "source": [
    "dct3 = {[\"april\", \"may\", \"june\"]:\"q2\"}"
   ]
  },
  {
   "cell_type": "code",
   "execution_count": 32,
   "id": "368e9cf0-74ec-41d5-9f13-d73eaea28211",
   "metadata": {},
   "outputs": [
    {
     "ename": "TypeError",
     "evalue": "unhashable type: 'set'",
     "output_type": "error",
     "traceback": [
      "\u001b[1;31m---------------------------------------------------------------------------\u001b[0m",
      "\u001b[1;31mTypeError\u001b[0m                                 Traceback (most recent call last)",
      "Cell \u001b[1;32mIn[32], line 1\u001b[0m\n\u001b[1;32m----> 1\u001b[0m dct4 \u001b[38;5;241m=\u001b[39m {{\u001b[38;5;124m\"\u001b[39m\u001b[38;5;124mjuly\u001b[39m\u001b[38;5;124m\"\u001b[39m, \u001b[38;5;124m\"\u001b[39m\u001b[38;5;124maug\u001b[39m\u001b[38;5;124m\"\u001b[39m, \u001b[38;5;124m\"\u001b[39m\u001b[38;5;124msept\u001b[39m\u001b[38;5;124m\"\u001b[39m}: \u001b[38;5;124m\"\u001b[39m\u001b[38;5;124mq3\u001b[39m\u001b[38;5;124m\"\u001b[39m}\n",
      "\u001b[1;31mTypeError\u001b[0m: unhashable type: 'set'"
     ]
    }
   ],
   "source": [
    "dct4 = {{\"july\", \"aug\", \"sept\"}: \"q3\"}"
   ]
  },
  {
   "cell_type": "code",
   "execution_count": 33,
   "id": "bbdc48fb-0a9c-43a3-9e6c-a61dcfa7d500",
   "metadata": {},
   "outputs": [
    {
     "ename": "TypeError",
     "evalue": "unhashable type: 'dict'",
     "output_type": "error",
     "traceback": [
      "\u001b[1;31m---------------------------------------------------------------------------\u001b[0m",
      "\u001b[1;31mTypeError\u001b[0m                                 Traceback (most recent call last)",
      "Cell \u001b[1;32mIn[33], line 1\u001b[0m\n\u001b[1;32m----> 1\u001b[0m dct5 \u001b[38;5;241m=\u001b[39m {{\u001b[38;5;124m'\u001b[39m\u001b[38;5;124moct\u001b[39m\u001b[38;5;124m'\u001b[39m: \u001b[38;5;241m31\u001b[39m, \u001b[38;5;124m'\u001b[39m\u001b[38;5;124mnov\u001b[39m\u001b[38;5;124m'\u001b[39m: \u001b[38;5;241m30\u001b[39m, \u001b[38;5;124m'\u001b[39m\u001b[38;5;124mdec\u001b[39m\u001b[38;5;124m'\u001b[39m: \u001b[38;5;241m31\u001b[39m}:\u001b[38;5;124m\"\u001b[39m\u001b[38;5;124mq4\u001b[39m\u001b[38;5;124m\"\u001b[39m}\n",
      "\u001b[1;31mTypeError\u001b[0m: unhashable type: 'dict'"
     ]
    }
   ],
   "source": [
    "dct5 = {{'oct': 31, 'nov': 30, 'dec': 31}:\"q4\"}"
   ]
  },
  {
   "cell_type": "code",
   "execution_count": 34,
   "id": "1b5cd257-8e77-433a-84c8-1110692550d0",
   "metadata": {},
   "outputs": [
    {
     "data": {
      "text/plain": [
       "['__class__',\n",
       " '__class_getitem__',\n",
       " '__contains__',\n",
       " '__delattr__',\n",
       " '__delitem__',\n",
       " '__dir__',\n",
       " '__doc__',\n",
       " '__eq__',\n",
       " '__format__',\n",
       " '__ge__',\n",
       " '__getattribute__',\n",
       " '__getitem__',\n",
       " '__getstate__',\n",
       " '__gt__',\n",
       " '__hash__',\n",
       " '__init__',\n",
       " '__init_subclass__',\n",
       " '__ior__',\n",
       " '__iter__',\n",
       " '__le__',\n",
       " '__len__',\n",
       " '__lt__',\n",
       " '__ne__',\n",
       " '__new__',\n",
       " '__or__',\n",
       " '__reduce__',\n",
       " '__reduce_ex__',\n",
       " '__repr__',\n",
       " '__reversed__',\n",
       " '__ror__',\n",
       " '__setattr__',\n",
       " '__setitem__',\n",
       " '__sizeof__',\n",
       " '__str__',\n",
       " '__subclasshook__',\n",
       " 'clear',\n",
       " 'copy',\n",
       " 'fromkeys',\n",
       " 'get',\n",
       " 'items',\n",
       " 'keys',\n",
       " 'pop',\n",
       " 'popitem',\n",
       " 'setdefault',\n",
       " 'update',\n",
       " 'values']"
      ]
     },
     "execution_count": 34,
     "metadata": {},
     "output_type": "execute_result"
    }
   ],
   "source": [
    "dir(dct)"
   ]
  },
  {
   "cell_type": "code",
   "execution_count": 38,
   "id": "6848f942-ec7c-40be-bb11-1e214f2c6cfd",
   "metadata": {},
   "outputs": [
    {
     "data": {
      "text/plain": [
       "dict_keys(['q1', 'q2', 'q3', 'q4'])"
      ]
     },
     "execution_count": 38,
     "metadata": {},
     "output_type": "execute_result"
    }
   ],
   "source": [
    "dct1.keys()"
   ]
  },
  {
   "cell_type": "code",
   "execution_count": 39,
   "id": "9116a451-0d20-42db-b6c2-43979a37d605",
   "metadata": {},
   "outputs": [
    {
     "data": {
      "text/plain": [
       "dict_values([('jan', 'feb', 'march'), ['april', 'may', 'june'], {'aug', 'sept', 'july'}, {'oct': 31, 'nov': 30, 'dec': 31}])"
      ]
     },
     "execution_count": 39,
     "metadata": {},
     "output_type": "execute_result"
    }
   ],
   "source": [
    "dct1.values()"
   ]
  },
  {
   "cell_type": "code",
   "execution_count": 40,
   "id": "830d5c2d-6848-4ae0-a71d-af07842d9baa",
   "metadata": {},
   "outputs": [
    {
     "data": {
      "text/plain": [
       "dict_items([('q1', ('jan', 'feb', 'march')), ('q2', ['april', 'may', 'june']), ('q3', {'aug', 'sept', 'july'}), ('q4', {'oct': 31, 'nov': 30, 'dec': 31})])"
      ]
     },
     "execution_count": 40,
     "metadata": {},
     "output_type": "execute_result"
    }
   ],
   "source": [
    "dct1.items()"
   ]
  },
  {
   "cell_type": "code",
   "execution_count": 41,
   "id": "b6a0c8e5-ec7d-4e76-bb96-05298a600173",
   "metadata": {},
   "outputs": [
    {
     "data": {
      "text/plain": [
       "dict_items([('key1', 'value1'), ('key2', 'value2'), ('key3', 'value3'), ('key4', 'value4')])"
      ]
     },
     "execution_count": 41,
     "metadata": {},
     "output_type": "execute_result"
    }
   ],
   "source": [
    "dct.items()"
   ]
  },
  {
   "cell_type": "code",
   "execution_count": null,
   "id": "a90591f8-94f5-4713-a6b0-dcf39662ecb7",
   "metadata": {},
   "outputs": [],
   "source": [
    "dct.clear()"
   ]
  },
  {
   "cell_type": "code",
   "execution_count": null,
   "id": "9370e0d1-e481-45fd-9d58-a4b91474ec5f",
   "metadata": {},
   "outputs": [],
   "source": [
    "dct.copy()"
   ]
  },
  {
   "cell_type": "code",
   "execution_count": 43,
   "id": "55e318e0-6d0a-4d9e-8fef-c544f9f89f5b",
   "metadata": {},
   "outputs": [
    {
     "data": {
      "text/plain": [
       "{'oct': 31, 'nov': 30, 'dec': 31}"
      ]
     },
     "execution_count": 43,
     "metadata": {},
     "output_type": "execute_result"
    }
   ],
   "source": [
    "dct1.pop(\"q4\")"
   ]
  },
  {
   "cell_type": "code",
   "execution_count": 44,
   "id": "d4a3464b-f107-46cc-83d8-773cd08dd4c4",
   "metadata": {},
   "outputs": [
    {
     "data": {
      "text/plain": [
       "{'q1': ('jan', 'feb', 'march'),\n",
       " 'q2': ['april', 'may', 'june'],\n",
       " 'q3': {'aug', 'july', 'sept'}}"
      ]
     },
     "execution_count": 44,
     "metadata": {},
     "output_type": "execute_result"
    }
   ],
   "source": [
    "dct1"
   ]
  },
  {
   "cell_type": "code",
   "execution_count": 50,
   "id": "da75d355-d705-4f91-89d0-513fb5a158ea",
   "metadata": {},
   "outputs": [
    {
     "data": {
      "text/plain": [
       "('q1', ('jan', 'feb', 'march'))"
      ]
     },
     "execution_count": 50,
     "metadata": {},
     "output_type": "execute_result"
    }
   ],
   "source": [
    "dct1.popitem()"
   ]
  },
  {
   "cell_type": "code",
   "execution_count": 51,
   "id": "9f8e5152-5c83-4512-be5d-499be670f226",
   "metadata": {},
   "outputs": [
    {
     "data": {
      "text/plain": [
       "{}"
      ]
     },
     "execution_count": 51,
     "metadata": {},
     "output_type": "execute_result"
    }
   ],
   "source": [
    "dct1"
   ]
  },
  {
   "cell_type": "code",
   "execution_count": 56,
   "id": "c0cedd89-9490-42a2-9270-b00c4d101b37",
   "metadata": {},
   "outputs": [],
   "source": [
    "dct[\"key4\"] = \"value5\""
   ]
  },
  {
   "cell_type": "code",
   "execution_count": 58,
   "id": "4a6fd10c-81a6-49e6-b389-2c82b2ed96b6",
   "metadata": {},
   "outputs": [],
   "source": [
    "dct.update()"
   ]
  },
  {
   "cell_type": "code",
   "execution_count": 60,
   "id": "362fcc99-bab0-4805-b267-e8dc6d8eaeaf",
   "metadata": {},
   "outputs": [
    {
     "ename": "KeyError",
     "evalue": "'key5'",
     "output_type": "error",
     "traceback": [
      "\u001b[1;31m---------------------------------------------------------------------------\u001b[0m",
      "\u001b[1;31mKeyError\u001b[0m                                  Traceback (most recent call last)",
      "Cell \u001b[1;32mIn[60], line 1\u001b[0m\n\u001b[1;32m----> 1\u001b[0m dct[\u001b[38;5;124m\"\u001b[39m\u001b[38;5;124mkey5\u001b[39m\u001b[38;5;124m\"\u001b[39m]\n",
      "\u001b[1;31mKeyError\u001b[0m: 'key5'"
     ]
    }
   ],
   "source": [
    "dct[\"key5\"]"
   ]
  },
  {
   "cell_type": "code",
   "execution_count": 67,
   "id": "be5614cc-fdce-46a7-b90f-af27f5412573",
   "metadata": {},
   "outputs": [
    {
     "data": {
      "text/plain": [
       "<function dict.update>"
      ]
     },
     "execution_count": 67,
     "metadata": {},
     "output_type": "execute_result"
    }
   ],
   "source": [
    "dct.update"
   ]
  },
  {
   "cell_type": "code",
   "execution_count": 68,
   "id": "b97fee21-76d0-4479-8087-a94b019dbac7",
   "metadata": {},
   "outputs": [
    {
     "data": {
      "text/plain": [
       "{'key1': 'value1', 'key2': 'value2', 'key3': 'value3', 'key4': 'value5'}"
      ]
     },
     "execution_count": 68,
     "metadata": {},
     "output_type": "execute_result"
    }
   ],
   "source": [
    "dct"
   ]
  },
  {
   "cell_type": "code",
   "execution_count": 69,
   "id": "b9614991-2b8c-48cc-a74a-eca623589c60",
   "metadata": {},
   "outputs": [],
   "source": [
    "# Original dictionary\n",
    "original_dict = {'a': 1, 'b': 2}\n",
    "\n",
    "# Dictionary to update with\n",
    "new_dict = {'b': 3, 'c': 4}\n"
   ]
  },
  {
   "cell_type": "code",
   "execution_count": 70,
   "id": "a73c92db-2804-4d0f-99ca-cc95f4d8bb36",
   "metadata": {},
   "outputs": [
    {
     "data": {
      "text/plain": [
       "{'a': 1, 'b': 2}"
      ]
     },
     "execution_count": 70,
     "metadata": {},
     "output_type": "execute_result"
    }
   ],
   "source": [
    "original_dict"
   ]
  },
  {
   "cell_type": "code",
   "execution_count": 71,
   "id": "2658eea6-7fa8-40de-96c0-2aa9dc3bbc43",
   "metadata": {},
   "outputs": [
    {
     "data": {
      "text/plain": [
       "{'b': 3, 'c': 4}"
      ]
     },
     "execution_count": 71,
     "metadata": {},
     "output_type": "execute_result"
    }
   ],
   "source": [
    "new_dict"
   ]
  },
  {
   "cell_type": "code",
   "execution_count": 72,
   "id": "05688fa4-6fb7-49be-bed6-5a4c43c5004b",
   "metadata": {},
   "outputs": [],
   "source": [
    "original_dict.update(new_dict)"
   ]
  },
  {
   "cell_type": "code",
   "execution_count": 73,
   "id": "18d1112d-48a5-4694-8c5e-b145694fba1a",
   "metadata": {},
   "outputs": [
    {
     "data": {
      "text/plain": [
       "{'a': 1, 'b': 3, 'c': 4}"
      ]
     },
     "execution_count": 73,
     "metadata": {},
     "output_type": "execute_result"
    }
   ],
   "source": [
    "original_dict"
   ]
  },
  {
   "cell_type": "code",
   "execution_count": 74,
   "id": "6b73c9d0-6eff-462f-b1cc-1ba009705476",
   "metadata": {},
   "outputs": [],
   "source": [
    "sample_dict = {'a': 1, 'b': 2, 'c': 3}"
   ]
  },
  {
   "cell_type": "code",
   "execution_count": 77,
   "id": "082b2a16-febf-4923-bfe6-89e55efdee26",
   "metadata": {},
   "outputs": [],
   "source": [
    "value_a = sample_dict.get('A')  \n",
    "value_a"
   ]
  },
  {
   "cell_type": "code",
   "execution_count": 78,
   "id": "a326d533-7a73-45a2-8ef0-477005575cf9",
   "metadata": {},
   "outputs": [
    {
     "ename": "KeyError",
     "evalue": "'A'",
     "output_type": "error",
     "traceback": [
      "\u001b[1;31m---------------------------------------------------------------------------\u001b[0m",
      "\u001b[1;31mKeyError\u001b[0m                                  Traceback (most recent call last)",
      "Cell \u001b[1;32mIn[78], line 1\u001b[0m\n\u001b[1;32m----> 1\u001b[0m sample_dict[\u001b[38;5;124m\"\u001b[39m\u001b[38;5;124mA\u001b[39m\u001b[38;5;124m\"\u001b[39m]\n",
      "\u001b[1;31mKeyError\u001b[0m: 'A'"
     ]
    }
   ],
   "source": [
    "sample_dict[\"A\"]"
   ]
  },
  {
   "cell_type": "code",
   "execution_count": 81,
   "id": "215dc1c2-d5c9-4b74-8ec9-5032d4ac59db",
   "metadata": {},
   "outputs": [],
   "source": [
    "sample_dict = {'a': 1, 'b': 2}"
   ]
  },
  {
   "cell_type": "code",
   "execution_count": 82,
   "id": "c0ba411e-764a-48ce-86c4-80f0d304dc56",
   "metadata": {},
   "outputs": [
    {
     "data": {
      "text/plain": [
       "1"
      ]
     },
     "execution_count": 82,
     "metadata": {},
     "output_type": "execute_result"
    }
   ],
   "source": [
    "value_a = sample_dict.setdefault('a', 100) \n",
    "value_a"
   ]
  },
  {
   "cell_type": "code",
   "execution_count": 85,
   "id": "4b6ddea0-cf94-4738-b7f5-6966f5dde270",
   "metadata": {},
   "outputs": [
    {
     "ename": "TypeError",
     "evalue": "'int' object is not subscriptable",
     "output_type": "error",
     "traceback": [
      "\u001b[1;31m---------------------------------------------------------------------------\u001b[0m",
      "\u001b[1;31mTypeError\u001b[0m                                 Traceback (most recent call last)",
      "Cell \u001b[1;32mIn[85], line 1\u001b[0m\n\u001b[1;32m----> 1\u001b[0m value_a[\u001b[38;5;241m100\u001b[39m]\n",
      "\u001b[1;31mTypeError\u001b[0m: 'int' object is not subscriptable"
     ]
    }
   ],
   "source": [
    "value_a[100]"
   ]
  },
  {
   "cell_type": "code",
   "execution_count": 92,
   "id": "2a3bed96-df80-4999-87f1-e74ec10b9356",
   "metadata": {},
   "outputs": [],
   "source": [
    "sample_dict.setdefault(\"e\")"
   ]
  },
  {
   "cell_type": "code",
   "execution_count": 88,
   "id": "0be4d8be-a52b-4d5f-bd23-10c757aabf73",
   "metadata": {},
   "outputs": [
    {
     "data": {
      "text/plain": [
       "{'a': 1, 'b': 2, 'c': None}"
      ]
     },
     "execution_count": 88,
     "metadata": {},
     "output_type": "execute_result"
    }
   ],
   "source": [
    "sample_dict"
   ]
  },
  {
   "cell_type": "code",
   "execution_count": 89,
   "id": "6217474e-a039-4b8b-b75d-4e3362c1f02c",
   "metadata": {},
   "outputs": [],
   "source": [
    "sample_dict[\"c\"] = 3"
   ]
  },
  {
   "cell_type": "code",
   "execution_count": 90,
   "id": "439856e9-79ee-4368-ae2d-a982c6ddf261",
   "metadata": {},
   "outputs": [
    {
     "data": {
      "text/plain": [
       "{'a': 1, 'b': 2, 'c': 3}"
      ]
     },
     "execution_count": 90,
     "metadata": {},
     "output_type": "execute_result"
    }
   ],
   "source": [
    "sample_dict"
   ]
  },
  {
   "cell_type": "code",
   "execution_count": 93,
   "id": "ad00908e-39d1-4416-9246-f2a9f3081592",
   "metadata": {},
   "outputs": [
    {
     "data": {
      "text/plain": [
       "{'a': 1, 'b': 2, 'c': 3, 'd': None, 'e': None}"
      ]
     },
     "execution_count": 93,
     "metadata": {},
     "output_type": "execute_result"
    }
   ],
   "source": [
    "sample_dict"
   ]
  },
  {
   "cell_type": "code",
   "execution_count": 94,
   "id": "63e1df3b-9f9e-4ba0-92dc-07c6637c8355",
   "metadata": {},
   "outputs": [],
   "source": [
    "keys = ['a', 'b', 'c']"
   ]
  },
  {
   "cell_type": "code",
   "execution_count": 96,
   "id": "92e45c45-8b7e-4ce1-9fff-6c059f26b8e3",
   "metadata": {},
   "outputs": [
    {
     "data": {
      "text/plain": [
       "{'a': 1, 'b': 1, 'c': 1}"
      ]
     },
     "execution_count": 96,
     "metadata": {},
     "output_type": "execute_result"
    }
   ],
   "source": [
    " dict.fromkeys(keys, 1)"
   ]
  },
  {
   "cell_type": "code",
   "execution_count": 99,
   "id": "5a61cade-f4d2-4d70-bec0-c6d3548670a3",
   "metadata": {},
   "outputs": [
    {
     "data": {
      "text/plain": [
       "{'a': 11}"
      ]
     },
     "execution_count": 99,
     "metadata": {},
     "output_type": "execute_result"
    }
   ],
   "source": [
    "dict.fromkeys(\"a\", 11)"
   ]
  },
  {
   "cell_type": "code",
   "execution_count": 100,
   "id": "9b390e48-30f1-46a3-af02-ae1090337c26",
   "metadata": {},
   "outputs": [
    {
     "data": {
      "text/plain": [
       "{1: ['a', 'b', 'c'], 2: ['a', 'b', 'c'], 3: ['a', 'b', 'c']}"
      ]
     },
     "execution_count": 100,
     "metadata": {},
     "output_type": "execute_result"
    }
   ],
   "source": [
    "dict.fromkeys([1,2,3],[\"a\", \"b\", \"c\"])"
   ]
  },
  {
   "cell_type": "code",
   "execution_count": 102,
   "id": "3f7e5bc7-3abe-4388-9fe1-735c85029a3f",
   "metadata": {},
   "outputs": [
    {
     "data": {
      "text/plain": [
       "{'k': None, 'e': None, 's': None, 'y': None}"
      ]
     },
     "execution_count": 102,
     "metadata": {},
     "output_type": "execute_result"
    }
   ],
   "source": [
    "dict.fromkeys(\"kesy\")"
   ]
  },
  {
   "cell_type": "code",
   "execution_count": 104,
   "id": "a3a6a22c-a36b-4742-b6b7-4a5a89d90cd7",
   "metadata": {},
   "outputs": [
    {
     "data": {
      "text/plain": [
       "{3: None}"
      ]
     },
     "execution_count": 104,
     "metadata": {},
     "output_type": "execute_result"
    }
   ],
   "source": [
    "dict.fromkeys([3])"
   ]
  },
  {
   "cell_type": "code",
   "execution_count": 105,
   "id": "bee568a2-8c12-4521-97a1-797624ffb3c1",
   "metadata": {},
   "outputs": [
    {
     "ename": "AttributeError",
     "evalue": "type object 'dict' has no attribute 'popitems'",
     "output_type": "error",
     "traceback": [
      "\u001b[1;31m---------------------------------------------------------------------------\u001b[0m",
      "\u001b[1;31mAttributeError\u001b[0m                            Traceback (most recent call last)",
      "Cell \u001b[1;32mIn[105], line 1\u001b[0m\n\u001b[1;32m----> 1\u001b[0m \u001b[38;5;28mdict\u001b[39m\u001b[38;5;241m.\u001b[39mpopitems\n",
      "\u001b[1;31mAttributeError\u001b[0m: type object 'dict' has no attribute 'popitems'"
     ]
    }
   ],
   "source": [
    "dict.popitem"
   ]
  },
  {
   "cell_type": "code",
   "execution_count": 106,
   "id": "579befad-8995-4963-adcb-0b4f1ca70a25",
   "metadata": {},
   "outputs": [],
   "source": [
    "dc = {1 : \"a\", 2 : \"b\"}"
   ]
  },
  {
   "cell_type": "code",
   "execution_count": 107,
   "id": "b81cda99-e378-4ff1-b697-66b2bd38a92e",
   "metadata": {},
   "outputs": [],
   "source": [
    "dc[3] = \"c\""
   ]
  },
  {
   "cell_type": "code",
   "execution_count": 111,
   "id": "d1ec0206-588a-485a-9d55-e31f47f1227a",
   "metadata": {},
   "outputs": [
    {
     "data": {
      "text/plain": [
       "(1, 'a')"
      ]
     },
     "execution_count": 111,
     "metadata": {},
     "output_type": "execute_result"
    }
   ],
   "source": [
    "dc.popitem()"
   ]
  },
  {
   "cell_type": "code",
   "execution_count": 112,
   "id": "f182f3ba-aa12-4771-9a3b-7f81ce961dd3",
   "metadata": {},
   "outputs": [
    {
     "data": {
      "text/plain": [
       "{'a': None, 'b': None, 'c': None}"
      ]
     },
     "execution_count": 112,
     "metadata": {},
     "output_type": "execute_result"
    }
   ],
   "source": [
    "dc.fromkeys(\"abc\")"
   ]
  },
  {
   "cell_type": "code",
   "execution_count": 113,
   "id": "40844bf9-a307-4cbb-8253-947d2d2aa495",
   "metadata": {},
   "outputs": [],
   "source": [
    "dc[\"c\"] = 3"
   ]
  },
  {
   "cell_type": "code",
   "execution_count": 114,
   "id": "a8c0194b-628a-4a59-9c64-55ca35432756",
   "metadata": {},
   "outputs": [],
   "source": [
    "dc[\"a\"] = 1"
   ]
  },
  {
   "cell_type": "code",
   "execution_count": 117,
   "id": "357a63ed-a224-4dcb-84fa-d083f5d1f6e0",
   "metadata": {},
   "outputs": [
    {
     "data": {
      "text/plain": [
       "('a', 1)"
      ]
     },
     "execution_count": 117,
     "metadata": {},
     "output_type": "execute_result"
    }
   ],
   "source": [
    "dc.popitem()"
   ]
  },
  {
   "cell_type": "code",
   "execution_count": 118,
   "id": "24d8addd-1be9-455d-84c2-1ed443ef9e66",
   "metadata": {},
   "outputs": [],
   "source": [
    "s = \"python\""
   ]
  },
  {
   "cell_type": "code",
   "execution_count": 120,
   "id": "b26fd450-754f-4f01-a67c-c9e6f5151a57",
   "metadata": {},
   "outputs": [
    {
     "ename": "TypeError",
     "evalue": "'str' object does not support item assignment",
     "output_type": "error",
     "traceback": [
      "\u001b[1;31m---------------------------------------------------------------------------\u001b[0m",
      "\u001b[1;31mTypeError\u001b[0m                                 Traceback (most recent call last)",
      "Cell \u001b[1;32mIn[120], line 1\u001b[0m\n\u001b[1;32m----> 1\u001b[0m s[\u001b[38;5;241m0\u001b[39m] \u001b[38;5;241m=\u001b[39m \u001b[38;5;124m\"\u001b[39m\u001b[38;5;124mP\u001b[39m\u001b[38;5;124m\"\u001b[39m\n",
      "\u001b[1;31mTypeError\u001b[0m: 'str' object does not support item assignment"
     ]
    }
   ],
   "source": [
    "s[0] = \"P\""
   ]
  },
  {
   "cell_type": "code",
   "execution_count": 121,
   "id": "ef0ae4dc-4eff-4e07-89df-4d1f2cfffd60",
   "metadata": {},
   "outputs": [],
   "source": [
    "tup = (\"java\", \"c++\")"
   ]
  },
  {
   "cell_type": "code",
   "execution_count": 123,
   "id": "7e4caa5f-109d-4062-b1a7-c1e8c2ff2d5e",
   "metadata": {},
   "outputs": [
    {
     "ename": "TypeError",
     "evalue": "'tuple' object does not support item assignment",
     "output_type": "error",
     "traceback": [
      "\u001b[1;31m---------------------------------------------------------------------------\u001b[0m",
      "\u001b[1;31mTypeError\u001b[0m                                 Traceback (most recent call last)",
      "Cell \u001b[1;32mIn[123], line 1\u001b[0m\n\u001b[1;32m----> 1\u001b[0m tup[\u001b[38;5;241m1\u001b[39m] \u001b[38;5;241m=\u001b[39m \u001b[38;5;124m\"\u001b[39m\u001b[38;5;124mJS\u001b[39m\u001b[38;5;124m\"\u001b[39m\n",
      "\u001b[1;31mTypeError\u001b[0m: 'tuple' object does not support item assignment"
     ]
    }
   ],
   "source": [
    "tup[1] = \"JS\""
   ]
  },
  {
   "cell_type": "code",
   "execution_count": 124,
   "id": "8f3cccd1-3281-410e-83a1-c2d017f7b362",
   "metadata": {},
   "outputs": [],
   "source": [
    "lis = [\"java\", \"c++\"]"
   ]
  },
  {
   "cell_type": "code",
   "execution_count": 126,
   "id": "20970cec-937e-432a-8848-da7002530b61",
   "metadata": {},
   "outputs": [],
   "source": [
    "lis[0] = \"JS\""
   ]
  },
  {
   "cell_type": "code",
   "execution_count": 127,
   "id": "3e4a6dbd-4be3-4a51-8c97-e217a6f3d522",
   "metadata": {},
   "outputs": [
    {
     "data": {
      "text/plain": [
       "['JS', 'c++']"
      ]
     },
     "execution_count": 127,
     "metadata": {},
     "output_type": "execute_result"
    }
   ],
   "source": [
    "lis"
   ]
  },
  {
   "cell_type": "code",
   "execution_count": 128,
   "id": "201fd0d7-b70f-426a-a535-e9bfc7d79537",
   "metadata": {},
   "outputs": [],
   "source": [
    "sett = {\"java\", \"c++\"}"
   ]
  },
  {
   "cell_type": "code",
   "execution_count": 129,
   "id": "1c6dbdc9-3139-4759-97ef-9f0127cb8cf5",
   "metadata": {},
   "outputs": [
    {
     "ename": "TypeError",
     "evalue": "'set' object is not subscriptable",
     "output_type": "error",
     "traceback": [
      "\u001b[1;31m---------------------------------------------------------------------------\u001b[0m",
      "\u001b[1;31mTypeError\u001b[0m                                 Traceback (most recent call last)",
      "Cell \u001b[1;32mIn[129], line 1\u001b[0m\n\u001b[1;32m----> 1\u001b[0m sett[\u001b[38;5;241m0\u001b[39m]\n",
      "\u001b[1;31mTypeError\u001b[0m: 'set' object is not subscriptable"
     ]
    }
   ],
   "source": [
    "sett[0]"
   ]
  },
  {
   "cell_type": "code",
   "execution_count": 131,
   "id": "6feed02d-f73e-4c61-a147-cee2fe0f597c",
   "metadata": {},
   "outputs": [],
   "source": [
    "dct = {1:\"a\", 2: \"b\"}"
   ]
  },
  {
   "cell_type": "code",
   "execution_count": 133,
   "id": "0a06c110-5712-460e-b9c0-fa221d7d2690",
   "metadata": {},
   "outputs": [],
   "source": [
    "dct[2] = \"C\""
   ]
  },
  {
   "cell_type": "code",
   "execution_count": 134,
   "id": "e965d0af-b9a3-4cc4-a28e-e9415c367a6d",
   "metadata": {},
   "outputs": [
    {
     "data": {
      "text/plain": [
       "{1: 'a', 2: 'C'}"
      ]
     },
     "execution_count": 134,
     "metadata": {},
     "output_type": "execute_result"
    }
   ],
   "source": [
    "dct"
   ]
  },
  {
   "cell_type": "code",
   "execution_count": null,
   "id": "c7bde13a-4483-4d21-bb2a-6eb8f286a288",
   "metadata": {},
   "outputs": [],
   "source": [
    "Conditions\n",
    "Loop\n",
    "File Handling\n",
    "User Defind Funciton\n",
    "Exception \n",
    "OOPs"
   ]
  },
  {
   "cell_type": "code",
   "execution_count": 135,
   "id": "c030f28d-a48b-4c4c-80d6-95750a649327",
   "metadata": {},
   "outputs": [
    {
     "ename": "KeyError",
     "evalue": "'C'",
     "output_type": "error",
     "traceback": [
      "\u001b[1;31m---------------------------------------------------------------------------\u001b[0m",
      "\u001b[1;31mKeyError\u001b[0m                                  Traceback (most recent call last)",
      "Cell \u001b[1;32mIn[135], line 1\u001b[0m\n\u001b[1;32m----> 1\u001b[0m dct[\u001b[38;5;124m\"\u001b[39m\u001b[38;5;124mC\u001b[39m\u001b[38;5;124m\"\u001b[39m]\n",
      "\u001b[1;31mKeyError\u001b[0m: 'C'"
     ]
    }
   ],
   "source": [
    "dct[\"C\"]"
   ]
  },
  {
   "cell_type": "code",
   "execution_count": null,
   "id": "ffb83c95-7c0b-4e4e-a76b-ae5ce7d64afa",
   "metadata": {},
   "outputs": [],
   "source": []
  },
  {
   "cell_type": "code",
   "execution_count": null,
   "id": "dee1119c-bce7-4924-8fa7-c1c251133d32",
   "metadata": {},
   "outputs": [],
   "source": []
  },
  {
   "cell_type": "code",
   "execution_count": null,
   "id": "b13867e0-8089-4872-b164-a8b2bdc4cd38",
   "metadata": {},
   "outputs": [],
   "source": []
  },
  {
   "cell_type": "code",
   "execution_count": null,
   "id": "492073a9-5baf-4351-a892-e79277aef28c",
   "metadata": {},
   "outputs": [],
   "source": []
  },
  {
   "cell_type": "code",
   "execution_count": null,
   "id": "22fce1d6-ec8e-4a67-9b5c-0f054386c26b",
   "metadata": {},
   "outputs": [],
   "source": []
  },
  {
   "cell_type": "code",
   "execution_count": null,
   "id": "2c193d5d-bd44-43b5-969e-a9e087277a94",
   "metadata": {},
   "outputs": [],
   "source": []
  }
 ],
 "metadata": {
  "kernelspec": {
   "display_name": "Python 3 (ipykernel)",
   "language": "python",
   "name": "python3"
  },
  "language_info": {
   "codemirror_mode": {
    "name": "ipython",
    "version": 3
   },
   "file_extension": ".py",
   "mimetype": "text/x-python",
   "name": "python",
   "nbconvert_exporter": "python",
   "pygments_lexer": "ipython3",
   "version": "3.11.7"
  }
 },
 "nbformat": 4,
 "nbformat_minor": 5
}
