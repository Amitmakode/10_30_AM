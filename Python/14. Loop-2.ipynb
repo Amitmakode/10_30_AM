{
 "cells": [
  {
   "cell_type": "code",
   "execution_count": 1,
   "id": "380a3a8b",
   "metadata": {},
   "outputs": [
    {
     "name": "stdout",
     "output_type": "stream",
     "text": [
      "P\n",
      "y\n",
      "t\n",
      "h\n",
      "o\n",
      "n\n"
     ]
    }
   ],
   "source": [
    "language = 'Python'\n",
    "\n",
    "for letter in language:\n",
    "    print(letter)"
   ]
  },
  {
   "cell_type": "code",
   "execution_count": 2,
   "id": "0b606f22",
   "metadata": {},
   "outputs": [
    {
     "name": "stdout",
     "output_type": "stream",
     "text": [
      "P\n",
      "y\n",
      "t\n",
      "h\n",
      "o\n",
      "n\n"
     ]
    }
   ],
   "source": [
    "for i in range(len(language)):\n",
    "    print(language[i])"
   ]
  },
  {
   "cell_type": "code",
   "execution_count": 3,
   "id": "bdf9edb8",
   "metadata": {},
   "outputs": [
    {
     "data": {
      "text/plain": [
       "range(0, 5)"
      ]
     },
     "execution_count": 3,
     "metadata": {},
     "output_type": "execute_result"
    }
   ],
   "source": [
    "range(5)"
   ]
  },
  {
   "cell_type": "code",
   "execution_count": 4,
   "id": "cc8f76dd",
   "metadata": {},
   "outputs": [
    {
     "name": "stdout",
     "output_type": "stream",
     "text": [
      "py\n",
      "py\n",
      "py\n",
      "py\n",
      "py\n"
     ]
    }
   ],
   "source": [
    "for i in range(5):\n",
    "    print(\"py\")"
   ]
  },
  {
   "cell_type": "code",
   "execution_count": 5,
   "id": "d7f3f834",
   "metadata": {},
   "outputs": [
    {
     "name": "stdout",
     "output_type": "stream",
     "text": [
      "0\n",
      "1\n",
      "2\n",
      "3\n",
      "4\n",
      "5\n"
     ]
    }
   ],
   "source": [
    "numbers = (0, 1, 2, 3, 4, 5)\n",
    "for number in numbers:\n",
    "    print(number)"
   ]
  },
  {
   "cell_type": "code",
   "execution_count": 6,
   "id": "49093780",
   "metadata": {},
   "outputs": [
    {
     "ename": "NameError",
     "evalue": "name 'it_companies' is not defined",
     "output_type": "error",
     "traceback": [
      "\u001b[1;31m---------------------------------------------------------------------------\u001b[0m",
      "\u001b[1;31mNameError\u001b[0m                                 Traceback (most recent call last)",
      "Cell \u001b[1;32mIn[6], line 3\u001b[0m\n\u001b[0;32m      1\u001b[0m IT_companies \u001b[38;5;241m=\u001b[39m {\u001b[38;5;124m'\u001b[39m\u001b[38;5;124mFacebook\u001b[39m\u001b[38;5;124m'\u001b[39m, \u001b[38;5;124m'\u001b[39m\u001b[38;5;124mGoogle\u001b[39m\u001b[38;5;124m'\u001b[39m, \u001b[38;5;124m'\u001b[39m\u001b[38;5;124mMicrosoft\u001b[39m\u001b[38;5;124m'\u001b[39m, \u001b[38;5;124m'\u001b[39m\u001b[38;5;124mApple\u001b[39m\u001b[38;5;124m'\u001b[39m, \u001b[38;5;124m'\u001b[39m\u001b[38;5;124mIBM\u001b[39m\u001b[38;5;124m'\u001b[39m, \u001b[38;5;124m'\u001b[39m\u001b[38;5;124mOracle\u001b[39m\u001b[38;5;124m'\u001b[39m, \u001b[38;5;124m'\u001b[39m\u001b[38;5;124mAmazon\u001b[39m\u001b[38;5;124m'\u001b[39m}\n\u001b[1;32m----> 3\u001b[0m \u001b[38;5;28;01mfor\u001b[39;00m company \u001b[38;5;129;01min\u001b[39;00m it_companies:\n\u001b[0;32m      4\u001b[0m     \u001b[38;5;28mprint\u001b[39m(company)\n",
      "\u001b[1;31mNameError\u001b[0m: name 'it_companies' is not defined"
     ]
    }
   ],
   "source": [
    "IT_companies = {'Facebook', 'Google', 'Microsoft', 'Apple', 'IBM', 'Oracle', 'Amazon'}\n",
    "\n",
    "for company in it_companies:\n",
    "    print(company)"
   ]
  },
  {
   "cell_type": "code",
   "execution_count": 7,
   "id": "f8f8d248",
   "metadata": {},
   "outputs": [
    {
     "name": "stdout",
     "output_type": "stream",
     "text": [
      "Oracle\n",
      "Microsoft\n",
      "Apple\n",
      "Amazon\n",
      "Google\n",
      "IBM\n",
      "Facebook\n"
     ]
    }
   ],
   "source": [
    "IT_companies = {'Facebook', 'Google', 'Microsoft', 'Apple', 'IBM', 'Oracle', 'Amazon'}\n",
    "\n",
    "for company in IT_companies:\n",
    "    print(company)"
   ]
  },
  {
   "cell_type": "code",
   "execution_count": 8,
   "id": "3636d1e6",
   "metadata": {},
   "outputs": [
    {
     "name": "stdout",
     "output_type": "stream",
     "text": [
      "0\n",
      "1\n",
      "2\n",
      "3\n"
     ]
    }
   ],
   "source": [
    "numbers = (0,1,2,3,4,5)\n",
    "for i in numbers:\n",
    "    print(i)\n",
    "    if i == 3:\n",
    "        break"
   ]
  },
  {
   "cell_type": "code",
   "execution_count": 12,
   "id": "198768fd",
   "metadata": {},
   "outputs": [
    {
     "name": "stdout",
     "output_type": "stream",
     "text": [
      "0\n",
      "1\n",
      "2\n",
      "3\n",
      "4\n",
      "5\n",
      "outside the loop\n"
     ]
    }
   ],
   "source": [
    "numbers = (0,1,2,3,4,5)\n",
    "for i in numbers:\n",
    "    print(i)\n",
    "    if i == 3:\n",
    "        continue\n",
    "        \n",
    "    \n",
    "print('outside the loop')"
   ]
  },
  {
   "cell_type": "code",
   "execution_count": 13,
   "id": "1dbe962c",
   "metadata": {},
   "outputs": [
    {
     "name": "stdout",
     "output_type": "stream",
     "text": [
      "0\n",
      "1\n",
      "2\n",
      "3\n",
      "4\n",
      "5\n"
     ]
    }
   ],
   "source": [
    "numbers = (0,1,2,3,4,5)\n",
    "for i in numbers:\n",
    "    print(i)\n",
    "    if i == 3:\n",
    "        pass"
   ]
  },
  {
   "cell_type": "code",
   "execution_count": 14,
   "id": "a0a37d17",
   "metadata": {},
   "outputs": [
    {
     "name": "stdout",
     "output_type": "stream",
     "text": [
      "0\n",
      "1\n",
      "2\n",
      "3\n",
      "4\n",
      "5\n",
      "6\n",
      "7\n",
      "8\n",
      "9\n",
      "10\n"
     ]
    }
   ],
   "source": [
    "for i in range(11):\n",
    "    print(i) "
   ]
  },
  {
   "cell_type": "code",
   "execution_count": 15,
   "id": "2d82f1b7",
   "metadata": {},
   "outputs": [],
   "source": [
    "person = {\n",
    "    'first_name': 'Asabeneh',\n",
    "    'last_name': 'Yetayeh',\n",
    "    'age': 250,\n",
    "    'country': 'Finland',\n",
    "    'is_marred': True,\n",
    "    'skills': ['JavaScript', 'React', 'Node', 'MongoDB', 'Python'],\n",
    "    'address': {\n",
    "        'street': 'Space street',\n",
    "        'zipcode': '02210'\n",
    "    }\n",
    "}"
   ]
  },
  {
   "cell_type": "code",
   "execution_count": 18,
   "id": "e5f5d466",
   "metadata": {},
   "outputs": [
    {
     "name": "stdout",
     "output_type": "stream",
     "text": [
      "JavaScript\n",
      "React\n",
      "Node\n",
      "MongoDB\n",
      "Python\n"
     ]
    }
   ],
   "source": [
    "for i in person:\n",
    "    if i == 'skills':\n",
    "        for j in person['skills']:\n",
    "            print(j)"
   ]
  },
  {
   "cell_type": "code",
   "execution_count": 19,
   "id": "7f667148",
   "metadata": {},
   "outputs": [
    {
     "name": "stdout",
     "output_type": "stream",
     "text": [
      "0\n",
      "1\n",
      "2\n",
      "3\n",
      "4\n",
      "5\n",
      "6\n",
      "7\n",
      "8\n",
      "9\n",
      "10\n",
      "The loop stops at 10\n"
     ]
    }
   ],
   "source": [
    "for i in range(11):\n",
    "    print(i)   # prints 0 to 10, not including 11\n",
    "else:\n",
    "    print('The loop stops at', i)"
   ]
  },
  {
   "cell_type": "code",
   "execution_count": 21,
   "id": "8b84820b",
   "metadata": {},
   "outputs": [],
   "source": [
    "for i in range(6):\n",
    "    pass"
   ]
  },
  {
   "cell_type": "code",
   "execution_count": 22,
   "id": "ff7a56d2",
   "metadata": {},
   "outputs": [
    {
     "name": "stdout",
     "output_type": "stream",
     "text": [
      "Hello\n",
      "Hello\n",
      "Hello\n",
      "Hello\n",
      "Hello\n"
     ]
    }
   ],
   "source": [
    "#Example : print Hello five times\n",
    "for i in range(5):\n",
    "    print(\"Hello\")"
   ]
  },
  {
   "cell_type": "code",
   "execution_count": 24,
   "id": "619d738a",
   "metadata": {},
   "outputs": [
    {
     "name": "stdout",
     "output_type": "stream",
     "text": [
      "Enter the number2\n",
      "the cube is  8\n",
      "Enter the number3\n",
      "the cube is  27\n"
     ]
    }
   ],
   "source": [
    "for i in range(2):\n",
    "    number = int(input(\"Enter the number\"))\n",
    "    print(\"the cube is \" , number*number*number )"
   ]
  },
  {
   "cell_type": "code",
   "execution_count": 25,
   "id": "9bc5ea2f",
   "metadata": {},
   "outputs": [
    {
     "name": "stdout",
     "output_type": "stream",
     "text": [
      "(i)   0 (number)  1\n",
      "(i)   1 (number)  2\n",
      "(i)   2 (number)  3\n",
      "(i)   3 (number)  4\n",
      "(i)   4 (number)  5\n"
     ]
    }
   ],
   "source": [
    "#Example : print first five integers along with value of i\n",
    "for i in range(5):\n",
    "    print(\"(i)  \", i, \"(number) \" , i+1)"
   ]
  },
  {
   "cell_type": "code",
   "execution_count": 26,
   "id": "ff56d322",
   "metadata": {},
   "outputs": [
    {
     "data": {
      "text/plain": [
       "range(9, 2, -1)"
      ]
     },
     "execution_count": 26,
     "metadata": {},
     "output_type": "execute_result"
    }
   ],
   "source": [
    "#Examples\n",
    "\n",
    "range(5)                  # produces  five values 0, 1, 2, 3, 4\n",
    "range(1, 5)               # produces  four values 1, 2, 3, 4\n",
    "range(2, 4)               # produces  two values 2, 3\n",
    "range(1, 10, 2)           # produces values starting from zero to nine , at step of 2 i.e. 1, 3, 5, 7, 9\n",
    "range(9, 2, -1)           # produces values starting from nine to three , at step of -1 i.e. 9, 8, 7, 6, 5, 4, 3"
   ]
  },
  {
   "cell_type": "code",
   "execution_count": 27,
   "id": "a3e42e5c",
   "metadata": {},
   "outputs": [
    {
     "name": "stdout",
     "output_type": "stream",
     "text": [
      "11\n",
      "31\n",
      "51\n"
     ]
    }
   ],
   "source": [
    "# iterate over values directly\n",
    "for i in (11,31,51):\n",
    "    print(i)"
   ]
  },
  {
   "cell_type": "code",
   "execution_count": 28,
   "id": "a9f40d5e",
   "metadata": {},
   "outputs": [
    {
     "name": "stdout",
     "output_type": "stream",
     "text": [
      "1\n",
      "2\n",
      "3\n",
      "4\n"
     ]
    }
   ],
   "source": [
    "# iterate fixed number of times with start and end value\n",
    "for i in range(1, 5):\n",
    "    print(i)"
   ]
  },
  {
   "cell_type": "code",
   "execution_count": 30,
   "id": "0f9d6026",
   "metadata": {},
   "outputs": [
    {
     "name": "stdout",
     "output_type": "stream",
     "text": [
      "1\n",
      "3\n",
      "5\n"
     ]
    }
   ],
   "source": [
    "# iterate fixed number of times with start and end value with gaps in between\n",
    "for i in range(1,6, 2):\n",
    "    print(i)"
   ]
  },
  {
   "cell_type": "code",
   "execution_count": 32,
   "id": "cd542f53",
   "metadata": {},
   "outputs": [
    {
     "name": "stdout",
     "output_type": "stream",
     "text": [
      "23\n",
      "34\n",
      "12\n",
      "34\n",
      "45\n"
     ]
    }
   ],
   "source": [
    "#iterate over list of values \n",
    "\n",
    "scores = [23, 34, 12, 34, 45]\n",
    "length = len(scores)\n",
    "\n",
    "for i in range(length):\n",
    "    print(scores[i])"
   ]
  },
  {
   "cell_type": "code",
   "execution_count": 35,
   "id": "0c9ef61e",
   "metadata": {},
   "outputs": [
    {
     "data": {
      "text/plain": [
       "34"
      ]
     },
     "execution_count": 35,
     "metadata": {},
     "output_type": "execute_result"
    }
   ],
   "source": [
    "scores[3]"
   ]
  },
  {
   "cell_type": "code",
   "execution_count": 37,
   "id": "1a80f0f1",
   "metadata": {},
   "outputs": [
    {
     "name": "stdout",
     "output_type": "stream",
     "text": [
      "index :  0    value :  0\n",
      "index :  1    value :  1\n",
      "index :  2    value :  4\n",
      "index :  3    value :  9\n",
      "index :  4    value :  16\n"
     ]
    }
   ],
   "source": [
    "#iterate over list of values directly along with index\n",
    "squares = [0, 1, 4, 9, 16]\n",
    "\n",
    "for i, j in enumerate(squares):\n",
    "    print(\"index : \", i, \"  \", \"value : \" , j)"
   ]
  },
  {
   "cell_type": "code",
   "execution_count": 38,
   "id": "2c4d9e9a",
   "metadata": {},
   "outputs": [
    {
     "name": "stdout",
     "output_type": "stream",
     "text": [
      "0  - d\n",
      "1  - a\n",
      "2  - t\n",
      "3  - a\n",
      "4  -  \n",
      "5  - a\n",
      "6  - n\n",
      "7  - a\n",
      "8  - l\n",
      "9  - y\n",
      "10  - s\n",
      "11  - t\n"
     ]
    }
   ],
   "source": [
    "#iterate over list of values directly along with index\n",
    "var = \"data analyst\"\n",
    "\n",
    "for i, j in enumerate(var):\n",
    "    print( i, \" -\",j)"
   ]
  },
  {
   "cell_type": "code",
   "execution_count": 39,
   "id": "4d131aaa",
   "metadata": {},
   "outputs": [
    {
     "name": "stdout",
     "output_type": "stream",
     "text": [
      "t\n",
      "h\n",
      "i\n",
      "s\n",
      " \n",
      "i\n",
      "s\n",
      " \n",
      "d\n",
      "e\n",
      "m\n",
      "o\n"
     ]
    }
   ],
   "source": [
    "#iterate over strings directly\n",
    "\n",
    "my_string = \"this is demo\"\n",
    "\n",
    "for letter in my_string:\n",
    "    print(letter)"
   ]
  },
  {
   "cell_type": "code",
   "execution_count": 40,
   "id": "5f7b1850",
   "metadata": {},
   "outputs": [
    {
     "name": "stdout",
     "output_type": "stream",
     "text": [
      "this is demo\n"
     ]
    }
   ],
   "source": [
    "#iterate over strings directly\n",
    "\n",
    "my_string1 = [\"this is demo\"]\n",
    "\n",
    "for letter in my_string1:\n",
    "    print(letter)"
   ]
  },
  {
   "cell_type": "code",
   "execution_count": 41,
   "id": "13dc7d18",
   "metadata": {},
   "outputs": [
    {
     "name": "stdout",
     "output_type": "stream",
     "text": [
      "t\n",
      "h\n",
      "i\n",
      "s\n",
      " \n",
      "i\n",
      "s\n",
      " \n",
      "d\n",
      "e\n",
      "m\n",
      "o\n"
     ]
    }
   ],
   "source": [
    "#iterate over strings directly\n",
    "\n",
    "my_string1 = [\"this is demo\"]\n",
    "\n",
    "for i in my_string1:\n",
    "    if type(i) == str:\n",
    "        for j in i:\n",
    "            print(j)\n",
    "    "
   ]
  },
  {
   "cell_type": "code",
   "execution_count": 42,
   "id": "01fe9d41",
   "metadata": {},
   "outputs": [
    {
     "ename": "TypeError",
     "evalue": "'int' object is not iterable",
     "output_type": "error",
     "traceback": [
      "\u001b[1;31m---------------------------------------------------------------------------\u001b[0m",
      "\u001b[1;31mTypeError\u001b[0m                                 Traceback (most recent call last)",
      "Cell \u001b[1;32mIn[42], line 7\u001b[0m\n\u001b[0;32m      5\u001b[0m \u001b[38;5;28;01mfor\u001b[39;00m i \u001b[38;5;129;01min\u001b[39;00m my_string1:\n\u001b[0;32m      6\u001b[0m     \u001b[38;5;28;01mif\u001b[39;00m \u001b[38;5;28mtype\u001b[39m(i) \u001b[38;5;241m==\u001b[39m \u001b[38;5;28mint\u001b[39m:\n\u001b[1;32m----> 7\u001b[0m         \u001b[38;5;28;01mfor\u001b[39;00m j \u001b[38;5;129;01min\u001b[39;00m i:\n\u001b[0;32m      8\u001b[0m             \u001b[38;5;28mprint\u001b[39m(j)\n",
      "\u001b[1;31mTypeError\u001b[0m: 'int' object is not iterable"
     ]
    }
   ],
   "source": [
    "#iterate over strings directly\n",
    "\n",
    "my_string1 = [5463]\n",
    "\n",
    "for i in my_string1:\n",
    "    if type(i) == int:\n",
    "        for j in i:\n",
    "            print(j)"
   ]
  },
  {
   "cell_type": "code",
   "execution_count": 43,
   "id": "627d8654",
   "metadata": {},
   "outputs": [
    {
     "name": "stdout",
     "output_type": "stream",
     "text": [
      "5463\n"
     ]
    }
   ],
   "source": [
    "my_string1 = [5463]\n",
    "\n",
    "for i in my_string1:\n",
    "    print(i)"
   ]
  },
  {
   "cell_type": "code",
   "execution_count": 44,
   "id": "d6dbd58a",
   "metadata": {},
   "outputs": [
    {
     "name": "stdout",
     "output_type": "stream",
     "text": [
      "value1\n",
      "value2\n"
     ]
    }
   ],
   "source": [
    "#iterate over dictionary values directly\n",
    "\n",
    "my_dict = {\"key1\": \"value1\", \"key2\":\"value2\"}\n",
    "\n",
    "for value in my_dict.values():\n",
    "    print(value)"
   ]
  },
  {
   "cell_type": "code",
   "execution_count": 46,
   "id": "870c8d4e",
   "metadata": {},
   "outputs": [
    {
     "name": "stdout",
     "output_type": "stream",
     "text": [
      "Enter the name :sagar\n",
      "You entered  sagar\n",
      "Enter the name :parag\n",
      "You entered  parag\n"
     ]
    }
   ],
   "source": [
    "#Example for loop with fixed number of inputs\n",
    "count = 2\n",
    "\n",
    "for i in range(count):\n",
    "    name = input(\"Enter the name :\")\n",
    "    print('You entered ', name)"
   ]
  },
  {
   "cell_type": "code",
   "execution_count": 49,
   "id": "2c4a0905",
   "metadata": {},
   "outputs": [
    {
     "name": "stdout",
     "output_type": "stream",
     "text": [
      "sagar\n",
      "sagar\n"
     ]
    }
   ],
   "source": [
    "count = 2\n",
    "\n",
    "while count < 4:\n",
    "    print(\"sagar\")\n",
    "    count = count + 1"
   ]
  },
  {
   "cell_type": "code",
   "execution_count": 53,
   "id": "aebd73e7",
   "metadata": {},
   "outputs": [
    {
     "name": "stdout",
     "output_type": "stream",
     "text": [
      "i  0\n",
      "i  1\n",
      "i  2\n",
      "i  3\n",
      "i  4\n",
      "Out of while loop\n"
     ]
    }
   ],
   "source": [
    "#Example of infinite loop\n",
    "i = 0 \n",
    "\n",
    "while i < 5 :\n",
    "    print(\"i \", i )\n",
    "    i = i+1\n",
    "\n",
    "print(\"Out of while loop\") "
   ]
  },
  {
   "cell_type": "code",
   "execution_count": 54,
   "id": "d1ab31a8",
   "metadata": {},
   "outputs": [
    {
     "name": "stdout",
     "output_type": "stream",
     "text": [
      "5 10\n",
      "5 9\n",
      "5 8\n",
      "5 7\n",
      "5 6\n"
     ]
    }
   ],
   "source": [
    "a = 5\n",
    "b = 10\n",
    "\n",
    "\n",
    "while a < b: \n",
    "    print(a, b)\n",
    "    b = b-1"
   ]
  },
  {
   "cell_type": "code",
   "execution_count": 56,
   "id": "fc4eab8f",
   "metadata": {},
   "outputs": [
    {
     "name": "stdout",
     "output_type": "stream",
     "text": [
      "5 10\n",
      "1\n",
      "1\n",
      "3\n",
      "6 10\n",
      "1\n",
      "1\n",
      "3\n",
      "7 10\n",
      "1\n",
      "1\n",
      "3\n",
      "8 10\n",
      "1\n",
      "1\n",
      "3\n",
      "9 10\n",
      "1\n",
      "1\n",
      "3\n"
     ]
    }
   ],
   "source": [
    "a = 5\n",
    "b = 10\n",
    "\n",
    "\n",
    "while a < b: \n",
    "    print(a, b)\n",
    "    a = a+1\n",
    "    print(1)\n",
    "    print(1)\n",
    "    print(3)"
   ]
  },
  {
   "cell_type": "code",
   "execution_count": null,
   "id": "8a41953b",
   "metadata": {},
   "outputs": [],
   "source": [
    "Q1. Write a program using while loop that prints square and cube of numbers between 1 to 10.\n",
    "Q2. Write a program that uses for loop to print numbers 100, 96, 92, 88 ..., 4. \n",
    "Q3. Use a for loop to print a triangle like the one below. Allow the user to specify how high the triangle should be. <br>\n",
    "@<br>\n",
    "@@<br>\n",
    "@@@<br>\n",
    "@@@@<br>\n",
    "Q4. Write a program that asks the user to enter the password. If the user enters the right password, the program should tell them they are logged in to the system. Otherwise, the program should ask them to reenter the password. The user should get only five tries to enter the password, after which point the program should tell them that they are kicked off of the system."
   ]
  }
 ],
 "metadata": {
  "kernelspec": {
   "display_name": "Python 3 (ipykernel)",
   "language": "python",
   "name": "python3"
  },
  "language_info": {
   "codemirror_mode": {
    "name": "ipython",
    "version": 3
   },
   "file_extension": ".py",
   "mimetype": "text/x-python",
   "name": "python",
   "nbconvert_exporter": "python",
   "pygments_lexer": "ipython3",
   "version": "3.11.5"
  }
 },
 "nbformat": 4,
 "nbformat_minor": 5
}
