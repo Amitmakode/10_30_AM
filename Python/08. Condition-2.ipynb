{
 "cells": [
  {
   "cell_type": "code",
   "execution_count": null,
   "id": "b376c425-c06b-4095-b94b-a3daf4222746",
   "metadata": {},
   "outputs": [],
   "source": [
    "if\n",
    "elif\n",
    "else"
   ]
  },
  {
   "cell_type": "code",
   "execution_count": 1,
   "id": "10adc5c9-1d1a-4c69-ab41-26c3ad24d4fc",
   "metadata": {},
   "outputs": [],
   "source": [
    "a = 10\n",
    "b = 20"
   ]
  },
  {
   "cell_type": "code",
   "execution_count": 2,
   "id": "c180ddf3-a24b-4903-a56b-047b99970f77",
   "metadata": {},
   "outputs": [
    {
     "data": {
      "text/plain": [
       "False"
      ]
     },
     "execution_count": 2,
     "metadata": {},
     "output_type": "execute_result"
    }
   ],
   "source": [
    "a > b"
   ]
  },
  {
   "cell_type": "code",
   "execution_count": 3,
   "id": "d0095757-c292-492b-b831-37f4754cc5b7",
   "metadata": {},
   "outputs": [
    {
     "name": "stdin",
     "output_type": "stream",
     "text": [
      " 14\n"
     ]
    }
   ],
   "source": [
    "num = int(input())\n",
    "\n",
    "if num == 10:\n",
    "    print(\"the number is even\")"
   ]
  },
  {
   "cell_type": "code",
   "execution_count": 4,
   "id": "f58d09bb-bb87-4932-a7eb-3781e7b3eb91",
   "metadata": {},
   "outputs": [
    {
     "name": "stdin",
     "output_type": "stream",
     "text": [
      " 20\n"
     ]
    },
    {
     "name": "stdout",
     "output_type": "stream",
     "text": [
      "greater than 10\n"
     ]
    }
   ],
   "source": [
    "num = int(input())\n",
    "\n",
    "if num > 10:\n",
    "    print(\"greater than 10\")\n",
    "else: \n",
    "    print(\"i don't know\")"
   ]
  },
  {
   "cell_type": "code",
   "execution_count": 6,
   "id": "3bf3751b-3c2f-4a0b-a63d-e128ee312bea",
   "metadata": {},
   "outputs": [
    {
     "name": "stdin",
     "output_type": "stream",
     "text": [
      " 10\n"
     ]
    },
    {
     "name": "stdout",
     "output_type": "stream",
     "text": [
      "i don't know\n"
     ]
    }
   ],
   "source": [
    "num = int(input())\n",
    "\n",
    "if num > 10:\n",
    "    print(\"greater than 10\")\n",
    "elif num < 10:\n",
    "    print(\"is less than 10\")\n",
    "else: \n",
    "    print(\"i don't know\")"
   ]
  },
  {
   "cell_type": "code",
   "execution_count": 7,
   "id": "e5b93827-7c23-4414-85a5-4df163f42596",
   "metadata": {},
   "outputs": [
    {
     "ename": "SyntaxError",
     "evalue": "invalid syntax (1933527714.py, line 3)",
     "output_type": "error",
     "traceback": [
      "\u001b[1;36m  Cell \u001b[1;32mIn[7], line 3\u001b[1;36m\u001b[0m\n\u001b[1;33m    elif num < 10:\u001b[0m\n\u001b[1;37m    ^\u001b[0m\n\u001b[1;31mSyntaxError\u001b[0m\u001b[1;31m:\u001b[0m invalid syntax\n"
     ]
    }
   ],
   "source": [
    "num = int(input())\n",
    "\n",
    "elif num < 10:\n",
    "    print(\"is less than 10\")\n",
    "else: \n",
    "    print(\"i don't know\")"
   ]
  },
  {
   "cell_type": "code",
   "execution_count": 9,
   "id": "80dfe4a0-b326-4bb3-85a8-9d02c1a7a07e",
   "metadata": {},
   "outputs": [
    {
     "name": "stdin",
     "output_type": "stream",
     "text": [
      " 10\n"
     ]
    }
   ],
   "source": [
    "num = int(input())\n",
    "\n",
    "if num > 10:\n",
    "    print(\"greater than 10\")\n",
    "elif num < 10:\n",
    "    print(\"is less than 10\")"
   ]
  },
  {
   "cell_type": "code",
   "execution_count": 10,
   "id": "1905dd1c-2389-4164-8580-0c359c170109",
   "metadata": {},
   "outputs": [
    {
     "ename": "SyntaxError",
     "evalue": "invalid syntax (3821098832.py, line 10)",
     "output_type": "error",
     "traceback": [
      "\u001b[1;36m  Cell \u001b[1;32mIn[10], line 10\u001b[1;36m\u001b[0m\n\u001b[1;33m    elif :\u001b[0m\n\u001b[1;37m         ^\u001b[0m\n\u001b[1;31mSyntaxError\u001b[0m\u001b[1;31m:\u001b[0m invalid syntax\n"
     ]
    }
   ],
   "source": [
    "number = 10\n",
    "A = 10\n",
    "B = 20\n",
    "C = 30\n",
    "\n",
    "if number == A:\n",
    "    print(\"python-1\")\n",
    "elif number > B :\n",
    "    print(\"python-2\")\n",
    "elif :\n",
    "    print(\"python-3\")\n",
    "else:\n",
    "    print(\"i don't know\")"
   ]
  },
  {
   "cell_type": "code",
   "execution_count": 11,
   "id": "b21fdd96-074b-4b84-bec3-650683f9ab4f",
   "metadata": {},
   "outputs": [
    {
     "name": "stdout",
     "output_type": "stream",
     "text": [
      "number is less than 11\n"
     ]
    }
   ],
   "source": [
    "number  = 10\n",
    "if number == 11:\n",
    "    print(\"number is equal\")\n",
    "elif number > 11:\n",
    "    print(\"number is greater than 11\")\n",
    "    \n",
    "if number < 11:\n",
    "    print(\"number is less than 11\")"
   ]
  },
  {
   "cell_type": "code",
   "execution_count": 12,
   "id": "7a2294ff-261f-47d2-8860-3c194a53b3ed",
   "metadata": {},
   "outputs": [
    {
     "name": "stdout",
     "output_type": "stream",
     "text": [
      "number is equal\n",
      "number is less than 11\n"
     ]
    }
   ],
   "source": [
    "number  = 10\n",
    "if number == 10:\n",
    "    print(\"number is equal\")\n",
    "elif number > 11:\n",
    "    print(\"number is greater than 11\")\n",
    "    \n",
    "if number < 11:\n",
    "    print(\"number is less than 11\")"
   ]
  },
  {
   "cell_type": "code",
   "execution_count": 13,
   "id": "0915ceaf-676e-4330-88f2-bbae40185a23",
   "metadata": {},
   "outputs": [
    {
     "name": "stdout",
     "output_type": "stream",
     "text": [
      "number is equal\n",
      "number is less than 11\n",
      "   ---\n"
     ]
    }
   ],
   "source": [
    "number  = 11\n",
    "if number == 11:\n",
    "    print(\"number is equal\")\n",
    "elif number > 11:\n",
    "    print(\"number is greater than 11\")\n",
    "    \n",
    "if number == 11:\n",
    "    print(\"number is less than 11\")\n",
    "\n",
    "if number == 11:\n",
    "    print(\"   ---\")"
   ]
  },
  {
   "cell_type": "code",
   "execution_count": 14,
   "id": "65244fd8-2eb5-4017-87c2-df1c0c4e2ac0",
   "metadata": {},
   "outputs": [
    {
     "name": "stdout",
     "output_type": "stream",
     "text": [
      "A is zero\n"
     ]
    }
   ],
   "source": [
    "a = 0\n",
    "if a > 0:\n",
    "    print('A is a positive number')\n",
    "elif a < 0:\n",
    "    print('A is a negative number')\n",
    "else:\n",
    "    print('A is zero')"
   ]
  },
  {
   "cell_type": "code",
   "execution_count": 17,
   "id": "a5c4e704-66d8-4c00-8700-0056832431fd",
   "metadata": {},
   "outputs": [
    {
     "name": "stdout",
     "output_type": "stream",
     "text": [
      "A is positive\n"
     ]
    }
   ],
   "source": [
    "print('A is positive') if A > 0 else print('A is negative')  # first condition met, 'A is positive' will be printed"
   ]
  },
  {
   "cell_type": "code",
   "execution_count": 16,
   "id": "80bf691f-ded3-419a-ad75-9329ce320aa6",
   "metadata": {},
   "outputs": [],
   "source": [
    "A =6"
   ]
  },
  {
   "cell_type": "code",
   "execution_count": 20,
   "id": "e60eab63-194d-4493-95e5-20d21f1df2a3",
   "metadata": {},
   "outputs": [
    {
     "ename": "SyntaxError",
     "evalue": "expected 'else' after 'if' expression (3649884502.py, line 1)",
     "output_type": "error",
     "traceback": [
      "\u001b[1;36m  Cell \u001b[1;32mIn[20], line 1\u001b[1;36m\u001b[0m\n\u001b[1;33m    print('A is positive') if A > 0 Print(\"elif statement\") elif A == 3  else print('A is negative')\u001b[0m\n\u001b[1;37m    ^\u001b[0m\n\u001b[1;31mSyntaxError\u001b[0m\u001b[1;31m:\u001b[0m expected 'else' after 'if' expression\n"
     ]
    }
   ],
   "source": [
    "print('A is positive') if A > 0 Print(\"elif statement\") elif A == 3  else print('A is negative') "
   ]
  },
  {
   "cell_type": "code",
   "execution_count": 27,
   "id": "435b5a2b-2425-41e5-bc0d-f32e16476e6a",
   "metadata": {},
   "outputs": [
    {
     "name": "stdout",
     "output_type": "stream",
     "text": [
      "A is zero\n"
     ]
    }
   ],
   "source": [
    "a = 0\n",
    "if a > 0 and a % 2 == 0:\n",
    "        print('A is an even and positive integer')\n",
    "elif a > 0 and a % 2 !=  0:\n",
    "     print('A is a positive integer')\n",
    "elif a == 0:\n",
    "    print('A is zero')\n",
    "else:\n",
    "    print('A is negative')"
   ]
  },
  {
   "cell_type": "code",
   "execution_count": null,
   "id": "36c7acf9-ff89-44e3-a94d-7520c472219a",
   "metadata": {},
   "outputs": [],
   "source": [
    "==\n",
    ">\n",
    "<\n",
    ">=\n",
    "<=\n",
    "!=\n",
    "<>"
   ]
  },
  {
   "cell_type": "code",
   "execution_count": 28,
   "id": "68c01915-ee7e-423f-9ed2-151eb66be638",
   "metadata": {},
   "outputs": [
    {
     "name": "stdin",
     "output_type": "stream",
     "text": [
      "Enter an integer\n",
      " 6\n"
     ]
    },
    {
     "name": "stdout",
     "output_type": "stream",
     "text": [
      "Keep trying\n",
      "3\n"
     ]
    }
   ],
   "source": [
    "rand_var = 3\n",
    "\n",
    "guess = int(input(\"Enter an integer\\n\"))\n",
    "\n",
    "if guess == rand_var:\n",
    "    print(\"we guess correct value\")\n",
    "else:\n",
    "    print(\"Keep trying\")\n",
    "    \n",
    "print(rand_var)"
   ]
  },
  {
   "cell_type": "code",
   "execution_count": 30,
   "id": "c80e00c9-acbc-449c-8f2c-c1387cd767b8",
   "metadata": {},
   "outputs": [
    {
     "name": "stdin",
     "output_type": "stream",
     "text": [
      "Enter an integer\n",
      " 11\n"
     ]
    },
    {
     "name": "stdout",
     "output_type": "stream",
     "text": [
      "we guess correct value\n",
      "guess number is smaller than random variable\n"
     ]
    }
   ],
   "source": [
    "rand_var = 11\n",
    "\n",
    "guess = int(input(\"Enter an integer\\n\"))\n",
    "\n",
    "if guess == rand_var:\n",
    "    print(\"we guess correct value\")\n",
    "    if guess <= rand_var:\n",
    "        print(\"guess number is smaller than random variable\")\n",
    "elif guess > rand_var:\n",
    "    print(\"guess number is greter than random variable\")\n",
    "else:\n",
    "    print(\"Keep trying\")"
   ]
  },
  {
   "cell_type": "code",
   "execution_count": 31,
   "id": "5f46f40b-6fcb-46b3-8392-89a0e96f16ed",
   "metadata": {},
   "outputs": [
    {
     "data": {
      "text/plain": [
       "True"
      ]
     },
     "execution_count": 31,
     "metadata": {},
     "output_type": "execute_result"
    }
   ],
   "source": [
    "12 == 12  "
   ]
  },
  {
   "cell_type": "code",
   "execution_count": 32,
   "id": "0302a12e-6a30-4d35-ae0a-284c3490f147",
   "metadata": {},
   "outputs": [
    {
     "data": {
      "text/plain": [
       "False"
      ]
     },
     "execution_count": 32,
     "metadata": {},
     "output_type": "execute_result"
    }
   ],
   "source": [
    "12 == 12 and 12 > 13"
   ]
  },
  {
   "cell_type": "code",
   "execution_count": 33,
   "id": "fb07bce6-817c-4fde-a8a5-36c517c6e966",
   "metadata": {},
   "outputs": [
    {
     "data": {
      "text/plain": [
       "True"
      ]
     },
     "execution_count": 33,
     "metadata": {},
     "output_type": "execute_result"
    }
   ],
   "source": [
    "12 == 12 or 12 > 13"
   ]
  },
  {
   "cell_type": "code",
   "execution_count": 34,
   "id": "0d432181-cc7f-41c8-a930-0189df6362ed",
   "metadata": {},
   "outputs": [
    {
     "data": {
      "text/plain": [
       "True"
      ]
     },
     "execution_count": 34,
     "metadata": {},
     "output_type": "execute_result"
    }
   ],
   "source": [
    "12 == 12 and 12 > 13 or 13 > 12"
   ]
  },
  {
   "cell_type": "code",
   "execution_count": 35,
   "id": "1a4e252f-c232-429f-8dfd-28ca31959825",
   "metadata": {},
   "outputs": [
    {
     "data": {
      "text/plain": [
       "False"
      ]
     },
     "execution_count": 35,
     "metadata": {},
     "output_type": "execute_result"
    }
   ],
   "source": [
    "12 == 12 and 12 > 13 or 13 > 12 and 14 == 11"
   ]
  },
  {
   "cell_type": "code",
   "execution_count": 37,
   "id": "26258c17-0505-4bf5-8c24-567625379599",
   "metadata": {},
   "outputs": [
    {
     "name": "stdin",
     "output_type": "stream",
     "text": [
      "Enter the number  77\n"
     ]
    },
    {
     "name": "stdout",
     "output_type": "stream",
     "text": [
      "77  is odd number\n"
     ]
    }
   ],
   "source": [
    "number = int(input(\"Enter the number \"))\n",
    "\n",
    "if number % 2 == 0 :   # if entered number is even then only message is shown to the user\n",
    "    print(number ,\" is even number\") \n",
    "else :\n",
    "    print(number ,\" is odd number\")"
   ]
  },
  {
   "cell_type": "code",
   "execution_count": 39,
   "id": "c83f3129-d42a-47a5-865a-b9d510456cfb",
   "metadata": {},
   "outputs": [
    {
     "name": "stdin",
     "output_type": "stream",
     "text": [
      "Enter the mark  39\n"
     ]
    },
    {
     "name": "stdout",
     "output_type": "stream",
     "text": [
      "You passed in second class\n"
     ]
    }
   ],
   "source": [
    "mark = int(input(\"Enter the mark \"))\n",
    "\n",
    "if mark < 0 or mark > 100: \n",
    "    print(\"Invalid marks are entered!\")\n",
    "elif mark >= 0 and mark < 35 :\n",
    "    print(\"Sorry you failed!\")\n",
    "elif mark >= 36 and mark <= 60:\n",
    "    print(\"You passed in second class\")\n",
    "elif mark >= 61 and mark <= 80 :\n",
    "    print(\"You passed in first class\")\n",
    "else :\n",
    "    print(\"You got distinction!\")"
   ]
  },
  {
   "cell_type": "code",
   "execution_count": 40,
   "id": "3cef3326-6019-485e-b77d-70d19d45a751",
   "metadata": {},
   "outputs": [
    {
     "name": "stdin",
     "output_type": "stream",
     "text": [
      "Enter first number \n",
      " 20\n",
      "Enter second number \n",
      " 21\n"
     ]
    },
    {
     "name": "stdout",
     "output_type": "stream",
     "text": [
      "First number is smaller than second\n"
     ]
    }
   ],
   "source": [
    "number1 = int(input(\"Enter first number \\n\"))\n",
    "number2 = int(input(\"Enter second number \\n\"))\n",
    "\n",
    "if number1 == number2:\n",
    "    print(\"Both numbers are same\")\n",
    "else:\n",
    "    if number1 > number2:\n",
    "        print(\"First number is bigger than second\")\n",
    "    else:\n",
    "        print(\"First number is smaller than second\")"
   ]
  },
  {
   "cell_type": "code",
   "execution_count": 42,
   "id": "206cbc11-8971-42bf-a5d4-4459b5a3fa67",
   "metadata": {},
   "outputs": [
    {
     "name": "stdin",
     "output_type": "stream",
     "text": [
      "Enter the lenght in centimeter  -44\n"
     ]
    },
    {
     "name": "stdout",
     "output_type": "stream",
     "text": [
      "You have entered negative value. \n"
     ]
    }
   ],
   "source": [
    "length_in_cm = input(\"Enter the lenght in centimeter \")\n",
    "\n",
    "length_in_cm = float(length_in_cm)\n",
    "    \n",
    "if length_in_cm < 0 :\n",
    "    print(\"You have entered negative value. \")\n",
    "else:\n",
    "    length_in_inches = length_in_cm / 2.54\n",
    "    print(length_in_cm, \" cm = \", length_in_inches, \" inches\")"
   ]
  },
  {
   "cell_type": "code",
   "execution_count": 46,
   "id": "b19114ba-b2df-4a76-9d73-eda298368cce",
   "metadata": {},
   "outputs": [
    {
     "name": "stdin",
     "output_type": "stream",
     "text": [
      "Enter your username:  Admin\n",
      "Enter your password:  guest\n"
     ]
    },
    {
     "name": "stdout",
     "output_type": "stream",
     "text": [
      "Unknown user. Please try again.\n"
     ]
    }
   ],
   "source": [
    "# Password and Username Checking\n",
    "username = input(\"Enter your username: \")\n",
    "password = input(\"Enter your password: \")\n",
    "\n",
    "\n",
    "if username == \"admin\":\n",
    "    if password == \"password\":\n",
    "        print(\"Login successful! Welcome, admin.\")\n",
    "    elif password == \"12345\":\n",
    "        print(\"Weak password. Please reset your password.\")\n",
    "    else:\n",
    "        print(\"Incorrect password. Please try again.\")\n",
    "else:\n",
    "    if username == \"guest\":\n",
    "        if password == \"guest\":\n",
    "            print(\"Login successful! Welcome, guest.\")\n",
    "        else:\n",
    "            print(\"Incorrect password. Please try again.\")\n",
    "    else:\n",
    "        print(\"Unknown user. Please try again.\")"
   ]
  },
  {
   "cell_type": "code",
   "execution_count": 6,
   "id": "1a5f9aa5-10eb-4244-83b8-533be1e2634f",
   "metadata": {},
   "outputs": [
    {
     "name": "stdout",
     "output_type": "stream",
     "text": [
      "i will be able to buy a jacket\n"
     ]
    }
   ],
   "source": [
    "price = -566\n",
    "\n",
    "if price > 500 : \n",
    "    print(\" may be i wont be able to buy a jacket \")\n",
    "elif price < 500 :\n",
    "    print(\"i will be able to buy a jacket\")\n",
    "elif  price == 500 :\n",
    "    print(\"for sure i will be able to buy\")\n",
    "else  :\n",
    "    print(\"i dont know\")"
   ]
  },
  {
   "cell_type": "code",
   "execution_count": 7,
   "id": "9cdbf23b-9886-4bd8-a782-42076bc91945",
   "metadata": {},
   "outputs": [
    {
     "name": "stdout",
     "output_type": "stream",
     "text": [
      "do not perform this task\n"
     ]
    }
   ],
   "source": [
    "lis = [1,2,3,4,5,6]\n",
    "\n",
    "if 60 in lis :\n",
    "    print(\"try to perform a task \")\n",
    "else :\n",
    "    print(\"do not perform this task\")"
   ]
  },
  {
   "cell_type": "code",
   "execution_count": 8,
   "id": "c23d47ff-e138-4c2c-8560-7d5f7e29c7c5",
   "metadata": {},
   "outputs": [
    {
     "name": "stdout",
     "output_type": "stream",
     "text": [
      "try to perform a task \n"
     ]
    }
   ],
   "source": [
    "lis = [1,2,3,4,5,6]\n",
    "\n",
    "if 60 not in lis :\n",
    "    print(\"try to perform a task \")\n",
    "else :\n",
    "    print(\"do not perform this task\")"
   ]
  },
  {
   "cell_type": "code",
   "execution_count": 9,
   "id": "bd1aba57-f70d-4c49-ada4-a4aaa1e86aaa",
   "metadata": {},
   "outputs": [
    {
     "name": "stdout",
     "output_type": "stream",
     "text": [
      "try to do sub\n",
      "try to do mul\n",
      "this is new statement\n"
     ]
    }
   ],
   "source": [
    "lis = [1,2,3,4,5,6]\n",
    "\n",
    "if 10 in lis :\n",
    "    print(\"thy to do a addition\")\n",
    "elif 2 in lis :\n",
    "    print(\"try to do sub\")\n",
    "    if 3 in lis :\n",
    "        print(\"try to do mul\")\n",
    "if 4 in lis :\n",
    "    print(\"this is new statement\")"
   ]
  },
  {
   "cell_type": "code",
   "execution_count": 13,
   "id": "d17815dd-15b1-45d4-b36f-2e52d45c9da1",
   "metadata": {},
   "outputs": [
    {
     "name": "stdin",
     "output_type": "stream",
     "text": [
      " 199\n"
     ]
    },
    {
     "name": "stdout",
     "output_type": "stream",
     "text": [
      "i will be able to buy something\n",
      "\n",
      "i will be able to buy a jacket\n"
     ]
    }
   ],
   "source": [
    "price  = int(input())\n",
    "\n",
    "if price  < 500 :\n",
    "    print(\"i will be able to buy something\")\n",
    "    print()\n",
    "    if price < 400 :\n",
    "        print(\"i will be able to buy a jacket\")\n",
    "    elif price < 300 :\n",
    "        print(\"i will be able to buy a shirt\")\n",
    "        if price < 200 :\n",
    "            print(\"i would like to do sometign\")\n",
    "    else :\n",
    "        print(\"i wont be able to buy anyting\")\n",
    "else :\n",
    "     print(\"i wont be able to buy anything with this price tag\")"
   ]
  },
  {
   "cell_type": "code",
   "execution_count": 15,
   "id": "c222f9c9-5f9d-48ec-a7c7-556395d68178",
   "metadata": {},
   "outputs": [
    {
     "name": "stdin",
     "output_type": "stream",
     "text": [
      " 822\n"
     ]
    },
    {
     "name": "stdout",
     "output_type": "stream",
     "text": [
      "range above 799\n"
     ]
    }
   ],
   "source": [
    "price  = int(input())\n",
    "\n",
    "if price >= 0 and price < 200:\n",
    "    print(\"range between 0-199\")\n",
    "    \n",
    "elif price >= 200 and price < 400:\n",
    "    print(\"range between 200-399\")\n",
    "\n",
    "elif price >= 400 and price < 600:\n",
    "    print(\"range between 400-599\")\n",
    "\n",
    "elif price >= 600 and price < 700:\n",
    "    print(\"range between 600-799\")\n",
    "    \n",
    "else:\n",
    "    if price < 0:\n",
    "        print(\"rnage belowe 0\")\n",
    "    else:\n",
    "        print(\"range above 799\")"
   ]
  },
  {
   "cell_type": "code",
   "execution_count": null,
   "id": "7d163f0d-8ac1-4a15-82ac-1ee8dc68e4d6",
   "metadata": {},
   "outputs": [],
   "source": []
  }
 ],
 "metadata": {
  "kernelspec": {
   "display_name": "Python 3 (ipykernel)",
   "language": "python",
   "name": "python3"
  },
  "language_info": {
   "codemirror_mode": {
    "name": "ipython",
    "version": 3
   },
   "file_extension": ".py",
   "mimetype": "text/x-python",
   "name": "python",
   "nbconvert_exporter": "python",
   "pygments_lexer": "ipython3",
   "version": "3.11.7"
  }
 },
 "nbformat": 4,
 "nbformat_minor": 5
}
