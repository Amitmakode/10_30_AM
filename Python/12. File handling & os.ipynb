{
 "cells": [
  {
   "cell_type": "markdown",
   "id": "130acfc8-1465-4e2a-8ac5-fa408eaf09a1",
   "metadata": {},
   "source": [
    "## File Handiling"
   ]
  },
  {
   "cell_type": "code",
   "execution_count": 1,
   "id": "7ecd862d-452f-4fb3-8861-49a7bbcdbd6d",
   "metadata": {},
   "outputs": [
    {
     "ename": "FileNotFoundError",
     "evalue": "[Errno 2] No such file or directory: 'new.txt'",
     "output_type": "error",
     "traceback": [
      "\u001b[1;31m---------------------------------------------------------------------------\u001b[0m",
      "\u001b[1;31mFileNotFoundError\u001b[0m                         Traceback (most recent call last)",
      "Cell \u001b[1;32mIn[1], line 1\u001b[0m\n\u001b[1;32m----> 1\u001b[0m \u001b[38;5;28mopen\u001b[39m(\u001b[38;5;124m\"\u001b[39m\u001b[38;5;124mnew.txt\u001b[39m\u001b[38;5;124m\"\u001b[39m)\n",
      "File \u001b[1;32m~\\anaconda3\\Lib\\site-packages\\IPython\\core\\interactiveshell.py:310\u001b[0m, in \u001b[0;36m_modified_open\u001b[1;34m(file, *args, **kwargs)\u001b[0m\n\u001b[0;32m    303\u001b[0m \u001b[38;5;28;01mif\u001b[39;00m file \u001b[38;5;129;01min\u001b[39;00m {\u001b[38;5;241m0\u001b[39m, \u001b[38;5;241m1\u001b[39m, \u001b[38;5;241m2\u001b[39m}:\n\u001b[0;32m    304\u001b[0m     \u001b[38;5;28;01mraise\u001b[39;00m \u001b[38;5;167;01mValueError\u001b[39;00m(\n\u001b[0;32m    305\u001b[0m         \u001b[38;5;124mf\u001b[39m\u001b[38;5;124m\"\u001b[39m\u001b[38;5;124mIPython won\u001b[39m\u001b[38;5;124m'\u001b[39m\u001b[38;5;124mt let you open fd=\u001b[39m\u001b[38;5;132;01m{\u001b[39;00mfile\u001b[38;5;132;01m}\u001b[39;00m\u001b[38;5;124m by default \u001b[39m\u001b[38;5;124m\"\u001b[39m\n\u001b[0;32m    306\u001b[0m         \u001b[38;5;124m\"\u001b[39m\u001b[38;5;124mas it is likely to crash IPython. If you know what you are doing, \u001b[39m\u001b[38;5;124m\"\u001b[39m\n\u001b[0;32m    307\u001b[0m         \u001b[38;5;124m\"\u001b[39m\u001b[38;5;124myou can use builtins\u001b[39m\u001b[38;5;124m'\u001b[39m\u001b[38;5;124m open.\u001b[39m\u001b[38;5;124m\"\u001b[39m\n\u001b[0;32m    308\u001b[0m     )\n\u001b[1;32m--> 310\u001b[0m \u001b[38;5;28;01mreturn\u001b[39;00m io_open(file, \u001b[38;5;241m*\u001b[39margs, \u001b[38;5;241m*\u001b[39m\u001b[38;5;241m*\u001b[39mkwargs)\n",
      "\u001b[1;31mFileNotFoundError\u001b[0m: [Errno 2] No such file or directory: 'new.txt'"
     ]
    }
   ],
   "source": [
    "open(\"new.txt\")"
   ]
  },
  {
   "cell_type": "code",
   "execution_count": null,
   "id": "f0989fd8-54f7-45bc-ae55-866f90e03bb2",
   "metadata": {},
   "outputs": [],
   "source": [
    "- \"r\" - Read - Default value. Opens a file for reading, it returns an error if the file does not exist\n",
    "- \"a\" - Append - Opens a file for appending, creates the file if it does not exist\n",
    "- \"w\" - Write - Opens a file for writing, creates the file if it does not exist\n",
    "- \"r+\" - Read and Write"
   ]
  },
  {
   "cell_type": "code",
   "execution_count": null,
   "id": "55bcd561-e76e-4bc1-b412-9b3de46d544e",
   "metadata": {},
   "outputs": [],
   "source": [
    "f = open(\"test_1.txt\", \"x\")   "
   ]
  },
  {
   "cell_type": "code",
   "execution_count": 3,
   "id": "dc191a17-61e5-4b55-8ba6-2b8a4efc1b4c",
   "metadata": {},
   "outputs": [],
   "source": [
    "f = open(\"test_1.txt\", \"w\")  "
   ]
  },
  {
   "cell_type": "code",
   "execution_count": 4,
   "id": "65a816a3-1000-4bd8-b7d1-1ae25f8c0890",
   "metadata": {},
   "outputs": [
    {
     "data": {
      "text/plain": [
       "39"
      ]
     },
     "execution_count": 4,
     "metadata": {},
     "output_type": "execute_result"
    }
   ],
   "source": [
    "f.write(\"Default value. Opens a file for reading\")"
   ]
  },
  {
   "cell_type": "code",
   "execution_count": 5,
   "id": "5d23bb28-e306-4579-83ee-919adc6bd130",
   "metadata": {},
   "outputs": [],
   "source": [
    "f.close()"
   ]
  },
  {
   "cell_type": "code",
   "execution_count": 7,
   "id": "9f91f6e7-a5c8-4574-aac8-eeea5330c55e",
   "metadata": {},
   "outputs": [],
   "source": [
    "f1 = open(\"test_1.txt\", \"r\")"
   ]
  },
  {
   "cell_type": "code",
   "execution_count": 8,
   "id": "6dde18a1-582d-4168-bbae-86fdbe3ce9e2",
   "metadata": {},
   "outputs": [
    {
     "data": {
      "text/plain": [
       "'Default value. Opens a file for reading'"
      ]
     },
     "execution_count": 8,
     "metadata": {},
     "output_type": "execute_result"
    }
   ],
   "source": [
    "f1.read()"
   ]
  },
  {
   "cell_type": "code",
   "execution_count": 9,
   "id": "6ef0daad-2963-4b22-ab59-eab43135e610",
   "metadata": {},
   "outputs": [
    {
     "data": {
      "text/plain": [
       "''"
      ]
     },
     "execution_count": 9,
     "metadata": {},
     "output_type": "execute_result"
    }
   ],
   "source": [
    "f1.read()"
   ]
  },
  {
   "cell_type": "code",
   "execution_count": 10,
   "id": "99aef6b7-aeb3-4a31-8d42-7aae589785ef",
   "metadata": {},
   "outputs": [
    {
     "ename": "UnsupportedOperation",
     "evalue": "not writable",
     "output_type": "error",
     "traceback": [
      "\u001b[1;31m---------------------------------------------------------------------------\u001b[0m",
      "\u001b[1;31mUnsupportedOperation\u001b[0m                      Traceback (most recent call last)",
      "Cell \u001b[1;32mIn[10], line 1\u001b[0m\n\u001b[1;32m----> 1\u001b[0m f1\u001b[38;5;241m.\u001b[39mwrite(\u001b[38;5;124m\"\u001b[39m\u001b[38;5;124mOpens a file for reading\u001b[39m\u001b[38;5;124m\"\u001b[39m)\n",
      "\u001b[1;31mUnsupportedOperation\u001b[0m: not writable"
     ]
    }
   ],
   "source": [
    "f1.write(\"Opens a file for reading\")"
   ]
  },
  {
   "cell_type": "code",
   "execution_count": 11,
   "id": "80bb6eff-d8a2-4ad9-ab68-a09144c54d8b",
   "metadata": {},
   "outputs": [],
   "source": [
    "f1.close()"
   ]
  },
  {
   "cell_type": "code",
   "execution_count": 13,
   "id": "3910bf8e-def3-4a8f-bd95-1adf22e8b3df",
   "metadata": {},
   "outputs": [],
   "source": [
    "f2 = open(\"test_1.txt\", \"r+\")"
   ]
  },
  {
   "cell_type": "code",
   "execution_count": 14,
   "id": "919c286c-8308-487a-b164-99618d99a006",
   "metadata": {},
   "outputs": [
    {
     "data": {
      "text/plain": [
       "'Default value. Opens a file for reading'"
      ]
     },
     "execution_count": 14,
     "metadata": {},
     "output_type": "execute_result"
    }
   ],
   "source": [
    "f2.read()"
   ]
  },
  {
   "cell_type": "code",
   "execution_count": 15,
   "id": "e78ad658-8062-4110-8059-49a5444711ac",
   "metadata": {},
   "outputs": [
    {
     "data": {
      "text/plain": [
       "26"
      ]
     },
     "execution_count": 15,
     "metadata": {},
     "output_type": "execute_result"
    }
   ],
   "source": [
    "f2.write(\"Opens a file for appending\")"
   ]
  },
  {
   "cell_type": "code",
   "execution_count": 16,
   "id": "3e01b6f9-b2dc-42fa-a8c4-134b0688deb7",
   "metadata": {},
   "outputs": [
    {
     "data": {
      "text/plain": [
       "''"
      ]
     },
     "execution_count": 16,
     "metadata": {},
     "output_type": "execute_result"
    }
   ],
   "source": [
    "f2.read()"
   ]
  },
  {
   "cell_type": "code",
   "execution_count": 17,
   "id": "1a7bbb01-007c-4404-9234-c368ea3ec880",
   "metadata": {},
   "outputs": [],
   "source": [
    "f2.close()"
   ]
  },
  {
   "cell_type": "code",
   "execution_count": 19,
   "id": "20e65a4c-a827-4851-917c-f81d36b397d3",
   "metadata": {},
   "outputs": [],
   "source": [
    "f3 = open(\"test_1.txt\", \"w\")"
   ]
  },
  {
   "cell_type": "code",
   "execution_count": 20,
   "id": "e9bc467e-fffb-46b5-9381-12e32b04223c",
   "metadata": {},
   "outputs": [
    {
     "data": {
      "text/plain": [
       "66"
      ]
     },
     "execution_count": 20,
     "metadata": {},
     "output_type": "execute_result"
    }
   ],
   "source": [
    "f3.write(\"as it is likely to crash IPython. If you know what you are doing, \")"
   ]
  },
  {
   "cell_type": "code",
   "execution_count": 21,
   "id": "d9506a62-c693-4938-8bff-438154bf8a39",
   "metadata": {},
   "outputs": [],
   "source": [
    "f3.close()"
   ]
  },
  {
   "cell_type": "code",
   "execution_count": 23,
   "id": "f2dbe808-3f52-441e-9097-3836be8c7ef9",
   "metadata": {},
   "outputs": [],
   "source": [
    "f4 =open(\"test_1.txt\", \"a\")"
   ]
  },
  {
   "cell_type": "code",
   "execution_count": 24,
   "id": "37155696-f917-4ce3-a659-29870b6d2abd",
   "metadata": {},
   "outputs": [
    {
     "data": {
      "text/plain": [
       "7"
      ]
     },
     "execution_count": 24,
     "metadata": {},
     "output_type": "execute_result"
    }
   ],
   "source": [
    "f4.write(\" python\")"
   ]
  },
  {
   "cell_type": "code",
   "execution_count": 25,
   "id": "bbbbb5bc-c1ad-4994-97f4-0fca45a5810a",
   "metadata": {},
   "outputs": [],
   "source": [
    "f4.close()"
   ]
  },
  {
   "cell_type": "code",
   "execution_count": 27,
   "id": "57bececd-e21a-49c8-ae4c-7e9a671df639",
   "metadata": {},
   "outputs": [],
   "source": [
    "f5= open(\"test_1.txt\", \"r+\")"
   ]
  },
  {
   "cell_type": "code",
   "execution_count": null,
   "id": "52e7ed73-56d9-4bbc-a1ad-03ea5259c40f",
   "metadata": {},
   "outputs": [],
   "source": [
    "f5.seek(25)"
   ]
  },
  {
   "cell_type": "code",
   "execution_count": 28,
   "id": "0de973e7-070c-4e01-a46d-a5e6c8f6c23f",
   "metadata": {},
   "outputs": [
    {
     "data": {
      "text/plain": [
       "0"
      ]
     },
     "execution_count": 28,
     "metadata": {},
     "output_type": "execute_result"
    }
   ],
   "source": [
    "f5.tell()"
   ]
  },
  {
   "cell_type": "code",
   "execution_count": 29,
   "id": "7679a72a-a2dd-4bd4-943a-26dea6afa350",
   "metadata": {},
   "outputs": [
    {
     "data": {
      "text/plain": [
       "21"
      ]
     },
     "execution_count": 29,
     "metadata": {},
     "output_type": "execute_result"
    }
   ],
   "source": [
    "f5.write(\" UnsupportedOperation\")"
   ]
  },
  {
   "cell_type": "code",
   "execution_count": 30,
   "id": "4c9d4ae9-0e2b-4fc9-b788-0c3aa22ac2ee",
   "metadata": {},
   "outputs": [],
   "source": [
    "f5.close()"
   ]
  },
  {
   "cell_type": "code",
   "execution_count": 33,
   "id": "310d2515-4f0b-41e4-b94d-d731b96c6ece",
   "metadata": {},
   "outputs": [],
   "source": [
    "f6= open(\"text2.txt\", \"w\")"
   ]
  },
  {
   "cell_type": "code",
   "execution_count": 34,
   "id": "0d092e9e-87c0-4819-977b-eabb9acc0e76",
   "metadata": {},
   "outputs": [
    {
     "data": {
      "text/plain": [
       "95"
      ]
     },
     "execution_count": 34,
     "metadata": {},
     "output_type": "execute_result"
    }
   ],
   "source": [
    "f6.write(\" Read - Default value. Opens a file for reading,\\nit returns an error if the file does not exist\")"
   ]
  },
  {
   "cell_type": "code",
   "execution_count": 35,
   "id": "88bd22ef-de94-4814-b55b-c5fdddfb0f30",
   "metadata": {},
   "outputs": [],
   "source": [
    "f6.close()"
   ]
  },
  {
   "cell_type": "code",
   "execution_count": 37,
   "id": "9e01aa93-b26f-4173-8a79-c87aceb4d5b8",
   "metadata": {},
   "outputs": [],
   "source": [
    "f7 = open(\"text2.txt\", \"r\")"
   ]
  },
  {
   "cell_type": "code",
   "execution_count": 38,
   "id": "33b1f365-f61c-4797-92d2-a49df21f95c6",
   "metadata": {},
   "outputs": [
    {
     "data": {
      "text/plain": [
       "' Read - Default value. Opens a file for reading,\\n'"
      ]
     },
     "execution_count": 38,
     "metadata": {},
     "output_type": "execute_result"
    }
   ],
   "source": [
    "f7.readline()"
   ]
  },
  {
   "cell_type": "code",
   "execution_count": 39,
   "id": "7383464f-1ef8-479e-83cb-16fc0e585811",
   "metadata": {},
   "outputs": [
    {
     "data": {
      "text/plain": [
       "['it returns an error if the file does not exist']"
      ]
     },
     "execution_count": 39,
     "metadata": {},
     "output_type": "execute_result"
    }
   ],
   "source": [
    "f7.readlines()"
   ]
  },
  {
   "cell_type": "code",
   "execution_count": 40,
   "id": "27836d1a-0dd8-49ac-bfbc-32e59d18afc5",
   "metadata": {},
   "outputs": [
    {
     "data": {
      "text/plain": [
       "[]"
      ]
     },
     "execution_count": 40,
     "metadata": {},
     "output_type": "execute_result"
    }
   ],
   "source": [
    "f7.readlines()"
   ]
  },
  {
   "cell_type": "code",
   "execution_count": 41,
   "id": "8f7a0272-5166-4431-b05f-e38ec2cebb35",
   "metadata": {},
   "outputs": [],
   "source": [
    "f7.close()"
   ]
  },
  {
   "cell_type": "code",
   "execution_count": 44,
   "id": "11c2cd19-aa7f-4b37-8ae5-39948fe5a5e7",
   "metadata": {},
   "outputs": [
    {
     "name": "stdout",
     "output_type": "stream",
     "text": [
      "[' Read - Default value. Opens a file for reading,\\n', 'it returns an error if the file does not exist']\n"
     ]
    }
   ],
   "source": [
    "with open(\"text2.txt\") as f:\n",
    "    lines = f.readlines()\n",
    "    print(lines)"
   ]
  },
  {
   "cell_type": "code",
   "execution_count": 45,
   "id": "0d91ebac-5624-4325-afee-cd88412e39f9",
   "metadata": {},
   "outputs": [
    {
     "name": "stdout",
     "output_type": "stream",
     "text": [
      "Writing demo1.py\n"
     ]
    }
   ],
   "source": [
    "%%writefile demo1.py  \n",
    "my name is amit \n",
    "I am a data scinetist"
   ]
  },
  {
   "cell_type": "code",
   "execution_count": 46,
   "id": "fdc44f5c-b5ee-49ed-820c-3609fbfdaf73",
   "metadata": {},
   "outputs": [
    {
     "name": "stderr",
     "output_type": "stream",
     "text": [
      "UsageError: Cell magic `%%readfile` not found.\n"
     ]
    }
   ],
   "source": [
    "%%readfile demo1.py  \n",
    " "
   ]
  },
  {
   "cell_type": "code",
   "execution_count": null,
   "id": "0b3a3f71-80bf-4ef9-b0c2-e96151a74b32",
   "metadata": {},
   "outputs": [],
   "source": []
  },
  {
   "cell_type": "code",
   "execution_count": 1,
   "id": "3d266b10-4a4d-452f-8681-536fdff13dc1",
   "metadata": {},
   "outputs": [],
   "source": [
    "import os"
   ]
  },
  {
   "cell_type": "code",
   "execution_count": 49,
   "id": "e7d857b0-50d9-4dc0-a587-750ecaea7844",
   "metadata": {},
   "outputs": [
    {
     "data": {
      "text/plain": [
       "['.ipynb_checkpoints',\n",
       " 'demo1.py',\n",
       " 'logfile.txt',\n",
       " 'logfile1.log',\n",
       " 'test_1.txt',\n",
       " 'text2.txt',\n",
       " 'Untitled.ipynb',\n",
       " 'Untitled1.ipynb',\n",
       " 'Untitled2.ipynb',\n",
       " 'Untitled3.ipynb']"
      ]
     },
     "execution_count": 49,
     "metadata": {},
     "output_type": "execute_result"
    }
   ],
   "source": [
    "os.listdir()"
   ]
  },
  {
   "cell_type": "code",
   "execution_count": 50,
   "id": "91146324-5511-45bd-88da-d704646531d1",
   "metadata": {},
   "outputs": [],
   "source": [
    "os.chdir(\"C:\\\\Users\\\\amitm\\\\Downloads\")"
   ]
  },
  {
   "cell_type": "code",
   "execution_count": 51,
   "id": "280a93ee-8568-4d6f-a690-768f04ad317a",
   "metadata": {},
   "outputs": [
    {
     "data": {
      "text/plain": [
       "['19204037_BBA.pdf',\n",
       " '2577100 Summer Internship Project (SIP).pdf',\n",
       " '3RD SEM EXAM FORM.pdf',\n",
       " 'amit resume trainer.pdf',\n",
       " 'AMit.jpg',\n",
       " 'Apparato respiratorio polmoni di persone che fumano ai generativa _ Foto Premium.jpg',\n",
       " 'ass-5 mm-3.pdf',\n",
       " 'Assi-4 MM1.pdf',\n",
       " 'Assignment (1).pdf',\n",
       " 'Assignment-1 SM.pdf',\n",
       " 'Assignment-2 DM.pdf',\n",
       " 'Assignment-3 Foundation.pdf',\n",
       " 'Assignment.docx',\n",
       " 'Assignment.pdf',\n",
       " 'COS_Unilever_Project.pdf',\n",
       " 'Data Analyst_JD.pdf',\n",
       " 'delhivery logistic data Project.ipynb',\n",
       " 'desktop.ini',\n",
       " 'DevOps Mastery Course.pptx',\n",
       " 'devops-demo.pptx',\n",
       " 'Dr Vikash Mishra.png',\n",
       " 'emotion detection.ipynb',\n",
       " 'ETL-5.pdf',\n",
       " 'EXAM FORM blank.pdf',\n",
       " 'Exam Form Sem-lll.pdf',\n",
       " 'Full Stack Data Science.pdf',\n",
       " 'GitHub VS Code.txt',\n",
       " 'Job Description.pdf',\n",
       " 'MBA Assignment',\n",
       " 'Nilesh Resume DA.pdf',\n",
       " 'Pneumonia lungs disease, vector.jpg',\n",
       " 'Pulmonary Medicine Coronavirus Background, Lung, Disease, Care Background Image And Wallpaper for Free Download.jpg',\n",
       " 'Pune University',\n",
       " 'Rahul_Excel Project.pdf',\n",
       " 'sagar bawankule 1..pdf',\n",
       " 'sales_data_final.csv',\n",
       " 'Shipra-Kumari_-PGFC2041.pdf',\n",
       " 'SIP Project Report GS college.pdf',\n",
       " 'SIP Report - Chayan Sen, PGDM 2019-21 (1).pdf',\n",
       " 'SIP Report - Chayan Sen, PGDM 2019-21.pdf',\n",
       " 'SUMMER_INTERNSHIP_PROJECT_REPORT_ON_MARK.docx',\n",
       " 'Testimonial Illustration.jpg',\n",
       " 'Untitled design',\n",
       " 'Untitled design (1).mp4',\n",
       " 'VTU-Tracks Curriculum Final.xlsx',\n",
       " 'Website']"
      ]
     },
     "execution_count": 51,
     "metadata": {},
     "output_type": "execute_result"
    }
   ],
   "source": [
    "os.listdir()"
   ]
  },
  {
   "cell_type": "code",
   "execution_count": 52,
   "id": "4853c292-1173-4785-bcfb-25bba7cbb4be",
   "metadata": {},
   "outputs": [],
   "source": [
    "os.mkdir(\"newdir\")"
   ]
  },
  {
   "cell_type": "code",
   "execution_count": 53,
   "id": "2027580d-0f46-41d7-9499-3a338c0be97a",
   "metadata": {},
   "outputs": [
    {
     "data": {
      "text/plain": [
       "['19204037_BBA.pdf',\n",
       " '2577100 Summer Internship Project (SIP).pdf',\n",
       " '3RD SEM EXAM FORM.pdf',\n",
       " 'amit resume trainer.pdf',\n",
       " 'AMit.jpg',\n",
       " 'Apparato respiratorio polmoni di persone che fumano ai generativa _ Foto Premium.jpg',\n",
       " 'ass-5 mm-3.pdf',\n",
       " 'Assi-4 MM1.pdf',\n",
       " 'Assignment (1).pdf',\n",
       " 'Assignment-1 SM.pdf',\n",
       " 'Assignment-2 DM.pdf',\n",
       " 'Assignment-3 Foundation.pdf',\n",
       " 'Assignment.docx',\n",
       " 'Assignment.pdf',\n",
       " 'COS_Unilever_Project.pdf',\n",
       " 'Data Analyst_JD.pdf',\n",
       " 'delhivery logistic data Project.ipynb',\n",
       " 'desktop.ini',\n",
       " 'DevOps Mastery Course.pptx',\n",
       " 'devops-demo.pptx',\n",
       " 'Dr Vikash Mishra.png',\n",
       " 'emotion detection.ipynb',\n",
       " 'ETL-5.pdf',\n",
       " 'EXAM FORM blank.pdf',\n",
       " 'Exam Form Sem-lll.pdf',\n",
       " 'Full Stack Data Science.pdf',\n",
       " 'GitHub VS Code.txt',\n",
       " 'Job Description.pdf',\n",
       " 'MBA Assignment',\n",
       " 'newdir',\n",
       " 'Nilesh Resume DA.pdf',\n",
       " 'Pneumonia lungs disease, vector.jpg',\n",
       " 'Pulmonary Medicine Coronavirus Background, Lung, Disease, Care Background Image And Wallpaper for Free Download.jpg',\n",
       " 'Pune University',\n",
       " 'Rahul_Excel Project.pdf',\n",
       " 'sagar bawankule 1..pdf',\n",
       " 'sales_data_final.csv',\n",
       " 'Shipra-Kumari_-PGFC2041.pdf',\n",
       " 'SIP Project Report GS college.pdf',\n",
       " 'SIP Report - Chayan Sen, PGDM 2019-21 (1).pdf',\n",
       " 'SIP Report - Chayan Sen, PGDM 2019-21.pdf',\n",
       " 'SUMMER_INTERNSHIP_PROJECT_REPORT_ON_MARK.docx',\n",
       " 'Testimonial Illustration.jpg',\n",
       " 'Untitled design',\n",
       " 'Untitled design (1).mp4',\n",
       " 'VTU-Tracks Curriculum Final.xlsx',\n",
       " 'Website']"
      ]
     },
     "execution_count": 53,
     "metadata": {},
     "output_type": "execute_result"
    }
   ],
   "source": [
    "os.listdir()"
   ]
  },
  {
   "cell_type": "code",
   "execution_count": 54,
   "id": "6c4b8f2d-d5b0-4c00-a0dd-ebd1c1bc15ad",
   "metadata": {},
   "outputs": [],
   "source": [
    "os.chdir(\"C:\\\\Users\\\\amitm\\\\Downloads\\\\newdir\")"
   ]
  },
  {
   "cell_type": "code",
   "execution_count": 55,
   "id": "8c654855-6509-4d57-8cff-f34233b5f83b",
   "metadata": {},
   "outputs": [
    {
     "data": {
      "text/plain": [
       "[]"
      ]
     },
     "execution_count": 55,
     "metadata": {},
     "output_type": "execute_result"
    }
   ],
   "source": [
    "os.listdir()"
   ]
  },
  {
   "cell_type": "code",
   "execution_count": 56,
   "id": "41755a74-fe34-4cbf-ba14-f38d89d937ac",
   "metadata": {},
   "outputs": [
    {
     "data": {
      "text/plain": [
       "'C:\\\\Users\\\\amitm\\\\Downloads\\\\newdir'"
      ]
     },
     "execution_count": 56,
     "metadata": {},
     "output_type": "execute_result"
    }
   ],
   "source": [
    "os.getcwd()"
   ]
  },
  {
   "cell_type": "code",
   "execution_count": 57,
   "id": "443f83b6-40cf-43eb-87ec-0c60850b37f6",
   "metadata": {},
   "outputs": [
    {
     "name": "stdout",
     "output_type": "stream",
     "text": [
      "Writing new.txt\n"
     ]
    }
   ],
   "source": [
    "%%writefile \"new.txt\"\n",
    "hello....."
   ]
  },
  {
   "cell_type": "code",
   "execution_count": 58,
   "id": "cf291834-1d0b-47d3-a7df-414b2f958b09",
   "metadata": {},
   "outputs": [
    {
     "data": {
      "text/plain": [
       "['new.txt']"
      ]
     },
     "execution_count": 58,
     "metadata": {},
     "output_type": "execute_result"
    }
   ],
   "source": [
    "os.listdir()"
   ]
  },
  {
   "cell_type": "code",
   "execution_count": 60,
   "id": "cd5bda33-8ca5-4177-8652-a3047c431b69",
   "metadata": {},
   "outputs": [],
   "source": [
    "f8 = open(\"new.txt\", \"r\")"
   ]
  },
  {
   "cell_type": "code",
   "execution_count": 61,
   "id": "f1cc947d-20d9-4634-8e6c-a0dd4e899fd6",
   "metadata": {},
   "outputs": [
    {
     "data": {
      "text/plain": [
       "'hello.....\\n\\nhello.....\\n\\n'"
      ]
     },
     "execution_count": 61,
     "metadata": {},
     "output_type": "execute_result"
    }
   ],
   "source": [
    "f8.read()"
   ]
  },
  {
   "cell_type": "code",
   "execution_count": 62,
   "id": "d77c29d7-798e-4b03-88ba-7b68ae662e92",
   "metadata": {},
   "outputs": [],
   "source": [
    "f8.close()"
   ]
  },
  {
   "cell_type": "code",
   "execution_count": 63,
   "id": "16ff4a29-e207-41ba-94fb-5f0f3a4e0525",
   "metadata": {},
   "outputs": [
    {
     "ename": "PermissionError",
     "evalue": "[WinError 32] The process cannot access the file because it is being used by another process: 'new.txt'",
     "output_type": "error",
     "traceback": [
      "\u001b[1;31m---------------------------------------------------------------------------\u001b[0m",
      "\u001b[1;31mPermissionError\u001b[0m                           Traceback (most recent call last)",
      "Cell \u001b[1;32mIn[63], line 1\u001b[0m\n\u001b[1;32m----> 1\u001b[0m os\u001b[38;5;241m.\u001b[39mremove(\u001b[38;5;124m\"\u001b[39m\u001b[38;5;124mnew.txt\u001b[39m\u001b[38;5;124m\"\u001b[39m)\n",
      "\u001b[1;31mPermissionError\u001b[0m: [WinError 32] The process cannot access the file because it is being used by another process: 'new.txt'"
     ]
    }
   ],
   "source": [
    "os.remove(\"new.txt\")"
   ]
  },
  {
   "cell_type": "code",
   "execution_count": 2,
   "id": "7debfc08-8184-4175-a2da-4620d13577ac",
   "metadata": {},
   "outputs": [
    {
     "data": {
      "text/plain": [
       "'C:\\\\Users\\\\amitm\\\\Class\\\\11_AM_April'"
      ]
     },
     "execution_count": 2,
     "metadata": {},
     "output_type": "execute_result"
    }
   ],
   "source": [
    "os.getcwd()"
   ]
  },
  {
   "cell_type": "code",
   "execution_count": 3,
   "id": "d1fd5673-8aaa-4774-87a0-afdf9512b3a8",
   "metadata": {},
   "outputs": [],
   "source": [
    "os.chdir('C:\\\\Users\\\\amitm\\\\Downloads\\\\newdir')"
   ]
  },
  {
   "cell_type": "code",
   "execution_count": 4,
   "id": "1389e834-abed-42d0-93cb-b1089cbf1e4a",
   "metadata": {},
   "outputs": [
    {
     "data": {
      "text/plain": [
       "'C:\\\\Users\\\\amitm\\\\Downloads\\\\newdir'"
      ]
     },
     "execution_count": 4,
     "metadata": {},
     "output_type": "execute_result"
    }
   ],
   "source": [
    "os.getcwd()"
   ]
  },
  {
   "cell_type": "code",
   "execution_count": 5,
   "id": "5a6ad0d4-ee82-4325-ad16-24dde62aba37",
   "metadata": {},
   "outputs": [],
   "source": [
    "os.remove(\"new.txt\")"
   ]
  },
  {
   "cell_type": "code",
   "execution_count": 6,
   "id": "87ef6213-a87c-4962-8b98-b02b56d2295c",
   "metadata": {},
   "outputs": [
    {
     "data": {
      "text/plain": [
       "[]"
      ]
     },
     "execution_count": 6,
     "metadata": {},
     "output_type": "execute_result"
    }
   ],
   "source": [
    "os.listdir()"
   ]
  },
  {
   "cell_type": "code",
   "execution_count": 7,
   "id": "93cec352-858f-4660-9457-cb129995e65a",
   "metadata": {},
   "outputs": [],
   "source": [
    "os.chdir('C:\\\\Users\\\\amitm\\\\Downloads')"
   ]
  },
  {
   "cell_type": "code",
   "execution_count": 8,
   "id": "7e4d2900-abd3-4952-88f7-e1fe7f7c3d64",
   "metadata": {},
   "outputs": [],
   "source": [
    "os.removedirs(\"newdir\")"
   ]
  },
  {
   "cell_type": "code",
   "execution_count": 9,
   "id": "d2640dc7-5719-453a-9109-29a907b37894",
   "metadata": {},
   "outputs": [
    {
     "data": {
      "text/plain": [
       "['19204037_BBA.pdf',\n",
       " '2577100 Summer Internship Project (SIP).pdf',\n",
       " '3RD SEM EXAM FORM.pdf',\n",
       " 'amit resume trainer.pdf',\n",
       " 'AMit.jpg',\n",
       " 'Apparato respiratorio polmoni di persone che fumano ai generativa _ Foto Premium.jpg',\n",
       " 'ass-5 mm-3.pdf',\n",
       " 'Assi-4 MM1.pdf',\n",
       " 'Assignment (1).pdf',\n",
       " 'Assignment-1 SM.pdf',\n",
       " 'Assignment-2 DM.pdf',\n",
       " 'Assignment-3 Foundation.pdf',\n",
       " 'Assignment.docx',\n",
       " 'Assignment.pdf',\n",
       " 'COS_Unilever_Project.pdf',\n",
       " 'Data Analyst_JD.pdf',\n",
       " 'delhivery logistic data Project.ipynb',\n",
       " 'desktop.ini',\n",
       " 'DevOps Mastery Course.pptx',\n",
       " 'devops-demo.pptx',\n",
       " 'Dr Vikash Mishra.png',\n",
       " 'emotion detection.ipynb',\n",
       " 'ETL-5.pdf',\n",
       " 'EXAM FORM blank.pdf',\n",
       " 'Exam Form Sem-lll.pdf',\n",
       " 'Full Stack Data Science.pdf',\n",
       " 'GitHub VS Code.txt',\n",
       " 'Job Description.pdf',\n",
       " 'MBA Assignment',\n",
       " 'Nilesh Resume DA.pdf',\n",
       " 'Pneumonia lungs disease, vector.jpg',\n",
       " 'Pulmonary Medicine Coronavirus Background, Lung, Disease, Care Background Image And Wallpaper for Free Download.jpg',\n",
       " 'Pune University',\n",
       " 'Rahul_Excel Project.pdf',\n",
       " 'sagar bawankule 1..pdf',\n",
       " 'sales_data_final.csv',\n",
       " 'Shipra-Kumari_-PGFC2041.pdf',\n",
       " 'SIP Project Report GS college.pdf',\n",
       " 'SIP Report - Chayan Sen, PGDM 2019-21 (1).pdf',\n",
       " 'SIP Report - Chayan Sen, PGDM 2019-21.pdf',\n",
       " 'SUMMER_INTERNSHIP_PROJECT_REPORT_ON_MARK.docx',\n",
       " 'Testimonial Illustration.jpg',\n",
       " 'Untitled design',\n",
       " 'Untitled design (1).mp4',\n",
       " 'VTU-Tracks Curriculum Final.xlsx',\n",
       " 'Website']"
      ]
     },
     "execution_count": 9,
     "metadata": {},
     "output_type": "execute_result"
    }
   ],
   "source": [
    "os.listdir()"
   ]
  },
  {
   "cell_type": "code",
   "execution_count": 10,
   "id": "64c6d898-73da-491e-bedc-7ddb84d82c7b",
   "metadata": {},
   "outputs": [],
   "source": [
    "os.chdir('C:\\\\Users\\\\amitm\\\\Class\\\\11_AM_April')"
   ]
  },
  {
   "cell_type": "code",
   "execution_count": 11,
   "id": "c0392390-023f-460e-a05b-056d4bac5eec",
   "metadata": {},
   "outputs": [
    {
     "data": {
      "text/plain": [
       "['.ipynb_checkpoints',\n",
       " 'demo1.py',\n",
       " 'logfile.txt',\n",
       " 'logfile1.log',\n",
       " 'test_1.txt',\n",
       " 'text2.txt',\n",
       " 'Untitled.ipynb',\n",
       " 'Untitled1.ipynb',\n",
       " 'Untitled2.ipynb',\n",
       " 'Untitled3.ipynb']"
      ]
     },
     "execution_count": 11,
     "metadata": {},
     "output_type": "execute_result"
    }
   ],
   "source": [
    "os.listdir()"
   ]
  },
  {
   "cell_type": "code",
   "execution_count": 12,
   "id": "963bc63e-7bf7-4d2f-ac3f-10bbe6ce0a2a",
   "metadata": {},
   "outputs": [
    {
     "name": "stdout",
     "output_type": "stream",
     "text": [
      ".ipynb_checkpoints\n",
      "demo1.py\n",
      "logfile.txt\n",
      "logfile1.log\n",
      "test_1.txt\n",
      "text2.txt\n",
      "Untitled.ipynb\n",
      "Untitled1.ipynb\n",
      "Untitled2.ipynb\n",
      "Untitled3.ipynb\n"
     ]
    }
   ],
   "source": [
    "for file in os.listdir():\n",
    "    print(file)"
   ]
  },
  {
   "cell_type": "code",
   "execution_count": 13,
   "id": "e8442f20-4113-4246-a9dc-4ba395e5bf3b",
   "metadata": {},
   "outputs": [
    {
     "name": "stdout",
     "output_type": "stream",
     "text": [
      " Read - Default value. Opens a file for reading,\n",
      "it returns an error if the file does not exist\n"
     ]
    }
   ],
   "source": [
    "for file in os.listdir():\n",
    "    if file == \"text2.txt\":\n",
    "        with open(file) as f:\n",
    "            line = f.read()\n",
    "            print(line)\n",
    "            f.close()"
   ]
  },
  {
   "cell_type": "code",
   "execution_count": 14,
   "id": "81fca194-bbb4-44fa-8bf8-b5ec366df383",
   "metadata": {},
   "outputs": [],
   "source": [
    "import math"
   ]
  },
  {
   "cell_type": "code",
   "execution_count": 15,
   "id": "221a6100-2869-4583-97a2-d53c3d49bbe0",
   "metadata": {},
   "outputs": [
    {
     "data": {
      "text/plain": [
       "3.141592653589793"
      ]
     },
     "execution_count": 15,
     "metadata": {},
     "output_type": "execute_result"
    }
   ],
   "source": [
    "math.pi"
   ]
  },
  {
   "cell_type": "code",
   "execution_count": 16,
   "id": "cb5e966b-c638-41e2-8b3c-3b41b3aa916f",
   "metadata": {},
   "outputs": [
    {
     "data": {
      "text/plain": [
       "120"
      ]
     },
     "execution_count": 16,
     "metadata": {},
     "output_type": "execute_result"
    }
   ],
   "source": [
    "math.lcm(20,30,40)"
   ]
  },
  {
   "cell_type": "code",
   "execution_count": 17,
   "id": "a6bf1b57-80cd-4c95-8f5a-2c29a3f7ee82",
   "metadata": {},
   "outputs": [
    {
     "data": {
      "text/plain": [
       "0.6981317007977318"
      ]
     },
     "execution_count": 17,
     "metadata": {},
     "output_type": "execute_result"
    }
   ],
   "source": [
    "math.radians(40)"
   ]
  },
  {
   "cell_type": "code",
   "execution_count": 18,
   "id": "0710b1c7-01f4-4f2d-acff-b4d318e30faf",
   "metadata": {},
   "outputs": [
    {
     "data": {
      "text/plain": [
       "5040"
      ]
     },
     "execution_count": 18,
     "metadata": {},
     "output_type": "execute_result"
    }
   ],
   "source": [
    "math.factorial(7)"
   ]
  },
  {
   "cell_type": "code",
   "execution_count": 21,
   "id": "df94ed44-b347-4d32-9f44-f77917568ba9",
   "metadata": {},
   "outputs": [
    {
     "data": {
      "text/plain": [
       "6"
      ]
     },
     "execution_count": 21,
     "metadata": {},
     "output_type": "execute_result"
    }
   ],
   "source": [
    "math.comb(4, 2)"
   ]
  },
  {
   "cell_type": "code",
   "execution_count": 23,
   "id": "32da9271-9a16-426b-bae0-dc1df44e8017",
   "metadata": {},
   "outputs": [],
   "source": [
    "import statistics as st"
   ]
  },
  {
   "cell_type": "code",
   "execution_count": 24,
   "id": "5535c184-8e6d-4e9c-82ab-572bdbd26ac8",
   "metadata": {},
   "outputs": [],
   "source": [
    "import datetime"
   ]
  },
  {
   "cell_type": "code",
   "execution_count": 25,
   "id": "0df53308-bbcb-42a7-b4a0-08c1abc0d5e8",
   "metadata": {},
   "outputs": [],
   "source": [
    "import scipy"
   ]
  },
  {
   "cell_type": "code",
   "execution_count": 28,
   "id": "51e89d55-4d5c-466e-85a9-732b3fdbb340",
   "metadata": {},
   "outputs": [],
   "source": [
    "import json"
   ]
  },
  {
   "cell_type": "code",
   "execution_count": 29,
   "id": "9b699385-222d-4a3b-9918-87494524ca4c",
   "metadata": {},
   "outputs": [],
   "source": [
    "import re"
   ]
  },
  {
   "cell_type": "code",
   "execution_count": null,
   "id": "7441a1af-6b6a-45a1-bee8-49714a4470eb",
   "metadata": {},
   "outputs": [],
   "source": []
  }
 ],
 "metadata": {
  "kernelspec": {
   "display_name": "Python 3 (ipykernel)",
   "language": "python",
   "name": "python3"
  },
  "language_info": {
   "codemirror_mode": {
    "name": "ipython",
    "version": 3
   },
   "file_extension": ".py",
   "mimetype": "text/x-python",
   "name": "python",
   "nbconvert_exporter": "python",
   "pygments_lexer": "ipython3",
   "version": "3.11.7"
  }
 },
 "nbformat": 4,
 "nbformat_minor": 5
}
